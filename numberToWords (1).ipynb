{
  "nbformat": 4,
  "nbformat_minor": 0,
  "metadata": {
    "colab": {
      "provenance": []
    },
    "kernelspec": {
      "name": "python3",
      "display_name": "Python 3"
    },
    "language_info": {
      "name": "python"
    }
  },
  "cells": [
    {
      "cell_type": "code",
      "execution_count": null,
      "metadata": {
        "id": "kQjWvHzXch44",
        "colab": {
          "base_uri": "https://localhost:8080/"
        },
        "outputId": "d2501bef-d495-4ef1-bd7d-671e37c016d1"
      },
      "outputs": [
        {
          "output_type": "stream",
          "name": "stdout",
          "text": [
            "5\n",
            "12\n",
            "24\n"
          ]
        }
      ],
      "source": [
        "class Solution(object):\n",
        "    def numberToWords(self, num):\n",
        "        if num == 0:\n",
        "            return \"Zero\"\n",
        "\n",
        "        below_20 = [\"\", \"One\", \"Two\", \"Three\", \"Four\", \"Five\", \"Six\", \"Seven\", \"Eight\", \"Nine\", \"Ten\",\n",
        "                    \"Eleven\", \"Twelve\", \"Thirteen\", \"Fourteen\", \"Fifteen\", \"Sixteen\", \"Seventeen\",\n",
        "                    \"Eighteen\", \"Nineteen\"]\n",
        "        tens = [\"\", \"\", \"Twenty\", \"Thirty\", \"Forty\", \"Fifty\", \"Sixty\", \"Seventy\", \"Eighty\", \"Ninety\"]\n",
        "        thousands = [\"\", \"Thousand\", \"Million\", \"Billion\"]\n",
        "\n",
        "        def helper(num):\n",
        "            if num == 0:\n",
        "                return \"\"\n",
        "            elif num < 20:\n",
        "                return below_20[num] + \" \"\n",
        "            elif num < 100:\n",
        "                return tens[num // 10] + \" \" + helper(num % 10)\n",
        "            else:\n",
        "                return below_20[num // 100] + \" Hundred \" + helper(num % 100)\n",
        "\n",
        "        result = \"\"\n",
        "        for i, unit in enumerate(thousands):\n",
        "            if num % 1000 != 0:\n",
        "                result = helper(num % 1000) + unit + \" \" + result\n",
        "            num //= 1000\n",
        "\n",
        "        return result.strip()\n",
        "\n",
        "solution = Solution()\n",
        "print(solution.numberToWords(123))\n"
      ]
    },
    {
      "cell_type": "code",
      "source": [],
      "metadata": {
        "id": "FsWd_sONMEhw",
        "outputId": "c94d3430-ac5a-4336-d4ac-de2f5ea65a69",
        "colab": {
          "base_uri": "https://localhost:8080/"
        }
      },
      "execution_count": null,
      "outputs": [
        {
          "output_type": "stream",
          "name": "stdout",
          "text": [
            "6\n",
            "6\n"
          ]
        }
      ]
    }
  ]
}