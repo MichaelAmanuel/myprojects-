{
 "cells": [
  {
   "cell_type": "code",
   "execution_count": 2,
   "id": "23fb8aca",
   "metadata": {},
   "outputs": [],
   "source": [
    "person = 'Michael'"
   ]
  },
  {
   "cell_type": "code",
   "execution_count": 3,
   "id": "a2a3c9ea",
   "metadata": {},
   "outputs": [
    {
     "name": "stdout",
     "output_type": "stream",
     "text": [
      "My name is Michael\n"
     ]
    }
   ],
   "source": [
    "print('My name is {}'.format(person))"
   ]
  },
  {
   "cell_type": "code",
   "execution_count": 4,
   "id": "715656d6",
   "metadata": {},
   "outputs": [
    {
     "name": "stdout",
     "output_type": "stream",
     "text": [
      "My name is Michael\n"
     ]
    }
   ],
   "source": [
    "print(f\"My name is {person}\")"
   ]
  },
  {
   "cell_type": "code",
   "execution_count": 5,
   "id": "84f24ae5",
   "metadata": {},
   "outputs": [],
   "source": [
    "d = {'a':123, 'b':456}"
   ]
  },
  {
   "cell_type": "code",
   "execution_count": 6,
   "id": "b38dd58d",
   "metadata": {},
   "outputs": [
    {
     "name": "stdout",
     "output_type": "stream",
     "text": [
      "My number is 123\n"
     ]
    }
   ],
   "source": [
    "print(f\"My number is {d['a']}\")"
   ]
  },
  {
   "cell_type": "code",
   "execution_count": 7,
   "id": "a687f5c7",
   "metadata": {},
   "outputs": [],
   "source": [
    "mylist = [1, 2, 3]"
   ]
  },
  {
   "cell_type": "code",
   "execution_count": 9,
   "id": "21c170dd",
   "metadata": {},
   "outputs": [
    {
     "name": "stdout",
     "output_type": "stream",
     "text": [
      "My number is 1.\n"
     ]
    }
   ],
   "source": [
    "print(f\"My number is {mylist[0]}.\")"
   ]
  },
  {
   "cell_type": "code",
   "execution_count": 10,
   "id": "d65fd722",
   "metadata": {},
   "outputs": [],
   "source": [
    "library = [('Author', 'Topic', 'Pages'), ('Twain', 'Rafting', 601), ('Feynman', 'Physics', 95), ('Hamilton', 'Mythology', 144)]"
   ]
  },
  {
   "cell_type": "code",
   "execution_count": 11,
   "id": "6410aacb",
   "metadata": {},
   "outputs": [
    {
     "data": {
      "text/plain": [
       "[('Author', 'Topic', 'Pages'),\n",
       " ('Twain', 'Rafting', 601),\n",
       " ('Feynman', 'Physics', 95),\n",
       " ('Hamilton', 'Mythology', 144)]"
      ]
     },
     "execution_count": 11,
     "metadata": {},
     "output_type": "execute_result"
    }
   ],
   "source": [
    "library"
   ]
  },
  {
   "cell_type": "code",
   "execution_count": 16,
   "id": "629d9a5e",
   "metadata": {},
   "outputs": [
    {
     "name": "stdout",
     "output_type": "stream",
     "text": [
      "Author is Author\n",
      "Author is Twain\n",
      "Author is Feynman\n",
      "Author is Hamilton\n"
     ]
    }
   ],
   "source": [
    "for book in library:\n",
    "    print(f\"Author is {book[0]}\")"
   ]
  },
  {
   "cell_type": "code",
   "execution_count": 19,
   "id": "d813cb01",
   "metadata": {},
   "outputs": [
    {
     "name": "stdout",
     "output_type": "stream",
     "text": [
      "Author is Author\n",
      "Author is Twain\n",
      "Author is Feynman\n",
      "Author is Hamilton\n"
     ]
    }
   ],
   "source": [
    "for author, topic, pages in library:\n",
    "    print(f\"Author is {author}\")"
   ]
  },
  {
   "cell_type": "code",
   "execution_count": 21,
   "id": "cd0c7502",
   "metadata": {},
   "outputs": [
    {
     "name": "stdout",
     "output_type": "stream",
     "text": [
      "Author Topic Pages\n",
      "Twain Rafting 601\n",
      "Feynman Physics 95\n",
      "Hamilton Mythology 144\n"
     ]
    }
   ],
   "source": [
    "for author, topic, pages in library:\n",
    "    print(f\"{author} {topic} {pages}\")"
   ]
  },
  {
   "cell_type": "code",
   "execution_count": 22,
   "id": "1f8ce760",
   "metadata": {},
   "outputs": [
    {
     "name": "stdout",
     "output_type": "stream",
     "text": [
      "Author     Topic      Pages     \n",
      "Twain      Rafting           601\n",
      "Feynman    Physics            95\n",
      "Hamilton   Mythology         144\n"
     ]
    }
   ],
   "source": [
    "for author, topic, pages in library:\n",
    "    print(f\"{author:{10}} {topic:{10}} {pages:{10}}\")"
   ]
  },
  {
   "cell_type": "code",
   "execution_count": 23,
   "id": "54e809fe",
   "metadata": {},
   "outputs": [
    {
     "name": "stdout",
     "output_type": "stream",
     "text": [
      "Author     Topic           Pages\n",
      "Twain      Rafting           601\n",
      "Feynman    Physics            95\n",
      "Hamilton   Mythology         144\n"
     ]
    }
   ],
   "source": [
    "for author, topic, pages in library:\n",
    "    print(f\"{author:{10}} {topic:{10}} {pages:>{10}}\")"
   ]
  },
  {
   "cell_type": "code",
   "execution_count": 25,
   "id": "43be7826",
   "metadata": {},
   "outputs": [
    {
     "name": "stdout",
     "output_type": "stream",
     "text": [
      "Author     Topic      .....Pages\n",
      "Twain      Rafting    .......601\n",
      "Feynman    Physics    ........95\n",
      "Hamilton   Mythology  .......144\n"
     ]
    }
   ],
   "source": [
    "for author, topic, pages in library:\n",
    "    print(f\"{author:{10}} {topic:{10}} {pages:.>{10}}\")"
   ]
  },
  {
   "cell_type": "code",
   "execution_count": 28,
   "id": "81283b7d",
   "metadata": {},
   "outputs": [],
   "source": [
    "from datetime import datetime"
   ]
  },
  {
   "cell_type": "code",
   "execution_count": 29,
   "id": "79fc2ba6",
   "metadata": {},
   "outputs": [],
   "source": [
    "today = datetime(year=2019, month=2, day=28)"
   ]
  },
  {
   "cell_type": "code",
   "execution_count": 30,
   "id": "cd003278",
   "metadata": {},
   "outputs": [
    {
     "name": "stdout",
     "output_type": "stream",
     "text": [
      "2019-02-28 00:00:00\n"
     ]
    }
   ],
   "source": [
    "print(f\"{today}\")"
   ]
  },
  {
   "cell_type": "code",
   "execution_count": 31,
   "id": "c9454e04",
   "metadata": {},
   "outputs": [
    {
     "name": "stdout",
     "output_type": "stream",
     "text": [
      "February\n"
     ]
    }
   ],
   "source": [
    "print(f\"{today:%B}\")"
   ]
  },
  {
   "cell_type": "code",
   "execution_count": 32,
   "id": "f97be6b2",
   "metadata": {},
   "outputs": [
    {
     "name": "stdout",
     "output_type": "stream",
     "text": [
      "February 28, 2019\n"
     ]
    }
   ],
   "source": [
    "print(f\"{today:%B %d, %Y}\")"
   ]
  },
  {
   "cell_type": "code",
   "execution_count": 36,
   "id": "d47ab413",
   "metadata": {},
   "outputs": [
    {
     "name": "stdout",
     "output_type": "stream",
     "text": [
      "Overwriting test.txt\n"
     ]
    }
   ],
   "source": [
    "%%writefile test.txt\n",
    "Hello, this is a quick test file.\n",
    "This is the second line of the file."
   ]
  },
  {
   "cell_type": "code",
   "execution_count": 37,
   "id": "c0ca4006",
   "metadata": {},
   "outputs": [
    {
     "data": {
      "text/plain": [
       "'C:\\\\Users\\\\DELL\\\\OneDrive\\\\Desktop\\\\NLP_Course'"
      ]
     },
     "execution_count": 37,
     "metadata": {},
     "output_type": "execute_result"
    }
   ],
   "source": [
    "pwd"
   ]
  },
  {
   "cell_type": "code",
   "execution_count": 38,
   "id": "85f0c921",
   "metadata": {},
   "outputs": [],
   "source": [
    "myfile = open(\"test.txt\")"
   ]
  },
  {
   "cell_type": "code",
   "execution_count": 39,
   "id": "082053de",
   "metadata": {},
   "outputs": [
    {
     "data": {
      "text/plain": [
       "<_io.TextIOWrapper name='test.txt' mode='r' encoding='cp1252'>"
      ]
     },
     "execution_count": 39,
     "metadata": {},
     "output_type": "execute_result"
    }
   ],
   "source": [
    "myfile"
   ]
  },
  {
   "cell_type": "code",
   "execution_count": 40,
   "id": "1f0a9565",
   "metadata": {},
   "outputs": [
    {
     "data": {
      "text/plain": [
       "'Hello, this is a quick test file.\\nThis is the second line of the file.\\n'"
      ]
     },
     "execution_count": 40,
     "metadata": {},
     "output_type": "execute_result"
    }
   ],
   "source": [
    "myfile.read()"
   ]
  },
  {
   "cell_type": "code",
   "execution_count": 41,
   "id": "0af60842",
   "metadata": {},
   "outputs": [
    {
     "data": {
      "text/plain": [
       "''"
      ]
     },
     "execution_count": 41,
     "metadata": {},
     "output_type": "execute_result"
    }
   ],
   "source": [
    "myfile.read()"
   ]
  },
  {
   "cell_type": "code",
   "execution_count": 42,
   "id": "fbe98bfd",
   "metadata": {},
   "outputs": [
    {
     "data": {
      "text/plain": [
       "0"
      ]
     },
     "execution_count": 42,
     "metadata": {},
     "output_type": "execute_result"
    }
   ],
   "source": [
    "myfile.seek(0)"
   ]
  },
  {
   "cell_type": "code",
   "execution_count": 43,
   "id": "cbd9427a",
   "metadata": {},
   "outputs": [
    {
     "data": {
      "text/plain": [
       "'Hello, this is a quick test file.\\nThis is the second line of the file.\\n'"
      ]
     },
     "execution_count": 43,
     "metadata": {},
     "output_type": "execute_result"
    }
   ],
   "source": [
    "myfile.read()"
   ]
  },
  {
   "cell_type": "code",
   "execution_count": 44,
   "id": "778e60ea",
   "metadata": {},
   "outputs": [
    {
     "data": {
      "text/plain": [
       "0"
      ]
     },
     "execution_count": 44,
     "metadata": {},
     "output_type": "execute_result"
    }
   ],
   "source": [
    "myfile.seek(0)"
   ]
  },
  {
   "cell_type": "code",
   "execution_count": 45,
   "id": "72834fcc",
   "metadata": {},
   "outputs": [],
   "source": [
    "content = myfile.read()"
   ]
  },
  {
   "cell_type": "code",
   "execution_count": 46,
   "id": "7d311dc4",
   "metadata": {},
   "outputs": [
    {
     "data": {
      "text/plain": [
       "'Hello, this is a quick test file.\\nThis is the second line of the file.\\n'"
      ]
     },
     "execution_count": 46,
     "metadata": {},
     "output_type": "execute_result"
    }
   ],
   "source": [
    "content"
   ]
  },
  {
   "cell_type": "code",
   "execution_count": 47,
   "id": "2e5ac8d3",
   "metadata": {},
   "outputs": [
    {
     "name": "stdout",
     "output_type": "stream",
     "text": [
      "Hello, this is a quick test file.\n",
      "This is the second line of the file.\n",
      "\n"
     ]
    }
   ],
   "source": [
    "print(content)"
   ]
  },
  {
   "cell_type": "code",
   "execution_count": 48,
   "id": "961c669a",
   "metadata": {},
   "outputs": [
    {
     "data": {
      "text/plain": [
       "'Hello, this is a quick test file.\\nThis is the second line of the file.\\n'"
      ]
     },
     "execution_count": 48,
     "metadata": {},
     "output_type": "execute_result"
    }
   ],
   "source": [
    "content"
   ]
  },
  {
   "cell_type": "code",
   "execution_count": 49,
   "id": "da5d090a",
   "metadata": {},
   "outputs": [
    {
     "name": "stdout",
     "output_type": "stream",
     "text": [
      "Writing mike.txt\n"
     ]
    }
   ],
   "source": [
    "%%writefile mike.txt\n",
    "A good topic sentence is specific enough to give a clear sense of what to expect from the paragraph, but general enough that it doesn’t give everything away. You can think of it like a signpost: it should tell the reader which direction your argument is going in."
   ]
  },
  {
   "cell_type": "code",
   "execution_count": 50,
   "id": "3d725215",
   "metadata": {},
   "outputs": [],
   "source": [
    "mikefile = open(\"mike.txt\")"
   ]
  },
  {
   "cell_type": "code",
   "execution_count": 51,
   "id": "7e78221f",
   "metadata": {},
   "outputs": [
    {
     "data": {
      "text/plain": [
       "<_io.TextIOWrapper name='mike.txt' mode='r' encoding='cp1252'>"
      ]
     },
     "execution_count": 51,
     "metadata": {},
     "output_type": "execute_result"
    }
   ],
   "source": [
    "mikefile"
   ]
  },
  {
   "cell_type": "code",
   "execution_count": 52,
   "id": "d1fa22b0",
   "metadata": {},
   "outputs": [
    {
     "data": {
      "text/plain": [
       "'A good topic sentence is specific enough to give a clear sense of what to expect from the paragraph, but general enough that it doesnâ€™t give everything away. You can think of it like a signpost: it should tell the reader which direction your argument is going in.\\n'"
      ]
     },
     "execution_count": 52,
     "metadata": {},
     "output_type": "execute_result"
    }
   ],
   "source": [
    "mikefile.read()"
   ]
  },
  {
   "cell_type": "code",
   "execution_count": 53,
   "id": "88262318",
   "metadata": {},
   "outputs": [
    {
     "data": {
      "text/plain": [
       "''"
      ]
     },
     "execution_count": 53,
     "metadata": {},
     "output_type": "execute_result"
    }
   ],
   "source": [
    "mikefile.read()"
   ]
  },
  {
   "cell_type": "code",
   "execution_count": 54,
   "id": "e21ced16",
   "metadata": {},
   "outputs": [
    {
     "data": {
      "text/plain": [
       "0"
      ]
     },
     "execution_count": 54,
     "metadata": {},
     "output_type": "execute_result"
    }
   ],
   "source": [
    "mikefile.seek(0)"
   ]
  },
  {
   "cell_type": "code",
   "execution_count": 55,
   "id": "b6deb056",
   "metadata": {},
   "outputs": [
    {
     "data": {
      "text/plain": [
       "'A good topic sentence is specific enough to give a clear sense of what to expect from the paragraph, but general enough that it doesnâ€™t give everything away. You can think of it like a signpost: it should tell the reader which direction your argument is going in.\\n'"
      ]
     },
     "execution_count": 55,
     "metadata": {},
     "output_type": "execute_result"
    }
   ],
   "source": [
    "mikefile.read()"
   ]
  },
  {
   "cell_type": "code",
   "execution_count": 56,
   "id": "df0876e7",
   "metadata": {},
   "outputs": [
    {
     "name": "stdout",
     "output_type": "stream",
     "text": [
      "Writing raesu.txt\n"
     ]
    }
   ],
   "source": [
    "%%writefile raesu.txt\n",
    "Artificial intelligence is the field of computer science that aims to create machines and systems that can perform tasks that normally require human intelligence.\n",
    "The main branches of artificial intelligence are machine learning, natural language processing, computer vision, speech recognition, and robotics.\n",
    "The applications of artificial intelligence are diverse and include self-driving cars, virtual assistants, facial recognition, recommendation systems, and game playing.\n",
    "The challenges of artificial intelligence include ethical, social, and technical issues, such as ensuring fairness, accountability, transparency, safety, and explainability.\n",
    "The future of artificial intelligence is uncertain and depends on the development of new algorithms, hardware, data, and regulations."
   ]
  },
  {
   "cell_type": "code",
   "execution_count": 57,
   "id": "5ecdc096",
   "metadata": {},
   "outputs": [],
   "source": [
    "raesufile = open(\"raesu.txt\")"
   ]
  },
  {
   "cell_type": "code",
   "execution_count": 59,
   "id": "734f7511",
   "metadata": {},
   "outputs": [
    {
     "data": {
      "text/plain": [
       "<_io.TextIOWrapper name='raesu.txt' mode='r' encoding='cp1252'>"
      ]
     },
     "execution_count": 59,
     "metadata": {},
     "output_type": "execute_result"
    }
   ],
   "source": [
    "raesufile"
   ]
  },
  {
   "cell_type": "code",
   "execution_count": 60,
   "id": "e1059248",
   "metadata": {},
   "outputs": [
    {
     "data": {
      "text/plain": [
       "'Artificial intelligence is the field of computer science that aims to create machines and systems that can perform tasks that normally require human intelligence.\\nThe main branches of artificial intelligence are machine learning, natural language processing, computer vision, speech recognition, and robotics.\\nThe applications of artificial intelligence are diverse and include self-driving cars, virtual assistants, facial recognition, recommendation systems, and game playing.\\nThe challenges of artificial intelligence include ethical, social, and technical issues, such as ensuring fairness, accountability, transparency, safety, and explainability.\\nThe future of artificial intelligence is uncertain and depends on the development of new algorithms, hardware, data, and regulations.\\n'"
      ]
     },
     "execution_count": 60,
     "metadata": {},
     "output_type": "execute_result"
    }
   ],
   "source": [
    "raesufile.read()"
   ]
  },
  {
   "cell_type": "code",
   "execution_count": 62,
   "id": "e573d97b",
   "metadata": {},
   "outputs": [
    {
     "data": {
      "text/plain": [
       "''"
      ]
     },
     "execution_count": 62,
     "metadata": {},
     "output_type": "execute_result"
    }
   ],
   "source": [
    "raesufile.read()"
   ]
  },
  {
   "cell_type": "code",
   "execution_count": 63,
   "id": "d6eda422",
   "metadata": {},
   "outputs": [
    {
     "data": {
      "text/plain": [
       "0"
      ]
     },
     "execution_count": 63,
     "metadata": {},
     "output_type": "execute_result"
    }
   ],
   "source": [
    "raesufile.seek(0)"
   ]
  },
  {
   "cell_type": "code",
   "execution_count": 64,
   "id": "e0ab1933",
   "metadata": {},
   "outputs": [],
   "source": [
    "raesu = raesufile.read()"
   ]
  },
  {
   "cell_type": "code",
   "execution_count": 65,
   "id": "c4aac056",
   "metadata": {},
   "outputs": [
    {
     "data": {
      "text/plain": [
       "'Artificial intelligence is the field of computer science that aims to create machines and systems that can perform tasks that normally require human intelligence.\\nThe main branches of artificial intelligence are machine learning, natural language processing, computer vision, speech recognition, and robotics.\\nThe applications of artificial intelligence are diverse and include self-driving cars, virtual assistants, facial recognition, recommendation systems, and game playing.\\nThe challenges of artificial intelligence include ethical, social, and technical issues, such as ensuring fairness, accountability, transparency, safety, and explainability.\\nThe future of artificial intelligence is uncertain and depends on the development of new algorithms, hardware, data, and regulations.\\n'"
      ]
     },
     "execution_count": 65,
     "metadata": {},
     "output_type": "execute_result"
    }
   ],
   "source": [
    "raesu"
   ]
  },
  {
   "cell_type": "code",
   "execution_count": 66,
   "id": "f76b7d00",
   "metadata": {},
   "outputs": [
    {
     "name": "stdout",
     "output_type": "stream",
     "text": [
      "Artificial intelligence is the field of computer science that aims to create machines and systems that can perform tasks that normally require human intelligence.\n",
      "The main branches of artificial intelligence are machine learning, natural language processing, computer vision, speech recognition, and robotics.\n",
      "The applications of artificial intelligence are diverse and include self-driving cars, virtual assistants, facial recognition, recommendation systems, and game playing.\n",
      "The challenges of artificial intelligence include ethical, social, and technical issues, such as ensuring fairness, accountability, transparency, safety, and explainability.\n",
      "The future of artificial intelligence is uncertain and depends on the development of new algorithms, hardware, data, and regulations.\n",
      "\n"
     ]
    }
   ],
   "source": [
    "print(raesu)"
   ]
  },
  {
   "cell_type": "code",
   "execution_count": 67,
   "id": "1ec03a9d",
   "metadata": {},
   "outputs": [],
   "source": [
    "raesufile.close()"
   ]
  },
  {
   "cell_type": "code",
   "execution_count": 68,
   "id": "8a0144a3",
   "metadata": {},
   "outputs": [],
   "source": [
    "mikefile.close()"
   ]
  },
  {
   "cell_type": "code",
   "execution_count": 70,
   "id": "2bb252bf",
   "metadata": {},
   "outputs": [],
   "source": [
    "raesufile = open(\"raesu.txt\")"
   ]
  },
  {
   "cell_type": "code",
   "execution_count": 71,
   "id": "1119d102",
   "metadata": {},
   "outputs": [
    {
     "data": {
      "text/plain": [
       "'Artificial intelligence is the field of computer science that aims to create machines and systems that can perform tasks that normally require human intelligence.\\nThe main branches of artificial intelligence are machine learning, natural language processing, computer vision, speech recognition, and robotics.\\nThe applications of artificial intelligence are diverse and include self-driving cars, virtual assistants, facial recognition, recommendation systems, and game playing.\\nThe challenges of artificial intelligence include ethical, social, and technical issues, such as ensuring fairness, accountability, transparency, safety, and explainability.\\nThe future of artificial intelligence is uncertain and depends on the development of new algorithms, hardware, data, and regulations.\\n'"
      ]
     },
     "execution_count": 71,
     "metadata": {},
     "output_type": "execute_result"
    }
   ],
   "source": [
    "raesufile.read()"
   ]
  },
  {
   "cell_type": "code",
   "execution_count": 72,
   "id": "99522f32",
   "metadata": {},
   "outputs": [
    {
     "data": {
      "text/plain": [
       "0"
      ]
     },
     "execution_count": 72,
     "metadata": {},
     "output_type": "execute_result"
    }
   ],
   "source": [
    "raesufile.seek(0)"
   ]
  },
  {
   "cell_type": "code",
   "execution_count": 73,
   "id": "782a81e3",
   "metadata": {},
   "outputs": [
    {
     "data": {
      "text/plain": [
       "'Artificial intelligence is the field of computer science that aims to create machines and systems that can perform tasks that normally require human intelligence.\\n'"
      ]
     },
     "execution_count": 73,
     "metadata": {},
     "output_type": "execute_result"
    }
   ],
   "source": [
    "raesufile.readline()"
   ]
  },
  {
   "cell_type": "code",
   "execution_count": 74,
   "id": "730051c4",
   "metadata": {},
   "outputs": [
    {
     "data": {
      "text/plain": [
       "0"
      ]
     },
     "execution_count": 74,
     "metadata": {},
     "output_type": "execute_result"
    }
   ],
   "source": [
    "raesufile.seek(0)"
   ]
  },
  {
   "cell_type": "code",
   "execution_count": 77,
   "id": "67f0408f",
   "metadata": {},
   "outputs": [],
   "source": [
    "mylines = raesufile.readline()"
   ]
  },
  {
   "cell_type": "code",
   "execution_count": 80,
   "id": "cc3cf267",
   "metadata": {},
   "outputs": [
    {
     "name": "stdout",
     "output_type": "stream",
     "text": [
      "A r t i f i c i a l   i n t e l l i g e n c e   i s   t h e   f i e l d   o f   c o m p u t e r   s c i e n c e   t h a t   a i m s   t o   c r e a t e   m a c h i n e s   a n d   s y s t e m s   t h a t   c a n   p e r f o r m   t a s k s   t h a t   n o r m a l l y   r e q u i r e   h u m a n   i n t e l l i g e n c e . \n",
      " "
     ]
    }
   ],
   "source": [
    "for line in mylines:\n",
    "    print(line[0], end=' ')"
   ]
  },
  {
   "cell_type": "code",
   "execution_count": 83,
   "id": "af9c1948",
   "metadata": {},
   "outputs": [
    {
     "data": {
      "text/plain": [
       "0"
      ]
     },
     "execution_count": 83,
     "metadata": {},
     "output_type": "execute_result"
    }
   ],
   "source": [
    "raesufile.seek(0)"
   ]
  },
  {
   "cell_type": "code",
   "execution_count": 84,
   "id": "6a5bcd24",
   "metadata": {},
   "outputs": [],
   "source": [
    "raesu = open(\"raesu.txt\",\"w+\")"
   ]
  },
  {
   "cell_type": "code",
   "execution_count": 85,
   "id": "04a83419",
   "metadata": {},
   "outputs": [
    {
     "data": {
      "text/plain": [
       "''"
      ]
     },
     "execution_count": 85,
     "metadata": {},
     "output_type": "execute_result"
    }
   ],
   "source": [
    "raesu.read()"
   ]
  },
  {
   "cell_type": "code",
   "execution_count": 86,
   "id": "e5a3a860",
   "metadata": {},
   "outputs": [
    {
     "data": {
      "text/plain": [
       "17"
      ]
     },
     "execution_count": 86,
     "metadata": {},
     "output_type": "execute_result"
    }
   ],
   "source": [
    "raesu.write('My Brand New Text')"
   ]
  },
  {
   "cell_type": "code",
   "execution_count": 87,
   "id": "7bc8881c",
   "metadata": {},
   "outputs": [
    {
     "data": {
      "text/plain": [
       "0"
      ]
     },
     "execution_count": 87,
     "metadata": {},
     "output_type": "execute_result"
    }
   ],
   "source": [
    "raesu.seek(0)"
   ]
  },
  {
   "cell_type": "code",
   "execution_count": 88,
   "id": "03733744",
   "metadata": {},
   "outputs": [
    {
     "data": {
      "text/plain": [
       "'My Brand New Text'"
      ]
     },
     "execution_count": 88,
     "metadata": {},
     "output_type": "execute_result"
    }
   ],
   "source": [
    "raesu.read()"
   ]
  },
  {
   "cell_type": "code",
   "execution_count": 89,
   "id": "476ba05d",
   "metadata": {},
   "outputs": [],
   "source": [
    "raesu.close()"
   ]
  },
  {
   "cell_type": "code",
   "execution_count": 90,
   "id": "7f2f1ec2",
   "metadata": {},
   "outputs": [],
   "source": [
    "raesu = open(\"raesu.txt\", \"a+\")"
   ]
  },
  {
   "cell_type": "code",
   "execution_count": 91,
   "id": "78c4b15c",
   "metadata": {},
   "outputs": [
    {
     "data": {
      "text/plain": [
       "28"
      ]
     },
     "execution_count": 91,
     "metadata": {},
     "output_type": "execute_result"
    }
   ],
   "source": [
    "raesu.write(\"My Fisrst Line In A+ Opening\")"
   ]
  },
  {
   "cell_type": "code",
   "execution_count": 93,
   "id": "8147be8b",
   "metadata": {},
   "outputs": [
    {
     "data": {
      "text/plain": [
       "0"
      ]
     },
     "execution_count": 93,
     "metadata": {},
     "output_type": "execute_result"
    }
   ],
   "source": [
    "raesu.seek(0)"
   ]
  },
  {
   "cell_type": "code",
   "execution_count": 94,
   "id": "bdf730ea",
   "metadata": {},
   "outputs": [
    {
     "data": {
      "text/plain": [
       "'My Brand New TextMy Fisrst Line In A+ Opening'"
      ]
     },
     "execution_count": 94,
     "metadata": {},
     "output_type": "execute_result"
    }
   ],
   "source": [
    "raesu.read()"
   ]
  },
  {
   "cell_type": "code",
   "execution_count": 95,
   "id": "f37475f9",
   "metadata": {},
   "outputs": [],
   "source": [
    "ra = open(\"whoops.txt\", \"a+\")"
   ]
  },
  {
   "cell_type": "code",
   "execution_count": 97,
   "id": "c9f79f3a",
   "metadata": {},
   "outputs": [
    {
     "data": {
      "text/plain": [
       "28"
      ]
     },
     "execution_count": 97,
     "metadata": {},
     "output_type": "execute_result"
    }
   ],
   "source": [
    "ra.write(\"My Fisrst Line In A+ Opening\")"
   ]
  },
  {
   "cell_type": "code",
   "execution_count": 99,
   "id": "ae040126",
   "metadata": {},
   "outputs": [
    {
     "data": {
      "text/plain": [
       "0"
      ]
     },
     "execution_count": 99,
     "metadata": {},
     "output_type": "execute_result"
    }
   ],
   "source": [
    "ra.seek(0)"
   ]
  },
  {
   "cell_type": "code",
   "execution_count": 100,
   "id": "d21040fe",
   "metadata": {},
   "outputs": [
    {
     "data": {
      "text/plain": [
       "'My Fisrst Line In A+ Opening'"
      ]
     },
     "execution_count": 100,
     "metadata": {},
     "output_type": "execute_result"
    }
   ],
   "source": [
    "ra.read()"
   ]
  },
  {
   "cell_type": "code",
   "execution_count": 101,
   "id": "2d99036e",
   "metadata": {},
   "outputs": [],
   "source": [
    "raesu.close()"
   ]
  },
  {
   "cell_type": "code",
   "execution_count": 102,
   "id": "161ff82e",
   "metadata": {},
   "outputs": [],
   "source": [
    "ra.close()"
   ]
  },
  {
   "cell_type": "code",
   "execution_count": 103,
   "id": "f4985e25",
   "metadata": {},
   "outputs": [],
   "source": [
    "ra = open(\"raesu.txt\", mode=\"a+\")"
   ]
  },
  {
   "cell_type": "code",
   "execution_count": 104,
   "id": "0aff438b",
   "metadata": {},
   "outputs": [
    {
     "data": {
      "text/plain": [
       "45"
      ]
     },
     "execution_count": 104,
     "metadata": {},
     "output_type": "execute_result"
    }
   ],
   "source": [
    "ra.write('This is an added line, because I used a+ mode')"
   ]
  },
  {
   "cell_type": "code",
   "execution_count": 105,
   "id": "f2071a90",
   "metadata": {},
   "outputs": [
    {
     "data": {
      "text/plain": [
       "0"
      ]
     },
     "execution_count": 105,
     "metadata": {},
     "output_type": "execute_result"
    }
   ],
   "source": [
    "ra.seek(0)"
   ]
  },
  {
   "cell_type": "code",
   "execution_count": 108,
   "id": "f8782a59",
   "metadata": {},
   "outputs": [
    {
     "data": {
      "text/plain": [
       "'My Brand New TextMy Fisrst Line In A+ OpeningThis is an added line, because I used a+ mode'"
      ]
     },
     "execution_count": 108,
     "metadata": {},
     "output_type": "execute_result"
    }
   ],
   "source": [
    "ra.read()"
   ]
  },
  {
   "cell_type": "code",
   "execution_count": 109,
   "id": "b8d69f54",
   "metadata": {},
   "outputs": [
    {
     "data": {
      "text/plain": [
       "43"
      ]
     },
     "execution_count": 109,
     "metadata": {},
     "output_type": "execute_result"
    }
   ],
   "source": [
    "ra.write(\"\\n This is a real new line, on the next line\")"
   ]
  },
  {
   "cell_type": "code",
   "execution_count": 110,
   "id": "448cfa6f",
   "metadata": {},
   "outputs": [
    {
     "data": {
      "text/plain": [
       "0"
      ]
     },
     "execution_count": 110,
     "metadata": {},
     "output_type": "execute_result"
    }
   ],
   "source": [
    "ra.seek(0)"
   ]
  },
  {
   "cell_type": "code",
   "execution_count": 111,
   "id": "978e12b7",
   "metadata": {},
   "outputs": [
    {
     "data": {
      "text/plain": [
       "'My Brand New TextMy Fisrst Line In A+ OpeningThis is an added line, because I used a+ mode\\n This is a real new line, on the next line'"
      ]
     },
     "execution_count": 111,
     "metadata": {},
     "output_type": "execute_result"
    }
   ],
   "source": [
    "ra.read()"
   ]
  },
  {
   "cell_type": "code",
   "execution_count": 112,
   "id": "d84ede41",
   "metadata": {},
   "outputs": [
    {
     "data": {
      "text/plain": [
       "0"
      ]
     },
     "execution_count": 112,
     "metadata": {},
     "output_type": "execute_result"
    }
   ],
   "source": [
    "ra.seek(0)"
   ]
  },
  {
   "cell_type": "code",
   "execution_count": 113,
   "id": "3eb81606",
   "metadata": {},
   "outputs": [
    {
     "name": "stdout",
     "output_type": "stream",
     "text": [
      "My Brand New TextMy Fisrst Line In A+ OpeningThis is an added line, because I used a+ mode\n",
      " This is a real new line, on the next line\n"
     ]
    }
   ],
   "source": [
    "print(ra.read())"
   ]
  },
  {
   "cell_type": "code",
   "execution_count": 114,
   "id": "e6dba6ca",
   "metadata": {},
   "outputs": [],
   "source": [
    "ra.close()"
   ]
  },
  {
   "cell_type": "code",
   "execution_count": 115,
   "id": "22072867",
   "metadata": {},
   "outputs": [],
   "source": [
    "with open('raesu.txt','r') as mynewfile:\n",
    "    mycarible = mynewfile.readline()"
   ]
  },
  {
   "cell_type": "code",
   "execution_count": 116,
   "id": "f1e97f01",
   "metadata": {},
   "outputs": [
    {
     "data": {
      "text/plain": [
       "'My Brand New TextMy Fisrst Line In A+ OpeningThis is an added line, because I used a+ mode\\n'"
      ]
     },
     "execution_count": 116,
     "metadata": {},
     "output_type": "execute_result"
    }
   ],
   "source": [
    "mycarible "
   ]
  },
  {
   "cell_type": "code",
   "execution_count": null,
   "id": "2dcab0e1",
   "metadata": {},
   "outputs": [],
   "source": []
  }
 ],
 "metadata": {
  "kernelspec": {
   "display_name": "Python 3 (ipykernel)",
   "language": "python",
   "name": "python3"
  },
  "language_info": {
   "codemirror_mode": {
    "name": "ipython",
    "version": 3
   },
   "file_extension": ".py",
   "mimetype": "text/x-python",
   "name": "python",
   "nbconvert_exporter": "python",
   "pygments_lexer": "ipython3",
   "version": "3.7.16"
  }
 },
 "nbformat": 4,
 "nbformat_minor": 5
}
