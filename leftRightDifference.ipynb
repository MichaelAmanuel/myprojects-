{
  "nbformat": 4,
  "nbformat_minor": 0,
  "metadata": {
    "colab": {
      "provenance": []
    },
    "kernelspec": {
      "name": "python3",
      "display_name": "Python 3"
    },
    "language_info": {
      "name": "python"
    }
  },
  "cells": [
    {
      "cell_type": "code",
      "execution_count": 15,
      "metadata": {
        "colab": {
          "base_uri": "https://localhost:8080/"
        },
        "id": "lOWa9HKOELPs",
        "outputId": "518002a2-644b-4c3b-a30f-2d95a21f4777"
      },
      "outputs": [
        {
          "output_type": "stream",
          "name": "stdout",
          "text": [
            "[0]\n"
          ]
        }
      ],
      "source": [
        "class Solution(object):\n",
        "    def leftRightDifference(self, nums):\n",
        "\n",
        "      sum_left = [0] * len(nums)\n",
        "      sum_rigt = [0] * len(nums)\n",
        "\n",
        "      for i in range(len(nums)-1, -1, -1):\n",
        "        sum_left[i] = sum(nums[:i])\n",
        "\n",
        "      for j in range(len(nums)):\n",
        "        sum_rigt[j] = sum(nums[j+1:])\n",
        "\n",
        "      o_p = []\n",
        "      for i, j in zip(sum_left, sum_rigt):\n",
        "        o_p.append(abs(j-i))\n",
        "\n",
        "      return o_p\n",
        "\n",
        "solution = Solution()\n",
        "nums = [1]\n",
        "print(solution.leftRightDifference(nums))"
      ]
    },
    {
      "cell_type": "code",
      "source": [
        "class Solution(object):\n",
        "    def leftRightDifference(self, nums):\n",
        "\n",
        "      sum_left = [0] * len(nums)\n",
        "      sum_rigt = [0] * len(nums)\n",
        "\n",
        "      for i, j in zip(range(len(nums)-1, -1, -1), range(len(nums))):\n",
        "        sum_left[i] = sum(nums[:i])\n",
        "        sum_rigt[j] = sum(nums[j+1:])\n",
        "\n",
        "      o_p = []\n",
        "      for i, j in zip(sum_left, sum_rigt):\n",
        "        o_p.append(abs(j-i))\n",
        "\n",
        "      return o_p\n",
        "\n",
        "solution = Solution()\n",
        "nums = [1]\n",
        "print(solution.leftRightDifference(nums))"
      ],
      "metadata": {
        "colab": {
          "base_uri": "https://localhost:8080/"
        },
        "id": "ekyd0sSxFSZv",
        "outputId": "95e13ca2-d7ef-4d80-ff4a-7f9688584eea"
      },
      "execution_count": 17,
      "outputs": [
        {
          "output_type": "stream",
          "name": "stdout",
          "text": [
            "[0]\n"
          ]
        }
      ]
    }
  ]
}