{
  "nbformat": 4,
  "nbformat_minor": 0,
  "metadata": {
    "colab": {
      "provenance": []
    },
    "kernelspec": {
      "name": "python3",
      "display_name": "Python 3"
    },
    "language_info": {
      "name": "python"
    }
  },
  "cells": [
    {
      "cell_type": "code",
      "execution_count": null,
      "metadata": {
        "id": "kQjWvHzXch44"
      },
      "outputs": [],
      "source": [
        "class Solution(object):\n",
        "    def dividePlayers(self, skill):\n",
        "        skill.sort()\n",
        "        total_chemistry = 0\n",
        "        target_team_sum = skill[0] + skill[-1]\n",
        "        n = len(skill)\n",
        "\n",
        "        for i in range(n // 2):\n",
        "            if skill[i] + skill[n - i - 1] != target_team_sum:\n",
        "                return -1\n",
        "            total_chemistry += skill[i] * skill[n - i - 1]\n",
        "\n",
        "        return total_chemistry\n"
      ]
    }
  ]
}