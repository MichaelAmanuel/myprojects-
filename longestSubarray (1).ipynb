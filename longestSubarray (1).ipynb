{
  "nbformat": 4,
  "nbformat_minor": 0,
  "metadata": {
    "colab": {
      "provenance": []
    },
    "kernelspec": {
      "name": "python3",
      "display_name": "Python 3"
    },
    "language_info": {
      "name": "python"
    }
  },
  "cells": [
    {
      "cell_type": "code",
      "execution_count": 1,
      "metadata": {
        "id": "kQjWvHzXch44"
      },
      "outputs": [],
      "source": [
        "class Solution:\n",
        "    def longestSubarray(self, nums):\n",
        "\n",
        "        max_val = max(nums)\n",
        "\n",
        "        longest = 0\n",
        "        current_length = 0\n",
        "\n",
        "        for num in nums:\n",
        "            if num == max_val:\n",
        "                current_length += 1\n",
        "                longest = max(longest, current_length)\n",
        "            else:\n",
        "                current_length = 0\n",
        "\n",
        "        return longest\n"
      ]
    }
  ]
}