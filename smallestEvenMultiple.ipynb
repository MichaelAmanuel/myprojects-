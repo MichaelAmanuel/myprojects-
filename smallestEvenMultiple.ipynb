{
  "nbformat": 4,
  "nbformat_minor": 0,
  "metadata": {
    "colab": {
      "provenance": []
    },
    "kernelspec": {
      "name": "python3",
      "display_name": "Python 3"
    },
    "language_info": {
      "name": "python"
    }
  },
  "cells": [
    {
      "cell_type": "code",
      "execution_count": 5,
      "metadata": {
        "colab": {
          "base_uri": "https://localhost:8080/"
        },
        "id": "AJ-K3R7mi9ow",
        "outputId": "de919122-e202-43d4-c362-4ebe7c81b3bc"
      },
      "outputs": [
        {
          "output_type": "stream",
          "name": "stdout",
          "text": [
            "6\n"
          ]
        }
      ],
      "source": [
        "class Solution(object):\n",
        "    def smallestEvenMultiple(self, n):\n",
        "\n",
        "      for i in range(2, (2*n)+1):\n",
        "        if i % 2==0 and i%n==0:\n",
        "          return i\n",
        "\n",
        "solution = Solution()\n",
        "n = 6\n",
        "print(solution.smallestEvenMultiple(n))"
      ]
    },
    {
      "cell_type": "code",
      "source": [
        "class Solution(object):\n",
        "    def smallestEvenMultiple(self, n):\n",
        "\n",
        "      if n % 2 !=0:\n",
        "        return n * 2\n",
        "\n",
        "      else:\n",
        "        return n\n",
        "\n",
        "solution = Solution()\n",
        "n = 5\n",
        "print(solution.smallestEvenMultiple(n))"
      ],
      "metadata": {
        "colab": {
          "base_uri": "https://localhost:8080/"
        },
        "id": "dyVmyLTh8bN4",
        "outputId": "dc617b42-393f-4b58-c32e-465e99d86e89"
      },
      "execution_count": 8,
      "outputs": [
        {
          "output_type": "stream",
          "name": "stdout",
          "text": [
            "10\n"
          ]
        }
      ]
    },
    {
      "cell_type": "code",
      "source": [],
      "metadata": {
        "id": "Mc5Gb1pG9SL3"
      },
      "execution_count": null,
      "outputs": []
    }
  ]
}