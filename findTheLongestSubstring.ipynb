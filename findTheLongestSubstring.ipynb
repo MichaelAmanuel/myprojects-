{
  "nbformat": 4,
  "nbformat_minor": 0,
  "metadata": {
    "colab": {
      "provenance": []
    },
    "kernelspec": {
      "name": "python3",
      "display_name": "Python 3"
    },
    "language_info": {
      "name": "python"
    }
  },
  "cells": [
    {
      "cell_type": "code",
      "execution_count": 9,
      "metadata": {
        "id": "kQjWvHzXch44"
      },
      "outputs": [],
      "source": [
        "class Solution:\n",
        "    def findTheLongestSubstring(self, s):\n",
        "\n",
        "       vowel_to_bit = {'a': 0, 'e': 1, 'i': 2, 'o': 3, 'u': 4}\n",
        "\n",
        "       bitmask = 0\n",
        "       state_to_index = {0: -1}\n",
        "       max_length = 0\n",
        "\n",
        "       for i, char in enumerate(s):\n",
        "\n",
        "            if char in vowel_to_bit:\n",
        "                bitmask ^= (1 << vowel_to_bit[char])\n",
        "\n",
        "\n",
        "            if bitmask in state_to_index:\n",
        "                max_length = max(max_length, i - state_to_index[bitmask])\n",
        "            else:\n",
        "\n",
        "                state_to_index[bitmask] = i\n",
        "\n",
        "       return max_length\n"
      ]
    }
  ]
}