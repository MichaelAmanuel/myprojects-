{
  "nbformat": 4,
  "nbformat_minor": 0,
  "metadata": {
    "colab": {
      "provenance": []
    },
    "kernelspec": {
      "name": "python3",
      "display_name": "Python 3"
    },
    "language_info": {
      "name": "python"
    }
  },
  "cells": [
    {
      "cell_type": "code",
      "execution_count": 1,
      "metadata": {
        "id": "kQjWvHzXch44"
      },
      "outputs": [],
      "source": [
        "class Solution(object):\n",
        "    def hasPathSum(self, root, targetSum):\n",
        "        if not root:\n",
        "            return False\n",
        "        if not root.left and not root.right:\n",
        "            return root.val == targetSum\n",
        "        return self.hasPathSum(root.left, targetSum - root.val) or self.hasPathSum(root.right, targetSum - root.val)\n"
      ]
    },
    {
      "cell_type": "code",
      "source": [],
      "metadata": {
        "id": "6FcGHhRC-DGY"
      },
      "execution_count": null,
      "outputs": []
    }
  ]
}