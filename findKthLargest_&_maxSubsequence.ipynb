{
  "nbformat": 4,
  "nbformat_minor": 0,
  "metadata": {
    "colab": {
      "provenance": []
    },
    "kernelspec": {
      "name": "python3",
      "display_name": "Python 3"
    },
    "language_info": {
      "name": "python"
    }
  },
  "cells": [
    {
      "cell_type": "code",
      "execution_count": 7,
      "metadata": {
        "colab": {
          "base_uri": "https://localhost:8080/"
        },
        "id": "WD72P8mZduBn",
        "outputId": "7727c365-5d7c-4584-e88a-86d95114d692"
      },
      "outputs": [
        {
          "output_type": "stream",
          "name": "stdout",
          "text": [
            "[3, 3]\n"
          ]
        }
      ],
      "source": [
        "class Solution(object):\n",
        "    def maxSubsequence(self, nums, k):\n",
        "      num = sorted(nums, reverse=True)\n",
        "      summ = []\n",
        "      for i in range(k):\n",
        "        summ.append(num[i])\n",
        "      return summ\n",
        "\n",
        "solution = Solution()\n",
        "nums = [2,1,3,3]\n",
        "k = 2\n",
        "\n",
        "print(solution.maxSubsequence(nums, k))"
      ]
    },
    {
      "cell_type": "code",
      "source": [
        "class Solution(object):\n",
        "    def findKthLargest(self, nums, k):\n",
        "        num = sorted(nums)\n",
        "        return num[-k]\n",
        "\n",
        "solution = Solution()\n",
        "nums = [3,2,3,1,2,4,5,5,6]\n",
        "k = 4\n",
        "print(solution.findKthLargest(nums, k))"
      ],
      "metadata": {
        "id": "W6pbaHWld5z_"
      },
      "execution_count": null,
      "outputs": []
    }
  ]
}