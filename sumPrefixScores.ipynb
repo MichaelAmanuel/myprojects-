{
  "nbformat": 4,
  "nbformat_minor": 0,
  "metadata": {
    "colab": {
      "provenance": []
    },
    "kernelspec": {
      "name": "python3",
      "display_name": "Python 3"
    },
    "language_info": {
      "name": "python"
    }
  },
  "cells": [
    {
      "cell_type": "code",
      "execution_count": null,
      "metadata": {
        "id": "kQjWvHzXch44",
        "colab": {
          "base_uri": "https://localhost:8080/"
        },
        "outputId": "8cc49be6-0a27-424f-b528-741a8004db4b"
      },
      "outputs": [
        {
          "output_type": "stream",
          "name": "stdout",
          "text": [
            "11\n"
          ]
        }
      ],
      "source": [
        "class TrieNode:\n",
        "    def __init__(self):\n",
        "        self.children = {}\n",
        "        self.prefix_count = 0\n",
        "\n",
        "class Solution:\n",
        "    def sumPrefixScores(self, words):\n",
        "\n",
        "        root = TrieNode()\n",
        "\n",
        "        for word in words:\n",
        "            node = root\n",
        "            for char in word:\n",
        "                if char not in node.children:\n",
        "                    node.children[char] = TrieNode()\n",
        "                node = node.children[char]\n",
        "                node.prefix_count += 1\n",
        "\n",
        "\n",
        "        result = []\n",
        "        for word in words:\n",
        "            node = root\n",
        "            score = 0\n",
        "            for char in word:\n",
        "                node = node.children[char]\n",
        "                score += node.prefix_count\n",
        "            result.append(score)\n",
        "\n",
        "        return result\n",
        "\n",
        "\n",
        "sol = Solution()\n",
        "print(sol.sumPrefixScores([\"abc\",\"ab\",\"bc\",\"b\"]))\n",
        "print(sol.sumPrefixScores([\"abcd\"]))"
      ]
    }
  ]
}