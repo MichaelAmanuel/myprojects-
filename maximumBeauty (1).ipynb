{
  "nbformat": 4,
  "nbformat_minor": 0,
  "metadata": {
    "colab": {
      "provenance": []
    },
    "kernelspec": {
      "name": "python3",
      "display_name": "Python 3"
    },
    "language_info": {
      "name": "python"
    }
  },
  "cells": [
    {
      "cell_type": "code",
      "execution_count": null,
      "metadata": {
        "id": "kQjWvHzXch44"
      },
      "outputs": [],
      "source": [
        "class Solution(object):\n",
        "    def maximumBeauty(self, nums, k):\n",
        "        nums.sort()\n",
        "        left = 0\n",
        "        max_beauty = 0\n",
        "        for right in range(len(nums)):\n",
        "            while nums[right] - nums[left] > 2 * k:\n",
        "                left += 1\n",
        "            max_beauty = max(max_beauty, right - left + 1)\n",
        "        return max_beauty\n"
      ]
    }
  ]
}