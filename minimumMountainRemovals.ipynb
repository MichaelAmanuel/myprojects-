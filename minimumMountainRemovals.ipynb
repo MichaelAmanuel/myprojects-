{
  "nbformat": 4,
  "nbformat_minor": 0,
  "metadata": {
    "colab": {
      "provenance": []
    },
    "kernelspec": {
      "name": "python3",
      "display_name": "Python 3"
    },
    "language_info": {
      "name": "python"
    }
  },
  "cells": [
    {
      "cell_type": "code",
      "execution_count": null,
      "metadata": {
        "id": "kQjWvHzXch44",
        "colab": {
          "base_uri": "https://localhost:8080/"
        },
        "outputId": "8648224c-b848-4020-ff90-eb74afb8af8d"
      },
      "outputs": [
        {
          "output_type": "stream",
          "name": "stdout",
          "text": [
            "|\n"
          ]
        }
      ],
      "source": [
        "class Solution:\n",
        "    def minimumMountainRemovals(self, nums):\n",
        "        n = len(nums)\n",
        "        lis = [1] * n\n",
        "        lds = [1] * n\n",
        "\n",
        "        # Calculate LIS ending at each index\n",
        "        for i in range(n):\n",
        "            for j in range(i):\n",
        "                if nums[j] < nums[i]:\n",
        "                    lis[i] = max(lis[i], lis[j] + 1)\n",
        "\n",
        "        # Calculate LDS starting from each index\n",
        "        for i in range(n - 1, -1, -1):\n",
        "            for j in range(i + 1, n):\n",
        "                if nums[j] < nums[i]:\n",
        "                    lds[i] = max(lds[i], lds[j] + 1)\n",
        "\n",
        "        max_mountain_len = 0\n",
        "        for i in range(1, n - 1):  # i as the peak\n",
        "            if lis[i] > 1 and lds[i] > 1:\n",
        "                max_mountain_len = max(max_mountain_len, lis[i] + lds[i] - 1)\n",
        "\n",
        "        return n - max_mountain_len\n"
      ]
    }
  ]
}