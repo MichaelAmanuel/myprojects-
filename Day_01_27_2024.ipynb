{
  "nbformat": 4,
  "nbformat_minor": 0,
  "metadata": {
    "colab": {
      "provenance": []
    },
    "kernelspec": {
      "name": "python3",
      "display_name": "Python 3"
    },
    "language_info": {
      "name": "python"
    }
  },
  "cells": [
    {
      "cell_type": "code",
      "execution_count": null,
      "metadata": {
        "colab": {
          "base_uri": "https://localhost:8080/"
        },
        "id": "dPNZhVGASngy",
        "outputId": "d523b1cd-c3b8-4a3a-fd19-fed66820bfcc"
      },
      "outputs": [
        {
          "output_type": "stream",
          "name": "stdout",
          "text": [
            "1992\n",
            "True\n"
          ]
        }
      ],
      "source": [
        "def is_leap(year):\n",
        "    leap = False\n",
        "\n",
        "    if year % 4 == 0:\n",
        "      if year % 100 == 0 and year % 400 == 0:\n",
        "        return True\n",
        "      elif year % 100 !=0.:\n",
        "        return True\n",
        "      else:\n",
        "        return leap\n",
        "\n",
        "    return leap\n",
        "\n",
        "year = int(input())\n",
        "print(is_leap(year))\n"
      ]
    },
    {
      "cell_type": "code",
      "source": [
        "#!/bin/python\n",
        "\n",
        "import math\n",
        "import os\n",
        "import random\n",
        "import re\n",
        "import sys\n",
        "\n",
        "#\n",
        "# Complete the 'solve' function below.\n",
        "#\n",
        "# The function accepts following parameters:\n",
        "#  1. DOUBLE meal_cost\n",
        "#  2. INTEGER tip_percent\n",
        "#  3. INTEGER tax_percent\n",
        "#\n",
        "\n",
        "def solve(meal_cost, tip_percent, tax_percent):\n",
        "    # Write your code here\n",
        "\n",
        "if __name__ == '__main__':\n",
        "    meal_cost = float(raw_input().strip())\n",
        "\n",
        "    tip_percent = int(raw_input().strip())\n",
        "\n",
        "    tax_percent = int(raw_input().strip())\n",
        "\n",
        "    solve(meal_cost, tip_percent, tax_percent)\n"
      ],
      "metadata": {
        "id": "usfEjW07WWH-"
      },
      "execution_count": null,
      "outputs": []
    },
    {
      "cell_type": "code",
      "source": [
        "if __name__ == '__main__':\n",
        "    for _ in range(int(input())):\n",
        "        name = input()\n",
        "        score = float(input())\n",
        "\n",
        "        sco = 100\n",
        "        nam = ''\n",
        "        if score < sco:\n",
        "          sco = score\n",
        "          nam = name\n",
        "        elif score == sco:\n",
        "          if nam > name:\n",
        "            nam = name\n",
        "\n",
        "    print(nam)"
      ],
      "metadata": {
        "colab": {
          "base_uri": "https://localhost:8080/"
        },
        "id": "4eA81t9vazOm",
        "outputId": "ab9ba406-628a-4b6e-cf5d-e5d93362c0bb"
      },
      "execution_count": null,
      "outputs": [
        {
          "output_type": "stream",
          "name": "stdout",
          "text": [
            "2\n",
            "Harry\n",
            "37021\n",
            "Berry\n",
            "37022\n",
            "\n"
          ]
        }
      ]
    },
    {
      "cell_type": "code",
      "source": [
        "prices = [7,1,5,3,6,4]\n",
        "\n",
        "pri_sort = sorted(prices)\n",
        "\n",
        "stock = []\n",
        "for i in pri_sort:\n",
        "  stock.append(prices.index(i))\n",
        "\n",
        "print(prices)\n",
        "print(stock)"
      ],
      "metadata": {
        "colab": {
          "base_uri": "https://localhost:8080/"
        },
        "id": "D7x3ggJVbBL9",
        "outputId": "33557a47-06a3-45f2-c23e-19c89257fec5"
      },
      "execution_count": null,
      "outputs": [
        {
          "output_type": "stream",
          "name": "stdout",
          "text": [
            "[7, 1, 5, 3, 6, 4]\n",
            "[1, 3, 5, 2, 4, 0]\n"
          ]
        }
      ]
    },
    {
      "cell_type": "code",
      "source": [
        "\n",
        "class Solution(object):\n",
        "    def maxProfit(self, prices):\n",
        "\n",
        "\n",
        "      stock_min = prices.index(min(prices))\n",
        "      stock = prices[stock_min: ]\n",
        "\n",
        "      if len(stock)>=2:\n",
        "        return max(stock)-min(stock)\n",
        "      else:\n",
        "        return 0\n",
        "\n",
        "solution = Solution()\n",
        "prices = [7,6,4,3,1]\n",
        "print(solution.maxProfit(prices))"
      ],
      "metadata": {
        "colab": {
          "base_uri": "https://localhost:8080/"
        },
        "id": "j6pvLM99kHrX",
        "outputId": "35ac0348-063e-4940-940e-d9be1a297a1d"
      },
      "execution_count": null,
      "outputs": [
        {
          "output_type": "stream",
          "name": "stdout",
          "text": [
            "0\n"
          ]
        }
      ]
    },
    {
      "cell_type": "code",
      "source": [],
      "metadata": {
        "id": "M1Pypm4AlxWQ"
      },
      "execution_count": null,
      "outputs": []
    }
  ]
}