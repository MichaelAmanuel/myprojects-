{
  "nbformat": 4,
  "nbformat_minor": 0,
  "metadata": {
    "colab": {
      "provenance": []
    },
    "kernelspec": {
      "name": "python3",
      "display_name": "Python 3"
    },
    "language_info": {
      "name": "python"
    }
  },
  "cells": [
    {
      "cell_type": "code",
      "execution_count": null,
      "metadata": {
        "id": "kQjWvHzXch44",
        "colab": {
          "base_uri": "https://localhost:8080/"
        },
        "outputId": "b3d22a1b-b78b-4e2c-8b8c-04590b83ce94"
      },
      "outputs": [
        {
          "output_type": "stream",
          "name": "stdout",
          "text": [
            "7\n"
          ]
        }
      ],
      "source": [
        "from collections import defaultdict, deque\n",
        "\n",
        "class Solution(object):\n",
        "    def validArrangement(self, pairs):\n",
        "\n",
        "       graph = defaultdict(list)\n",
        "        in_degree = defaultdict(int)\n",
        "        out_degree = defaultdict(int)\n",
        "\n",
        "        # Build graph and track in/out degrees\n",
        "        for u, v in pairs:\n",
        "            graph[u].append(v)\n",
        "            out_degree[u] += 1\n",
        "            in_degree[v] += 1\n",
        "\n",
        "        # Find the starting node\n",
        "        start = None\n",
        "        for node in graph:\n",
        "            if out_degree[node] - in_degree[node] == 1:\n",
        "                start = node\n",
        "                break\n",
        "        if start is None:\n",
        "            start = pairs[0][0]\n",
        "\n",
        "\n",
        "        result = []\n",
        "        stack = [start]\n",
        "\n",
        "        while stack:\n",
        "            node = stack[-1]\n",
        "            if graph[node]:\n",
        "                stack.append(graph[node].pop())\n",
        "            else:\n",
        "                result.append(stack.pop())\n",
        "\n",
        "        return [[result[i], result[i - 1]] for i in range(len(result) - 1, 0, -1)]\n",
        "\n"
      ]
    }
  ]
}