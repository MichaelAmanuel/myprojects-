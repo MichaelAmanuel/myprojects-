{
  "nbformat": 4,
  "nbformat_minor": 0,
  "metadata": {
    "colab": {
      "provenance": []
    },
    "kernelspec": {
      "name": "python3",
      "display_name": "Python 3"
    },
    "language_info": {
      "name": "python"
    }
  },
  "cells": [
    {
      "cell_type": "code",
      "execution_count": null,
      "metadata": {
        "id": "kQjWvHzXch44",
        "colab": {
          "base_uri": "https://localhost:8080/"
        },
        "outputId": "50e14a69-7a1a-437e-be44-e1ade4c7db4d"
      },
      "outputs": [
        {
          "output_type": "stream",
          "name": "stdout",
          "text": [
            "zzcacc\n",
            "bbab\n"
          ]
        }
      ],
      "source": [
        "class SmallestInfiniteSet(object):\n",
        "\n",
        "    def __init__(self):\n",
        "        self.current = 1\n",
        "        self.added_back = set()\n",
        "\n",
        "    def popSmallest(self):\n",
        "        if self.added_back:\n",
        "            smallest = min(self.added_back)\n",
        "            self.added_back.remove(smallest)\n",
        "        else:\n",
        "            smallest = self.current\n",
        "            self.current += 1\n",
        "        return smallest\n",
        "\n",
        "    def addBack(self, num):\n",
        "        if num < self.current and num not in self.added_back:\n",
        "            self.added_back.add(num)\n",
        "\n",
        "\n",
        "class Solution(object):\n",
        "    def maxScore(self, nums1, nums2, k):\n",
        "        pass  # Implementation goes here\n",
        "\n",
        "\n",
        "class Solution(object):\n",
        "    def successfulPairs(self, spells, potions, success):\n",
        "        potions.sort()\n",
        "        result = []\n",
        "        for spell in spells:\n",
        "            count = len(potions) - self.binarySearch(potions, spell, success)\n",
        "            result.append(count)\n",
        "        return result\n",
        "\n",
        "    def binarySearch(self, potions, spell, success):\n",
        "        low, high = 0, len(potions)\n",
        "        while low < high:\n",
        "            mid = (low + high) // 2\n",
        "            if potions[mid] * spell >= success:\n",
        "                high = mid\n",
        "            else:\n",
        "                low = mid + 1\n",
        "        return low\n",
        "\n",
        "\n",
        "class Solution(object):\n",
        "    def minEatingSpeed(self, piles, h):\n",
        "        def canEatAll(speed):\n",
        "            total_hours = 0\n",
        "            for pile in piles:\n",
        "                total_hours += -(-pile // speed)\n",
        "            return total_hours <= h\n",
        "\n",
        "        low, high = 1, max(piles)\n",
        "        while low < high:\n",
        "            mid = (low + high) // 2\n",
        "            if canEatAll(mid):\n",
        "                high = mid\n",
        "            else:\n",
        "                low = mid + 1\n",
        "        return low\n"
      ]
    }
  ]
}