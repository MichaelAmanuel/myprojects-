{
  "nbformat": 4,
  "nbformat_minor": 0,
  "metadata": {
    "colab": {
      "provenance": []
    },
    "kernelspec": {
      "name": "python3",
      "display_name": "Python 3"
    },
    "language_info": {
      "name": "python"
    }
  },
  "cells": [
    {
      "cell_type": "code",
      "execution_count": 9,
      "metadata": {
        "id": "kQjWvHzXch44"
      },
      "outputs": [],
      "source": [
        "class Solution:\n",
        "    def diffWaysToCompute(self, expression: str) -> List[int]:\n",
        "        # Base case: if the expression is just a number, return it as the result\n",
        "        if expression.isdigit():\n",
        "            return [int(expression)]\n",
        "\n",
        "        res = []\n",
        "\n",
        "        # Loop through each character in the expression\n",
        "        for i, char in enumerate(expression):\n",
        "            if char in \"+-*\":\n",
        "                # Recursively solve for left and right parts\n",
        "                left = self.diffWaysToCompute(expression[:i])\n",
        "                right = self.diffWaysToCompute(expression[i+1:])\n",
        "\n",
        "                # Combine results from left and right based on the operator\n",
        "                for l in left:\n",
        "                    for r in right:\n",
        "                        if char == '+':\n",
        "                            res.append(l + r)\n",
        "                        elif char == '-':\n",
        "                            res.append(l - r)\n",
        "                        elif char == '*':\n",
        "                            res.append(l * r)\n",
        "\n",
        "        return res\n"
      ]
    }
  ]
}