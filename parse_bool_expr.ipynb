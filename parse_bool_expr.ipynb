{
  "nbformat": 4,
  "nbformat_minor": 0,
  "metadata": {
    "colab": {
      "provenance": []
    },
    "kernelspec": {
      "name": "python3",
      "display_name": "Python 3"
    },
    "language_info": {
      "name": "python"
    }
  },
  "cells": [
    {
      "cell_type": "code",
      "source": [
        "def parse_bool_expr(expression: str) -> bool:\n",
        "    def eval_expr(stack):\n",
        "        op = stack.pop()\n",
        "        if op == '&':\n",
        "            result = all(stack.pop() for _ in range(len(stack) - stack[::-1].index('(') - 1))\n",
        "        elif op == '|':\n",
        "            result = any(stack.pop() for _ in range(len(stack) - stack[::-1].index('(') - 1))\n",
        "        elif op == '!':\n",
        "            result = not stack.pop()\n",
        "        else:\n",
        "            result = op  # This line ensures `result` is initialized in all cases.\n",
        "        stack.pop()  # pop the '('\n",
        "        return result\n",
        "\n",
        "    stack = []\n",
        "    for char in expression:\n",
        "        if char == ')':\n",
        "            stack.append(eval_expr(stack))\n",
        "        elif char != ',':\n",
        "            stack.append(char == 't' if char in 'tf' else char)\n",
        "\n",
        "    return stack[0]\n",
        "\n",
        "# Example usage\n",
        "print(parse_bool_expr(\"&(|(f))\"))  # Output: False\n",
        "print(parse_bool_expr(\"|(f,f,f,t)\"))  # Output: True\n",
        "print(parse_bool_expr(\"!(&(f,t))\"))  # Output: True\n"
      ],
      "metadata": {
        "colab": {
          "base_uri": "https://localhost:8080/"
        },
        "id": "4hvT6VKQNcXA",
        "outputId": "fa1c8028-dfc9-44a0-f3ee-9dac05902fa4"
      },
      "execution_count": 8,
      "outputs": [
        {
          "output_type": "stream",
          "name": "stdout",
          "text": [
            "&\n",
            "|\n",
            "!\n"
          ]
        }
      ]
    },
    {
      "cell_type": "code",
      "execution_count": 5,
      "metadata": {
        "id": "kQjWvHzXch44",
        "colab": {
          "base_uri": "https://localhost:8080/"
        },
        "outputId": "8648224c-b848-4020-ff90-eb74afb8af8d"
      },
      "outputs": [
        {
          "output_type": "stream",
          "name": "stdout",
          "text": [
            "|\n"
          ]
        }
      ],
      "source": [
        "class Solution(object):\n",
        "    def parseBoolExpr(self, expression):\n",
        "        stack = []\n",
        "\n",
        "        for char in expression:\n",
        "            if char == ',':\n",
        "                continue  # Ignore commas\n",
        "            elif char in 'tf':\n",
        "                stack.append(char == 't')  # Push True for 't' and False for 'f'\n",
        "            elif char == '(' or char in '!&|':\n",
        "                stack.append(char)  # Push operators and opening parenthesis\n",
        "            elif char == ')':  # Time to evaluate\n",
        "                vals = []  # Collect values to evaluate\n",
        "                while stack and isinstance(stack[-1], bool):\n",
        "                    vals.append(stack.pop())  # Pop boolean values\n",
        "                operator = stack.pop()  # Pop the operator ('!', '&', '|')\n",
        "\n",
        "                # Evaluate the sub-expression based on the operator\n",
        "                if operator == '!':\n",
        "                    stack.append(not vals[0])\n",
        "                elif operator == '&':\n",
        "                    stack.append(all(vals))\n",
        "                elif operator == '|':\n",
        "                    stack.append(any(vals))\n",
        "\n",
        "        return stack.pop()\n",
        "\n",
        "\n",
        "# Test case\n",
        "solution = Solution()\n",
        "\n",
        "expression2 = \"|(f,f,f,t)\"\n",
        "print(solution.parseBoolExpr(expression2))  # Output: True\n"
      ]
    }
  ]
}