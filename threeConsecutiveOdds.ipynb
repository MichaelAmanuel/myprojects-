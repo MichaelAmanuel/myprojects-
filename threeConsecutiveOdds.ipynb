{
  "nbformat": 4,
  "nbformat_minor": 0,
  "metadata": {
    "colab": {
      "provenance": []
    },
    "kernelspec": {
      "name": "python3",
      "display_name": "Python 3"
    },
    "language_info": {
      "name": "python"
    }
  },
  "cells": [
    {
      "cell_type": "code",
      "execution_count": 2,
      "metadata": {
        "colab": {
          "base_uri": "https://localhost:8080/"
        },
        "id": "Oy_UAcuqghQs",
        "outputId": "de5fb6ed-412e-4840-a804-aca6ed99d25a"
      },
      "outputs": [
        {
          "output_type": "stream",
          "name": "stdout",
          "text": [
            "2\n"
          ]
        }
      ],
      "source": [
        "class Solution:\n",
        "    def threeConsecutiveOdds(self, arr):\n",
        "        for i in range(len(arr) - 2):\n",
        "            if arr[i] % 2 == 1 and arr[i + 1] % 2 == 1 and arr[i + 2] % 2 == 1:\n",
        "                return True\n",
        "        return False\n",
        "\n",
        "solution = Solution()\n",
        "arr1 = [2, 6, 4, 1]\n",
        "arr2 = [1, 3, 5, 7]\n",
        "print(solution.threeConsecutiveOdds(arr1))\n",
        "print(solution.threeConsecutiveOdds(arr2))"
      ]
    }
  ]
}