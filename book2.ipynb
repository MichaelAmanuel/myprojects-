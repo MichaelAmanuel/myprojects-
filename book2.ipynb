{
  "nbformat": 4,
  "nbformat_minor": 0,
  "metadata": {
    "colab": {
      "provenance": []
    },
    "kernelspec": {
      "name": "python3",
      "display_name": "Python 3"
    },
    "language_info": {
      "name": "python"
    }
  },
  "cells": [
    {
      "cell_type": "code",
      "execution_count": 1,
      "metadata": {
        "id": "kQjWvHzXch44"
      },
      "outputs": [],
      "source": [
        "class MyCalendarTwo:\n",
        "\n",
        "    def __init__(self):\n",
        "        self.bookings = []  # List to store single bookings\n",
        "        self.overlaps = []  # List to store double bookings\n",
        "\n",
        "    def book(self, start, end):\n",
        "\n",
        "        for s, e in self.overlaps:\n",
        "            if start < e and end > s:\n",
        "                return False\n",
        "\n",
        "\n",
        "        for s, e in self.bookings:\n",
        "            if start < e and end > s:  # Overlap with a single booking\n",
        "\n",
        "                self.overlaps.append((max(start, s), min(end, e)))\n",
        "\n",
        "\n",
        "        self.bookings.append((start, end))\n",
        "        return True\n"
      ]
    }
  ]
}