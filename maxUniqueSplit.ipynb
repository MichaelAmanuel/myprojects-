{
  "nbformat": 4,
  "nbformat_minor": 0,
  "metadata": {
    "colab": {
      "provenance": []
    },
    "kernelspec": {
      "name": "python3",
      "display_name": "Python 3"
    },
    "language_info": {
      "name": "python"
    }
  },
  "cells": [
    {
      "cell_type": "code",
      "source": [
        "class Solution(object):\n",
        "    def parseBoolExpr(self, expression):\n",
        "        stack = []\n",
        "        for char in expression:\n",
        "            if char == ',':\n",
        "                continue  # Ignore commas\n",
        "            elif char in 'tf':\n",
        "                stack.append(char == 't')  # Push True for 't' and False for 'f'\n",
        "            elif char == '(' or char in '!&|':\n",
        "                stack.append(char)  # Push operators and opening parenthesis\n",
        "            elif char == ')':  # Time to evaluate\n",
        "                vals = []  # Collect values to evaluate\n",
        "                while stack and isinstance(stack[-1], bool):\n",
        "                    vals.append(stack.pop())\n",
        "\n",
        "                operator = stack.pop()\n",
        "\n",
        "                if operator == '!':\n",
        "                    stack.append(not vals[0])\n",
        "                elif operator == '&':\n",
        "                    stack.append(all(vals))\n",
        "                elif operator == '|':\n",
        "                    stack.append(any(vals))\n",
        "\n",
        "        return stack.pop()  # Final evaluation\n",
        "\n",
        "# Example usage\n",
        "solution = Solution()\n",
        "print(solution.parseBoolExpr(\"&(|(f))\"))  # Output: False\n",
        "print(solution.parseBoolExpr(\"|(f,f,f,t)\"))  # Output: True\n",
        "print(solution.parseBoolExpr(\"!(&(f,t))\"))  # Output: True\n"
      ],
      "metadata": {
        "colab": {
          "base_uri": "https://localhost:8080/"
        },
        "id": "4hvT6VKQNcXA",
        "outputId": "be4ce8c4-2dc5-4eb3-d049-c1428a680155"
      },
      "execution_count": 1,
      "outputs": [
        {
          "output_type": "stream",
          "name": "stdout",
          "text": [
            "False\n",
            "|\n",
            "True\n"
          ]
        }
      ]
    },
    {
      "cell_type": "code",
      "execution_count": 5,
      "metadata": {
        "id": "kQjWvHzXch44",
        "colab": {
          "base_uri": "https://localhost:8080/"
        },
        "outputId": "8648224c-b848-4020-ff90-eb74afb8af8d"
      },
      "outputs": [
        {
          "output_type": "stream",
          "name": "stdout",
          "text": [
            "|\n"
          ]
        }
      ],
      "source": [
        "class Solution(object):\n",
        "    def maxUniqueSplit(self, s):\n",
        "        def backtrack(start, seen):\n",
        "            if start == len(s):  # If we've reached the end of the string\n",
        "                return 0\n",
        "            max_splits = 0\n",
        "            for end in range(start + 1, len(s) + 1):\n",
        "                substring = s[start:end]\n",
        "                if substring not in seen:\n",
        "                    seen.add(substring)\n",
        "                    max_splits = max(max_splits, 1 + backtrack(end, seen))\n",
        "                    seen.remove(substring)  # Backtrack\n",
        "            return max_splits\n",
        "\n",
        "        return backtrack(0, set())\n",
        "\n",
        "# Test cases\n",
        "solution = Solution()\n",
        "\n",
        "s1 = \"ababccc\"\n",
        "s2 = \"aba\"\n",
        "s3 = \"aa\"\n",
        "\n",
        "print(solution.maxUniqueSplit(s1))  # Output: 5\n",
        "print(solution.maxUniqueSplit(s2))  # Output: 2\n",
        "print(solution.maxUniqueSplit(s3))  # Output: 1\n"
      ]
    }
  ]
}