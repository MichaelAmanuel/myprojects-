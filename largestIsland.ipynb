{
  "nbformat": 4,
  "nbformat_minor": 0,
  "metadata": {
    "colab": {
      "provenance": []
    },
    "kernelspec": {
      "name": "python3",
      "display_name": "Python 3"
    },
    "language_info": {
      "name": "python"
    }
  },
  "cells": [
    {
      "cell_type": "code",
      "execution_count": null,
      "metadata": {
        "id": "kQjWvHzXch44"
      },
      "outputs": [],
      "source": [
        "class Solution(object):\n",
        "    def largestIsland(self, grid):\n",
        "\n",
        "        rows = len(grid)\n",
        "        cols = len(grid[0]) if rows > 0 else 0\n",
        "\n",
        "        def get_neighbors(r, c):\n",
        "            for dr, dc in [(0, 1), (0, -1), (1, 0), (-1, 0)]:\n",
        "                nr, nc = r + dr, c + dc\n",
        "                if 0 <= nr < rows and 0 <= nc < cols:\n",
        "                    yield nr, nc\n",
        "\n",
        "        def dfs(r, c, island_id):\n",
        "            if 0 <= r < rows and 0 <= c < cols and grid[r][c] == 1:\n",
        "                grid[r][c] = island_id  # Mark the cell with the island ID\n",
        "                size = 1\n",
        "                for nr, nc in get_neighbors(r, c):\n",
        "                    size += dfs(nr, nc, island_id)\n",
        "                return size\n",
        "            return 0\n",
        "\n",
        "        island_sizes = {}\n",
        "        island_id = 2  # Start island IDs from 2 (0 and 1 are reserved)\n",
        "\n",
        "        # Find all existing islands and their sizes\n",
        "        for r in range(rows):\n",
        "            for c in range(cols):\n",
        "                if grid[r][c] == 1:\n",
        "                    size = dfs(r, c, island_id)\n",
        "                    island_sizes[island_id] = size\n",
        "                    island_id += 1\n",
        "\n",
        "        max_size = 0\n",
        "        for size in island_sizes.values():\n",
        "            max_size = max(max_size, size)\n",
        "\n",
        "        # Try converting each 0 to a 1 and calculate the potential island size\n",
        "        for r in range(rows):\n",
        "            for c in range(cols):\n",
        "                if grid[r][c] == 0:\n",
        "                    neighbor_islands = set()\n",
        "                    for nr, nc in get_neighbors(r, c):\n",
        "                        if grid[nr][nc] > 1:  # It's part of an island\n",
        "                            neighbor_islands.add(grid[nr][nc])\n",
        "\n",
        "                    current_size = 1  # Start with 1 for the converted cell\n",
        "                    for island_id in neighbor_islands:\n",
        "                        current_size += island_sizes[island_id]\n",
        "\n",
        "                    max_size = max(max_size, current_size)\n",
        "\n",
        "        return max_size"
      ]
    },
    {
      "cell_type": "code",
      "source": [
        "s = \"abaacbcbb\""
      ],
      "metadata": {
        "id": "roULjd7SXK2j"
      },
      "execution_count": null,
      "outputs": []
    }
  ]
}