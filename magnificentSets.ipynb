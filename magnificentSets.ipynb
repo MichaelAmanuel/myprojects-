{
  "nbformat": 4,
  "nbformat_minor": 0,
  "metadata": {
    "colab": {
      "provenance": []
    },
    "kernelspec": {
      "name": "python3",
      "display_name": "Python 3"
    },
    "language_info": {
      "name": "python"
    }
  },
  "cells": [
    {
      "cell_type": "code",
      "execution_count": 1,
      "metadata": {
        "id": "kQjWvHzXch44"
      },
      "outputs": [],
      "source": [
        "from collections import defaultdict, deque\n",
        "\n",
        "class Solution(object):\n",
        "    def magnificentSets(self, n, edges):\n",
        "        graph = defaultdict(list)\n",
        "        for u, v in edges:\n",
        "            graph[u].append(v)\n",
        "            graph[v].append(u)\n",
        "\n",
        "        def bfs(start):\n",
        "            queue = deque([start])\n",
        "            level = {start: 1}\n",
        "            max_depth = 1\n",
        "\n",
        "            while queue:\n",
        "                node = queue.popleft()\n",
        "                for neighbor in graph[node]:\n",
        "                    if neighbor not in level:\n",
        "                        level[neighbor] = level[node] + 1\n",
        "                        max_depth = max(max_depth, level[neighbor])\n",
        "                        queue.append(neighbor)\n",
        "                    elif (level[neighbor] - level[node]) % 2 == 0:\n",
        "                        return -1\n",
        "            return max_depth\n",
        "\n",
        "        visited = set()\n",
        "        total_groups = 0\n",
        "\n",
        "        for i in range(1, n + 1):\n",
        "            if i not in visited:\n",
        "                component = []\n",
        "                stack = [i]\n",
        "                while stack:\n",
        "                    node = stack.pop()\n",
        "                    if node not in visited:\n",
        "                        visited.add(node)\n",
        "                        component.append(node)\n",
        "                        stack.extend(graph[node])\n",
        "\n",
        "                max_depth = -1\n",
        "                for node in component:\n",
        "                    depth = bfs(node)\n",
        "                    if depth == -1:\n",
        "                        return -1\n",
        "                    max_depth = max(max_depth, depth)\n",
        "\n",
        "                total_groups += max_depth\n",
        "\n",
        "        return total_groups\n"
      ]
    },
    {
      "cell_type": "code",
      "source": [
        "s = \"abaacbcbb\""
      ],
      "metadata": {
        "id": "roULjd7SXK2j"
      },
      "execution_count": null,
      "outputs": []
    }
  ]
}