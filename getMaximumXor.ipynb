{
  "nbformat": 4,
  "nbformat_minor": 0,
  "metadata": {
    "colab": {
      "provenance": []
    },
    "kernelspec": {
      "name": "python3",
      "display_name": "Python 3"
    },
    "language_info": {
      "name": "python"
    }
  },
  "cells": [
    {
      "cell_type": "code",
      "execution_count": 1,
      "metadata": {
        "id": "kQjWvHzXch44"
      },
      "outputs": [],
      "source": [
        "class Solution(object):\n",
        "    def getMaximumXor(self, nums, maximumBit):\n",
        "\n",
        "        xor_value = 0\n",
        "        for num in nums:\n",
        "            xor_value ^= num\n",
        "\n",
        "        # Maximum value for k with maximumBit bits\n",
        "        max_k = (1 << maximumBit) - 1\n",
        "\n",
        "        answer = []\n",
        "        # Perform each query\n",
        "        for _ in range(len(nums)):\n",
        "            # Compute k for the current state\n",
        "            k = xor_value ^ max_k\n",
        "            answer.append(k)\n",
        "            # Remove the last element and update the XOR value\n",
        "            xor_value ^= nums.pop()\n",
        "\n",
        "        return answer"
      ]
    }
  ]
}