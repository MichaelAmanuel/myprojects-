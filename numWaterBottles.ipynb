{
  "nbformat": 4,
  "nbformat_minor": 0,
  "metadata": {
    "colab": {
      "provenance": []
    },
    "kernelspec": {
      "name": "python3",
      "display_name": "Python 3"
    },
    "language_info": {
      "name": "python"
    }
  },
  "cells": [
    {
      "cell_type": "code",
      "execution_count": null,
      "metadata": {
        "colab": {
          "base_uri": "https://localhost:8080/"
        },
        "id": "Oy_UAcuqghQs",
        "outputId": "f751a92a-a145-4077-d1d6-a0ea036aede5"
      },
      "outputs": [
        {
          "output_type": "stream",
          "name": "stdout",
          "text": [
            "0\n"
          ]
        }
      ],
      "source": [
        "class Solution:\n",
        "    def numWaterBottles(self, numBottles, numExchange):\n",
        "        total_drunk = numBottles\n",
        "        empty_bottles = numBottles\n",
        "\n",
        "        while empty_bottles >= numExchange:\n",
        "            new_bottles = empty_bottles // numExchange\n",
        "            total_drunk += new_bottles\n",
        "            empty_bottles = empty_bottles % numExchange + new_bottles\n",
        "\n",
        "        return total_drunk\n",
        "\n",
        "solution = Solution()\n",
        "print(solution.numWaterBottles(9, 3))\n"
      ]
    }
  ]
}