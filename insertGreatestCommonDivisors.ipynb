{
  "nbformat": 4,
  "nbformat_minor": 0,
  "metadata": {
    "colab": {
      "provenance": []
    },
    "kernelspec": {
      "name": "python3",
      "display_name": "Python 3"
    },
    "language_info": {
      "name": "python"
    }
  },
  "cells": [
    {
      "cell_type": "code",
      "execution_count": null,
      "metadata": {
        "id": "kQjWvHzXch44"
      },
      "outputs": [],
      "source": [
        "class ListNode:\n",
        "    def __init__(self, val=0, next=None):\n",
        "        self.val = val\n",
        "        self.next = next\n",
        "\n",
        "class Solution:\n",
        "    def gcd(self, a, b):\n",
        "        while b:\n",
        "            a, b = b, a % b\n",
        "        return a\n",
        "\n",
        "    def insertGreatestCommonDivisors(self, head):\n",
        "        current = head\n",
        "\n",
        "        while current and current.next:\n",
        "            gcd_val = self.gcd(current.val, current.next.val)\n",
        "            new_node = ListNode(gcd_val)\n",
        "            new_node.next = current.next\n",
        "            current.next = new_node\n",
        "            current = new_node.next\n",
        "\n",
        "        return head\n"
      ]
    },
    {
      "cell_type": "code",
      "source": [],
      "metadata": {
        "id": "6FcGHhRC-DGY"
      },
      "execution_count": null,
      "outputs": []
    }
  ]
}