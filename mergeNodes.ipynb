{
  "nbformat": 4,
  "nbformat_minor": 0,
  "metadata": {
    "colab": {
      "provenance": []
    },
    "kernelspec": {
      "name": "python3",
      "display_name": "Python 3"
    },
    "language_info": {
      "name": "python"
    }
  },
  "cells": [
    {
      "cell_type": "code",
      "execution_count": null,
      "metadata": {
        "colab": {
          "base_uri": "https://localhost:8080/"
        },
        "id": "Oy_UAcuqghQs",
        "outputId": "f751a92a-a145-4077-d1d6-a0ea036aede5"
      },
      "outputs": [
        {
          "output_type": "stream",
          "name": "stdout",
          "text": [
            "0\n"
          ]
        }
      ],
      "source": [
        "class ListNode:\n",
        "    def __init__(self, val=0, next=None):\n",
        "        self.val = val\n",
        "        self.next = next\n",
        "\n",
        "class Solution:\n",
        "    def mergeNodes(self, head: ListNode) -> ListNode:\n",
        "        dummy = ListNode(0)\n",
        "        new_list = dummy\n",
        "        current = head.next\n",
        "        sum_val = 0\n",
        "\n",
        "        while current:\n",
        "            if current.val == 0:\n",
        "                new_list.next = ListNode(sum_val)\n",
        "                new_list = new_list.next\n",
        "                sum_val = 0\n",
        "            else:\n",
        "                sum_val += current.val\n",
        "            current = current.next\n",
        "\n",
        "        return dummy.next\n",
        "\n",
        "# Helper function to create a linked list from a list of values\n",
        "def create_linked_list(vals):\n",
        "    if not vals:\n",
        "        return None\n",
        "    head = ListNode(vals[0])\n",
        "    current = head\n",
        "    for val in vals[1:]:\n",
        "        current.next = ListNode(val)\n",
        "        current = current.next\n",
        "    return head\n",
        "\n",
        "# Helper function to print the linked list\n",
        "def print_linked_list(head):\n",
        "    vals = []\n",
        "    while head:\n",
        "        vals.append(head.val)\n",
        "        head = head.next\n",
        "    print(vals)\n",
        "\n",
        "# Example usage\n",
        "vals = [0, 3, 1, 0, 4, 5, 2, 0]\n",
        "head = create_linked_list(vals)\n",
        "solution = Solution()\n",
        "new_head = solution.mergeNodes(head)\n",
        "print_linked_list(new_head)  # Output: [4, 11]\n"
      ]
    }
  ]
}