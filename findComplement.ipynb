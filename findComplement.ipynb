{
  "nbformat": 4,
  "nbformat_minor": 0,
  "metadata": {
    "colab": {
      "provenance": []
    },
    "kernelspec": {
      "name": "python3",
      "display_name": "Python 3"
    },
    "language_info": {
      "name": "python"
    }
  },
  "cells": [
    {
      "cell_type": "code",
      "execution_count": null,
      "metadata": {
        "id": "kQjWvHzXch44",
        "colab": {
          "base_uri": "https://localhost:8080/"
        },
        "outputId": "d2501bef-d495-4ef1-bd7d-671e37c016d1"
      },
      "outputs": [
        {
          "output_type": "stream",
          "name": "stdout",
          "text": [
            "5\n",
            "12\n",
            "24\n"
          ]
        }
      ],
      "source": [
        "class Solution:\n",
        "    def findComplement(self, num):\n",
        "        # Calculate the bit length of num\n",
        "        bit_length = num.bit_length()\n",
        "\n",
        "        # Create a mask with the same length but all bits set to 1\n",
        "        mask = (1 << bit_length) - 1\n",
        "\n",
        "        # XOR num with the mask to get the complement\n",
        "        return num ^ mask\n"
      ]
    }
  ]
}