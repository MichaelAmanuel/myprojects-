{
  "nbformat": 4,
  "nbformat_minor": 0,
  "metadata": {
    "colab": {
      "provenance": []
    },
    "kernelspec": {
      "name": "python3",
      "display_name": "Python 3"
    },
    "language_info": {
      "name": "python"
    }
  },
  "cells": [
    {
      "cell_type": "code",
      "execution_count": 1,
      "metadata": {
        "id": "kQjWvHzXch44"
      },
      "outputs": [],
      "source": [
        "import heapq\n",
        "\n",
        "class Solution(object):\n",
        "    def longestDiverseString(self, a, b, c):\n",
        "        # Max-heap to store counts of 'a', 'b', 'c' with respective characters\n",
        "        heap = []\n",
        "        if a > 0:\n",
        "            heapq.heappush(heap, (-a, 'a'))\n",
        "        if b > 0:\n",
        "            heapq.heappush(heap, (-b, 'b'))\n",
        "        if c > 0:\n",
        "            heapq.heappush(heap, (-c, 'c'))\n",
        "\n",
        "        result = []\n",
        "\n",
        "        while heap:\n",
        "            # Pop the character with the largest count\n",
        "            first_count, first_char = heapq.heappop(heap)\n",
        "            if len(result) >= 2 and result[-1] == result[-2] == first_char:\n",
        "                # If the last two characters are the same as first_char, pick another character\n",
        "                if not heap:\n",
        "                    break  # No other character to pick, stop\n",
        "                second_count, second_char = heapq.heappop(heap)\n",
        "                result.append(second_char)\n",
        "                # Put the second_char back into the heap if it still has remaining count\n",
        "                if second_count + 1 < 0:\n",
        "                    heapq.heappush(heap, (second_count + 1, second_char))\n",
        "                # Also put the first_char back into the heap\n",
        "                heapq.heappush(heap, (first_count, first_char))\n",
        "            else:\n",
        "                # Append the most frequent character\n",
        "                result.append(first_char)\n",
        "                # Put the character back into the heap if it still has remaining count\n",
        "                if first_count + 1 < 0:\n",
        "                    heapq.heappush(heap, (first_count + 1, first_char))\n",
        "\n",
        "        return ''.join(result)\n"
      ]
    }
  ]
}