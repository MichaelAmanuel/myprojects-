{
  "nbformat": 4,
  "nbformat_minor": 0,
  "metadata": {
    "colab": {
      "provenance": []
    },
    "kernelspec": {
      "name": "python3",
      "display_name": "Python 3"
    },
    "language_info": {
      "name": "python"
    }
  },
  "cells": [
    {
      "cell_type": "code",
      "execution_count": null,
      "metadata": {
        "id": "kQjWvHzXch44",
        "colab": {
          "base_uri": "https://localhost:8080/"
        },
        "outputId": "50e14a69-7a1a-437e-be44-e1ade4c7db4d"
      },
      "outputs": [
        {
          "output_type": "stream",
          "name": "stdout",
          "text": [
            "zzcacc\n",
            "bbab\n"
          ]
        }
      ],
      "source": [
        "class Solution(object):\n",
        "    def countPalindromicSubsequence(self, s):\n",
        "        \"\"\"\n",
        "        :type s: str\n",
        "        :rtype: int\n",
        "        \"\"\"\n",
        "        result = set()\n",
        "        n = len(s)\n",
        "\n",
        "        # Iterate over all characters ('a' to 'z') as the middle character\n",
        "        for middle in range(26):  # 'a' to 'z'\n",
        "            char = chr(middle + ord('a'))  # Convert index to character\n",
        "\n",
        "            # Find the first and last occurrence of the current character\n",
        "            first = s.find(char)\n",
        "            last = s.rfind(char)\n",
        "\n",
        "            # If there's at least one character between the first and last occurrence\n",
        "            if first != -1 and last != -1 and first < last:\n",
        "                # Collect all characters between first and last occurrence\n",
        "                for ch in set(s[first + 1:last]):\n",
        "                    result.add((char, ch))\n",
        "\n",
        "        return len(result)\n"
      ]
    }
  ]
}