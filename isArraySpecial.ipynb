{
  "nbformat": 4,
  "nbformat_minor": 0,
  "metadata": {
    "colab": {
      "provenance": []
    },
    "kernelspec": {
      "name": "python3",
      "display_name": "Python 3"
    },
    "language_info": {
      "name": "python"
    }
  },
  "cells": [
    {
      "cell_type": "code",
      "execution_count": null,
      "metadata": {
        "id": "kQjWvHzXch44"
      },
      "outputs": [],
      "source": [
        "class Solution(object):\n",
        "    def isArraySpecial(self, nums):\n",
        "        for i in range(len(nums) - 1):\n",
        "            if (nums[i] % 2) == (nums[i + 1] % 2):  # Check if both numbers have the same parity\n",
        "                return False\n",
        "        return True\n",
        "\n",
        "# Example Test Cases\n",
        "sol = Solution()\n",
        "print(sol.isArraySpecial([1]))  # True\n",
        "print(sol.isArraySpecial([2, 1, 4]))  # True\n",
        "print(sol.isArraySpecial([4, 3, 1, 6]))  # False\n"
      ]
    },
    {
      "cell_type": "code",
      "source": [
        "s = \"abaacbcbb\""
      ],
      "metadata": {
        "id": "roULjd7SXK2j"
      },
      "execution_count": null,
      "outputs": []
    }
  ]
}