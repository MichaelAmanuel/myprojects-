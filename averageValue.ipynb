{
  "nbformat": 4,
  "nbformat_minor": 0,
  "metadata": {
    "colab": {
      "provenance": []
    },
    "kernelspec": {
      "name": "python3",
      "display_name": "Python 3"
    },
    "language_info": {
      "name": "python"
    }
  },
  "cells": [
    {
      "cell_type": "code",
      "execution_count": 7,
      "metadata": {
        "colab": {
          "base_uri": "https://localhost:8080/"
        },
        "id": "sx3wiCpc-YIN",
        "outputId": "1edb78da-e80e-460e-8b46-1bc3feda756a"
      },
      "outputs": [
        {
          "output_type": "stream",
          "name": "stdout",
          "text": [
            "9\n"
          ]
        }
      ],
      "source": [
        "class Solution(object):\n",
        "    def averageValue(self, nums):\n",
        "\n",
        "      sum_three = 0\n",
        "      count  = 0\n",
        "      for i in nums:\n",
        "        if i % 2 == 0 and i % 3 == 0 :\n",
        "          sum_three += i\n",
        "          count += 1\n",
        "\n",
        "      if count == 0:\n",
        "        return 0\n",
        "      else:\n",
        "        return int(sum_three /count)\n",
        "\n",
        "solution = Solution()\n",
        "nums = [1,3,6,10,12,15]\n",
        "print(solution.averageValue(nums))"
      ]
    }
  ]
}