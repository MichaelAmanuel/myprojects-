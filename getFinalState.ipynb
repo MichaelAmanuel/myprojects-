{
  "nbformat": 4,
  "nbformat_minor": 0,
  "metadata": {
    "colab": {
      "provenance": []
    },
    "kernelspec": {
      "name": "python3",
      "display_name": "Python 3"
    },
    "language_info": {
      "name": "python"
    }
  },
  "cells": [
    {
      "cell_type": "code",
      "execution_count": 3,
      "metadata": {
        "id": "kQjWvHzXch44"
      },
      "outputs": [],
      "source": [
        "class Solution(object):\n",
        "    def getFinalState(self, nums, k, multiplier):\n",
        "\n",
        "        for _ in range(k):\n",
        "\n",
        "            min_index = nums.index(min(nums))\n",
        "\n",
        "            nums[min_index] *= multiplier\n",
        "        return nums\n"
      ]
    }
  ]
}