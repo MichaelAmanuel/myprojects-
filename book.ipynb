{
  "nbformat": 4,
  "nbformat_minor": 0,
  "metadata": {
    "colab": {
      "provenance": []
    },
    "kernelspec": {
      "name": "python3",
      "display_name": "Python 3"
    },
    "language_info": {
      "name": "python"
    }
  },
  "cells": [
    {
      "cell_type": "code",
      "execution_count": 1,
      "metadata": {
        "id": "kQjWvHzXch44"
      },
      "outputs": [],
      "source": [
        "class MyCalendar(object):\n",
        "\n",
        "    def __init__(self):\n",
        "\n",
        "        self.bookings = []\n",
        "\n",
        "    def book(self, start, end):\n",
        "\n",
        "        for s, e in self.bookings:\n",
        "            if not (end <= s or start >= e):\n",
        "\n",
        "                return False\n",
        "\n",
        "        self.bookings.append((start, end))\n",
        "        return True"
      ]
    }
  ]
}