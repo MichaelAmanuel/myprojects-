{
  "nbformat": 4,
  "nbformat_minor": 0,
  "metadata": {
    "colab": {
      "provenance": []
    },
    "kernelspec": {
      "name": "python3",
      "display_name": "Python 3"
    },
    "language_info": {
      "name": "python"
    }
  },
  "cells": [
    {
      "cell_type": "code",
      "execution_count": null,
      "metadata": {
        "id": "kQjWvHzXch44"
      },
      "outputs": [],
      "source": [
        "import heapq\n",
        "\n",
        "class Solution(object):\n",
        "    def smallestChair(self, times, targetFriend):\n",
        "        n = len(times)\n",
        "        times = [(times[i][0], times[i][1], i) for i in range(n)]\n",
        "        times.sort(key=lambda x: x[0])\n",
        "        free_chairs = list(range(n))\n",
        "        heapq.heapify(free_chairs)\n",
        "        occupied = []\n",
        "\n",
        "        for arr_time, leave_time, friend in times:\n",
        "            while occupied and occupied[0][0] <= arr_time:\n",
        "                leave, chair = heapq.heappop(occupied)\n",
        "                heapq.heappush(free_chairs, chair)\n",
        "\n",
        "            chair = heapq.heappop(free_chairs)\n",
        "            heapq.heappush(occupied, (leave_time, chair))\n",
        "\n",
        "            if friend == targetFriend:\n",
        "                return chair\n"
      ]
    }
  ]
}