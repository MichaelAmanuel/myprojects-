{
  "nbformat": 4,
  "nbformat_minor": 0,
  "metadata": {
    "colab": {
      "provenance": []
    },
    "kernelspec": {
      "name": "python3",
      "display_name": "Python 3"
    },
    "language_info": {
      "name": "python"
    }
  },
  "cells": [
    {
      "cell_type": "code",
      "execution_count": null,
      "metadata": {
        "id": "kQjWvHzXch44"
      },
      "outputs": [],
      "source": [
        "import heapq\n",
        "from collections import defaultdict\n",
        "import math\n",
        "\n",
        "class Solution:\n",
        "    def maxProbability(self, n, edges, succProb, start, end):\n",
        "        graph = defaultdict(list)\n",
        "\n",
        "        # Build the graph\n",
        "        for i, (u, v) in enumerate(edges):\n",
        "            graph[u].append((v, succProb[i]))\n",
        "            graph[v].append((u, succProb[i]))\n",
        "\n",
        "        # Max-heap to store (negative of probability, node)\n",
        "        pq = [(-1.0, start)]\n",
        "        # Probability table, initialized to 0\n",
        "        probs = [0.0] * n\n",
        "        probs[start] = 1.0\n",
        "\n",
        "        while pq:\n",
        "            # Pop the node with the highest probability\n",
        "            curr_prob, node = heapq.heappop(pq)\n",
        "            curr_prob = -curr_prob\n",
        "\n",
        "            # If we reached the end node, return the probability\n",
        "            if node == end:\n",
        "                return curr_prob\n",
        "\n",
        "            # Explore the neighbors\n",
        "            for neighbor, edge_prob in graph[node]:\n",
        "                # Calculate the new probability of reaching this neighbor\n",
        "                new_prob = curr_prob * edge_prob\n",
        "                if new_prob > probs[neighbor]:\n",
        "                    probs[neighbor] = new_prob\n",
        "                    heapq.heappush(pq, (-new_prob, neighbor))\n",
        "\n",
        "        return 0.0\n",
        "\n",
        "\n"
      ]
    }
  ]
}