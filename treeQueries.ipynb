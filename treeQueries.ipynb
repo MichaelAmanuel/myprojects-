{
  "nbformat": 4,
  "nbformat_minor": 0,
  "metadata": {
    "colab": {
      "provenance": []
    },
    "kernelspec": {
      "name": "python3",
      "display_name": "Python 3"
    },
    "language_info": {
      "name": "python"
    }
  },
  "cells": [
    {
      "cell_type": "code",
      "execution_count": 5,
      "metadata": {
        "id": "kQjWvHzXch44",
        "colab": {
          "base_uri": "https://localhost:8080/"
        },
        "outputId": "8648224c-b848-4020-ff90-eb74afb8af8d"
      },
      "outputs": [
        {
          "output_type": "stream",
          "name": "stdout",
          "text": [
            "|\n"
          ]
        }
      ],
      "source": [
        "from collections import defaultdict\n",
        "\n",
        "class TreeNode:\n",
        "    def __init__(self, val=0, left=None, right=None):\n",
        "        self.val = val\n",
        "        self.left = left\n",
        "        self.right = right\n",
        "\n",
        "class Solution:\n",
        "    def treeQueries(self, root, queries):\n",
        "        heights = {}\n",
        "        max_height_after_removal = defaultdict(int)\n",
        "\n",
        "        def dfs_height(node):\n",
        "            if not node:\n",
        "                return -1\n",
        "            left_height = dfs_height(node.left)\n",
        "            right_height = dfs_height(node.right)\n",
        "            heights[node.val] = 1 + max(left_height, right_height)\n",
        "            return heights[node.val]\n",
        "\n",
        "        dfs_height(root)\n",
        "\n",
        "        def dfs_max_height(node, parent_path_height):\n",
        "            if not node:\n",
        "                return\n",
        "            left_height = heights[node.left.val] if node.left else -1\n",
        "            right_height = heights[node.right.val] if node.right else -1\n",
        "            max_height_after_removal[node.val] = max(parent_path_height, 1 + max(left_height, right_height))\n",
        "            new_parent_path_height_left = 1 + max(parent_path_height, right_height)\n",
        "            new_parent_path_height_right = 1 + max(parent_path_height, left_height)\n",
        "            dfs_max_height(node.left, new_parent_path_height_left)\n",
        "            dfs_max_height(node.right, new_parent_path_height_right)\n",
        "\n",
        "        dfs_max_height(root, -1)\n",
        "\n",
        "        result = []\n",
        "        for q in queries:\n",
        "            result.append(max_height_after_removal[q])\n",
        "\n",
        "        return result\n"
      ]
    }
  ]
}