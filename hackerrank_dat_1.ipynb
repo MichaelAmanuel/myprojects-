{
  "nbformat": 4,
  "nbformat_minor": 0,
  "metadata": {
    "colab": {
      "provenance": []
    },
    "kernelspec": {
      "name": "python3",
      "display_name": "Python 3"
    },
    "language_info": {
      "name": "python"
    }
  },
  "cells": [
    {
      "cell_type": "code",
      "execution_count": 10,
      "metadata": {
        "colab": {
          "base_uri": "https://localhost:8080/"
        },
        "id": "4pwL8tIL93eK",
        "outputId": "66b772d5-2fe9-4989-d7f2-278d2f288f91"
      },
      "outputs": [
        {
          "output_type": "stream",
          "name": "stdout",
          "text": [
            "Not Weird\n"
          ]
        }
      ],
      "source": [
        "# if __name__ == '__main__':\n",
        "#     n = int(input().strip())\n",
        "n= 24\n",
        "if n % 2 !=0:\n",
        "    print(\"Weird\")\n",
        "\n",
        "elif n%2 == 0 and 2 <= n <= 5:\n",
        "    print(\"Not Weird\")\n",
        "\n",
        "elif n %2 == 0 and 6 <= n <= 20:\n",
        "    print('Weird')\n",
        "\n",
        "else:\n",
        "    print(\"Not Weird\")\n"
      ]
    },
    {
      "cell_type": "code",
      "source": [
        "a = int(input())\n",
        "b = int(input())\n",
        "\n",
        "print(f'{a+b}\\n{a-b}\\n{a*b}')"
      ],
      "metadata": {
        "colab": {
          "base_uri": "https://localhost:8080/"
        },
        "id": "EUg3oMnDDUwu",
        "outputId": "8c6b6b18-e0c9-467a-c3b3-0315227c6c06"
      },
      "execution_count": 11,
      "outputs": [
        {
          "output_type": "stream",
          "name": "stdout",
          "text": [
            "3\n",
            "5\n",
            "8\n",
            "-2\n",
            "15\n"
          ]
        }
      ]
    },
    {
      "cell_type": "code",
      "source": [
        "a = int(input())\n",
        "b = int(input())\n",
        "\n",
        "print(f'{a//b}\\n{a/b}')"
      ],
      "metadata": {
        "colab": {
          "base_uri": "https://localhost:8080/"
        },
        "id": "pGy152wIDWsK",
        "outputId": "32b04e58-bbd5-4125-ab73-702b98ddd76a"
      },
      "execution_count": 12,
      "outputs": [
        {
          "output_type": "stream",
          "name": "stdout",
          "text": [
            "3\n",
            "5\n",
            "0\n",
            "0.6\n"
          ]
        }
      ]
    },
    {
      "cell_type": "code",
      "source": [
        "n = int(input())\n",
        "\n",
        "for i in range(n):\n",
        "    print(i**2)"
      ],
      "metadata": {
        "colab": {
          "base_uri": "https://localhost:8080/"
        },
        "id": "xJjNgFniDn9w",
        "outputId": "47cb937a-07c1-4082-8db1-5b6833a7456f"
      },
      "execution_count": 15,
      "outputs": [
        {
          "output_type": "stream",
          "name": "stdout",
          "text": [
            "3\n",
            "0\n",
            "1\n",
            "4\n"
          ]
        }
      ]
    },
    {
      "cell_type": "code",
      "source": [
        "def is_leap(year):\n",
        "\n",
        "  leap = False\n",
        "\n",
        "  if year%4==0:\n",
        "    if year%100==0:\n",
        "      if year%400==0:\n",
        "        leap = True\n",
        "    elif year%100==0:\n",
        "      leap\n",
        "  else:\n",
        "    leap\n",
        "\n",
        "  return leap\n",
        "\n",
        "year = int(input())\n",
        "print(is_leap(year))"
      ],
      "metadata": {
        "colab": {
          "base_uri": "https://localhost:8080/"
        },
        "id": "jEev9O4-ErJp",
        "outputId": "66aec811-055f-4f71-8ba1-c1eeb9a1d7af"
      },
      "execution_count": 31,
      "outputs": [
        {
          "output_type": "stream",
          "name": "stdout",
          "text": [
            "1800\n",
            "False\n"
          ]
        }
      ]
    },
    {
      "cell_type": "code",
      "source": [],
      "metadata": {
        "colab": {
          "base_uri": "https://localhost:8080/"
        },
        "id": "NrPm9o24cT5A",
        "outputId": "f43f9d61-c8f0-4ef2-fbfd-65f7be87f544"
      },
      "execution_count": 27,
      "outputs": [
        {
          "output_type": "stream",
          "name": "stdout",
          "text": [
            "1800\n",
            "False\n"
          ]
        }
      ]
    },
    {
      "cell_type": "code",
      "source": [
        "s = \"                \"\n",
        "len(s)"
      ],
      "metadata": {
        "colab": {
          "base_uri": "https://localhost:8080/"
        },
        "id": "E9YzS9nJdFZc",
        "outputId": "c83199ea-92a6-4d25-a674-4f75490d170f"
      },
      "execution_count": 32,
      "outputs": [
        {
          "output_type": "execute_result",
          "data": {
            "text/plain": [
              "16"
            ]
          },
          "metadata": {},
          "execution_count": 32
        }
      ]
    }
  ]
}