{
  "nbformat": 4,
  "nbformat_minor": 0,
  "metadata": {
    "colab": {
      "provenance": []
    },
    "kernelspec": {
      "name": "python3",
      "display_name": "Python 3"
    },
    "language_info": {
      "name": "python"
    }
  },
  "cells": [
    {
      "cell_type": "code",
      "execution_count": 3,
      "metadata": {
        "colab": {
          "base_uri": "https://localhost:8080/"
        },
        "id": "Oy_UAcuqghQs",
        "outputId": "97f497d7-fd51-4172-f3c3-ec196aabad42"
      },
      "outputs": [
        {
          "output_type": "stream",
          "name": "stdout",
          "text": [
            "3.25\n"
          ]
        }
      ],
      "source": [
        "class Solution(object):\n",
        "    def minOperations(self, logs):\n",
        "        depth = 0\n",
        "        for log in logs:\n",
        "            if log == \"../\":\n",
        "                if depth > 0:\n",
        "                    depth -= 1\n",
        "            elif log != \"./\":\n",
        "                depth += 1\n",
        "        return depth\n",
        "\n",
        "solution = Solution()\n",
        "logs = [\"d1/\", \"d2/\", \"../\", \"d21/\", \"./\"]\n",
        "print(solution.minOperations(logs))\n"
      ]
    }
  ]
}