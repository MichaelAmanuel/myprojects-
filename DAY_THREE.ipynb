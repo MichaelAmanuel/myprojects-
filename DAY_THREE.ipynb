{
  "nbformat": 4,
  "nbformat_minor": 0,
  "metadata": {
    "colab": {
      "provenance": []
    },
    "kernelspec": {
      "name": "python3",
      "display_name": "Python 3"
    },
    "language_info": {
      "name": "python"
    }
  },
  "cells": [
    {
      "cell_type": "code",
      "source": [
        "import math\n",
        "import os\n",
        "import random\n",
        "import re\n",
        "import sys"
      ],
      "metadata": {
        "id": "Btj39DfTdTO_"
      },
      "execution_count": 2,
      "outputs": []
    },
    {
      "cell_type": "code",
      "execution_count": 9,
      "metadata": {
        "colab": {
          "base_uri": "https://localhost:8080/"
        },
        "id": "K0GJWeAlc-pG",
        "outputId": "4fba5057-f943-4d8d-958c-534126cd337d"
      },
      "outputs": [
        {
          "output_type": "stream",
          "name": "stdout",
          "text": [
            "24\n",
            "Not Weird\n"
          ]
        }
      ],
      "source": [
        "if __name__ == '__main__':\n",
        "    n = int(input().strip())\n",
        "\n",
        "    if n % 2 != 0:\n",
        "      print('Weird')\n",
        "\n",
        "    elif n % 2 ==0 and 2 <= n <= 5:\n",
        "      print('Not Weird')\n",
        "\n",
        "    elif n % 2 ==0 and 6 <= n <= 20:\n",
        "      print('Weird')\n",
        "\n",
        "    elif n % 2 ==0 and n > 20:\n",
        "        print('Not Weird')\n"
      ]
    },
    {
      "cell_type": "code",
      "source": [
        "i = 4\n",
        "d = 4.0\n",
        "s = 'HackerRank '\n",
        "\n",
        "# Declare second integer, double, and String variables.\n",
        "new_i = int(input())\n",
        "new_d = float(input())\n",
        "new_s = input('is the best place to learn and practice coding!')\n",
        "\n",
        "# Read and save an integer, double, and String to your variables.\n",
        "# Print the sum of both integer variables on a new line.\n",
        "print(i + new_i)\n",
        "\n",
        "# Print the sum of the double variables on a new line\n",
        "print(d + new_d)\n",
        "\n",
        "# Concatenate and print the String variables on a new line\n",
        "# The 's' variable above should be printed first.\n",
        "print(s + new_s)"
      ],
      "metadata": {
        "colab": {
          "base_uri": "https://localhost:8080/"
        },
        "id": "sbgbXO2fdOMw",
        "outputId": "1939e5ee-baac-4166-b7d0-bf40f744d4f5"
      },
      "execution_count": 13,
      "outputs": [
        {
          "output_type": "stream",
          "name": "stdout",
          "text": [
            "12\n",
            "4\n",
            "is the best place to learn and practice coding!\n",
            "16\n",
            "8.0\n",
            "HackerRank is the best place to learn and practice coding!\n"
          ]
        }
      ]
    }
  ]
}