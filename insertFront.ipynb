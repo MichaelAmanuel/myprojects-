{
  "nbformat": 4,
  "nbformat_minor": 0,
  "metadata": {
    "colab": {
      "provenance": []
    },
    "kernelspec": {
      "name": "python3",
      "display_name": "Python 3"
    },
    "language_info": {
      "name": "python"
    }
  },
  "cells": [
    {
      "cell_type": "code",
      "execution_count": 1,
      "metadata": {
        "id": "kQjWvHzXch44"
      },
      "outputs": [],
      "source": [
        "class MyCircularDeque:\n",
        "\n",
        "    def __init__(self, k):\n",
        "        # Initialize deque with capacity `k` and empty structure\n",
        "        self.capacity = k\n",
        "        self.deque = [0] * k  # Array to store deque elements\n",
        "        self.size = 0  # To track current number of elements\n",
        "        self.front = 0  # Front pointer\n",
        "        self.rear = -1  # Rear pointer\n",
        "\n",
        "    def insertFront(self, value):\n",
        "        if self.isFull():\n",
        "            return False\n",
        "        # Move front pointer backward in a circular manner\n",
        "        self.front = (self.front - 1 + self.capacity) % self.capacity\n",
        "        self.deque[self.front] = value\n",
        "        self.size += 1\n",
        "        return True\n",
        "\n",
        "    def insertLast(self, value):\n",
        "        if self.isFull():\n",
        "            return False\n",
        "        # Move rear pointer forward in a circular manner\n",
        "        self.rear = (self.rear + 1) % self.capacity\n",
        "        self.deque[self.rear] = value\n",
        "        self.size += 1\n",
        "        return True\n",
        "\n",
        "    def deleteFront(self):\n",
        "        if self.isEmpty():\n",
        "            return False\n",
        "        # Move front pointer forward in a circular manner\n",
        "        self.front = (self.front + 1) % self.capacity\n",
        "        self.size -= 1\n",
        "        return True\n",
        "\n",
        "    def deleteLast(self):\n",
        "        if self.isEmpty():\n",
        "            return False\n",
        "        # Move rear pointer backward in a circular manner\n",
        "        self.rear = (self.rear - 1 + self.capacity) % self.capacity\n",
        "        self.size -= 1\n",
        "        return True\n",
        "\n",
        "    def getFront(self):\n",
        "        if self.isEmpty():\n",
        "            return -1\n",
        "        return self.deque[self.front]\n",
        "\n",
        "    def getRear(self):\n",
        "        if self.isEmpty():\n",
        "            return -1\n",
        "        return self.deque[self.rear]\n",
        "\n",
        "    def isEmpty(self):\n",
        "        return self.size == 0\n",
        "\n",
        "    def isFull(self):\n",
        "        return self.size == self.capacity\n"
      ]
    }
  ]
}