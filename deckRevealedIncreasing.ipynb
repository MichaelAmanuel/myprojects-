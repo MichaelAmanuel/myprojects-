{
  "nbformat": 4,
  "nbformat_minor": 0,
  "metadata": {
    "colab": {
      "provenance": []
    },
    "kernelspec": {
      "name": "python3",
      "display_name": "Python 3"
    },
    "language_info": {
      "name": "python"
    }
  },
  "cells": [
    {
      "cell_type": "code",
      "execution_count": null,
      "metadata": {
        "id": "kQjWvHzXch44",
        "colab": {
          "base_uri": "https://localhost:8080/"
        },
        "outputId": "8cc49be6-0a27-424f-b528-741a8004db4b"
      },
      "outputs": [
        {
          "output_type": "stream",
          "name": "stdout",
          "text": [
            "11\n"
          ]
        }
      ],
      "source": [
        "from collections import deque\n",
        "\n",
        "class Solution:\n",
        "    def deckRevealedIncreasing(self, deck):\n",
        "        # Sort the deck to work with the cards in increasing order\n",
        "        deck.sort()\n",
        "\n",
        "        # Use deque to simulate the reverse process\n",
        "        dq = deque()\n",
        "\n",
        "        # Place cards in the deque starting from the largest\n",
        "        for card in reversed(deck):\n",
        "            if dq:\n",
        "                dq.appendleft(dq.pop())  # Move the bottom card to the top\n",
        "            dq.appendleft(card)  # Place the current card on the top\n",
        "\n",
        "        return list(dq)"
      ]
    }
  ]
}