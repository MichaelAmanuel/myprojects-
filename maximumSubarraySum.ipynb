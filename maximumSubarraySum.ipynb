{
  "nbformat": 4,
  "nbformat_minor": 0,
  "metadata": {
    "colab": {
      "provenance": []
    },
    "kernelspec": {
      "name": "python3",
      "display_name": "Python 3"
    },
    "language_info": {
      "name": "python"
    }
  },
  "cells": [
    {
      "cell_type": "code",
      "execution_count": null,
      "metadata": {
        "id": "kQjWvHzXch44",
        "colab": {
          "base_uri": "https://localhost:8080/"
        },
        "outputId": "b3d22a1b-b78b-4e2c-8b8c-04590b83ce94"
      },
      "outputs": [
        {
          "output_type": "stream",
          "name": "stdout",
          "text": [
            "7\n"
          ]
        }
      ],
      "source": [
        "class Solution:\n",
        "    def maximumSubarraySum(self, nums, k):\n",
        "        n = len(nums)\n",
        "        max_sum = 0\n",
        "        current_sum = 0\n",
        "        window_elements = set()\n",
        "        left = 0\n",
        "\n",
        "        for right in range(n):\n",
        "            # Add the current element to the window\n",
        "            while nums[right] in window_elements:\n",
        "                window_elements.remove(nums[left])\n",
        "                current_sum -= nums[left]\n",
        "                left += 1\n",
        "\n",
        "            window_elements.add(nums[right])\n",
        "            current_sum += nums[right]\n",
        "\n",
        "            # Check if the window size is equal to k\n",
        "            if right - left + 1 == k:\n",
        "                max_sum = max(max_sum, current_sum)\n",
        "\n",
        "                # Slide the window by removing the leftmost element\n",
        "                window_elements.remove(nums[left])\n",
        "                current_sum -= nums[left]\n",
        "                left += 1\n",
        "\n",
        "        return max_sum\n",
        "\n",
        "# Example usage:\n",
        "solution = Solution()\n",
        "print(solution.maximumSubarraySum([1, 5, 4, 2, 9, 9, 9], 3))  # Output: 15\n",
        "print(solution.maximumSubarraySum([4, 4, 4], 3))              # Output: 0\n"
      ]
    }
  ]
}