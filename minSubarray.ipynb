{
  "nbformat": 4,
  "nbformat_minor": 0,
  "metadata": {
    "colab": {
      "provenance": []
    },
    "kernelspec": {
      "name": "python3",
      "display_name": "Python 3"
    },
    "language_info": {
      "name": "python"
    }
  },
  "cells": [
    {
      "cell_type": "code",
      "execution_count": null,
      "metadata": {
        "id": "kQjWvHzXch44"
      },
      "outputs": [],
      "source": [
        "class Solution(object):\n",
        "    def minSubarray(self, nums, p):\n",
        "        total_sum = sum(nums)\n",
        "        target_mod = total_sum % p\n",
        "\n",
        "        if target_mod == 0:\n",
        "            return 0\n",
        "\n",
        "        prefix_sum = 0\n",
        "        mod_map = {0: -1}\n",
        "        min_len = len(nums)\n",
        "\n",
        "        for i, num in enumerate(nums):\n",
        "            prefix_sum += num\n",
        "            current_mod = prefix_sum % p\n",
        "            needed_mod = (current_mod - target_mod) % p\n",
        "\n",
        "            if needed_mod in mod_map:\n",
        "                min_len = min(min_len, i - mod_map[needed_mod])\n",
        "\n",
        "            mod_map[current_mod] = i\n",
        "\n",
        "        return min_len if min_len < len(nums) else -1\n"
      ]
    }
  ]
}