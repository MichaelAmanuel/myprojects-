{
  "nbformat": 4,
  "nbformat_minor": 0,
  "metadata": {
    "colab": {
      "provenance": []
    },
    "kernelspec": {
      "name": "python3",
      "display_name": "Python 3"
    },
    "language_info": {
      "name": "python"
    }
  },
  "cells": [
    {
      "cell_type": "code",
      "execution_count": 40,
      "metadata": {
        "id": "IEu7U5QzIF0F",
        "colab": {
          "base_uri": "https://localhost:8080/"
        },
        "outputId": "06643d67-ed4c-4d55-8c3f-9c629d0751b5"
      },
      "outputs": [
        {
          "output_type": "stream",
          "name": "stdout",
          "text": [
            "[[-1, 0, 1], [0, 1, -1], [0, 1, -1], []]\n"
          ]
        }
      ],
      "source": [
        "class Solution(object):\n",
        "    def threeSum(self, nums):\n",
        "      ret = []\n",
        "      for i in range(len(nums)):\n",
        "        sum_t = []\n",
        "        for k in range(i+1, len(nums)):\n",
        "          for l in range(k+1, len(nums)):\n",
        "            if i != k != l and (nums[i]+nums[k]+nums[l])==0:\n",
        "              sum_t.append(nums[i])\n",
        "              sum_t.append(nums[k])\n",
        "              sum_t.append(nums[l])\n",
        "              ret.append(sum_t)\n",
        "              break\n",
        "            if sum_t not in ret:\n",
        "              ret.append(sum_t)\n",
        "\n",
        "          break\n",
        "        # break\n",
        "\n",
        "      return ret\n",
        "\n",
        "solution = Solution()\n",
        "nums = [-1,0,1,2,-1,-4]\n",
        "print(solution.threeSum(nums))"
      ]
    }
  ]
}