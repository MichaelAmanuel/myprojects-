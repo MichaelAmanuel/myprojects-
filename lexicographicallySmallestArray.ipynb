{
  "nbformat": 4,
  "nbformat_minor": 0,
  "metadata": {
    "colab": {
      "provenance": []
    },
    "kernelspec": {
      "name": "python3",
      "display_name": "Python 3"
    },
    "language_info": {
      "name": "python"
    }
  },
  "cells": [
    {
      "cell_type": "code",
      "execution_count": null,
      "metadata": {
        "id": "kQjWvHzXch44",
        "colab": {
          "base_uri": "https://localhost:8080/"
        },
        "outputId": "792b0e92-1d98-4286-aafa-efc6fbfae2a7"
      },
      "outputs": [
        {
          "output_type": "stream",
          "name": "stdout",
          "text": [
            "9\n"
          ]
        }
      ],
      "source": [
        "class Solution(object):\n",
        "    def lexicographicallySmallestArray(self, nums, limit):\n",
        "        n = len(nums)\n",
        "        parent = list(range(n))\n",
        "\n",
        "        # Union-Find functions\n",
        "        def find(x):\n",
        "            if parent[x] != x:\n",
        "                parent[x] = find(parent[x])  # Path compression\n",
        "            return parent[x]\n",
        "\n",
        "        def union(x, y):\n",
        "            root_x = find(x)\n",
        "            root_y = find(y)\n",
        "            if root_x != root_y:\n",
        "                parent[root_y] = root_x\n",
        "\n",
        "        # Step 1: Group indices based on the condition |nums[i] - nums[j]| <= limit\n",
        "        sorted_indices = sorted(range(n), key=lambda x: nums[x])\n",
        "        for i in range(n):\n",
        "            j = i + 1\n",
        "            while j < n and nums[sorted_indices[j]] - nums[sorted_indices[i]] <= limit:\n",
        "                union(sorted_indices[i], sorted_indices[j])\n",
        "                j += 1\n",
        "\n",
        "        # Step 2: Collect indices in each connected component\n",
        "        components = {}\n",
        "        for i in range(n):\n",
        "            root = find(i)\n",
        "            if root not in components:\n",
        "                components[root] = []\n",
        "            components[root].append(i)\n",
        "\n",
        "        # Step 3: Sort values within each component and assign them back\n",
        "        for indices in components.values():\n",
        "            indices.sort()\n",
        "            values = sorted(nums[i] for i in indices)\n",
        "            for idx, value in zip(indices, values):\n",
        "                nums[idx] = value\n",
        "\n",
        "        return nums\n"
      ]
    }
  ]
}