{
  "nbformat": 4,
  "nbformat_minor": 0,
  "metadata": {
    "colab": {
      "provenance": []
    },
    "kernelspec": {
      "name": "python3",
      "display_name": "Python 3"
    },
    "language_info": {
      "name": "python"
    }
  },
  "cells": [
    {
      "cell_type": "code",
      "execution_count": null,
      "metadata": {
        "id": "kQjWvHzXch44"
      },
      "outputs": [],
      "source": [
        "class Solution(object):\n",
        "    def areSentencesSimilar(self, sentence1, sentence2):\n",
        "        words1 = sentence1.split()\n",
        "        words2 = sentence2.split()\n",
        "\n",
        "        i, j = 0, 0\n",
        "        n1, n2 = len(words1), len(words2)\n",
        "\n",
        "        while i < n1 and i < n2 and words1[i] == words2[i]:\n",
        "            i += 1\n",
        "\n",
        "        while j < n1 - i and j < n2 - i and words1[n1 - 1 - j] == words2[n2 - 1 - j]:\n",
        "            j += 1\n",
        "\n",
        "        return i + j == min(n1, n2)\n"
      ]
    }
  ]
}