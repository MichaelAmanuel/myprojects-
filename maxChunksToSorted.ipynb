{
  "nbformat": 4,
  "nbformat_minor": 0,
  "metadata": {
    "colab": {
      "provenance": []
    },
    "kernelspec": {
      "name": "python3",
      "display_name": "Python 3"
    },
    "language_info": {
      "name": "python"
    }
  },
  "cells": [
    {
      "cell_type": "code",
      "execution_count": 1,
      "metadata": {
        "id": "kQjWvHzXch44",
        "colab": {
          "base_uri": "https://localhost:8080/"
        },
        "outputId": "50e14a69-7a1a-437e-be44-e1ade4c7db4d"
      },
      "outputs": [
        {
          "output_type": "stream",
          "name": "stdout",
          "text": [
            "zzcacc\n",
            "bbab\n"
          ]
        }
      ],
      "source": [
        "class Solution:\n",
        "    def maxChunksToSorted(self, arr):\n",
        "        \"\"\"\n",
        "        :type arr: List[int]\n",
        "        :rtype: int\n",
        "        \"\"\"\n",
        "        max_so_far = 0\n",
        "        chunks = 0\n",
        "\n",
        "        for i, num in enumerate(arr):\n",
        "            max_so_far = max(max_so_far, num)\n",
        "            # If the maximum value so far equals the index, we can split here\n",
        "            if max_so_far == i:\n",
        "                chunks += 1\n",
        "\n",
        "        return chunks\n"
      ]
    }
  ]
}