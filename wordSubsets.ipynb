{
  "nbformat": 4,
  "nbformat_minor": 0,
  "metadata": {
    "colab": {
      "provenance": []
    },
    "kernelspec": {
      "name": "python3",
      "display_name": "Python 3"
    },
    "language_info": {
      "name": "python"
    }
  },
  "cells": [
    {
      "cell_type": "code",
      "execution_count": null,
      "metadata": {
        "id": "kQjWvHzXch44",
        "colab": {
          "base_uri": "https://localhost:8080/"
        },
        "outputId": "50e14a69-7a1a-437e-be44-e1ade4c7db4d"
      },
      "outputs": [
        {
          "output_type": "stream",
          "name": "stdout",
          "text": [
            "zzcacc\n",
            "bbab\n"
          ]
        }
      ],
      "source": [
        "from collections import Counter\n",
        "\n",
        "class Solution(object):\n",
        "    def wordSubsets(self, words1, words2):\n",
        "        max_freq = Counter()\n",
        "        for word in words2:\n",
        "            freq = Counter(word)\n",
        "            for char in freq:\n",
        "                max_freq[char] = max(max_freq[char], freq[char])\n",
        "\n",
        "        result = []\n",
        "        for word in words1:\n",
        "            freq = Counter(word)\n",
        "            if all(freq[char] >= max_freq[char] for char in max_freq):\n",
        "                result.append(word)\n",
        "\n",
        "        return result\n"
      ]
    }
  ]
}