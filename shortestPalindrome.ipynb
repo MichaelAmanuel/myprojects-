{
  "nbformat": 4,
  "nbformat_minor": 0,
  "metadata": {
    "colab": {
      "provenance": []
    },
    "kernelspec": {
      "name": "python3",
      "display_name": "Python 3"
    },
    "language_info": {
      "name": "python"
    }
  },
  "cells": [
    {
      "cell_type": "code",
      "execution_count": null,
      "metadata": {
        "id": "kQjWvHzXch44"
      },
      "outputs": [],
      "source": [
        "class Solution:\n",
        "    def shortestPalindrome(self, s):\n",
        "\n",
        "        rev_s = s[::-1]\n",
        "\n",
        "        new_s = s + \"#\" + rev_s\n",
        "\n",
        "        n = len(new_s)\n",
        "        lps = [0] * n\n",
        "\n",
        "        for i in range(1, n):\n",
        "            j = lps[i - 1]\n",
        "\n",
        "            while j > 0 and new_s[i] != new_s[j]:\n",
        "                j = lps[j - 1]\n",
        "\n",
        "            if new_s[i] == new_s[j]:\n",
        "                j += 1\n",
        "\n",
        "            lps[i] = j\n",
        "\n",
        "        add_len = len(s) - lps[-1]\n",
        "\n",
        "        return rev_s[:add_len] + s\n"
      ]
    }
  ]
}