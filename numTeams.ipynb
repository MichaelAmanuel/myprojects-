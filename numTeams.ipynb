{
  "nbformat": 4,
  "nbformat_minor": 0,
  "metadata": {
    "colab": {
      "provenance": []
    },
    "kernelspec": {
      "name": "python3",
      "display_name": "Python 3"
    },
    "language_info": {
      "name": "python"
    }
  },
  "cells": [
    {
      "cell_type": "code",
      "execution_count": 1,
      "metadata": {
        "id": "YrNTzqVW7EWK",
        "outputId": "b9687661-de68-4bc8-b010-d6904f75c9af",
        "colab": {
          "base_uri": "https://localhost:8080/"
        }
      },
      "outputs": [
        {
          "output_type": "stream",
          "name": "stdout",
          "text": [
            "3\n"
          ]
        }
      ],
      "source": [
        "class Solution:\n",
        "    def numTeams(self, rating):\n",
        "        n = len(rating)\n",
        "        count = 0\n",
        "\n",
        "        for j in range(1, n - 1):\n",
        "            left_less, left_greater = 0, 0\n",
        "            right_less, right_greater = 0, 0\n",
        "\n",
        "            for i in range(j):\n",
        "                if rating[i] < rating[j]:\n",
        "                    left_less += 1\n",
        "                elif rating[i] > rating[j]:\n",
        "                    left_greater += 1\n",
        "\n",
        "            for k in range(j + 1, n):\n",
        "                if rating[k] < rating[j]:\n",
        "                    right_less += 1\n",
        "                elif rating[k] > rating[j]:\n",
        "                    right_greater += 1\n",
        "\n",
        "            count += left_less * right_greater + left_greater * right_less\n",
        "\n",
        "        return count\n",
        "\n",
        "# Example usage\n",
        "solution = Solution()\n",
        "rating = [2, 5, 3, 4, 1]\n",
        "print(solution.numTeams(rating))  # Output: 3\n"
      ]
    }
  ]
}