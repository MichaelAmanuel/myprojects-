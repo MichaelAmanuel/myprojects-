{
  "nbformat": 4,
  "nbformat_minor": 0,
  "metadata": {
    "colab": {
      "provenance": []
    },
    "kernelspec": {
      "name": "python3",
      "display_name": "Python 3"
    },
    "language_info": {
      "name": "python"
    }
  },
  "cells": [
    {
      "cell_type": "code",
      "execution_count": null,
      "metadata": {
        "id": "kQjWvHzXch44"
      },
      "outputs": [],
      "source": [
        "class Solution(object):\n",
        "    def continuousSubarrays(self, nums):\n",
        "        from collections import deque\n",
        "        left = 0\n",
        "        result = 0\n",
        "        min_deque = deque()\n",
        "        max_deque = deque()\n",
        "\n",
        "        for right in range(len(nums)):\n",
        "            while min_deque and nums[min_deque[-1]] > nums[right]:\n",
        "                min_deque.pop()\n",
        "            min_deque.append(right)\n",
        "\n",
        "            while max_deque and nums[max_deque[-1]] < nums[right]:\n",
        "                max_deque.pop()\n",
        "            max_deque.append(right)\n",
        "\n",
        "            while nums[max_deque[0]] - nums[min_deque[0]] > 2:\n",
        "                left += 1\n",
        "                if min_deque[0] < left:\n",
        "                    min_deque.popleft()\n",
        "                if max_deque[0] < left:\n",
        "                    max_deque.popleft()\n",
        "\n",
        "            result += right - left + 1\n",
        "\n",
        "        return result\n"
      ]
    }
  ]
}