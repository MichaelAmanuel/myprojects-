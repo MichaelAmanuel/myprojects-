{
  "nbformat": 4,
  "nbformat_minor": 0,
  "metadata": {
    "colab": {
      "provenance": []
    },
    "kernelspec": {
      "name": "python3",
      "display_name": "Python 3"
    },
    "language_info": {
      "name": "python"
    }
  },
  "cells": [
    {
      "cell_type": "code",
      "execution_count": 1,
      "metadata": {
        "id": "kQjWvHzXch44"
      },
      "outputs": [],
      "source": [
        "from collections import defaultdict, deque\n",
        "\n",
        "class Solution:\n",
        "    def maximumInvitations(self, favorite: list[int]) -> int:\n",
        "        n = len(favorite)\n",
        "        visited = [False] * n\n",
        "        in_cycle = [False] * n\n",
        "        max_chain = [0] * n\n",
        "\n",
        "        def find_cycle_length(node):\n",
        "            stack = []\n",
        "            while not visited[node]:\n",
        "                visited[node] = True\n",
        "                stack.append(node)\n",
        "                node = favorite[node]\n",
        "            if node in stack:\n",
        "                cycle_start = stack.index(node)\n",
        "                cycle_length = len(stack) - cycle_start\n",
        "                for i in stack[cycle_start:]:\n",
        "                    in_cycle[i] = True\n",
        "                return cycle_length\n",
        "            return 0\n",
        "\n",
        "        total_cycle_length = 0\n",
        "        for i in range(n):\n",
        "            if not visited[i]:\n",
        "                total_cycle_length += find_cycle_length(i)\n",
        "\n",
        "        def compute_chain_length(node):\n",
        "            if max_chain[node] > 0:\n",
        "                return max_chain[node]\n",
        "            if in_cycle[node]:\n",
        "                return 0\n",
        "            max_chain[node] = 1 + compute_chain_length(favorite[node])\n",
        "            return max_chain[node]\n",
        "\n",
        "        for i in range(n):\n",
        "            if not in_cycle[i]:\n",
        "                compute_chain_length(i)\n",
        "\n",
        "        mutual_favorites_length = 0\n",
        "        for i in range(n):\n",
        "            if favorite[favorite[i]] == i and i < favorite[i]:\n",
        "                mutual_favorites_length += 2 + max_chain[i] + max_chain[favorite[i]]\n",
        "\n",
        "        return max(total_cycle_length, mutual_favorites_length)\n"
      ]
    },
    {
      "cell_type": "code",
      "source": [
        "s = \"abaacbcbb\""
      ],
      "metadata": {
        "id": "roULjd7SXK2j"
      },
      "execution_count": null,
      "outputs": []
    }
  ]
}