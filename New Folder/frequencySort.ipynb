{
  "nbformat": 4,
  "nbformat_minor": 0,
  "metadata": {
    "colab": {
      "provenance": []
    },
    "kernelspec": {
      "name": "python3",
      "display_name": "Python 3"
    },
    "language_info": {
      "name": "python"
    }
  },
  "cells": [
    {
      "cell_type": "code",
      "execution_count": null,
      "metadata": {
        "id": "kQjWvHzXch44"
      },
      "outputs": [],
      "source": [
        "class Solution(object):\n",
        "    def frequencySort(self, nums):\n",
        "\n",
        "        from collections import Counter\n",
        "\n",
        "        frequency = Counter(nums)\n",
        "\n",
        "        nums.sort(key=lambda x: (frequency[x], -x))\n",
        "\n",
        "        return nums\n",
        "\n",
        "solution = Solution()\n",
        "nums = [1, 1, 2, 2, 2, 3]\n",
        "print(solution.frequencySort(nums))"
      ]
    }
  ]
}