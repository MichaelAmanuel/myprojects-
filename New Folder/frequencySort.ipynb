{
  "nbformat": 4,
  "nbformat_minor": 0,
  "metadata": {
    "colab": {
      "provenance": []
    },
    "kernelspec": {
      "name": "python3",
      "display_name": "Python 3"
    },
    "language_info": {
      "name": "python"
    }
  },
  "cells": [
    {
      "cell_type": "code",
      "source": [
        "def check_freq(x):\n",
        "    return {c: x.count(c) for c in set(x)}\n",
        "\n",
        "result = check_freq(\"abbabcbdbabdbdbabababcbcbab\")\n",
        "print(result)\n"
      ],
      "metadata": {
        "colab": {
          "base_uri": "https://localhost:8080/"
        },
        "id": "Ii_EhNmiUnY3",
        "outputId": "563ddb92-040f-45fe-9d63-8753236c5bff"
      },
      "execution_count": 16,
      "outputs": [
        {
          "output_type": "stream",
          "name": "stdout",
          "text": [
            "{'a': 7, 'b': 14, 'd': 3, 'c': 3}\n"
          ]
        }
      ]
    },
    {
      "cell_type": "code",
      "source": [
        "sorted_dict = dict(sorted(result.items(), key=lambda item: item[1], reverse=True))\n",
        "print(sorted_dict)"
      ],
      "metadata": {
        "colab": {
          "base_uri": "https://localhost:8080/"
        },
        "id": "dwJSK280Uut3",
        "outputId": "c4ace5ff-35d3-43f6-cd40-8f510823ec58"
      },
      "execution_count": 18,
      "outputs": [
        {
          "output_type": "stream",
          "name": "stdout",
          "text": [
            "{'b': 14, 'a': 7, 'd': 3, 'c': 3}\n"
          ]
        }
      ]
    },
    {
      "cell_type": "code",
      "source": [
        "string  = ''\n",
        "\n",
        "for key, value in sorted_dict.items():\n",
        "  for i in range(value):\n",
        "    string = string + key\n",
        "\n",
        "print(string)"
      ],
      "metadata": {
        "colab": {
          "base_uri": "https://localhost:8080/"
        },
        "id": "vJ-1Cly-Zlwl",
        "outputId": "491bede2-4a7f-427a-826b-5004bb4939a1"
      },
      "execution_count": 22,
      "outputs": [
        {
          "output_type": "stream",
          "name": "stdout",
          "text": [
            "bbbbbbbbbbbbbbaaaaaaadddccc\n"
          ]
        }
      ]
    },
    {
      "cell_type": "code",
      "source": [
        "class Solution(object):\n",
        "    def frequencySort(self, x):\n",
        "\n",
        "      result = {c: x.count(c) for c in set(x)}\n",
        "      sorted_dict = dict(sorted(result.items(), key=lambda item: item[1], reverse=True))\n",
        "\n",
        "      string  = ''\n",
        "\n",
        "      for key, value in sorted_dict.items():\n",
        "        for i in range(value):\n",
        "          string = string + key\n",
        "\n",
        "      return string\n",
        "\n",
        "solution = Solution()\n",
        "s = s = \"cccaaa\"\n",
        "print(solution.frequencySort(s))"
      ],
      "metadata": {
        "colab": {
          "base_uri": "https://localhost:8080/"
        },
        "id": "42iCOzIvaDcW",
        "outputId": "b383e5d0-a177-4f0e-afac-84ebe8daabdb"
      },
      "execution_count": 25,
      "outputs": [
        {
          "output_type": "stream",
          "name": "stdout",
          "text": [
            "aaaccc\n"
          ]
        }
      ]
    },
    {
      "cell_type": "code",
      "source": [],
      "metadata": {
        "id": "n_kv9Hu5am72"
      },
      "execution_count": null,
      "outputs": []
    }
  ]
}