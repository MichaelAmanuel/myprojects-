{
  "nbformat": 4,
  "nbformat_minor": 0,
  "metadata": {
    "colab": {
      "provenance": []
    },
    "kernelspec": {
      "name": "python3",
      "display_name": "Python 3"
    },
    "language_info": {
      "name": "python"
    }
  },
  "cells": [
    {
      "cell_type": "code",
      "execution_count": 20,
      "metadata": {
        "colab": {
          "base_uri": "https://localhost:8080/"
        },
        "id": "S64Lh98Cnthe",
        "outputId": "cbd463c3-c6f9-4e7b-86aa-9b112b62a67a"
      },
      "outputs": [
        {
          "output_type": "stream",
          "name": "stdout",
          "text": [
            "9\n",
            "\n",
            "True\n"
          ]
        }
      ],
      "source": [
        "class Solution(object):\n",
        "    def isFascinating(self, n):\n",
        "      my_num = str(n)\n",
        "      for i in range(2, 4):\n",
        "          my_num += str(i * n)\n",
        "\n",
        "\n",
        "      if len(my_num) !=len(set(list(my_num))):\n",
        "        return False\n",
        "\n",
        "      for i in range(1,10):\n",
        "        if str(i) not in list(my_num):\n",
        "          return False\n",
        "\n",
        "      return True\n",
        "\n",
        "solution = Solution()\n",
        "n = 192\n",
        "print(solution.isFascinating(n))\n"
      ]
    },
    {
      "cell_type": "code",
      "source": [],
      "metadata": {
        "id": "nFMuKRpVrAAm"
      },
      "execution_count": null,
      "outputs": []
    }
  ]
}