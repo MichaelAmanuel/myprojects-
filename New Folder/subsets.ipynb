{
  "nbformat": 4,
  "nbformat_minor": 0,
  "metadata": {
    "colab": {
      "provenance": []
    },
    "kernelspec": {
      "name": "python3",
      "display_name": "Python 3"
    },
    "language_info": {
      "name": "python"
    }
  },
  "cells": [
    {
      "cell_type": "code",
      "execution_count": 1,
      "metadata": {
        "id": "80BpFdij4rGe",
        "outputId": "2c63c941-953b-4d17-9e02-9088d456b30e",
        "colab": {
          "base_uri": "https://localhost:8080/"
        }
      },
      "outputs": [
        {
          "output_type": "stream",
          "name": "stdout",
          "text": [
            "[[], [1], [1, 2], [1, 2, 3], [1, 3], [2], [2, 3], [3]]\n"
          ]
        }
      ],
      "source": [
        "class Solution(object):\n",
        "    def subsets(self, nums):\n",
        "        def backtrack(start, path):\n",
        "            result.append(path[:])\n",
        "            for i in range(start, len(nums)):\n",
        "                path.append(nums[i])\n",
        "                backtrack(i + 1, path)\n",
        "                path.pop()\n",
        "\n",
        "        result = []\n",
        "        backtrack(0, [])\n",
        "        return result\n",
        "\n",
        "# Example usage:\n",
        "solution = Solution()\n",
        "nums = [1, 2, 3]\n",
        "result = solution.subsets(nums)\n",
        "print(result)  # Output: [[], [1], [1, 2], [1, 2, 3], [1, 3], [2], [2, 3], [3]]\n"
      ]
    }
  ]
}