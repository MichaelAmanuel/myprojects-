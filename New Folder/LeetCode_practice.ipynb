{
  "nbformat": 4,
  "nbformat_minor": 0,
  "metadata": {
    "colab": {
      "provenance": []
    },
    "kernelspec": {
      "name": "python3",
      "display_name": "Python 3"
    },
    "language_info": {
      "name": "python"
    }
  },
  "cells": [
    {
      "cell_type": "code",
      "execution_count": 6,
      "metadata": {
        "colab": {
          "base_uri": "https://localhost:8080/"
        },
        "id": "IPEzMcC9_4HL",
        "outputId": "9ff4a3f4-0f3c-458a-9533-f7411ab58acc"
      },
      "outputs": [
        {
          "output_type": "stream",
          "name": "stdout",
          "text": [
            "cadf\n"
          ]
        }
      ],
      "source": [
        "class Solution(object):\n",
        "    def mergeAlternately(self, word1, word2, fillvalue=None):\n",
        "\n",
        "        out_put = ''\n",
        "        for i, j in zip(word1, word2):\n",
        "            out_put += i + j\n",
        "\n",
        "        if len(word1) == len(word2):\n",
        "          return out_put\n",
        "\n",
        "        elif len(word1) > len(word2):\n",
        "          # dig = len(word1) - len(word2)\n",
        "          out_put += word1[len(word2):len(word1)]\n",
        "          return out_put\n",
        "\n",
        "        else:\n",
        "          dig = len(word2) - len(word1)\n",
        "          out_put += word2[len(word1): len(word2)]\n",
        "\n",
        "          return out_put\n",
        "\n",
        "\n",
        "solution = Solution()\n",
        "word1 = \"cdf\"\n",
        "word2 = \"a\"\n",
        "result = solution.mergeAlternately(word1, word2)\n",
        "print(result)"
      ]
    },
    {
      "cell_type": "code",
      "source": [
        "class Solution(object):\n",
        "    def kidsWithCandies(self, candies, extraCandies):\n",
        "      max_cand = max(candies)\n",
        "      min_cand = []\n",
        "\n",
        "      for i in candies:\n",
        "        if (i + extraCandies) >= max_cand:\n",
        "          min_cand.append('True')\n",
        "\n",
        "        else:\n",
        "          min_cand.append('False')\n",
        "\n",
        "      return min_cand\n",
        "\n",
        "solution = Solution()\n",
        "\n",
        "candies = [2,3,5,1,3]\n",
        "extraCandies = 3\n",
        "\n",
        "result = solution.kidsWithCandies(candies, extraCandies)\n",
        "print(result)\n",
        "solution = Solution()\n",
        "\n",
        "# candies = [4,2,1,1,2]\n",
        "# extraCandies = 1\n",
        "\n",
        "# result = solution.kidsWithCandies(candies, extraCandies)\n",
        "# print(result)"
      ],
      "metadata": {
        "id": "f8p-igY6BgmU",
        "colab": {
          "base_uri": "https://localhost:8080/"
        },
        "outputId": "d138ea84-c043-4a98-df0d-2a0b6dd88334"
      },
      "execution_count": 1,
      "outputs": [
        {
          "output_type": "stream",
          "name": "stdout",
          "text": [
            "['True', 'True', 'True', 'False', 'True']\n"
          ]
        }
      ]
    },
    {
      "cell_type": "code",
      "source": [
        "class Solution(object):\n",
        "    def removeElement(self, nums, val):\n",
        "\n",
        "      for i in range(0, len(nums)):\n",
        "        if nums[i] == val:\n",
        "          nums[i] = '_'\n",
        "\n",
        "\n",
        "      return nums\n",
        "\n",
        "solution = Solution()\n",
        "\n",
        "nums = [3,2,2,3]\n",
        "val = 3\n",
        "\n",
        "result = solution.removeElement(nums, val)\n",
        "print(result)"
      ],
      "metadata": {
        "colab": {
          "base_uri": "https://localhost:8080/"
        },
        "id": "sKDg0_uRsIil",
        "outputId": "d8454a6b-9e1c-4fd4-ec07-766ec2183af7"
      },
      "execution_count": null,
      "outputs": [
        {
          "output_type": "stream",
          "name": "stdout",
          "text": [
            "['_', 2, 2, '_']\n"
          ]
        }
      ]
    },
    {
      "cell_type": "code",
      "source": [
        "class Solution(object):\n",
        "    def removeElement(self, nums, val):\n",
        "      new_nums = []\n",
        "      count = 0\n",
        "      for i in range(0, len(nums)):\n",
        "        if nums[i] != val:\n",
        "          new_nums.append(nums[i])\n",
        "        else:\n",
        "            count += 1\n",
        "      for j in range(0, count):\n",
        "        new_nums.append('_')\n",
        "\n",
        "      return new_nums\n",
        "\n",
        "\n",
        "solution = Solution()\n",
        "\n",
        "nums = [3,2,2,3]\n",
        "val = 3\n",
        "\n",
        "result = solution.removeElement(nums, val)\n",
        "print(result)"
      ],
      "metadata": {
        "colab": {
          "base_uri": "https://localhost:8080/"
        },
        "id": "NKnGOr7f7L3L",
        "outputId": "d9e11576-685e-4d22-809a-2b17d091c02c"
      },
      "execution_count": null,
      "outputs": [
        {
          "output_type": "stream",
          "name": "stdout",
          "text": [
            "[2, 2, '_', '_']\n"
          ]
        }
      ]
    },
    {
      "cell_type": "code",
      "source": [
        "class Solution(object):\n",
        "    def reverse(self, x):\n",
        "      out_p = ''\n",
        "      while x > 0:\n",
        "        dig = x % 10\n",
        "        out_p +=  str(dig)\n",
        "        x //= 10\n",
        "\n",
        "      return int(out_p)\n",
        "\n",
        "solution = Solution()\n",
        "x = 123\n",
        "if x > 0:\n",
        "  result = solution.reverse(x)\n",
        "  print(result)\n",
        "else:\n",
        "  x *= -1\n",
        "  result = solution.reverse(x)\n",
        "  result *= -1\n",
        "  print(result)"
      ],
      "metadata": {
        "colab": {
          "base_uri": "https://localhost:8080/"
        },
        "id": "ofRX7UF670nZ",
        "outputId": "74bc3b55-9889-4c01-b271-5a8bc6612181"
      },
      "execution_count": null,
      "outputs": [
        {
          "output_type": "stream",
          "name": "stdout",
          "text": [
            "321\n"
          ]
        }
      ]
    }
  ]
}