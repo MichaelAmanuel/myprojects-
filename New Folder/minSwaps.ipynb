{
  "nbformat": 4,
  "nbformat_minor": 0,
  "metadata": {
    "colab": {
      "provenance": []
    },
    "kernelspec": {
      "name": "python3",
      "display_name": "Python 3"
    },
    "language_info": {
      "name": "python"
    }
  },
  "cells": [
    {
      "cell_type": "code",
      "execution_count": null,
      "metadata": {
        "id": "kQjWvHzXch44",
        "colab": {
          "base_uri": "https://localhost:8080/"
        },
        "outputId": "2f10b5e0-9760-41c8-b117-134cc9068974"
      },
      "outputs": [
        {
          "output_type": "stream",
          "name": "stdout",
          "text": [
            "4.666666666666667\n",
            "3.0\n"
          ]
        }
      ],
      "source": [
        "class Solution:\n",
        "    def minSwaps(self, nums):\n",
        "        n = len(nums)\n",
        "        count_1 = sum(nums)\n",
        "\n",
        "        if count_1 == 0:\n",
        "            return 0\n",
        "\n",
        "        max_ones_in_window = 0\n",
        "        current_ones = 0\n",
        "\n",
        "        for i in range(count_1):\n",
        "            current_ones += nums[i]\n",
        "\n",
        "        max_ones_in_window = current_ones\n",
        "\n",
        "        for i in range(1, n):\n",
        "            current_ones -= nums[i - 1]\n",
        "            current_ones += nums[(i + count_1 - 1) % n]\n",
        "            max_ones_in_window = max(max_ones_in_window, current_ones)\n",
        "\n",
        "        return count_1 - max_ones_in_window\n",
        "\n",
        "\n",
        "solution = Solution()\n",
        "nums = [0,1,0,1,1,0,0]\n",
        "print(solution.minSwaps(nums))\n"
      ]
    },
    {
      "cell_type": "code",
      "source": [],
      "metadata": {
        "id": "FsWd_sONMEhw",
        "outputId": "c94d3430-ac5a-4336-d4ac-de2f5ea65a69",
        "colab": {
          "base_uri": "https://localhost:8080/"
        }
      },
      "execution_count": null,
      "outputs": [
        {
          "output_type": "stream",
          "name": "stdout",
          "text": [
            "6\n",
            "6\n"
          ]
        }
      ]
    }
  ]
}