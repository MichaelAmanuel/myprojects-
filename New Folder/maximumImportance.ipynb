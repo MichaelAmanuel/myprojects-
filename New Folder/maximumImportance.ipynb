{
  "nbformat": 4,
  "nbformat_minor": 0,
  "metadata": {
    "colab": {
      "provenance": []
    },
    "kernelspec": {
      "name": "python3",
      "display_name": "Python 3"
    },
    "language_info": {
      "name": "python"
    }
  },
  "cells": [
    {
      "cell_type": "code",
      "execution_count": null,
      "metadata": {
        "id": "Oy_UAcuqghQs"
      },
      "outputs": [],
      "source": [
        "class Solution(object):\n",
        "    def maximumImportance(self, n, roads):\n",
        "        degree = [0] * n\n",
        "        for a, b in roads:\n",
        "            degree[a] += 1\n",
        "            degree[b] += 1\n",
        "\n",
        "        sorted_cities = sorted(range(n), key=lambda x: degree[x], reverse=True)\n",
        "\n",
        "        importance = [0] * n\n",
        "        for i, city in enumerate(sorted_cities):\n",
        "            importance[city] = n - i\n",
        "\n",
        "        max_importance = 0\n",
        "        for a, b in roads:\n",
        "            max_importance += importance[a] + importance[b]\n",
        "\n",
        "        return max_importance\n",
        "\n",
        "\n",
        "solution = Solution()\n",
        "n = 5\n",
        "roads = [[0,1],[1,2],[2,3],[0,2],[1,3],[2,4]]\n",
        "print(solution.maximumImportance(n, roads))"
      ]
    }
  ]
}