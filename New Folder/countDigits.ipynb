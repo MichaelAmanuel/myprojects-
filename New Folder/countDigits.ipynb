{
  "nbformat": 4,
  "nbformat_minor": 0,
  "metadata": {
    "colab": {
      "provenance": []
    },
    "kernelspec": {
      "name": "python3",
      "display_name": "Python 3"
    },
    "language_info": {
      "name": "python"
    }
  },
  "cells": [
    {
      "cell_type": "code",
      "execution_count": 4,
      "metadata": {
        "colab": {
          "base_uri": "https://localhost:8080/"
        },
        "id": "X66GS_ooYELa",
        "outputId": "b63929a3-0ad4-4766-96a7-ec40653acc07"
      },
      "outputs": [
        {
          "output_type": "stream",
          "name": "stdout",
          "text": [
            "2\n"
          ]
        }
      ],
      "source": [
        "class Solution(object):\n",
        "    def countDigits(self, num):\n",
        "      count = 0\n",
        "      for i in str(num):\n",
        "        if num % int(i) == 0:\n",
        "          count += 1\n",
        "\n",
        "      return count\n",
        "\n",
        "solution = Solution()\n",
        "num = 121\n",
        "print(solution.countDigits(num))"
      ]
    }
  ]
}