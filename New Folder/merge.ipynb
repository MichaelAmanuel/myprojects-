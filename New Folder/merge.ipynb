{
  "nbformat": 4,
  "nbformat_minor": 0,
  "metadata": {
    "colab": {
      "provenance": []
    },
    "kernelspec": {
      "name": "python3",
      "display_name": "Python 3"
    },
    "language_info": {
      "name": "python"
    }
  },
  "cells": [
    {
      "cell_type": "code",
      "execution_count": 11,
      "metadata": {
        "colab": {
          "base_uri": "https://localhost:8080/"
        },
        "id": "vAynvu119Sqc",
        "outputId": "92804e36-f8f9-47a8-c961-ed14ad75d744"
      },
      "outputs": [
        {
          "output_type": "stream",
          "name": "stdout",
          "text": [
            "[1, 2, 2, 3, 5, 6]\n"
          ]
        }
      ],
      "source": [
        "class Solution(object):\n",
        "    def merge(self, nums1, m, nums2, n):\n",
        "        out_put_1 = []\n",
        "        for i in range(0, m):\n",
        "            out_put_1.append(nums1[i])\n",
        "\n",
        "        for j in range(0, n):\n",
        "            out_put_1.append(nums2[j])\n",
        "\n",
        "        return sorted(out_put_1)\n",
        "\n",
        "\n",
        "solution_instance = Solution()\n",
        "nums1 = [1,2,3,0,0,0]\n",
        "m = 3\n",
        "nums2 = [2,5,6]\n",
        "n = 3\n",
        "result = solution_instance.merge(nums1, m, nums2, n)\n",
        "print(result)"
      ]
    }
  ]
}