{
  "nbformat": 4,
  "nbformat_minor": 0,
  "metadata": {
    "colab": {
      "provenance": []
    },
    "kernelspec": {
      "name": "python3",
      "display_name": "Python 3"
    },
    "language_info": {
      "name": "python"
    }
  },
  "cells": [
    {
      "cell_type": "code",
      "source": [
        "\n",
        "class Solution(object):\n",
        "    def rotate(self, nums, k):\n",
        "      l = len(nums) - k\n",
        "      num = []\n",
        "      for i in range(l, len(nums)):\n",
        "        num.append(nums[i])\n",
        "\n",
        "      for j in range(l):\n",
        "        num.append(nums[j])\n",
        "\n",
        "      return num\n",
        "\n",
        "solution = Solution()\n",
        "nums = [-1,-100,3,99]\n",
        "k = 2\n",
        "print(solution.rotate(nums, k))"
      ],
      "metadata": {
        "colab": {
          "base_uri": "https://localhost:8080/"
        },
        "id": "8s3EFbw_Gb9V",
        "outputId": "8a2f3b35-c832-4dd1-981b-073eb038c365"
      },
      "execution_count": 23,
      "outputs": [
        {
          "output_type": "stream",
          "name": "stdout",
          "text": [
            "[3, 99, -1, -100]\n"
          ]
        }
      ]
    },
    {
      "cell_type": "code",
      "source": [
        "class Solution(object):\n",
        "    def rotate(self, nums, k):\n",
        "        n = len(nums)\n",
        "        k = k % n\n",
        "        rotated = nums[-k:] + nums[:-k]\n",
        "        return rotated\n",
        "\n",
        "solution = Solution()\n",
        "nums = [1, 2, 3, 4, 5, 6, 7]\n",
        "k = 3\n",
        "print(solution.rotate(nums, k))\n"
      ],
      "metadata": {
        "colab": {
          "base_uri": "https://localhost:8080/"
        },
        "id": "mGhHMiawLX3o",
        "outputId": "57b4fd9d-ee8e-415d-9a24-603fde41caa1"
      },
      "execution_count": 25,
      "outputs": [
        {
          "output_type": "stream",
          "name": "stdout",
          "text": [
            "[5, 6, 7, 1, 2, 3, 4]\n"
          ]
        }
      ]
    }
  ]
}