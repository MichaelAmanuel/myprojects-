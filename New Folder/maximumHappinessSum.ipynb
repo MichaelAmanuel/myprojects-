{
  "nbformat": 4,
  "nbformat_minor": 0,
  "metadata": {
    "colab": {
      "provenance": []
    },
    "kernelspec": {
      "name": "python3",
      "display_name": "Python 3"
    },
    "language_info": {
      "name": "python"
    }
  },
  "cells": [
    {
      "cell_type": "code",
      "execution_count": 1,
      "metadata": {
        "id": "hKzAzaPTpX7w",
        "colab": {
          "base_uri": "https://localhost:8080/"
        },
        "outputId": "1b26763a-51c7-4f37-e57a-09dadf8fda7e"
      },
      "outputs": [
        {
          "output_type": "stream",
          "name": "stdout",
          "text": [
            "6\n"
          ]
        }
      ],
      "source": [
        "class Solution(object):\n",
        "    def maximumHappinessSum(self, happiness, k):\n",
        "        happiness.sort(reverse=True)\n",
        "        turns_survived = [min(k, i + 1) for i in range(len(happiness))]\n",
        "        total_happiness = sum(happiness[i] for i in range(len(happiness)) if turns_survived[i] > 0)\n",
        "        return total_happiness\n",
        "\n",
        "solution = Solution()\n",
        "happiness = [1, 2, 3]\n",
        "k = 2\n",
        "result = solution.maximumHappinessSum(happiness, k)\n",
        "print(result)\n"
      ]
    }
  ]
}