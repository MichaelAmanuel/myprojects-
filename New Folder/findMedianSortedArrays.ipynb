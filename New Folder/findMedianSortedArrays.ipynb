{
  "nbformat": 4,
  "nbformat_minor": 0,
  "metadata": {
    "colab": {
      "provenance": []
    },
    "kernelspec": {
      "name": "python3",
      "display_name": "Python 3"
    },
    "language_info": {
      "name": "python"
    }
  },
  "cells": [
    {
      "cell_type": "code",
      "execution_count": null,
      "metadata": {
        "colab": {
          "base_uri": "https://localhost:8080/"
        },
        "id": "6ZUD6yQTYYsV",
        "outputId": "1dfb2671-7293-4242-eeeb-b38cfabe4e33"
      },
      "outputs": [
        {
          "output_type": "stream",
          "name": "stdout",
          "text": [
            "2\n"
          ]
        }
      ],
      "source": [
        "import statistics\n",
        "class Solution(object):\n",
        "    def findMedianSortedArrays(self, nums1, nums2):\n",
        "\n",
        "      for i in nums2:\n",
        "        nums1.append(i)\n",
        "\n",
        "      return statistics.median(sorted(nums1))\n",
        "\n",
        "\n",
        "solution = Solution()\n",
        "nums1 = [1,3]\n",
        "nums2 = [2]\n",
        "print(solution.findMedianSortedArrays(nums1, nums2))"
      ]
    },
    {
      "cell_type": "code",
      "source": [
        "class Solution(object):\n",
        "    def findMedianSortedArrays(self, nums1, nums2):\n",
        "\n",
        "      for i in nums2:\n",
        "        nums1.append(i)\n",
        "\n",
        "      if len(nums1) %2 == 1:\n",
        "        return sorted(nums1)[len(nums1)//2]\n",
        "\n",
        "      else:\n",
        "        return (sorted(nums1)[len(nums1) // 2 - 1] + sorted(nums1)[len(nums1) // 2]) / 2\n",
        "\n",
        "\n",
        "solution = Solution()\n",
        "nums1 = [1,2]\n",
        "nums2 = [3,4]\n",
        "print(solution.findMedianSortedArrays(nums1, nums2))"
      ],
      "metadata": {
        "colab": {
          "base_uri": "https://localhost:8080/"
        },
        "id": "SJwHFlbzYm2s",
        "outputId": "9b808993-6b8d-4978-98a8-8272bb2c3a4a"
      },
      "execution_count": null,
      "outputs": [
        {
          "output_type": "stream",
          "name": "stdout",
          "text": [
            "2.5\n"
          ]
        }
      ]
    },
    {
      "cell_type": "code",
      "source": [],
      "metadata": {
        "id": "t_DXptI1baWc"
      },
      "execution_count": null,
      "outputs": []
    }
  ]
}