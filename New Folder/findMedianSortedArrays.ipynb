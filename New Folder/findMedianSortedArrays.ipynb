{
  "nbformat": 4,
  "nbformat_minor": 0,
  "metadata": {
    "colab": {
      "provenance": []
    },
    "kernelspec": {
      "name": "python3",
      "display_name": "Python 3"
    },
    "language_info": {
      "name": "python"
    }
  },
  "cells": [
    {
      "cell_type": "code",
      "source": [
        "\n",
        "class Solution(object):\n",
        "    def findMedianSortedArrays(self, nums1, nums2):\n",
        "\n",
        "      merged_list = sorted(nums1 + nums2)\n",
        "\n",
        "      if len(merged_list) % 2 != 0:\n",
        "        median = int(len(merged_list)/2)\n",
        "        return merged_list[median]\n",
        "\n",
        "      else:\n",
        "        m1 = int(len(merged_list) / 2)\n",
        "        m2 = m1 - 1\n",
        "        return (merged_list[m1] + merged_list[m2]) / 2\n",
        "\n",
        "solution = Solution()\n",
        "nums1 = [1,2]\n",
        "nums2 = [3, 4]\n",
        "print(solution.findMedianSortedArrays(nums1, nums2))"
      ],
      "metadata": {
        "colab": {
          "base_uri": "https://localhost:8080/"
        },
        "id": "rVfw2L5xTKsk",
        "outputId": "14771df1-d52e-4b2b-c6b6-fcd9a82ca7eb"
      },
      "execution_count": 16,
      "outputs": [
        {
          "output_type": "stream",
          "name": "stdout",
          "text": [
            "2.5\n"
          ]
        }
      ]
    },
    {
      "cell_type": "code",
      "source": [],
      "metadata": {
        "id": "yLsybcN6TZQO"
      },
      "execution_count": null,
      "outputs": []
    }
  ]
}