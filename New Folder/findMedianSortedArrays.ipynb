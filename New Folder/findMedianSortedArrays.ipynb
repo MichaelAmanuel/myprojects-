{
  "nbformat": 4,
  "nbformat_minor": 0,
  "metadata": {
    "colab": {
      "provenance": []
    },
    "kernelspec": {
      "name": "python3",
      "display_name": "Python 3"
    },
    "language_info": {
      "name": "python"
    }
  },
  "cells": [
    {
      "cell_type": "code",
      "execution_count": 21,
      "metadata": {
        "colab": {
          "base_uri": "https://localhost:8080/"
        },
        "id": "S7DrAG8MvshS",
        "outputId": "7721d10a-ea3e-44f9-b87c-0d8975cf2647"
      },
      "outputs": [
        {
          "output_type": "stream",
          "name": "stdout",
          "text": [
            "2.5\n"
          ]
        }
      ],
      "source": [
        "\n",
        "class Solution(object):\n",
        "    def findMedianSortedArrays(self, nums1, nums2):\n",
        "\n",
        "      nums3 = sorted(nums1 + nums2)\n",
        "\n",
        "      if len(nums3) % 2 == 0:\n",
        "        return (nums3[len(nums3)//2 - 1] + nums3[len(nums3)//2 ])/2\n",
        "\n",
        "      else:\n",
        "        return nums3[len(nums3)//2]\n",
        "\n",
        "solution = Solution()\n",
        "nums1 = [1,2]\n",
        "nums2 = [3,4]\n",
        "print(solution.findMedianSortedArrays(nums1, nums2))"
      ]
    },
    {
      "cell_type": "code",
      "source": [],
      "metadata": {
        "id": "YvzCUG220kT5"
      },
      "execution_count": null,
      "outputs": []
    }
  ]
}