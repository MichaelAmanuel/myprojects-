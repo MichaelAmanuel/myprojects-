{
  "nbformat": 4,
  "nbformat_minor": 0,
  "metadata": {
    "colab": {
      "provenance": []
    },
    "kernelspec": {
      "name": "python3",
      "display_name": "Python 3"
    },
    "language_info": {
      "name": "python"
    }
  },
  "cells": [
    {
      "cell_type": "code",
      "execution_count": 8,
      "metadata": {
        "colab": {
          "base_uri": "https://localhost:8080/"
        },
        "id": "aqEYyTYC6p48",
        "outputId": "e46361be-e076-45b4-e8b2-62076f38c217"
      },
      "outputs": [
        {
          "output_type": "stream",
          "name": "stdout",
          "text": [
            "False\n"
          ]
        }
      ],
      "source": [
        "\n",
        "class Solution(object):\n",
        "    def canPlaceFlowers(self, flowerbed, n):\n",
        "      for i in range(len(flowerbed)):\n",
        "        if flowerbed[i] == 1:\n",
        "          count = 0\n",
        "          for j in range(i+1, len(flowerbed)):\n",
        "            if flowerbed[j] != 1:\n",
        "              count += 1\n",
        "            else:\n",
        "              break\n",
        "          if count == 3:\n",
        "            n -= 1\n",
        "      if n == 0:\n",
        "        return True\n",
        "\n",
        "      else:\n",
        "        return False\n",
        "\n",
        "solution = Solution()\n",
        "flowerbed = [1,0,0,0,0,0,1]\n",
        "n = 2\n",
        "print(solution.canPlaceFlowers(flowerbed, n))"
      ]
    },
    {
      "cell_type": "code",
      "source": [
        "class Solution(object):\n",
        "    def canPlaceFlowers(self, flowerbed, n):\n",
        "      for i in range(len(flowerbed)):\n",
        "        if flowerbed[i] == 1:\n",
        "          count = 0\n",
        "          for j in range(i+1, len(flowerbed)):\n",
        "            if flowerbed[j] != 1:\n",
        "              count += 1\n",
        "            else:\n",
        "              break\n",
        "          print(count)\n",
        "          if count / n > 2:\n",
        "            return True\n",
        "\n",
        "          else:\n",
        "            return False\n",
        "\n",
        "solution = Solution()\n",
        "flowerbed = [1,0,0,0,0,0,1]\n",
        "n = 2\n",
        "print(solution.canPlaceFlowers(flowerbed, n))"
      ],
      "metadata": {
        "colab": {
          "base_uri": "https://localhost:8080/"
        },
        "id": "wQoVsdC395Oq",
        "outputId": "338af2ac-8d70-48c4-82d9-9ac13bb021b2"
      },
      "execution_count": 16,
      "outputs": [
        {
          "output_type": "stream",
          "name": "stdout",
          "text": [
            "5\n",
            "True\n"
          ]
        }
      ]
    }
  ]
}