{
  "nbformat": 4,
  "nbformat_minor": 0,
  "metadata": {
    "colab": {
      "provenance": []
    },
    "kernelspec": {
      "name": "python3",
      "display_name": "Python 3"
    },
    "language_info": {
      "name": "python"
    }
  },
  "cells": [
    {
      "cell_type": "code",
      "execution_count": 1,
      "metadata": {
        "id": "kQjWvHzXch44"
      },
      "outputs": [],
      "source": [
        "class Solution(object):\n",
        "    def findKthBit(self, n, k):\n",
        "        # Helper function to find the k-th bit recursively\n",
        "        def findKthBitInSn(n, k):\n",
        "            if n == 1:\n",
        "                return '0'\n",
        "\n",
        "            mid = (1 << (n - 1))  # The middle index in S_n, which is 2^(n-1)\n",
        "\n",
        "            if k == mid:\n",
        "                return '1'\n",
        "            elif k < mid:\n",
        "                return findKthBitInSn(n - 1, k)\n",
        "            else:\n",
        "                # Mirror the position in S_{n-1}\n",
        "                mirrored_k = 2 * mid - k\n",
        "                return '1' if findKthBitInSn(n - 1, mirrored_k) == '0' else '0'\n",
        "\n",
        "        return findKthBitInSn(n, k)\n"
      ]
    },
    {
      "cell_type": "code",
      "source": [
        "class Solution(object):\n",
        "    def countMaxOrSubsets(self, nums):\n",
        "        max_or = [0]\n",
        "        count = [0]\n",
        "\n",
        "        def backtrack(index, current_or):\n",
        "            if index == len(nums):\n",
        "                if current_or > max_or[0]:\n",
        "                    max_or[0] = current_or\n",
        "                    count[0] = 1\n",
        "                elif current_or == max_or[0]:\n",
        "                    count[0] += 1\n",
        "                return\n",
        "\n",
        "            backtrack(index + 1, current_or | nums[index])\n",
        "            backtrack(index + 1, current_or)\n",
        "\n",
        "        backtrack(0, 0)\n",
        "        return count[0]\n",
        "\n"
      ],
      "metadata": {
        "id": "zKueL-OmC0pu"
      },
      "execution_count": null,
      "outputs": []
    }
  ]
}