{
  "nbformat": 4,
  "nbformat_minor": 0,
  "metadata": {
    "colab": {
      "provenance": []
    },
    "kernelspec": {
      "name": "python3",
      "display_name": "Python 3"
    },
    "language_info": {
      "name": "python"
    }
  },
  "cells": [
    {
      "cell_type": "code",
      "execution_count": null,
      "metadata": {
        "id": "kQjWvHzXch44",
        "colab": {
          "base_uri": "https://localhost:8080/"
        },
        "outputId": "8648224c-b848-4020-ff90-eb74afb8af8d"
      },
      "outputs": [
        {
          "output_type": "stream",
          "name": "stdout",
          "text": [
            "|\n"
          ]
        }
      ],
      "source": [
        "class Solution:\n",
        "    def isCircularSentence(self, sentence: str) -> bool:\n",
        "        words = sentence.split()\n",
        "\n",
        "        # Check consecutive words\n",
        "        for i in range(len(words) - 1):\n",
        "            if words[i][-1] != words[i + 1][0]:\n",
        "                return False\n",
        "\n",
        "        # Check the last word with the first word\n",
        "        if words[-1][-1] != words[0][0]:\n",
        "            return False\n",
        "\n",
        "        return True\n"
      ]
    },
    {
      "cell_type": "code",
      "source": [],
      "metadata": {
        "id": "Qp4ZCtSKtjmY"
      },
      "execution_count": null,
      "outputs": []
    }
  ]
}