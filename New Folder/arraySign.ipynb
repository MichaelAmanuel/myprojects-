{
  "nbformat": 4,
  "nbformat_minor": 0,
  "metadata": {
    "colab": {
      "provenance": []
    },
    "kernelspec": {
      "name": "python3",
      "display_name": "Python 3"
    },
    "language_info": {
      "name": "python"
    }
  },
  "cells": [
    {
      "cell_type": "code",
      "execution_count": 2,
      "metadata": {
        "colab": {
          "base_uri": "https://localhost:8080/"
        },
        "id": "J2eJp1_MeGev",
        "outputId": "08a789c4-3c54-4b54-c22e-32a92e3a0d97"
      },
      "outputs": [
        {
          "output_type": "stream",
          "name": "stdout",
          "text": [
            "1\n"
          ]
        }
      ],
      "source": [
        "class Solution(object):\n",
        "    def arraySign(self, nums):\n",
        "\n",
        "      prod = 1\n",
        "      for i in nums:\n",
        "        prod *= i\n",
        "\n",
        "      if prod > 0:\n",
        "          return 1\n",
        "      elif prod < 0:\n",
        "          return -1\n",
        "      else:\n",
        "          return 0\n",
        "\n",
        "solution = Solution()\n",
        "nums = [-1,-2,-3,-4,3,2,1]\n",
        "print(solution.arraySign(nums))"
      ]
    }
  ]
}