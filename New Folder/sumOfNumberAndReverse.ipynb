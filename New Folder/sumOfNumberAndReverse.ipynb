{
  "nbformat": 4,
  "nbformat_minor": 0,
  "metadata": {
    "colab": {
      "provenance": []
    },
    "kernelspec": {
      "name": "python3",
      "display_name": "Python 3"
    },
    "language_info": {
      "name": "python"
    }
  },
  "cells": [
    {
      "cell_type": "code",
      "execution_count": 8,
      "metadata": {
        "colab": {
          "base_uri": "https://localhost:8080/"
        },
        "id": "wHHJ_ZThrtfA",
        "outputId": "f130c480-22c4-4d90-aa10-e8634c08fcbf"
      },
      "outputs": [
        {
          "output_type": "stream",
          "name": "stdout",
          "text": [
            "True\n"
          ]
        }
      ],
      "source": [
        "class Solution(object):\n",
        "    def sumOfNumberAndReverse(self, num):\n",
        "\n",
        "      if num == 0:\n",
        "        return True\n",
        "      sum = 0\n",
        "      for i in range(1, num):\n",
        "        n = str(i)\n",
        "        sum = int(n[::-1]) + i\n",
        "        if sum == num:\n",
        "          return True\n",
        "\n",
        "      return False\n",
        "\n",
        "solution = Solution()\n",
        "num = 0\n",
        "print(solution.sumOfNumberAndReverse(num))"
      ]
    },
    {
      "cell_type": "code",
      "source": [
        "class Solution(object):\n",
        "    def sumOfNumberAndReverse(self, num):\n",
        "\n",
        "      if num == 0:\n",
        "        return True\n",
        "\n",
        "      for i in range(1, num):\n",
        "        if num == int(str(i)[::-1]) + i:\n",
        "          return True\n",
        "\n",
        "      return False\n",
        "\n",
        "solution = Solution()\n",
        "num = 0\n",
        "print(solution.sumOfNumberAndReverse(num))"
      ],
      "metadata": {
        "colab": {
          "base_uri": "https://localhost:8080/"
        },
        "id": "ZgbaoAHbtEiJ",
        "outputId": "f338ba4f-9c39-4946-de3e-afb876462ea8"
      },
      "execution_count": 12,
      "outputs": [
        {
          "output_type": "stream",
          "name": "stdout",
          "text": [
            "True\n"
          ]
        }
      ]
    }
  ]
}