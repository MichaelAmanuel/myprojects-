{
  "nbformat": 4,
  "nbformat_minor": 0,
  "metadata": {
    "colab": {
      "provenance": []
    },
    "kernelspec": {
      "name": "python3",
      "display_name": "Python 3"
    },
    "language_info": {
      "name": "python"
    }
  },
  "cells": [
    {
      "cell_type": "code",
      "execution_count": 2,
      "metadata": {
        "colab": {
          "base_uri": "https://localhost:8080/"
        },
        "id": "yPFfEehXTE1L",
        "outputId": "e8c5c6f5-c80a-4f26-bdfe-39e715e58066"
      },
      "outputs": [
        {
          "output_type": "stream",
          "name": "stdout",
          "text": [
            "3\n"
          ]
        }
      ],
      "source": [
        "class Solution(object):\n",
        "    def numberOfEmployeesWhoMetTarget(self, hours, target):\n",
        "\n",
        "      count = 0\n",
        "      for i in hours:\n",
        "        if i >= target:\n",
        "          count += 1\n",
        "\n",
        "      return count\n",
        "\n",
        "solution = Solution()\n",
        "hours = [0,1,2,3,4]\n",
        "target = 2\n",
        "print(solution.numberOfEmployeesWhoMetTarget(hours, target))"
      ]
    },
    {
      "cell_type": "code",
      "source": [],
      "metadata": {
        "id": "-Y_wX3scTjV0"
      },
      "execution_count": null,
      "outputs": []
    }
  ]
}