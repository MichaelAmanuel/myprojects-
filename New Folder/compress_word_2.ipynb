{
  "nbformat": 4,
  "nbformat_minor": 0,
  "metadata": {
    "colab": {
      "provenance": []
    },
    "kernelspec": {
      "name": "python3",
      "display_name": "Python 3"
    },
    "language_info": {
      "name": "python"
    }
  },
  "cells": [
    {
      "cell_type": "code",
      "execution_count": 3,
      "metadata": {
        "colab": {
          "base_uri": "https://localhost:8080/"
        },
        "id": "7wEy5aJBKXVN",
        "outputId": "145a531b-07ad-477d-fac6-3c9412c34dba"
      },
      "outputs": [
        {
          "output_type": "stream",
          "name": "stdout",
          "text": [
            "A4B4C5D2E4\n"
          ]
        }
      ],
      "source": [
        "def compress_word2(s):\n",
        "\n",
        "  run = ''\n",
        "  length = len(s)\n",
        "\n",
        "  if length == 1:\n",
        "    return s + '1'\n",
        "\n",
        "  cnt = 1\n",
        "  i = 1\n",
        "\n",
        "  while i < length:\n",
        "    if s[i] == s[i-1]:\n",
        "      cnt += 1\n",
        "    else:\n",
        "      run = run + s[i-1] + str(cnt)\n",
        "      cnt = 1\n",
        "\n",
        "    i += 1\n",
        "  run = run + s[i-1] + str(cnt)\n",
        "  return run\n",
        "\n",
        "word = 'AAAABBBBCCCCCDDEEEE'\n",
        "print(compress_word2(word))"
      ]
    },
    {
      "cell_type": "code",
      "source": [],
      "metadata": {
        "id": "4bPSzKa8MHlm"
      },
      "execution_count": null,
      "outputs": []
    }
  ]
}