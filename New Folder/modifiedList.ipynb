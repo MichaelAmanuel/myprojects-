{
  "nbformat": 4,
  "nbformat_minor": 0,
  "metadata": {
    "colab": {
      "provenance": []
    },
    "kernelspec": {
      "name": "python3",
      "display_name": "Python 3"
    },
    "language_info": {
      "name": "python"
    }
  },
  "cells": [
    {
      "cell_type": "code",
      "execution_count": 1,
      "metadata": {
        "id": "kQjWvHzXch44"
      },
      "outputs": [],
      "source": [
        "class ListNode:\n",
        "    def __init__(self, val=0, next=None):\n",
        "        self.val = val\n",
        "        self.next = next\n",
        "\n",
        "class Solution:\n",
        "    def modifiedList(self, nums, head):\n",
        "        to_remove = set(nums)\n",
        "        dummy = ListNode(0)\n",
        "        dummy.next = head\n",
        "        current = dummy\n",
        "\n",
        "        while current and current.next:\n",
        "            if current.next.val in to_remove:\n",
        "                current.next = current.next.next\n",
        "            else:\n",
        "                current = current.next\n",
        "\n",
        "        return dummy.next\n"
      ]
    },
    {
      "cell_type": "code",
      "source": [],
      "metadata": {
        "id": "6FcGHhRC-DGY"
      },
      "execution_count": null,
      "outputs": []
    }
  ]
}