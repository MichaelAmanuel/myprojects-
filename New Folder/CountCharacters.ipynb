{
  "nbformat": 4,
  "nbformat_minor": 0,
  "metadata": {
    "colab": {
      "provenance": []
    },
    "kernelspec": {
      "name": "python3",
      "display_name": "Python 3"
    },
    "language_info": {
      "name": "python"
    }
  },
  "cells": [
    {
      "cell_type": "code",
      "source": [
        "class Solution(object):\n",
        "    def countCharacters(self, words, chars):\n",
        "        out_char = []\n",
        "        sum = 0\n",
        "        for i in words:\n",
        "            l = len(i)\n",
        "            for j in i:\n",
        "                if j in chars:\n",
        "                    l -= 1\n",
        "            if l == 0:\n",
        "                sum += len(i)\n",
        "\n",
        "        return sum\n",
        "\n",
        "solution = Solution()\n",
        "words = [\"cat\",\"bt\",'hat', \"hat\",\"tree\"]\n",
        "chars = \"atach\"\n",
        "print(solution.countCharacters(words, chars))"
      ],
      "metadata": {
        "id": "WFMvB9pODKGE"
      },
      "execution_count": null,
      "outputs": []
    },
    {
      "cell_type": "code",
      "source": [
        "class Solution(object):\n",
        "    def countCharacters(self, words, chars):\n",
        "\n",
        "        sum = 0\n",
        "        for i in words:\n",
        "            loop = True\n",
        "            for j in i:\n",
        "                if i.count(j) > chars.count(j):\n",
        "                    loop = False\n",
        "                    break\n",
        "            if loop:\n",
        "                sum += len(i)\n",
        "\n",
        "        return sum\n",
        "\n",
        "solution = Solution()\n",
        "words = [\"cat\",\"bt\",'hat', \"hat\",\"tree\"]\n",
        "chars = \"atach\"\n",
        "print(solution.countCharacters(words, chars))"
      ],
      "metadata": {
        "id": "gFgyeDj4HM-N"
      },
      "execution_count": null,
      "outputs": []
    }
  ]
}