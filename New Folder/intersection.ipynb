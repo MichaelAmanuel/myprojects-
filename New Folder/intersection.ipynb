{
  "nbformat": 4,
  "nbformat_minor": 0,
  "metadata": {
    "colab": {
      "provenance": []
    },
    "kernelspec": {
      "name": "python3",
      "display_name": "Python 3"
    },
    "language_info": {
      "name": "python"
    }
  },
  "cells": [
    {
      "cell_type": "code",
      "execution_count": 3,
      "metadata": {
        "colab": {
          "base_uri": "https://localhost:8080/"
        },
        "id": "39mBaF8w0DJs",
        "outputId": "d56200aa-6c3c-4424-9cd7-2c9c08874987"
      },
      "outputs": [
        {
          "output_type": "stream",
          "name": "stdout",
          "text": [
            "[9, 4]\n"
          ]
        }
      ],
      "source": [
        "class Solution(object):\n",
        "    def intersection(self, nums1, nums2):\n",
        "\n",
        "       return list(set(nums1).intersection(set(nums2)))\n",
        "\n",
        "\n",
        "solution = Solution()\n",
        "nums1 = [4,9,5]\n",
        "nums2 = [9,4,9,8,4]\n",
        "print(solution.intersection(nums1, nums2))"
      ]
    },
    {
      "cell_type": "code",
      "source": [
        "class Solution(object):\n",
        "    def intersection(self, nums1, nums2):\n",
        "\n",
        "       return list(set(value for value in nums1 if value in nums2))\n",
        "\n",
        "\n",
        "solution = Solution()\n",
        "nums1 = [4,9,5]\n",
        "nums2 = [9,4,9,8,4]\n",
        "print(solution.intersection(nums1, nums2))"
      ],
      "metadata": {
        "colab": {
          "base_uri": "https://localhost:8080/"
        },
        "id": "btEInyPG2hFk",
        "outputId": "1fc2497f-4fee-49ff-cc22-79094d870f8c"
      },
      "execution_count": 7,
      "outputs": [
        {
          "output_type": "stream",
          "name": "stdout",
          "text": [
            "[9, 4]\n"
          ]
        }
      ]
    },
    {
      "cell_type": "code",
      "source": [],
      "metadata": {
        "id": "WN4ivEBF3hJf"
      },
      "execution_count": null,
      "outputs": []
    }
  ]
}