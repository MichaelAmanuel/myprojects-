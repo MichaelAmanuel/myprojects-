{
  "nbformat": 4,
  "nbformat_minor": 0,
  "metadata": {
    "colab": {
      "provenance": []
    },
    "kernelspec": {
      "name": "python3",
      "display_name": "Python 3"
    },
    "language_info": {
      "name": "python"
    }
  },
  "cells": [
    {
      "cell_type": "code",
      "execution_count": 5,
      "metadata": {
        "id": "kQjWvHzXch44",
        "colab": {
          "base_uri": "https://localhost:8080/"
        },
        "outputId": "8648224c-b848-4020-ff90-eb74afb8af8d"
      },
      "outputs": [
        {
          "output_type": "stream",
          "name": "stdout",
          "text": [
            "|\n"
          ]
        }
      ],
      "source": [
        "class Solution(object):\n",
        "    def removeSubfolders(self, folder):\n",
        "\n",
        "        folder.sort()\n",
        "        result = []\n",
        "\n",
        "        for f in folder:\n",
        "\n",
        "            if not result or not f.startswith(result[-1] + '/'):\n",
        "                result.append(f)\n",
        "\n",
        "        return result"
      ]
    }
  ]
}