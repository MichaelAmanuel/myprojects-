{
  "nbformat": 4,
  "nbformat_minor": 0,
  "metadata": {
    "colab": {
      "provenance": []
    },
    "kernelspec": {
      "name": "python3",
      "display_name": "Python 3"
    },
    "language_info": {
      "name": "python"
    }
  },
  "cells": [
    {
      "cell_type": "code",
      "execution_count": null,
      "metadata": {
        "id": "kQjWvHzXch44"
      },
      "outputs": [],
      "source": [
        "class Solution(object):\n",
        "    def findScore(self, nums):\n",
        "        score = 0\n",
        "        visited = set()\n",
        "        indexed_nums = [(num, i) for i, num in enumerate(nums)]\n",
        "        indexed_nums.sort()  # Sort by value, and index as a tiebreaker\n",
        "\n",
        "        for num, i in indexed_nums:\n",
        "            if i not in visited:\n",
        "                score += num\n",
        "                visited.add(i)\n",
        "                visited.add(i - 1)  # Mark the left neighbor as visited\n",
        "                visited.add(i + 1)  # Mark the right neighbor as visited\n",
        "\n",
        "        return score\n"
      ]
    }
  ]
}