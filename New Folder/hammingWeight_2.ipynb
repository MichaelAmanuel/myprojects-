{
  "nbformat": 4,
  "nbformat_minor": 0,
  "metadata": {
    "colab": {
      "provenance": []
    },
    "kernelspec": {
      "name": "python3",
      "display_name": "Python 3"
    },
    "language_info": {
      "name": "python"
    }
  },
  "cells": [
    {
      "cell_type": "code",
      "execution_count": 14,
      "metadata": {
        "colab": {
          "base_uri": "https://localhost:8080/"
        },
        "id": "hZ58VGbOWX6I",
        "outputId": "11683d3f-8545-45b3-e06a-bb436ce2a6f9"
      },
      "outputs": [
        {
          "output_type": "stream",
          "name": "stdout",
          "text": [
            "3\n"
          ]
        }
      ],
      "source": [
        "class Solution(object):\n",
        "    def hammingWeight(self, n):\n",
        "\n",
        "      nn = str(n)\n",
        "      count = 0\n",
        "      for char in nn:\n",
        "        if char == \"1\":\n",
        "          count += 1\n",
        "\n",
        "      return count\n",
        "\n",
        "solution = Solution()\n",
        "n = 1011\n",
        "print(solution.hammingWeight(n))"
      ]
    },
    {
      "cell_type": "code",
      "source": [],
      "metadata": {
        "id": "654fRwWTXaOt"
      },
      "execution_count": 4,
      "outputs": []
    }
  ]
}