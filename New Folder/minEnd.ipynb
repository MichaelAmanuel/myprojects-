{
  "nbformat": 4,
  "nbformat_minor": 0,
  "metadata": {
    "colab": {
      "provenance": []
    },
    "kernelspec": {
      "name": "python3",
      "display_name": "Python 3"
    },
    "language_info": {
      "name": "python"
    }
  },
  "cells": [
    {
      "cell_type": "code",
      "execution_count": 4,
      "metadata": {
        "id": "kQjWvHzXch44",
        "colab": {
          "base_uri": "https://localhost:8080/"
        },
        "outputId": "b3d22a1b-b78b-4e2c-8b8c-04590b83ce94"
      },
      "outputs": [
        {
          "output_type": "stream",
          "name": "stdout",
          "text": [
            "7\n"
          ]
        }
      ],
      "source": [
        "class Solution(object):\n",
        "    def minEnd(self, n, x):\n",
        "        if n == 1:\n",
        "            return x\n",
        "\n",
        "        result = x\n",
        "        bit_position = 0\n",
        "        while n > 1:\n",
        "            if (x & (1 << bit_position)) == 0:\n",
        "                result |= (1 << bit_position)\n",
        "                n -= 1\n",
        "            bit_position += 1\n",
        "\n",
        "        return result\n",
        "\n",
        "solution = Solution()\n",
        "print(solution.minEnd(3, 4))  # Output: 6\n",
        "print(solution.minEnd(2, 7))  # Output: 15\n"
      ]
    }
  ]
}