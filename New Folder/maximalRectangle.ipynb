{
  "nbformat": 4,
  "nbformat_minor": 0,
  "metadata": {
    "colab": {
      "provenance": []
    },
    "kernelspec": {
      "name": "python3",
      "display_name": "Python 3"
    },
    "language_info": {
      "name": "python"
    }
  },
  "cells": [
    {
      "cell_type": "code",
      "execution_count": 1,
      "metadata": {
        "colab": {
          "base_uri": "https://localhost:8080/"
        },
        "id": "Y71b0eRjQl-2",
        "outputId": "35e945ad-0f42-4906-eff5-24633a71aa81"
      },
      "outputs": [
        {
          "output_type": "stream",
          "name": "stdout",
          "text": [
            "6\n"
          ]
        }
      ],
      "source": [
        "class Solution(object):\n",
        "  def maximalRectangle(self, matrix):\n",
        "    if not matrix or not matrix[0]:\n",
        "        return 0\n",
        "\n",
        "    def largestRectangleArea(heights):\n",
        "        stack = []\n",
        "        max_area = 0\n",
        "        heights.append(0)\n",
        "\n",
        "        for i, h in enumerate(heights):\n",
        "            while stack and h < heights[stack[-1]]:\n",
        "                height = heights[stack.pop()]\n",
        "                width = i if not stack else i - stack[-1] - 1\n",
        "                max_area = max(max_area, height * width)\n",
        "            stack.append(i)\n",
        "\n",
        "        return max_area\n",
        "\n",
        "    rows, cols = len(matrix), len(matrix[0])\n",
        "    max_area = 0\n",
        "    histogram = [0] * cols\n",
        "\n",
        "    for i in range(rows):\n",
        "        for j in range(cols):\n",
        "            if matrix[i][j] == '1':\n",
        "                histogram[j] += 1\n",
        "            else:\n",
        "                histogram[j] = 0\n",
        "        max_area = max(max_area, largestRectangleArea(histogram))\n",
        "\n",
        "    return max_area\n",
        "\n",
        "\n",
        "solution = Solution()\n",
        "matrix = [\n",
        "    [\"1\",\"0\",\"1\",\"0\",\"0\"],\n",
        "    [\"1\",\"0\",\"1\",\"1\",\"1\"],\n",
        "    [\"1\",\"1\",\"1\",\"1\",\"1\"],\n",
        "    [\"1\",\"0\",\"0\",\"1\",\"0\"]\n",
        "]\n",
        "print(solution.maximalRectangle(matrix))"
      ]
    }
  ]
}