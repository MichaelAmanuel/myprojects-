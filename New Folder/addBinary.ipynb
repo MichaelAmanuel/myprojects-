{
  "nbformat": 4,
  "nbformat_minor": 0,
  "metadata": {
    "colab": {
      "provenance": []
    },
    "kernelspec": {
      "name": "python3",
      "display_name": "Python 3"
    },
    "language_info": {
      "name": "python"
    }
  },
  "cells": [
    {
      "cell_type": "code",
      "execution_count": null,
      "metadata": {
        "colab": {
          "base_uri": "https://localhost:8080/"
        },
        "id": "MCZ6poIiMVfP",
        "outputId": "a94c4b5b-27c1-42ac-ce02-3e88952d59cd"
      },
      "outputs": [
        {
          "output_type": "stream",
          "name": "stdout",
          "text": [
            "0\n"
          ]
        }
      ],
      "source": [
        "class Solution(object):\n",
        "    def addBinary(self, a, b):\n",
        "      dec = 0\n",
        "      if a=='0' and b=='0':\n",
        "        return '0'\n",
        "      for i, j in zip(range(len(a)-1, -1, -1), range(len(a))):\n",
        "        dec += int(a[i]) * 2 ** j\n",
        "\n",
        "      for i , j in zip(range(len(b)-1, -1, -1), range(len(b))):\n",
        "        dec += int(b[i]) * 2 ** j\n",
        "\n",
        "      bin = ''\n",
        "      while dec > 0:\n",
        "        bin = str(dec % 2) + bin\n",
        "        dec = dec // 2\n",
        "\n",
        "      return bin\n",
        "\n",
        "solution = Solution()\n",
        "a = \"0\"\n",
        "b = '0'\n",
        "print(solution.addBinary(a, b))"
      ]
    }
  ]
}