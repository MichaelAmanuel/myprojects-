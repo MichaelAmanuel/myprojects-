{
  "nbformat": 4,
  "nbformat_minor": 0,
  "metadata": {
    "colab": {
      "provenance": []
    },
    "kernelspec": {
      "name": "python3",
      "display_name": "Python 3"
    },
    "language_info": {
      "name": "python"
    }
  },
  "cells": [
    {
      "cell_type": "code",
      "execution_count": 3,
      "metadata": {
        "colab": {
          "base_uri": "https://localhost:8080/"
        },
        "id": "nv9Ex4vyHqDx",
        "outputId": "8741a924-11f0-42fa-ed4d-e30e1520e740"
      },
      "outputs": [
        {
          "output_type": "stream",
          "name": "stdout",
          "text": [
            "lee(t(c)o)de\n"
          ]
        }
      ],
      "source": [
        "class Solution(object):\n",
        "  def minRemoveToMakeValid(self, s):\n",
        "      stack = []\n",
        "      balance = 0\n",
        "      for i, char in enumerate(s):\n",
        "          if char == '(':\n",
        "              stack.append(i)\n",
        "              balance += 1\n",
        "          elif char == ')':\n",
        "              if balance > 0:\n",
        "                  stack.pop()\n",
        "                  balance -= 1\n",
        "              else:\n",
        "                  stack.append(i)\n",
        "\n",
        "      result = []\n",
        "      removals = set(stack)\n",
        "      for i, char in enumerate(s):\n",
        "          if i not in removals:\n",
        "              result.append(char)\n",
        "\n",
        "      return ''.join(result)\n",
        "\n",
        "\n",
        "solution = Solution()\n",
        "s = \"lee(t(c)o)de)\"\n",
        "print(solution.minRemoveToMakeValid(s))\n"
      ]
    }
  ]
}