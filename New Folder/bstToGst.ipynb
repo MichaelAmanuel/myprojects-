{
  "nbformat": 4,
  "nbformat_minor": 0,
  "metadata": {
    "colab": {
      "provenance": []
    },
    "kernelspec": {
      "name": "python3",
      "display_name": "Python 3"
    },
    "language_info": {
      "name": "python"
    }
  },
  "cells": [
    {
      "cell_type": "code",
      "execution_count": 3,
      "metadata": {
        "colab": {
          "base_uri": "https://localhost:8080/"
        },
        "id": "ODMKpcujAS8N",
        "outputId": "92931b13-2e95-46d6-c59f-dd055732512d"
      },
      "outputs": [
        {
          "output_type": "stream",
          "name": "stdout",
          "text": [
            "36\n",
            "36\n",
            "35\n",
            "33\n",
            "30\n",
            "26\n",
            "21\n",
            "15\n",
            "8\n"
          ]
        }
      ],
      "source": [
        "class TreeNode(object):\n",
        "    def __init__(self, val=0, left=None, right=None):\n",
        "        self.val = val\n",
        "        self.left = left\n",
        "        self.right = right\n",
        "\n",
        "class Solution(object):\n",
        "    def bstToGst(self, root):\n",
        "        self.sum = 0\n",
        "\n",
        "        def reverse_inorder(node):\n",
        "            if not node:\n",
        "                return\n",
        "            reverse_inorder(node.right)\n",
        "            self.sum += node.val\n",
        "            node.val = self.sum\n",
        "            reverse_inorder(node.left)\n",
        "\n",
        "        reverse_inorder(root)\n",
        "        return root\n",
        "\n",
        "def print_inorder(root):\n",
        "    if not root:\n",
        "        return\n",
        "    print_inorder(root.left)\n",
        "    print(root.val)\n",
        "    print_inorder(root.right)\n",
        "\n",
        "def insert_into_bst(root, val):\n",
        "    if not root:\n",
        "        return TreeNode(val)\n",
        "    if val < root.val:\n",
        "        root.left = insert_into_bst(root.left, val)\n",
        "    else:\n",
        "        root.right = insert_into_bst(root.right, val)\n",
        "    return root\n",
        "\n",
        "def create_bst_from_list(vals):\n",
        "    root = None\n",
        "    for val in vals:\n",
        "        if val is not None:\n",
        "            root = insert_into_bst(root, val)\n",
        "    return root\n",
        "\n",
        "vals = [4, 1, 6, 0, 2, 5, 7, None, None, None, 3, None, None, None, 8]\n",
        "root = create_bst_from_list(vals)\n",
        "solution = Solution()\n",
        "new_root = solution.bstToGst(root)\n",
        "print_inorder(new_root)\n"
      ]
    }
  ]
}