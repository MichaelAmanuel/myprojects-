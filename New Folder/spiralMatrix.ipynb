{
  "nbformat": 4,
  "nbformat_minor": 0,
  "metadata": {
    "colab": {
      "provenance": []
    },
    "kernelspec": {
      "name": "python3",
      "display_name": "Python 3"
    },
    "language_info": {
      "name": "python"
    }
  },
  "cells": [
    {
      "cell_type": "code",
      "execution_count": null,
      "metadata": {
        "id": "kQjWvHzXch44"
      },
      "outputs": [],
      "source": [
        "class ListNode:\n",
        "    def __init__(self, val=0, next=None):\n",
        "        self.val = val\n",
        "        self.next = next\n",
        "\n",
        "class Solution:\n",
        "    def spiralMatrix(self, m, n, head):\n",
        "        matrix = [[-1 for _ in range(n)] for _ in range(m)]\n",
        "\n",
        "        top, bottom, left, right = 0, m - 1, 0, n - 1\n",
        "        current = head\n",
        "\n",
        "        while current and top <= bottom and left <= right:\n",
        "            for j in range(left, right + 1):\n",
        "                if current:\n",
        "                    matrix[top][j] = current.val\n",
        "                    current = current.next\n",
        "            top += 1\n",
        "\n",
        "            for i in range(top, bottom + 1):\n",
        "                if current:\n",
        "                    matrix[i][right] = current.val\n",
        "                    current = current.next\n",
        "            right -= 1\n",
        "\n",
        "            if top <= bottom:\n",
        "                for j in range(right, left - 1, -1):\n",
        "                    if current:\n",
        "                        matrix[bottom][j] = current.val\n",
        "                        current = current.next\n",
        "                bottom -= 1\n",
        "\n",
        "            if left <= right:\n",
        "                for i in range(bottom, top - 1, -1):\n",
        "                    if current:\n",
        "                        matrix[i][left] = current.val\n",
        "                        current = current.next\n",
        "                left += 1\n",
        "\n",
        "        return matrix\n"
      ]
    },
    {
      "cell_type": "code",
      "source": [],
      "metadata": {
        "id": "6FcGHhRC-DGY"
      },
      "execution_count": null,
      "outputs": []
    }
  ]
}