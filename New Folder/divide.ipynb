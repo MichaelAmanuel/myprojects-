{
  "nbformat": 4,
  "nbformat_minor": 0,
  "metadata": {
    "colab": {
      "provenance": []
    },
    "kernelspec": {
      "name": "python3",
      "display_name": "Python 3"
    },
    "language_info": {
      "name": "python"
    }
  },
  "cells": [
    {
      "cell_type": "code",
      "source": [
        "class Solution(object):\n",
        "    def divide(self, dividend, divisor):\n",
        "\n",
        "      return round(dividend / divisor)\n",
        "\n",
        "solution = Solution()\n",
        "dividend = 10\n",
        "divisor = 3\n",
        "print(solution.divide(dividend, divisor))"
      ],
      "metadata": {
        "colab": {
          "base_uri": "https://localhost:8080/"
        },
        "id": "Ak4OuINziVA7",
        "outputId": "9ded0288-0638-44d0-8ff7-e9cf0116c622"
      },
      "execution_count": 10,
      "outputs": [
        {
          "output_type": "stream",
          "name": "stdout",
          "text": [
            "3\n"
          ]
        }
      ]
    },
    {
      "cell_type": "code",
      "source": [
        "class Solution(object):\n",
        "    def divide(self, dividend, divisor):\n",
        "\n",
        "      return round(dividend // divisor)\n",
        "\n",
        "solution = Solution()\n",
        "dividend = 7\n",
        "divisor = -3\n",
        "print(solution.divide(dividend, divisor))"
      ],
      "metadata": {
        "colab": {
          "base_uri": "https://localhost:8080/"
        },
        "id": "-vmOZRoSkCB6",
        "outputId": "c18511eb-d62e-48fe-f356-84b6e70ea3b5"
      },
      "execution_count": 17,
      "outputs": [
        {
          "output_type": "stream",
          "name": "stdout",
          "text": [
            "-3\n"
          ]
        }
      ]
    },
    {
      "cell_type": "code",
      "source": [
        "class Solution(object):\n",
        "    def divide(self, dividend, divisor):\n",
        "\n",
        "      return int(round(dividend // divisor))\n",
        "\n",
        "solution = Solution()\n",
        "dividend = 10\n",
        "divisor = 3\n",
        "print(solution.divide(dividend, divisor))"
      ],
      "metadata": {
        "colab": {
          "base_uri": "https://localhost:8080/"
        },
        "id": "g2_N5Myhn_KJ",
        "outputId": "5f2f1f84-cc58-4d4f-cf5d-1df492f2158f"
      },
      "execution_count": 16,
      "outputs": [
        {
          "output_type": "stream",
          "name": "stdout",
          "text": [
            "3\n"
          ]
        }
      ]
    },
    {
      "cell_type": "code",
      "source": [
        "class Solution(object):\n",
        "  def divide(self, dividend, divisor):\n",
        "\n",
        "      if dividend == -2**31 and divisor == -1:\n",
        "          return 2**31 - 1\n",
        "\n",
        "      sign = (dividend < 0) ^ (divisor < 0)\n",
        "\n",
        "      dividend = abs(dividend)\n",
        "      divisor = abs(divisor)\n",
        "\n",
        "      quotient = 0\n",
        "      while dividend >= divisor:\n",
        "          temp_divisor = divisor\n",
        "          multiple = 1\n",
        "\n",
        "          while (temp_divisor << 1) <= dividend:\n",
        "              temp_divisor <<= 1\n",
        "              multiple <<= 1\n",
        "\n",
        "          dividend -= temp_divisor\n",
        "          quotient += multiple\n",
        "\n",
        "      return -quotient if sign else quotient\n",
        "\n",
        "solution = Solution()\n",
        "dividend = 10\n",
        "divisor = 3\n",
        "print(solution.divide(dividend, divisor))\n"
      ],
      "metadata": {
        "colab": {
          "base_uri": "https://localhost:8080/"
        },
        "id": "k3mUqTetoehT",
        "outputId": "cb25aa7b-ab5c-4f0e-9b89-21d5c8a80e4c"
      },
      "execution_count": 21,
      "outputs": [
        {
          "output_type": "stream",
          "name": "stdout",
          "text": [
            "3\n"
          ]
        }
      ]
    },
    {
      "cell_type": "code",
      "source": [],
      "metadata": {
        "id": "6ONWxD4Lqr11"
      },
      "execution_count": null,
      "outputs": []
    }
  ]
}