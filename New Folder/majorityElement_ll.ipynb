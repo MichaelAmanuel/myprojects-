{
  "nbformat": 4,
  "nbformat_minor": 0,
  "metadata": {
    "colab": {
      "provenance": []
    },
    "kernelspec": {
      "name": "python3",
      "display_name": "Python 3"
    },
    "language_info": {
      "name": "python"
    }
  },
  "cells": [
    {
      "cell_type": "code",
      "execution_count": 6,
      "metadata": {
        "colab": {
          "base_uri": "https://localhost:8080/"
        },
        "id": "fftnMQu9Brf3",
        "outputId": "b7735c63-1ea9-4d6d-a63a-d75b9251d836"
      },
      "outputs": [
        {
          "output_type": "stream",
          "name": "stdout",
          "text": [
            "[3]\n"
          ]
        }
      ],
      "source": [
        "class Solution(object):\n",
        "    def majorityElement(self, nums):\n",
        "\n",
        "      result = []\n",
        "      for i in nums:\n",
        "        if i not in result and (nums.count(i) > len(nums)/3):\n",
        "          result.append(i)\n",
        "\n",
        "      return result\n",
        "\n",
        "solution = Solution()\n",
        "nums =[3,2,3]\n",
        "print(solution.majorityElement(nums))"
      ]
    },
    {
      "cell_type": "code",
      "source": [],
      "metadata": {
        "id": "pinVE1lCET4g"
      },
      "execution_count": null,
      "outputs": []
    }
  ]
}