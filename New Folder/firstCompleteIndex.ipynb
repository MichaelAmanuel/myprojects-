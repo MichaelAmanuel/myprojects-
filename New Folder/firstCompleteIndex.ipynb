{
  "nbformat": 4,
  "nbformat_minor": 0,
  "metadata": {
    "colab": {
      "provenance": []
    },
    "kernelspec": {
      "name": "python3",
      "display_name": "Python 3"
    },
    "language_info": {
      "name": "python"
    }
  },
  "cells": [
    {
      "cell_type": "code",
      "execution_count": null,
      "metadata": {
        "id": "kQjWvHzXch44",
        "colab": {
          "base_uri": "https://localhost:8080/"
        },
        "outputId": "792b0e92-1d98-4286-aafa-efc6fbfae2a7"
      },
      "outputs": [
        {
          "output_type": "stream",
          "name": "stdout",
          "text": [
            "9\n"
          ]
        }
      ],
      "source": [
        "class Solution(object):\n",
        "    def firstCompleteIndex(self, arr, mat):\n",
        "\n",
        "        m, n = len(mat), len(mat[0])\n",
        "        row_count = [0] * m\n",
        "        col_count = [0] * n\n",
        "        pos = {}\n",
        "\n",
        "        for i in range(m):\n",
        "            for j in range(n):\n",
        "                pos[mat[i][j]] = (i, j)\n",
        "\n",
        "        for idx, val in enumerate(arr):\n",
        "            if val in pos:\n",
        "                i, j = pos[val]\n",
        "                row_count[i] += 1\n",
        "                col_count[j] += 1\n",
        "\n",
        "                if row_count[i] == n or col_count[j] == m:\n",
        "                    return idx\n",
        "\n",
        "        return -1"
      ]
    }
  ]
}