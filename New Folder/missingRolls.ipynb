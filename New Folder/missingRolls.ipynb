{
  "nbformat": 4,
  "nbformat_minor": 0,
  "metadata": {
    "colab": {
      "provenance": []
    },
    "kernelspec": {
      "name": "python3",
      "display_name": "Python 3"
    },
    "language_info": {
      "name": "python"
    }
  },
  "cells": [
    {
      "cell_type": "code",
      "execution_count": 1,
      "metadata": {
        "id": "kQjWvHzXch44"
      },
      "outputs": [],
      "source": [
        "class Solution:\n",
        "    def missingRolls(self, rolls, mean, n):\n",
        "        m = len(rolls)\n",
        "        total_sum = mean * (n + m)\n",
        "        observed_sum = sum(rolls)\n",
        "        missing_sum = total_sum - observed_sum\n",
        "\n",
        "        if missing_sum < n or missing_sum > 6 * n:\n",
        "            return []\n",
        "\n",
        "        base, remainder = divmod(missing_sum, n)\n",
        "        result = [base] * n\n",
        "\n",
        "        for i in range(remainder):\n",
        "            result[i] += 1\n",
        "\n",
        "        return result\n"
      ]
    },
    {
      "cell_type": "code",
      "source": [],
      "metadata": {
        "id": "6FcGHhRC-DGY"
      },
      "execution_count": null,
      "outputs": []
    }
  ]
}