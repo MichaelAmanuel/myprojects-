{
  "nbformat": 4,
  "nbformat_minor": 0,
  "metadata": {
    "colab": {
      "provenance": []
    },
    "kernelspec": {
      "name": "python3",
      "display_name": "Python 3"
    },
    "language_info": {
      "name": "python"
    }
  },
  "cells": [
    {
      "cell_type": "code",
      "execution_count": null,
      "metadata": {
        "id": "kQjWvHzXch44",
        "colab": {
          "base_uri": "https://localhost:8080/"
        },
        "outputId": "d2501bef-d495-4ef1-bd7d-671e37c016d1"
      },
      "outputs": [
        {
          "output_type": "stream",
          "name": "stdout",
          "text": [
            "5\n",
            "12\n",
            "24\n"
          ]
        }
      ],
      "source": [
        "class Solution(object):\n",
        "    def maxDistance(self, arrays):\n",
        "        max_distance = 0\n",
        "        min_value = arrays[0][0]\n",
        "        max_value = arrays[0][-1]\n",
        "\n",
        "        for i in range(1, len(arrays)):\n",
        "            current_array = arrays[i]\n",
        "            current_min = current_array[0]\n",
        "            current_max = current_array[-1]\n",
        "\n",
        "            max_distance = max(max_distance, abs(current_max - min_value), abs(current_min - max_value))\n",
        "\n",
        "            min_value = min(min_value, current_min)\n",
        "            max_value = max(max_value, current_max)\n",
        "\n",
        "        return max_distance\n",
        "\n",
        "solution = Solution()\n",
        "\n",
        "arrays1 = [[1, 2, 3], [4, 5], [1, 2, 3]]\n",
        "print(solution.maxDistance(arrays1))"
      ]
    }
  ]
}