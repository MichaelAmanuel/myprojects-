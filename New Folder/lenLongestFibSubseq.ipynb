{
  "nbformat": 4,
  "nbformat_minor": 0,
  "metadata": {
    "colab": {
      "provenance": []
    },
    "kernelspec": {
      "name": "python3",
      "display_name": "Python 3"
    },
    "language_info": {
      "name": "python"
    }
  },
  "cells": [
    {
      "cell_type": "code",
      "execution_count": 1,
      "metadata": {
        "id": "kQjWvHzXch44",
        "colab": {
          "base_uri": "https://localhost:8080/"
        },
        "outputId": "c54ea103-6d63-4d64-ed77-89de0aa10734"
      },
      "outputs": [
        {
          "output_type": "stream",
          "name": "stdout",
          "text": [
            "1\n"
          ]
        }
      ],
      "source": [
        "class Solution(object):\n",
        "    def lenLongestFibSubseq(self, arr):\n",
        "        index = {x: i for i, x in enumerate(arr)}\n",
        "        n = len(arr)\n",
        "        dp = {}\n",
        "        max_len = 0\n",
        "\n",
        "        for k in range(n):\n",
        "            for j in range(k):\n",
        "                i = index.get(arr[k] - arr[j])\n",
        "                if i is not None and i < j:\n",
        "                    dp[j, k] = dp.get((i, j), 2) + 1\n",
        "                    max_len = max(max_len, dp[j, k])\n",
        "\n",
        "        return max_len if max_len >= 3 else 0\n"
      ]
    },
    {
      "cell_type": "code",
      "source": [
        "class Solution(object):\n",
        "    def lenLongestFibSubseq(self, arr):\n",
        "        index = {x: i for i, x in enumerate(arr)}\n",
        "        n = len(arr)\n",
        "        dp = {}\n",
        "        max_len = 0\n",
        "\n",
        "        for k in range(n):\n",
        "            for j in range(k):\n",
        "                i = index.get(arr[k] - arr[j])\n",
        "                if i is not None and i < j:\n",
        "                    dp[j, k] = dp.get((i, j), 2) + 1\n",
        "                    max_len = max(max_len, dp[j, k])\n",
        "\n",
        "        return max_len if max_len >= 3 else 0\n"
      ],
      "metadata": {
        "id": "roULjd7SXK2j"
      },
      "execution_count": 5,
      "outputs": []
    },
    {
      "cell_type": "code",
      "source": [],
      "metadata": {
        "id": "HhjYAmsPmpz5"
      },
      "execution_count": null,
      "outputs": []
    }
  ]
}