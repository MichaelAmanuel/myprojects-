{
  "nbformat": 4,
  "nbformat_minor": 0,
  "metadata": {
    "colab": {
      "provenance": []
    },
    "kernelspec": {
      "name": "python3",
      "display_name": "Python 3"
    },
    "language_info": {
      "name": "python"
    }
  },
  "cells": [
    {
      "cell_type": "code",
      "execution_count": null,
      "metadata": {
        "id": "kQjWvHzXch44",
        "colab": {
          "base_uri": "https://localhost:8080/"
        },
        "outputId": "b3d22a1b-b78b-4e2c-8b8c-04590b83ce94"
      },
      "outputs": [
        {
          "output_type": "stream",
          "name": "stdout",
          "text": [
            "7\n"
          ]
        }
      ],
      "source": [
        "class Solution(object):\n",
        "    def resultsArray(self, nums, k):\n",
        "        n = len(nums)\n",
        "        results = []\n",
        "\n",
        "        for i in range(n - k + 1):\n",
        "            subarray = nums[i:i + k]\n",
        "            if subarray == sorted(subarray) and all(subarray[j] + 1 == subarray[j + 1] for j in range(k - 1)):\n",
        "                results.append(max(subarray))\n",
        "            else:\n",
        "                results.append(-1)\n",
        "\n",
        "        return results\n",
        "\n",
        "\n"
      ]
    }
  ]
}