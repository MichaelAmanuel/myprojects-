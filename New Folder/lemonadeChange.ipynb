{
  "nbformat": 4,
  "nbformat_minor": 0,
  "metadata": {
    "colab": {
      "provenance": []
    },
    "kernelspec": {
      "name": "python3",
      "display_name": "Python 3"
    },
    "language_info": {
      "name": "python"
    }
  },
  "cells": [
    {
      "cell_type": "code",
      "execution_count": null,
      "metadata": {
        "id": "kQjWvHzXch44",
        "colab": {
          "base_uri": "https://localhost:8080/"
        },
        "outputId": "d2501bef-d495-4ef1-bd7d-671e37c016d1"
      },
      "outputs": [
        {
          "output_type": "stream",
          "name": "stdout",
          "text": [
            "5\n",
            "12\n",
            "24\n"
          ]
        }
      ],
      "source": [
        "class Solution(object):\n",
        "    def lemonadeChange(self, bills):\n",
        "        fives, tens = 0, 0\n",
        "\n",
        "        for bill in bills:\n",
        "            if bill == 5:\n",
        "                fives += 1\n",
        "            elif bill == 10:\n",
        "                if fives == 0:\n",
        "                    return False\n",
        "                fives -= 1\n",
        "                tens += 1\n",
        "            elif bill == 20:\n",
        "                if tens > 0 and fives > 0:\n",
        "                    tens -= 1\n",
        "                    fives -= 1\n",
        "                elif fives >= 3:\n",
        "                    fives -= 3\n",
        "                else:\n",
        "                    return False\n",
        "        return True\n",
        "\n",
        "solution = Solution()\n",
        "\n",
        "bills1 = [5, 5, 5, 10, 20]\n",
        "print(solution.lemonadeChange(bills1))"
      ]
    }
  ]
}