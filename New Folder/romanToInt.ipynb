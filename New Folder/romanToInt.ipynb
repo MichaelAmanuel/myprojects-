{
  "nbformat": 4,
  "nbformat_minor": 0,
  "metadata": {
    "colab": {
      "provenance": []
    },
    "kernelspec": {
      "name": "python3",
      "display_name": "Python 3"
    },
    "language_info": {
      "name": "python"
    }
  },
  "cells": [
    {
      "cell_type": "code",
      "source": [
        "class Solution(object):\n",
        "    def romanToInt(self, s):\n",
        "\n",
        "      roman_to_int = { 'I': 1, 'V': 5, 'X': 10, 'L': 50,\n",
        "                      'C': 100, 'D': 500, 'M': 1000\n",
        "                       }\n",
        "\n",
        "      int_result = 0\n",
        "      prev_value = 0\n",
        "      for char in s:\n",
        "          value = roman_to_int[char]\n",
        "          if value > prev_value:\n",
        "              int_result += value - 2 * prev_value\n",
        "          else:\n",
        "              int_result += value\n",
        "          prev_value = value\n",
        "\n",
        "      return int_result\n",
        "\n",
        "solution = Solution()\n",
        "s = \"MCMXCIV\"\n",
        "print(solution.romanToInt(s))\n"
      ],
      "metadata": {
        "colab": {
          "base_uri": "https://localhost:8080/"
        },
        "id": "prxhu0OshU9f",
        "outputId": "dcb7077a-44b4-458c-baac-8620610f1c8e"
      },
      "execution_count": 7,
      "outputs": [
        {
          "output_type": "stream",
          "name": "stdout",
          "text": [
            "3\n"
          ]
        }
      ]
    },
    {
      "cell_type": "code",
      "source": [],
      "metadata": {
        "id": "WRSYqK6fi5dj"
      },
      "execution_count": null,
      "outputs": []
    }
  ]
}