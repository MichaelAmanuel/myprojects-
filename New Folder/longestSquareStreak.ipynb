{
  "nbformat": 4,
  "nbformat_minor": 0,
  "metadata": {
    "colab": {
      "provenance": []
    },
    "kernelspec": {
      "name": "python3",
      "display_name": "Python 3"
    },
    "language_info": {
      "name": "python"
    }
  },
  "cells": [
    {
      "cell_type": "code",
      "execution_count": 1,
      "metadata": {
        "id": "kQjWvHzXch44"
      },
      "outputs": [],
      "source": [
        "class Solution(object):\n",
        "    def longestSquareStreak(self, nums):\n",
        "\n",
        "        num_set = set(nums)\n",
        "        visited = set()\n",
        "        max_length = -1\n",
        "\n",
        "        for num in nums:\n",
        "            if num not in visited:\n",
        "                streak_length = 0\n",
        "                current = num\n",
        "\n",
        "                while current in num_set:\n",
        "                    visited.add(current)\n",
        "                    streak_length += 1\n",
        "                    current = current ** 2\n",
        "\n",
        "                if streak_length >= 2:\n",
        "                    max_length = max(max_length, streak_length)\n",
        "\n",
        "        return max_length if max_length >= 2 else -1\n"
      ]
    }
  ]
}