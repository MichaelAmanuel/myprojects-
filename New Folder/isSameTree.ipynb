{
  "nbformat": 4,
  "nbformat_minor": 0,
  "metadata": {
    "colab": {
      "provenance": []
    },
    "kernelspec": {
      "name": "python3",
      "display_name": "Python 3"
    },
    "language_info": {
      "name": "python"
    }
  },
  "cells": [
    {
      "cell_type": "code",
      "execution_count": null,
      "metadata": {
        "colab": {
          "base_uri": "https://localhost:8080/"
        },
        "id": "wJ3Y_sbyUKj2",
        "outputId": "79b2a3a5-d71a-4a90-8ac0-f9afd42dfb0e"
      },
      "outputs": [
        {
          "output_type": "stream",
          "name": "stdout",
          "text": [
            "3.25\n"
          ]
        }
      ],
      "source": [
        "class TreeNode(object):\n",
        "    def __init__(self, val=0, left=None, right=None):\n",
        "        self.val = val\n",
        "        self.left = left\n",
        "        self.right = right\n",
        "\n",
        "class Solution(object):\n",
        "    def isSameTree(self, p, q):\n",
        "\n",
        "        if not p and not q:\n",
        "            return True\n",
        "\n",
        "        if not p or not q:\n",
        "            return False\n",
        "\n",
        "        return (p.val == q.val) and self.isSameTree(p.left, q.left) and self.isSameTree(p.right, q.right)\n",
        "\n",
        "\n",
        "p = TreeNode(1)\n",
        "p.left = TreeNode(2)\n",
        "p.right = TreeNode(3)\n",
        "\n",
        "q = TreeNode(1)\n",
        "q.left = TreeNode(2)\n",
        "q.right = TreeNode(3)\n",
        "\n",
        "sol = Solution()\n",
        "print(sol.isSameTree(p, q))"
      ]
    }
  ]
}