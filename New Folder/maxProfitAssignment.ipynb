{
  "nbformat": 4,
  "nbformat_minor": 0,
  "metadata": {
    "colab": {
      "provenance": []
    },
    "kernelspec": {
      "name": "python3",
      "display_name": "Python 3"
    },
    "language_info": {
      "name": "python"
    }
  },
  "cells": [
    {
      "cell_type": "code",
      "execution_count": null,
      "metadata": {
        "id": "4gaJwrO-2ZQd"
      },
      "outputs": [],
      "source": [
        "class Solution(object):\n",
        "    def maxProfitAssignment(self, difficulty, profit, worker):\n",
        "\n",
        "        jobs = sorted(zip(difficulty, profit))\n",
        "\n",
        "        worker.sort()\n",
        "\n",
        "        max_profit = 0\n",
        "        total_profit = 0\n",
        "        job_index = 0\n",
        "        n = len(jobs)\n",
        "\n",
        "        for ability in worker:\n",
        "\n",
        "            while job_index < n and jobs[job_index][0] <= ability:\n",
        "                max_profit = max(max_profit, jobs[job_index][1])\n",
        "                job_index += 1\n",
        "\n",
        "            total_profit += max_profit\n",
        "\n",
        "        return total_profit\n",
        "\n",
        "\n",
        "solution = Solution()\n",
        "difficulty = [2, 4, 6, 8, 10]\n",
        "profit = [10, 20, 30, 40, 50]\n",
        "worker = [4, 5, 6, 7]\n",
        "print(solution.maxProfitAssignment(difficulty, profit, worker))\n"
      ]
    }
  ]
}