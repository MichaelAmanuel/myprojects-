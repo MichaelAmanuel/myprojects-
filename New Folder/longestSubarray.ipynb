{
  "nbformat": 4,
  "nbformat_minor": 0,
  "metadata": {
    "colab": {
      "provenance": []
    },
    "kernelspec": {
      "name": "python3",
      "display_name": "Python 3"
    },
    "language_info": {
      "name": "python"
    }
  },
  "cells": [
    {
      "cell_type": "code",
      "execution_count": 1,
      "metadata": {
        "colab": {
          "base_uri": "https://localhost:8080/"
        },
        "id": "JT4x0Bi7wKaH",
        "outputId": "92b0c28b-1353-4261-8257-bf3491599ca3"
      },
      "outputs": [
        {
          "output_type": "stream",
          "name": "stdout",
          "text": [
            "2\n"
          ]
        }
      ],
      "source": [
        "class Solution(object):\n",
        "    def longestSubarray(self, nums, limit):\n",
        "        from collections import deque\n",
        "\n",
        "        max_deque = deque()\n",
        "        min_deque = deque()\n",
        "        left = 0\n",
        "        result = 0\n",
        "\n",
        "        for right in range(len(nums)):\n",
        "            while max_deque and nums[max_deque[-1]] <= nums[right]:\n",
        "                max_deque.pop()\n",
        "            max_deque.append(right)\n",
        "\n",
        "            while min_deque and nums[min_deque[-1]] >= nums[right]:\n",
        "                min_deque.pop()\n",
        "            min_deque.append(right)\n",
        "\n",
        "            while nums[max_deque[0]] - nums[min_deque[0]] > limit:\n",
        "                left += 1\n",
        "                if max_deque[0] < left:\n",
        "                    max_deque.popleft()\n",
        "                if min_deque[0] < left:\n",
        "                    min_deque.popleft()\n",
        "\n",
        "            result = max(result, right - left + 1)\n",
        "\n",
        "        return result\n",
        "\n",
        "solution = Solution()\n",
        "nums = [8, 2, 4, 7]\n",
        "limit = 4\n",
        "print(solution.longestSubarray(nums, limit))"
      ]
    }
  ]
}