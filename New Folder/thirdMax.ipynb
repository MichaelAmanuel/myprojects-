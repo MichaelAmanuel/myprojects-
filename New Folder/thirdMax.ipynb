{
  "nbformat": 4,
  "nbformat_minor": 0,
  "metadata": {
    "colab": {
      "provenance": []
    },
    "kernelspec": {
      "name": "python3",
      "display_name": "Python 3"
    },
    "language_info": {
      "name": "python"
    }
  },
  "cells": [
    {
      "cell_type": "code",
      "execution_count": 1,
      "metadata": {
        "colab": {
          "base_uri": "https://localhost:8080/"
        },
        "id": "7hrig3LxLUo8",
        "outputId": "7a1e9f44-6378-4bdf-ca84-3a4834adcef1"
      },
      "outputs": [
        {
          "output_type": "stream",
          "name": "stdout",
          "text": [
            "1\n"
          ]
        }
      ],
      "source": [
        "class Solution(object):\n",
        "    def thirdMax(self, nums):\n",
        "\n",
        "        count = 2\n",
        "        max_3 = sorted(nums, reverse=True)\n",
        "        if len(nums) <= 2:\n",
        "            return max(nums)\n",
        "        elif len(nums) == 3:\n",
        "            if len(nums) != len(set(nums)):\n",
        "                return max(nums)\n",
        "            else:\n",
        "                max_m = max(max_3)\n",
        "                for i in max_3:\n",
        "                    if i < max_m and count > 0:\n",
        "                        max_m = i\n",
        "                        count -= 1\n",
        "        else:\n",
        "            max_m = max(max_3)\n",
        "            for i in max_3:\n",
        "                if i < max_m and count > 0:\n",
        "                    max_m = i\n",
        "                    count -= 1\n",
        "        return max_m\n",
        "\n",
        "solution = Solution()\n",
        "nums = [2,2,2,1]\n",
        "print(solution.thirdMax(nums))"
      ]
    },
    {
      "cell_type": "code",
      "source": [
        "class Solution(object):\n",
        "    def thirdMax(self, nums):\n",
        "\n",
        "      if len(set(nums)) < 3:\n",
        "        return max(nums)\n",
        "      else:\n",
        "        count = 2\n",
        "        max_3 = sorted(nums, reverse=True)\n",
        "        max_m = max(max_3)\n",
        "        for i in max_3:\n",
        "            if i < max_m and count > 0:\n",
        "                max_m = i\n",
        "                count -= 1\n",
        "\n",
        "\n",
        "        return max_m\n",
        "\n",
        "\n",
        "solution = Solution()\n",
        "nums = [2,2,2,1]\n",
        "print(solution.thirdMax(nums))"
      ],
      "metadata": {
        "colab": {
          "base_uri": "https://localhost:8080/"
        },
        "id": "tAR0Pl9iLWJz",
        "outputId": "ade29b2a-b7c6-48f2-91f4-8e9cda6f94cc"
      },
      "execution_count": 4,
      "outputs": [
        {
          "output_type": "stream",
          "name": "stdout",
          "text": [
            "2\n"
          ]
        }
      ]
    },
    {
      "cell_type": "code",
      "source": [],
      "metadata": {
        "id": "TW6UNrGrLXIM"
      },
      "execution_count": null,
      "outputs": []
    }
  ]
}