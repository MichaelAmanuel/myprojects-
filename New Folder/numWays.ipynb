{
  "nbformat": 4,
  "nbformat_minor": 0,
  "metadata": {
    "colab": {
      "provenance": []
    },
    "kernelspec": {
      "name": "python3",
      "display_name": "Python 3"
    },
    "language_info": {
      "name": "python"
    }
  },
  "cells": [
    {
      "cell_type": "code",
      "execution_count": null,
      "metadata": {
        "id": "kQjWvHzXch44",
        "colab": {
          "base_uri": "https://localhost:8080/"
        },
        "outputId": "50e14a69-7a1a-437e-be44-e1ade4c7db4d"
      },
      "outputs": [
        {
          "output_type": "stream",
          "name": "stdout",
          "text": [
            "zzcacc\n",
            "bbab\n"
          ]
        }
      ],
      "source": [
        "class Solution(object):\n",
        "    def numWays(self, words, target):\n",
        "        MOD = 10**9 + 7\n",
        "        m, n = len(target), len(words[0])\n",
        "        dp = [0] * (m + 1)\n",
        "        dp[0] = 1\n",
        "        count = [[0] * 26 for _ in range(n)]\n",
        "        for word in words:\n",
        "            for i, char in enumerate(word):\n",
        "                count[i][ord(char) - ord('a')] += 1\n",
        "        for i in range(n):\n",
        "            for j in range(m - 1, -1, -1):\n",
        "                dp[j + 1] += dp[j] * count[i][ord(target[j]) - ord('a')]\n",
        "                dp[j + 1] %= MOD\n",
        "        return dp[m]\n"
      ]
    }
  ]
}