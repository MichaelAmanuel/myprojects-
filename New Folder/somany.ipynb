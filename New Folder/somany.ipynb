{
  "nbformat": 4,
  "nbformat_minor": 0,
  "metadata": {
    "colab": {
      "provenance": []
    },
    "kernelspec": {
      "name": "python3",
      "display_name": "Python 3"
    },
    "language_info": {
      "name": "python"
    }
  },
  "cells": [
    {
      "cell_type": "code",
      "execution_count": 26,
      "metadata": {
        "colab": {
          "base_uri": "https://localhost:8080/"
        },
        "id": "FrYawkKDaQ5r",
        "outputId": "f06fc675-ce77-47c6-92ea-5a71c9da1b7f"
      },
      "outputs": [
        {
          "output_type": "execute_result",
          "data": {
            "text/plain": [
              "[12, 3, 1, 0, 0]"
            ]
          },
          "metadata": {},
          "execution_count": 26
        }
      ],
      "source": [
        "nums = [0,1,0,3,12]\n",
        "\n",
        "sorted(nums, reverse=True)\n"
      ]
    },
    {
      "cell_type": "code",
      "source": [
        "class Solution(object):\n",
        "    def moveZeroes(self, nums):\n",
        "\n",
        "        return sorted(nums, reverse=True)\n",
        "\n",
        "solution = Solution()\n",
        "nums = [0,1,0,3,12]\n",
        "\n",
        "solution.moveZeroes(nums)"
      ],
      "metadata": {
        "colab": {
          "base_uri": "https://localhost:8080/"
        },
        "id": "PiJwPKKYw1hb",
        "outputId": "0d1d0230-0b6f-4ab1-ece9-bda472b7771d"
      },
      "execution_count": 28,
      "outputs": [
        {
          "output_type": "execute_result",
          "data": {
            "text/plain": [
              "[12, 3, 1, 0, 0]"
            ]
          },
          "metadata": {},
          "execution_count": 28
        }
      ]
    },
    {
      "cell_type": "code",
      "source": [
        "class Solution(object):\n",
        "    def moveZeroes(self, nums):\n",
        "\n",
        "         nu = sorted(nums, reverse=True)\n",
        "         return nu\n",
        "\n",
        "solution = Solution()\n",
        "nums = [0,1,0,3,12]\n",
        "\n",
        "print(solution.moveZeroes(nums))"
      ],
      "metadata": {
        "colab": {
          "base_uri": "https://localhost:8080/"
        },
        "id": "Fq_Uo69FyrPE",
        "outputId": "3f7bd5e2-4760-4f7b-d188-fec92985c5b6"
      },
      "execution_count": 29,
      "outputs": [
        {
          "output_type": "stream",
          "name": "stdout",
          "text": [
            "[12, 3, 1, 0, 0]\n"
          ]
        }
      ]
    },
    {
      "cell_type": "code",
      "source": [
        "class Solution(object):\n",
        "    def majorityElement(self, nums):\n",
        "\n",
        "      for i in nums:\n",
        "        count = 0\n",
        "        for j in nums:\n",
        "          if i == j:\n",
        "            count += 1\n",
        "        if count > len(nums) / 2:\n",
        "          return i\n",
        "\n",
        "solution = Solution()\n",
        "nums = [2,2,1,1,1,2,2]\n",
        "print(solution.majorityElement(nums))"
      ],
      "metadata": {
        "colab": {
          "base_uri": "https://localhost:8080/"
        },
        "id": "azHsPj470fmJ",
        "outputId": "ee488bf3-fdaf-4ff3-a121-7bbd8a989b63"
      },
      "execution_count": 31,
      "outputs": [
        {
          "output_type": "stream",
          "name": "stdout",
          "text": [
            "2\n"
          ]
        }
      ]
    },
    {
      "cell_type": "code",
      "source": [
        "class Solution(object):\n",
        "    def majorityElement(self, nums):\n",
        "      for i in nums:\n",
        "        count = 0\n",
        "        for j in nums:\n",
        "          if i == j:\n",
        "            count += 1\n",
        "            if count > len(nums) / 2:\n",
        "              return i\n",
        "\n",
        "solution = Solution()\n",
        "nums = [2,2,1,1,1,2,2]\n",
        "print(solution.majorityElement(nums))"
      ],
      "metadata": {
        "colab": {
          "base_uri": "https://localhost:8080/"
        },
        "id": "BjTJSqYf1Iwn",
        "outputId": "0ac02372-c343-4925-db93-ae3e5b635da2"
      },
      "execution_count": 34,
      "outputs": [
        {
          "output_type": "stream",
          "name": "stdout",
          "text": [
            "2\n"
          ]
        }
      ]
    }
  ]
}