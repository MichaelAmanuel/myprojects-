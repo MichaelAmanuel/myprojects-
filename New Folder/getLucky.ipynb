{
  "nbformat": 4,
  "nbformat_minor": 0,
  "metadata": {
    "colab": {
      "provenance": []
    },
    "kernelspec": {
      "name": "python3",
      "display_name": "Python 3"
    },
    "language_info": {
      "name": "python"
    }
  },
  "cells": [
    {
      "cell_type": "code",
      "execution_count": 8,
      "metadata": {
        "colab": {
          "base_uri": "https://localhost:8080/"
        },
        "id": "mRZJhwvbKVQp",
        "outputId": "0e9daca7-a2e3-4a92-e7ff-4827c7c0410d"
      },
      "outputs": [
        {
          "output_type": "stream",
          "name": "stdout",
          "text": [
            "6\n"
          ]
        }
      ],
      "source": [
        "class Solution(object):\n",
        "    def getLucky(self, s, k):\n",
        "\n",
        "      s_int = ''\n",
        "\n",
        "      for i in s:\n",
        "        s_int += str(ord(i.lower()) - ord('a') + 1)\n",
        "\n",
        "      count = 0\n",
        "      while k > 0:\n",
        "        count = 0\n",
        "        for j in s_int:\n",
        "          count += int(j)\n",
        "\n",
        "        k -= 1\n",
        "        s_int = str(count)\n",
        "\n",
        "      return count\n",
        "\n",
        "solution = Solution()\n",
        "s = \"leetcode\"\n",
        "k = 2\n",
        "print(solution.getLucky(s, k))"
      ]
    },
    {
      "cell_type": "code",
      "source": [
        "class Solution(object):\n",
        "    def getLucky(self, s, k):\n",
        "\n",
        "      s_int = ''.join(str(ord(i.lower()) - ord('a') + 1) for i in s)\n",
        "\n",
        "      # count = 0\n",
        "      while k > 0:\n",
        "        count = 0\n",
        "        count = sum(int(digit) for digit in s_int)\n",
        "\n",
        "        k -= 1\n",
        "        s_int = str(count)\n",
        "\n",
        "      return count\n",
        "\n",
        "solution = Solution()\n",
        "s = \"leetcode\"\n",
        "k = 2\n",
        "print(solution.getLucky(s, k))"
      ],
      "metadata": {
        "colab": {
          "base_uri": "https://localhost:8080/"
        },
        "id": "tAIwQ8WtkT5e",
        "outputId": "2699302d-b693-49a4-a85e-525f2d7f9437"
      },
      "execution_count": 13,
      "outputs": [
        {
          "output_type": "stream",
          "name": "stdout",
          "text": [
            "6\n"
          ]
        }
      ]
    },
    {
      "cell_type": "code",
      "source": [
        "def char_to_position(char):\n",
        "    if 'a' <= char <= 'z':\n",
        "        return ord(char.lower()) - ord('a') + 1\n",
        "    else:\n",
        "        return None  # Return None for non-alphabetic characters\n",
        "\n",
        "# Example usage\n",
        "char1 = 'i'\n",
        "char2 = 'a'\n",
        "\n",
        "print(char_to_position(char1))\n",
        "position2 = char_to_position(char2)\n",
        "\n",
        "# if position1 is not None:\n",
        "#     print(f\"The position of '{char1}' in the alphabet is {position1}.\")\n",
        "# else:\n",
        "#     print(f\"'{char1}' is not an alphabetic character.\")\n",
        "\n",
        "# if position2 is not None:\n",
        "#     print(f\"The position of '{char2}' in the alphabet is {position2}.\")\n",
        "# else:\n",
        "#     print(f\"'{char2}' is not an alphabetic character.\")\n"
      ],
      "metadata": {
        "colab": {
          "base_uri": "https://localhost:8080/"
        },
        "id": "Ofz6EIWnLWSX",
        "outputId": "3844f8e7-d0cb-43b6-8691-21eea170a77b"
      },
      "execution_count": 2,
      "outputs": [
        {
          "output_type": "stream",
          "name": "stdout",
          "text": [
            "9\n"
          ]
        }
      ]
    },
    {
      "cell_type": "code",
      "source": [
        "a = 'bc'\n",
        "\n",
        "print(ord(a.lower()) - ord('a') + 1)\n",
        "print(ord(a.lower()))"
      ],
      "metadata": {
        "colab": {
          "base_uri": "https://localhost:8080/",
          "height": 193
        },
        "id": "ihrNHED_Lew_",
        "outputId": "8d6c4b0d-9f1a-42ff-b00a-093f661868d0"
      },
      "execution_count": 3,
      "outputs": [
        {
          "output_type": "error",
          "ename": "TypeError",
          "evalue": "ord() expected a character, but string of length 2 found",
          "traceback": [
            "\u001b[0;31m---------------------------------------------------------------------------\u001b[0m",
            "\u001b[0;31mTypeError\u001b[0m                                 Traceback (most recent call last)",
            "\u001b[0;32m<ipython-input-3-4cc484fd168b>\u001b[0m in \u001b[0;36m<cell line: 3>\u001b[0;34m()\u001b[0m\n\u001b[1;32m      1\u001b[0m \u001b[0ma\u001b[0m \u001b[0;34m=\u001b[0m \u001b[0;34m'bc'\u001b[0m\u001b[0;34m\u001b[0m\u001b[0;34m\u001b[0m\u001b[0m\n\u001b[1;32m      2\u001b[0m \u001b[0;34m\u001b[0m\u001b[0m\n\u001b[0;32m----> 3\u001b[0;31m \u001b[0mprint\u001b[0m\u001b[0;34m(\u001b[0m\u001b[0mord\u001b[0m\u001b[0;34m(\u001b[0m\u001b[0ma\u001b[0m\u001b[0;34m.\u001b[0m\u001b[0mlower\u001b[0m\u001b[0;34m(\u001b[0m\u001b[0;34m)\u001b[0m\u001b[0;34m)\u001b[0m \u001b[0;34m-\u001b[0m \u001b[0mord\u001b[0m\u001b[0;34m(\u001b[0m\u001b[0;34m'a'\u001b[0m\u001b[0;34m)\u001b[0m \u001b[0;34m+\u001b[0m \u001b[0;36m1\u001b[0m\u001b[0;34m)\u001b[0m\u001b[0;34m\u001b[0m\u001b[0;34m\u001b[0m\u001b[0m\n\u001b[0m\u001b[1;32m      4\u001b[0m \u001b[0mprint\u001b[0m\u001b[0;34m(\u001b[0m\u001b[0mord\u001b[0m\u001b[0;34m(\u001b[0m\u001b[0ma\u001b[0m\u001b[0;34m.\u001b[0m\u001b[0mlower\u001b[0m\u001b[0;34m(\u001b[0m\u001b[0;34m)\u001b[0m\u001b[0;34m)\u001b[0m\u001b[0;34m)\u001b[0m\u001b[0;34m\u001b[0m\u001b[0;34m\u001b[0m\u001b[0m\n",
            "\u001b[0;31mTypeError\u001b[0m: ord() expected a character, but string of length 2 found"
          ]
        }
      ]
    }
  ]
}