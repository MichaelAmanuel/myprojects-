{
  "nbformat": 4,
  "nbformat_minor": 0,
  "metadata": {
    "colab": {
      "provenance": []
    },
    "kernelspec": {
      "name": "python3",
      "display_name": "Python 3"
    },
    "language_info": {
      "name": "python"
    }
  },
  "cells": [
    {
      "cell_type": "code",
      "execution_count": null,
      "metadata": {
        "id": "bV1QrEl1CdY9"
      },
      "outputs": [],
      "source": [
        "class Solution(object):\n",
        "    def fizzBuzz(self, n):\n",
        "        out_put = []\n",
        "        for i in range(1, n + 1):\n",
        "            if i % 3 ==0 and i % 5 == 0:\n",
        "                out_put.append(\"FizzBuzz\")\n",
        "            elif i % 3 == 0:\n",
        "                out_put.append(\"Fizz\")\n",
        "            elif i % 5 == 0:\n",
        "                out_put.append('Buzz')\n",
        "            else:\n",
        "                out_put.append(str(i))\n",
        "        return out_put\n",
        "\n",
        "solution = Solution()\n",
        "n = 3\n",
        "print(solution.fizzBuzz(n))"
      ]
    }
  ]
}