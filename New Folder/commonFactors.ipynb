{
  "nbformat": 4,
  "nbformat_minor": 0,
  "metadata": {
    "colab": {
      "provenance": []
    },
    "kernelspec": {
      "name": "python3",
      "display_name": "Python 3"
    },
    "language_info": {
      "name": "python"
    }
  },
  "cells": [
    {
      "cell_type": "code",
      "execution_count": null,
      "metadata": {
        "id": "wLae-r0NWhea"
      },
      "outputs": [],
      "source": [
        "class Solution(object):\n",
        "    def commonFactors(self, a, b):\n",
        "      if a > b:\n",
        "        count = 0\n",
        "        for i in range(1, b+1):\n",
        "          if b%i==0 and a%i==0:\n",
        "            count += 1\n",
        "      else:\n",
        "        count = 0\n",
        "        for i in range(1, a+1):\n",
        "          if b%i==0 and a%i==0:\n",
        "            count += 1\n",
        "\n",
        "      return count\n",
        "\n",
        "solution = Solution()\n",
        "a = 25\n",
        "b = 30\n",
        "print(solution.commonFactors(a, b))"
      ]
    }
  ]
}