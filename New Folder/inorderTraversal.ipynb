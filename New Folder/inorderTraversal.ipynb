{
  "nbformat": 4,
  "nbformat_minor": 0,
  "metadata": {
    "colab": {
      "provenance": []
    },
    "kernelspec": {
      "name": "python3",
      "display_name": "Python 3"
    },
    "language_info": {
      "name": "python"
    }
  },
  "cells": [
    {
      "cell_type": "code",
      "execution_count": null,
      "metadata": {
        "id": "ivNcLvtEqfmF"
      },
      "outputs": [],
      "source": [
        "class TreeNode(object):\n",
        "    def __init__(self, val=0, left=None, right=None):\n",
        "        self.val = val\n",
        "        self.left = left\n",
        "        self.right = right\n",
        "\n",
        "class Solution(object):\n",
        "    def inorderTraversal(self, root):\n",
        "\n",
        "        def inorder(node):\n",
        "            if node is None:\n",
        "                return []\n",
        "            return inorder(node.left) + [node.val] + inorder(node.right)\n",
        "\n",
        "        return inorder(root)\n",
        "\n",
        "root = TreeNode(1)\n",
        "root.right = TreeNode(2)\n",
        "root.right.left = TreeNode(3)\n",
        "\n",
        "solution = Solution()\n",
        "print(solution.inorderTraversal(root))\n"
      ]
    }
  ]
}