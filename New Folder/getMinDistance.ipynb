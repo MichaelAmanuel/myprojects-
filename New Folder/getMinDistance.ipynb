{
  "nbformat": 4,
  "nbformat_minor": 0,
  "metadata": {
    "colab": {
      "provenance": []
    },
    "kernelspec": {
      "name": "python3",
      "display_name": "Python 3"
    },
    "language_info": {
      "name": "python"
    }
  },
  "cells": [
    {
      "cell_type": "code",
      "source": [
        "class Solution(object):\n",
        "    def getMinDistance(self, nums, target, start):\n",
        "\n",
        "      if nums[start] == target:\n",
        "        return 0\n",
        "      else:\n",
        "        if start == 0:\n",
        "          return abs(start - nums.index(target))\n",
        "\n",
        "        elif start + 1 == len(nums):\n",
        "          count_1 = 0\n",
        "          for j in range(start, -1, -1):\n",
        "            if nums[j] != target:\n",
        "              count_1 += 1\n",
        "            else:\n",
        "              return count_1\n",
        "        else:\n",
        "          p = []\n",
        "          count = 0\n",
        "          for i in range(start, len(nums)):\n",
        "            if nums[i] != target:\n",
        "              count += 1\n",
        "            else:\n",
        "              p.append(count)\n",
        "              break\n",
        "\n",
        "          count_1 = 0\n",
        "          for j in range(start, -1, -1):\n",
        "            if nums[j] != target:\n",
        "              count_1 += 1\n",
        "            else:\n",
        "              p.append(count_1)\n",
        "              break\n",
        "\n",
        "          return min(p)\n",
        "\n",
        "        return 0\n",
        "\n",
        "solution = Solution()\n",
        "nums = [1,1,1,1,1,10000,10000,10000,10000,10000]\n",
        "target = 1\n",
        "start = 9\n",
        "print(solution.getMinDistance(nums, target, start))"
      ],
      "metadata": {
        "id": "mffpNhgIm5Lp"
      },
      "execution_count": null,
      "outputs": []
    },
    {
      "cell_type": "code",
      "execution_count": 15,
      "metadata": {
        "colab": {
          "base_uri": "https://localhost:8080/"
        },
        "id": "uzZDcstdd3b_",
        "outputId": "35091cd1-794d-4fcd-ebb4-69fc0c250db6"
      },
      "outputs": [
        {
          "output_type": "stream",
          "name": "stdout",
          "text": [
            "2\n"
          ]
        }
      ],
      "source": [
        "class Solution(object):\n",
        "    def getMinDistance(self, nums, target, start):\n",
        "\n",
        "      if nums[start] == target:\n",
        "        return 0\n",
        "      else:\n",
        "        # result = abs(start - nums.index(target))\n",
        "        return abs(start - nums.index(target))\n",
        "\n",
        "solution = Solution()\n",
        "nums = [5,3,6]\n",
        "target = 5\n",
        "start = 2\n",
        "print(solution.getMinDistance(nums, target, start))"
      ]
    },
    {
      "cell_type": "code",
      "source": [
        "class Solution(object):\n",
        "    def getMinDistance(self, nums, target, start):\n",
        "\n",
        "      if nums[start] == target:\n",
        "        return 0\n",
        "      else:\n",
        "        count = 0\n",
        "        for i in range(start, len(nums)):\n",
        "          if nums[i] != target:\n",
        "            count += 1\n",
        "          else:\n",
        "            return count\n",
        "        # return abs(start - nums.index(target))\n",
        "\n",
        "solution = Solution()\n",
        "nums = [5,2,3,5,5]\n",
        "target = 5\n",
        "start = 2\n",
        "print(solution.getMinDistance(nums, target, start))"
      ],
      "metadata": {
        "colab": {
          "base_uri": "https://localhost:8080/"
        },
        "id": "aSmgj6xOfnC2",
        "outputId": "f24322da-2ae9-42cb-b9a0-38af379acf7c"
      },
      "execution_count": 14,
      "outputs": [
        {
          "output_type": "stream",
          "name": "stdout",
          "text": [
            "1\n"
          ]
        }
      ]
    }
  ]
}