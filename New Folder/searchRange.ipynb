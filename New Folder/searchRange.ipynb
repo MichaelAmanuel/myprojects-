{
  "nbformat": 4,
  "nbformat_minor": 0,
  "metadata": {
    "colab": {
      "provenance": []
    },
    "kernelspec": {
      "name": "python3",
      "display_name": "Python 3"
    },
    "language_info": {
      "name": "python"
    }
  },
  "cells": [
    {
      "cell_type": "code",
      "execution_count": 3,
      "metadata": {
        "colab": {
          "base_uri": "https://localhost:8080/"
        },
        "id": "N4a3TXLrHTyQ",
        "outputId": "3fb5f47a-d280-440a-82ba-0a8e1139e474"
      },
      "outputs": [
        {
          "output_type": "stream",
          "name": "stdout",
          "text": [
            "[0]\n"
          ]
        }
      ],
      "source": [
        "class Solution(object):\n",
        "    def searchRange(self, nums, target):\n",
        "\n",
        "      if target not in nums:\n",
        "        return [-1,-1]\n",
        "\n",
        "      elif nums.count(target) == 1:\n",
        "        return [nums.index(target), nums.index(target)]\n",
        "\n",
        "      o_p = []\n",
        "      for i in range(len(nums)):\n",
        "        if nums[i] == target:\n",
        "          o_p.append(i)\n",
        "      if len(o_p) == 2:\n",
        "        return o_p\n",
        "      elif len(o_p) > 2:\n",
        "        return [o_p[0], o_p[len(o_p - 1)]]\n",
        "\n",
        "solution = Solution()\n",
        "nums = [5,7,7,8,8,10]\n",
        "target = 8\n",
        "\n",
        "print(solution.searchRange(nums, target))"
      ]
    },
    {
      "cell_type": "code",
      "source": [],
      "metadata": {
        "id": "1mBgK-3QNAH0"
      },
      "execution_count": null,
      "outputs": []
    }
  ]
}