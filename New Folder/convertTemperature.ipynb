{
  "nbformat": 4,
  "nbformat_minor": 0,
  "metadata": {
    "colab": {
      "provenance": []
    },
    "kernelspec": {
      "name": "python3",
      "display_name": "Python 3"
    },
    "language_info": {
      "name": "python"
    }
  },
  "cells": [
    {
      "cell_type": "code",
      "execution_count": null,
      "metadata": {
        "id": "N9h5Cu4-UXGp"
      },
      "outputs": [],
      "source": [
        "class Solution(object):\n",
        "    def convertTemperature(self, celsius):\n",
        "      out_p = [(celsius + 273.15), (celsius * 1.80 + 32.00)]\n",
        "      return out_p\n",
        "\n",
        "solution = Solution()\n",
        "celsius = 36.50\n",
        "print(solution.convertTemperature(celsius))"
      ]
    }
  ]
}