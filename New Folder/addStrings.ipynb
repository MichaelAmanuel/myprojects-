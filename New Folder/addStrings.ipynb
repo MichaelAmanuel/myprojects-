{
  "nbformat": 4,
  "nbformat_minor": 0,
  "metadata": {
    "colab": {
      "provenance": []
    },
    "kernelspec": {
      "name": "python3",
      "display_name": "Python 3"
    },
    "language_info": {
      "name": "python"
    }
  },
  "cells": [
    {
      "cell_type": "code",
      "execution_count": null,
      "metadata": {
        "id": "EoqwYIAkoMkL"
      },
      "outputs": [],
      "source": [
        "class Solution(object):\n",
        "    def addStrings(self, num1, num2):\n",
        "        sum_str = int(num1) + int(num2)\n",
        "        return str(sum_str)\n",
        "\n",
        "solution = Solution()\n",
        "num1 = \"11\"\n",
        "num2 = \"123\"\n",
        "print(solution.addStrings(num1, num2))"
      ]
    }
  ]
}