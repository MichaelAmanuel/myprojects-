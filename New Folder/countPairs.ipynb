{
  "nbformat": 4,
  "nbformat_minor": 0,
  "metadata": {
    "colab": {
      "provenance": []
    },
    "kernelspec": {
      "name": "python3",
      "display_name": "Python 3"
    },
    "language_info": {
      "name": "python"
    }
  },
  "cells": [
    {
      "cell_type": "code",
      "execution_count": 4,
      "metadata": {
        "colab": {
          "base_uri": "https://localhost:8080/"
        },
        "id": "V33dS1eZT2s5",
        "outputId": "deb2e4e0-c5a0-4e2b-b05b-dc03a05013a5"
      },
      "outputs": [
        {
          "output_type": "stream",
          "name": "stdout",
          "text": [
            "10\n"
          ]
        }
      ],
      "source": [
        "class Solution(object):\n",
        "    def countPairs(self, nums, target):\n",
        "\n",
        "      count = 0\n",
        "\n",
        "      for i in range(len(nums)):\n",
        "        for j in range(i+1, len(nums)):\n",
        "          if (nums[i] + nums[j]) < target:\n",
        "            count += 1\n",
        "\n",
        "      return count\n",
        "\n",
        "solution = Solution()\n",
        "nums = [-6,2,5,-2,-7,-1,3]\n",
        "target = -2\n",
        "print(solution.countPairs(nums, target))"
      ]
    },
    {
      "cell_type": "code",
      "source": [],
      "metadata": {
        "id": "Outhwj_sVW5o"
      },
      "execution_count": null,
      "outputs": []
    }
  ]
}