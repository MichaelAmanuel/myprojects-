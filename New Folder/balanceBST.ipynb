{
  "nbformat": 4,
  "nbformat_minor": 0,
  "metadata": {
    "colab": {
      "provenance": []
    },
    "kernelspec": {
      "name": "python3",
      "display_name": "Python 3"
    },
    "language_info": {
      "name": "python"
    }
  },
  "cells": [
    {
      "cell_type": "code",
      "execution_count": null,
      "metadata": {
        "id": "9EqXUNEFTiDg"
      },
      "outputs": [],
      "source": [
        "class TreeNode(object):\n",
        "    def __init__(self, val=0, left=None, right=None):\n",
        "        self.val = val\n",
        "        self.left = left\n",
        "        self.right = right\n",
        "\n",
        "class Solution(object):\n",
        "    def balanceBST(self, root):\n",
        "        nodes = []\n",
        "\n",
        "        def inorder_traversal(node):\n",
        "            if not node:\n",
        "                return\n",
        "            inorder_traversal(node.left)\n",
        "            nodes.append(node.val)\n",
        "            inorder_traversal(node.right)\n",
        "\n",
        "        def sorted_array_to_bst(left, right):\n",
        "            if left > right:\n",
        "                return None\n",
        "            mid = (left + right) // 2\n",
        "            node = TreeNode(nodes[mid])\n",
        "            node.left = sorted_array_to_bst(left, mid - 1)\n",
        "            node.right = sorted_array_to_bst(mid + 1, right)\n",
        "            return node\n",
        "\n",
        "        inorder_traversal(root)\n",
        "        return sorted_array_to_bst(0, len(nodes) - 1)\n",
        "\n",
        "def print_inorder(root):\n",
        "    if not root:\n",
        "        return\n",
        "    print_inorder(root.left)\n",
        "    print(root.val)\n",
        "    print_inorder(root.right)\n",
        "\n",
        "def insert_into_bst(root, val):\n",
        "    if not root:\n",
        "        return TreeNode(val)\n",
        "    if val < root.val:\n",
        "        root.left = insert_into_bst(root.left, val)\n",
        "    else:\n",
        "        root.right = insert_into_bst(root.right, val)\n",
        "    return root\n",
        "\n",
        "\n",
        "def create_bst_from_list(vals):\n",
        "    root = None\n",
        "    for val in vals:\n",
        "        if val is not None:\n",
        "            root = insert_into_bst(root, val)\n",
        "    return root\n",
        "\n",
        "\n",
        "vals = [1, None, 2, None, 3, None, 4]\n",
        "root = create_bst_from_list(vals)\n",
        "solution = Solution()\n",
        "new_root = solution.balanceBST(root)\n",
        "print_inorder(new_root)"
      ]
    }
  ]
}