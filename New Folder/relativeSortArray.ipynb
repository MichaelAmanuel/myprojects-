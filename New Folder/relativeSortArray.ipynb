{
  "nbformat": 4,
  "nbformat_minor": 0,
  "metadata": {
    "colab": {
      "provenance": []
    },
    "kernelspec": {
      "name": "python3",
      "display_name": "Python 3"
    },
    "language_info": {
      "name": "python"
    }
  },
  "cells": [
    {
      "cell_type": "code",
      "execution_count": null,
      "metadata": {
        "id": "uJvs1uvOyrNY"
      },
      "outputs": [],
      "source": [
        "class Solution(object):\n",
        "    def relativeSortArray(self, arr1, arr2):\n",
        "\n",
        "        count = {num: 0 for num in arr2}\n",
        "        not_in_arr2 = []\n",
        "\n",
        "        for num in arr1:\n",
        "            if num in count:\n",
        "                count[num] += 1\n",
        "            else:\n",
        "                not_in_arr2.append(num)\n",
        "\n",
        "        result = []\n",
        "        for num in arr2:\n",
        "            result.extend([num] * count[num])\n",
        "\n",
        "        result.extend(sorted(not_in_arr2))\n",
        "        return result\n",
        "\n",
        "solution = Solution()\n",
        "arr1 = [2,3,1,3,2,4,6,7,9,2,19]\n",
        "arr2 = [2,1,4,3,9,6]\n",
        "print(solution.relativeSortArray(arr1, arr2))"
      ]
    }
  ]
}