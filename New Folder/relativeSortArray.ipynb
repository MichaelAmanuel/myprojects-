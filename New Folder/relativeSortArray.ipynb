{
  "nbformat": 4,
  "nbformat_minor": 0,
  "metadata": {
    "colab": {
      "provenance": []
    },
    "kernelspec": {
      "name": "python3",
      "display_name": "Python 3"
    },
    "language_info": {
      "name": "python"
    }
  },
  "cells": [
    {
      "cell_type": "code",
      "execution_count": 9,
      "metadata": {
        "colab": {
          "base_uri": "https://localhost:8080/"
        },
        "id": "dSvoVCoPWTss",
        "outputId": "4a33c38f-da42-4769-d3d1-f0fe7e374071"
      },
      "outputs": [
        {
          "output_type": "stream",
          "name": "stdout",
          "text": [
            "[22, 28, 8, 6, 17, 44]\n"
          ]
        }
      ],
      "source": [
        "class Solution(object):\n",
        "    def relativeSortArray(self, arr1, arr2):\n",
        "      o_p = []\n",
        "      o_p_2 = []\n",
        "\n",
        "      for i in arr2:\n",
        "        if  arr1.count(i) > 0:\n",
        "          for j in range(arr1.count(i)):\n",
        "            o_p.append(i)\n",
        "\n",
        "      for k in arr1:\n",
        "        if k not in o_p:\n",
        "          o_p_2.append(k)\n",
        "\n",
        "      return o_p + sorted(o_p_2)\n",
        "\n",
        "solution = Solution()\n",
        "arr1 = [28,6,22,8,44,17]\n",
        "arr2 = [22,28,8,6]\n",
        "print(solution.relativeSortArray(arr1, arr2))"
      ]
    },
    {
      "cell_type": "code",
      "source": [],
      "metadata": {
        "id": "iIfCc6tsiVol"
      },
      "execution_count": null,
      "outputs": []
    }
  ]
}