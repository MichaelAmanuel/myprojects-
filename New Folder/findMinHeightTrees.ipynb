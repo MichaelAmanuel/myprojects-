{
  "nbformat": 4,
  "nbformat_minor": 0,
  "metadata": {
    "colab": {
      "provenance": []
    },
    "kernelspec": {
      "name": "python3",
      "display_name": "Python 3"
    },
    "language_info": {
      "name": "python"
    }
  },
  "cells": [
    {
      "cell_type": "code",
      "execution_count": 2,
      "metadata": {
        "colab": {
          "base_uri": "https://localhost:8080/"
        },
        "id": "yBzkN5dnj_mF",
        "outputId": "e0d63ce8-5a7d-4aad-b156-1c51b5311a8f"
      },
      "outputs": [
        {
          "output_type": "stream",
          "name": "stdout",
          "text": [
            "[3, 4]\n"
          ]
        }
      ],
      "source": [
        "from collections import defaultdict\n",
        "\n",
        "class Solution:\n",
        "    def findMinHeightTrees(self, n, edges):\n",
        "        if n == 1:\n",
        "            return [0]\n",
        "\n",
        "        # Construct adjacency list representation of the tree\n",
        "        adjacency_list = defaultdict(list)\n",
        "        degrees = [0] * n\n",
        "        for u, v in edges:\n",
        "            adjacency_list[u].append(v)\n",
        "            adjacency_list[v].append(u)\n",
        "            degrees[u] += 1\n",
        "            degrees[v] += 1\n",
        "\n",
        "        # Initialize the set of leaf nodes\n",
        "        leaves = [i for i in range(n) if degrees[i] == 1]\n",
        "\n",
        "        # Trim the leaves iteratively until one or two nodes are left\n",
        "        while n > 2:\n",
        "            n -= len(leaves)\n",
        "            new_leaves = []\n",
        "            for leaf in leaves:\n",
        "                neighbor = adjacency_list[leaf].pop()\n",
        "                degrees[neighbor] -= 1\n",
        "                if degrees[neighbor] == 1:\n",
        "                    new_leaves.append(neighbor)\n",
        "            leaves = new_leaves\n",
        "\n",
        "        # Return the remaining nodes as roots of minimum height trees\n",
        "        return leaves\n",
        "\n",
        "# Example usage:\n",
        "solution = Solution()\n",
        "n = 6\n",
        "edges = [[3,0],[3,1],[3,2],[3,4],[5,4]]\n",
        "print(solution.findMinHeightTrees(n, edges))  # Output: [3, 4]\n"
      ]
    }
  ]
}