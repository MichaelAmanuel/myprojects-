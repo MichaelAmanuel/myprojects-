{
  "nbformat": 4,
  "nbformat_minor": 0,
  "metadata": {
    "colab": {
      "provenance": []
    },
    "kernelspec": {
      "name": "python3",
      "display_name": "Python 3"
    },
    "language_info": {
      "name": "python"
    }
  },
  "cells": [
    {
      "cell_type": "code",
      "execution_count": 1,
      "metadata": {
        "id": "kQjWvHzXch44"
      },
      "outputs": [],
      "source": [
        "class Solution:\n",
        "    def robotSim(self, commands, obstacles):\n",
        "        directions = [(0, 1), (1, 0), (0, -1), (-1, 0)]\n",
        "        obstacle_set = set(map(tuple, obstacles))\n",
        "        x, y, direction_index, max_distance = 0, 0, 0, 0\n",
        "\n",
        "        for command in commands:\n",
        "            if command == -2:\n",
        "                direction_index = (direction_index - 1) % 4\n",
        "            elif command == -1:\n",
        "                direction_index = (direction_index + 1) % 4\n",
        "            else:\n",
        "                for _ in range(command):\n",
        "                    nx, ny = x + directions[direction_index][0], y + directions[direction_index][1]\n",
        "                    if (nx, ny) not in obstacle_set:\n",
        "                        x, y = nx, ny\n",
        "                        max_distance = max(max_distance, x * x + y * y)\n",
        "                    else:\n",
        "                        break\n",
        "\n",
        "        return max_distance\n"
      ]
    },
    {
      "cell_type": "code",
      "source": [],
      "metadata": {
        "id": "6FcGHhRC-DGY"
      },
      "execution_count": null,
      "outputs": []
    }
  ]
}