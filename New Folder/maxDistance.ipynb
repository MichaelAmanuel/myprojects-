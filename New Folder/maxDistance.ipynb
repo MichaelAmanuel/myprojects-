{
  "nbformat": 4,
  "nbformat_minor": 0,
  "metadata": {
    "colab": {
      "provenance": []
    },
    "kernelspec": {
      "name": "python3",
      "display_name": "Python 3"
    },
    "language_info": {
      "name": "python"
    }
  },
  "cells": [
    {
      "cell_type": "code",
      "execution_count": 2,
      "metadata": {
        "colab": {
          "base_uri": "https://localhost:8080/"
        },
        "id": "Zd9CD4aiTCbu",
        "outputId": "c399b666-e11f-4452-aa42-400f6a66eb5c"
      },
      "outputs": [
        {
          "output_type": "stream",
          "name": "stdout",
          "text": [
            "3\n"
          ]
        }
      ],
      "source": [
        "class Solution:\n",
        "    def maxDistance(self, position, m):\n",
        "\n",
        "      position.sort()\n",
        "\n",
        "      def canPlaceBalls(min_force):\n",
        "          count = 1\n",
        "          last_position = position[0]\n",
        "          for i in range(1, len(position)):\n",
        "              if position[i] - last_position >= min_force:\n",
        "                  count += 1\n",
        "                  last_position = position[i]\n",
        "                  if count == m:\n",
        "                      return True\n",
        "          return False\n",
        "\n",
        "      left, right = 1, position[-1] - position[0]\n",
        "      while left < right:\n",
        "          mid = (left + right + 1) // 2\n",
        "          if canPlaceBalls(mid):\n",
        "              left = mid\n",
        "          else:\n",
        "              right = mid - 1\n",
        "      return left\n",
        "\n",
        "solution = Solution()\n",
        "position = [1, 2, 3, 4, 7]\n",
        "m = 3\n",
        "print(solution.maxDistance(position, m))"
      ]
    }
  ]
}