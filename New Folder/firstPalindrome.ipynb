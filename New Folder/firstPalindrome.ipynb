{
  "nbformat": 4,
  "nbformat_minor": 0,
  "metadata": {
    "colab": {
      "provenance": []
    },
    "kernelspec": {
      "name": "python3",
      "display_name": "Python 3"
    },
    "language_info": {
      "name": "python"
    }
  },
  "cells": [
    {
      "cell_type": "code",
      "execution_count": null,
      "metadata": {
        "colab": {
          "base_uri": "https://localhost:8080/"
        },
        "id": "2M5n7C4HF_jP",
        "outputId": "4cd99ff0-7c01-46e1-b1eb-29e3e7e84fb4"
      },
      "outputs": [
        {
          "output_type": "stream",
          "name": "stdout",
          "text": [
            "\n"
          ]
        }
      ],
      "source": [
        "class Solution(object):\n",
        "  def firstPalindrome(self, words):\n",
        "\n",
        "    for i in words:\n",
        "      if i == i[::-1]:\n",
        "        return i\n",
        "    return ''\n",
        "\n",
        "solution = Solution()\n",
        "words = [\"def\",\"ghi\"]\n",
        "print(solution.firstPalindrome(words))"
      ]
    }
  ]
}