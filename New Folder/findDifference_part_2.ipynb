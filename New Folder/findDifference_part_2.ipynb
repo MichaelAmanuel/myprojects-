{
  "nbformat": 4,
  "nbformat_minor": 0,
  "metadata": {
    "colab": {
      "provenance": []
    },
    "kernelspec": {
      "name": "python3",
      "display_name": "Python 3"
    },
    "language_info": {
      "name": "python"
    }
  },
  "cells": [
    {
      "cell_type": "code",
      "execution_count": 4,
      "metadata": {
        "colab": {
          "base_uri": "https://localhost:8080/"
        },
        "id": "_xUzCLocF7Zf",
        "outputId": "96a23720-c7d7-4183-d36f-d64f10ee74fc"
      },
      "outputs": [
        {
          "output_type": "stream",
          "name": "stdout",
          "text": [
            "[[1, 3], [4, 6]]\n"
          ]
        }
      ],
      "source": [
        "class Solution(object):\n",
        "    def findDifference(self, nums1, nums2):\n",
        "\n",
        "      f = []\n",
        "      s = []\n",
        "\n",
        "      for i in nums1:\n",
        "        if i not in nums2 and (i not in f):\n",
        "          f.append(i)\n",
        "\n",
        "      for j in nums2:\n",
        "        if j not in nums1 and (j not in s):\n",
        "          s.append(j)\n",
        "\n",
        "      return [f ,s]\n",
        "\n",
        "solution = Solution()\n",
        "nums1 = [1,2,3]\n",
        "nums2 = [2,4,6]\n",
        "print(solution.findDifference(nums1, nums2))"
      ]
    },
    {
      "cell_type": "code",
      "source": [
        "class Solution(object):\n",
        "    def findDifference(self, nums1, nums2):\n",
        "\n",
        "      f = [i for i in nums1 if i not in nums2]\n",
        "      s = [j for j in nums2 if j not in nums1]\n",
        "\n",
        "      return [f ,s]\n",
        "\n",
        "solution = Solution()\n",
        "nums1 = [1,2,3,3]\n",
        "nums2 = [1,1,2,2]\n",
        "print(solution.findDifference(nums1, nums2))"
      ],
      "metadata": {
        "colab": {
          "base_uri": "https://localhost:8080/"
        },
        "id": "v2C2fk7MGqqd",
        "outputId": "d38682b3-9b4b-4c24-ed28-e5db721c63a3"
      },
      "execution_count": 2,
      "outputs": [
        {
          "output_type": "stream",
          "name": "stdout",
          "text": [
            "[[3, 3], []]\n"
          ]
        }
      ]
    },
    {
      "cell_type": "code",
      "source": [
        "nums1 = [1,2,3,3]\n",
        "nums2 = [1,1,2,2]\n",
        "\n",
        "num1 = list(set(nums1))\n",
        "num2 = list(set(nums2))\n",
        "\n",
        "print(list(num1))\n",
        "print(num2)"
      ],
      "metadata": {
        "colab": {
          "base_uri": "https://localhost:8080/"
        },
        "id": "aPR0vj9mHNkx",
        "outputId": "5f3a809d-9523-4efe-da69-a6e0891c9de4"
      },
      "execution_count": 4,
      "outputs": [
        {
          "output_type": "stream",
          "name": "stdout",
          "text": [
            "[1, 2, 3]\n",
            "{1, 2}\n"
          ]
        }
      ]
    },
    {
      "cell_type": "code",
      "source": [
        "class Solution(object):\n",
        "    def findDifference(self, nums1, nums2):\n",
        "\n",
        "      num1 = list(set(nums1))\n",
        "      num2 = list(set(nums2))\n",
        "\n",
        "      f = [i for i in list(set(nums1)) if i not in list(set(nums2))]\n",
        "      s = [j for j in list(set(nums2)) if j not in list(set(nums1))]\n",
        "\n",
        "      return [f ,s]\n",
        "\n",
        "solution = Solution()\n",
        "nums1 = [1,2,3,3]\n",
        "nums2 = [1,1,2,2]\n",
        "print(solution.findDifference(nums1, nums2))"
      ],
      "metadata": {
        "colab": {
          "base_uri": "https://localhost:8080/"
        },
        "id": "nWQbqgUnB-JT",
        "outputId": "fefa7661-d941-4bcd-da72-563072dd3e00"
      },
      "execution_count": 8,
      "outputs": [
        {
          "output_type": "stream",
          "name": "stdout",
          "text": [
            "[[3], []]\n"
          ]
        }
      ]
    },
    {
      "cell_type": "code",
      "source": [],
      "metadata": {
        "id": "VZBpiFvmCeod"
      },
      "execution_count": null,
      "outputs": []
    }
  ]
}