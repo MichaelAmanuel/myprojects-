{
  "nbformat": 4,
  "nbformat_minor": 0,
  "metadata": {
    "colab": {
      "provenance": []
    },
    "kernelspec": {
      "name": "python3",
      "display_name": "Python 3"
    },
    "language_info": {
      "name": "python"
    }
  },
  "cells": [
    {
      "cell_type": "code",
      "execution_count": 7,
      "metadata": {
        "colab": {
          "base_uri": "https://localhost:8080/"
        },
        "id": "-adiLxYurUtd",
        "outputId": "53f349c5-66fe-4339-989a-c4742b25e07f"
      },
      "outputs": [
        {
          "output_type": "stream",
          "name": "stdout",
          "text": [
            "bcad\n"
          ]
        }
      ],
      "source": [
        "class Solution(object):\n",
        "    def customSortString(self, order, s):\n",
        "\n",
        "      result = ''\n",
        "      for i in range(len(s)):\n",
        "        if s[i] in order:\n",
        "          result += order[i]\n",
        "        else:\n",
        "          result += s[i]\n",
        "\n",
        "      return result\n",
        "\n",
        "solution = Solution()\n",
        "order = \"bcafg\"\n",
        "s = \"abcd\"\n",
        "print(solution.customSortString(order, s))"
      ]
    },
    {
      "cell_type": "code",
      "source": [
        "class Solution(object):\n",
        "    def customSortString(self, order, s):\n",
        "        result = ''\n",
        "        for char in order:\n",
        "            if char in s:\n",
        "                result += char * s.count(char)\n",
        "        for char in s:\n",
        "            if char not in order:\n",
        "                result += char\n",
        "        return result\n",
        "\n",
        "solution = Solution()\n",
        "order = \"bcafg\"\n",
        "s = \"abcd\"\n",
        "print(solution.customSortString(order, s))\n"
      ],
      "metadata": {
        "colab": {
          "base_uri": "https://localhost:8080/"
        },
        "id": "rqR0pJchvYS0",
        "outputId": "5bb9b904-3b48-46d3-bf78-8d172b45f7e7"
      },
      "execution_count": 8,
      "outputs": [
        {
          "output_type": "stream",
          "name": "stdout",
          "text": [
            "bcad\n"
          ]
        }
      ]
    }
  ]
}