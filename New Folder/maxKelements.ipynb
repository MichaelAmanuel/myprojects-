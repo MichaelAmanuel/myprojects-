{
  "nbformat": 4,
  "nbformat_minor": 0,
  "metadata": {
    "colab": {
      "provenance": []
    },
    "kernelspec": {
      "name": "python3",
      "display_name": "Python 3"
    },
    "language_info": {
      "name": "python"
    }
  },
  "cells": [
    {
      "cell_type": "code",
      "execution_count": 1,
      "metadata": {
        "id": "kQjWvHzXch44"
      },
      "outputs": [],
      "source": [
        "import heapq\n",
        "import math\n",
        "\n",
        "class Solution(object):\n",
        "    def maxKelements(self, nums, k):\n",
        "        max_heap = [-num for num in nums]\n",
        "        heapq.heapify(max_heap)\n",
        "        score = 0\n",
        "\n",
        "        for _ in range(k):\n",
        "            largest = -heapq.heappop(max_heap)\n",
        "            score += largest\n",
        "            heapq.heappush(max_heap, -math.ceil(largest / 3))\n",
        "\n",
        "        return score"
      ]
    }
  ]
}