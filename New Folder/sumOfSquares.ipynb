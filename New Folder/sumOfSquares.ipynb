{
  "nbformat": 4,
  "nbformat_minor": 0,
  "metadata": {
    "colab": {
      "provenance": []
    },
    "kernelspec": {
      "name": "python3",
      "display_name": "Python 3"
    },
    "language_info": {
      "name": "python"
    }
  },
  "cells": [
    {
      "cell_type": "code",
      "execution_count": 5,
      "metadata": {
        "colab": {
          "base_uri": "https://localhost:8080/"
        },
        "id": "uK_KXHFdQWU1",
        "outputId": "128c97bc-7889-4384-89af-227104474fa1"
      },
      "outputs": [
        {
          "output_type": "stream",
          "name": "stdout",
          "text": [
            "63\n"
          ]
        }
      ],
      "source": [
        "class Solution(object):\n",
        "    def sumOfSquares(self, nums):\n",
        "\n",
        "      su = 0\n",
        "\n",
        "      for i in range(1, len(nums)+1):\n",
        "        if len(nums) % i == 0:\n",
        "          su += (nums[i - 1]**2)\n",
        "\n",
        "      return su\n",
        "\n",
        "solution = Solution()\n",
        "nums = [2,7,1,19,18,3]\n",
        "print(solution.sumOfSquares(nums))"
      ]
    }
  ]
}