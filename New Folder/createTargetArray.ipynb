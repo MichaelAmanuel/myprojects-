{
  "nbformat": 4,
  "nbformat_minor": 0,
  "metadata": {
    "colab": {
      "provenance": []
    },
    "kernelspec": {
      "name": "python3",
      "display_name": "Python 3"
    },
    "language_info": {
      "name": "python"
    }
  },
  "cells": [
    {
      "cell_type": "code",
      "execution_count": 16,
      "metadata": {
        "colab": {
          "base_uri": "https://localhost:8080/"
        },
        "id": "C9RJK0Hhi6Hv",
        "outputId": "f7cbaffe-259d-4381-ae80-98d0f08d8035"
      },
      "outputs": [
        {
          "output_type": "stream",
          "name": "stdout",
          "text": [
            "[0, 4, 1, 3, 2]\n"
          ]
        }
      ],
      "source": [
        "class Solution(object):\n",
        "    def createTargetArray(self, nums, index):\n",
        "\n",
        "      o_p = []\n",
        "      for i,j in zip(nums, index):\n",
        "        o_p = o_p[:j] + [i] + o_p[j:]\n",
        "\n",
        "      return o_p\n",
        "\n",
        "solution = Solution()\n",
        "nums = [0,1,2,3,4]\n",
        "index = [0,1,2,2,1]\n",
        "print(solution.createTargetArray(nums, index))"
      ]
    },
    {
      "cell_type": "code",
      "source": [],
      "metadata": {
        "id": "o8zmtBZWyST0"
      },
      "execution_count": null,
      "outputs": []
    }
  ]
}