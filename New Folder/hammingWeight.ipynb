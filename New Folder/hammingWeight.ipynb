{
  "nbformat": 4,
  "nbformat_minor": 0,
  "metadata": {
    "colab": {
      "provenance": []
    },
    "kernelspec": {
      "name": "python3",
      "display_name": "Python 3"
    },
    "language_info": {
      "name": "python"
    }
  },
  "cells": [
    {
      "cell_type": "code",
      "execution_count": null,
      "metadata": {
        "id": "6ea0FYxUDAO0"
      },
      "outputs": [],
      "source": [
        "class Solution(object):\n",
        "    def hammingWeight(self, n):\n",
        "\n",
        "        return bin(n).count('1')\n",
        "\n",
        "\n",
        "solution = Solution()\n",
        "print(solution.hammingWeight(11))\n",
        "print(solution.hammingWeight(128))\n",
        "print(solution.hammingWeight(255))\n",
        ""
      ]
    }
  ]
}