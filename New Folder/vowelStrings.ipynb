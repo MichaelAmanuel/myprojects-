{
  "nbformat": 4,
  "nbformat_minor": 0,
  "metadata": {
    "colab": {
      "provenance": []
    },
    "kernelspec": {
      "name": "python3",
      "display_name": "Python 3"
    },
    "language_info": {
      "name": "python"
    }
  },
  "cells": [
    {
      "cell_type": "code",
      "execution_count": null,
      "metadata": {
        "id": "kQjWvHzXch44",
        "colab": {
          "base_uri": "https://localhost:8080/"
        },
        "outputId": "50e14a69-7a1a-437e-be44-e1ade4c7db4d"
      },
      "outputs": [
        {
          "output_type": "stream",
          "name": "stdout",
          "text": [
            "zzcacc\n",
            "bbab\n"
          ]
        }
      ],
      "source": [
        "class Solution(object):\n",
        "    def vowelStrings(self, words, queries):\n",
        "        vowels = set(\"aeiou\")\n",
        "\n",
        "        # Helper function to check if the string starts and ends with vowels\n",
        "        def is_vowel_string(word):\n",
        "            return word[0] in vowels and word[-1] in vowels\n",
        "\n",
        "        # Precompute the prefix sum array for vowel strings\n",
        "        n = len(words)\n",
        "        prefix_sum = [0] * (n + 1)\n",
        "        for i in range(n):\n",
        "            prefix_sum[i + 1] = prefix_sum[i] + (1 if is_vowel_string(words[i]) else 0)\n",
        "\n",
        "        # Answer the queries using the prefix sum array\n",
        "        output = []\n",
        "        for left, right in queries:\n",
        "            output.append(prefix_sum[right + 1] - prefix_sum[left])\n",
        "\n",
        "        return output\n"
      ]
    }
  ]
}