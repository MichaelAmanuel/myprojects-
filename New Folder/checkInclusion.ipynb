{
  "nbformat": 4,
  "nbformat_minor": 0,
  "metadata": {
    "colab": {
      "provenance": []
    },
    "kernelspec": {
      "name": "python3",
      "display_name": "Python 3"
    },
    "language_info": {
      "name": "python"
    }
  },
  "cells": [
    {
      "cell_type": "code",
      "execution_count": null,
      "metadata": {
        "id": "kQjWvHzXch44"
      },
      "outputs": [],
      "source": [
        "class Solution(object):\n",
        "    def checkInclusion(self, s1, s2):\n",
        "        if len(s1) > len(s2):\n",
        "            return False\n",
        "\n",
        "        s1_count = [0] * 26\n",
        "        s2_count = [0] * 26\n",
        "\n",
        "        for i in range(len(s1)):\n",
        "            s1_count[ord(s1[i]) - ord('a')] += 1\n",
        "            s2_count[ord(s2[i]) - ord('a')] += 1\n",
        "\n",
        "        matches = 0\n",
        "        for i in range(26):\n",
        "            if s1_count[i] == s2_count[i]:\n",
        "                matches += 1\n",
        "\n",
        "        l = 0\n",
        "        for r in range(len(s1), len(s2)):\n",
        "            if matches == 26:\n",
        "                return True\n",
        "\n",
        "            index = ord(s2[r]) - ord('a')\n",
        "            s2_count[index] += 1\n",
        "            if s2_count[index] == s1_count[index]:\n",
        "                matches += 1\n",
        "            elif s2_count[index] == s1_count[index] + 1:\n",
        "                matches -= 1\n",
        "\n",
        "            index = ord(s2[l]) - ord('a')\n",
        "            s2_count[index] -= 1\n",
        "            if s2_count[index] == s1_count[index]:\n",
        "                matches += 1\n",
        "            elif s2_count[index] == s1_count[index] - 1:\n",
        "                matches -= 1\n",
        "\n",
        "            l += 1\n",
        "\n",
        "        return matches == 26\n"
      ]
    }
  ]
}