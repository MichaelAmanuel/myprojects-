{
  "nbformat": 4,
  "nbformat_minor": 0,
  "metadata": {
    "colab": {
      "provenance": []
    },
    "kernelspec": {
      "name": "python3",
      "display_name": "Python 3"
    },
    "language_info": {
      "name": "python"
    }
  },
  "cells": [
    {
      "cell_type": "code",
      "execution_count": 5,
      "metadata": {
        "colab": {
          "base_uri": "https://localhost:8080/"
        },
        "id": "GlFccu9IYpb_",
        "outputId": "e06ac870-40d6-4010-d184-d896e62582be"
      },
      "outputs": [
        {
          "output_type": "stream",
          "name": "stdout",
          "text": [
            "['Mary', 'Emma', 'John']\n"
          ]
        }
      ],
      "source": [
        "class Solution(object):\n",
        "    def sortPeople(self, names, heights):\n",
        "      out_p = []\n",
        "      ma = sorted(heights, reverse=True)\n",
        "      for i in ma:\n",
        "        out_p.append(names[heights.index(i)])\n",
        "\n",
        "      return out_p\n",
        "\n",
        "solution = Solution()\n",
        "names = [\"Mary\",\"John\",\"Emma\"]\n",
        "heights = [180,165,170]\n",
        "print(solution.sortPeople(names, heights))"
      ]
    }
  ]
}