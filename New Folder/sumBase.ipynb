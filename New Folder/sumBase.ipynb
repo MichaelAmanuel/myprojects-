{
  "nbformat": 4,
  "nbformat_minor": 0,
  "metadata": {
    "colab": {
      "provenance": []
    },
    "kernelspec": {
      "name": "python3",
      "display_name": "Python 3"
    },
    "language_info": {
      "name": "python"
    }
  },
  "cells": [
    {
      "cell_type": "code",
      "execution_count": 2,
      "metadata": {
        "colab": {
          "base_uri": "https://localhost:8080/"
        },
        "id": "zK-OY4Jo4uD_",
        "outputId": "9c108c65-447a-470c-87f9-410b805026db"
      },
      "outputs": [
        {
          "output_type": "stream",
          "name": "stdout",
          "text": [
            "1\n"
          ]
        }
      ],
      "source": [
        "class Solution(object):\n",
        "    def sumBase(self, n, k):\n",
        "      dig = 0\n",
        "      while n > 0:\n",
        "        dig = dig + n % k\n",
        "        n = n // k\n",
        "\n",
        "      return dig\n",
        "\n",
        "solution = Solution()\n",
        "n = 10\n",
        "k = 10\n",
        "print(solution.sumBase(n, k))"
      ]
    }
  ]
}