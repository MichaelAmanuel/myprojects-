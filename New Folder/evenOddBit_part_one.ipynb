{
  "nbformat": 4,
  "nbformat_minor": 0,
  "metadata": {
    "colab": {
      "provenance": []
    },
    "kernelspec": {
      "name": "python3",
      "display_name": "Python 3"
    },
    "language_info": {
      "name": "python"
    }
  },
  "cells": [
    {
      "cell_type": "code",
      "execution_count": 13,
      "metadata": {
        "colab": {
          "base_uri": "https://localhost:8080/"
        },
        "id": "G0I-3FZEaBOz",
        "outputId": "75cfc699-652c-4d51-df76-939c60bf1f8f"
      },
      "outputs": [
        {
          "output_type": "stream",
          "name": "stdout",
          "text": [
            "[1, 0]\n"
          ]
        }
      ],
      "source": [
        "class Solution(object):\n",
        "    def evenOddBit(self, n):\n",
        "\n",
        "      even = 0\n",
        "      odd = 0\n",
        "      n_bin = bin(n)[2:]\n",
        "\n",
        "      for i in range(len(n_bin)):\n",
        "        if (i % 2 == 0) and (n_bin[i] == '1'):\n",
        "          even += 1\n",
        "        elif i % 2 != 0 and n_bin[i] == '1':\n",
        "          odd += 1\n",
        "\n",
        "      return [even, odd]\n",
        "\n",
        "\n",
        "solution = Solution()\n",
        "n = 2\n",
        "print(solution.evenOddBit(n))"
      ]
    },
    {
      "cell_type": "code",
      "source": [],
      "metadata": {
        "id": "Fder975PaGRk"
      },
      "execution_count": null,
      "outputs": []
    }
  ]
}