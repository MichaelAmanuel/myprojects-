{
  "nbformat": 4,
  "nbformat_minor": 0,
  "metadata": {
    "colab": {
      "provenance": []
    },
    "kernelspec": {
      "name": "python3",
      "display_name": "Python 3"
    },
    "language_info": {
      "name": "python"
    }
  },
  "cells": [
    {
      "cell_type": "code",
      "execution_count": null,
      "metadata": {
        "id": "kQjWvHzXch44"
      },
      "outputs": [],
      "source": [
        "class Solution(object):\n",
        "    def climbStairs(self, n):\n",
        "\n",
        "        if n == 1:\n",
        "            return 1\n",
        "        if n == 2:\n",
        "            return 2\n",
        "\n",
        "        dp = [0] * (n + 1)\n",
        "        dp[1] = 1\n",
        "        dp[2] = 2\n",
        "\n",
        "        for i in range(3, n + 1):\n",
        "            dp[i] = dp[i - 1] + dp[i - 2]\n",
        "\n",
        "        return dp[n]\n",
        "\n",
        "solution = Solution()\n",
        "n = 2\n",
        "print(solution.climbStairs(n))"
      ]
    }
  ]
}