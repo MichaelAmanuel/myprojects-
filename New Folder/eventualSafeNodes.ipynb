{
  "nbformat": 4,
  "nbformat_minor": 0,
  "metadata": {
    "colab": {
      "provenance": []
    },
    "kernelspec": {
      "name": "python3",
      "display_name": "Python 3"
    },
    "language_info": {
      "name": "python"
    }
  },
  "cells": [
    {
      "cell_type": "code",
      "execution_count": null,
      "metadata": {
        "id": "kQjWvHzXch44",
        "colab": {
          "base_uri": "https://localhost:8080/"
        },
        "outputId": "792b0e92-1d98-4286-aafa-efc6fbfae2a7"
      },
      "outputs": [
        {
          "output_type": "stream",
          "name": "stdout",
          "text": [
            "9\n"
          ]
        }
      ],
      "source": [
        "class Solution(object):\n",
        "    def eventualSafeNodes(self, graph):\n",
        "        n = len(graph)\n",
        "        out_degree = [0] * n\n",
        "        reverse_graph = [[] for _ in range(n)]\n",
        "\n",
        "        for i, neighbors in enumerate(graph):\n",
        "            out_degree[i] = len(neighbors)\n",
        "            for neighbor in neighbors:\n",
        "                reverse_graph[neighbor].append(i)\n",
        "\n",
        "        queue = [i for i in range(n) if out_degree[i] == 0]\n",
        "        safe_nodes = set(queue)\n",
        "\n",
        "        while queue:\n",
        "            node = queue.pop(0)\n",
        "            for prev in reverse_graph[node]:\n",
        "                out_degree[prev] -= 1\n",
        "                if out_degree[prev] == 0:\n",
        "                    safe_nodes.add(prev)\n",
        "                    queue.append(prev)\n",
        "\n",
        "        return sorted(safe_nodes)"
      ]
    }
  ]
}