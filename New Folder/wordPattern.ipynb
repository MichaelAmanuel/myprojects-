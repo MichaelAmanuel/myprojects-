{
  "nbformat": 4,
  "nbformat_minor": 0,
  "metadata": {
    "colab": {
      "provenance": []
    },
    "kernelspec": {
      "name": "python3",
      "display_name": "Python 3"
    },
    "language_info": {
      "name": "python"
    }
  },
  "cells": [
    {
      "cell_type": "code",
      "source": [
        "class Solution(object):\n",
        "    def wordPattern(self, pattern, s):\n",
        "\n",
        "      pa = list(pattern)\n",
        "      ss = s.split(' ')\n",
        "\n",
        "      if len(set(pa)) != len(set(ss)) or len(pa) != len(ss):\n",
        "        return False\n",
        "\n",
        "      else:\n",
        "        dic = {}\n",
        "        for i, j in zip(pattern, ss):\n",
        "          if i in dic and dic[i] != j:\n",
        "            return False\n",
        "          else:\n",
        "            dic[i] = j\n",
        "\n",
        "        return True\n",
        "\n",
        "solution = Solution()\n",
        "pattern = \"abba\"\n",
        "s = \"dog cat cat dog\"\n",
        "print(solution.wordPattern(pattern, s))"
      ],
      "metadata": {
        "colab": {
          "base_uri": "https://localhost:8080/"
        },
        "id": "MNKskR5YfMaH",
        "outputId": "0a0ad9e2-2864-435c-a3e8-8ec72e7a8310"
      },
      "execution_count": 26,
      "outputs": [
        {
          "output_type": "stream",
          "name": "stdout",
          "text": [
            "True\n"
          ]
        }
      ]
    }
  ]
}