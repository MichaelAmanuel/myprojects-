{
  "nbformat": 4,
  "nbformat_minor": 0,
  "metadata": {
    "colab": {
      "provenance": []
    },
    "kernelspec": {
      "name": "python3",
      "display_name": "Python 3"
    },
    "language_info": {
      "name": "python"
    }
  },
  "cells": [
    {
      "cell_type": "code",
      "execution_count": 2,
      "metadata": {
        "colab": {
          "base_uri": "https://localhost:8080/"
        },
        "id": "9JPXwsXFkSfm",
        "outputId": "5448e908-66a6-42eb-b9b8-dbd60f065e67"
      },
      "outputs": [
        {
          "output_type": "stream",
          "name": "stdout",
          "text": [
            "13\n"
          ]
        }
      ],
      "source": [
        "class Solution:\n",
        "    def minFallingPathSum(self, grid):\n",
        "        n = len(grid)\n",
        "\n",
        "        dp = grid[0]\n",
        "\n",
        "        for i in range(1, n):\n",
        "            new_dp = [0] * n\n",
        "            for j in range(n):\n",
        "                new_dp[j] = grid[i][j] + min(dp[max(0, j-1)], dp[j], dp[min(n-1, j+1)])\n",
        "            dp = new_dp\n",
        "\n",
        "        return min(dp)\n",
        "\n",
        "\n",
        "solution = Solution()\n",
        "grid = [\n",
        "    [2,1,3],\n",
        "    [6,5,4],\n",
        "    [7,8,9]\n",
        "  ]\n",
        "print(solution.minFallingPathSum(grid))"
      ]
    }
  ]
}