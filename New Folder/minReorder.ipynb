{
  "nbformat": 4,
  "nbformat_minor": 0,
  "metadata": {
    "colab": {
      "provenance": []
    },
    "kernelspec": {
      "name": "python3",
      "display_name": "Python 3"
    },
    "language_info": {
      "name": "python"
    }
  },
  "cells": [
    {
      "cell_type": "code",
      "execution_count": null,
      "metadata": {
        "id": "kQjWvHzXch44",
        "colab": {
          "base_uri": "https://localhost:8080/"
        },
        "outputId": "50e14a69-7a1a-437e-be44-e1ade4c7db4d"
      },
      "outputs": [
        {
          "output_type": "stream",
          "name": "stdout",
          "text": [
            "zzcacc\n",
            "bbab\n"
          ]
        }
      ],
      "source": [
        "from collections import defaultdict, deque\n",
        "\n",
        "class Solution(object):\n",
        "    def minReorder(self, n, connections):\n",
        "        graph = defaultdict(list)\n",
        "        for u, v in connections:\n",
        "            graph[u].append((v, True))\n",
        "            graph[v].append((u, False))\n",
        "\n",
        "        queue = deque([0])\n",
        "        visited = set()\n",
        "        visited.add(0)\n",
        "        reorder_count = 0\n",
        "\n",
        "        while queue:\n",
        "            node = queue.popleft()\n",
        "            for neighbor, is_original in graph[node]:\n",
        "                if neighbor not in visited:\n",
        "                    visited.add(neighbor)\n",
        "                    if is_original:\n",
        "                        reorder_count += 1\n",
        "                    queue.append(neighbor)\n",
        "\n",
        "        return reorder_count\n",
        "\n",
        ""
      ]
    }
  ]
}