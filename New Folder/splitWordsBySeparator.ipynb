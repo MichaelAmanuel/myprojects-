{
  "nbformat": 4,
  "nbformat_minor": 0,
  "metadata": {
    "colab": {
      "provenance": []
    },
    "kernelspec": {
      "name": "python3",
      "display_name": "Python 3"
    },
    "language_info": {
      "name": "python"
    }
  },
  "cells": [
    {
      "cell_type": "code",
      "execution_count": 28,
      "metadata": {
        "colab": {
          "base_uri": "https://localhost:8080/"
        },
        "id": "rGnf_d1Qfa8E",
        "outputId": "bf33bdba-11d7-4c3f-b195-20c4d864e332"
      },
      "outputs": [
        {
          "output_type": "stream",
          "name": "stdout",
          "text": [
            "['one', 'two', 'three', 'four', 'five', 'six']\n"
          ]
        }
      ],
      "source": [
        "class Solution(object):\n",
        "    def splitWordsBySeparator(self, words, separator):\n",
        "\n",
        "      result = []\n",
        "\n",
        "      for i in words:\n",
        "        for j in i.split(separator):\n",
        "          if len(j) > 0:\n",
        "            result.append(j)\n",
        "\n",
        "      return result\n",
        "\n",
        "solution = Solution()\n",
        "words = [\"one.two.three\",\"four.five\",\"six\"]\n",
        "separator = \".\"\n",
        "print(solution.splitWordsBySeparator(words, separator))\n"
      ]
    },
    {
      "cell_type": "code",
      "source": [
        "class Solution(object):\n",
        "    def splitWordsBySeparator(self, words, separator):\n",
        "\n",
        "      result = []\n",
        "\n",
        "      for i in words:\n",
        "        for j in i.split(separator):\n",
        "          if len(j) > 0:\n",
        "            result.append(j)\n",
        "\n",
        "      return result\n",
        "\n",
        "solution = Solution()\n",
        "words = [\"$easy$\",\"$problem$\"]\n",
        "separator = \"$\"\n",
        "print(solution.splitWordsBySeparator(words, separator))"
      ],
      "metadata": {
        "colab": {
          "base_uri": "https://localhost:8080/"
        },
        "id": "vyStEA1yfufA",
        "outputId": "0875a4a8-518c-47e2-a9cd-16a23a7e32fa"
      },
      "execution_count": 30,
      "outputs": [
        {
          "output_type": "stream",
          "name": "stdout",
          "text": [
            "['easy', 'problem']\n"
          ]
        }
      ]
    },
    {
      "cell_type": "code",
      "source": [
        "class Solution(object):\n",
        "    def splitWordsBySeparator(self, words, separator):\n",
        "\n",
        "      result = []\n",
        "\n",
        "      for i in words:\n",
        "        for j in i.split(separator):\n",
        "          if len(j) > 0:\n",
        "            result.append(j)\n",
        "\n",
        "      return result\n",
        "\n",
        "solution = Solution()\n",
        "words = [\"|||\"]\n",
        "separator = \"|\"\n",
        "print(solution.splitWordsBySeparator(words, separator))"
      ],
      "metadata": {
        "colab": {
          "base_uri": "https://localhost:8080/"
        },
        "id": "Yc7bKkA0g9rS",
        "outputId": "7a328294-0fab-446e-e446-211c32cf989f"
      },
      "execution_count": 29,
      "outputs": [
        {
          "output_type": "stream",
          "name": "stdout",
          "text": [
            "[]\n"
          ]
        }
      ]
    }
  ]
}