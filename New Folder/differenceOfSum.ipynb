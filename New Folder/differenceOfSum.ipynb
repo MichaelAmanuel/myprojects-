{
  "nbformat": 4,
  "nbformat_minor": 0,
  "metadata": {
    "colab": {
      "provenance": []
    },
    "kernelspec": {
      "name": "python3",
      "display_name": "Python 3"
    },
    "language_info": {
      "name": "python"
    }
  },
  "cells": [
    {
      "cell_type": "code",
      "execution_count": 7,
      "metadata": {
        "colab": {
          "base_uri": "https://localhost:8080/"
        },
        "id": "bg7MUUhEjwQO",
        "outputId": "16113732-1825-4e7d-b6fa-8d6b3428e555"
      },
      "outputs": [
        {
          "output_type": "stream",
          "name": "stdout",
          "text": [
            "0\n"
          ]
        }
      ],
      "source": [
        "class Solution(object):\n",
        "    def differenceOfSum(self, nums):\n",
        "      summ = sum(nums)\n",
        "      su = 0\n",
        "      for i in nums:\n",
        "        if i < 10:\n",
        "          su += i\n",
        "        else:\n",
        "          for j in str(i):\n",
        "            su += int(j)\n",
        "\n",
        "      return abs(summ-su)\n",
        "\n",
        "Solution = Solution()\n",
        "nums = [1,2,3,4]\n",
        "print(Solution.differenceOfSum(nums))"
      ]
    }
  ]
}