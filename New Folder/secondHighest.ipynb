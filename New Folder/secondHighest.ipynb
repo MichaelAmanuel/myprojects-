{
  "nbformat": 4,
  "nbformat_minor": 0,
  "metadata": {
    "colab": {
      "provenance": []
    },
    "kernelspec": {
      "name": "python3",
      "display_name": "Python 3"
    },
    "language_info": {
      "name": "python"
    }
  },
  "cells": [
    {
      "cell_type": "code",
      "execution_count": 10,
      "metadata": {
        "colab": {
          "base_uri": "https://localhost:8080/"
        },
        "id": "cTPFEBwo2Gaw",
        "outputId": "1b7924dc-ff39-4838-edd3-36a28650c377"
      },
      "outputs": [
        {
          "output_type": "stream",
          "name": "stdout",
          "text": [
            "-1\n"
          ]
        }
      ],
      "source": [
        "class Solution(object):\n",
        "    def secondHighest(self, s):\n",
        "      dig = []\n",
        "      for i in s:\n",
        "        if i.isdigit():\n",
        "          dig.append(int(i))\n",
        "\n",
        "      dig = sorted(set(dig), reverse=True)\n",
        "\n",
        "      return dig[1] if len(dig)>1 else -1\n",
        "\n",
        "solution = Solution()\n",
        "s = \"abc1111\"\n",
        "print(solution.secondHighest(s))"
      ]
    },
    {
      "cell_type": "code",
      "source": [
        "class Solution(object):\n",
        "    def secondHighest(self, s):\n",
        "      dig = []\n",
        "      for i in s:\n",
        "        if i.isdigit():\n",
        "          if int(i) not in dig:\n",
        "            dig.append(int(i))\n",
        "\n",
        "      dig = sorted(dig, reverse=True)\n",
        "\n",
        "      return dig[1] if len(dig)>1 else -1\n",
        "\n",
        "solution = Solution()\n",
        "s = \"abc1111\"\n",
        "print(solution.secondHighest(s))"
      ],
      "metadata": {
        "colab": {
          "base_uri": "https://localhost:8080/"
        },
        "id": "6LcZenT45ES7",
        "outputId": "71eec1ee-c74d-401b-d377-b68d11889955"
      },
      "execution_count": 13,
      "outputs": [
        {
          "output_type": "stream",
          "name": "stdout",
          "text": [
            "-1\n"
          ]
        }
      ]
    }
  ]
}