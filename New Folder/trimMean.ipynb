{
  "nbformat": 4,
  "nbformat_minor": 0,
  "metadata": {
    "colab": {
      "provenance": []
    },
    "kernelspec": {
      "name": "python3",
      "display_name": "Python 3"
    },
    "language_info": {
      "name": "python"
    }
  },
  "cells": [
    {
      "cell_type": "code",
      "execution_count": 21,
      "metadata": {
        "colab": {
          "base_uri": "https://localhost:8080/"
        },
        "id": "T6HFqp5zkK_F",
        "outputId": "82719d5c-a26b-49f8-97a6-cdc10fa7f761"
      },
      "outputs": [
        {
          "output_type": "stream",
          "name": "stdout",
          "text": [
            "4.777777777777778\n"
          ]
        }
      ],
      "source": [
        "import statistics\n",
        "\n",
        "class Solution(object):\n",
        "    def trimMean(self, arr):\n",
        "      n = int(len(arr)* 0.05)\n",
        "\n",
        "      arr_1 = sorted(arr)\n",
        "      first = arr_1[n:]\n",
        "      last = first[:len(first) - n]\n",
        "\n",
        "\n",
        "      return statistics.mean(last)\n",
        "\n",
        "solution = Solution()\n",
        "arr = [6,0,7,0,7,5,7,8,3,4,0,7,8,1,6,8,1,1,2,4,8,1,9,5,4,3,8,5,10,8,6,6,1,0,6,10,8,2,3,4]\n",
        "print(solution.trimMean(arr))"
      ]
    },
    {
      "cell_type": "code",
      "source": [
        "class Solution(object):\n",
        "    def trimMean(self, arr):\n",
        "      n = int(len(arr)* 0.05)\n",
        "\n",
        "      arr_1 = sorted(arr)\n",
        "      first = arr_1[n:]\n",
        "      last = first[:len(first) - n]\n",
        "\n",
        "\n",
        "      return sum(last) / len(last)\n",
        "\n",
        "solution = Solution()\n",
        "arr = [6,0,7,0,7,5,7,8,3,4,0,7,8,1,6,8,1,1,2,4,8,1,9,5,4,3,8,5,10,8,6,6,1,0,6,10,8,2,3,4]\n",
        "print(solution.trimMean(arr))"
      ],
      "metadata": {
        "colab": {
          "base_uri": "https://localhost:8080/"
        },
        "id": "V8dgUBOGkuG1",
        "outputId": "b71191a3-5156-47d3-ced2-4497fb82c1a7"
      },
      "execution_count": 22,
      "outputs": [
        {
          "output_type": "stream",
          "name": "stdout",
          "text": [
            "4.777777777777778\n"
          ]
        }
      ]
    },
    {
      "cell_type": "code",
      "source": [],
      "metadata": {
        "id": "p0Q857qToOdy"
      },
      "execution_count": null,
      "outputs": []
    }
  ]
}