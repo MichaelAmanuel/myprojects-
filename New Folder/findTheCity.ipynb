{
  "nbformat": 4,
  "nbformat_minor": 0,
  "metadata": {
    "colab": {
      "provenance": []
    },
    "kernelspec": {
      "name": "python3",
      "display_name": "Python 3"
    },
    "language_info": {
      "name": "python"
    }
  },
  "cells": [
    {
      "cell_type": "code",
      "execution_count": 1,
      "metadata": {
        "id": "kQjWvHzXch44",
        "colab": {
          "base_uri": "https://localhost:8080/"
        },
        "outputId": "c5481fd0-e8f5-4528-827a-d8057f1f141e"
      },
      "outputs": [
        {
          "output_type": "stream",
          "name": "stdout",
          "text": [
            "3\n"
          ]
        }
      ],
      "source": [
        "class Solution(object):\n",
        "    def findTheCity(self, n, edges, distanceThreshold):\n",
        "        dist = [[float('inf')] * n for _ in range(n)]\n",
        "        for i in range(n):\n",
        "            dist[i][i] = 0\n",
        "\n",
        "        for u, v, w in edges:\n",
        "            dist[u][v] = w\n",
        "            dist[v][u] = w\n",
        "\n",
        "        for k in range(n):\n",
        "            for i in range(n):\n",
        "                for j in range(n):\n",
        "                    if dist[i][j] > dist[i][k] + dist[k][j]:\n",
        "                        dist[i][j] = dist[i][k] + dist[k][j]\n",
        "\n",
        "        min_reachable = float('inf')\n",
        "        city_with_min_reachable = -1\n",
        "        for i in range(n):\n",
        "            count = sum(1 for j in range(n) if dist[i][j] <= distanceThreshold)\n",
        "            if count < min_reachable or (count == min_reachable and i > city_with_min_reachable):\n",
        "                min_reachable = count\n",
        "                city_with_min_reachable = i\n",
        "\n",
        "        return city_with_min_reachable\n",
        "\n",
        "solution = Solution()\n",
        "n = 4\n",
        "edges = [[0, 1, 3], [1, 2, 1], [1, 3, 4], [2, 3, 1]]\n",
        "distanceThreshold = 4\n",
        "print(solution.findTheCity(n, edges, distanceThreshold))\n"
      ]
    }
  ]
}