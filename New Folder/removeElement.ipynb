{
  "nbformat": 4,
  "nbformat_minor": 0,
  "metadata": {
    "colab": {
      "provenance": []
    },
    "kernelspec": {
      "name": "python3",
      "display_name": "Python 3"
    },
    "language_info": {
      "name": "python"
    }
  },
  "cells": [
    {
      "cell_type": "code",
      "execution_count": 1,
      "metadata": {
        "colab": {
          "base_uri": "https://localhost:8080/"
        },
        "id": "Scqu1bdYdnXK",
        "outputId": "11dcc520-b41c-4de8-f114-e136391afe23"
      },
      "outputs": [
        {
          "output_type": "stream",
          "name": "stdout",
          "text": [
            "2\n",
            "[2, 2]\n"
          ]
        }
      ],
      "source": [
        "class Solution(object):\n",
        "    def removeElement(self, nums, val):\n",
        "\n",
        "        k = 0\n",
        "        for i in range(len(nums)):\n",
        "            if nums[i] != val:\n",
        "                nums[k] = nums[i]\n",
        "                k += 1\n",
        "        return k\n",
        "\n",
        "\n",
        "solution = Solution()\n",
        "nums = [3, 2, 2, 3]\n",
        "val = 3\n",
        "k = solution.removeElement(nums, val)\n",
        "print(k)\n",
        "print(nums[:k])"
      ]
    }
  ]
}