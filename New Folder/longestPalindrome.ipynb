{
  "nbformat": 4,
  "nbformat_minor": 0,
  "metadata": {
    "colab": {
      "provenance": []
    },
    "kernelspec": {
      "name": "python3",
      "display_name": "Python 3"
    },
    "language_info": {
      "name": "python"
    }
  },
  "cells": [
    {
      "cell_type": "code",
      "execution_count": null,
      "metadata": {
        "id": "K15JL8eAWIC8",
        "outputId": "5d75fbce-4727-47f6-f13e-5cf6a271759e",
        "colab": {
          "base_uri": "https://localhost:8080/"
        }
      },
      "outputs": [
        {
          "output_type": "stream",
          "name": "stdout",
          "text": [
            "4\n"
          ]
        }
      ],
      "source": [
        "class Solution(object):\n",
        "    def longestPalindrome(self, s):\n",
        "        from collections import Counter\n",
        "\n",
        "        count = Counter(s)\n",
        "        length = 0\n",
        "        odd_found = False\n",
        "\n",
        "        for char, freq in count.items():\n",
        "            if freq % 2 == 0:\n",
        "                length += freq\n",
        "            else:\n",
        "                length += freq - 1\n",
        "                odd_found = True\n",
        "\n",
        "        if odd_found:\n",
        "            length += 1\n",
        "\n",
        "        return length\n",
        "\n",
        "\n",
        "solution = Solution()\n",
        "s = \"abccccdd\"\n",
        "print(solution.longestPalindrome(s))\n"
      ]
    }
  ]
}