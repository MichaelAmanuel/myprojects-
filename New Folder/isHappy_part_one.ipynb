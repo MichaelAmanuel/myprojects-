{
  "nbformat": 4,
  "nbformat_minor": 0,
  "metadata": {
    "colab": {
      "provenance": []
    },
    "kernelspec": {
      "name": "python3",
      "display_name": "Python 3"
    },
    "language_info": {
      "name": "python"
    }
  },
  "cells": [
    {
      "cell_type": "code",
      "source": [
        "class Solution(object):\n",
        "  def isHappy(self, n):\n",
        "      def get_next(num):\n",
        "          total_sum = 0\n",
        "          while num > 0:\n",
        "              num, digit = divmod(num, 10)\n",
        "              total_sum += digit ** 2\n",
        "          return total_sum\n",
        "\n",
        "      seen = set()\n",
        "      while n != 1 and n not in seen:\n",
        "          seen.add(n)\n",
        "          n = get_next(n)\n",
        "\n",
        "      return n == 1\n",
        "\n",
        "solution = Solution()\n",
        "n = 19\n",
        "print(solution.isHappy(19))"
      ],
      "metadata": {
        "id": "7Ey4-7H2rKw9"
      },
      "execution_count": null,
      "outputs": []
    },
    {
      "cell_type": "code",
      "execution_count": 23,
      "metadata": {
        "colab": {
          "base_uri": "https://localhost:8080/"
        },
        "id": "KpXFN632h1N5",
        "outputId": "e1e18372-a0bf-4732-a42e-b5c87b16ea0b"
      },
      "outputs": [
        {
          "output_type": "stream",
          "name": "stdout",
          "text": [
            "3\n"
          ]
        }
      ],
      "source": [
        "class Solution(object):\n",
        "    def hammingWeight(self, n):\n",
        "\n",
        "      n_list = list(str(n))\n",
        "      return n_list.count('1')\n",
        "\n",
        "solution = Solution()\n",
        "n = '00000000000000000000000000001011'\n",
        "print(solution.hammingWeight(n))\n"
      ]
    },
    {
      "cell_type": "code",
      "source": [
        "class Solution(object):\n",
        "    def hammingWeight(self, n):\n",
        "\n",
        "      unsigned_integer = int(n, 2)\n",
        "      count = 0\n",
        "      while unsigned_integer:\n",
        "          count += unsigned_integer & 1\n",
        "          unsigned_integer >>= 1\n",
        "      return count\n",
        "\n",
        "\n",
        "solution = Solution()\n",
        "n = '00000000000000000000000000001011'\n",
        "print(solution.hammingWeight(n))\n"
      ],
      "metadata": {
        "colab": {
          "base_uri": "https://localhost:8080/"
        },
        "id": "kWPvojs7oFsx",
        "outputId": "4417f63c-42ca-4a75-b075-14f68c6abe2c"
      },
      "execution_count": 26,
      "outputs": [
        {
          "output_type": "stream",
          "name": "stdout",
          "text": [
            "3\n"
          ]
        }
      ]
    },
    {
      "cell_type": "code",
      "source": [
        "def hammingWeight(n):\n",
        "    count = 0\n",
        "    while n:\n",
        "        count += n & 1\n",
        "        n >>= 1\n",
        "    return count\n",
        "\n",
        "binary_representation = \"00000000000000000000000000001011\"\n",
        "unsigned_integer = int(binary_representation, 2)\n",
        "print(hammingWeight(unsigned_integer))\n"
      ],
      "metadata": {
        "colab": {
          "base_uri": "https://localhost:8080/"
        },
        "id": "gxSD5btWmD4R",
        "outputId": "006fd96f-a7a7-43e0-9805-59d48acdd443"
      },
      "execution_count": 24,
      "outputs": [
        {
          "output_type": "stream",
          "name": "stdout",
          "text": [
            "Number of '1' bits in the binary representation: 3\n"
          ]
        }
      ]
    }
  ]
}