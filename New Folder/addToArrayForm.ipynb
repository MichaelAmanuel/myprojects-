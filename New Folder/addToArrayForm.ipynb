{
  "nbformat": 4,
  "nbformat_minor": 0,
  "metadata": {
    "colab": {
      "provenance": []
    },
    "kernelspec": {
      "name": "python3",
      "display_name": "Python 3"
    },
    "language_info": {
      "name": "python"
    }
  },
  "cells": [
    {
      "cell_type": "code",
      "execution_count": 10,
      "metadata": {
        "id": "9lH_V90HmgSA",
        "colab": {
          "base_uri": "https://localhost:8080/"
        },
        "outputId": "97689364-259c-4876-f5ab-21a82149ff4a"
      },
      "outputs": [
        {
          "output_type": "stream",
          "name": "stdout",
          "text": [
            "[4, 5, 5]\n"
          ]
        }
      ],
      "source": [
        "class Solution(object):\n",
        "    def addToArrayForm(self, num, k):\n",
        "      su = 0\n",
        "      for i in num:\n",
        "        su = su* 10 + i\n",
        "\n",
        "      nums = str(su+k)\n",
        "      out_p = []\n",
        "      for i in nums:\n",
        "        out_p.append(int(i))\n",
        "\n",
        "      return out_p\n",
        "\n",
        "solution = Solution()\n",
        "num = [2,7,4]\n",
        "k = 181\n",
        "print(solution.addToArrayForm(num, k))"
      ]
    }
  ]
}