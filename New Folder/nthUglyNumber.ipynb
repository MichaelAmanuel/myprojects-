{
  "nbformat": 4,
  "nbformat_minor": 0,
  "metadata": {
    "colab": {
      "provenance": []
    },
    "kernelspec": {
      "name": "python3",
      "display_name": "Python 3"
    },
    "language_info": {
      "name": "python"
    }
  },
  "cells": [
    {
      "cell_type": "code",
      "execution_count": null,
      "metadata": {
        "id": "kQjWvHzXch44",
        "colab": {
          "base_uri": "https://localhost:8080/"
        },
        "outputId": "d2501bef-d495-4ef1-bd7d-671e37c016d1"
      },
      "outputs": [
        {
          "output_type": "stream",
          "name": "stdout",
          "text": [
            "5\n",
            "12\n",
            "24\n"
          ]
        }
      ],
      "source": [
        "class Solution(object):\n",
        "    def nthUglyNumber(self, n):\n",
        "        ugly_numbers = [1] * n\n",
        "        i2 = i3 = i5 = 0\n",
        "        next_2, next_3, next_5 = 2, 3, 5\n",
        "\n",
        "        for i in range(1, n):\n",
        "            next_ugly = min(next_2, next_3, next_5)\n",
        "            ugly_numbers[i] = next_ugly\n",
        "\n",
        "            if next_ugly == next_2:\n",
        "                i2 += 1\n",
        "                next_2 = ugly_numbers[i2] * 2\n",
        "            if next_ugly == next_3:\n",
        "                i3 += 1\n",
        "                next_3 = ugly_numbers[i3] * 3\n",
        "            if next_ugly == next_5:\n",
        "                i5 += 1\n",
        "                next_5 = ugly_numbers[i5] * 5\n",
        "\n",
        "        return ugly_numbers[-1]\n"
      ]
    }
  ]
}