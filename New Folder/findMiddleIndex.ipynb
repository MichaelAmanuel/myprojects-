{
  "nbformat": 4,
  "nbformat_minor": 0,
  "metadata": {
    "colab": {
      "provenance": []
    },
    "kernelspec": {
      "name": "python3",
      "display_name": "Python 3"
    },
    "language_info": {
      "name": "python"
    }
  },
  "cells": [
    {
      "cell_type": "code",
      "execution_count": 14,
      "metadata": {
        "colab": {
          "base_uri": "https://localhost:8080/"
        },
        "id": "W9hMN0DupsB_",
        "outputId": "d77bfd2c-ec1a-4779-a267-424689ca01f9"
      },
      "outputs": [
        {
          "output_type": "stream",
          "name": "stdout",
          "text": [
            "-1\n"
          ]
        }
      ],
      "source": [
        "class Solution(object):\n",
        "    def findMiddleIndex(self, nums):\n",
        "\n",
        "      for i in range(len(nums)):\n",
        "        if i == 0:\n",
        "          if 0 == (sum(nums)-nums[i]):\n",
        "            return 0\n",
        "        elif i == len(nums)-1:\n",
        "          if (sum(nums)-nums[len(nums)-1])==0:\n",
        "            return i\n",
        "        else:\n",
        "          x = sum(nums[:i])\n",
        "          y = sum(nums[i+1:])\n",
        "\n",
        "          if x == y:\n",
        "            return i\n",
        "\n",
        "      return -1\n",
        "\n",
        "solution = Solution()\n",
        "nums = [2,5]\n",
        "print(solution.findMiddleIndex(nums))"
      ]
    },
    {
      "cell_type": "code",
      "source": [],
      "metadata": {
        "id": "0dwiHnWjutdz"
      },
      "execution_count": null,
      "outputs": []
    }
  ]
}