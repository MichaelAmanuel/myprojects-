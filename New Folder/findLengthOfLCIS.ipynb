{
  "nbformat": 4,
  "nbformat_minor": 0,
  "metadata": {
    "colab": {
      "provenance": []
    },
    "kernelspec": {
      "name": "python3",
      "display_name": "Python 3"
    },
    "language_info": {
      "name": "python"
    }
  },
  "cells": [
    {
      "cell_type": "code",
      "execution_count": null,
      "metadata": {
        "colab": {
          "base_uri": "https://localhost:8080/"
        },
        "id": "WGLIK0sif9Ut",
        "outputId": "937f54fd-09fa-4ee2-9056-2254204e7693"
      },
      "outputs": [
        {
          "output_type": "stream",
          "name": "stdout",
          "text": [
            "4\n"
          ]
        }
      ],
      "source": [
        "\n",
        "class Solution(object):\n",
        "    def findLengthOfLCIS(self, nums):\n",
        "      count = 1\n",
        "      for i in range(len(nums)):\n",
        "        for j in range(i + 1 , len(nums)):\n",
        "          if nums[j] > nums[i]:\n",
        "            count += 1\n",
        "            break\n",
        "          elif (len(nums)-i) > count:\n",
        "            count = 1\n",
        "            break\n",
        "          else:\n",
        "            return count\n",
        "      return count\n",
        "\n",
        "solution = Solution()\n",
        "nums = [1,3,5,4,2,3,4,5]\n",
        "print(solution.findLengthOfLCIS(nums))"
      ]
    },
    {
      "cell_type": "code",
      "source": [
        "class Solution(object):\n",
        "    def findLengthOfLCIS(self, nums):\n",
        "\n",
        "        if not nums:\n",
        "            return 0\n",
        "        count = 1\n",
        "        max_count = 1\n",
        "\n",
        "        for i in range(len(nums) - 1):\n",
        "            if nums[i] < nums[i + 1]:\n",
        "                count += 1\n",
        "            else:\n",
        "                count = 1\n",
        "\n",
        "            max_count = max(max_count, count)\n",
        "\n",
        "        return max_count\n",
        "\n",
        "solution = Solution()\n",
        "nums = [1, 3, 5, 4, 2, 3, 4, 5]\n",
        "print(solution.findLengthOfLCIS(nums))\n"
      ],
      "metadata": {
        "colab": {
          "base_uri": "https://localhost:8080/"
        },
        "id": "ngin42MxhwB9",
        "outputId": "97b85fec-577f-4463-adc9-523637469ff6"
      },
      "execution_count": null,
      "outputs": [
        {
          "output_type": "stream",
          "name": "stdout",
          "text": [
            "4\n"
          ]
        }
      ]
    }
  ]
}