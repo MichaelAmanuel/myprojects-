{
  "nbformat": 4,
  "nbformat_minor": 0,
  "metadata": {
    "colab": {
      "provenance": []
    },
    "kernelspec": {
      "name": "python3",
      "display_name": "Python 3"
    },
    "language_info": {
      "name": "python"
    }
  },
  "cells": [
    {
      "cell_type": "code",
      "execution_count": 1,
      "metadata": {
        "id": "kQjWvHzXch44",
        "colab": {
          "base_uri": "https://localhost:8080/"
        },
        "outputId": "2477f9aa-27ae-40a0-cffe-3a40160a8b98"
      },
      "outputs": [
        {
          "output_type": "stream",
          "name": "stdout",
          "text": [
            "30\n"
          ]
        }
      ],
      "source": [
        "from collections import defaultdict, deque\n",
        "\n",
        "class Solution(object):\n",
        "    def minimumCost(self, source, target, original, changed, cost):\n",
        "        if len(source) != len(target):\n",
        "            return -1\n",
        "\n",
        "        min_cost = defaultdict(lambda: float('inf'))\n",
        "        for o, c, z in zip(original, changed, cost):\n",
        "            if z < min_cost[(o, c)]:\n",
        "                min_cost[(o, c)] = z\n",
        "\n",
        "        def bfs(char):\n",
        "            costs = {char: 0}\n",
        "            queue = deque([(char, 0)])\n",
        "            while queue:\n",
        "                curr_char, curr_cost = queue.popleft()\n",
        "                for (next_char, next_cost) in min_cost.items():\n",
        "                    if next_char[0] == curr_char:\n",
        "                        new_cost = curr_cost + next_cost\n",
        "                        if next_char[1] not in costs or new_cost < costs[next_char[1]]:\n",
        "                            costs[next_char[1]] = new_cost\n",
        "                            queue.append((next_char[1], new_cost))\n",
        "            return costs\n",
        "\n",
        "        precomputed_costs = {chr(i): bfs(chr(i)) for i in range(ord('a'), ord('z') + 1)}\n",
        "\n",
        "        total_cost = 0\n",
        "        for i in range(len(source)):\n",
        "            if source[i] == target[i]:\n",
        "                continue\n",
        "            if target[i] in precomputed_costs[source[i]]:\n",
        "                total_cost += precomputed_costs[source[i]][target[i]]\n",
        "            else:\n",
        "                return -1\n",
        "\n",
        "        return total_cost\n",
        "\n",
        "solution = Solution()\n",
        "source = \"abcd\"\n",
        "target = \"acbe\"\n",
        "original = [\"a\", \"b\", \"c\", \"c\", \"e\", \"d\"]\n",
        "changed = [\"b\", \"c\", \"b\", \"e\", \"b\", \"e\"]\n",
        "cost = [2, 5, 5, 1, 2, 20]\n",
        "\n",
        "print(solution.minimumCost(source, target, original, changed, cost))\n"
      ]
    }
  ]
}