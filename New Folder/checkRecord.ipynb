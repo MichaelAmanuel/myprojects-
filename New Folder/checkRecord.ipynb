{
  "nbformat": 4,
  "nbformat_minor": 0,
  "metadata": {
    "colab": {
      "provenance": []
    },
    "kernelspec": {
      "name": "python3",
      "display_name": "Python 3"
    },
    "language_info": {
      "name": "python"
    }
  },
  "cells": [
    {
      "cell_type": "code",
      "execution_count": null,
      "metadata": {
        "colab": {
          "base_uri": "https://localhost:8080/"
        },
        "id": "MOxIuzZKL62H",
        "outputId": "b431d4af-8db2-48fc-aa82-d30a6916c9fc"
      },
      "outputs": [
        {
          "output_type": "stream",
          "name": "stdout",
          "text": [
            "8\n"
          ]
        }
      ],
      "source": [
        "class Solution(object):\n",
        "    def checkRecord(self, n):\n",
        "\n",
        "        MOD = 10**9 + 7\n",
        "\n",
        "        dp = [[[0] * 3 for _ in range(2)] for _ in range(n + 1)]\n",
        "\n",
        "        dp[0][0][0] = 1\n",
        "\n",
        "        for i in range(1, n + 1):\n",
        "            for j in range(2):\n",
        "                for k in range(3):\n",
        "                    dp[i][j][0] = (dp[i][j][0] + dp[i-1][j][k]) % MOD\n",
        "                    if j > 0:\n",
        "                        dp[i][j][0] = (dp[i][j][0] + dp[i-1][j-1][k]) % MOD\n",
        "                    if k > 0:\n",
        "                        dp[i][j][k] = (dp[i][j][k] + dp[i-1][j][k-1]) % MOD\n",
        "\n",
        "        result = 0\n",
        "        for j in range(2):\n",
        "            for k in range(3):\n",
        "                result = (result + dp[n][j][k]) % MOD\n",
        "\n",
        "        return result\n",
        "\n",
        "solution = Solution()\n",
        "n = 2\n",
        "print(solution.checkRecord(n))"
      ]
    }
  ]
}