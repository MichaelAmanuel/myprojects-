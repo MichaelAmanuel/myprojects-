{
  "nbformat": 4,
  "nbformat_minor": 0,
  "metadata": {
    "colab": {
      "provenance": []
    },
    "kernelspec": {
      "name": "python3",
      "display_name": "Python 3"
    },
    "language_info": {
      "name": "python"
    }
  },
  "cells": [
    {
      "cell_type": "code",
      "execution_count": 23,
      "metadata": {
        "colab": {
          "base_uri": "https://localhost:8080/"
        },
        "id": "OEO-QdDXpsyR",
        "outputId": "411c31c5-778d-45e0-f339-bc32451abcd9"
      },
      "outputs": [
        {
          "output_type": "stream",
          "name": "stdout",
          "text": [
            "1\n"
          ]
        }
      ],
      "source": [
        "class Solution(object):\n",
        "    def divisorSubstrings(self, num, k):\n",
        "\n",
        "      count = 0\n",
        "      for i in range(len(str(num))):\n",
        "        x = str(num)[i:i+k]\n",
        "        if int(x) == 0:\n",
        "          pass\n",
        "        elif len(x) == k:\n",
        "          if num % int(x) == 0:\n",
        "            count += 1\n",
        "\n",
        "      return count\n",
        "\n",
        "solution = Solution()\n",
        "num = 30003\n",
        "k = 3\n",
        "print(solution.divisorSubstrings(num, k))\n"
      ]
    },
    {
      "cell_type": "code",
      "source": [
        "class Solution(object):\n",
        "    def divisorSubstrings(self, num, k):\n",
        "\n",
        "      count = 0\n",
        "      for i in range(len(str(num))):\n",
        "\n",
        "        if int(str(num)[i:i+k]) == 0:\n",
        "          pass\n",
        "        elif len(str(num)[i:i+k]) == k:\n",
        "          if num % int(str(num)[i:i+k]) == 0:\n",
        "            count += 1\n",
        "\n",
        "      return count\n",
        "\n",
        "solution = Solution()\n",
        "num = 30003\n",
        "k = 3\n",
        "print(solution.divisorSubstrings(num, k))"
      ],
      "metadata": {
        "colab": {
          "base_uri": "https://localhost:8080/"
        },
        "id": "OiaPfU3SjGXd",
        "outputId": "0202f24e-7205-4537-8f95-f7f14728e031"
      },
      "execution_count": 24,
      "outputs": [
        {
          "output_type": "stream",
          "name": "stdout",
          "text": [
            "1\n"
          ]
        }
      ]
    },
    {
      "cell_type": "code",
      "source": [],
      "metadata": {
        "id": "fuKxIFldkNNV"
      },
      "execution_count": null,
      "outputs": []
    }
  ]
}