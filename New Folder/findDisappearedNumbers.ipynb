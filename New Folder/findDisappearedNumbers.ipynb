{
  "nbformat": 4,
  "nbformat_minor": 0,
  "metadata": {
    "colab": {
      "provenance": []
    },
    "kernelspec": {
      "name": "python3",
      "display_name": "Python 3"
    },
    "language_info": {
      "name": "python"
    }
  },
  "cells": [
    {
      "cell_type": "code",
      "execution_count": 1,
      "metadata": {
        "colab": {
          "base_uri": "https://localhost:8080/"
        },
        "id": "wkURD3_w7292",
        "outputId": "09551e13-0924-43cd-9644-5ed2f4b116ca"
      },
      "outputs": [
        {
          "output_type": "stream",
          "name": "stdout",
          "text": [
            "[5, 6]\n"
          ]
        }
      ],
      "source": [
        "class Solution(object):\n",
        "    def findDisappearedNumbers(self, nums):\n",
        "        # set_num = set(nums)\n",
        "        out_put = []\n",
        "        for i in range(1, len(nums) + 1):\n",
        "            if i not in nums:\n",
        "                out_put.append(i)\n",
        "\n",
        "        return out_put\n",
        "\n",
        "solution = Solution()\n",
        "nums = [4,3,2,7,8,2,3,1]\n",
        "print(solution.findDisappearedNumbers(nums))\n"
      ]
    },
    {
      "cell_type": "code",
      "source": [
        "class Solution(object):\n",
        "    def countCharacters(self, words, chars):\n",
        "        out_char = []\n",
        "        sum = 0\n",
        "        for i in words:\n",
        "            l = len(i)\n",
        "            for j in i:\n",
        "                if j in chars:\n",
        "                    l -= 1\n",
        "            if l == 0:\n",
        "                sum += len(i)\n",
        "\n",
        "        return sum\n",
        "\n",
        "solution = Solution()\n",
        "words = [\"cat\",\"bt\",'hat', \"hat\",\"tree\"]\n",
        "chars = \"atach\"\n",
        "print(solution.countCharacters(words, chars))"
      ],
      "metadata": {
        "id": "WFMvB9pODKGE"
      },
      "execution_count": null,
      "outputs": []
    }
  ]
}