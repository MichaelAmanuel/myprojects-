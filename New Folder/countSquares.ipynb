{
  "nbformat": 4,
  "nbformat_minor": 0,
  "metadata": {
    "colab": {
      "provenance": []
    },
    "kernelspec": {
      "name": "python3",
      "display_name": "Python 3"
    },
    "language_info": {
      "name": "python"
    }
  },
  "cells": [
    {
      "cell_type": "code",
      "execution_count": 5,
      "metadata": {
        "id": "kQjWvHzXch44",
        "colab": {
          "base_uri": "https://localhost:8080/"
        },
        "outputId": "8648224c-b848-4020-ff90-eb74afb8af8d"
      },
      "outputs": [
        {
          "output_type": "stream",
          "name": "stdout",
          "text": [
            "|\n"
          ]
        }
      ],
      "source": [
        "class Solution(object):\n",
        "    def countSquares(self, matrix):\n",
        "\n",
        "        m, n = len(matrix), len(matrix[0])\n",
        "        dp = [[0] * n for _ in range(m)]\n",
        "        total_squares = 0\n",
        "\n",
        "        for i in range(m):\n",
        "            for j in range(n):\n",
        "                if matrix[i][j] == 1:\n",
        "                    if i == 0 or j == 0:\n",
        "                        dp[i][j] = 1\n",
        "                    else:\n",
        "                        dp[i][j] = min(dp[i-1][j], dp[i][j-1], dp[i-1][j-1]) + 1\n",
        "                    total_squares += dp[i][j]\n",
        "\n",
        "        return total_squares"
      ]
    }
  ]
}