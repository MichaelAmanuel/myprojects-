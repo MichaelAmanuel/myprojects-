{
  "nbformat": 4,
  "nbformat_minor": 0,
  "metadata": {
    "colab": {
      "provenance": []
    },
    "kernelspec": {
      "name": "python3",
      "display_name": "Python 3"
    },
    "language_info": {
      "name": "python"
    }
  },
  "cells": [
    {
      "cell_type": "code",
      "execution_count": 1,
      "metadata": {
        "colab": {
          "base_uri": "https://localhost:8080/"
        },
        "id": "N1FrSehefMVz",
        "outputId": "3ed1b184-4732-4ced-dfdd-6b2647df7550"
      },
      "outputs": [
        {
          "output_type": "stream",
          "name": "stdout",
          "text": [
            "3\n"
          ]
        }
      ],
      "source": [
        "class Solution(object):\n",
        "    def findMaxK(self, nums):\n",
        "\n",
        "      num = sorted(nums, reverse=True)\n",
        "      for i in num:\n",
        "        if (-1 * i) in nums:\n",
        "          return i\n",
        "      return -1\n",
        "\n",
        "solution = Solution()\n",
        "nums = [-1,2,-3,3]\n",
        "print(solution.findMaxK(nums))"
      ]
    }
  ]
}