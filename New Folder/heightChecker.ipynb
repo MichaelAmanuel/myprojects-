{
  "nbformat": 4,
  "nbformat_minor": 0,
  "metadata": {
    "colab": {
      "provenance": []
    },
    "kernelspec": {
      "name": "python3",
      "display_name": "Python 3"
    },
    "language_info": {
      "name": "python"
    }
  },
  "cells": [
    {
      "cell_type": "code",
      "execution_count": null,
      "metadata": {
        "id": "uJvs1uvOyrNY"
      },
      "outputs": [],
      "source": [
        "class Solution(object):\n",
        "    def heightChecker(self, heights):\n",
        "\n",
        "        expected = sorted(heights)\n",
        "        count = 0\n",
        "\n",
        "        for i in range(len(heights)):\n",
        "            if heights[i] != expected[i]:\n",
        "                count += 1\n",
        "\n",
        "        return count\n",
        "\n",
        "\n",
        "solution = Solution()\n",
        "heights = [1,1,4,2,1,3]\n",
        "print(solution.heightChecker(heights))"
      ]
    }
  ]
}