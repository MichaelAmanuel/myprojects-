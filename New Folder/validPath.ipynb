{
  "nbformat": 4,
  "nbformat_minor": 0,
  "metadata": {
    "colab": {
      "provenance": []
    },
    "kernelspec": {
      "name": "python3",
      "display_name": "Python 3"
    },
    "language_info": {
      "name": "python"
    }
  },
  "cells": [
    {
      "cell_type": "code",
      "execution_count": null,
      "metadata": {
        "id": "kjRsBMNBP7UG"
      },
      "outputs": [],
      "source": [
        "class Solution:\n",
        "    def validPath(self, n, edges, source, destination):\n",
        "\n",
        "        adjacency_list = {i: [] for i in range(n)}\n",
        "        for u, v in edges:\n",
        "            adjacency_list[u].append(v)\n",
        "            adjacency_list[v].append(u)\n",
        "\n",
        "\n",
        "        visited = set()\n",
        "        return self.dfs(source, destination, adjacency_list, visited)\n",
        "\n",
        "    def dfs(self, current, destination, adjacency_list, visited):\n",
        "        if current == destination:\n",
        "            return True\n",
        "\n",
        "        visited.add(current)\n",
        "        for neighbor in adjacency_list[current]:\n",
        "            if neighbor not in visited:\n",
        "                if self.dfs(neighbor, destination, adjacency_list, visited):\n",
        "                    return True\n",
        "\n",
        "        return False\n",
        "\n",
        "\n",
        "solution = Solution()\n",
        "n = 5\n",
        "edges = [[0,1],[0,2],[3,4],[2,3]]\n",
        "source = 0\n",
        "destination = 4\n",
        "print(solution.validPath(n, edges, source, destination))  # Output: True\n",
        ""
      ]
    }
  ]
}