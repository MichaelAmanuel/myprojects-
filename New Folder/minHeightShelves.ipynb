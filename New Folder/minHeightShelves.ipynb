{
  "nbformat": 4,
  "nbformat_minor": 0,
  "metadata": {
    "colab": {
      "provenance": []
    },
    "kernelspec": {
      "name": "python3",
      "display_name": "Python 3"
    },
    "language_info": {
      "name": "python"
    }
  },
  "cells": [
    {
      "cell_type": "code",
      "execution_count": 1,
      "metadata": {
        "colab": {
          "base_uri": "https://localhost:8080/"
        },
        "id": "ufBouPQcovPh",
        "outputId": "d3020f93-7d05-4474-8aeb-bec992b6e485"
      },
      "outputs": [
        {
          "output_type": "stream",
          "name": "stdout",
          "text": [
            "6\n"
          ]
        }
      ],
      "source": [
        "class Solution:\n",
        "    def minHeightShelves(self, books, shelfWidth):\n",
        "        n = len(books)\n",
        "        dp = [float('inf')] * (n + 1)\n",
        "        dp[0] = 0\n",
        "\n",
        "        for i in range(1, n + 1):\n",
        "            total_width = 0\n",
        "            max_height = 0\n",
        "            for j in range(i, 0, -1):\n",
        "                total_width += books[j - 1][0]\n",
        "                if total_width > shelfWidth:\n",
        "                    break\n",
        "                max_height = max(max_height, books[j - 1][1])\n",
        "                dp[i] = min(dp[i], dp[j - 1] + max_height)\n",
        "\n",
        "        return dp[n]\n",
        "\n",
        "solution = Solution()\n",
        "books = [[1,1],[2,3],[2,3],[1,1],[1,1],[1,1],[1,2]]\n",
        "shelfWidth = 4\n",
        "print(solution.minHeightShelves(books, shelfWidth))\n"
      ]
    }
  ]
}