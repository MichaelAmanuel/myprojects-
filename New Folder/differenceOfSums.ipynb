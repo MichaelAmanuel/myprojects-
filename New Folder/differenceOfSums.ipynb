{
  "nbformat": 4,
  "nbformat_minor": 0,
  "metadata": {
    "colab": {
      "provenance": []
    },
    "kernelspec": {
      "name": "python3",
      "display_name": "Python 3"
    },
    "language_info": {
      "name": "python"
    }
  },
  "cells": [
    {
      "cell_type": "code",
      "execution_count": 4,
      "metadata": {
        "id": "ubsDxvjxPPNC",
        "colab": {
          "base_uri": "https://localhost:8080/"
        },
        "outputId": "3d47dcac-4f9f-4476-db20-94987522c6d1"
      },
      "outputs": [
        {
          "output_type": "stream",
          "name": "stdout",
          "text": [
            "19\n"
          ]
        }
      ],
      "source": [
        "\n",
        "class Solution(object):\n",
        "    def differenceOfSums(self, n, m):\n",
        "      s_not_3 = 0\n",
        "      s_yes_3 = 0\n",
        "\n",
        "      for i in range(1, n+1):\n",
        "        if i % m != 0:\n",
        "          s_not_3 += i\n",
        "        else:\n",
        "          s_yes_3 += i\n",
        "\n",
        "      return s_not_3 - s_yes_3\n",
        "\n",
        "solution = Solution()\n",
        "n = 10\n",
        "m = 3\n",
        "print(solution.differenceOfSums(n , m))"
      ]
    },
    {
      "cell_type": "code",
      "source": [
        "\n",
        "class Solution(object):\n",
        "    def differenceOfSums(self, n, m):\n",
        "\n",
        "      return sum(i if i % m != 0 else -i for i in range(1, n+1))\n",
        "\n",
        "\n",
        "solution = Solution()\n",
        "n = 10\n",
        "m = 3\n",
        "print(solution.differenceOfSums(n , m))"
      ],
      "metadata": {
        "colab": {
          "base_uri": "https://localhost:8080/"
        },
        "id": "Tl4l3lGgFr0l",
        "outputId": "784df7af-827a-4e13-aa35-c57ef0e30355"
      },
      "execution_count": 6,
      "outputs": [
        {
          "output_type": "stream",
          "name": "stdout",
          "text": [
            "19\n"
          ]
        }
      ]
    },
    {
      "cell_type": "code",
      "source": [],
      "metadata": {
        "id": "7CsEjxqxG8iy"
      },
      "execution_count": null,
      "outputs": []
    }
  ]
}