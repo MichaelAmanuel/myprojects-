{
  "nbformat": 4,
  "nbformat_minor": 0,
  "metadata": {
    "colab": {
      "provenance": []
    },
    "kernelspec": {
      "name": "python3",
      "display_name": "Python 3"
    },
    "language_info": {
      "name": "python"
    }
  },
  "cells": [
    {
      "cell_type": "code",
      "execution_count": null,
      "metadata": {
        "colab": {
          "base_uri": "https://localhost:8080/"
        },
        "id": "R9Q10px0TrVQ",
        "outputId": "f7c2c82c-b0f8-4c5d-c2b5-943e5efca851"
      },
      "outputs": [
        {
          "output_type": "stream",
          "name": "stdout",
          "text": [
            "True\n"
          ]
        }
      ],
      "source": [
        "class Solution(object):\n",
        "    def isThree(self, n):\n",
        "      count = 0\n",
        "      for i in range(1, n+1):\n",
        "        if n % i == 0:\n",
        "          count += 1\n",
        "          if count > 3:\n",
        "            return False\n",
        "      return False if count != 3 else True\n",
        "      if count == 3:\n",
        "        return True\n",
        "      else:\n",
        "        return False\n",
        "\n",
        "solution = Solution()\n",
        "n = 4\n",
        "print(solution.isThree(n))"
      ]
    },
    {
      "cell_type": "code",
      "source": [
        "class Solution(object):\n",
        "    def isThree(self, n):\n",
        "      count = 0\n",
        "      for i in range(1, int(n/2) +1):\n",
        "        if n % i == 0:\n",
        "          count += 1\n",
        "          if count > 2:\n",
        "            return False\n",
        "\n",
        "      return False if count != 2 else True\n",
        "\n",
        "solution = Solution()\n",
        "n = 4\n",
        "print(solution.isThree(n))"
      ],
      "metadata": {
        "colab": {
          "base_uri": "https://localhost:8080/"
        },
        "id": "uIzbzaOaVKk_",
        "outputId": "6fb78fe9-c827-4f71-a538-da7733068837"
      },
      "execution_count": null,
      "outputs": [
        {
          "output_type": "stream",
          "name": "stdout",
          "text": [
            "True\n"
          ]
        }
      ]
    }
  ]
}