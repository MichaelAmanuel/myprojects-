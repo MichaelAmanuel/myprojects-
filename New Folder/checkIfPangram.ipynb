{
  "nbformat": 4,
  "nbformat_minor": 0,
  "metadata": {
    "colab": {
      "provenance": []
    },
    "kernelspec": {
      "name": "python3",
      "display_name": "Python 3"
    },
    "language_info": {
      "name": "python"
    }
  },
  "cells": [
    {
      "cell_type": "code",
      "execution_count": 4,
      "metadata": {
        "colab": {
          "base_uri": "https://localhost:8080/"
        },
        "id": "Nn_7BpvloBuf",
        "outputId": "3e8c0a4f-9b87-4eda-9010-ad5ff8ce0958"
      },
      "outputs": [
        {
          "output_type": "stream",
          "name": "stdout",
          "text": [
            "True\n"
          ]
        }
      ],
      "source": [
        "\n",
        "class Solution(object):\n",
        "    def checkIfPangram(self, sentence):\n",
        "\n",
        "      alp = ['a', 'b', 'c', 'd', 'e', 'f', 'g', 'h', 'i', 'j', 'k', 'l', 'm',\n",
        "             'n', 'o', 'p', 'q', 'r', 's', 't', 'u', 'v', 'w', 'x', 'y', 'z']\n",
        "\n",
        "      for i in alp:\n",
        "        if i not in sentence:\n",
        "          return False\n",
        "\n",
        "      return True\n",
        "\n",
        "solution = Solution()\n",
        "sentence = \"thequickbrownfoxjumpsoverthelazydog\"\n",
        "print(solution.checkIfPangram(sentence))"
      ]
    },
    {
      "cell_type": "code",
      "source": [],
      "metadata": {
        "id": "_DRBvMWjo47s"
      },
      "execution_count": null,
      "outputs": []
    }
  ]
}