{
  "nbformat": 4,
  "nbformat_minor": 0,
  "metadata": {
    "colab": {
      "provenance": []
    },
    "kernelspec": {
      "name": "python3",
      "display_name": "Python 3"
    },
    "language_info": {
      "name": "python"
    }
  },
  "cells": [
    {
      "cell_type": "code",
      "execution_count": null,
      "metadata": {
        "id": "kQjWvHzXch44"
      },
      "outputs": [],
      "source": [
        "class Solution(object):\n",
        "    def maxSubArray(self, nums):\n",
        "\n",
        "        max_current = max_global = nums[0]\n",
        "\n",
        "        for num in nums[1:]:\n",
        "            max_current = max(num, max_current + num)\n",
        "\n",
        "            if max_current > max_global:\n",
        "                max_global = max_current\n",
        "\n",
        "        return max_global\n",
        "\n",
        "solution = Solution()\n",
        "nums = [-2, 1, -3, 4, -1, 2, 1, -5, 4]\n",
        "print(solution.maxSubArray(nums))"
      ]
    }
  ]
}