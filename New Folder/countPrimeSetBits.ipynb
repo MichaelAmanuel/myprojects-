{
  "nbformat": 4,
  "nbformat_minor": 0,
  "metadata": {
    "colab": {
      "provenance": []
    },
    "kernelspec": {
      "name": "python3",
      "display_name": "Python 3"
    },
    "language_info": {
      "name": "python"
    }
  },
  "cells": [
    {
      "cell_type": "code",
      "execution_count": null,
      "metadata": {
        "id": "ejw75sggK1a_",
        "colab": {
          "base_uri": "https://localhost:8080/"
        },
        "outputId": "d0d266c6-0fa6-4276-b707-b6da70442294"
      },
      "outputs": [
        {
          "output_type": "stream",
          "name": "stdout",
          "text": [
            "4\n"
          ]
        }
      ],
      "source": [
        "class Solution(object):\n",
        "    def countPrimeSetBits(self, left, right):\n",
        "\n",
        "      count = 0\n",
        "\n",
        "      for i in range(left, right +1):\n",
        "        def is_prime(num):\n",
        "\n",
        "          if num <= 1:\n",
        "            return False\n",
        "          elif num <= 3:\n",
        "            return True\n",
        "          elif num % 2 == 0 or num % 3 == 0:\n",
        "            return False\n",
        "\n",
        "          i = 5\n",
        "          while i * i <= num:\n",
        "            if num % i == 0 or num % (i + 2) == 0:\n",
        "              return False\n",
        "            i += 6\n",
        "\n",
        "          return True\n",
        "\n",
        "        bin_num = bin(i)\n",
        "        num = bin_num.count('1')\n",
        "        if is_prime(num):\n",
        "          count += 1\n",
        "\n",
        "      return count\n",
        "\n",
        "solution = Solution()\n",
        "left = 6\n",
        "right = 10\n",
        "print(solution.countPrimeSetBits(left, right))"
      ]
    }
  ]
}