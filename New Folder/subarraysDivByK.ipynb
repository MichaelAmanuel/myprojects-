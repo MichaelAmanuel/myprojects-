{
  "nbformat": 4,
  "nbformat_minor": 0,
  "metadata": {
    "colab": {
      "provenance": []
    },
    "kernelspec": {
      "name": "python3",
      "display_name": "Python 3"
    },
    "language_info": {
      "name": "python"
    }
  },
  "cells": [
    {
      "cell_type": "code",
      "execution_count": null,
      "metadata": {
        "id": "uJvs1uvOyrNY"
      },
      "outputs": [],
      "source": [
        "class Solution(object):\n",
        "    def subarraysDivByK(self, nums, k):\n",
        "\n",
        "        remainder_map = {0: 1}\n",
        "        current_sum = 0\n",
        "        count = 0\n",
        "\n",
        "        for num in nums:\n",
        "            current_sum += num\n",
        "            remainder = current_sum % k\n",
        "\n",
        "            if remainder < 0:\n",
        "                remainder += k\n",
        "\n",
        "            if remainder in remainder_map:\n",
        "                count += remainder_map[remainder]\n",
        "                remainder_map[remainder] += 1\n",
        "            else:\n",
        "                remainder_map[remainder] = 1\n",
        "\n",
        "        return count\n",
        "\n",
        "solution = Solution()\n",
        "nums = [4, 5, 0, -2, -3, 1]\n",
        "k = 5\n",
        "print(solution.subarraysDivByK(nums, k))\n",
        "\n",
        "\n"
      ]
    }
  ]
}