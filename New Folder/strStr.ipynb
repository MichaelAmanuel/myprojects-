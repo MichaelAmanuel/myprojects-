{
  "nbformat": 4,
  "nbformat_minor": 0,
  "metadata": {
    "colab": {
      "provenance": []
    },
    "kernelspec": {
      "name": "python3",
      "display_name": "Python 3"
    },
    "language_info": {
      "name": "python"
    }
  },
  "cells": [
    {
      "cell_type": "code",
      "source": [
        "class Solution(object):\n",
        "    def strStr(self, haystack, needle):\n",
        "\n",
        "      if needle not in haystack:\n",
        "        return -1\n",
        "\n",
        "      else:\n",
        "        result = haystack.split(needle)\n",
        "        if len(result) > 1:\n",
        "          return len(result[0])\n",
        "\n",
        "\n",
        "solution = Solution()\n",
        "haystack = \"sadbutsad\"\n",
        "needle = \"sad\"\n",
        "print(solution.strStr(haystack, needle))"
      ],
      "metadata": {
        "colab": {
          "base_uri": "https://localhost:8080/"
        },
        "id": "xZ1ln5wufYlx",
        "outputId": "3a45bafc-cf9f-43f8-aefb-2b23ac709274"
      },
      "execution_count": 50,
      "outputs": [
        {
          "output_type": "stream",
          "name": "stdout",
          "text": [
            "0\n"
          ]
        }
      ]
    },
    {
      "cell_type": "code",
      "source": [
        "class Solution(object):\n",
        "    def strStr(self, haystack, needle):\n",
        "\n",
        "      o_p = []\n",
        "      for i in range(0, len(haystack),len(needle)):\n",
        "        o_p.append(haystack[i:i+len(needle)])\n",
        "\n",
        "      if needle not in o_p:\n",
        "        return -1\n",
        "      else:\n",
        "        return haystack.index(needle)\n",
        "\n",
        "solution = Solution()\n",
        "haystack = \"leetcode\"\n",
        "needle = \"leeto\"\n",
        "print(solution.strStr(haystack, needle))"
      ],
      "metadata": {
        "colab": {
          "base_uri": "https://localhost:8080/"
        },
        "id": "MlkaqqY_a2dv",
        "outputId": "bb8e8184-59fc-4940-9495-8a8a0d2a4db9"
      },
      "execution_count": 36,
      "outputs": [
        {
          "output_type": "stream",
          "name": "stdout",
          "text": [
            "-1\n"
          ]
        }
      ]
    },
    {
      "cell_type": "code",
      "source": [],
      "metadata": {
        "id": "IlFIaeTPxdnf"
      },
      "execution_count": null,
      "outputs": []
    }
  ]
}