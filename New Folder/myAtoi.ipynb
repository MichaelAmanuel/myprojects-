{
  "nbformat": 4,
  "nbformat_minor": 0,
  "metadata": {
    "colab": {
      "provenance": []
    },
    "kernelspec": {
      "name": "python3",
      "display_name": "Python 3"
    },
    "language_info": {
      "name": "python"
    }
  },
  "cells": [
    {
      "cell_type": "code",
      "execution_count": 21,
      "metadata": {
        "colab": {
          "base_uri": "https://localhost:8080/"
        },
        "id": "f9NDVvcGOsVL",
        "outputId": "d8e9bcf1-b5ae-4215-d26a-deb6c582af12"
      },
      "outputs": [
        {
          "output_type": "stream",
          "name": "stdout",
          "text": [
            "None\n"
          ]
        }
      ],
      "source": [
        "\n",
        "class Solution(object):\n",
        "    def myAtoi(self, s):\n",
        "      num = ''\n",
        "\n",
        "      for i in s:\n",
        "        if i.isdigit():\n",
        "          num += i\n",
        "      if len(num) > 0:\n",
        "        if num[0] == s[0]:\n",
        "          return int(num)\n",
        "        else:\n",
        "          ind =\n",
        "          if s[s.index(num[0]) - 1] == '-':\n",
        "            return -1 * int(num)\n",
        "\n",
        "      else:\n",
        "        return int(num)\n",
        "\n",
        "solution = Solution()\n",
        "s = \"words and 987\"\n",
        "print(solution.myAtoi(s))"
      ]
    },
    {
      "cell_type": "code",
      "source": [
        "\n",
        "class Solution(object):\n",
        "    def myAtoi(self, s):\n",
        "      num = ''\n",
        "\n",
        "      for i in s:\n",
        "        if i.isdigit():\n",
        "          num += i\n",
        "      # if len(num) > 0:\n",
        "\n",
        "      if num[0] == s[0]:\n",
        "        return int(num)\n",
        "\n",
        "      elif s[s.index(num[0]) - 1] == '-':\n",
        "\n",
        "        return -1 * int(num)\n",
        "\n",
        "      else:\n",
        "        return int(num)\n",
        "\n",
        "solution = Solution()\n",
        "s = \"words and 987\"\n",
        "print(solution.myAtoi(s))"
      ],
      "metadata": {
        "colab": {
          "base_uri": "https://localhost:8080/"
        },
        "id": "mY9tOHBLWmPJ",
        "outputId": "e7b05d82-f0ed-43a9-9775-225c0bf2263e"
      },
      "execution_count": 22,
      "outputs": [
        {
          "output_type": "stream",
          "name": "stdout",
          "text": [
            "987\n"
          ]
        }
      ]
    }
  ]
}