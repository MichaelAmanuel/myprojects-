{
  "nbformat": 4,
  "nbformat_minor": 0,
  "metadata": {
    "colab": {
      "provenance": []
    },
    "kernelspec": {
      "name": "python3",
      "display_name": "Python 3"
    },
    "language_info": {
      "name": "python"
    }
  },
  "cells": [
    {
      "cell_type": "code",
      "execution_count": 4,
      "metadata": {
        "colab": {
          "base_uri": "https://localhost:8080/"
        },
        "id": "dQcv5j1QcBmU",
        "outputId": "4c5ee3af-9460-41fd-c29e-3d55c0aa58b5"
      },
      "outputs": [
        {
          "output_type": "stream",
          "name": "stdout",
          "text": [
            "[3, 2]\n"
          ]
        }
      ],
      "source": [
        "class Solution(object):\n",
        "    def findDuplicates(self, nums):\n",
        "      result = []\n",
        "\n",
        "      for i in nums:\n",
        "        if nums.count(i) > 1 and  i not in result:\n",
        "          result.append(i)\n",
        "\n",
        "      return result\n",
        "\n",
        "solution = Solution()\n",
        "nums = [4,3,2,7,8,2,3,1]\n",
        "print(solution.findDuplicates(nums))"
      ]
    },
    {
      "cell_type": "code",
      "source": [
        "class Solution(object):\n",
        "    def findDuplicates(self, nums):\n",
        "        seen = set()\n",
        "        duplicates = set()\n",
        "\n",
        "        for num in nums:\n",
        "            if num in seen:\n",
        "                duplicates.add(num)\n",
        "            else:\n",
        "                seen.add(num)\n",
        "\n",
        "        return list(duplicates)\n",
        "\n",
        "solution = Solution()\n",
        "nums = [4, 3, 2, 7, 8, 2, 3, 1]\n",
        "print(solution.findDuplicates(nums))  # Output: [2, 3]\n"
      ],
      "metadata": {
        "id": "JZLtjjABAF8-"
      },
      "execution_count": null,
      "outputs": []
    },
    {
      "cell_type": "code",
      "source": [
        "class Solution(object):\n",
        "    def findDuplicates(self, nums):\n",
        "      result = []\n",
        "\n",
        "      for i in range(len(nums)):\n",
        "        for j in range(i+1,len(nums)-1):\n",
        "          if nums[i] == nums[j] and  nums[i] not in result:\n",
        "            result.append(nums[i])\n",
        "            break\n",
        "\n",
        "      return result\n",
        "\n",
        "solution = Solution()\n",
        "nums = [1,1]\n",
        "print(solution.findDuplicates(nums))"
      ],
      "metadata": {
        "colab": {
          "base_uri": "https://localhost:8080/"
        },
        "id": "jJn7F84VcId8",
        "outputId": "3e8e9048-3d2a-4dd0-f4e9-10919324832f"
      },
      "execution_count": 10,
      "outputs": [
        {
          "output_type": "stream",
          "name": "stdout",
          "text": [
            "[]\n"
          ]
        }
      ]
    },
    {
      "cell_type": "markdown",
      "source": [],
      "metadata": {
        "id": "9Q9iYjZbdUzu"
      }
    }
  ]
}