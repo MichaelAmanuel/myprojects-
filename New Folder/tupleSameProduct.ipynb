{
  "nbformat": 4,
  "nbformat_minor": 0,
  "metadata": {
    "colab": {
      "provenance": []
    },
    "kernelspec": {
      "name": "python3",
      "display_name": "Python 3"
    },
    "language_info": {
      "name": "python"
    }
  },
  "cells": [
    {
      "cell_type": "code",
      "execution_count": null,
      "metadata": {
        "id": "kQjWvHzXch44"
      },
      "outputs": [],
      "source": [
        "from collections import defaultdict\n",
        "\n",
        "class Solution(object):\n",
        "    def tupleSameProduct(self, nums):\n",
        "        product_count = defaultdict(int)\n",
        "        res = 0\n",
        "\n",
        "        for i in range(len(nums)):\n",
        "            for j in range(i + 1, len(nums)):\n",
        "                product = nums[i] * nums[j]\n",
        "                res += 8 * product_count[product]\n",
        "                product_count[product] += 1\n",
        "\n",
        "        return res\n",
        "\n",
        "solution = Solution()\n",
        "print(solution.tupleSameProduct([2,3,4,6]))"
      ]
    },
    {
      "cell_type": "code",
      "source": [],
      "metadata": {
        "id": "roULjd7SXK2j"
      },
      "execution_count": null,
      "outputs": []
    }
  ]
}