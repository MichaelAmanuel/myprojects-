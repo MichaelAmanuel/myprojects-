{
  "nbformat": 4,
  "nbformat_minor": 0,
  "metadata": {
    "colab": {
      "provenance": []
    },
    "kernelspec": {
      "name": "python3",
      "display_name": "Python 3"
    },
    "language_info": {
      "name": "python"
    }
  },
  "cells": [
    {
      "cell_type": "code",
      "execution_count": 4,
      "metadata": {
        "colab": {
          "base_uri": "https://localhost:8080/"
        },
        "id": "8NOKglSg6cyu",
        "outputId": "b6b0dc33-c479-465a-a394-b6a211716382"
      },
      "outputs": [
        {
          "output_type": "stream",
          "name": "stdout",
          "text": [
            "True\n"
          ]
        }
      ],
      "source": [
        "class Solution(object):\n",
        "  def checkValidString(self, s):\n",
        "    stack = []\n",
        "    stars = []\n",
        "\n",
        "    for i, char in enumerate(s):\n",
        "        if char == '(':\n",
        "            stack.append(i)\n",
        "        elif char == '*':\n",
        "            stars.append(i)\n",
        "        elif char == ')':\n",
        "            if stack:\n",
        "                stack.pop()\n",
        "            elif stars:\n",
        "                stars.pop()\n",
        "            else:\n",
        "                return False\n",
        "\n",
        "    while stack:\n",
        "        if not stars:\n",
        "            return False\n",
        "        elif stack[-1] < stars[-1]:\n",
        "            stack.pop()\n",
        "            stars.pop()\n",
        "        else:\n",
        "            return False\n",
        "\n",
        "    return True\n",
        "\n",
        "\n",
        "solution = Solution()\n",
        "s1 = \"()\"\n",
        "print(solution.checkValidString(s1))"
      ]
    }
  ]
}