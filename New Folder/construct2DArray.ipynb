{
  "nbformat": 4,
  "nbformat_minor": 0,
  "metadata": {
    "colab": {
      "provenance": []
    },
    "kernelspec": {
      "name": "python3",
      "display_name": "Python 3"
    },
    "language_info": {
      "name": "python"
    }
  },
  "cells": [
    {
      "cell_type": "code",
      "execution_count": null,
      "metadata": {
        "id": "kQjWvHzXch44"
      },
      "outputs": [],
      "source": [
        "class Solution(object):\n",
        "    def construct2DArray(self, original, m, n):\n",
        "\n",
        "        if len(original) != m * n:\n",
        "            return []\n",
        "\n",
        "        result = []\n",
        "        for i in range(m):\n",
        "            result.append(original[i * n:(i + 1) * n])\n",
        "\n",
        "        return result\n"
      ]
    }
  ]
}