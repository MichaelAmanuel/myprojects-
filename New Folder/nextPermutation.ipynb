{
  "nbformat": 4,
  "nbformat_minor": 0,
  "metadata": {
    "colab": {
      "provenance": []
    },
    "kernelspec": {
      "name": "python3",
      "display_name": "Python 3"
    },
    "language_info": {
      "name": "python"
    }
  },
  "cells": [
    {
      "cell_type": "code",
      "execution_count": 3,
      "metadata": {
        "colab": {
          "base_uri": "https://localhost:8080/"
        },
        "id": "8q2iNpy9LAKu",
        "outputId": "16ed6f4c-4dfd-4d15-c5d8-fdae576eb749"
      },
      "outputs": [
        {
          "output_type": "stream",
          "name": "stdout",
          "text": [
            "[1, 3, 2]\n"
          ]
        }
      ],
      "source": [
        "class Solution(object):\n",
        "  def nextPermutation(self, nums):\n",
        "      n = len(nums)\n",
        "      i = n - 1\n",
        "\n",
        "      while i > 0 and nums[i] <= nums[i - 1]:\n",
        "          i -= 1\n",
        "\n",
        "      if i == 0:\n",
        "          nums.reverse()\n",
        "          return\n",
        "\n",
        "      j = n - 1\n",
        "      while nums[j] <= nums[i - 1]:\n",
        "          j -= 1\n",
        "\n",
        "      nums[i - 1], nums[j] = nums[j], nums[i - 1]\n",
        "\n",
        "      nums[i:] = nums[i:][::-1]\n",
        "\n",
        "solution = Solution()\n",
        "nums = [1, 2, 3]\n",
        "solution.nextPermutation(nums)\n",
        "print(nums)\n"
      ]
    }
  ]
}