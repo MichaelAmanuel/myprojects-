{
  "nbformat": 4,
  "nbformat_minor": 0,
  "metadata": {
    "colab": {
      "provenance": []
    },
    "kernelspec": {
      "name": "python3",
      "display_name": "Python 3"
    },
    "language_info": {
      "name": "python"
    }
  },
  "cells": [
    {
      "cell_type": "code",
      "execution_count": null,
      "metadata": {
        "id": "Y2YwiQY7I5zo"
      },
      "outputs": [],
      "source": [
        "class Solution:\n",
        "    def solveSudoku(self, board):\n",
        "\n",
        "        self.solve(board)\n",
        "\n",
        "    def solve(self, board):\n",
        "        empty = self.find_empty(board)\n",
        "        if not empty:\n",
        "            return True\n",
        "        row, col = empty\n",
        "\n",
        "        for num in range(1, 10):\n",
        "            if self.is_valid(board, str(num), row, col):\n",
        "                board[row][col] = str(num)\n",
        "\n",
        "                if self.solve(board):\n",
        "                    return True\n",
        "\n",
        "                board[row][col] = '.'\n",
        "\n",
        "        return False\n",
        "\n",
        "    def find_empty(self, board):\n",
        "        for i in range(9):\n",
        "            for j in range(9):\n",
        "                if board[i][j] == '.':\n",
        "                    return (i, j)\n",
        "        return None\n",
        "\n",
        "    def is_valid(self, board, num, row, col):\n",
        "\n",
        "        for i in range(9):\n",
        "            if board[row][i] == num:\n",
        "                return False\n",
        "\n",
        "        for i in range(9):\n",
        "            if board[i][col] == num:\n",
        "                return False\n",
        "\n",
        "        box_row = row // 3 * 3\n",
        "        box_col = col // 3 * 3\n",
        "        for i in range(3):\n",
        "            for j in range(3):\n",
        "                if board[box_row + i][box_col + j] == num:\n",
        "                    return False\n",
        "\n",
        "        return True\n",
        "\n",
        "board = [[\"5\",\"3\",\".\",\".\",\"7\",\".\",\".\",\".\",\".\"],\n",
        "         [\"6\",\".\",\".\",\"1\",\"9\",\"5\",\".\",\".\",\".\"],\n",
        "         [\".\",\"9\",\"8\",\".\",\".\",\".\",\".\",\"6\",\".\"],\n",
        "         [\"8\",\".\",\".\",\".\",\"6\",\".\",\".\",\".\",\"3\"],\n",
        "         [\"4\",\".\",\".\",\"8\",\".\",\"3\",\".\",\".\",\"1\"],\n",
        "         [\"7\",\".\",\".\",\".\",\"2\",\".\",\".\",\".\",\"6\"],\n",
        "         [\".\",\"6\",\".\",\".\",\".\",\".\",\"2\",\"8\",\".\"],\n",
        "         [\".\",\".\",\".\",\"4\",\"1\",\"9\",\".\",\".\",\"5\"],\n",
        "         [\".\",\".\",\".\",\".\",\"8\",\".\",\".\",\"7\",\"9\"]]\n",
        "\n",
        "sol = Solution()\n",
        "sol.solveSudoku(board)\n",
        "for row in board:\n",
        "    print(row)\n"
      ]
    }
  ]
}