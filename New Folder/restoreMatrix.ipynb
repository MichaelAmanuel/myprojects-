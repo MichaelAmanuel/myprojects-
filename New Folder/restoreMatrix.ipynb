{
  "nbformat": 4,
  "nbformat_minor": 0,
  "metadata": {
    "colab": {
      "provenance": []
    },
    "kernelspec": {
      "name": "python3",
      "display_name": "Python 3"
    },
    "language_info": {
      "name": "python"
    }
  },
  "cells": [
    {
      "cell_type": "code",
      "execution_count": null,
      "metadata": {
        "id": "kQjWvHzXch44"
      },
      "outputs": [],
      "source": [
        "class Solution(object):\n",
        "    def restoreMatrix(self, rowSum, colSum):\n",
        "\n",
        "        m, n = len(rowSum), len(colSum)\n",
        "        matrix = [[0] * n for _ in range(m)]\n",
        "\n",
        "        for i in range(m):\n",
        "            for j in range(n):\n",
        "                value = min(rowSum[i], colSum[j])\n",
        "                matrix[i][j] = value\n",
        "                rowSum[i] -= value\n",
        "                colSum[j] -= value\n",
        "\n",
        "        return matrix\n",
        "\n",
        "solution = Solution()\n",
        "rowSum = [3, 8]\n",
        "colSum = [4, 7]\n",
        "print(solution.restoreMatrix(rowSum, colSum))"
      ]
    }
  ]
}