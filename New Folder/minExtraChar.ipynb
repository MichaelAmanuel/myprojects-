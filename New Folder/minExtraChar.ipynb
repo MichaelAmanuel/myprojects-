{
  "nbformat": 4,
  "nbformat_minor": 0,
  "metadata": {
    "colab": {
      "provenance": []
    },
    "kernelspec": {
      "name": "python3",
      "display_name": "Python 3"
    },
    "language_info": {
      "name": "python"
    }
  },
  "cells": [
    {
      "cell_type": "code",
      "execution_count": null,
      "metadata": {
        "id": "kQjWvHzXch44",
        "colab": {
          "base_uri": "https://localhost:8080/"
        },
        "outputId": "8cc49be6-0a27-424f-b528-741a8004db4b"
      },
      "outputs": [
        {
          "output_type": "stream",
          "name": "stdout",
          "text": [
            "11\n"
          ]
        }
      ],
      "source": [
        "class Solution:\n",
        "    def minExtraChar(self, s, dictionary):\n",
        "        n = len(s)\n",
        "        word_set = set(dictionary)  # Use a set for faster look-up\n",
        "        dp = [0] * (n + 1)  # dp[i] represents the minimum extra chars for s[0:i]\n",
        "\n",
        "        for i in range(1, n + 1):\n",
        "            # By default, assume s[i-1] is an extra character\n",
        "            dp[i] = dp[i - 1] + 1\n",
        "\n",
        "            # Check if any word in the dictionary matches s[j:i]\n",
        "            for j in range(i):\n",
        "                if s[j:i] in word_set:\n",
        "                    dp[i] = min(dp[i], dp[j])\n",
        "\n",
        "        return dp[n]\n",
        "\n",
        "# Example usage\n",
        "sol = Solution()\n",
        "print(sol.minExtraChar(\"leetscode\", [\"leet\", \"code\", \"leetcode\"]))  # Output: 1\n",
        "print(sol.minExtraChar(\"sayhelloworld\", [\"hello\", \"world\"]))        # Output: 3"
      ]
    }
  ]
}