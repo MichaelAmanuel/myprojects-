{
  "nbformat": 4,
  "nbformat_minor": 0,
  "metadata": {
    "colab": {
      "provenance": []
    },
    "kernelspec": {
      "name": "python3",
      "display_name": "Python 3"
    },
    "language_info": {
      "name": "python"
    }
  },
  "cells": [
    {
      "cell_type": "code",
      "source": [
        "class Solution(object):\n",
        "    def findKthNumber(self, n, k):\n",
        "\n",
        "      li = []\n",
        "      for i in range(1, n+1):\n",
        "        li.append(str(i))\n",
        "\n",
        "      re = sorted(li)\n",
        "\n",
        "      return int(re[k-1])\n",
        "\n",
        "solution = Solution()\n",
        "n = 100\n",
        "k = 2\n",
        "print(solution.findKthNumber(n , k))"
      ],
      "metadata": {
        "colab": {
          "base_uri": "https://localhost:8080/"
        },
        "id": "J9482qN3QYfo",
        "outputId": "a3a914d1-0687-4074-84c4-70c4d8089464"
      },
      "execution_count": 35,
      "outputs": [
        {
          "output_type": "stream",
          "name": "stdout",
          "text": [
            "10\n"
          ]
        }
      ]
    },
    {
      "cell_type": "code",
      "source": [],
      "metadata": {
        "id": "hzKkwpDga_F8"
      },
      "execution_count": null,
      "outputs": []
    }
  ]
}