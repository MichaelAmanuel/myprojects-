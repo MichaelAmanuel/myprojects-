{
  "nbformat": 4,
  "nbformat_minor": 0,
  "metadata": {
    "colab": {
      "provenance": []
    },
    "kernelspec": {
      "name": "python3",
      "display_name": "Python 3"
    },
    "language_info": {
      "name": "python"
    }
  },
  "cells": [
    {
      "cell_type": "code",
      "execution_count": 5,
      "metadata": {
        "colab": {
          "base_uri": "https://localhost:8080/"
        },
        "id": "8Nbx1Ejl1ayU",
        "outputId": "34221a81-8445-46fd-d002-e6a078295225"
      },
      "outputs": [
        {
          "output_type": "stream",
          "name": "stdout",
          "text": [
            "[[1, 10, 4, 2], [9, 3, 8, 7], [15, 16, 17, 12]]\n"
          ]
        }
      ],
      "source": [
        "matrix = [[1,10,4,2],[9,3,8,7],[15,16,17,12]]\n",
        "\n",
        "print(matrix)"
      ]
    },
    {
      "cell_type": "code",
      "source": [
        "class Solution(object):\n",
        "    def luckyNumbers (self, matrix):\n",
        "\n",
        "      for i in matrix:\n",
        "        y = min(i)\n",
        "\n",
        "        for col_index in range(len(matrix[0])):\n",
        "          if max([row[col_index] for row in matrix]) == y:\n",
        "\n",
        "            return [y]\n",
        "\n",
        "solution = Solution()\n",
        "matrix = [[1,10,4,2],[9,3,8,7],[15,16,17,12]]\n",
        "print(solution.luckyNumbers(matrix))"
      ],
      "metadata": {
        "colab": {
          "base_uri": "https://localhost:8080/"
        },
        "id": "_dCQ3MjD3Vul",
        "outputId": "985cdd5f-443d-42e5-b8ed-062ff915d949"
      },
      "execution_count": 29,
      "outputs": [
        {
          "output_type": "stream",
          "name": "stdout",
          "text": [
            "[12]\n"
          ]
        }
      ]
    },
    {
      "cell_type": "code",
      "source": [
        "def find_index(matrix, element):\n",
        "    for i, row in enumerate(matrix):\n",
        "        for j, value in enumerate(row):\n",
        "            if value == element:\n",
        "                return i, j\n",
        "    return None\n",
        "\n",
        "\n",
        "matrix = [\n",
        "    [1, 2, 3],\n",
        "    [4, 5, 6],\n",
        "    [7, 8, 9]\n",
        "]\n",
        "\n",
        "element_to_find = 5\n",
        "index = find_index(matrix, element_to_find)\n",
        "\n",
        "if index:\n",
        "    print(f\"The element {element_to_find} is found at index: {index}\")\n",
        "else:\n",
        "    print(f\"The element {element_to_find} is not found in the matrix.\")\n"
      ],
      "metadata": {
        "colab": {
          "base_uri": "https://localhost:8080/"
        },
        "id": "FPrNFrgC3jBM",
        "outputId": "a9d97040-d249-446e-9a78-5dc2d5f2fe47"
      },
      "execution_count": 13,
      "outputs": [
        {
          "output_type": "stream",
          "name": "stdout",
          "text": [
            "The element 5 is found at index: (1, 1)\n"
          ]
        }
      ]
    },
    {
      "cell_type": "code",
      "source": [
        "matrix = [\n",
        "    [1, 2, 3],\n",
        "    [4, 5, 6],\n",
        "    [7, 8, 9]\n",
        "]\n",
        "\n",
        "# Loop through columns\n",
        "for col_index in range(len(matrix[0])):\n",
        "    column_values = [row[col_index] for row in matrix]\n",
        "\n",
        "    print(column_values)\n"
      ],
      "metadata": {
        "colab": {
          "base_uri": "https://localhost:8080/"
        },
        "id": "zZ8nfv2D6Wbm",
        "outputId": "dba002fa-2fa5-4053-c4f7-edbe4eb2534c"
      },
      "execution_count": 21,
      "outputs": [
        {
          "output_type": "stream",
          "name": "stdout",
          "text": [
            "[1, 4, 7]\n",
            "[2, 5, 8]\n",
            "[3, 6, 9]\n"
          ]
        }
      ]
    }
  ]
}