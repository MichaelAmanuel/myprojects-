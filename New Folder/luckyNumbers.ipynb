{
  "nbformat": 4,
  "nbformat_minor": 0,
  "metadata": {
    "colab": {
      "provenance": []
    },
    "kernelspec": {
      "name": "python3",
      "display_name": "Python 3"
    },
    "language_info": {
      "name": "python"
    }
  },
  "cells": [
    {
      "cell_type": "code",
      "execution_count": null,
      "metadata": {
        "id": "Y2YwiQY7I5zo"
      },
      "outputs": [],
      "source": [
        "class Solution(object):\n",
        "    def luckyNumbers(self, matrix):\n",
        "\n",
        "        if not matrix:\n",
        "            return []\n",
        "\n",
        "        m, n = len(matrix), len(matrix[0])\n",
        "        lucky_numbers = []\n",
        "\n",
        "        min_in_rows = []\n",
        "        for i in range(m):\n",
        "            min_value = float('inf')\n",
        "            min_col = -1\n",
        "            for j in range(n):\n",
        "                if matrix[i][j] < min_value:\n",
        "                    min_value = matrix[i][j]\n",
        "                    min_col = j\n",
        "            min_in_rows.append((min_value, min_col))\n",
        "\n",
        "        for value, col in min_in_rows:\n",
        "            is_lucky = True\n",
        "            for i in range(m):\n",
        "                if matrix[i][col] > value:\n",
        "                    is_lucky = False\n",
        "                    break\n",
        "            if is_lucky:\n",
        "                lucky_numbers.append(value)\n",
        "\n",
        "        return lucky_numbers\n",
        "\n",
        "solution = Solution()\n",
        "matrix = [[3,7,8],[9,11,13],[15,16,17]]\n",
        "print(solution.luckyNumbers(matrix))\n"
      ]
    }
  ]
}