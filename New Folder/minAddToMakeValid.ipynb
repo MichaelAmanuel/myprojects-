{
  "nbformat": 4,
  "nbformat_minor": 0,
  "metadata": {
    "colab": {
      "provenance": []
    },
    "kernelspec": {
      "name": "python3",
      "display_name": "Python 3"
    },
    "language_info": {
      "name": "python"
    }
  },
  "cells": [
    {
      "cell_type": "code",
      "execution_count": null,
      "metadata": {
        "id": "kQjWvHzXch44"
      },
      "outputs": [],
      "source": [
        "class Solution(object):\n",
        "    def minAddToMakeValid(self, s):\n",
        "        open_count = 0\n",
        "        close_count = 0\n",
        "\n",
        "        for char in s:\n",
        "            if char == '(':\n",
        "                open_count += 1\n",
        "            elif open_count > 0:\n",
        "                open_count -= 1\n",
        "            else:\n",
        "                close_count += 1\n",
        "\n",
        "        return open_count + close_count\n"
      ]
    }
  ]
}