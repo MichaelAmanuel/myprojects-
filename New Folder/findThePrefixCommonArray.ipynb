{
  "nbformat": 4,
  "nbformat_minor": 0,
  "metadata": {
    "colab": {
      "provenance": []
    },
    "kernelspec": {
      "name": "python3",
      "display_name": "Python 3"
    },
    "language_info": {
      "name": "python"
    }
  },
  "cells": [
    {
      "cell_type": "code",
      "execution_count": null,
      "metadata": {
        "id": "kQjWvHzXch44",
        "colab": {
          "base_uri": "https://localhost:8080/"
        },
        "outputId": "792b0e92-1d98-4286-aafa-efc6fbfae2a7"
      },
      "outputs": [
        {
          "output_type": "stream",
          "name": "stdout",
          "text": [
            "9\n"
          ]
        }
      ],
      "source": [
        "class Solution(object):\n",
        "    def findThePrefixCommonArray(self, A, B):\n",
        "        n = len(A)\n",
        "        C = [0] * n\n",
        "        seen = set()\n",
        "        common_count = 0\n",
        "\n",
        "        for i in range(n):\n",
        "            if A[i] in seen:\n",
        "                common_count += 1\n",
        "            else:\n",
        "                seen.add(A[i])\n",
        "\n",
        "            if B[i] in seen:\n",
        "                common_count += 1\n",
        "            else:\n",
        "                seen.add(B[i])\n",
        "\n",
        "            C[i] = common_count\n",
        "\n",
        "        return C\n",
        "\n",
        "\n"
      ]
    }
  ]
}