{
  "nbformat": 4,
  "nbformat_minor": 0,
  "metadata": {
    "colab": {
      "provenance": []
    },
    "kernelspec": {
      "name": "python3",
      "display_name": "Python 3"
    },
    "language_info": {
      "name": "python"
    }
  },
  "cells": [
    {
      "cell_type": "code",
      "execution_count": 14,
      "metadata": {
        "colab": {
          "base_uri": "https://localhost:8080/"
        },
        "id": "EoJl076t-FdN",
        "outputId": "030c7dc7-b65e-40f0-e53e-e35637c63fb5"
      },
      "outputs": [
        {
          "output_type": "stream",
          "name": "stdout",
          "text": [
            "['c', 'o', 'o']\n"
          ]
        }
      ],
      "source": [
        "class Solution(object):\n",
        "    def commonChars(self, words):\n",
        "\n",
        "      result = []\n",
        "      word_1 = words[0]\n",
        "      for i in word_1:\n",
        "        count = 0\n",
        "        for j in range(1, len(words)):\n",
        "          if i in words[j]:\n",
        "            count += 1\n",
        "        if count == len(words) - 1:\n",
        "          if i in result and result.count(i) == words[j].count(i):\n",
        "            result.append(i)\n",
        "          else:\n",
        "            result.append(i)\n",
        "      return result\n",
        "\n",
        "solution = Solution()\n",
        "words = [\"cool\",\"lock\",\"cook\"]\n",
        "print(solution.commonChars(words))"
      ]
    },
    {
      "cell_type": "code",
      "source": [
        "class Solution(object):\n",
        "    def commonChars(self, words):\n",
        "\n",
        "        min_freq = {}\n",
        "        for char in words[0]:\n",
        "            min_freq[char] = min_freq.get(char, 0) + 1\n",
        "\n",
        "        for word in words[1:]:\n",
        "            word_freq = {}\n",
        "            for char in word:\n",
        "                word_freq[char] = word_freq.get(char, 0) + 1\n",
        "            for char in min_freq:\n",
        "                min_freq[char] = min(min_freq[char], word_freq.get(char, 0))\n",
        "\n",
        "        result = []\n",
        "        for char, freq in min_freq.items():\n",
        "            result.extend([char] * freq)\n",
        "\n",
        "        return result\n",
        "\n",
        "\n",
        "solution = Solution()\n",
        "words = [\"cool\", \"lock\", \"cook\"]\n",
        "print(solution.commonChars(words))\n"
      ],
      "metadata": {
        "colab": {
          "base_uri": "https://localhost:8080/"
        },
        "id": "8y17mjkq_gwC",
        "outputId": "31f916d2-1e17-4907-e87f-25437a3e9acd"
      },
      "execution_count": 15,
      "outputs": [
        {
          "output_type": "stream",
          "name": "stdout",
          "text": [
            "['c', 'o']\n"
          ]
        }
      ]
    }
  ]
}