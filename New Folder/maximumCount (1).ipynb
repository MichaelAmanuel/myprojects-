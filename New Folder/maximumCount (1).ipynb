{
  "nbformat": 4,
  "nbformat_minor": 0,
  "metadata": {
    "colab": {
      "provenance": []
    },
    "kernelspec": {
      "name": "python3",
      "display_name": "Python 3"
    },
    "language_info": {
      "name": "python"
    }
  },
  "cells": [
    {
      "cell_type": "code",
      "execution_count": null,
      "metadata": {
        "id": "kQjWvHzXch44"
      },
      "outputs": [],
      "source": [
        "class Solution:\n",
        "    def maximumCount(self, nums):\n",
        "        neg_count = sum(1 for x in nums if x < 0)\n",
        "        pos_count = sum(1 for x in nums if x > 0)\n",
        "        return max(neg_count, pos_count)\n"
      ]
    },
    {
      "cell_type": "code",
      "source": [],
      "metadata": {
        "id": "HhjYAmsPmpz5"
      },
      "execution_count": null,
      "outputs": []
    }
  ]
}