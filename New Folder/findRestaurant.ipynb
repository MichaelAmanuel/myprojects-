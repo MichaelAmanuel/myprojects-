{
  "nbformat": 4,
  "nbformat_minor": 0,
  "metadata": {
    "colab": {
      "provenance": []
    },
    "kernelspec": {
      "name": "python3",
      "display_name": "Python 3"
    },
    "language_info": {
      "name": "python"
    }
  },
  "cells": [
    {
      "cell_type": "code",
      "execution_count": 13,
      "metadata": {
        "colab": {
          "base_uri": "https://localhost:8080/"
        },
        "id": "8if_8lEAs_bv",
        "outputId": "3d389e51-197d-4fdc-b331-c4912348d7c6"
      },
      "outputs": [
        {
          "output_type": "stream",
          "name": "stdout",
          "text": [
            "['happy', 'sad']\n"
          ]
        }
      ],
      "source": [
        "class Solution(object):\n",
        "    def findRestaurant(self, list1, list2):\n",
        "\n",
        "      result = {}\n",
        "\n",
        "      for i in range(len(list1)):\n",
        "        if list1[i] in list2:\n",
        "          result[list1[i]] = i + list2.index(list1[i])\n",
        "\n",
        "      min_value = min(result.values())\n",
        "      return [key for key, value in result.items() if value == min_value]\n",
        "\n",
        "solution = Solution()\n",
        "list1 = [\"happy\",\"sad\",\"good\"]\n",
        "list2 = [\"sad\",\"happy\",\"good\"]\n",
        "print(solution.findRestaurant(list1, list2))"
      ]
    },
    {
      "cell_type": "code",
      "source": [
        "my_dict = {'a': 3, 'b': 5, 'c': 1, 'd': 9}\n",
        "\n",
        "min_value = min(my_dict.values())\n",
        "\n",
        "print(\"Minimum value in the dictionary:\", min_value)\n"
      ],
      "metadata": {
        "colab": {
          "base_uri": "https://localhost:8080/"
        },
        "id": "y5hgBFYkt6J3",
        "outputId": "aed713d2-f862-4480-d4e7-1ca6c57aa7ca"
      },
      "execution_count": 9,
      "outputs": [
        {
          "output_type": "stream",
          "name": "stdout",
          "text": [
            "Minimum value in the dictionary: 1\n"
          ]
        }
      ]
    }
  ]
}