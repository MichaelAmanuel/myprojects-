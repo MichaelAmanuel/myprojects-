{
  "nbformat": 4,
  "nbformat_minor": 0,
  "metadata": {
    "colab": {
      "provenance": []
    },
    "kernelspec": {
      "name": "python3",
      "display_name": "Python 3"
    },
    "language_info": {
      "name": "python"
    }
  },
  "cells": [
    {
      "cell_type": "code",
      "execution_count": 10,
      "metadata": {
        "id": "kQjWvHzXch44"
      },
      "outputs": [],
      "source": [
        "from math import gcd\n",
        "from functools import reduce\n",
        "\n",
        "class Solution:\n",
        "    def fractionAddition(self, expression):\n",
        "        def lcm(a, b):\n",
        "            return abs(a * b) // gcd(a, b)\n",
        "\n",
        "        tokens = []\n",
        "        i = 0\n",
        "        while i < len(expression):\n",
        "            start = i\n",
        "            if expression[i] == '-' or expression[i] == '+':\n",
        "                i += 1\n",
        "            while i < len(expression) and expression[i] not in '+-':\n",
        "                i += 1\n",
        "            tokens.append(expression[start:i])\n",
        "\n",
        "        numerator, denominator = 0, 1\n",
        "\n",
        "        for token in tokens:\n",
        "            num, denom = map(int, token.split('/'))\n",
        "            lcm_denom = lcm(denominator, denom)\n",
        "            numerator = numerator * (lcm_denom // denominator) + num * (lcm_denom // denom)\n",
        "            denominator = lcm_denom\n",
        "\n",
        "        common_divisor = gcd(abs(numerator), denominator)\n",
        "        numerator //= common_divisor\n",
        "        denominator //= common_divisor\n",
        "\n",
        "        return f\"{numerator}/{denominator}\""
      ]
    },
    {
      "cell_type": "code",
      "source": [
        "class Solution:\n",
        "    def fractionAddition(self, expression):\n",
        "\n",
        "        def gcd(a, b):\n",
        "            while b:\n",
        "                a, b = b, a % b\n",
        "            return a\n",
        "\n",
        "\n",
        "        def lcm(a, b):\n",
        "            return abs(a * b) // gcd(a, b)\n",
        "\n",
        "\n",
        "        tokens = []\n",
        "        i = 0\n",
        "        while i < len(expression):\n",
        "            start = i\n",
        "            if expression[i] == '-' or expression[i] == '+':\n",
        "                i += 1\n",
        "            while i < len(expression) and expression[i] not in '+-':\n",
        "                i += 1\n",
        "            tokens.append(expression[start:i])\n",
        "\n",
        "        numerator, denominator = 0, 1\n",
        "\n",
        "        for token in tokens:\n",
        "            num, denom = map(int, token.split('/'))\n",
        "            lcm_denom = lcm(denominator, denom)\n",
        "            numerator = numerator * (lcm_denom // denominator) + num * (lcm_denom // denom)\n",
        "            denominator = lcm_denom\n",
        "\n",
        "\n",
        "        common_divisor = gcd(abs(numerator), denominator)\n",
        "        numerator //= common_divisor\n",
        "        denominator //= common_divisor\n",
        "\n",
        "        return \"{}/{}\".format(numerator, denominator)"
      ],
      "metadata": {
        "id": "L1XbhKon0I6i"
      },
      "execution_count": 9,
      "outputs": []
    }
  ]
}