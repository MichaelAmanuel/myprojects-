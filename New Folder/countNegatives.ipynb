{
  "nbformat": 4,
  "nbformat_minor": 0,
  "metadata": {
    "colab": {
      "provenance": []
    },
    "kernelspec": {
      "name": "python3",
      "display_name": "Python 3"
    },
    "language_info": {
      "name": "python"
    }
  },
  "cells": [
    {
      "cell_type": "code",
      "execution_count": null,
      "metadata": {
        "id": "om2oSsyDz5FI"
      },
      "outputs": [],
      "source": [
        "class Solution(object):\n",
        "    def countNegatives(self, grid):\n",
        "      count = 0\n",
        "      for i in grid:\n",
        "        for j in i:\n",
        "          if j < 0:\n",
        "            count += 1\n",
        "      return count\n",
        "\n",
        "solution = Solution()\n",
        "grid = [[4,3,2,-1],[3,2,1,-1],[1,1,-1,-2],[-1,-1,-2,-3]]\n",
        "print(solution.countNegatives(grid))"
      ]
    }
  ]
}