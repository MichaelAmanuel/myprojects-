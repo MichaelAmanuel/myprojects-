{
  "nbformat": 4,
  "nbformat_minor": 0,
  "metadata": {
    "colab": {
      "provenance": []
    },
    "kernelspec": {
      "name": "python3",
      "display_name": "Python 3"
    },
    "language_info": {
      "name": "python"
    }
  },
  "cells": [
    {
      "cell_type": "code",
      "execution_count": 1,
      "metadata": {
        "id": "kQjWvHzXch44"
      },
      "outputs": [],
      "source": [
        "class Solution(object):\n",
        "    def maximumSwap(self, num):\n",
        "        digits = list(str(num))\n",
        "        n = len(digits)\n",
        "\n",
        "        max_idx_from_right = [0] * n\n",
        "        max_idx_from_right[-1] = n - 1\n",
        "\n",
        "        for i in range(n - 2, -1, -1):\n",
        "            if digits[i] > digits[max_idx_from_right[i + 1]]:\n",
        "                max_idx_from_right[i] = i\n",
        "            else:\n",
        "                max_idx_from_right[i] = max_idx_from_right[i + 1]\n",
        "\n",
        "        for i in range(n):\n",
        "            if digits[i] != digits[max_idx_from_right[i]]:\n",
        "                digits[i], digits[max_idx_from_right[i]] = digits[max_idx_from_right[i]], digits[i]\n",
        "                break\n",
        "\n",
        "        return int(\"\".join(digits))\n"
      ]
    }
  ]
}