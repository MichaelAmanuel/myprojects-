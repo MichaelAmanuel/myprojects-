{
  "nbformat": 4,
  "nbformat_minor": 0,
  "metadata": {
    "colab": {
      "provenance": []
    },
    "kernelspec": {
      "name": "python3",
      "display_name": "Python 3"
    },
    "language_info": {
      "name": "python"
    }
  },
  "cells": [
    {
      "cell_type": "code",
      "execution_count": 16,
      "metadata": {
        "colab": {
          "base_uri": "https://localhost:8080/"
        },
        "id": "1maWFcJTUySi",
        "outputId": "9f8e6648-678d-4a2f-9ea7-4f74d0df8913"
      },
      "outputs": [
        {
          "output_type": "stream",
          "name": "stdout",
          "text": [
            "0\n"
          ]
        }
      ],
      "source": [
        "class Solution(object):\n",
        "    def kthSmallestProduct(self, nums1, nums2, k):\n",
        "\n",
        "      o_p = []\n",
        "\n",
        "      for i in range(len(nums1)):\n",
        "        for j in range(len(nums2)):\n",
        "          o_p.append(nums2[j] * nums1[i])\n",
        "\n",
        "      return sorted(o_p)[k-1]\n",
        "\n",
        "solution = Solution()\n",
        "nums1 = [-4,-2,0,3]\n",
        "nums2 = [2,4]\n",
        "k = 6\n",
        "print(solution.kthSmallestProduct(nums1, nums2, k))"
      ]
    },
    {
      "cell_type": "code",
      "source": [
        "class Solution(object):\n",
        "    def kthSmallestProduct(self, nums1, nums2, k):\n",
        "\n",
        "      num1 = sorted(nums1)\n",
        "      num2 = sorted(nums2)\n",
        "\n",
        "\n",
        "solution = Solution()\n",
        "nums1 = [-4,-2,0,3]\n",
        "nums2 = [2,4]\n",
        "k = 6\n",
        "print(solution.kthSmallestProduct(nums1, nums2, k))"
      ],
      "metadata": {
        "id": "qQ1XdHszXY0H"
      },
      "execution_count": null,
      "outputs": []
    }
  ]
}