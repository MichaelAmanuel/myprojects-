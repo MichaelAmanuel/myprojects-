{
  "nbformat": 4,
  "nbformat_minor": 0,
  "metadata": {
    "colab": {
      "provenance": []
    },
    "kernelspec": {
      "name": "python3",
      "display_name": "Python 3"
    },
    "language_info": {
      "name": "python"
    }
  },
  "cells": [
    {
      "cell_type": "code",
      "execution_count": null,
      "metadata": {
        "id": "kQjWvHzXch44"
      },
      "outputs": [],
      "source": [
        "class Solution(object):\n",
        "    def arrayRankTransform(self, arr):\n",
        "        rank_dict = {val: i + 1 for i, val in enumerate(sorted(set(arr)))}\n",
        "        return [rank_dict[val] for val in arr]\n",
        "\n",
        "\n",
        "solution = Solution()\n",
        "arr = [37, 12, 28, 9, 100, 56, 80, 5, 12]\n",
        "print(solution.arrayRankTransform(arr))\n",
        ""
      ]
    }
  ]
}