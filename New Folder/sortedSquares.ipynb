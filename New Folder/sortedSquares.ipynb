{
  "nbformat": 4,
  "nbformat_minor": 0,
  "metadata": {
    "colab": {
      "provenance": []
    },
    "kernelspec": {
      "name": "python3",
      "display_name": "Python 3"
    },
    "language_info": {
      "name": "python"
    }
  },
  "cells": [
    {
      "cell_type": "code",
      "execution_count": null,
      "metadata": {
        "colab": {
          "base_uri": "https://localhost:8080/"
        },
        "id": "9NDqIJuExDcN",
        "outputId": "ab30ff00-86ff-492a-c1fd-0d80cf1c5cce"
      },
      "outputs": [
        {
          "output_type": "stream",
          "name": "stdout",
          "text": [
            "[4, 9, 9, 49, 121]\n"
          ]
        }
      ],
      "source": [
        "class Solution(object):\n",
        "    def sortedSquares(self, nums):\n",
        "\n",
        "      o_p = []\n",
        "      for i in nums:\n",
        "        o_p.append(i**2)\n",
        "\n",
        "      return sorted(o_p)\n",
        "\n",
        "solution = Solution()\n",
        "nums = [-7,-3,2,3,11]\n",
        "print(solution.sortedSquares(nums))"
      ]
    },
    {
      "cell_type": "code",
      "source": [
        "class Solution(object):\n",
        "    def sortedSquares(self, nums):\n",
        "\n",
        "      return sorted([num * num for num in nums])\n",
        "\n",
        "solution = Solution()\n",
        "nums = [-7,-3,2,3,11]\n",
        "print(solution.sortedSquares(nums))"
      ],
      "metadata": {
        "colab": {
          "base_uri": "https://localhost:8080/"
        },
        "id": "OUE211Y8xn3Y",
        "outputId": "2f743161-9a70-4f62-b6bc-a72edfa208ad"
      },
      "execution_count": null,
      "outputs": [
        {
          "output_type": "stream",
          "name": "stdout",
          "text": [
            "[4, 9, 9, 49, 121]\n"
          ]
        }
      ]
    }
  ]
}