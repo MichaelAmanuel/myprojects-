{
  "nbformat": 4,
  "nbformat_minor": 0,
  "metadata": {
    "colab": {
      "provenance": []
    },
    "kernelspec": {
      "name": "python3",
      "display_name": "Python 3"
    },
    "language_info": {
      "name": "python"
    }
  },
  "cells": [
    {
      "cell_type": "code",
      "execution_count": 11,
      "metadata": {
        "colab": {
          "base_uri": "https://localhost:8080/"
        },
        "id": "CPvHrtAm3r4f",
        "outputId": "ee66c076-0120-4ee1-ccdd-b86047d02ce6"
      },
      "outputs": [
        {
          "output_type": "stream",
          "name": "stdout",
          "text": [
            "1\n"
          ]
        }
      ],
      "source": [
        "class Solution(object):\n",
        "    def dominantIndex(self, nums):\n",
        "      ma = max(nums)\n",
        "      # print(ma)\n",
        "      ind = nums.index(ma)\n",
        "      # print(ind)\n",
        "      for i in range(len(nums)):\n",
        "        if i != ind and nums[i] > ma/2:\n",
        "          return -1\n",
        "      else:\n",
        "        return ind\n",
        "\n",
        "solution = Solution()\n",
        "nums = [3,6,1,0]\n",
        "print(solution.dominantIndex(nums))"
      ]
    },
    {
      "cell_type": "code",
      "source": [
        "\n",
        "class Solution(object):\n",
        "    def dominantIndex(self, nums):\n",
        "      ma = max(nums)\n",
        "      # print(ma)\n",
        "      ind = nums.index(ma)\n",
        "      # print(ind)\n",
        "      for i in nums:\n",
        "        if i != ma and i > ma/2:\n",
        "          return -1\n",
        "      else:\n",
        "        return nums.index(ma)\n",
        "\n",
        "solution = Solution()\n",
        "nums = [3,6,1,0]\n",
        "print(solution.dominantIndex(nums))"
      ],
      "metadata": {
        "colab": {
          "base_uri": "https://localhost:8080/"
        },
        "id": "4u-HvTYFEUeX",
        "outputId": "2e19f261-4960-4219-d1dd-a8ddbf453fcb"
      },
      "execution_count": 13,
      "outputs": [
        {
          "output_type": "stream",
          "name": "stdout",
          "text": [
            "1\n"
          ]
        }
      ]
    }
  ]
}