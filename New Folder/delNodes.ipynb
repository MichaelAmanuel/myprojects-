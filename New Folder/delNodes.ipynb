{
  "nbformat": 4,
  "nbformat_minor": 0,
  "metadata": {
    "colab": {
      "provenance": []
    },
    "kernelspec": {
      "name": "python3",
      "display_name": "Python 3"
    },
    "language_info": {
      "name": "python"
    }
  },
  "cells": [
    {
      "cell_type": "code",
      "execution_count": 4,
      "metadata": {
        "colab": {
          "base_uri": "https://localhost:8080/"
        },
        "id": "wJ3Y_sbyUKj2",
        "outputId": "79b2a3a5-d71a-4a90-8ac0-f9afd42dfb0e"
      },
      "outputs": [
        {
          "output_type": "stream",
          "name": "stdout",
          "text": [
            "3.25\n"
          ]
        }
      ],
      "source": [
        "# Definition for a binary tree node.\n",
        "class TreeNode(object):\n",
        "    def __init__(self, val=0, left=None, right=None):\n",
        "        self.val = val\n",
        "        self.left = left\n",
        "        self.right = right\n",
        "\n",
        "class Solution(object):\n",
        "    def delNodes(self, root, to_delete):\n",
        "        \"\"\"\n",
        "        :type root: TreeNode\n",
        "        :type to_delete: List[int]\n",
        "        :rtype: List[TreeNode]\n",
        "        \"\"\"\n",
        "        to_delete_set = set(to_delete)\n",
        "        remaining_roots = []\n",
        "\n",
        "        def dfs(node, is_root):\n",
        "            if not node:\n",
        "                return None\n",
        "            root_deleted = node.val in to_delete_set\n",
        "            if is_root and not root_deleted:\n",
        "                remaining_roots.append(node)\n",
        "            node.left = dfs(node.left, root_deleted)\n",
        "            node.right = dfs(node.right, root_deleted)\n",
        "            return None if root_deleted else node\n",
        "\n",
        "        dfs(root, True)\n",
        "        return remaining_roots\n",
        "\n",
        "# Example usage:\n",
        "def print_tree(root):\n",
        "    if not root:\n",
        "        return \"null\"\n",
        "    result = []\n",
        "    queue = [root]\n",
        "    while queue:\n",
        "        node = queue.pop(0)\n",
        "        if node:\n",
        "            result.append(node.val)\n",
        "            queue.append(node.left)\n",
        "            queue.append(node.right)\n",
        "        else:\n",
        "            result.append(\"null\")\n",
        "    while result and result[-1] == \"null\":\n",
        "        result.pop()\n",
        "    return result\n",
        "\n",
        "root = TreeNode(1)\n",
        "root.left = TreeNode(2)\n",
        "root.right = TreeNode(3)\n",
        "root.left.left = TreeNode(4)\n",
        "root.left.right = TreeNode(5)\n",
        "root.right.left = TreeNode(6)\n",
        "root.right.right = TreeNode(7)\n",
        "\n",
        "sol = Solution()\n",
        "to_delete = [3, 5]\n",
        "forest = sol.delNodes(root, to_delete)\n",
        "for tree in forest:\n",
        "    print(print_tree(tree))\n"
      ]
    }
  ]
}