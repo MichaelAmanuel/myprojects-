{
  "nbformat": 4,
  "nbformat_minor": 0,
  "metadata": {
    "colab": {
      "provenance": []
    },
    "kernelspec": {
      "name": "python3",
      "display_name": "Python 3"
    },
    "language_info": {
      "name": "python"
    }
  },
  "cells": [
    {
      "cell_type": "code",
      "source": [
        "class Solution(object):\n",
        "    def findErrorNums(self, nums):\n",
        "      num = sorted(nums)\n",
        "      # print(num)\n",
        "      new_nums = set(num)\n",
        "      out_put = list(set([item for item in num if num.count(item) > 1]))\n",
        "      for i in range(1, len(num)+1):\n",
        "        if i not in num:\n",
        "          out_put.append(i)\n",
        "\n",
        "      return out_put\n",
        "\n",
        "solution = Solution()\n",
        "nums = [4,2,1,4]\n",
        "print(solution.findErrorNums(nums))"
      ],
      "metadata": {
        "colab": {
          "base_uri": "https://localhost:8080/"
        },
        "id": "SmCf_kQWKiIM",
        "outputId": "42448827-b793-42a5-9c6f-68498b3fef5c"
      },
      "execution_count": 17,
      "outputs": [
        {
          "output_type": "stream",
          "name": "stdout",
          "text": [
            "[4, 3]\n"
          ]
        }
      ]
    }
  ]
}