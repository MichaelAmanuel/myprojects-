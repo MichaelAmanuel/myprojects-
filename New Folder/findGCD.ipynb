{
  "nbformat": 4,
  "nbformat_minor": 0,
  "metadata": {
    "colab": {
      "provenance": []
    },
    "kernelspec": {
      "name": "python3",
      "display_name": "Python 3"
    },
    "language_info": {
      "name": "python"
    }
  },
  "cells": [
    {
      "cell_type": "code",
      "execution_count": 8,
      "metadata": {
        "colab": {
          "base_uri": "https://localhost:8080/"
        },
        "id": "EPCOoax0My4u",
        "outputId": "b310469b-355a-4d13-9a06-fc96731f4ed8"
      },
      "outputs": [
        {
          "output_type": "stream",
          "name": "stdout",
          "text": [
            "12\n"
          ]
        }
      ],
      "source": [
        "class Solution(object):\n",
        "    def findGCD(self, nums):\n",
        "\n",
        "      mi = min(nums)\n",
        "      ma = max(nums)\n",
        "\n",
        "      if ma % mi == 0:\n",
        "        return mi\n",
        "\n",
        "      else:\n",
        "        for i in range(int(mi/2), 0, -1):\n",
        "          if mi % i == 0 and ma % i == 0:\n",
        "            return i\n",
        "\n",
        "solution = Solution()\n",
        "nums = [34,24,26,36,26,24,27,31,33,25]\n",
        "print(solution.findGCD(nums))"
      ]
    },
    {
      "cell_type": "code",
      "source": [
        "class Solution(object):\n",
        "    def findGCD(self, nums):\n",
        "\n",
        "\n",
        "      if max(nums) % min(nums) == 0:\n",
        "        return min(nums)\n",
        "\n",
        "      else:\n",
        "        for i in range(int(min(nums)/2), 0, -1):\n",
        "          if min(nums) % i == 0 and max(nums) % i == 0:\n",
        "            return i\n",
        "\n",
        "solution = Solution()\n",
        "nums = [34,24,26,36,26,24,27,31,33,25]\n",
        "print(solution.findGCD(nums))"
      ],
      "metadata": {
        "colab": {
          "base_uri": "https://localhost:8080/"
        },
        "id": "biaW87gR--vY",
        "outputId": "c75ba719-2580-41d2-b79d-c1dabdc5cef2"
      },
      "execution_count": 10,
      "outputs": [
        {
          "output_type": "stream",
          "name": "stdout",
          "text": [
            "12\n"
          ]
        }
      ]
    }
  ]
}