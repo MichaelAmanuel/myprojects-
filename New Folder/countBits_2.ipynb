{
  "nbformat": 4,
  "nbformat_minor": 0,
  "metadata": {
    "colab": {
      "provenance": []
    },
    "kernelspec": {
      "name": "python3",
      "display_name": "Python 3"
    },
    "language_info": {
      "name": "python"
    }
  },
  "cells": [
    {
      "cell_type": "code",
      "execution_count": null,
      "metadata": {
        "id": "f34VwZK9egkn"
      },
      "outputs": [],
      "source": [
        "class Solution(object):\n",
        "    def countBits(self, n):\n",
        "      out_put = []\n",
        "      for i in range(n+1):\n",
        "        answer = (bin(i)[2:])\n",
        "        out_put.append(int(answer.count('1')))\n",
        "\n",
        "      return out_put\n",
        "\n",
        "solution = Solution()\n",
        "n = 5\n",
        "print(solution.countBits(n))"
      ]
    }
  ]
}