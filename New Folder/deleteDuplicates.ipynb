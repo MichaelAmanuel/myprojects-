{
  "nbformat": 4,
  "nbformat_minor": 0,
  "metadata": {
    "colab": {
      "provenance": []
    },
    "kernelspec": {
      "name": "python3",
      "display_name": "Python 3"
    },
    "language_info": {
      "name": "python"
    }
  },
  "cells": [
    {
      "cell_type": "code",
      "execution_count": null,
      "metadata": {
        "id": "4gaJwrO-2ZQd"
      },
      "outputs": [],
      "source": [
        "class ListNode(object):\n",
        "    def __init__(self, val=0, next=None):\n",
        "        self.val = val\n",
        "        self.next = next\n",
        "\n",
        "class Solution(object):\n",
        "    def deleteDuplicates(self, head):\n",
        "        \"\"\"\n",
        "        :type head: ListNode\n",
        "        :rtype: ListNode\n",
        "        \"\"\"\n",
        "        current = head\n",
        "        while current and current.next:\n",
        "            if current.val == current.next.val:\n",
        "                current.next = current.next.next\n",
        "            else:\n",
        "                current = current.next\n",
        "        return head\n",
        "\n",
        "# Helper function to create a linked list from a list\n",
        "def create_linked_list(lst):\n",
        "    if not lst:\n",
        "        return None\n",
        "    head = ListNode(lst[0])\n",
        "    current = head\n",
        "    for value in lst[1:]:\n",
        "        current.next = ListNode(value)\n",
        "        current = current.next\n",
        "    return head\n",
        "\n",
        "# Helper function to convert linked list to a list\n",
        "def linked_list_to_list(head):\n",
        "    lst = []\n",
        "    current = head\n",
        "    while current:\n",
        "        lst.append(current.val)\n",
        "        current = current.next\n",
        "    return lst\n",
        "\n",
        "# Example usage\n",
        "solution = Solution()\n",
        "head = create_linked_list([1, 1, 2])\n",
        "new_head = solution.deleteDuplicates(head)\n",
        "print(linked_list_to_list(new_head))  # Output: [1, 2]"
      ]
    }
  ]
}