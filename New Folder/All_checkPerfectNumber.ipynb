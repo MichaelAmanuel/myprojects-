{
  "nbformat": 4,
  "nbformat_minor": 0,
  "metadata": {
    "colab": {
      "provenance": []
    },
    "kernelspec": {
      "name": "python3",
      "display_name": "Python 3"
    },
    "language_info": {
      "name": "python"
    }
  },
  "cells": [
    {
      "cell_type": "code",
      "execution_count": 1,
      "metadata": {
        "colab": {
          "base_uri": "https://localhost:8080/"
        },
        "id": "vVLfV6YbjXUp",
        "outputId": "11c9c1d2-9b65-45c0-8697-a08845a238da"
      },
      "outputs": [
        {
          "output_type": "stream",
          "name": "stdout",
          "text": [
            "False\n"
          ]
        }
      ],
      "source": [
        "class Solution(object):\n",
        "    def checkPerfectNumber(self, n):\n",
        "\n",
        "        if n <= 1:\n",
        "            return False\n",
        "        half = int(n/2)\n",
        "\n",
        "        fac = []\n",
        "        for i in range(2,half+1):\n",
        "          if n % i==0 and i not in fac:\n",
        "            m = n // i\n",
        "            if m not in fac:\n",
        "              fac.append(i)\n",
        "              fac.append(m)\n",
        "            else:\n",
        "              break\n",
        "\n",
        "        return True if (sum(fac) + 1) == n else False\n",
        "\n",
        "solution_instance = Solution()\n",
        "num = 99999991\n",
        "result = solution_instance.checkPerfectNumber(num)\n",
        "print(result)"
      ]
    },
    {
      "cell_type": "code",
      "source": [
        "class Solution(object):\n",
        "    def checkPerfectNumber(self, n):\n",
        "\n",
        "        if n <= 1:\n",
        "            return False\n",
        "        half = int(n/2)\n",
        "        qurater = int(n/4)\n",
        "        # print(qurater)\n",
        "\n",
        "        fac = []\n",
        "        for i, j in zip(range(1, qurater + 1), range(qurater, half + 1)):\n",
        "\n",
        "          if n % i == 0:\n",
        "            fac.append(i)\n",
        "          elif n % j == 0:\n",
        "            fac.append(j)\n",
        "\n",
        "          return sum(fac)\n",
        "\n",
        "\n",
        "solution_instance = Solution()\n",
        "num = 28\n",
        "result = solution_instance.checkPerfectNumber(num)\n",
        "print(result)"
      ],
      "metadata": {
        "colab": {
          "base_uri": "https://localhost:8080/"
        },
        "id": "dOStke1Lj3q2",
        "outputId": "6562b343-8405-46df-f768-3bae503bb742"
      },
      "execution_count": null,
      "outputs": [
        {
          "output_type": "stream",
          "name": "stdout",
          "text": [
            "1\n"
          ]
        }
      ]
    },
    {
      "cell_type": "code",
      "source": [],
      "metadata": {
        "id": "a0ECyx7aj9d5"
      },
      "execution_count": null,
      "outputs": []
    }
  ]
}