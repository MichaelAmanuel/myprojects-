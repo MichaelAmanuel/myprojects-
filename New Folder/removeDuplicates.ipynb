{
  "nbformat": 4,
  "nbformat_minor": 0,
  "metadata": {
    "colab": {
      "provenance": []
    },
    "kernelspec": {
      "name": "python3",
      "display_name": "Python 3"
    },
    "language_info": {
      "name": "python"
    }
  },
  "cells": [
    {
      "cell_type": "code",
      "execution_count": 4,
      "metadata": {
        "colab": {
          "base_uri": "https://localhost:8080/"
        },
        "id": "Ep8mAAuur5dm",
        "outputId": "6fa3de30-85c8-4a51-9baa-103eeedb36cf"
      },
      "outputs": [
        {
          "output_type": "stream",
          "name": "stdout",
          "text": [
            "5\n"
          ]
        }
      ],
      "source": [
        "class Solution(object):\n",
        "  def removeDuplicates(self, nums):\n",
        "      if not nums:\n",
        "          return 0\n",
        "\n",
        "      slow = 0\n",
        "      for fast in range(1, len(nums)):\n",
        "          if nums[fast] != nums[slow]:\n",
        "              slow += 1\n",
        "              nums[slow] = nums[fast]\n",
        "\n",
        "      return slow + 1\n",
        "\n",
        "solution = Solution()\n",
        "nums = [0, 0, 1, 1, 1, 2, 2, 3, 3, 4]\n",
        "print(solution.removeDuplicates(nums))\n"
      ]
    },
    {
      "cell_type": "code",
      "source": [],
      "metadata": {
        "id": "Yr7L2QvBv2nz"
      },
      "execution_count": null,
      "outputs": []
    }
  ]
}