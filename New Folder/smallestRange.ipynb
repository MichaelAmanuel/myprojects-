{
  "nbformat": 4,
  "nbformat_minor": 0,
  "metadata": {
    "colab": {
      "provenance": []
    },
    "kernelspec": {
      "name": "python3",
      "display_name": "Python 3"
    },
    "language_info": {
      "name": "python"
    }
  },
  "cells": [
    {
      "cell_type": "code",
      "execution_count": null,
      "metadata": {
        "id": "kQjWvHzXch44"
      },
      "outputs": [],
      "source": [
        "import heapq\n",
        "\n",
        "class Solution(object):\n",
        "    def smallestRange(self, nums):\n",
        "        min_heap = []\n",
        "        max_val = float('-inf')\n",
        "        for i in range(len(nums)):\n",
        "            heapq.heappush(min_heap, (nums[i][0], i, 0))\n",
        "            max_val = max(max_val, nums[i][0])\n",
        "\n",
        "        result = [-float('inf'), float('inf')]\n",
        "\n",
        "        while min_heap:\n",
        "            min_val, list_idx, element_idx = heapq.heappop(min_heap)\n",
        "\n",
        "            if max_val - min_val < result[1] - result[0]:\n",
        "                result = [min_val, max_val]\n",
        "\n",
        "            if element_idx + 1 == len(nums[list_idx]):\n",
        "                break\n",
        "\n",
        "            next_val = nums[list_idx][element_idx + 1]\n",
        "            heapq.heappush(min_heap, (next_val, list_idx, element_idx + 1))\n",
        "            max_val = max(max_val, next_val)\n",
        "\n",
        "        return result\n"
      ]
    }
  ]
}