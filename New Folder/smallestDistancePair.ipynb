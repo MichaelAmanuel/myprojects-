{
  "nbformat": 4,
  "nbformat_minor": 0,
  "metadata": {
    "colab": {
      "provenance": []
    },
    "kernelspec": {
      "name": "python3",
      "display_name": "Python 3"
    },
    "language_info": {
      "name": "python"
    }
  },
  "cells": [
    {
      "cell_type": "code",
      "execution_count": null,
      "metadata": {
        "id": "kQjWvHzXch44",
        "colab": {
          "base_uri": "https://localhost:8080/"
        },
        "outputId": "d2501bef-d495-4ef1-bd7d-671e37c016d1"
      },
      "outputs": [
        {
          "output_type": "stream",
          "name": "stdout",
          "text": [
            "5\n",
            "12\n",
            "24\n"
          ]
        }
      ],
      "source": [
        "class Solution(object):\n",
        "    def smallestDistancePair(self, nums, k):\n",
        "        nums.sort()\n",
        "        n = len(nums)\n",
        "\n",
        "        def count_pairs(x):\n",
        "            count = 0\n",
        "            left = 0\n",
        "            for right in range(n):\n",
        "                while nums[right] - nums[left] > x:\n",
        "                    left += 1\n",
        "                count += right - left\n",
        "            return count\n",
        "\n",
        "        low, high = 0, nums[-1] - nums[0]\n",
        "        while low < high:\n",
        "            mid = (low + high) // 2\n",
        "            if count_pairs(mid) < k:\n",
        "                low = mid + 1\n",
        "            else:\n",
        "                high = mid\n",
        "        return low\n",
        "\n",
        "solution = Solution()\n",
        "\n",
        "nums1 = [1, 3, 1]\n",
        "k1 = 1\n",
        "print(solution.smallestDistancePair(nums1, k1))"
      ]
    }
  ]
}