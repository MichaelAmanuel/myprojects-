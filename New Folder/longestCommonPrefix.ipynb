{
  "nbformat": 4,
  "nbformat_minor": 0,
  "metadata": {
    "colab": {
      "provenance": []
    },
    "kernelspec": {
      "name": "python3",
      "display_name": "Python 3"
    },
    "language_info": {
      "name": "python"
    }
  },
  "cells": [
    {
      "cell_type": "code",
      "execution_count": null,
      "metadata": {
        "id": "YOC_zBC4T9XI"
      },
      "outputs": [],
      "source": [
        "class Solution(object):\n",
        "    def longestCommonPrefix(self, strs):\n",
        "        out_put = ''\n",
        "        # if len(strs[0]) != len(strs[1]):\n",
        "\n",
        "        for i , j in zip(strs[0], strs[1]):\n",
        "            if i == j:\n",
        "                out_put += i\n",
        "\n",
        "        if len(out_put) == 0:\n",
        "            return out_put\n",
        "\n",
        "        o_p = ''\n",
        "        for m, l in zip(out_put, strs[2]):\n",
        "            if m == l:\n",
        "                o_p += m\n",
        "        return o_p\n",
        "\n",
        "solution = Solution()\n",
        "strs = [\"car\",\"flow\",\"flight\"]\n",
        "print(solution.longestCommonPrefix(strs))"
      ]
    }
  ]
}