{
  "nbformat": 4,
  "nbformat_minor": 0,
  "metadata": {
    "colab": {
      "provenance": []
    },
    "kernelspec": {
      "name": "python3",
      "display_name": "Python 3"
    },
    "language_info": {
      "name": "python"
    }
  },
  "cells": [
    {
      "cell_type": "code",
      "execution_count": null,
      "metadata": {
        "id": "81AcS9ZqK4_p"
      },
      "outputs": [],
      "source": [
        "class Solution(object):\n",
        "    def minDays(self, bloomDay, m, k):\n",
        "\n",
        "        if m * k > len(bloomDay):\n",
        "            return -1\n",
        "\n",
        "        def canMakeBouquets(days):\n",
        "            bouquets = 0\n",
        "            flowers = 0\n",
        "            for bloom in bloomDay:\n",
        "                if bloom <= days:\n",
        "                    flowers += 1\n",
        "                    if flowers == k:\n",
        "                        bouquets += 1\n",
        "                        flowers = 0\n",
        "                else:\n",
        "                    flowers = 0\n",
        "                if bouquets >= m:\n",
        "                    return True\n",
        "            return False\n",
        "\n",
        "        left, right = min(bloomDay), max(bloomDay)\n",
        "        while left < right:\n",
        "            mid = (left + right) // 2\n",
        "            if canMakeBouquets(mid):\n",
        "                right = mid\n",
        "            else:\n",
        "                left = mid + 1\n",
        "        return left\n",
        "\n",
        "solution = Solution()\n",
        "bloomDay = [1, 10, 3, 10, 2]\n",
        "m = 3\n",
        "k = 1\n",
        "print(solution.minDays(bloomDay, m, k))\n"
      ]
    }
  ]
}