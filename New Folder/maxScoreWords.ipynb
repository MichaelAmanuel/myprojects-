{
  "nbformat": 4,
  "nbformat_minor": 0,
  "metadata": {
    "colab": {
      "provenance": []
    },
    "kernelspec": {
      "name": "python3",
      "display_name": "Python 3"
    },
    "language_info": {
      "name": "python"
    }
  },
  "cells": [
    {
      "cell_type": "code",
      "execution_count": 2,
      "metadata": {
        "colab": {
          "base_uri": "https://localhost:8080/"
        },
        "id": "IN2QQAExK-Ja",
        "outputId": "61e715c9-bca4-4cde-bc92-a82b80ba1598"
      },
      "outputs": [
        {
          "output_type": "stream",
          "name": "stdout",
          "text": [
            "23\n"
          ]
        }
      ],
      "source": [
        "from collections import Counter\n",
        "\n",
        "class Solution(object):\n",
        "    def maxScoreWords(self, words, letters, score):\n",
        "\n",
        "        def backtrack(index, current_score, letter_count):\n",
        "            nonlocal max_score\n",
        "            if index == len(words):\n",
        "                max_score = max(max_score, current_score)\n",
        "                return\n",
        "\n",
        "            backtrack(index + 1, current_score, letter_count)\n",
        "\n",
        "            word_count = Counter(words[index])\n",
        "            if all(letter_count[c] >= word_count[c] for c in word_count):\n",
        "                new_letter_count = letter_count - word_count\n",
        "                word_score = sum(score[ord(c) - ord('a')] * word_count[c] for c in word_count)\n",
        "                backtrack(index + 1, current_score + word_score, new_letter_count)\n",
        "\n",
        "        letter_count = Counter(letters)\n",
        "        max_score = 0\n",
        "        backtrack(0, 0, letter_count)\n",
        "        return max_score\n",
        "\n",
        "\n",
        "solution = Solution()\n",
        "words = [\"dog\", \"cat\", \"dad\", \"good\"]\n",
        "letters = [\"a\", \"a\", \"c\", \"d\", \"d\", \"d\", \"g\", \"o\", \"o\"]\n",
        "score = [1,0,9,5,0,0,3,0,0,0,0,0,0,0,2,0,0,0,0,0,0,0,0,0,0,0]\n",
        "result = solution.maxScoreWords(words, letters, score)\n",
        "print(result)\n"
      ]
    }
  ]
}