{
  "nbformat": 4,
  "nbformat_minor": 0,
  "metadata": {
    "colab": {
      "provenance": []
    },
    "kernelspec": {
      "name": "python3",
      "display_name": "Python 3"
    },
    "language_info": {
      "name": "python"
    }
  },
  "cells": [
    {
      "cell_type": "code",
      "execution_count": 1,
      "metadata": {
        "id": "kQjWvHzXch44"
      },
      "outputs": [],
      "source": [
        "class Solution(object):\n",
        "    def splitListToParts(self, head, k):\n",
        "        length = 0\n",
        "        temp = head\n",
        "        while temp:\n",
        "            length += 1\n",
        "            temp = temp.next\n",
        "\n",
        "        part_size, extra_nodes = divmod(length, k)\n",
        "        result = []\n",
        "        current = head\n",
        "\n",
        "        for i in range(k):\n",
        "            part_head = current\n",
        "            part_length = part_size + (1 if i < extra_nodes else 0)\n",
        "            for j in range(part_length - 1):\n",
        "                if current:\n",
        "                    current = current.next\n",
        "            if current:\n",
        "                next_part = current.next\n",
        "                current.next = None\n",
        "                current = next_part\n",
        "            result.append(part_head)\n",
        "\n",
        "        return result\n"
      ]
    },
    {
      "cell_type": "code",
      "source": [],
      "metadata": {
        "id": "6FcGHhRC-DGY"
      },
      "execution_count": null,
      "outputs": []
    }
  ]
}