{
  "nbformat": 4,
  "nbformat_minor": 0,
  "metadata": {
    "colab": {
      "provenance": []
    },
    "kernelspec": {
      "name": "python3",
      "display_name": "Python 3"
    },
    "language_info": {
      "name": "python"
    }
  },
  "cells": [
    {
      "cell_type": "code",
      "execution_count": null,
      "metadata": {
        "id": "0QPsREAiu2bq"
      },
      "outputs": [],
      "source": [
        "class Solution(object):\n",
        "    def numSteps(self, s):\n",
        "        steps = 0\n",
        "\n",
        "        while s != '1':\n",
        "            if s[-1] == '0':\n",
        "                s = s[:-1]\n",
        "            else:\n",
        "                s = self.addOne(s)\n",
        "            steps += 1\n",
        "\n",
        "        return steps\n",
        "\n",
        "    def addOne(self, s):\n",
        "        s = list(s)\n",
        "        carry = 1\n",
        "        for i in range(len(s) - 1, -1, -1):\n",
        "            if carry == 0:\n",
        "                break\n",
        "            if s[i] == '0':\n",
        "                s[i] = '1'\n",
        "                carry = 0\n",
        "            else:\n",
        "                s[i] = '0'\n",
        "\n",
        "        if carry == 1:\n",
        "            s.insert(0, '1')\n",
        "\n",
        "        return ''.join(s)\n",
        "\n",
        "solution = Solution()\n",
        "s = \"1101\"\n",
        "result = solution.numSteps(s)\n",
        "print(result)\n"
      ]
    }
  ]
}