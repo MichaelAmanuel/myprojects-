{
  "nbformat": 4,
  "nbformat_minor": 0,
  "metadata": {
    "colab": {
      "provenance": []
    },
    "kernelspec": {
      "name": "python3",
      "display_name": "Python 3"
    },
    "language_info": {
      "name": "python"
    }
  },
  "cells": [
    {
      "cell_type": "code",
      "execution_count": 1,
      "metadata": {
        "id": "kQjWvHzXch44"
      },
      "outputs": [],
      "source": [
        "import heapq\n",
        "\n",
        "class Solution(object):\n",
        "    def maxAverageRatio(self, classes, extraStudents):\n",
        "        heap = []\n",
        "        for passed, total in classes:\n",
        "            gain = (passed + 1) / (total + 1) - passed / total\n",
        "            heapq.heappush(heap, (-gain, passed, total))\n",
        "\n",
        "        for _ in range(extraStudents):\n",
        "            gain, passed, total = heapq.heappop(heap)\n",
        "            passed += 1\n",
        "            total += 1\n",
        "            new_gain = (passed + 1) / (total + 1) - passed / total\n",
        "            heapq.heappush(heap, (-new_gain, passed, total))\n",
        "\n",
        "        return sum(passed / total for _, passed, total in heap) / len(classes)\n"
      ]
    },
    {
      "cell_type": "code",
      "source": [
        "import heapq\n",
        "\n",
        "class Solution(object):\n",
        "    def maxAverageRatio(self, classes, extraStudents):\n",
        "        heap = []\n",
        "        for passi, totali in classes:\n",
        "            gain = (passi + 1) / (totali + 1) - passi / totali\n",
        "            heapq.heappush(heap, (-gain, passi, totali))\n",
        "\n",
        "        for _ in range(extraStudents):\n",
        "            gain, passi, totali = heapq.heappop(heap)\n",
        "            passi += 1\n",
        "            totali += 1\n",
        "            new_gain = (passi + 1) / (totali + 1) - passi / totali\n",
        "            heapq.heappush(heap, (-new_gain, passi, totali))\n",
        "\n",
        "        return sum(passi / totali for _, passi, totali in heap) / len(classes)\n"
      ],
      "metadata": {
        "id": "PekbEC4RKOHK"
      },
      "execution_count": null,
      "outputs": []
    }
  ]
}