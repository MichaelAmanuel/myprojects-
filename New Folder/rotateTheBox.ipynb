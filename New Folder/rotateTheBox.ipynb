{
  "nbformat": 4,
  "nbformat_minor": 0,
  "metadata": {
    "colab": {
      "provenance": []
    },
    "kernelspec": {
      "name": "python3",
      "display_name": "Python 3"
    },
    "language_info": {
      "name": "python"
    }
  },
  "cells": [
    {
      "cell_type": "code",
      "execution_count": null,
      "metadata": {
        "id": "kQjWvHzXch44",
        "colab": {
          "base_uri": "https://localhost:8080/"
        },
        "outputId": "b3d22a1b-b78b-4e2c-8b8c-04590b83ce94"
      },
      "outputs": [
        {
          "output_type": "stream",
          "name": "stdout",
          "text": [
            "7\n"
          ]
        }
      ],
      "source": [
        "class Solution(object):\n",
        "    def rotateTheBox(self, box):\n",
        "        m, n = len(box), len(box[0])\n",
        "        result = [['.'] * m for _ in range(n)]\n",
        "\n",
        "        for i in range(m):\n",
        "            write_index = n - 1\n",
        "            for j in range(n - 1, -1, -1):\n",
        "                if box[i][j] == '*':\n",
        "                    write_index = j - 1\n",
        "                elif box[i][j] == '#':\n",
        "                    box[i][j] = '.'\n",
        "                    box[i][write_index] = '#'\n",
        "                    write_index -= 1\n",
        "\n",
        "        for i in range(m):\n",
        "            for j in range(n):\n",
        "                result[j][m - 1 - i] = box[i][j]\n",
        "\n",
        "        return result\n"
      ]
    }
  ]
}