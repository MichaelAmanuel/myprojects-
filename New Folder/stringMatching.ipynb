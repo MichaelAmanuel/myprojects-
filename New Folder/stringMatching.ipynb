{
  "nbformat": 4,
  "nbformat_minor": 0,
  "metadata": {
    "colab": {
      "provenance": []
    },
    "kernelspec": {
      "name": "python3",
      "display_name": "Python 3"
    },
    "language_info": {
      "name": "python"
    }
  },
  "cells": [
    {
      "cell_type": "code",
      "execution_count": null,
      "metadata": {
        "id": "kQjWvHzXch44",
        "colab": {
          "base_uri": "https://localhost:8080/"
        },
        "outputId": "50e14a69-7a1a-437e-be44-e1ade4c7db4d"
      },
      "outputs": [
        {
          "output_type": "stream",
          "name": "stdout",
          "text": [
            "zzcacc\n",
            "bbab\n"
          ]
        }
      ],
      "source": [
        "class Solution(object):\n",
        "    def stringMatching(self, words):\n",
        "        result = []\n",
        "        for i, word in enumerate(words):\n",
        "            for j, other_word in enumerate(words):\n",
        "                if i != j and word in other_word:\n",
        "                    result.append(word)\n",
        "                    break\n",
        "        return result\n"
      ]
    }
  ]
}