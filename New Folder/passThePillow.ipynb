{
  "nbformat": 4,
  "nbformat_minor": 0,
  "metadata": {
    "colab": {
      "provenance": []
    },
    "kernelspec": {
      "name": "python3",
      "display_name": "Python 3"
    },
    "language_info": {
      "name": "python"
    }
  },
  "cells": [
    {
      "cell_type": "code",
      "execution_count": null,
      "metadata": {
        "colab": {
          "base_uri": "https://localhost:8080/"
        },
        "id": "Oy_UAcuqghQs",
        "outputId": "f751a92a-a145-4077-d1d6-a0ea036aede5"
      },
      "outputs": [
        {
          "output_type": "stream",
          "name": "stdout",
          "text": [
            "0\n"
          ]
        }
      ],
      "source": [
        "class Solution:\n",
        "    def passThePillow(self, n, time):\n",
        "        time = time % (2 * (n - 1))\n",
        "        if time < n:\n",
        "            return time + 1\n",
        "        else:\n",
        "            return 2 * n - time - 1\n",
        "\n",
        "# Example usage:\n",
        "solution = Solution()\n",
        "print(solution.passThePillow(4, 5))"
      ]
    }
  ]
}