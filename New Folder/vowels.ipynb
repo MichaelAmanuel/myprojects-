{
  "nbformat": 4,
  "nbformat_minor": 0,
  "metadata": {
    "colab": {
      "provenance": []
    },
    "kernelspec": {
      "name": "python3",
      "display_name": "Python 3"
    },
    "language_info": {
      "name": "python"
    }
  },
  "cells": [
    {
      "cell_type": "code",
      "execution_count": null,
      "metadata": {
        "id": "3sDVuPL37p1k"
      },
      "outputs": [],
      "source": [
        "vowels = ['a', 'e', 'i', 'o', 'u']\n",
        "\n",
        "s = \"hello\"\n",
        "ss = ''\n",
        "for i in range(len(s)):\n",
        "    if s[i] in vowels:\n",
        "        for i in range(len(s)-1, -1, -1):\n",
        "            if s[i] in vowels:\n",
        "                ss += s[i]\n",
        "            break\n",
        "\n",
        "    else:\n",
        "        ss += s[i]\n",
        "\n",
        "print(ss)\n"
      ]
    }
  ]
}