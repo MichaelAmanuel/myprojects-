{
  "nbformat": 4,
  "nbformat_minor": 0,
  "metadata": {
    "colab": {
      "provenance": []
    },
    "kernelspec": {
      "name": "python3",
      "display_name": "Python 3"
    },
    "language_info": {
      "name": "python"
    }
  },
  "cells": [
    {
      "cell_type": "code",
      "execution_count": 2,
      "metadata": {
        "colab": {
          "base_uri": "https://localhost:8080/"
        },
        "id": "Je8yUeqFfDk4",
        "outputId": "1e2ae393-2d88-45a7-f245-f10e55c6e037"
      },
      "outputs": [
        {
          "output_type": "stream",
          "name": "stdout",
          "text": [
            "0\n"
          ]
        }
      ],
      "source": [
        "class Solution(object):\n",
        "  def countStudents(self, students, sandwiches):\n",
        "    circular_count = students.count(0)\n",
        "    square_count = students.count(1)\n",
        "\n",
        "    for sandwich in sandwiches:\n",
        "        if sandwich == 0:\n",
        "            if circular_count == 0:\n",
        "                break\n",
        "            circular_count -= 1\n",
        "        else:\n",
        "            if square_count == 0:\n",
        "                break\n",
        "            square_count -= 1\n",
        "\n",
        "    return circular_count + square_count\n",
        "\n",
        "solution = Solution()\n",
        "students = [1, 1, 0, 0]\n",
        "sandwiches = [0, 1, 0, 1]\n",
        "print(solution.countStudents(students, sandwiches))"
      ]
    }
  ]
}