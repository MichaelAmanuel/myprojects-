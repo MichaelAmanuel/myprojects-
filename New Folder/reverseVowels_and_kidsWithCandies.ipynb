{
  "nbformat": 4,
  "nbformat_minor": 0,
  "metadata": {
    "colab": {
      "provenance": []
    },
    "kernelspec": {
      "name": "python3",
      "display_name": "Python 3"
    },
    "language_info": {
      "name": "python"
    }
  },
  "cells": [
    {
      "cell_type": "code",
      "execution_count": 15,
      "metadata": {
        "colab": {
          "base_uri": "https://localhost:8080/"
        },
        "id": "3sDVuPL37p1k",
        "outputId": "f4c45f8c-fac0-41cd-cf7d-c7319c8dd539"
      },
      "outputs": [
        {
          "output_type": "stream",
          "name": "stdout",
          "text": [
            "Aa\n"
          ]
        }
      ],
      "source": [
        "class Solution(object):\n",
        "    def reverseVowels(self, s):\n",
        "\n",
        "      vowels = ['a', 'e', 'i', 'o', 'u', 'A', 'E', 'I', 'O', 'U']\n",
        "\n",
        "      ss = ''\n",
        "      l = len(s) - 1\n",
        "      for i in range(len(s)):\n",
        "          if s[i] in vowels:\n",
        "              for j in range(l, -1, -1):\n",
        "                  if s[j] in vowels:\n",
        "                      ss += s[j]\n",
        "                      l -= 1\n",
        "                      break\n",
        "                  else:\n",
        "                    l -= 1\n",
        "\n",
        "          else:\n",
        "              ss += s[i]\n",
        "\n",
        "      return ss\n",
        "\n",
        "solution = Solution()\n",
        "s = \"aA\"\n",
        "\n",
        "print(solution.reverseVowels(s))"
      ]
    },
    {
      "cell_type": "code",
      "source": [
        "class Solution(object):\n",
        "    def kidsWithCandies(self, candies, extraCandies):\n",
        "      max_cand = max(candies)\n",
        "      min_cand = []\n",
        "\n",
        "      for i in candies:\n",
        "        if (i + extraCandies) >= max_cand:\n",
        "          min_cand.append(True)\n",
        "\n",
        "        else:\n",
        "          min_cand.append(False)\n",
        "\n",
        "      return min_cand\n",
        "\n",
        "solution = Solution()\n",
        "candies = [2,3,5,1,3]\n",
        "extraCandies = 3\n",
        "print(solution.kidsWithCandies(candies, extraCandies))"
      ],
      "metadata": {
        "colab": {
          "base_uri": "https://localhost:8080/"
        },
        "id": "bF5XZV-cQLiX",
        "outputId": "05e07ec4-fc95-4b48-fd3a-e9e1e7c99a1c"
      },
      "execution_count": 25,
      "outputs": [
        {
          "output_type": "stream",
          "name": "stdout",
          "text": [
            "[True, True, True, False, True]\n"
          ]
        }
      ]
    }
  ]
}