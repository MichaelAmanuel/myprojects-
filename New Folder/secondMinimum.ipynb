{
  "nbformat": 4,
  "nbformat_minor": 0,
  "metadata": {
    "colab": {
      "provenance": []
    },
    "kernelspec": {
      "name": "python3",
      "display_name": "Python 3"
    },
    "language_info": {
      "name": "python"
    }
  },
  "cells": [
    {
      "cell_type": "code",
      "execution_count": 8,
      "metadata": {
        "id": "kQjWvHzXch44",
        "colab": {
          "base_uri": "https://localhost:8080/"
        },
        "outputId": "bf32240a-7d1d-4eb7-bcd0-d48efd3078cf"
      },
      "outputs": [
        {
          "output_type": "stream",
          "name": "stdout",
          "text": [
            "19\n",
            "15\n"
          ]
        }
      ],
      "source": [
        "import heapq\n",
        "\n",
        "class Solution:\n",
        "    def secondMinimum(self, n, edges, time, change):\n",
        "        graph = [[] for _ in range(n + 1)]\n",
        "        for u, v in edges:\n",
        "            graph[u].append(v)\n",
        "            graph[v].append(u)\n",
        "\n",
        "        dist1 = [float('inf')] * (n + 1)\n",
        "        dist2 = [float('inf')] * (n + 1)\n",
        "        dist1[1] = 0\n",
        "        pq = [(0, 1)]\n",
        "\n",
        "        while pq:\n",
        "            curr_time, node = heapq.heappop(pq)\n",
        "\n",
        "            for neighbor in graph[node]:\n",
        "                new_time = curr_time + time\n",
        "\n",
        "                if (curr_time // change) % 2 == 1:\n",
        "                    new_time = ((curr_time // change) + 1) * change\n",
        "\n",
        "                new_time += time\n",
        "\n",
        "                if new_time < dist1[neighbor]:\n",
        "                    dist2[neighbor] = dist1[neighbor]\n",
        "                    dist1[neighbor] = new_time\n",
        "                    heapq.heappush(pq, (new_time, neighbor))\n",
        "                elif dist1[neighbor] < new_time < dist2[neighbor]:\n",
        "                    dist2[neighbor] = new_time\n",
        "                    heapq.heappush(pq, (new_time, neighbor))\n",
        "\n",
        "        return dist2[n] if dist2[n] != float('inf') else -1\n",
        "\n",
        "# Example usage\n",
        "solution = Solution()\n",
        "\n",
        "n1 = 5\n",
        "edges1 = [[1,2],[1,3],[1,4],[3,4],[4,5]]\n",
        "time1 = 3\n",
        "change1 = 5\n",
        "print(solution.secondMinimum(n1, edges1, time1, change1))  # Output: 13\n",
        "\n",
        "n2 = 2\n",
        "edges2 = [[1,2]]\n",
        "time2 = 3\n",
        "change2 = 2\n",
        "print(solution.secondMinimum(n2, edges2, time2, change2))  # Output: 11\n"
      ]
    }
  ]
}