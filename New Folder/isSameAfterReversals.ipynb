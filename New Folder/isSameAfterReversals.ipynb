{
  "nbformat": 4,
  "nbformat_minor": 0,
  "metadata": {
    "colab": {
      "provenance": []
    },
    "kernelspec": {
      "name": "python3",
      "display_name": "Python 3"
    },
    "language_info": {
      "name": "python"
    }
  },
  "cells": [
    {
      "cell_type": "code",
      "execution_count": 1,
      "metadata": {
        "id": "SZMO_UCu-I4s",
        "outputId": "a159576f-bf72-48a9-8f43-d2e20c6f18fa",
        "colab": {
          "base_uri": "https://localhost:8080/"
        }
      },
      "outputs": [
        {
          "output_type": "stream",
          "name": "stdout",
          "text": [
            "False\n"
          ]
        }
      ],
      "source": [
        "class Solution(object):\n",
        "    def isSameAfterReversals(self, num):\n",
        "        n = 0\n",
        "        nums = num\n",
        "        while num > 0:\n",
        "            dig = num % 10\n",
        "            n = n * 10 + dig\n",
        "            num = num // 10\n",
        "\n",
        "        m = ''.join(reversed(str(n)))\n",
        "\n",
        "        return True if int(m) == nums else False\n",
        "\n",
        "solution = Solution()\n",
        "num = 1800\n",
        "print(solution.isSameAfterReversals(num))"
      ]
    }
  ]
}