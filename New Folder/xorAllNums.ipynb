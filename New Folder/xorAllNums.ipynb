{
  "nbformat": 4,
  "nbformat_minor": 0,
  "metadata": {
    "colab": {
      "provenance": []
    },
    "kernelspec": {
      "name": "python3",
      "display_name": "Python 3"
    },
    "language_info": {
      "name": "python"
    }
  },
  "cells": [
    {
      "cell_type": "code",
      "execution_count": null,
      "metadata": {
        "id": "kQjWvHzXch44",
        "colab": {
          "base_uri": "https://localhost:8080/"
        },
        "outputId": "792b0e92-1d98-4286-aafa-efc6fbfae2a7"
      },
      "outputs": [
        {
          "output_type": "stream",
          "name": "stdout",
          "text": [
            "9\n"
          ]
        }
      ],
      "source": [
        "class Solution(object):\n",
        "    def xorAllNums(self, nums1, nums2):\n",
        "        xor1, xor2 = 0, 0\n",
        "\n",
        "        for num in nums1:\n",
        "            xor1 ^= num\n",
        "        for num in nums2:\n",
        "            xor2 ^= num\n",
        "\n",
        "        result = 0\n",
        "        if len(nums2) % 2 != 0:\n",
        "            result ^= xor1\n",
        "        if len(nums1) % 2 != 0:\n",
        "            result ^= xor2\n",
        "\n",
        "        return result\n",
        "\n",
        "# Test case\n",
        "solution = Solution()\n",
        "print(solution.xorAllNums([2, 1, 3], [10, 2, 5, 0]))  # Output: 13\n"
      ]
    }
  ]
}