{
  "nbformat": 4,
  "nbformat_minor": 0,
  "metadata": {
    "colab": {
      "provenance": []
    },
    "kernelspec": {
      "name": "python3",
      "display_name": "Python 3"
    },
    "language_info": {
      "name": "python"
    }
  },
  "cells": [
    {
      "cell_type": "code",
      "execution_count": null,
      "metadata": {
        "id": "DYZX9iKNlvft"
      },
      "outputs": [],
      "source": [
        "from collections import deque\n",
        "\n",
        "class Solution:\n",
        "    def openLock(self, deadends, target):\n",
        "        deadends = set(deadends)\n",
        "        if '0000' in deadends:\n",
        "            return -1\n",
        "\n",
        "        visited = set()\n",
        "        queue = deque([('0000', 0)])\n",
        "\n",
        "        while queue:\n",
        "            current, turns = queue.popleft()\n",
        "            if current == target:\n",
        "                return turns\n",
        "\n",
        "            for i in range(4):\n",
        "                for move in [-1, 1]:\n",
        "                    new_digit = (int(current[i]) + move) % 10\n",
        "                    new_state = current[:i] + str(new_digit) + current[i+1:]\n",
        "                    if new_state not in deadends and new_state not in visited:\n",
        "                        visited.add(new_state)\n",
        "                        queue.append((new_state, turns + 1))\n",
        "\n",
        "        return -1\n",
        "\n",
        "# Example usage:\n",
        "solution = Solution()\n",
        "deadends = [\"0201\",\"0101\",\"0102\",\"1212\",\"2002\"]\n",
        "target = \"0202\"\n",
        "print(solution.openLock(deadends, target))  # Output: 6\n"
      ]
    }
  ]
}