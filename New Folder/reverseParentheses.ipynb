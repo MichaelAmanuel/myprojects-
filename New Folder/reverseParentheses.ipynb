{
  "nbformat": 4,
  "nbformat_minor": 0,
  "metadata": {
    "colab": {
      "provenance": []
    },
    "kernelspec": {
      "name": "python3",
      "display_name": "Python 3"
    },
    "language_info": {
      "name": "python"
    }
  },
  "cells": [
    {
      "cell_type": "code",
      "execution_count": null,
      "metadata": {
        "colab": {
          "base_uri": "https://localhost:8080/"
        },
        "id": "Oy_UAcuqghQs",
        "outputId": "8fa448b9-37ec-4dbb-b450-f0659812b3e3"
      },
      "outputs": [
        {
          "output_type": "stream",
          "name": "stdout",
          "text": [
            "5.0\n",
            "3.25\n"
          ]
        }
      ],
      "source": [
        "class Solution(object):\n",
        "    def reverseParentheses(self, s):\n",
        "        stack = []\n",
        "\n",
        "        for char in s:\n",
        "            if char == ')':\n",
        "                temp = []\n",
        "                while stack and stack[-1] != '(':\n",
        "                    temp.append(stack.pop())\n",
        "                stack.pop()\n",
        "                stack.extend(temp)\n",
        "            else:\n",
        "                stack.append(char)\n",
        "\n",
        "        return ''.join(stack)\n",
        "\n",
        "\n",
        "solution = Solution()\n",
        "s = \"(abcd)\"\n",
        "print(solution.reverseParentheses(s))\n"
      ]
    }
  ]
}