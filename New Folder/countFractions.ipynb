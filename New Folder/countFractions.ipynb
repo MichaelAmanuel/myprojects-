{
  "nbformat": 4,
  "nbformat_minor": 0,
  "metadata": {
    "colab": {
      "provenance": []
    },
    "kernelspec": {
      "name": "python3",
      "display_name": "Python 3"
    },
    "language_info": {
      "name": "python"
    }
  },
  "cells": [
    {
      "cell_type": "code",
      "execution_count": null,
      "metadata": {
        "id": "QYQz1EAHR6HT"
      },
      "outputs": [],
      "source": [
        "from fractions import Fraction\n",
        "\n",
        "class Solution(object):\n",
        "    def countFractions(self, arr, mid):\n",
        "        count = 0\n",
        "        n = len(arr)\n",
        "        j = n - 1\n",
        "        for i in range(n - 1):\n",
        "            while j > i and arr[i] >= mid * arr[j]:\n",
        "                j -= 1\n",
        "            count += (j - i)\n",
        "        return count\n",
        "\n",
        "    def kthSmallestPrimeFraction(self, arr, k):\n",
        "        left = 0.0\n",
        "        right = 1.0\n",
        "        n = len(arr)\n",
        "        result = [0, 1]\n",
        "        while left < right:\n",
        "            mid = (left + right) / 2\n",
        "            count = self.countFractions(arr, mid)\n",
        "            if count < k:\n",
        "                left = mid\n",
        "            else:\n",
        "                right = mid\n",
        "                for i in range(n - 1):\n",
        "                    j = n - 1\n",
        "                    while j > i and arr[i] >= mid * arr[j]:\n",
        "                        j -= 1\n",
        "                    if j > i and mid * arr[j] > result[0] * result[1]:\n",
        "                        result = [arr[i], arr[j]]\n",
        "        return result\n",
        "\n",
        "\n",
        "solution = Solution()\n",
        "arr = [1, 2, 3, 5]\n",
        "k = 3\n",
        "result = solution.kthSmallestPrimeFraction(arr, k)\n",
        "print(result)"
      ]
    }
  ]
}