{
  "nbformat": 4,
  "nbformat_minor": 0,
  "metadata": {
    "colab": {
      "provenance": []
    },
    "kernelspec": {
      "name": "python3",
      "display_name": "Python 3"
    },
    "language_info": {
      "name": "python"
    }
  },
  "cells": [
    {
      "cell_type": "code",
      "execution_count": 3,
      "metadata": {
        "colab": {
          "base_uri": "https://localhost:8080/"
        },
        "id": "wF0uKtMNaG0h",
        "outputId": "84735dff-d6cf-4a16-9df9-c4e81715b356"
      },
      "outputs": [
        {
          "output_type": "stream",
          "name": "stdout",
          "text": [
            "3\n"
          ]
        }
      ],
      "source": [
        "class Solution(object):\n",
        "    def countOdds(self, low, high):\n",
        "\n",
        "      count = 0\n",
        "      for i in range(low, high+1):\n",
        "        if i % 2 != 0:\n",
        "          count += 1\n",
        "\n",
        "      return count\n",
        "\n",
        "solution = Solution()\n",
        "low = 3\n",
        "high = 7\n",
        "print(solution.countOdds(low, high))"
      ]
    },
    {
      "cell_type": "code",
      "source": [
        "class Solution(object):\n",
        "    def countOdds(self, low, high):\n",
        "\n",
        "      count = 0\n",
        "      if low % 2 != 0:\n",
        "        return int(((high + 1) - low+1) / 2)\n",
        "      else:\n",
        "        return int(((high+1)-low)/2)\n",
        "solution = Solution()\n",
        "low = 3\n",
        "high = 7\n",
        "print(solution.countOdds(low, high))"
      ],
      "metadata": {
        "colab": {
          "base_uri": "https://localhost:8080/"
        },
        "id": "w-kWIu0vbZrG",
        "outputId": "228fe598-a15e-4dee-8600-a52f2b96bc76"
      },
      "execution_count": 8,
      "outputs": [
        {
          "output_type": "stream",
          "name": "stdout",
          "text": [
            "3\n"
          ]
        }
      ]
    },
    {
      "cell_type": "code",
      "source": [],
      "metadata": {
        "id": "i3Le9htycLJ9"
      },
      "execution_count": null,
      "outputs": []
    }
  ]
}