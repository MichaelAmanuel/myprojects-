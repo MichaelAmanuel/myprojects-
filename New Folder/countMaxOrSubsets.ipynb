{
  "nbformat": 4,
  "nbformat_minor": 0,
  "metadata": {
    "colab": {
      "provenance": []
    },
    "kernelspec": {
      "name": "python3",
      "display_name": "Python 3"
    },
    "language_info": {
      "name": "python"
    }
  },
  "cells": [
    {
      "cell_type": "code",
      "execution_count": 1,
      "metadata": {
        "id": "kQjWvHzXch44"
      },
      "outputs": [],
      "source": [
        "class Solution(object):\n",
        "    def countMaxOrSubsets(self, nums):\n",
        "        max_or = 0\n",
        "        count = 0\n",
        "\n",
        "        def backtrack(index, current_or):\n",
        "            nonlocal max_or, count\n",
        "\n",
        "            if index == len(nums):\n",
        "                if current_or > max_or:\n",
        "                    max_or = current_or\n",
        "                    count = 1\n",
        "                elif current_or == max_or:\n",
        "                    count += 1\n",
        "                return\n",
        "\n",
        "            backtrack(index + 1, current_or | nums[index])\n",
        "            backtrack(index + 1, current_or)\n",
        "\n",
        "        backtrack(0, 0)\n",
        "        return count\n"
      ]
    },
    {
      "cell_type": "code",
      "source": [
        "class Solution(object):\n",
        "    def countMaxOrSubsets(self, nums):\n",
        "        max_or = [0]\n",
        "        count = [0]\n",
        "\n",
        "        def backtrack(index, current_or):\n",
        "            if index == len(nums):\n",
        "                if current_or > max_or[0]:\n",
        "                    max_or[0] = current_or\n",
        "                    count[0] = 1\n",
        "                elif current_or == max_or[0]:\n",
        "                    count[0] += 1\n",
        "                return\n",
        "\n",
        "            backtrack(index + 1, current_or | nums[index])\n",
        "            backtrack(index + 1, current_or)\n",
        "\n",
        "        backtrack(0, 0)\n",
        "        return count[0]\n",
        "\n"
      ],
      "metadata": {
        "id": "zKueL-OmC0pu"
      },
      "execution_count": null,
      "outputs": []
    }
  ]
}