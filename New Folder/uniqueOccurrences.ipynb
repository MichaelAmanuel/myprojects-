{
  "nbformat": 4,
  "nbformat_minor": 0,
  "metadata": {
    "colab": {
      "provenance": []
    },
    "kernelspec": {
      "name": "python3",
      "display_name": "Python 3"
    },
    "language_info": {
      "name": "python"
    }
  },
  "cells": [
    {
      "cell_type": "code",
      "execution_count": 19,
      "metadata": {
        "colab": {
          "base_uri": "https://localhost:8080/"
        },
        "id": "hmOL6pr2vYQB",
        "outputId": "13984383-4263-431a-cf52-f82b265b54cb"
      },
      "outputs": [
        {
          "output_type": "stream",
          "name": "stdout",
          "text": [
            "False\n"
          ]
        }
      ],
      "source": [
        "class Solution(object):\n",
        "    def uniqueOccurrences(self, arr):\n",
        "      ar = sorted(arr)\n",
        "      num = []\n",
        "      nu = []\n",
        "      for i in range(len(ar)):\n",
        "        count = 0\n",
        "        for j in range(i, len(ar)):\n",
        "          if ar[i] == ar[j] and ar[i] not in nu:\n",
        "            count += 1\n",
        "          else:\n",
        "            break\n",
        "        if count > 0:\n",
        "          num.append(count)\n",
        "          nu.append(ar[i])\n",
        "\n",
        "      return True if len(set(num)) == len(num) else False\n",
        "\n",
        "solution = Solution()\n",
        "arr = [1,2]\n",
        "\n",
        "print(solution.uniqueOccurrences(arr))"
      ]
    }
  ]
}