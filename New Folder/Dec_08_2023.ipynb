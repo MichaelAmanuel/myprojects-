{
  "nbformat": 4,
  "nbformat_minor": 0,
  "metadata": {
    "colab": {
      "provenance": []
    },
    "kernelspec": {
      "name": "python3",
      "display_name": "Python 3"
    },
    "language_info": {
      "name": "python"
    }
  },
  "cells": [
    {
      "cell_type": "code",
      "execution_count": 15,
      "metadata": {
        "colab": {
          "base_uri": "https://localhost:8080/"
        },
        "id": "pOpP36g7159j",
        "outputId": "f445ff97-bbe9-421d-9292-caaa5f444139"
      },
      "outputs": [
        {
          "output_type": "stream",
          "name": "stdout",
          "text": [
            "333\n"
          ]
        }
      ],
      "source": [
        "\n",
        "class Solution(object):\n",
        "    def largestGoodInteger(self, num):\n",
        "      max = 0\n",
        "      for i in num:\n",
        "        count = 0\n",
        "        retu = ''\n",
        "        for j in num:\n",
        "          if j == i:\n",
        "            count += 1\n",
        "            retu += j\n",
        "            if  count == 3:\n",
        "              break\n",
        "        if count == 3 and max <= int(j):\n",
        "          out_put = retu\n",
        "          max = int(j)\n",
        "\n",
        "      return out_put\n",
        "\n",
        "solution = Solution()\n",
        "num = \"42352338\"\n",
        "print(solution.largestGoodInteger(num))"
      ]
    },
    {
      "cell_type": "code",
      "source": [
        "num = \"6777133339\"\n",
        "\n",
        "for i in range(len(num)):\n",
        "  max_num = 0\n",
        "  for j in range(i+1, len(num)):\n",
        "    for k in range(j+1, len(num)):\n",
        "      if num[i] == num[j] == num[k]:\n",
        "\n",
        "        nums = int(num[i])\n",
        "        if max_num < nums:\n",
        "            max_num = nums\n",
        "        print(max_num)\n",
        "\n",
        "# out_p = ''\n",
        "# for l in range(3):\n",
        "#   out_p += str(max_num)\n",
        "\n",
        "# print(out_p)\n",
        "\n"
      ],
      "metadata": {
        "colab": {
          "base_uri": "https://localhost:8080/"
        },
        "id": "Y49NprvstESg",
        "outputId": "7b3532f9-d39d-494a-88bd-9ebdf7571b71"
      },
      "execution_count": 40,
      "outputs": [
        {
          "output_type": "stream",
          "name": "stdout",
          "text": [
            "7\n",
            "3\n",
            "3\n",
            "3\n",
            "3\n"
          ]
        }
      ]
    },
    {
      "cell_type": "code",
      "source": [
        "num = \"42352338\"\n",
        "\n",
        "max_num = 0\n",
        "\n",
        "for i in range(len(num)):\n",
        "    for j in range(i + 1, len(num)):\n",
        "        for k in range(j + 1, len(num)):\n",
        "            if num[i] == num[j] == num[k]:\n",
        "                nums = int(num[i])\n",
        "                if max_num < nums:\n",
        "                    max_num = nums\n",
        "\n",
        "out_p = ''\n",
        "for _ in range(3):\n",
        "    out_p += str(max_num)\n",
        "\n",
        "print(out_p)\n"
      ],
      "metadata": {
        "colab": {
          "base_uri": "https://localhost:8080/"
        },
        "id": "NETJpcCpw_VR",
        "outputId": "d0161649-2d5b-4fa3-c762-ae249091de98"
      },
      "execution_count": 36,
      "outputs": [
        {
          "output_type": "stream",
          "name": "stdout",
          "text": [
            "333\n"
          ]
        }
      ]
    },
    {
      "cell_type": "code",
      "source": [
        "date1 = \"2019-06-29\"\n",
        "date2 = \"2019-06-30\"\n",
        "days_in_month = [31, 28, 31, 30, 31, 30, 31, 31, 30, 31, 30, 31]\n",
        "\n",
        "if int(date1[:3] - date2[:3]) == 0:\n",
        "  dif_mon = int(date1[5:7] - date2[5:7])"
      ],
      "metadata": {
        "id": "KbY24jqyPB__"
      },
      "execution_count": null,
      "outputs": []
    },
    {
      "cell_type": "code",
      "source": [
        "class Solution(object):\n",
        "    def isUgly(self, n):\n",
        "      if n== 1:\n",
        "        return True\n",
        "\n",
        "      prim = [2, 3, 5]\n",
        "      def prime(n):\n",
        "        count = 0\n",
        "        for i in range(2, round(n/2 + 1)):\n",
        "          if n % i == 0:\n",
        "            count += 1\n",
        "          if count == 1:\n",
        "            return True\n",
        "\n",
        "      factors = []\n",
        "      for i in range(2, round(n/2 + 1)):\n",
        "        if n % i == 0:\n",
        "          if prime(n):\n",
        "            factors.append(i)\n",
        "\n",
        "      return True if all(element in prim for element in factors) else False\n",
        "\n",
        "solution = Solution()\n",
        "n = 14\n",
        "print(solution.isUgly(n))"
      ],
      "metadata": {
        "colab": {
          "base_uri": "https://localhost:8080/"
        },
        "id": "MC4UrjUQRvHV",
        "outputId": "c643c543-31b2-4919-887e-3404096cf8c2"
      },
      "execution_count": 5,
      "outputs": [
        {
          "output_type": "stream",
          "name": "stdout",
          "text": [
            "False\n"
          ]
        }
      ]
    },
    {
      "cell_type": "code",
      "source": [
        "l1 = [1, 2, 3]\n",
        "l2 = [1, 2, 3, 1, 3]\n",
        "\n",
        "result = all(element in l1 for element in l2)\n",
        "\n",
        "if result:\n",
        "    print(\"l2 contains only elements from l1.\")\n",
        "else:\n",
        "    print(\"l2 contains different elements than l1.\")\n"
      ],
      "metadata": {
        "colab": {
          "base_uri": "https://localhost:8080/"
        },
        "id": "PALE7-UkUMaz",
        "outputId": "9536a299-be5f-41d8-d48b-a8a6f18b05cc"
      },
      "execution_count": 4,
      "outputs": [
        {
          "output_type": "stream",
          "name": "stdout",
          "text": [
            "l2 contains only elements from l1.\n"
          ]
        }
      ]
    }
  ]
}