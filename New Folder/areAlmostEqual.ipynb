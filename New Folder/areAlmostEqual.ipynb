{
  "nbformat": 4,
  "nbformat_minor": 0,
  "metadata": {
    "colab": {
      "provenance": []
    },
    "kernelspec": {
      "name": "python3",
      "display_name": "Python 3"
    },
    "language_info": {
      "name": "python"
    }
  },
  "cells": [
    {
      "cell_type": "code",
      "source": [
        "class Solution(object):\n",
        "    def areAlmostEqual(self, s1, s2):\n",
        "\n",
        "      count = 0\n",
        "      if s1 == s2:\n",
        "        return True\n",
        "      for i, j in zip(s1, s2):\n",
        "        if s1.count(i) != s2.count(i):\n",
        "          return False\n",
        "        if (i not in s2) or (j not in s1):\n",
        "          return False\n",
        "        elif  i != j and (i in s2) and ( j in s1):\n",
        "          count += 1\n",
        "          if count > 2:\n",
        "            return False\n",
        "\n",
        "      return True\n",
        "\n",
        "solution = Solution()\n",
        "s1 = \"abca\"\n",
        "s2 = \"abcc\"\n",
        "print(solution.areAlmostEqual(s1, s2))"
      ],
      "metadata": {
        "id": "_gybWPRhUrS5"
      },
      "execution_count": null,
      "outputs": []
    },
    {
      "cell_type": "code",
      "execution_count": 9,
      "metadata": {
        "colab": {
          "base_uri": "https://localhost:8080/"
        },
        "id": "ct-DU1nKMLUe",
        "outputId": "5b7cd046-6dde-4da7-9812-6253d95b4f0d"
      },
      "outputs": [
        {
          "output_type": "stream",
          "name": "stdout",
          "text": [
            "False\n"
          ]
        }
      ],
      "source": [
        "class Solution(object):\n",
        "    def areAlmostEqual(self, s1, s2):\n",
        "\n",
        "      count = 0\n",
        "      if s1 == s2:\n",
        "        return True\n",
        "      for i in s2:\n",
        "        if i not in s1:\n",
        "          return False\n",
        "        elif i in s1 and (s2.index(i) != s1.index(i)):\n",
        "          count += 1\n",
        "          if count > 2:\n",
        "            return False\n",
        "\n",
        "      return True\n",
        "\n",
        "solution = Solution()\n",
        "s1 = \"akrjnhuojtkhlqdfifwxbsmphhcchuqcconcvplcyxjpi\"\n",
        "s2 = \"akrjnhuojtkhlxdfifwqbsmphhcchuqcconcvplcyxjpi\"\n",
        "print(solution.areAlmostEqual(s1, s2))"
      ]
    },
    {
      "cell_type": "code",
      "source": [
        "s1 = \"akrjnhuojtkhlqdfifwxbsmphhcchuqcconcvplcyxjpi\"\n",
        "print(list(s1))\n",
        "s2 = \"akrjnhuojtkhlxdfifwqbsmphhcchuqcconcvplcyxjpi\"\n",
        "print(list(s2))"
      ],
      "metadata": {
        "colab": {
          "base_uri": "https://localhost:8080/"
        },
        "id": "bi9zNj7AO0hW",
        "outputId": "7c7de6f1-204c-4465-eda9-82ac554108c2"
      },
      "execution_count": 11,
      "outputs": [
        {
          "output_type": "stream",
          "name": "stdout",
          "text": [
            "['a', 'k', 'r', 'j', 'n', 'h', 'u', 'o', 'j', 't', 'k', 'h', 'l', 'q', 'd', 'f', 'i', 'f', 'w', 'x', 'b', 's', 'm', 'p', 'h', 'h', 'c', 'c', 'h', 'u', 'q', 'c', 'c', 'o', 'n', 'c', 'v', 'p', 'l', 'c', 'y', 'x', 'j', 'p', 'i']\n",
            "['a', 'k', 'r', 'j', 'n', 'h', 'u', 'o', 'j', 't', 'k', 'h', 'l', 'x', 'd', 'f', 'i', 'f', 'w', 'q', 'b', 's', 'm', 'p', 'h', 'h', 'c', 'c', 'h', 'u', 'q', 'c', 'c', 'o', 'n', 'c', 'v', 'p', 'l', 'c', 'y', 'x', 'j', 'p', 'i']\n"
          ]
        }
      ]
    },
    {
      "cell_type": "code",
      "source": [
        "class Solution(object):\n",
        "    def areAlmostEqual(self, s1, s2):\n",
        "\n",
        "      count = 0\n",
        "      if s1 == s2:\n",
        "        return True\n",
        "      for i, j in zip(s1, s2):\n",
        "        if  i != j:\n",
        "          count += 1\n",
        "          if count > 2:\n",
        "            return False\n",
        "\n",
        "      return True\n",
        "\n",
        "solution = Solution()\n",
        "s1 = \"akrjnhuojtkhlqdfifwxbsmphhcchuqcconcvplcyxjpi\"\n",
        "s2 = \"akrjnhuojtkhlxdfifwqbsmphhcchuqcconcvplcyxjpi\"\n",
        "print(solution.areAlmostEqual(s1, s2))"
      ],
      "metadata": {
        "colab": {
          "base_uri": "https://localhost:8080/"
        },
        "id": "OOTR11agRS-m",
        "outputId": "2d733b51-9972-49c5-b5d5-06339c2597aa"
      },
      "execution_count": 12,
      "outputs": [
        {
          "output_type": "stream",
          "name": "stdout",
          "text": [
            "True\n"
          ]
        }
      ]
    }
  ]
}