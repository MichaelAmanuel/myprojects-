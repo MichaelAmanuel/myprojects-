{
  "nbformat": 4,
  "nbformat_minor": 0,
  "metadata": {
    "colab": {
      "provenance": []
    },
    "kernelspec": {
      "name": "python3",
      "display_name": "Python 3"
    },
    "language_info": {
      "name": "python"
    }
  },
  "cells": [
    {
      "cell_type": "code",
      "execution_count": 7,
      "metadata": {
        "colab": {
          "base_uri": "https://localhost:8080/"
        },
        "id": "G7GVxi0AoxNE",
        "outputId": "1e712d2a-c51a-4af4-8eac-7aae89e4de39"
      },
      "outputs": [
        {
          "output_type": "stream",
          "name": "stdout",
          "text": [
            "767944060\n"
          ]
        }
      ],
      "source": [
        "class Solution(object):\n",
        "    def countDigitOne(self, n):\n",
        "\n",
        "      count = 0\n",
        "      for i in range(n + 1):\n",
        "        x = str(i).count('1')\n",
        "        count += x\n",
        "\n",
        "      return count\n",
        "\n",
        "solution = Solution()\n",
        "n = 824883294\n",
        "print(solution.countDigitOne(n))"
      ]
    },
    {
      "cell_type": "code",
      "source": [],
      "metadata": {
        "id": "pcrmFEMqq-us"
      },
      "execution_count": null,
      "outputs": []
    }
  ]
}