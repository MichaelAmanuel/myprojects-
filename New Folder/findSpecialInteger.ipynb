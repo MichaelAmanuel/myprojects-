{
  "nbformat": 4,
  "nbformat_minor": 0,
  "metadata": {
    "colab": {
      "provenance": []
    },
    "kernelspec": {
      "name": "python3",
      "display_name": "Python 3"
    },
    "language_info": {
      "name": "python"
    }
  },
  "cells": [
    {
      "cell_type": "code",
      "execution_count": 15,
      "metadata": {
        "colab": {
          "base_uri": "https://localhost:8080/"
        },
        "id": "JI1yJ6T2F2tT",
        "outputId": "5e5d6dce-29e8-4fc4-dcef-780ef47b7a9b"
      },
      "outputs": [
        {
          "output_type": "stream",
          "name": "stdout",
          "text": [
            "6\n"
          ]
        }
      ],
      "source": [
        "class Solution(object):\n",
        "    def findSpecialInteger(self, arr):\n",
        "      if len(arr) == 1:\n",
        "          return arr[0]\n",
        "\n",
        "      n = len(arr)\n",
        "      threshold = n * 0.25\n",
        "      for i in arr:\n",
        "        max_num = 0\n",
        "        for j in arr:\n",
        "          if i == j:\n",
        "            max_num += 1\n",
        "\n",
        "        if max_num > threshold:\n",
        "          return i\n",
        "\n",
        "      return None\n",
        "\n",
        "solution = Solution()\n",
        "arr = [1,2,2,6,6,6,6,7,10]\n",
        "\n",
        "result = solution.findSpecialInteger(arr)\n",
        "print(result)"
      ]
    }
  ]
}