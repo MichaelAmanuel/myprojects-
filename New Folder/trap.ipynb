{
  "nbformat": 4,
  "nbformat_minor": 0,
  "metadata": {
    "colab": {
      "provenance": []
    },
    "kernelspec": {
      "name": "python3",
      "display_name": "Python 3"
    },
    "language_info": {
      "name": "python"
    }
  },
  "cells": [
    {
      "cell_type": "code",
      "execution_count": 1,
      "metadata": {
        "colab": {
          "base_uri": "https://localhost:8080/"
        },
        "id": "RupWW5F87Y5p",
        "outputId": "4b7a353e-161e-4e32-dd22-e5b9dd90bb9d"
      },
      "outputs": [
        {
          "output_type": "stream",
          "name": "stdout",
          "text": [
            "6\n"
          ]
        }
      ],
      "source": [
        "class Solution(object):\n",
        "  def trap(self, height):\n",
        "    if not height:\n",
        "        return 0\n",
        "\n",
        "    n = len(height)\n",
        "    left_max = [0] * n\n",
        "    right_max = [0] * n\n",
        "\n",
        "    left_max[0] = height[0]\n",
        "    for i in range(1, n):\n",
        "        left_max[i] = max(left_max[i - 1], height[i])\n",
        "\n",
        "    right_max[n - 1] = height[n - 1]\n",
        "    for i in range(n - 2, -1, -1):\n",
        "        right_max[i] = max(right_max[i + 1], height[i])\n",
        "\n",
        "    water_trapped = 0\n",
        "    for i in range(n):\n",
        "        water_trapped += min(left_max[i], right_max[i]) - height[i]\n",
        "\n",
        "    return water_trapped\n",
        "\n",
        "\n",
        "solution =Solution()\n",
        "height = [0,1,0,2,1,0,1,3,2,1,2,1]\n",
        "print(solution.trap(height))"
      ]
    }
  ]
}