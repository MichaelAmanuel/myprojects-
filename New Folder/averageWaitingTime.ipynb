{
  "nbformat": 4,
  "nbformat_minor": 0,
  "metadata": {
    "colab": {
      "provenance": []
    },
    "kernelspec": {
      "name": "python3",
      "display_name": "Python 3"
    },
    "language_info": {
      "name": "python"
    }
  },
  "cells": [
    {
      "cell_type": "code",
      "execution_count": 1,
      "metadata": {
        "colab": {
          "base_uri": "https://localhost:8080/"
        },
        "id": "G246eu38c2-q",
        "outputId": "5e7dbe84-4247-46b9-c119-f073719635f0"
      },
      "outputs": [
        {
          "output_type": "stream",
          "name": "stdout",
          "text": [
            "5.0\n",
            "3.25\n"
          ]
        }
      ],
      "source": [
        "class Solution(object):\n",
        "    def averageWaitingTime(self, customers):\n",
        "        current_time = 0\n",
        "        total_waiting_time = 0\n",
        "\n",
        "        for arrival, time in customers:\n",
        "            if current_time < arrival:\n",
        "                current_time = arrival\n",
        "            current_time += time\n",
        "            total_waiting_time += current_time - arrival\n",
        "\n",
        "        return total_waiting_time / len(customers)\n",
        "\n",
        "# Example usage\n",
        "solution = Solution()\n",
        "customers = [[1, 2], [2, 5], [4, 3]]\n",
        "print(solution.averageWaitingTime(customers))  # Output: 5.00000\n",
        "\n",
        "customers = [[5,2],[5,4],[10,3],[20,1]]\n",
        "print(solution.averageWaitingTime(customers))  # Output: 3.25\n"
      ]
    }
  ]
}