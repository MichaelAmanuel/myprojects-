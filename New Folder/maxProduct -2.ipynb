{
  "nbformat": 4,
  "nbformat_minor": 0,
  "metadata": {
    "colab": {
      "provenance": []
    },
    "kernelspec": {
      "name": "python3",
      "display_name": "Python 3"
    },
    "language_info": {
      "name": "python"
    }
  },
  "cells": [
    {
      "cell_type": "code",
      "execution_count": null,
      "metadata": {
        "id": "aRLGYrXqUXih"
      },
      "outputs": [],
      "source": [
        "class Solution(object):\n",
        "    def maxProduct(self, nums):\n",
        "\n",
        "        if not nums:\n",
        "            return 0\n",
        "\n",
        "        max_product = nums[0]\n",
        "        min_product = nums[0]\n",
        "        result = nums[0]\n",
        "\n",
        "        for num in nums[1:]:\n",
        "            temp_max = max_product\n",
        "            max_product = max(num, num * max_product, num * min_product)\n",
        "            min_product = min(num, num * temp_max, num * min_product)\n",
        "\n",
        "            result = max(result, max_product)\n",
        "\n",
        "        return result\n",
        "\n",
        "solution = Solution()\n",
        "nums = [2, 3, -2, 4]\n",
        "result = solution.maxProduct(nums)\n",
        "print(result)\n"
      ]
    }
  ]
}