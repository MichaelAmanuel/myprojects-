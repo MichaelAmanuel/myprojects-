{
  "nbformat": 4,
  "nbformat_minor": 0,
  "metadata": {
    "colab": {
      "provenance": []
    },
    "kernelspec": {
      "name": "python3",
      "display_name": "Python 3"
    },
    "language_info": {
      "name": "python"
    }
  },
  "cells": [
    {
      "cell_type": "code",
      "execution_count": null,
      "metadata": {
        "colab": {
          "base_uri": "https://localhost:8080/"
        },
        "id": "f-hvxMM4Vno7",
        "outputId": "fcae4177-16ed-4fe3-8b76-a0f7cd81442c"
      },
      "outputs": [
        {
          "output_type": "stream",
          "name": "stdout",
          "text": [
            "0\n"
          ]
        }
      ],
      "source": [
        "class Solution(object):\n",
        "    def alternateDigitSum(self, n):\n",
        "      su = 0\n",
        "      for i in range(len(str(n))):\n",
        "        if i % 2==0:\n",
        "          su += int(str(n)[i])\n",
        "        else:\n",
        "          su -= int(str(n)[i])\n",
        "\n",
        "      return su\n",
        "\n",
        "solution = Solution()\n",
        "n = 886996\n",
        "print(solution.alternateDigitSum(n))"
      ]
    },
    {
      "cell_type": "code",
      "source": [
        "class Solution(object):\n",
        "    def alternateDigitSum(self, n):\n",
        "      su = 0\n",
        "      for i in range(len(str(n))):\n",
        "        if i % 2==0:\n",
        "          su += int(str(n)[i])\n",
        "        else:\n",
        "          su -= int(str(n)[i])\n",
        "\n",
        "      return su\n",
        "\n",
        "solution = Solution()\n",
        "n = 886996\n",
        "print(solution.alternateDigitSum(n))"
      ],
      "metadata": {
        "id": "rScrPhaeXkO6"
      },
      "execution_count": null,
      "outputs": []
    }
  ]
}