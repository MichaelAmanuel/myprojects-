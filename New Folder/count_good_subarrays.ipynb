{
  "nbformat": 4,
  "nbformat_minor": 0,
  "metadata": {
    "colab": {
      "provenance": []
    },
    "kernelspec": {
      "name": "python3",
      "display_name": "Python 3"
    },
    "language_info": {
      "name": "python"
    }
  },
  "cells": [
    {
      "cell_type": "code",
      "execution_count": 5,
      "metadata": {
        "id": "ATMCUZWLDF88",
        "colab": {
          "base_uri": "https://localhost:8080/"
        },
        "outputId": "4e75e977-5866-48a4-8f30-94be46b31b37"
      },
      "outputs": [
        {
          "output_type": "stream",
          "name": "stdout",
          "text": [
            "4\n"
          ]
        }
      ],
      "source": [
        "from collections import defaultdict\n",
        "\n",
        "class Solution(object):\n",
        "    def count_good_subarrays(self, nums, k):\n",
        "        count = 0\n",
        "        left = 0\n",
        "        freq = defaultdict(int)\n",
        "        distinct_count = 0\n",
        "\n",
        "        for right in range(len(nums)):\n",
        "            if freq[nums[right]] == 0:\n",
        "                distinct_count += 1\n",
        "            freq[nums[right]] += 1\n",
        "\n",
        "\n",
        "            while distinct_count > k:\n",
        "                freq[nums[left]] -= 1\n",
        "                if freq[nums[left]] == 0:\n",
        "                    distinct_count -= 1\n",
        "                left += 1\n",
        "\n",
        "\n",
        "            if distinct_count == k:\n",
        "                count += 1\n",
        "\n",
        "        return count\n",
        "\n",
        "solution = Solution()\n",
        "nums = [1, 2, 3, 1, 2]\n",
        "k = 2\n",
        "print(solution.count_good_subarrays(nums, k))"
      ]
    },
    {
      "cell_type": "code",
      "source": [],
      "metadata": {
        "id": "doCUKPWEMOHO"
      },
      "execution_count": null,
      "outputs": []
    }
  ]
}