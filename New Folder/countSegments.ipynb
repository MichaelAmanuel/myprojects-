{
  "nbformat": 4,
  "nbformat_minor": 0,
  "metadata": {
    "colab": {
      "provenance": []
    },
    "kernelspec": {
      "name": "python3",
      "display_name": "Python 3"
    },
    "language_info": {
      "name": "python"
    }
  },
  "cells": [
    {
      "cell_type": "code",
      "execution_count": null,
      "metadata": {
        "id": "y0cBKE1wtpfM"
      },
      "outputs": [],
      "source": [
        "\n",
        "class Solution(object):\n",
        "    def countSegments(self, s):\n",
        "\n",
        "      if len(s)==0:\n",
        "          return 0\n",
        "\n",
        "      m = s.split(' ')\n",
        "\n",
        "      return sum(1 for char in m if char != '')\n",
        "\n",
        "solution = Solution()\n",
        "s = \"                \"\n",
        "print(solution.countSegments(s))"
      ]
    }
  ]
}