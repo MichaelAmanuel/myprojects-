{
  "nbformat": 4,
  "nbformat_minor": 0,
  "metadata": {
    "colab": {
      "provenance": []
    },
    "kernelspec": {
      "name": "python3",
      "display_name": "Python 3"
    },
    "language_info": {
      "name": "python"
    }
  },
  "cells": [
    {
      "cell_type": "code",
      "execution_count": null,
      "metadata": {
        "id": "Om78qdNXtOEO"
      },
      "outputs": [],
      "source": [
        "class Solution(object):\n",
        "    def missingNumber(self, nums):\n",
        "      num = sorted(nums)\n",
        "      # print(max(num)+1)\n",
        "      for i in range(len(num)+1):\n",
        "        if i not in num:\n",
        "          return i\n",
        "\n",
        "solution = Solution()\n",
        "nums = [0,1]\n",
        "print(solution.missingNumber(nums))"
      ]
    }
  ]
}