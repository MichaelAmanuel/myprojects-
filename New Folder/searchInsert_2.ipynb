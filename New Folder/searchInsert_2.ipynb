{
  "nbformat": 4,
  "nbformat_minor": 0,
  "metadata": {
    "colab": {
      "provenance": []
    },
    "kernelspec": {
      "name": "python3",
      "display_name": "Python 3"
    },
    "language_info": {
      "name": "python"
    }
  },
  "cells": [
    {
      "cell_type": "code",
      "execution_count": 7,
      "metadata": {
        "colab": {
          "base_uri": "https://localhost:8080/"
        },
        "id": "lMTv8EvRc4nA",
        "outputId": "526aae24-ab31-4ebe-b781-87361ec6c49e"
      },
      "outputs": [
        {
          "output_type": "stream",
          "name": "stdout",
          "text": [
            "4\n"
          ]
        }
      ],
      "source": [
        "class Solution(object):\n",
        "    def searchInsert(self, nums, target):\n",
        "\n",
        "      if target in nums:\n",
        "        return nums.index(target)\n",
        "\n",
        "      else:\n",
        "        count = 0\n",
        "        for i in nums:\n",
        "          if target < i:\n",
        "            return count\n",
        "          else:\n",
        "            count += 1\n",
        "        return count\n",
        "\n",
        "solution = Solution()\n",
        "nums = [1,3,5,6]\n",
        "target = 7\n",
        "print(solution.searchInsert(nums, target))"
      ]
    },
    {
      "cell_type": "code",
      "source": [
        "class Solution(object):\n",
        "    def searchInsert(self, nums, target):\n",
        "\n",
        "      if target in nums:\n",
        "        return nums.index(target)\n",
        "      elif target > max(nums):\n",
        "        return len(nums)\n",
        "      elif target < min(nums):\n",
        "        return 0\n",
        "\n",
        "      else:\n",
        "        count = 0\n",
        "        for i in nums:\n",
        "          if target < i:\n",
        "            return count\n",
        "          else:\n",
        "            count += 1\n",
        "        return count\n",
        "\n",
        "solution = Solution()\n",
        "nums = [1,3,5,6]\n",
        "target = 7\n",
        "print(solution.searchInsert(nums, target))"
      ],
      "metadata": {
        "id": "qX5CcME2d7jm"
      },
      "execution_count": null,
      "outputs": []
    }
  ]
}