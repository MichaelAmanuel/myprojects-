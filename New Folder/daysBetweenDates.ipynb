{
  "nbformat": 4,
  "nbformat_minor": 0,
  "metadata": {
    "colab": {
      "provenance": []
    },
    "kernelspec": {
      "name": "python3",
      "display_name": "Python 3"
    },
    "language_info": {
      "name": "python"
    }
  },
  "cells": [
    {
      "cell_type": "code",
      "source": [
        "from datetime import datetime\n",
        "\n",
        "\n",
        "class Solution(object):\n",
        "    def daysBetweenDates(self, date1, date2):\n",
        "\n",
        "      date1_obj = datetime.strptime(date1, \"%Y-%m-%d\")\n",
        "      date2_obj = datetime.strptime(date2, \"%Y-%m-%d\")\n",
        "\n",
        "      # Calculate the difference\n",
        "      return abs((date1_obj - date2_obj).days)\n",
        "\n",
        "solution = Solution()\n",
        "date1 = \"2020-01-15\"\n",
        "date2 = \"2019-12-31\"\n",
        "print(solution.daysBetweenDates(date1, date2))"
      ],
      "metadata": {
        "colab": {
          "base_uri": "https://localhost:8080/"
        },
        "id": "rucdIudQy6fI",
        "outputId": "3ecc31fb-9ee4-49b1-9303-6dad57a49759"
      },
      "execution_count": 15,
      "outputs": [
        {
          "output_type": "stream",
          "name": "stdout",
          "text": [
            "15\n"
          ]
        }
      ]
    },
    {
      "cell_type": "code",
      "source": [
        "from datetime import datetime\n",
        "\n",
        "\n",
        "class Solution(object):\n",
        "    def daysBetweenDates(self, date1, date2):\n",
        "\n",
        "      date1_obj = datetime.strptime(date1, \"%Y-%m-%d\")\n",
        "      date2_obj = datetime.strptime(date2, \"%Y-%m-%d\")\n",
        "\n",
        "      if int(date1[:3]) > int(date2[:3]):\n",
        "        return (date1_obj - date2_obj).days\n",
        "\n",
        "      elif int(date1[:3]) < int(date2[:3]):\n",
        "        return -(date1_obj + date2_obj).days\n",
        "\n",
        "      else:\n",
        "        pass\n",
        "\n",
        "solution = Solution()\n",
        "date1 = \"2019-06-29\"\n",
        "date2 = \"2019-06-30\"\n",
        "print(solution.daysBetweenDates(date1, date2))"
      ],
      "metadata": {
        "colab": {
          "base_uri": "https://localhost:8080/"
        },
        "id": "NPT8jc_80EjS",
        "outputId": "7479c965-5874-46b9-8714-998ddd9b9877"
      },
      "execution_count": 10,
      "outputs": [
        {
          "output_type": "stream",
          "name": "stdout",
          "text": [
            "The difference between date1 and date2 is: 15 days\n"
          ]
        }
      ]
    }
  ]
}