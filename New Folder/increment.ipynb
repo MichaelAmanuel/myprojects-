{
  "nbformat": 4,
  "nbformat_minor": 0,
  "metadata": {
    "colab": {
      "provenance": []
    },
    "kernelspec": {
      "name": "python3",
      "display_name": "Python 3"
    },
    "language_info": {
      "name": "python"
    }
  },
  "cells": [
    {
      "cell_type": "code",
      "execution_count": null,
      "metadata": {
        "id": "kQjWvHzXch44"
      },
      "outputs": [],
      "source": [
        "class CustomStack:\n",
        "\n",
        "    def __init__(self, maxSize):\n",
        "        self.stack = []\n",
        "        self.maxSize = maxSize\n",
        "        self.increments = [0] * maxSize\n",
        "    def push(self, x):\n",
        "        if len(self.stack) < self.maxSize:\n",
        "            self.stack.append(x)\n",
        "\n",
        "    def pop(self) :\n",
        "        if not self.stack:\n",
        "            return -1\n",
        "        idx = len(self.stack) - 1\n",
        "\n",
        "        res = self.stack.pop() + self.increments[idx]\n",
        "        if idx > 0:\n",
        "\n",
        "            self.increments[idx - 1] += self.increments[idx]\n",
        "\n",
        "        self.increments[idx] = 0\n",
        "        return res\n",
        "\n",
        "    def increment(self, k, val):\n",
        "\n",
        "        limit = min(k, len(self.stack))\n",
        "        if limit > 0:\n",
        "            self.increments[limit - 1] += val\n"
      ]
    }
  ]
}