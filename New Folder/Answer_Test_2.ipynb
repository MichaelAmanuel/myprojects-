{
  "nbformat": 4,
  "nbformat_minor": 0,
  "metadata": {
    "colab": {
      "provenance": []
    },
    "kernelspec": {
      "name": "python3",
      "display_name": "Python 3"
    },
    "language_info": {
      "name": "python"
    }
  },
  "cells": [
    {
      "cell_type": "code",
      "source": [
        "def prg_question_2(words):\n",
        "    return [words[:i] for i in range(len(words) + 1)]\n",
        "\n",
        "phrase = \"programming\"\n",
        "result = prg_question_2(phrase)\n",
        "print(result)\n"
      ],
      "metadata": {
        "colab": {
          "base_uri": "https://localhost:8080/"
        },
        "id": "79Jc7OZ0ikyI",
        "outputId": "58c6b7cc-0716-498b-a6fd-6ea002ae4b6d"
      },
      "execution_count": 35,
      "outputs": [
        {
          "output_type": "stream",
          "name": "stdout",
          "text": [
            "['', 'p', 'pr', 'pro', 'prog', 'progr', 'progra', 'program', 'programm', 'programmi', 'programmin', 'programming']\n"
          ]
        }
      ]
    },
    {
      "cell_type": "code",
      "execution_count": null,
      "metadata": {
        "colab": {
          "base_uri": "https://localhost:8080/"
        },
        "id": "JR3eirrh3uNQ",
        "outputId": "c3cb0f86-c1b8-4d4d-bdd0-6fcf860e3046"
      },
      "outputs": [
        {
          "output_type": "stream",
          "name": "stdout",
          "text": [
            "\n",
            "p\n",
            "pr\n",
            "pro\n",
            "prog\n",
            "progr\n",
            "progra\n",
            "program\n",
            "programm\n",
            "programmi\n",
            "programmin\n",
            "programming\n"
          ]
        }
      ],
      "source": [
        "def prg_question_2(words):\n",
        "\n",
        "    for i in range(len(words) + 1):\n",
        "        print(words[:i])\n",
        "\n",
        "\n",
        "phrase = \"programming\"\n",
        "prg_question_2(phrase)\n"
      ]
    },
    {
      "cell_type": "code",
      "source": [
        "def prg_question_1(x_values, a, b, c):\n",
        "\n",
        "    return [(a * x**2) + (b * x) + c for x in x_values]\n",
        "\n",
        "\n",
        "values_x = [3, 1, 2, 3, 6, -4]\n",
        "value_a, value_b, value_c = 1, -5, 6\n",
        "result = prg_question_1(values_x, value_a, value_b, value_c)\n",
        "print(result)\n"
      ],
      "metadata": {
        "colab": {
          "base_uri": "https://localhost:8080/"
        },
        "id": "NrrXHFm7LLm7",
        "outputId": "2a3b3d99-920c-4de2-d5b5-4f34b2ec77d5"
      },
      "execution_count": null,
      "outputs": [
        {
          "output_type": "stream",
          "name": "stdout",
          "text": [
            "[0, 2, 0, 0, 12, 42]\n"
          ]
        }
      ]
    },
    {
      "cell_type": "code",
      "source": [
        "def prg_question_1(x, a, b, c):\n",
        "  answer = []\n",
        "  for i in x:\n",
        "    answer.append((a * i **2) + (b * i) + c)\n",
        "\n",
        "  return answer\n",
        "\n",
        "values_x = [0, 1, 2, 3, 6, 8]\n",
        "value_a, value_b, value_c = 1, -5, 6\n",
        "result = prg_question_1(values_x, value_a, value_b, value_c)\n",
        "print(result)"
      ],
      "metadata": {
        "colab": {
          "base_uri": "https://localhost:8080/"
        },
        "id": "fDEknZHLM21T",
        "outputId": "bbec939a-5cde-45c3-f619-9c05fe24d265"
      },
      "execution_count": null,
      "outputs": [
        {
          "output_type": "stream",
          "name": "stdout",
          "text": [
            "[6, 2, 0, 0, 12, 30]\n"
          ]
        }
      ]
    },
    {
      "cell_type": "code",
      "source": [
        "def prg_question_3(list1, list2):\n",
        "\n",
        "    answer = []\n",
        "\n",
        "    for elem in list1:\n",
        "        if elem not in answer:\n",
        "            answer.append(elem)\n",
        "\n",
        "    for elem in list2:\n",
        "        if elem not in answer:\n",
        "            answer.append(elem)\n",
        "\n",
        "    return answer\n",
        "\n",
        "\n",
        "list1 = ['a', \"code\", 1, 46, 50, [1, 2, 3]]\n",
        "list2 = ['b', \"code\", 46, [1, 2]]\n",
        "\n",
        "result = prg_question_3(list1, list2)\n",
        "print(result)\n"
      ],
      "metadata": {
        "colab": {
          "base_uri": "https://localhost:8080/"
        },
        "id": "gNQ4uEKVORRl",
        "outputId": "86b71c7a-e08b-4851-c63b-6d1d98a56829"
      },
      "execution_count": 34,
      "outputs": [
        {
          "output_type": "stream",
          "name": "stdout",
          "text": [
            "['a', 'code', 1, 46, 50, [1, 2, 3], 'b', [1, 2]]\n"
          ]
        }
      ]
    },
    {
      "cell_type": "code",
      "source": [
        "def prg_question_4(phrases):\n",
        "\n",
        "  return [len(words) for words in phrases]\n",
        "\n",
        "phrases_list = ['Programming', 'in', 'Python', 'is', 'super', 'easy', 'compared', 'to', 'other', 'languages']\n",
        "result = prg_question_4(phrases_list)\n",
        "print(result)"
      ],
      "metadata": {
        "colab": {
          "base_uri": "https://localhost:8080/"
        },
        "id": "omlkQ-f6Ykrw",
        "outputId": "0f44707a-45f4-4ee8-b4e0-fd7f55e2d9be"
      },
      "execution_count": 33,
      "outputs": [
        {
          "output_type": "stream",
          "name": "stdout",
          "text": [
            "[11, 2, 6, 2, 5, 4, 8, 2, 5, 9]\n"
          ]
        }
      ]
    },
    {
      "cell_type": "code",
      "source": [
        "def prg_question_4(phrases):\n",
        "    answer = []\n",
        "    for words in phrases:\n",
        "      answer.append(len(words))\n",
        "\n",
        "    return answer\n",
        "\n",
        "\n",
        "phrases_list = ['Programming', 'in', 'Python', 'is', 'super', 'easy', 'compared', 'to', 'other', 'languages']\n",
        "result = prg_question_4(phrases_list)\n",
        "print(result)\n"
      ],
      "metadata": {
        "colab": {
          "base_uri": "https://localhost:8080/"
        },
        "id": "IIQbTY3AYFzV",
        "outputId": "5a12f153-7a12-4536-f366-a3dc232d0a76"
      },
      "execution_count": 29,
      "outputs": [
        {
          "output_type": "stream",
          "name": "stdout",
          "text": [
            "[11, 2, 6, 2, 5, 4, 8, 2, 5, 9]\n"
          ]
        }
      ]
    }
  ]
}