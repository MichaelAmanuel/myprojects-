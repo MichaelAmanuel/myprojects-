{
  "nbformat": 4,
  "nbformat_minor": 0,
  "metadata": {
    "colab": {
      "provenance": []
    },
    "kernelspec": {
      "name": "python3",
      "display_name": "Python 3"
    },
    "language_info": {
      "name": "python"
    }
  },
  "cells": [
    {
      "cell_type": "code",
      "execution_count": 12,
      "metadata": {
        "colab": {
          "base_uri": "https://localhost:8080/"
        },
        "id": "1gXGqreiOdKP",
        "outputId": "25dd825d-1c31-488c-a5de-f4b29fdbbe5d"
      },
      "outputs": [
        {
          "output_type": "stream",
          "name": "stdout",
          "text": [
            "True\n"
          ]
        }
      ],
      "source": [
        "class Solution(object):\n",
        "    def detectCapitalUse(self, word):\n",
        "\n",
        "        if word[0].isupper():\n",
        "          count = 1\n",
        "          for i in range(1,len(word)):\n",
        "              if word[i].isupper():\n",
        "                count += 1\n",
        "          return True if count == 1 or count == len(word) else False\n",
        "\n",
        "        else:\n",
        "          count += 0\n",
        "          for i in range(len(word)):\n",
        "              if word[i].isupper():\n",
        "                count += 1\n",
        "          return True if count == 0 or count == len(word) else False\n",
        "\n",
        "\n",
        "solution = Solution()\n",
        "word = \"Google\"\n",
        "result = solution.detectCapitalUse(word)\n",
        "print(result)"
      ]
    }
  ]
}