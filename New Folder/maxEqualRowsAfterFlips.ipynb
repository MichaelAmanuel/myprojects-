{
  "nbformat": 4,
  "nbformat_minor": 0,
  "metadata": {
    "colab": {
      "provenance": []
    },
    "kernelspec": {
      "name": "python3",
      "display_name": "Python 3"
    },
    "language_info": {
      "name": "python"
    }
  },
  "cells": [
    {
      "cell_type": "code",
      "execution_count": null,
      "metadata": {
        "id": "kQjWvHzXch44",
        "colab": {
          "base_uri": "https://localhost:8080/"
        },
        "outputId": "b3d22a1b-b78b-4e2c-8b8c-04590b83ce94"
      },
      "outputs": [
        {
          "output_type": "stream",
          "name": "stdout",
          "text": [
            "7\n"
          ]
        }
      ],
      "source": [
        "\n",
        "class Solution:\n",
        "    def maxEqualRowsAfterFlips(self, matrix):\n",
        "        from collections import Counter\n",
        "\n",
        "        row_patterns = []\n",
        "        for row in matrix:\n",
        "            pattern = tuple(cell ^ row[0] for cell in row)\n",
        "            row_patterns.append(pattern)\n",
        "\n",
        "        pattern_counts = Counter(row_patterns)\n",
        "\n",
        "        return max(pattern_counts.values())\n"
      ]
    }
  ]
}