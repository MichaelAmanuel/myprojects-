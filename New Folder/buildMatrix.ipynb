{
  "nbformat": 4,
  "nbformat_minor": 0,
  "metadata": {
    "colab": {
      "provenance": []
    },
    "kernelspec": {
      "name": "python3",
      "display_name": "Python 3"
    },
    "language_info": {
      "name": "python"
    }
  },
  "cells": [
    {
      "cell_type": "code",
      "execution_count": null,
      "metadata": {
        "id": "kQjWvHzXch44"
      },
      "outputs": [],
      "source": [
        "from collections import defaultdict, deque\n",
        "\n",
        "class Solution(object):\n",
        "    def buildMatrix(self, k, rowConditions, colConditions):\n",
        "\n",
        "       def topological_sort(conditions, k):\n",
        "            in_degree = [0] * (k + 1)\n",
        "            graph = defaultdict(list)\n",
        "            for u, v in conditions:\n",
        "                graph[u].append(v)\n",
        "                in_degree[v] += 1\n",
        "\n",
        "            queue = deque([i for i in range(1, k + 1) if in_degree[i] == 0])\n",
        "            topo_order = []\n",
        "\n",
        "            while queue:\n",
        "                node = queue.popleft()\n",
        "                topo_order.append(node)\n",
        "                for neighbor in graph[node]:\n",
        "                    in_degree[neighbor] -= 1\n",
        "                    if in_degree[neighbor] == 0:\n",
        "                        queue.append(neighbor)\n",
        "\n",
        "            if len(topo_order) != k:\n",
        "                return []\n",
        "            return topo_order\n",
        "\n",
        "        row_order = topological_sort(rowConditions, k)\n",
        "        col_order = topological_sort(colConditions, k)\n",
        "\n",
        "        if not row_order or not col_order:\n",
        "            return []\n",
        "\n",
        "        row_pos = {num: i for i, num in enumerate(row_order)}\n",
        "        col_pos = {num: i for i, num in enumerate(col_order)}\n",
        "\n",
        "        matrix = [[0] * k for _ in range(k)]\n",
        "\n",
        "        for num in range(1, k + 1):\n",
        "            r = row_pos[num]\n",
        "            c = col_pos[num]\n",
        "            matrix[r][c] = num\n",
        "\n",
        "        return matrix\n",
        "\n",
        "solution = Solution()\n",
        "k = 3\n",
        "rowConditions = [[1, 2], [3, 2]]\n",
        "colConditions = [[2, 1], [3, 2]]\n",
        "print(solution.buildMatrix(k, rowConditions, colConditions))\n"
      ]
    }
  ]
}