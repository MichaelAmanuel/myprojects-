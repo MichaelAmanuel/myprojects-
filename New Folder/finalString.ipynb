{
  "nbformat": 4,
  "nbformat_minor": 0,
  "metadata": {
    "colab": {
      "provenance": []
    },
    "kernelspec": {
      "name": "python3",
      "display_name": "Python 3"
    },
    "language_info": {
      "name": "python"
    }
  },
  "cells": [
    {
      "cell_type": "code",
      "execution_count": 8,
      "metadata": {
        "colab": {
          "base_uri": "https://localhost:8080/"
        },
        "id": "IjbW6I6ljuaN",
        "outputId": "c56b1a23-d996-4fb9-e121-c02843b8568c"
      },
      "outputs": [
        {
          "output_type": "stream",
          "name": "stdout",
          "text": [
            "rtsng\n"
          ]
        }
      ],
      "source": [
        "\n",
        "class Solution(object):\n",
        "    def finalString(self, s):\n",
        "\n",
        "      o = ''\n",
        "      for i in s:\n",
        "        if i != 'i':\n",
        "          o += i\n",
        "        else:\n",
        "          o = o[::-1]\n",
        "\n",
        "      return o\n",
        "\n",
        "solution = Solution()\n",
        "s = \"string\"\n",
        "print(solution.finalString(s))"
      ]
    },
    {
      "cell_type": "code",
      "source": [],
      "metadata": {
        "id": "YWkcZOOxk6S7"
      },
      "execution_count": null,
      "outputs": []
    }
  ]
}