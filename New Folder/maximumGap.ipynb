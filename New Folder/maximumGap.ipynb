{
  "nbformat": 4,
  "nbformat_minor": 0,
  "metadata": {
    "colab": {
      "provenance": []
    },
    "kernelspec": {
      "name": "python3",
      "display_name": "Python 3"
    },
    "language_info": {
      "name": "python"
    }
  },
  "cells": [
    {
      "cell_type": "code",
      "source": [
        "class Solution(object):\n",
        "    def maximumGap(self, nums):\n",
        "\n",
        "      if len(nums) < 2:\n",
        "        return 0\n",
        "\n",
        "      num = sorted(nums)\n",
        "      dif = 0\n",
        "      for i in range(1, len(num)):\n",
        "        if (num[i] - num[i-1]) > dif:\n",
        "          dif = (num[i] - num[i-1])\n",
        "\n",
        "      return dif\n",
        "\n",
        "solution = Solution()\n",
        "nums = [100,3,2,1]\n",
        "print(solution.maximumGap(nums))\n"
      ],
      "metadata": {
        "colab": {
          "base_uri": "https://localhost:8080/"
        },
        "id": "pSGZusbzlwul",
        "outputId": "f26d10f2-e26f-4d98-f405-8f512f39ffa4"
      },
      "execution_count": 42,
      "outputs": [
        {
          "output_type": "stream",
          "name": "stdout",
          "text": [
            "97\n"
          ]
        }
      ]
    }
  ]
}