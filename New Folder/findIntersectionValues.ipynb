{
  "nbformat": 4,
  "nbformat_minor": 0,
  "metadata": {
    "colab": {
      "provenance": []
    },
    "kernelspec": {
      "name": "python3",
      "display_name": "Python 3"
    },
    "language_info": {
      "name": "python"
    }
  },
  "cells": [
    {
      "cell_type": "code",
      "execution_count": 5,
      "metadata": {
        "colab": {
          "base_uri": "https://localhost:8080/"
        },
        "id": "f4_Lu4s1BTFv",
        "outputId": "c8315ca5-baf3-4def-922c-5e76ac5c9be9"
      },
      "outputs": [
        {
          "output_type": "stream",
          "name": "stdout",
          "text": [
            "[0, 0]\n"
          ]
        }
      ],
      "source": [
        "class Solution(object):\n",
        "    def findIntersectionValues(self, nums1, nums2):\n",
        "\n",
        "      count_1 = 0\n",
        "      for i in nums1:\n",
        "        if i in nums2:\n",
        "          count_1 += 1\n",
        "\n",
        "      count_2 = 0\n",
        "      for j in nums2:\n",
        "        if j in nums1:\n",
        "          count_2 += 1\n",
        "\n",
        "      return [count_1, count_2]\n",
        "\n",
        "solution = Solution()\n",
        "nums1 = [3,4,2,3]\n",
        "nums2 = [1,5]\n",
        "print(solution.findIntersectionValues(nums1, nums2))"
      ]
    },
    {
      "cell_type": "code",
      "source": [],
      "metadata": {
        "id": "JH64NK98fpve"
      },
      "execution_count": null,
      "outputs": []
    }
  ]
}