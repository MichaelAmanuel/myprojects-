{
  "nbformat": 4,
  "nbformat_minor": 0,
  "metadata": {
    "colab": {
      "provenance": []
    },
    "kernelspec": {
      "name": "python3",
      "display_name": "Python 3"
    },
    "language_info": {
      "name": "python"
    }
  },
  "cells": [
    {
      "cell_type": "code",
      "execution_count": 3,
      "metadata": {
        "colab": {
          "base_uri": "https://localhost:8080/"
        },
        "id": "h-dVZ2fAFrUd",
        "outputId": "fbc2cbef-1ac7-49b2-ed98-0cd6fd3de447"
      },
      "outputs": [
        {
          "output_type": "stream",
          "name": "stdout",
          "text": [
            "D2B4A4C5E4\n"
          ]
        }
      ],
      "source": [
        "def compress_word(word):\n",
        "  s = list(word)\n",
        "  s_un = list(set(s))\n",
        "\n",
        "  result = ''\n",
        "  for i in s_un:\n",
        "    result += i\n",
        "    result += str(s.count(i))\n",
        "\n",
        "  return result\n",
        "\n",
        "word = 'AAAABBBBCCCCCDDEEEE'\n",
        "print(compress(word))"
      ]
    },
    {
      "cell_type": "code",
      "source": [
        "word = 'AAAABBBBCCCCCDDEEEE'\n",
        "s = list(word)\n",
        "s_un = list(set(s))\n",
        "\n",
        "result = ''\n",
        "for i in s_un:\n",
        "  result += i\n",
        "  result += str(s.count(i))\n",
        "\n",
        "print(result)"
      ],
      "metadata": {
        "colab": {
          "base_uri": "https://localhost:8080/"
        },
        "id": "DZN6872xFt_i",
        "outputId": "64dae53e-6287-4d1a-fb0a-d31ba4c0c307"
      },
      "execution_count": 2,
      "outputs": [
        {
          "output_type": "stream",
          "name": "stdout",
          "text": [
            "D2B4A4C5E4\n"
          ]
        }
      ]
    }
  ]
}