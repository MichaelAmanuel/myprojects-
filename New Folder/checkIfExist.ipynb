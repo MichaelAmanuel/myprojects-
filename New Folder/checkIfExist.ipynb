{
  "nbformat": 4,
  "nbformat_minor": 0,
  "metadata": {
    "colab": {
      "provenance": []
    },
    "kernelspec": {
      "name": "python3",
      "display_name": "Python 3"
    },
    "language_info": {
      "name": "python"
    }
  },
  "cells": [
    {
      "cell_type": "code",
      "execution_count": null,
      "metadata": {
        "id": "kQjWvHzXch44"
      },
      "outputs": [],
      "source": [
        "class Solution(object):\n",
        "    def checkIfExist(self, arr):\n",
        "\n",
        "        seen = set()\n",
        "        for num in arr:\n",
        "            if num * 2 in seen or (num % 2 == 0 and num // 2 in seen):\n",
        "                return True\n",
        "            seen.add(num)\n",
        "        return False"
      ]
    }
  ]
}