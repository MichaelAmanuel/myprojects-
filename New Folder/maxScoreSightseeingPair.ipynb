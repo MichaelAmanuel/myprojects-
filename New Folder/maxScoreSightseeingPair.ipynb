{
  "nbformat": 4,
  "nbformat_minor": 0,
  "metadata": {
    "colab": {
      "provenance": []
    },
    "kernelspec": {
      "name": "python3",
      "display_name": "Python 3"
    },
    "language_info": {
      "name": "python"
    }
  },
  "cells": [
    {
      "cell_type": "code",
      "execution_count": null,
      "metadata": {
        "id": "kQjWvHzXch44",
        "colab": {
          "base_uri": "https://localhost:8080/"
        },
        "outputId": "50e14a69-7a1a-437e-be44-e1ade4c7db4d"
      },
      "outputs": [
        {
          "output_type": "stream",
          "name": "stdout",
          "text": [
            "zzcacc\n",
            "bbab\n"
          ]
        }
      ],
      "source": [
        "class Solution(object):\n",
        "    def maxScoreSightseeingPair(self, values):\n",
        "\n",
        "        maxScore = 0\n",
        "        maxLeft = values[0]\n",
        "\n",
        "        for j in range(1, len(values)):\n",
        "\n",
        "            maxScore = max(maxScore, maxLeft + values[j] - j)\n",
        "\n",
        "            maxLeft = max(maxLeft, values[j] + j)\n",
        "\n",
        "        return maxScore\n"
      ]
    }
  ]
}