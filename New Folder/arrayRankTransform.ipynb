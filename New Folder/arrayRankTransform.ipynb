{
  "nbformat": 4,
  "nbformat_minor": 0,
  "metadata": {
    "colab": {
      "provenance": []
    },
    "kernelspec": {
      "name": "python3",
      "display_name": "Python 3"
    },
    "language_info": {
      "name": "python"
    }
  },
  "cells": [
    {
      "cell_type": "code",
      "execution_count": 12,
      "metadata": {
        "colab": {
          "base_uri": "https://localhost:8080/"
        },
        "id": "l-gkBRhGI4IU",
        "outputId": "494f743e-b94b-4fe3-fdf1-2de0c71c4bd1"
      },
      "outputs": [
        {
          "output_type": "stream",
          "name": "stdout",
          "text": [
            "[5, 3, 4, 2, 8, 6, 7, 1, 3]\n"
          ]
        }
      ],
      "source": [
        "class Solution(object):\n",
        "    def arrayRankTransform(self, arr):\n",
        "\n",
        "      ar = sorted(list(set(arr)))\n",
        "\n",
        "      result = []\n",
        "      for i in arr:\n",
        "        result.append(ar.index(i) +1)\n",
        "\n",
        "      return result\n",
        "\n",
        "solution = Solution()\n",
        "arr = [37,12,28,9,100,56,80,5,12]\n",
        "print(solution.arrayRankTransform(arr))"
      ]
    },
    {
      "cell_type": "code",
      "source": [
        "class Solution(object):\n",
        "    def arrayRankTransform(self, arr):\n",
        "        rank_dict = {val: i + 1 for i, val in enumerate(sorted(set(arr)))}\n",
        "        return [rank_dict[val] for val in arr]\n",
        "\n",
        "\n",
        "solution = Solution()\n",
        "arr = [37, 12, 28, 9, 100, 56, 80, 5, 12]\n",
        "print(solution.arrayRankTransform(arr))\n",
        "\n"
      ],
      "metadata": {
        "colab": {
          "base_uri": "https://localhost:8080/"
        },
        "id": "sFjoIpMSFZjE",
        "outputId": "d7529d67-9dfe-4501-9144-cc312a2e8de1"
      },
      "execution_count": 14,
      "outputs": [
        {
          "output_type": "stream",
          "name": "stdout",
          "text": [
            "[5, 3, 4, 2, 8, 6, 7, 1, 3]\n"
          ]
        }
      ]
    }
  ]
}