{
  "nbformat": 4,
  "nbformat_minor": 0,
  "metadata": {
    "colab": {
      "provenance": []
    },
    "kernelspec": {
      "name": "python3",
      "display_name": "Python 3"
    },
    "language_info": {
      "name": "python"
    }
  },
  "cells": [
    {
      "cell_type": "code",
      "execution_count": 10,
      "metadata": {
        "id": "kQjWvHzXch44"
      },
      "outputs": [],
      "source": [
        "\n",
        "class Solution:\n",
        "    def postorder(self, root):\n",
        "        if not root:\n",
        "            return []\n",
        "\n",
        "        stack, result = [root], []\n",
        "\n",
        "        while stack:\n",
        "            node = stack.pop()\n",
        "            result.append(node.val)\n",
        "            stack.extend(node.children)\n",
        "\n",
        "        return result[::-1]\n",
        "\n"
      ]
    }
  ]
}