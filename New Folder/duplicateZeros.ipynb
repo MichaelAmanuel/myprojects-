{
  "nbformat": 4,
  "nbformat_minor": 0,
  "metadata": {
    "colab": {
      "provenance": []
    },
    "kernelspec": {
      "name": "python3",
      "display_name": "Python 3"
    },
    "language_info": {
      "name": "python"
    }
  },
  "cells": [
    {
      "cell_type": "code",
      "source": [
        "class Solution(object):\n",
        "    def duplicateZeros(self, arr):\n",
        "\n",
        "      ar = []\n",
        "      for i in arr:\n",
        "        if len(arr) == len(ar):\n",
        "          return ar\n",
        "        elif i == 0:\n",
        "          ar.append(i)\n",
        "          ar.append(0)\n",
        "        else:\n",
        "          ar.append(i)\n",
        "\n",
        "      return ar\n",
        "solution = Solution()\n",
        "arr = [1,0,2,3,0,4,5,0]\n",
        "print(solution.duplicateZeros(arr))"
      ],
      "metadata": {
        "colab": {
          "base_uri": "https://localhost:8080/"
        },
        "id": "H90Pn0vkgBXK",
        "outputId": "730e07c2-c88a-40ac-b50e-634943f68ac9"
      },
      "execution_count": 26,
      "outputs": [
        {
          "output_type": "stream",
          "name": "stdout",
          "text": [
            "[1, 0, 0, 2, 3, 0, 0, 4]\n"
          ]
        }
      ]
    },
    {
      "cell_type": "code",
      "source": [
        "class Solution(object):\n",
        "    def duplicateZeros(self, arr):\n",
        "        n = len(arr)\n",
        "        i = 0\n",
        "        while i < n:\n",
        "            if arr[i] == 0:\n",
        "                arr.insert(i, 0)\n",
        "                arr.pop()\n",
        "                i += 1\n",
        "            i += 1\n",
        "        return arr\n",
        "\n",
        "solution = Solution()\n",
        "arr = [1, 0, 2, 3, 0, 4, 5, 0]\n",
        "print(solution.duplicateZeros(arr))\n"
      ],
      "metadata": {
        "colab": {
          "base_uri": "https://localhost:8080/"
        },
        "id": "v_V4P8WKhRIE",
        "outputId": "04cddad3-fbe2-4ac6-ac32-d47c3056a9b9"
      },
      "execution_count": 27,
      "outputs": [
        {
          "output_type": "stream",
          "name": "stdout",
          "text": [
            "[1, 0, 0, 2, 3, 0, 0, 4]\n"
          ]
        }
      ]
    },
    {
      "cell_type": "markdown",
      "source": [],
      "metadata": {
        "id": "3SOHjeT5j7qP"
      }
    }
  ]
}