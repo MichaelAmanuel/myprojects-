{
  "nbformat": 4,
  "nbformat_minor": 0,
  "metadata": {
    "colab": {
      "provenance": []
    },
    "kernelspec": {
      "name": "python3",
      "display_name": "Python 3"
    },
    "language_info": {
      "name": "python"
    }
  },
  "cells": [
    {
      "cell_type": "code",
      "execution_count": null,
      "metadata": {
        "id": "kQjWvHzXch44"
      },
      "outputs": [],
      "source": [
        "class Solution(object):\n",
        "    def preorderTraversal(self, root):\n",
        "        result = []\n",
        "        stack = [root] if root else []\n",
        "\n",
        "        while stack:\n",
        "            node = stack.pop()\n",
        "            result.append(node.val)\n",
        "            if node.right:\n",
        "                stack.append(node.right)\n",
        "            if node.left:\n",
        "                stack.append(node.left)\n",
        "\n",
        "        return result\n"
      ]
    },
    {
      "cell_type": "code",
      "source": [],
      "metadata": {
        "id": "HhjYAmsPmpz5"
      },
      "execution_count": null,
      "outputs": []
    }
  ]
}