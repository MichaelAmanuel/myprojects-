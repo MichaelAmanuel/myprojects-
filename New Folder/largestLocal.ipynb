{
  "nbformat": 4,
  "nbformat_minor": 0,
  "metadata": {
    "colab": {
      "provenance": []
    },
    "kernelspec": {
      "name": "python3",
      "display_name": "Python 3"
    },
    "language_info": {
      "name": "python"
    }
  },
  "cells": [
    {
      "cell_type": "code",
      "execution_count": 1,
      "metadata": {
        "colab": {
          "base_uri": "https://localhost:8080/"
        },
        "id": "Gzy1kKergehu",
        "outputId": "0b3bae2f-7f37-46b2-a4f0-7c9ca19e0fb3"
      },
      "outputs": [
        {
          "output_type": "stream",
          "name": "stdout",
          "text": [
            "[[9, 9], [8, 6]]\n"
          ]
        }
      ],
      "source": [
        "class Solution(object):\n",
        "    def largestLocal(self, grid):\n",
        "        n = len(grid)\n",
        "        maxLocal = [[0] * (n - 2) for _ in range(n - 2)]\n",
        "\n",
        "        for i in range(n - 2):\n",
        "            for j in range(n - 2):\n",
        "                max_val = 0\n",
        "                for x in range(i, i + 3):\n",
        "                    for y in range(j, j + 3):\n",
        "                        max_val = max(max_val, grid[x][y])\n",
        "                maxLocal[i][j] = max_val\n",
        "\n",
        "        return maxLocal\n",
        "\n",
        "solution = Solution()\n",
        "grid = [[9,9,8,1],[5,6,2,6],[8,2,6,4],[6,2,2,2]]\n",
        "sol = Solution()\n",
        "print(sol.largestLocal(grid))"
      ]
    }
  ]
}