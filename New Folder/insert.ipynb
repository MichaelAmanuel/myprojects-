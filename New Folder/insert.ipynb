{
  "nbformat": 4,
  "nbformat_minor": 0,
  "metadata": {
    "colab": {
      "provenance": []
    },
    "kernelspec": {
      "name": "python3",
      "display_name": "Python 3"
    },
    "language_info": {
      "name": "python"
    }
  },
  "cells": [
    {
      "cell_type": "code",
      "execution_count": 1,
      "metadata": {
        "id": "QskDGCHVSKVB",
        "colab": {
          "base_uri": "https://localhost:8080/"
        },
        "outputId": "22abcaa7-02da-4ae5-9f43-37c95627c009"
      },
      "outputs": [
        {
          "output_type": "stream",
          "name": "stdout",
          "text": [
            "[[1, 5], [6, 9]]\n"
          ]
        }
      ],
      "source": [
        "class Solution:\n",
        "    def insert(self, intervals, newInterval):\n",
        "        merged_intervals = []\n",
        "        insert_index = 0\n",
        "\n",
        "        for interval in intervals:\n",
        "            if interval[1] < newInterval[0]:\n",
        "                merged_intervals.append(interval)\n",
        "                insert_index += 1\n",
        "            elif interval[0] > newInterval[1]:\n",
        "                merged_intervals.append(newInterval)\n",
        "                newInterval = interval\n",
        "            else:\n",
        "                newInterval[0] = min(newInterval[0], interval[0])\n",
        "                newInterval[1] = max(newInterval[1], interval[1])\n",
        "\n",
        "        merged_intervals.append(newInterval)\n",
        "\n",
        "        return merged_intervals\n",
        "\n",
        "solution = Solution()\n",
        "intervals = [[1,3],[6,9]]\n",
        "newInterval = [2,5]\n",
        "print(solution.insert(intervals, newInterval))"
      ]
    }
  ]
}