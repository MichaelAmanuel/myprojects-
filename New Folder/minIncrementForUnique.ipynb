{
  "nbformat": 4,
  "nbformat_minor": 0,
  "metadata": {
    "colab": {
      "provenance": []
    },
    "kernelspec": {
      "name": "python3",
      "display_name": "Python 3"
    },
    "language_info": {
      "name": "python"
    }
  },
  "cells": [
    {
      "cell_type": "code",
      "execution_count": 1,
      "metadata": {
        "colab": {
          "base_uri": "https://localhost:8080/"
        },
        "id": "LSsmlLk56Ajd",
        "outputId": "70a25f18-74b1-4712-e263-d62f4f831b35"
      },
      "outputs": [
        {
          "output_type": "stream",
          "name": "stdout",
          "text": [
            "1\n"
          ]
        }
      ],
      "source": [
        "class Solution(object):\n",
        "    def minIncrementForUnique(self, nums):\n",
        "\n",
        "        if not nums:\n",
        "            return 0\n",
        "\n",
        "        nums.sort()\n",
        "        moves = 0\n",
        "\n",
        "        for i in range(1, len(nums)):\n",
        "            if nums[i] <= nums[i - 1]:\n",
        "                increment = nums[i - 1] + 1 - nums[i]\n",
        "                nums[i] = nums[i - 1] + 1\n",
        "                moves += increment\n",
        "\n",
        "        return moves\n",
        "\n",
        "solution = Solution()\n",
        "nums = [1, 2, 2]\n",
        "print(solution.minIncrementForUnique(nums))"
      ]
    }
  ]
}