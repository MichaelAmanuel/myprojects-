{
  "nbformat": 4,
  "nbformat_minor": 0,
  "metadata": {
    "colab": {
      "provenance": []
    },
    "kernelspec": {
      "name": "python3",
      "display_name": "Python 3"
    },
    "language_info": {
      "name": "python"
    }
  },
  "cells": [
    {
      "cell_type": "code",
      "source": [
        "class Solution(object):\n",
        "    def average(self, salary):\n",
        "\n",
        "      sal = []\n",
        "\n",
        "      for i in salary:\n",
        "        if i == max(salary) or i == min(salary):\n",
        "          pass\n",
        "        else:\n",
        "          sal.append(i)\n",
        "\n",
        "      return float(sum(sal) / len(sal))\n",
        "\n",
        "solution = Solution()\n",
        "salary = [48000,59000,99000,13000,78000,45000,31000,17000,39000,37000,93000,77000,33000,28000,4000,54000,67000,6000,1000,11000]\n",
        "print(solution.average(salary))"
      ],
      "metadata": {
        "colab": {
          "base_uri": "https://localhost:8080/"
        },
        "id": "kT_sWQnj0hQc",
        "outputId": "59fc6d71-4d19-4356-810b-ab22115d2481"
      },
      "execution_count": 19,
      "outputs": [
        {
          "output_type": "stream",
          "name": "stdout",
          "text": [
            "41111.11111111111\n"
          ]
        }
      ]
    }
  ]
}