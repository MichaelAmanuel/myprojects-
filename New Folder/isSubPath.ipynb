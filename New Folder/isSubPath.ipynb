{
  "nbformat": 4,
  "nbformat_minor": 0,
  "metadata": {
    "colab": {
      "provenance": []
    },
    "kernelspec": {
      "name": "python3",
      "display_name": "Python 3"
    },
    "language_info": {
      "name": "python"
    }
  },
  "cells": [
    {
      "cell_type": "code",
      "execution_count": 1,
      "metadata": {
        "id": "kQjWvHzXch44"
      },
      "outputs": [],
      "source": [
        "class ListNode(object):\n",
        "    def __init__(self, val=0, next=None):\n",
        "        self.val = val\n",
        "        self.next = next\n",
        "\n",
        "class TreeNode(object):\n",
        "    def __init__(self, val=0, left=None, right=None):\n",
        "        self.val = val\n",
        "        self.left = left\n",
        "        self.right = right\n",
        "\n",
        "class Solution(object):\n",
        "    def isSubPath(self, head, root):\n",
        "\n",
        "        def dfs(head, node):\n",
        "            if not head:\n",
        "                return True\n",
        "            if not node:\n",
        "                return False\n",
        "            if node.val != head.val:\n",
        "                return False\n",
        "\n",
        "            return dfs(head.next, node.left) or dfs(head.next, node.right)\n",
        "\n",
        "        if not root:\n",
        "            return False\n",
        "\n",
        "        return dfs(head, root) or self.isSubPath(head, root.left) or self.isSubPath(head, root.right)\n"
      ]
    },
    {
      "cell_type": "code",
      "source": [],
      "metadata": {
        "id": "6FcGHhRC-DGY"
      },
      "execution_count": null,
      "outputs": []
    }
  ]
}