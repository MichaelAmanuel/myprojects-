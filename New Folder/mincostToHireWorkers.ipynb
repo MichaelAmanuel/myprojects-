{
  "nbformat": 4,
  "nbformat_minor": 0,
  "metadata": {
    "colab": {
      "provenance": []
    },
    "kernelspec": {
      "name": "python3",
      "display_name": "Python 3"
    },
    "language_info": {
      "name": "python"
    }
  },
  "cells": [
    {
      "cell_type": "code",
      "execution_count": 3,
      "metadata": {
        "colab": {
          "base_uri": "https://localhost:8080/"
        },
        "id": "Po0le6c4SmBK",
        "outputId": "6ec17c1d-1ea4-4248-a28e-cf1bc9403567"
      },
      "outputs": [
        {
          "output_type": "stream",
          "name": "stdout",
          "text": [
            "30.666666666666664\n"
          ]
        }
      ],
      "source": [
        "import heapq\n",
        "\n",
        "class Solution:\n",
        "    def mincostToHireWorkers(self, quality, wage, k):\n",
        "        n = len(quality)\n",
        "        workers = sorted((w / q, q) for w, q in zip(wage, quality))\n",
        "        min_cost = float('inf')\n",
        "        quality_heap = []\n",
        "        sum_quality = 0\n",
        "\n",
        "        for ratio, q in workers:\n",
        "            heapq.heappush(quality_heap, -q)\n",
        "            sum_quality += q\n",
        "\n",
        "            if len(quality_heap) > k:\n",
        "                sum_quality += heapq.heappop(quality_heap)\n",
        "\n",
        "            if len(quality_heap) == k:\n",
        "                min_cost = min(min_cost, ratio * sum_quality)\n",
        "\n",
        "        return min_cost\n",
        "\n",
        "\n",
        "solution = Solution()\n",
        "quality = [3,1,10,10,1]\n",
        "wage = [4,8,2,2,7]\n",
        "k = 3\n",
        "result = solution.mincostToHireWorkers(quality, wage, k)\n",
        "print(result)"
      ]
    },
    {
      "cell_type": "code",
      "source": [],
      "metadata": {
        "id": "9gGn-BY-S0fF"
      },
      "execution_count": null,
      "outputs": []
    }
  ]
}