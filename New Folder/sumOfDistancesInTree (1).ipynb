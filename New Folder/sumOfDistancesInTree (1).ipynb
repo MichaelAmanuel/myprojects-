{
  "nbformat": 4,
  "nbformat_minor": 0,
  "metadata": {
    "colab": {
      "provenance": []
    },
    "kernelspec": {
      "name": "python3",
      "display_name": "Python 3"
    },
    "language_info": {
      "name": "python"
    }
  },
  "cells": [
    {
      "cell_type": "code",
      "execution_count": null,
      "metadata": {
        "id": "SsN2X6oMOzKR"
      },
      "outputs": [],
      "source": [
        "from collections import defaultdict\n",
        "\n",
        "class Solution:\n",
        "    def sumOfDistancesInTree(self, n, edges):\n",
        "\n",
        "        graph = defaultdict(list)\n",
        "        for u, v in edges:\n",
        "            graph[u].append(v)\n",
        "            graph[v].append(u)\n",
        "\n",
        "        count = [0] * n\n",
        "        distance_sum = [0] * n\n",
        "\n",
        "        def dfs(node, parent):\n",
        "            count[node] = 1\n",
        "            for neighbor in graph[node]:\n",
        "                if neighbor != parent:\n",
        "                    dfs(neighbor, node)\n",
        "                    count[node] += count[neighbor]\n",
        "                    distance_sum[node] += distance_sum[neighbor] + count[neighbor]\n",
        "\n",
        "        dfs(0, -1)\n",
        "        def dfs2(node, parent):\n",
        "            for neighbor in graph[node]:\n",
        "                if neighbor != parent:\n",
        "                    distance_sum[neighbor] = distance_sum[node] - count[neighbor] + (n - count[neighbor])\n",
        "                    dfs2(neighbor, node)\n",
        "\n",
        "        dfs2(0, -1)\n",
        "\n",
        "        return distance_sum\n",
        "\n",
        "solution = Solution()\n",
        "n = 6\n",
        "edges = [[0,1],[0,2],[2,3],[2,4],[2,5]]\n",
        "print(solution.sumOfDistancesInTree(n, edges))"
      ]
    }
  ]
}