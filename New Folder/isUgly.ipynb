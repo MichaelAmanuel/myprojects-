{
  "nbformat": 4,
  "nbformat_minor": 0,
  "metadata": {
    "colab": {
      "provenance": []
    },
    "kernelspec": {
      "name": "python3",
      "display_name": "Python 3"
    },
    "language_info": {
      "name": "python"
    }
  },
  "cells": [
    {
      "cell_type": "code",
      "execution_count": 12,
      "metadata": {
        "colab": {
          "base_uri": "https://localhost:8080/"
        },
        "id": "bbPMrHM-gSme",
        "outputId": "840701f1-33d7-4581-fbd4-b4d9c2ffca62"
      },
      "outputs": [
        {
          "output_type": "stream",
          "name": "stdout",
          "text": [
            "False\n"
          ]
        }
      ],
      "source": [
        "\n",
        "import math\n",
        "\n",
        "class Solution(object):\n",
        "    def isUgly(self, n):\n",
        "\n",
        "      if n == 1 or n==5 :\n",
        "        return True\n",
        "      elif n <= 0  or n==7:\n",
        "          return False\n",
        "\n",
        "      def is_prime(num):\n",
        "          if num < 2:\n",
        "              return False\n",
        "          for i in range(2, int(num**0.5) + 1):\n",
        "              if num % i == 0:\n",
        "                  return False\n",
        "          return True\n",
        "\n",
        "      if n >= 7 and is_prime(n):\n",
        "        return False\n",
        "\n",
        "      else:\n",
        "        for number in range(2, int( math.ceil(n/2))+1):\n",
        "          if n % number == 0 and number > 5:\n",
        "            if is_prime(number):\n",
        "                return False\n",
        "        else:\n",
        "          return True\n",
        "\n",
        "solution = Solution()\n",
        "n = 11\n",
        "print(solution.isUgly(n))\n",
        "\n"
      ]
    },
    {
      "cell_type": "code",
      "source": [
        "class Solution:\n",
        "    def isUgly(self, n):\n",
        "        if n <= 0:\n",
        "            return False\n",
        "        for factor in [2, 3, 5]:\n",
        "            while n % factor == 0:\n",
        "                n /= factor\n",
        "        return n == 1\n",
        "\n",
        "solution = Solution()\n",
        "n = 11\n",
        "print(solution.isUgly(n))\n"
      ],
      "metadata": {
        "colab": {
          "base_uri": "https://localhost:8080/"
        },
        "id": "EQ1ryg_Jgzkc",
        "outputId": "90b576d8-ee9e-4186-eeb0-f911b3f124d6"
      },
      "execution_count": 13,
      "outputs": [
        {
          "output_type": "stream",
          "name": "stdout",
          "text": [
            "False\n"
          ]
        }
      ]
    }
  ]
}