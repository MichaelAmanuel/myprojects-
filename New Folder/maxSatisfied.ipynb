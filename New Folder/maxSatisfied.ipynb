{
  "nbformat": 4,
  "nbformat_minor": 0,
  "metadata": {
    "colab": {
      "provenance": []
    },
    "kernelspec": {
      "name": "python3",
      "display_name": "Python 3"
    },
    "language_info": {
      "name": "python"
    }
  },
  "cells": [
    {
      "cell_type": "code",
      "execution_count": 1,
      "metadata": {
        "colab": {
          "base_uri": "https://localhost:8080/"
        },
        "id": "Mpf1AYFHCh0E",
        "outputId": "c7215fb9-6c99-4eaf-c396-e49ec4799246"
      },
      "outputs": [
        {
          "output_type": "stream",
          "name": "stdout",
          "text": [
            "16\n"
          ]
        }
      ],
      "source": [
        "class Solution(object):\n",
        "    def maxSatisfied(self, customers, grumpy, minutes):\n",
        "        n = len(customers)\n",
        "\n",
        "        initial_satisfied = sum(customers[i] for i in range(n) if grumpy[i] == 0)\n",
        "\n",
        "        additional_satisfied = 0\n",
        "        for i in range(minutes):\n",
        "            if grumpy[i] == 1:\n",
        "                additional_satisfied += customers[i]\n",
        "\n",
        "        max_additional_satisfied = additional_satisfied\n",
        "\n",
        "        for i in range(minutes, n):\n",
        "            if grumpy[i] == 1:\n",
        "                additional_satisfied += customers[i]\n",
        "            if grumpy[i - minutes] == 1:\n",
        "                additional_satisfied -= customers[i - minutes]\n",
        "            max_additional_satisfied = max(max_additional_satisfied, additional_satisfied)\n",
        "\n",
        "        return initial_satisfied + max_additional_satisfied\n",
        "\n",
        "solution = Solution()\n",
        "customers = [1, 0, 1, 2, 1, 1, 7, 5]\n",
        "grumpy = [0, 1, 0, 1, 0, 1, 0, 1]\n",
        "minutes = 3\n",
        "print(solution.maxSatisfied(customers, grumpy, minutes))\n",
        "\n",
        ""
      ]
    }
  ]
}