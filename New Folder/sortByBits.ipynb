{
  "nbformat": 4,
  "nbformat_minor": 0,
  "metadata": {
    "colab": {
      "provenance": []
    },
    "kernelspec": {
      "name": "python3",
      "display_name": "Python 3"
    },
    "language_info": {
      "name": "python"
    }
  },
  "cells": [
    {
      "cell_type": "code",
      "execution_count": 22,
      "metadata": {
        "colab": {
          "base_uri": "https://localhost:8080/"
        },
        "id": "kGNUB-KohrNh",
        "outputId": "c3988630-7d5c-42d6-eae5-bab81ecace55"
      },
      "outputs": [
        {
          "output_type": "stream",
          "name": "stdout",
          "text": [
            "[1, 2, 4, 8, 16, 32, 64, 128, 256, 512, 1024]\n"
          ]
        }
      ],
      "source": [
        "class Solution(object):\n",
        "    def sortByBits(self, arr):\n",
        "\n",
        "      bi = []\n",
        "      for i in sorted(arr):\n",
        "        bi.append(bin(i)[2:])\n",
        "\n",
        "      dic = dict(zip(sorted(arr), bi))\n",
        "      x = 0\n",
        "      o_p = []\n",
        "      while len(o_p) < len(arr):\n",
        "        for key, value in dic.items():\n",
        "          if value.count('1') == x:\n",
        "            o_p.append(key)\n",
        "        x += 1\n",
        "\n",
        "      return o_p\n",
        "\n",
        "solution = Solution()\n",
        "arr = [1024,512,256,128,64,32,16,8,4,2,1]\n",
        "print(solution.sortByBits(arr))"
      ]
    },
    {
      "cell_type": "code",
      "source": [
        "class Solution(object):\n",
        "    def sortByBits(self, arr):\n",
        "\n",
        "        def count_ones(num):\n",
        "            count = 0\n",
        "            while num:\n",
        "                count += num & 1\n",
        "                num >>= 1\n",
        "            return count\n",
        "\n",
        "\n",
        "        return sorted(arr, key=lambda num: (count_ones(num), num))\n",
        "\n",
        "\n",
        "solution = Solution()\n",
        "arr = [1024, 512, 256, 128, 64, 32, 16, 8, 4, 2, 1]\n",
        "sorted_arr = solution.sortByBits(arr)\n",
        "print(sorted_arr)"
      ],
      "metadata": {
        "colab": {
          "base_uri": "https://localhost:8080/"
        },
        "id": "AKbQnZYqrqLR",
        "outputId": "639cb941-eea5-44f2-b014-67e2594bc06a"
      },
      "execution_count": 21,
      "outputs": [
        {
          "output_type": "stream",
          "name": "stdout",
          "text": [
            "[1, 2, 4, 8, 16, 32, 64, 128, 256, 512, 1024]\n"
          ]
        }
      ]
    }
  ]
}