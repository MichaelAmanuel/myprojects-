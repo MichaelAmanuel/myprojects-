{
  "nbformat": 4,
  "nbformat_minor": 0,
  "metadata": {
    "colab": {
      "provenance": []
    },
    "kernelspec": {
      "name": "python3",
      "display_name": "Python 3"
    },
    "language_info": {
      "name": "python"
    }
  },
  "cells": [
    {
      "cell_type": "code",
      "execution_count": 9,
      "metadata": {
        "colab": {
          "base_uri": "https://localhost:8080/"
        },
        "id": "Ha2AVSYRkkfi",
        "outputId": "31f08a68-8095-4dc1-f79d-c719a8e17bb4"
      },
      "outputs": [
        {
          "output_type": "stream",
          "name": "stdout",
          "text": [
            "False\n"
          ]
        }
      ],
      "source": [
        "class Solution(object):\n",
        "    def checkPerfectNumber(self, num):\n",
        "\n",
        "      if num % 2 != 0:\n",
        "        return False\n",
        "\n",
        "      else:\n",
        "        divisors = 0\n",
        "        for i in range(1, int(num/2) + 1):\n",
        "            if num % i == 0:\n",
        "                divisors += i\n",
        "\n",
        "      return True if divisors == num  else False\n",
        "\n",
        "\n",
        "solution = Solution()\n",
        "num = 99999992\n",
        "print(solution.checkPerfectNumber(num))\n",
        ""
      ]
    },
    {
      "cell_type": "code",
      "source": [
        "import math\n",
        "class Solution(object):\n",
        "    def checkPerfectNumber(self, num):\n",
        "\n",
        "      if num % 2 != 0:\n",
        "        return False\n",
        "\n",
        "      divisors = 0\n",
        "      sqrt_n = int(math.sqrt(num))\n",
        "      for i in range(1, sqrt_n + 1):\n",
        "          if num % i == 0:\n",
        "              divisors += (i)\n",
        "              if i !=( num // i) and (num//i != num):\n",
        "                  divisors += (num // i)\n",
        "\n",
        "      return True if divisors == num  else False\n",
        "\n",
        "\n",
        "solution = Solution()\n",
        "num = 28\n",
        "print(solution.checkPerfectNumber(num))\n",
        ""
      ],
      "metadata": {
        "colab": {
          "base_uri": "https://localhost:8080/"
        },
        "id": "dmtyTfJ0pL-N",
        "outputId": "a8238f3d-a324-46f4-c02f-6863591925fe"
      },
      "execution_count": 26,
      "outputs": [
        {
          "output_type": "stream",
          "name": "stdout",
          "text": [
            "True\n"
          ]
        }
      ]
    },
    {
      "cell_type": "code",
      "source": [
        "def find_divisors(n):\n",
        "    divisors = 0\n",
        "    for i in range(1, int(n/2) + 1):\n",
        "        if n % i == 0:\n",
        "            divisors += i\n",
        "    return divisors\n",
        "\n",
        "# Example usage:\n",
        "number = 99999992\n",
        "print(\"Divisors of\", number, \"are:\", find_divisors(number))\n"
      ],
      "metadata": {
        "colab": {
          "base_uri": "https://localhost:8080/"
        },
        "id": "u7YLO7LqoDWu",
        "outputId": "a736cb68-a679-4be5-ced1-accb6972ce04"
      },
      "execution_count": 8,
      "outputs": [
        {
          "output_type": "stream",
          "name": "stdout",
          "text": [
            "Divisors of 99999992 are: 87500008\n"
          ]
        }
      ]
    },
    {
      "cell_type": "code",
      "source": [
        "import math\n",
        "\n",
        "def find_divisors(n):\n",
        "    divisors = []\n",
        "    sqrt_n = int(math.sqrt(n))\n",
        "    for i in range(1, sqrt_n + 1):\n",
        "        if n % i == 0:\n",
        "            divisors.append(i)\n",
        "            if i != n // i and (n//i != n):\n",
        "                divisors.append(n // i)\n",
        "    return divisors\n",
        "\n",
        "\n",
        "number = 28\n",
        "print(\"Divisors of\", number, \"are:\", find_divisors(number))\n"
      ],
      "metadata": {
        "colab": {
          "base_uri": "https://localhost:8080/"
        },
        "id": "MATm3q4SoD4e",
        "outputId": "a05ed1b4-e7bf-49d5-d151-8ab04c0a98f0"
      },
      "execution_count": 23,
      "outputs": [
        {
          "output_type": "stream",
          "name": "stdout",
          "text": [
            "Divisors of 28 are: [1, 2, 14, 4, 7]\n"
          ]
        }
      ]
    }
  ]
}