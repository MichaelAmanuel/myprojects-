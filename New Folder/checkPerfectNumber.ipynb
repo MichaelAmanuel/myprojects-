{
  "nbformat": 4,
  "nbformat_minor": 0,
  "metadata": {
    "colab": {
      "provenance": []
    },
    "kernelspec": {
      "name": "python3",
      "display_name": "Python 3"
    },
    "language_info": {
      "name": "python"
    }
  },
  "cells": [
    {
      "cell_type": "code",
      "execution_count": 2,
      "metadata": {
        "colab": {
          "base_uri": "https://localhost:8080/"
        },
        "id": "KCz4axH7BJvz",
        "outputId": "0f7173f7-1c54-4582-9a06-93d6b988936e"
      },
      "outputs": [
        {
          "output_type": "stream",
          "name": "stdout",
          "text": [
            "[1, 2, 4, 7, 14]\n"
          ]
        }
      ],
      "source": [
        "class Solution(object):\n",
        "    def checkPerfectNumber(self, num):\n",
        "        sum_div = 0\n",
        "        for i in range(1, (num / 2) + 1):\n",
        "            if num % i == 0:\n",
        "                sum_div += i\n",
        "        if sum_div == num:\n",
        "            return (True)\n",
        "        else:\n",
        "            return (False)\n",
        "\n",
        "solution_instance = Solution()\n",
        "num = 28\n",
        "result = solution_instance.checkPerfectNumber(num)\n",
        "print(result)"
      ]
    },
    {
      "cell_type": "code",
      "source": [
        "class Solution(object):\n",
        "    def checkPerfectNumber(self, num):\n",
        "        sum_d = []\n",
        "        for i in range(1, num):\n",
        "          if num % i== 0:\n",
        "            sum_d.append(i)\n",
        "\n",
        "        return True if sum(sum_d) == num else False\n",
        "\n",
        "solution_instance = Solution()\n",
        "num = 28\n",
        "result = solution_instance.checkPerfectNumber(num)\n",
        "print(result)"
      ],
      "metadata": {
        "colab": {
          "base_uri": "https://localhost:8080/"
        },
        "id": "i4c3bv6sDdDj",
        "outputId": "ac92b93d-64ae-4d88-86ef-7241ccaf3263"
      },
      "execution_count": 6,
      "outputs": [
        {
          "output_type": "stream",
          "name": "stdout",
          "text": [
            "True\n"
          ]
        }
      ]
    },
    {
      "cell_type": "code",
      "source": [
        "import math\n",
        "class Solution(object):\n",
        "    def checkPerfectNumber(self, num):\n",
        "\n",
        "        sum_d = [n for n in range(1, math.ceil(num/2) + 1) if num % n == 0]\n",
        "\n",
        "        return True if sum(sum_d) == num else False\n",
        "\n",
        "solution_instance = Solution()\n",
        "num = 99999991\n",
        "result = solution_instance.checkPerfectNumber(num)\n",
        "print(result)"
      ],
      "metadata": {
        "colab": {
          "base_uri": "https://localhost:8080/"
        },
        "outputId": "2c259af3-9136-4d76-ea36-58d4a4e029e1",
        "id": "r7BFpZeRF1wI"
      },
      "execution_count": 13,
      "outputs": [
        {
          "output_type": "stream",
          "name": "stdout",
          "text": [
            "False\n"
          ]
        }
      ]
    }
  ]
}