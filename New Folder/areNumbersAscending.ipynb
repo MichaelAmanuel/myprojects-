{
  "nbformat": 4,
  "nbformat_minor": 0,
  "metadata": {
    "colab": {
      "provenance": []
    },
    "kernelspec": {
      "name": "python3",
      "display_name": "Python 3"
    },
    "language_info": {
      "name": "python"
    }
  },
  "cells": [
    {
      "cell_type": "code",
      "execution_count": 7,
      "metadata": {
        "colab": {
          "base_uri": "https://localhost:8080/"
        },
        "id": "D-FF9UKTzfrR",
        "outputId": "b2fb91f7-55c5-4e4a-90f6-25f1bd10cc84"
      },
      "outputs": [
        {
          "output_type": "stream",
          "name": "stdout",
          "text": [
            "False\n"
          ]
        }
      ],
      "source": [
        "class Solution(object):\n",
        "    def areNumbersAscending(self, s):\n",
        "\n",
        "      ss = s.split(' ')\n",
        "      nums = []\n",
        "      for i in ss:\n",
        "        if i.isdigit() :\n",
        "          nums.append(int(i))\n",
        "\n",
        "      for j in range(len(nums)-1):\n",
        "        if nums[j] >= nums[j+1]:\n",
        "          return False\n",
        "      return True\n",
        "\n",
        "solution = Solution()\n",
        "s = \"hello world 5 x 5\"\n",
        "print(solution.areNumbersAscending(s))"
      ]
    },
    {
      "cell_type": "code",
      "source": [
        "class Solution(object):\n",
        "    def areNumbersAscending(self, s):\n",
        "\n",
        "      ss = s.split(' ')\n",
        "      nums = []\n",
        "      for i in ss:\n",
        "        if i.isdigit() :\n",
        "          nums.append(int(i))\n",
        "\n",
        "      for j in range(len(nums)-1):\n",
        "        if nums[j] >= nums[j+1]:\n",
        "          return False\n",
        "      return True\n",
        "\n",
        "solution = Solution()\n",
        "s = \"hello world 5 x 5\"\n",
        "print(solution.areNumbersAscending(s))"
      ],
      "metadata": {
        "id": "vXj7eYW9zzGK"
      },
      "execution_count": null,
      "outputs": []
    }
  ]
}