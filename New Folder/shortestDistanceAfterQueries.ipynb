{
  "nbformat": 4,
  "nbformat_minor": 0,
  "metadata": {
    "colab": {
      "provenance": []
    },
    "kernelspec": {
      "name": "python3",
      "display_name": "Python 3"
    },
    "language_info": {
      "name": "python"
    }
  },
  "cells": [
    {
      "cell_type": "code",
      "execution_count": null,
      "metadata": {
        "id": "kQjWvHzXch44",
        "colab": {
          "base_uri": "https://localhost:8080/"
        },
        "outputId": "b3d22a1b-b78b-4e2c-8b8c-04590b83ce94"
      },
      "outputs": [
        {
          "output_type": "stream",
          "name": "stdout",
          "text": [
            "7\n"
          ]
        }
      ],
      "source": [
        "from heapq import heappop, heappush\n",
        "from collections import defaultdict\n",
        "\n",
        "class Solution(object):\n",
        "    def shortestDistanceAfterQueries(self, n, queries):\n",
        "        graph = defaultdict(list)\n",
        "        for i in range(n - 1):\n",
        "            graph[i].append((i + 1, 1))\n",
        "\n",
        "        result = []\n",
        "\n",
        "        def dijkstra():\n",
        "            distances = [float('inf')] * n\n",
        "            distances[0] = 0\n",
        "            pq = [(0, 0)]\n",
        "            while pq:\n",
        "                curr_dist, node = heappop(pq)\n",
        "                if curr_dist > distances[node]:\n",
        "                    continue\n",
        "                for neighbor, weight in graph[node]:\n",
        "                    new_dist = curr_dist + weight\n",
        "                    if new_dist < distances[neighbor]:\n",
        "                        distances[neighbor] = new_dist\n",
        "                        heappush(pq, (new_dist, neighbor))\n",
        "            return distances[n - 1]\n",
        "\n",
        "        for u, v in queries:\n",
        "            graph[u].append((v, 1))\n",
        "            result.append(dijkstra())\n",
        "\n",
        "        return result\n"
      ]
    }
  ]
}