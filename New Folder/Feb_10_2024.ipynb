{
  "nbformat": 4,
  "nbformat_minor": 0,
  "metadata": {
    "colab": {
      "provenance": []
    },
    "kernelspec": {
      "name": "python3",
      "display_name": "Python 3"
    },
    "language_info": {
      "name": "python"
    }
  },
  "cells": [
    {
      "cell_type": "code",
      "execution_count": 21,
      "metadata": {
        "colab": {
          "base_uri": "https://localhost:8080/"
        },
        "id": "0nAm84dMtl63",
        "outputId": "686de1b8-d3c3-47c4-87cc-cfe31236ee6a"
      },
      "outputs": [
        {
          "output_type": "stream",
          "name": "stdout",
          "text": [
            "[51, 2, 3, 4]\n"
          ]
        }
      ],
      "source": [
        "class Solution(object):\n",
        "    def distributeCandies(self, candies, num_people):\n",
        "\n",
        "      o_p = []\n",
        "      loop = True\n",
        "\n",
        "      while loop:\n",
        "        for i in range(1, num_people+1):\n",
        "          if candies < i:\n",
        "            o_p.append(candies)\n",
        "            loop = False\n",
        "          else:\n",
        "            o_p.append(i)\n",
        "\n",
        "          candies -= i\n",
        "          num_people -= 1\n",
        "\n",
        "          if candies < 0 or num_people == 0:\n",
        "            loop = False\n",
        "\n",
        "\n",
        "\n",
        "      if candies > 0:\n",
        "        o_p[0] += candies\n",
        "        return o_p\n",
        "      else:\n",
        "        return o_p\n",
        "\n",
        "solution = Solution()\n",
        "candies = 60\n",
        "num_people = 4\n",
        "print(solution.distributeCandies(candies, num_people))"
      ]
    },
    {
      "cell_type": "code",
      "source": [],
      "metadata": {
        "id": "NfJgYCwGuYmO"
      },
      "execution_count": null,
      "outputs": []
    }
  ]
}