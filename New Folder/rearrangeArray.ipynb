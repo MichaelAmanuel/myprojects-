{
  "nbformat": 4,
  "nbformat_minor": 0,
  "metadata": {
    "colab": {
      "provenance": []
    },
    "kernelspec": {
      "name": "python3",
      "display_name": "Python 3"
    },
    "language_info": {
      "name": "python"
    }
  },
  "cells": [
    {
      "cell_type": "code",
      "execution_count": 16,
      "metadata": {
        "colab": {
          "base_uri": "https://localhost:8080/"
        },
        "id": "NRrOlzLj7Dmh",
        "outputId": "bbea0878-43f0-44a0-ac37-9a45f659943f"
      },
      "outputs": [
        {
          "output_type": "stream",
          "name": "stdout",
          "text": [
            "[1, -1]\n"
          ]
        }
      ],
      "source": [
        "class Solution(object):\n",
        "    def rearrangeArray(self, nums):\n",
        "\n",
        "      o_p = []\n",
        "      o_n = []\n",
        "\n",
        "      for i in nums:\n",
        "        if i > 0:\n",
        "          o_p.append(i)\n",
        "        else:\n",
        "          o_n.append(i)\n",
        "      res = o_p + o_n\n",
        "\n",
        "      result = []\n",
        "      for i , j in zip(o_p, o_n):\n",
        "        result.append(i)\n",
        "        result.append(j)\n",
        "\n",
        "      return result\n",
        "\n",
        "solution = Solution()\n",
        "nums = [-1, 1]\n",
        "print(solution.rearrangeArray(nums))"
      ]
    },
    {
      "cell_type": "code",
      "source": [],
      "metadata": {
        "id": "pSL3rr0g-QZT"
      },
      "execution_count": null,
      "outputs": []
    }
  ]
}