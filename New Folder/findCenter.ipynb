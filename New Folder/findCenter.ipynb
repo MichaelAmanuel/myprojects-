{
  "nbformat": 4,
  "nbformat_minor": 0,
  "metadata": {
    "colab": {
      "provenance": []
    },
    "kernelspec": {
      "name": "python3",
      "display_name": "Python 3"
    },
    "language_info": {
      "name": "python"
    }
  },
  "cells": [
    {
      "cell_type": "code",
      "execution_count": null,
      "metadata": {
        "id": "Oy_UAcuqghQs"
      },
      "outputs": [],
      "source": [
        "\n",
        "class Solution(object):\n",
        "    def findCenter(self, edges):\n",
        "        return edges[0][0] if edges[0][0] in edges[1] else edges[0][1]\n",
        "\n",
        "solution = Solution()\n",
        "edges = [[1, 2], [2, 3], [4, 2]]\n",
        "print(solution.findCenter(edges))"
      ]
    }
  ]
}