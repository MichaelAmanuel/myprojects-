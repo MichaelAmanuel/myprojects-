{
  "nbformat": 4,
  "nbformat_minor": 0,
  "metadata": {
    "colab": {
      "provenance": []
    },
    "kernelspec": {
      "name": "python3",
      "display_name": "Python 3"
    },
    "language_info": {
      "name": "python"
    }
  },
  "cells": [
    {
      "cell_type": "code",
      "execution_count": null,
      "metadata": {
        "id": "OtoD02bctsCM"
      },
      "outputs": [],
      "source": [
        "class Solution(object):\n",
        "    def countTriplets(self, arr):\n",
        "        n = len(arr)\n",
        "        count = 0\n",
        "        prefixXOR = [0] * (n + 1)\n",
        "\n",
        "        for i in range(n):\n",
        "            prefixXOR[i + 1] = prefixXOR[i] ^ arr[i]\n",
        "\n",
        "        for i in range(n):\n",
        "            for k in range(i + 1, n):\n",
        "                if prefixXOR[i] == prefixXOR[k + 1]:\n",
        "                    count += (k - i)\n",
        "\n",
        "        return count\n",
        "\n",
        "solution = Solution()\n",
        "arr = [2, 3, 1, 6, 7]\n",
        "result = solution.countTriplets(arr)\n",
        "print(result)\n"
      ]
    }
  ]
}