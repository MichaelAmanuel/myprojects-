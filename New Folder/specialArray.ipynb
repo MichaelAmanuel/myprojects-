{
  "nbformat": 4,
  "nbformat_minor": 0,
  "metadata": {
    "colab": {
      "provenance": []
    },
    "kernelspec": {
      "name": "python3",
      "display_name": "Python 3"
    },
    "language_info": {
      "name": "python"
    }
  },
  "cells": [
    {
      "cell_type": "code",
      "execution_count": 5,
      "metadata": {
        "id": "Yh6ssQhXqnOs"
      },
      "outputs": [],
      "source": [
        "class Solution(object):\n",
        "    def specialArray(self, nums):\n",
        "\n",
        "      for i in range(len(nums)+1):\n",
        "        if sum(1 for num in nums if num >= i) == i:\n",
        "          return i\n",
        "\n",
        "      return -1\n",
        "\n",
        "solution = Solution()\n",
        "nums = [0,0]\n",
        "print(solution.specialArray(nums))"
      ]
    },
    {
      "cell_type": "code",
      "source": [
        "nums = [0, 4, 3, 0, 4]\n",
        "count_greater_than_1 = sum(1 for num in nums if num > 1)\n",
        "\n",
        "print(count_greater_than_1)\n"
      ],
      "metadata": {
        "colab": {
          "base_uri": "https://localhost:8080/"
        },
        "id": "d-hh02KbtHLW",
        "outputId": "49d81894-9f17-4aa5-d16d-146023197900"
      },
      "execution_count": 6,
      "outputs": [
        {
          "output_type": "stream",
          "name": "stdout",
          "text": [
            "3\n"
          ]
        }
      ]
    },
    {
      "cell_type": "code",
      "source": [
        "\n",
        "class Solution(object):\n",
        "    def specialArray(self, nums):\n",
        "\n",
        "      for i in range(len(nums)+1):\n",
        "        x = sum(1 for num in nums if num >= i)\n",
        "\n",
        "        if x == i:\n",
        "          return i\n",
        "\n",
        "      return -1\n",
        "\n",
        "solution = Solution()\n",
        "nums = [0,0]\n",
        "print(solution.specialArray(nums))"
      ],
      "metadata": {
        "colab": {
          "base_uri": "https://localhost:8080/"
        },
        "id": "QLNBLXImu3AY",
        "outputId": "9f06ee57-0baa-4ffd-fccc-5d2914c103de"
      },
      "execution_count": 10,
      "outputs": [
        {
          "output_type": "stream",
          "name": "stdout",
          "text": [
            "-1\n"
          ]
        }
      ]
    }
  ]
}