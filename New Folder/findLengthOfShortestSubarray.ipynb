{
  "nbformat": 4,
  "nbformat_minor": 0,
  "metadata": {
    "colab": {
      "provenance": []
    },
    "kernelspec": {
      "name": "python3",
      "display_name": "Python 3"
    },
    "language_info": {
      "name": "python"
    }
  },
  "cells": [
    {
      "cell_type": "code",
      "execution_count": null,
      "metadata": {
        "id": "kQjWvHzXch44",
        "colab": {
          "base_uri": "https://localhost:8080/"
        },
        "outputId": "b3d22a1b-b78b-4e2c-8b8c-04590b83ce94"
      },
      "outputs": [
        {
          "output_type": "stream",
          "name": "stdout",
          "text": [
            "7\n"
          ]
        }
      ],
      "source": [
        "class Solution(object):\n",
        "    def findLengthOfShortestSubarray(self, arr):\n",
        "        n = len(arr)\n",
        "        left, right = 0, n - 1\n",
        "\n",
        "        while left < n - 1 and arr[left] <= arr[left + 1]:\n",
        "            left += 1\n",
        "        if left == n - 1:\n",
        "            return 0\n",
        "\n",
        "        while right > 0 and arr[right - 1] <= arr[right]:\n",
        "            right -= 1\n",
        "\n",
        "        result = min(n - left - 1, right)\n",
        "\n",
        "        i, j = 0, right\n",
        "        while i <= left and j < n:\n",
        "            if arr[i] <= arr[j]:\n",
        "                result = min(result, j - i - 1)\n",
        "                i += 1\n",
        "            else:\n",
        "                j += 1\n",
        "\n",
        "        return result\n",
        "\n",
        "solution = Solution()\n",
        "print(solution.findLengthOfShortestSubarray([1, 2, 3, 10, 4, 2, 3, 5]))\n",
        "print(solution.findLengthOfShortestSubarray([5, 4, 3, 2, 1]))\n",
        "print(solution.findLengthOfShortestSubarray([1, 2, 3]))"
      ]
    }
  ]
}