{
  "nbformat": 4,
  "nbformat_minor": 0,
  "metadata": {
    "colab": {
      "provenance": []
    },
    "kernelspec": {
      "name": "python3",
      "display_name": "Python 3"
    },
    "language_info": {
      "name": "python"
    }
  },
  "cells": [
    {
      "cell_type": "code",
      "execution_count": 9,
      "metadata": {
        "colab": {
          "base_uri": "https://localhost:8080/"
        },
        "id": "5XCsR3XxurQ1",
        "outputId": "619ddc94-8cac-4cbb-9268-5a4eac8ab64c"
      },
      "outputs": [
        {
          "output_type": "stream",
          "name": "stdout",
          "text": [
            "{3: 1, 1: 2, 2: 3}\n",
            "[3, 1, 1, 2, 2, 2]\n"
          ]
        }
      ],
      "source": [
        "class Solution(object):\n",
        "    def frequencySort(self, nums):\n",
        "\n",
        "      num = list(set(nums))\n",
        "\n",
        "      dic = {}\n",
        "      for i in num:\n",
        "        dic[i] = nums.count(i)\n",
        "\n",
        "      nums_1 = dict(sorted(dic.items(), key=lambda item: item[1]))\n",
        "      print(nums_1)\n",
        "      result = []\n",
        "\n",
        "      for key, value in nums_1.items():\n",
        "        for i in range(value):\n",
        "          result.append(key)\n",
        "\n",
        "      return result\n",
        "\n",
        "solution = Solution()\n",
        "nums = [1,1,2,2,2,3]\n",
        "print(solution.frequencySort(nums))"
      ]
    },
    {
      "cell_type": "code",
      "source": [
        "class Solution(object):\n",
        "    def frequencySort(self, nums):\n",
        "\n",
        "      num = list(set(nums))\n",
        "\n",
        "      dic = {}\n",
        "      for i in num:\n",
        "        dic[i] = nums.count(i)\n",
        "\n",
        "      nums_1 = dict(sorted(dic.items(), key=lambda item: item[1]))\n",
        "      print(nums_1)\n",
        "      result = []\n",
        "\n",
        "      for key, value in nums_1.items():\n",
        "        result.append(key * value)\n",
        "\n",
        "      return result\n",
        "\n",
        "solution = Solution()\n",
        "nums = [1,1,2,2,2,3]\n",
        "print(solution.frequencySort(nums))"
      ],
      "metadata": {
        "colab": {
          "base_uri": "https://localhost:8080/"
        },
        "id": "L995YlpVyAri",
        "outputId": "722da09d-d186-469a-d900-4de15f0bbe70"
      },
      "execution_count": 15,
      "outputs": [
        {
          "output_type": "stream",
          "name": "stdout",
          "text": [
            "{3: 1, 1: 2, 2: 3}\n",
            "[3, 2, 6]\n"
          ]
        }
      ]
    },
    {
      "cell_type": "code",
      "source": [
        "class Solution(object):\n",
        "    def frequencySort(self, nums):\n",
        "\n",
        "        frequency_dict = {}\n",
        "        for num in nums:\n",
        "            frequency_dict[num] = frequency_dict.get(num, 0) + 1\n",
        "\n",
        "        sorted_frequency = sorted(frequency_dict.items(), key=lambda item: item[1])\n",
        "        print(sorted_frequency)\n",
        "        result = []\n",
        "        for num, freq in sorted_frequency:\n",
        "            result.extend([num] * freq)\n",
        "\n",
        "        return result\n",
        "\n",
        "\n",
        "solution = Solution()\n",
        "nums = [1, 1, 2, 2, 2, 3]\n",
        "print(solution.frequencySort(nums))\n"
      ],
      "metadata": {
        "colab": {
          "base_uri": "https://localhost:8080/"
        },
        "id": "feBEnNeEuvHg",
        "outputId": "b6fc861a-39f1-46ae-d148-25c4939e046a"
      },
      "execution_count": 14,
      "outputs": [
        {
          "output_type": "stream",
          "name": "stdout",
          "text": [
            "[(3, 1), (1, 2), (2, 3)]\n",
            "[3, 1, 1, 2, 2, 2]\n"
          ]
        }
      ]
    },
    {
      "cell_type": "code",
      "source": [],
      "metadata": {
        "id": "Pi91r2f0yM6S"
      },
      "execution_count": null,
      "outputs": []
    }
  ]
}