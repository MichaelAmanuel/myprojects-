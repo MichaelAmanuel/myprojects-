{
  "nbformat": 4,
  "nbformat_minor": 0,
  "metadata": {
    "colab": {
      "provenance": []
    },
    "kernelspec": {
      "name": "python3",
      "display_name": "Python 3"
    },
    "language_info": {
      "name": "python"
    }
  },
  "cells": [
    {
      "cell_type": "code",
      "execution_count": 4,
      "metadata": {
        "colab": {
          "base_uri": "https://localhost:8080/"
        },
        "id": "qzatyNcxW-Y4",
        "outputId": "e0519a09-6d04-4cc7-f1be-026a6d61b6c2"
      },
      "outputs": [
        {
          "output_type": "stream",
          "name": "stdout",
          "text": [
            "[1, 1, 2, 3, 4, 4, 5, 6]\n"
          ]
        }
      ],
      "source": [
        "\n",
        "class Solution(object):\n",
        "    def mergeKLists(self, lists):\n",
        "      o_p = []\n",
        "      for i in lists:\n",
        "        for j in i:\n",
        "          o_p.append(j)\n",
        "\n",
        "      return sorted(o_p)\n",
        "\n",
        "solution = Solution()\n",
        "lists = [[1,4,5],[1,3,4],[2,6]]\n",
        "print(solution.mergeKLists(lists))"
      ]
    }
  ]
}