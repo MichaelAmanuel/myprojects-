{
  "nbformat": 4,
  "nbformat_minor": 0,
  "metadata": {
    "colab": {
      "provenance": []
    },
    "kernelspec": {
      "name": "python3",
      "display_name": "Python 3"
    },
    "language_info": {
      "name": "python"
    }
  },
  "cells": [
    {
      "cell_type": "code",
      "execution_count": 5,
      "metadata": {
        "colab": {
          "base_uri": "https://localhost:8080/"
        },
        "id": "ctwlgzwUhw02",
        "outputId": "438d26ca-986e-495c-da93-4b135c342abe"
      },
      "outputs": [
        {
          "output_type": "stream",
          "name": "stdout",
          "text": [
            "4\n"
          ]
        }
      ],
      "source": [
        "class Solution(object):\n",
        "    def maxFrequencyElements(self, nums):\n",
        "\n",
        "      if len(set(nums)) == len(nums):\n",
        "        return len(nums)\n",
        "\n",
        "      else:\n",
        "        count = 0\n",
        "        for i in nums:\n",
        "          if nums.count(i) > count:\n",
        "            count = nums.count(i)\n",
        "\n",
        "        result = 0\n",
        "        for i in list(set(nums)):\n",
        "          if nums.count(i) == count:\n",
        "            result += nums.count(i)\n",
        "\n",
        "        return result\n",
        "\n",
        "solution = Solution()\n",
        "nums = [1,2,2,3,1,4]\n",
        "print(solution.maxFrequencyElements(nums))"
      ]
    },
    {
      "cell_type": "code",
      "source": [],
      "metadata": {
        "id": "-NTqo3E2iE17"
      },
      "execution_count": null,
      "outputs": []
    }
  ]
}