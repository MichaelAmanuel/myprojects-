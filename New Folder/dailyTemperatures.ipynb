{
  "nbformat": 4,
  "nbformat_minor": 0,
  "metadata": {
    "colab": {
      "provenance": []
    },
    "kernelspec": {
      "name": "python3",
      "display_name": "Python 3"
    },
    "language_info": {
      "name": "python"
    }
  },
  "cells": [
    {
      "cell_type": "code",
      "source": [
        "class Solution(object):\n",
        "  def dailyTemperatures(self, temperatures):\n",
        "\n",
        "      result = [0] * len(temperatures)\n",
        "      stack = []\n",
        "\n",
        "      for i in range(len(temperatures)):\n",
        "          while stack and temperatures[i] > temperatures[stack[-1]]:\n",
        "              warmer_index = stack.pop()\n",
        "              result[warmer_index] = i - warmer_index\n",
        "          stack.append(i)\n",
        "\n",
        "      return result\n",
        "\n",
        "\n",
        "solution = Solution()\n",
        "temperatures = [73, 74, 75, 71, 69, 72, 76, 73]\n",
        "print(solution.dailyTemperatures(temperatures))\n"
      ],
      "metadata": {
        "colab": {
          "base_uri": "https://localhost:8080/"
        },
        "id": "IcnuDN4uj2MO",
        "outputId": "0e8f3799-47db-46d3-aaef-f86e9d58d726"
      },
      "execution_count": 56,
      "outputs": [
        {
          "output_type": "stream",
          "name": "stdout",
          "text": [
            "[1, 1, 4, 2, 1, 1, 0, 0]\n"
          ]
        }
      ]
    }
  ]
}