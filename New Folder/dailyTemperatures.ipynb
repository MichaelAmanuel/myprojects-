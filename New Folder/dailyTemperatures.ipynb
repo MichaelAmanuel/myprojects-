{
  "nbformat": 4,
  "nbformat_minor": 0,
  "metadata": {
    "colab": {
      "provenance": []
    },
    "kernelspec": {
      "name": "python3",
      "display_name": "Python 3"
    },
    "language_info": {
      "name": "python"
    }
  },
  "cells": [
    {
      "cell_type": "code",
      "execution_count": 25,
      "metadata": {
        "colab": {
          "base_uri": "https://localhost:8080/"
        },
        "id": "IkkYurwbIIX9",
        "outputId": "1f48640d-e5f2-47d9-e9f6-49161fb2125b"
      },
      "outputs": [
        {
          "output_type": "stream",
          "name": "stdout",
          "text": [
            "[1, 1, 1, 0]\n"
          ]
        }
      ],
      "source": [
        "\n",
        "class Solution(object):\n",
        "    def dailyTemperatures(self, temperatures):\n",
        "      result = []\n",
        "      for i in range(len(temperatures)):\n",
        "        count = 0\n",
        "        for j in range(i + 1, len(temperatures)):\n",
        "          if  temperatures[i] < temperatures[j]:\n",
        "            count = j - i\n",
        "            break\n",
        "        result.append(count)\n",
        "\n",
        "      return result\n",
        "\n",
        "solution = Solution()\n",
        "temperatures = [30,40,50,60]\n",
        "print(solution.dailyTemperatures(temperatures))"
      ]
    },
    {
      "cell_type": "code",
      "source": [
        "\n",
        "class Solution(object):\n",
        "    def dailyTemperatures(self, temperatures):\n",
        "\n",
        "      result = [next((j - i for j in range(i + 1, len(temperatures)) if temperatures[i] < temperatures[j]), 0) for i in range(len(temperatures))]\n",
        "\n",
        "\n",
        "      return result\n",
        "\n",
        "solution = Solution()\n",
        "temperatures = [30,40,50,60]\n",
        "print(solution.dailyTemperatures(temperatures))"
      ],
      "metadata": {
        "colab": {
          "base_uri": "https://localhost:8080/"
        },
        "id": "9iz6AzZkZlPs",
        "outputId": "bca2ee3b-8b62-411f-c796-d3a6678c694c"
      },
      "execution_count": 23,
      "outputs": [
        {
          "output_type": "stream",
          "name": "stdout",
          "text": [
            "[1, 1, 1, 0]\n"
          ]
        }
      ]
    }
  ]
}