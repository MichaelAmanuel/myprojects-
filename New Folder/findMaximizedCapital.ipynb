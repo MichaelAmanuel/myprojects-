{
  "nbformat": 4,
  "nbformat_minor": 0,
  "metadata": {
    "colab": {
      "provenance": []
    },
    "kernelspec": {
      "name": "python3",
      "display_name": "Python 3"
    },
    "language_info": {
      "name": "python"
    }
  },
  "cells": [
    {
      "cell_type": "code",
      "execution_count": null,
      "metadata": {
        "id": "8-nyO-OlfSXa"
      },
      "outputs": [],
      "source": [
        "import heapq\n",
        "\n",
        "class Solution(object):\n",
        "    def findMaximizedCapital(self, k, w, profits, capital):\n",
        "\n",
        "        projects = sorted(zip(capital, profits))\n",
        "        max_profit_heap = []\n",
        "        current_index = 0\n",
        "\n",
        "        for _ in range(k):\n",
        "            while current_index < len(projects) and projects[current_index][0] <= w:\n",
        "                heapq.heappush(max_profit_heap, -projects[current_index][1])\n",
        "                current_index += 1\n",
        "\n",
        "            if not max_profit_heap:\n",
        "                break\n",
        "\n",
        "            w += -heapq.heappop(max_profit_heap)\n",
        "\n",
        "        return w\n",
        "\n",
        "\n",
        "solution = Solution()\n",
        "k = 2\n",
        "w = 0\n",
        "profits = [1, 2, 3]\n",
        "capital = [0, 1, 1]\n",
        "print(solution.findMaximizedCapital(k, w, profits, capital))\n"
      ]
    }
  ]
}