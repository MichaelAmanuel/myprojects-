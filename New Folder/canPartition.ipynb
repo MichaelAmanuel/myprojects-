{
  "nbformat": 4,
  "nbformat_minor": 0,
  "metadata": {
    "colab": {
      "provenance": []
    },
    "kernelspec": {
      "name": "python3",
      "display_name": "Python 3"
    },
    "language_info": {
      "name": "python"
    }
  },
  "cells": [
    {
      "cell_type": "code",
      "execution_count": null,
      "metadata": {
        "id": "kQjWvHzXch44",
        "colab": {
          "base_uri": "https://localhost:8080/"
        },
        "outputId": "792b0e92-1d98-4286-aafa-efc6fbfae2a7"
      },
      "outputs": [
        {
          "output_type": "stream",
          "name": "stdout",
          "text": [
            "9\n"
          ]
        }
      ],
      "source": [
        "class Solution(object):\n",
        "    def canPartition(self, nums):\n",
        "\n",
        "        total_sum = sum(nums)\n",
        "\n",
        "\n",
        "        if total_sum % 2 != 0:\n",
        "            return False\n",
        "\n",
        "        target = total_sum // 2\n",
        "        n = len(nums)\n",
        "\n",
        "        dp = set()\n",
        "        dp.add(0)\n",
        "\n",
        "        for num in nums:\n",
        "            next_dp = dp.copy()\n",
        "            for partial_sum in dp:\n",
        "                next_dp.add(partial_sum + num)\n",
        "            dp = next_dp\n",
        "\n",
        "            # If the target is found, return True\n",
        "            if target in dp:\n",
        "                return True\n",
        "\n",
        "        return target in dp\n"
      ]
    }
  ]
}