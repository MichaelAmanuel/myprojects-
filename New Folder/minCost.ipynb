{
  "nbformat": 4,
  "nbformat_minor": 0,
  "metadata": {
    "colab": {
      "provenance": []
    },
    "kernelspec": {
      "name": "python3",
      "display_name": "Python 3"
    },
    "language_info": {
      "name": "python"
    }
  },
  "cells": [
    {
      "cell_type": "code",
      "execution_count": null,
      "metadata": {
        "id": "kQjWvHzXch44",
        "colab": {
          "base_uri": "https://localhost:8080/"
        },
        "outputId": "792b0e92-1d98-4286-aafa-efc6fbfae2a7"
      },
      "outputs": [
        {
          "output_type": "stream",
          "name": "stdout",
          "text": [
            "9\n"
          ]
        }
      ],
      "source": [
        "from collections import deque\n",
        "\n",
        "class Solution(object):\n",
        "    def minCost(self, grid):\n",
        "        \"\"\"\n",
        "        :type grid: List[List[int]]\n",
        "        :rtype: int\n",
        "        \"\"\"\n",
        "        m, n = len(grid), len(grid[0])\n",
        "        directions = [(0, 1), (0, -1), (1, 0), (-1, 0)]  # Right, Left, Down, Up\n",
        "        deque_queue = deque([(0, 0, 0)])  # (x, y, cost)\n",
        "        visited = [[False] * n for _ in range(m)]\n",
        "\n",
        "        while deque_queue:\n",
        "            x, y, cost = deque_queue.popleft()\n",
        "\n",
        "            if x == m - 1 and y == n - 1:  # Reached the bottom-right corner\n",
        "                return cost\n",
        "\n",
        "            if visited[x][y]:\n",
        "                continue\n",
        "            visited[x][y] = True\n",
        "\n",
        "            for i, (dx, dy) in enumerate(directions):\n",
        "                nx, ny = x + dx, y + dy\n",
        "                if 0 <= nx < m and 0 <= ny < n:\n",
        "                    new_cost = cost if grid[x][y] == i + 1 else cost + 1\n",
        "                    if grid[x][y] == i + 1:\n",
        "                        deque_queue.appendleft((nx, ny, new_cost))  # Add to front for priority\n",
        "                    else:\n",
        "                        deque_queue.append((nx, ny, new_cost))  # Add to back otherwise\n",
        "        return -1  # If no path exists (should not happen given constraints)\n",
        "\n",
        "# Example usage:\n",
        "solution = Solution()\n",
        "print(solution.minCost([[1, 1, 1], [3, 2, 2], [1, 1, 4]]))  # Output: 0\n",
        "print(solution.minCost([[1, 2], [4, 3]]))  # Output: 1\n"
      ]
    }
  ]
}