{
  "nbformat": 4,
  "nbformat_minor": 0,
  "metadata": {
    "colab": {
      "provenance": []
    },
    "kernelspec": {
      "name": "python3",
      "display_name": "Python 3"
    },
    "language_info": {
      "name": "python"
    }
  },
  "cells": [
    {
      "cell_type": "code",
      "execution_count": null,
      "metadata": {
        "colab": {
          "base_uri": "https://localhost:8080/"
        },
        "id": "Oy_UAcuqghQs",
        "outputId": "f751a92a-a145-4077-d1d6-a0ea036aede5"
      },
      "outputs": [
        {
          "output_type": "stream",
          "name": "stdout",
          "text": [
            "0\n"
          ]
        }
      ],
      "source": [
        "class ListNode:\n",
        "    def __init__(self, val=0, next=None):\n",
        "        self.val = val\n",
        "        self.next = next\n",
        "\n",
        "class Solution:\n",
        "    def nodesBetweenCriticalPoints(self, head):\n",
        "        critical_points = []\n",
        "        prev = head\n",
        "        current = head.next\n",
        "        index = 1\n",
        "\n",
        "        while current and current.next:\n",
        "            if (current.val > prev.val and current.val > current.next.val) or \\\n",
        "               (current.val < prev.val and current.val < current.next.val):\n",
        "                critical_points.append(index)\n",
        "            prev = current\n",
        "            current = current.next\n",
        "            index += 1\n",
        "\n",
        "        if len(critical_points) < 2:\n",
        "            return [-1, -1]\n",
        "\n",
        "        min_distance = float('inf')\n",
        "        for i in range(1, len(critical_points)):\n",
        "            min_distance = min(min_distance, critical_points[i] - critical_points[i - 1])\n",
        "\n",
        "        max_distance = critical_points[-1] - critical_points[0]\n",
        "\n",
        "        return [min_distance, max_distance]\n",
        "\n",
        "def create_linked_list(vals):\n",
        "    if not vals:\n",
        "        return None\n",
        "    head = ListNode(vals[0])\n",
        "    current = head\n",
        "    for val in vals[1:]:\n",
        "        current.next = ListNode(val)\n",
        "        current = current.next\n",
        "    return head\n",
        "\n",
        "vals = [3, 1]\n",
        "head = create_linked_list(vals)\n",
        "solution = Solution()\n",
        "print(solution.nodesBetweenCriticalPoints(head))\n",
        "\n",
        "vals = [1,3,2,2,3,2,2,2,7]\n",
        "head = create_linked_list(vals)\n",
        "solution = Solution()\n",
        "print(solution.nodesBetweenCriticalPoints(head))\n"
      ]
    }
  ]
}