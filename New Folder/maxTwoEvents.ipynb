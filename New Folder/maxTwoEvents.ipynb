{
  "nbformat": 4,
  "nbformat_minor": 0,
  "metadata": {
    "colab": {
      "provenance": []
    },
    "kernelspec": {
      "name": "python3",
      "display_name": "Python 3"
    },
    "language_info": {
      "name": "python"
    }
  },
  "cells": [
    {
      "cell_type": "code",
      "execution_count": null,
      "metadata": {
        "id": "kQjWvHzXch44"
      },
      "outputs": [],
      "source": [
        "class Solution(object):\n",
        "    def maxTwoEvents(self, events):\n",
        "        import bisect\n",
        "        events.sort(key=lambda x: x[1])\n",
        "        max_single = []\n",
        "        max_value = 0\n",
        "        best = 0\n",
        "\n",
        "        for start, end, value in events:\n",
        "            idx = bisect.bisect_left(max_single, (start,)) - 1\n",
        "            if idx >= 0:\n",
        "                max_value = max(max_value, max_single[idx][1] + value)\n",
        "            else:\n",
        "                max_value = max(max_value, value)\n",
        "            best = max(best, value)\n",
        "            max_single.append((end, best))\n",
        "\n",
        "        return max_value\n"
      ]
    }
  ]
}