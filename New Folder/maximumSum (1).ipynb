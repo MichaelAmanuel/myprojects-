{
  "nbformat": 4,
  "nbformat_minor": 0,
  "metadata": {
    "colab": {
      "provenance": []
    },
    "kernelspec": {
      "name": "python3",
      "display_name": "Python 3"
    },
    "language_info": {
      "name": "python"
    }
  },
  "cells": [
    {
      "cell_type": "code",
      "execution_count": null,
      "metadata": {
        "id": "kQjWvHzXch44"
      },
      "outputs": [],
      "source": [
        "class Solution:\n",
        "    @staticmethod\n",
        "    def maximumSum(nums):\n",
        "        def digit_sum(n):\n",
        "            return sum(int(d) for d in str(n))\n",
        "\n",
        "        digit_sum_map = {}\n",
        "        max_sum = -1\n",
        "\n",
        "        for num in nums:\n",
        "            s = digit_sum(num)\n",
        "            if s in digit_sum_map:\n",
        "                max_sum = max(max_sum, digit_sum_map[s] + num)\n",
        "                digit_sum_map[s] = max(digit_sum_map[s], num)\n",
        "            else:\n",
        "                digit_sum_map[s] = num\n",
        "\n",
        "        return max_sum"
      ]
    },
    {
      "cell_type": "code",
      "source": [],
      "metadata": {
        "id": "roULjd7SXK2j"
      },
      "execution_count": null,
      "outputs": []
    }
  ]
}