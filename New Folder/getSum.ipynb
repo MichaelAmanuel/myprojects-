{
  "nbformat": 4,
  "nbformat_minor": 0,
  "metadata": {
    "colab": {
      "provenance": []
    },
    "kernelspec": {
      "name": "python3",
      "display_name": "Python 3"
    },
    "language_info": {
      "name": "python"
    }
  },
  "cells": [
    {
      "cell_type": "code",
      "execution_count": 5,
      "metadata": {
        "colab": {
          "base_uri": "https://localhost:8080/"
        },
        "id": "yOi9I_ImZneM",
        "outputId": "19c26d10-0e4f-42b0-aed7-9b56fbd9eb5c"
      },
      "outputs": [
        {
          "output_type": "stream",
          "name": "stdout",
          "text": [
            "3\n"
          ]
        }
      ],
      "source": [
        "class Solution(object):\n",
        "\n",
        "    def getSum(self, a, b):\n",
        "      num = []\n",
        "      num.append(a)\n",
        "      num.append(b)\n",
        "\n",
        "      return sum(num)\n",
        "\n",
        "solution = Solution()\n",
        "a = 1\n",
        "b = 2\n",
        "print(solution.getSum(a, b))"
      ]
    },
    {
      "cell_type": "code",
      "source": [
        "class Solution(object):\n",
        "\n",
        "    def getSum(self, a, b):\n",
        "\n",
        "\n",
        "      return sum([a, b])\n",
        "\n",
        "solution = Solution()\n",
        "a = 1\n",
        "b = 2\n",
        "print(solution.getSum(a, b))"
      ],
      "metadata": {
        "colab": {
          "base_uri": "https://localhost:8080/"
        },
        "id": "kg_tFz_gaFmC",
        "outputId": "5d5528f2-af3e-4d5e-d671-bf1dc074f6c5"
      },
      "execution_count": 6,
      "outputs": [
        {
          "output_type": "stream",
          "name": "stdout",
          "text": [
            "3\n"
          ]
        }
      ]
    }
  ]
}