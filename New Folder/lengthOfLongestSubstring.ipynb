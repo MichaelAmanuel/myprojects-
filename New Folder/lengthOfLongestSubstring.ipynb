{
  "nbformat": 4,
  "nbformat_minor": 0,
  "metadata": {
    "colab": {
      "provenance": []
    },
    "kernelspec": {
      "name": "python3",
      "display_name": "Python 3"
    },
    "language_info": {
      "name": "python"
    }
  },
  "cells": [
    {
      "cell_type": "code",
      "execution_count": null,
      "metadata": {
        "id": "yq8-F1jG_Jas"
      },
      "outputs": [],
      "source": [
        "class Solution(object):\n",
        "    def lengthOfLongestSubstring(self, s):\n",
        "        char_set = set()\n",
        "        start = 0\n",
        "        max_length = 0\n",
        "\n",
        "        for end in range(len(s)):\n",
        "            while s[end] in char_set:\n",
        "                char_set.remove(s[start])\n",
        "                start += 1\n",
        "            char_set.add(s[end])\n",
        "            max_length = max(max_length, end - start + 1)\n",
        "\n",
        "        return max_length\n",
        "\n",
        "solution = Solution()\n",
        "s = \"abcabcbb\"\n",
        "result = solution.lengthOfLongestSubstring(s)\n",
        "print(result)"
      ]
    }
  ]
}