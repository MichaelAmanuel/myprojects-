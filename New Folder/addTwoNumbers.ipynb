{
  "nbformat": 4,
  "nbformat_minor": 0,
  "metadata": {
    "colab": {
      "provenance": []
    },
    "kernelspec": {
      "name": "python3",
      "display_name": "Python 3"
    },
    "language_info": {
      "name": "python"
    }
  },
  "cells": [
    {
      "cell_type": "code",
      "execution_count": 6,
      "metadata": {
        "colab": {
          "base_uri": "https://localhost:8080/"
        },
        "id": "hLDNjgLNjL8X",
        "outputId": "64e4c7f7-1791-4c8a-f1fc-43b9fd307a86"
      },
      "outputs": [
        {
          "output_type": "stream",
          "name": "stdout",
          "text": [
            "[7, 0, 8]\n"
          ]
        }
      ],
      "source": [
        "class ListNode:\n",
        "    def __init__(self, val=0, next=None):\n",
        "        self.val = val\n",
        "        self.next = next\n",
        "\n",
        "class Solution(object):\n",
        "    def addTwoNumbers(self, l1, l2):\n",
        "        dummy_head = ListNode()\n",
        "        current = dummy_head\n",
        "        carry = 0\n",
        "        result = []\n",
        "\n",
        "        while l1 or l2 or carry:\n",
        "            val1 = l1.val if l1 else 0\n",
        "            val2 = l2.val if l2 else 0\n",
        "\n",
        "            total = val1 + val2 + carry\n",
        "            carry = total // 10\n",
        "            digit = total % 10\n",
        "\n",
        "            result.append(digit)\n",
        "\n",
        "            l1 = l1.next if l1 else None\n",
        "            l2 = l2.next if l2 else None\n",
        "\n",
        "        return result\n",
        "\n",
        "solution = Solution()\n",
        "l1 = ListNode(2)\n",
        "l1.next = ListNode(4)\n",
        "l1.next.next = ListNode(3)\n",
        "\n",
        "l2 = ListNode(5)\n",
        "l2.next = ListNode(6)\n",
        "l2.next.next = ListNode(4)\n",
        "\n",
        "result_list = solution.addTwoNumbers(l1, l2)\n",
        "print(result_list)\n"
      ]
    }
  ]
}