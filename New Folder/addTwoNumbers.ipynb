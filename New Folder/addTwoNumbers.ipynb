{
  "nbformat": 4,
  "nbformat_minor": 0,
  "metadata": {
    "colab": {
      "provenance": []
    },
    "kernelspec": {
      "name": "python3",
      "display_name": "Python 3"
    },
    "language_info": {
      "name": "python"
    }
  },
  "cells": [
    {
      "cell_type": "code",
      "execution_count": 3,
      "metadata": {
        "id": "qa7qvL6Gci02",
        "colab": {
          "base_uri": "https://localhost:8080/"
        },
        "outputId": "861fc708-b925-476d-c69f-d718fd5e70c3"
      },
      "outputs": [
        {
          "output_type": "stream",
          "name": "stdout",
          "text": [
            "2\n"
          ]
        }
      ],
      "source": [
        "class Solution(object):\n",
        "    def thirdMax(self, nums):\n",
        "\n",
        "        if len(set(nums)) < 3:\n",
        "            return max(nums)\n",
        "        else:\n",
        "            count = 2\n",
        "            max_3 = sorted(nums, reverse=True)\n",
        "            max_m = max(max_3)\n",
        "            for i in max_3:\n",
        "                if i < max_m and count > 0:\n",
        "                    max_m = i\n",
        "                    count -= 1\n",
        "\n",
        "            return max_m\n",
        "\n",
        "\n",
        "solution = Solution()\n",
        "nums = [2, 2, 2, 1]\n",
        "print(solution.thirdMax(nums))"
      ]
    },
    {
      "cell_type": "code",
      "source": [
        "class Solution(object):\n",
        "    def addTwoNumbers(self, l1, l2):\n",
        "            i = len(l1) - 1\n",
        "            st1 = 0\n",
        "            out = []\n",
        "            if len(l1) == len(l2):\n",
        "                st1 = 0\n",
        "                i = len(l1)-1\n",
        "                while i >= 0:\n",
        "                    st1 = st1 * 10 + l1[i] + l2[i]\n",
        "                    i = i - 1\n",
        "                stri = str(st1)\n",
        "                for i in reversed(stri):\n",
        "                    out.append(int(i))\n",
        "\n",
        "                return out\n",
        "\n",
        "            else:\n",
        "                st2 = 0\n",
        "                j = len(l2) - 1\n",
        "                while i >= 0:\n",
        "                    st1 = st1 * 10 + l1[i]\n",
        "                    i = i - 1\n",
        "\n",
        "                while j >= 0:\n",
        "                    st2 = st2 * 10 + l2[j]\n",
        "                    j = j - 1\n",
        "\n",
        "                stri = str(st1 + st2)\n",
        "\n",
        "                for i in reversed(stri):\n",
        "                    out.append(int(i))\n",
        "\n",
        "                return out\n",
        "\n",
        "\n",
        "solution = Solution()\n",
        "l1 = [2,4,3]\n",
        "l2 = [5,6,4]\n",
        "\n",
        "print(solution.addTwoNumbers(l1, l2))"
      ],
      "metadata": {
        "colab": {
          "base_uri": "https://localhost:8080/"
        },
        "id": "UUZPQaG6Nd1A",
        "outputId": "a93f5961-75d8-4a32-f9d8-9c7b8d7981e6"
      },
      "execution_count": 7,
      "outputs": [
        {
          "output_type": "stream",
          "name": "stdout",
          "text": [
            "[7, 0, 8]\n"
          ]
        }
      ]
    }
  ]
}