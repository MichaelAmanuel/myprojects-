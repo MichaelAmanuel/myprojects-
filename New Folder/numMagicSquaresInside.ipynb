{
  "nbformat": 4,
  "nbformat_minor": 0,
  "metadata": {
    "colab": {
      "provenance": []
    },
    "kernelspec": {
      "name": "python3",
      "display_name": "Python 3"
    },
    "language_info": {
      "name": "python"
    }
  },
  "cells": [
    {
      "cell_type": "code",
      "execution_count": null,
      "metadata": {
        "id": "CUJyRphvzZLb"
      },
      "outputs": [],
      "source": [
        "class Solution(object):\n",
        "    def numMagicSquaresInside(self, grid):\n",
        "        \"\"\"\n",
        "        :type grid: List[List[int]]\n",
        "        :rtype: int\n",
        "        \"\"\"\n",
        "        def isMagic(grid, r, c):\n",
        "            s = set()\n",
        "            for i in range(3):\n",
        "                for j in range(3):\n",
        "                    s.add(grid[r + i][c + j])\n",
        "            if s != {1, 2, 3, 4, 5, 6, 7, 8, 9}:\n",
        "                return False\n",
        "            return (grid[r][c] + grid[r][c + 1] + grid[r][c + 2] == 15 and\n",
        "                    grid[r + 1][c] + grid[r + 1][c + 1] + grid[r + 1][c + 2] == 15 and\n",
        "                    grid[r + 2][c] + grid[r + 2][c + 1] + grid[r + 2][c + 2] == 15 and\n",
        "                    grid[r][c] + grid[r + 1][c] + grid[r + 2][c] == 15 and\n",
        "                    grid[r][c + 1] + grid[r + 1][c + 1] + grid[r + 2][c + 1] == 15 and\n",
        "                    grid[r][c + 2] + grid[r + 1][c + 2] + grid[r + 2][c + 2] == 15 and\n",
        "                    grid[r][c] + grid[r + 1][c + 1] + grid[r + 2][c + 2] == 15 and\n",
        "                    grid[r][c + 2] + grid[r + 1][c + 1] + grid[r + 2][c] == 15)\n",
        "\n",
        "        rows, cols = len(grid), len(grid[0])\n",
        "        count = 0\n",
        "        for r in range(rows - 2):\n",
        "            for c in range(cols - 2):\n",
        "                if isMagic(grid, r, c):\n",
        "                    count += 1\n",
        "        return count\n"
      ]
    },
    {
      "cell_type": "code",
      "source": [],
      "metadata": {
        "id": "h14Le9hHzcDl"
      },
      "execution_count": null,
      "outputs": []
    }
  ]
}