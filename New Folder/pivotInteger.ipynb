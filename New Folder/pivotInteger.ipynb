{
  "nbformat": 4,
  "nbformat_minor": 0,
  "metadata": {
    "colab": {
      "provenance": []
    },
    "kernelspec": {
      "name": "python3",
      "display_name": "Python 3"
    },
    "language_info": {
      "name": "python"
    }
  },
  "cells": [
    {
      "cell_type": "code",
      "execution_count": 25,
      "metadata": {
        "colab": {
          "base_uri": "https://localhost:8080/"
        },
        "id": "scP41JC71cZo",
        "outputId": "f79a9847-3c8d-4ad1-a41d-0a061ad524c2"
      },
      "outputs": [
        {
          "output_type": "stream",
          "name": "stdout",
          "text": [
            "6\n"
          ]
        }
      ],
      "source": [
        "class Solution(object):\n",
        "    def pivotInteger(self, n):\n",
        "\n",
        "      if n == 1:\n",
        "        return 1\n",
        "\n",
        "      integer_list = [i for i in range(1, n+1)]\n",
        "\n",
        "      for i in range(1, n+1):\n",
        "\n",
        "        if sum(integer_list[:i+1]) == sum(integer_list[i:]):\n",
        "\n",
        "          return i + 1\n",
        "      return -1\n",
        "\n",
        "solution = Solution()\n",
        "n = 8\n",
        "print(solution.pivotInteger(n))"
      ]
    },
    {
      "cell_type": "code",
      "source": [
        "class Solution(object):\n",
        "    def pivotInteger(self, n):\n",
        "\n",
        "      if n == 1:\n",
        "        return 1\n",
        "\n",
        "      integer_list = []\n",
        "\n",
        "      for i in range(1, n+1):\n",
        "        integer_list.append(i)\n",
        "        if sum(integer_list) == sum(list(range(i, n+1))):\n",
        "\n",
        "          return i\n",
        "      return -1\n",
        "\n",
        "solution = Solution()\n",
        "n = 1\n",
        "print(solution.pivotInteger(n))"
      ],
      "metadata": {
        "colab": {
          "base_uri": "https://localhost:8080/"
        },
        "id": "-b7ATa073D1B",
        "outputId": "ed84b449-a2c0-432d-e505-8c03bab37f31"
      },
      "execution_count": 35,
      "outputs": [
        {
          "output_type": "stream",
          "name": "stdout",
          "text": [
            "1\n"
          ]
        }
      ]
    }
  ]
}