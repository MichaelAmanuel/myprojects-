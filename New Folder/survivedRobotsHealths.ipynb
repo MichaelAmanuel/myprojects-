{
  "nbformat": 4,
  "nbformat_minor": 0,
  "metadata": {
    "colab": {
      "provenance": []
    },
    "kernelspec": {
      "name": "python3",
      "display_name": "Python 3"
    },
    "language_info": {
      "name": "python"
    }
  },
  "cells": [
    {
      "cell_type": "code",
      "execution_count": 11,
      "metadata": {
        "colab": {
          "base_uri": "https://localhost:8080/"
        },
        "id": "Oy_UAcuqghQs",
        "outputId": "5bea39e9-6f74-4b03-f018-de4cbcb4e6a9"
      },
      "outputs": [
        {
          "output_type": "stream",
          "name": "stdout",
          "text": [
            "[2, 17, 9, 15, 10]\n"
          ]
        }
      ],
      "source": [
        "class Solution:\n",
        "    def survivedRobotsHealths(self, positions, healths, directions):\n",
        "        n = len(positions)\n",
        "        robots = sorted(zip(positions, healths, directions, range(n)))  # Sort by positions\n",
        "        stack = []\n",
        "\n",
        "        # Array to keep track of the healths of surviving robots\n",
        "        result_healths = [0] * n\n",
        "\n",
        "        for pos, health, direction, index in robots:\n",
        "            if direction == 'R':\n",
        "                stack.append((pos, health, direction, index))\n",
        "            else:  # direction == 'L'\n",
        "                while stack and stack[-1][2] == 'R':\n",
        "                    last_pos, last_health, last_direction, last_index = stack.pop()\n",
        "                    if last_health > health:\n",
        "                        last_health -= 1\n",
        "                        stack.append((last_pos, last_health, last_direction, last_index))\n",
        "                        health = 0\n",
        "                        break\n",
        "                    elif last_health < health:\n",
        "                        health -= 1\n",
        "                    else:\n",
        "                        health = 0\n",
        "                        break\n",
        "\n",
        "                if health > 0:\n",
        "                    stack.append((pos, health, direction, index))\n",
        "\n",
        "        # Collect results and store them in result_healths based on original index\n",
        "        for pos, health, direction, index in stack:\n",
        "            result_healths[index] = health\n",
        "\n",
        "        # Filter out the robots with health 0\n",
        "        return [health for health in result_healths if health > 0]\n",
        "\n",
        "# Example usage\n",
        "solution = Solution()\n",
        "positions = [5, 4, 3, 2, 1]\n",
        "healths = [2, 17, 9, 15, 10]\n",
        "directions = \"RRRRR\"\n",
        "print(solution.survivedRobotsHealths(positions, healths, directions))  # Output: [2, 17, 9, 15, 10]\n"
      ]
    }
  ]
}