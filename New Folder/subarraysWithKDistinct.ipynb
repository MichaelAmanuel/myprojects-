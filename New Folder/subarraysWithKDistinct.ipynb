{
  "nbformat": 4,
  "nbformat_minor": 0,
  "metadata": {
    "colab": {
      "provenance": []
    },
    "kernelspec": {
      "name": "python3",
      "display_name": "Python 3"
    },
    "language_info": {
      "name": "python"
    }
  },
  "cells": [
    {
      "cell_type": "code",
      "execution_count": 2,
      "metadata": {
        "colab": {
          "base_uri": "https://localhost:8080/"
        },
        "id": "ruej_KaMDEr8",
        "outputId": "b4f21930-a517-4d44-f5c2-b95625093634"
      },
      "outputs": [
        {
          "output_type": "stream",
          "name": "stdout",
          "text": [
            "7\n"
          ]
        }
      ],
      "source": [
        "from collections import defaultdict\n",
        "\n",
        "class Solution(object):\n",
        "  def subarraysWithKDistinct(self, nums, k):\n",
        "      def at_most_k(nums, k):\n",
        "          count = 0\n",
        "          left = 0\n",
        "          freq = defaultdict(int)\n",
        "          distinct = 0\n",
        "\n",
        "          for right in range(len(nums)):\n",
        "              if freq[nums[right]] == 0:\n",
        "                  distinct += 1\n",
        "              freq[nums[right]] += 1\n",
        "\n",
        "              while distinct > k:\n",
        "                  freq[nums[left]] -= 1\n",
        "                  if freq[nums[left]] == 0:\n",
        "                      distinct -= 1\n",
        "                  left += 1\n",
        "\n",
        "              count += right - left + 1\n",
        "\n",
        "          return count\n",
        "\n",
        "      return at_most_k(nums, k) - at_most_k(nums, k - 1)\n",
        "\n",
        "solution = Solution()\n",
        "nums = [1, 2, 1, 2, 3]\n",
        "k = 2\n",
        "print(solution.subarraysWithKDistinct(nums, k))\n"
      ]
    },
    {
      "cell_type": "code",
      "source": [],
      "metadata": {
        "id": "YUOpOFC5DUl7"
      },
      "execution_count": null,
      "outputs": []
    }
  ]
}