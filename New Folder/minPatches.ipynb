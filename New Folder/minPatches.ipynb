{
  "nbformat": 4,
  "nbformat_minor": 0,
  "metadata": {
    "colab": {
      "provenance": []
    },
    "kernelspec": {
      "name": "python3",
      "display_name": "Python 3"
    },
    "language_info": {
      "name": "python"
    }
  },
  "cells": [
    {
      "cell_type": "code",
      "execution_count": null,
      "metadata": {
        "id": "ogOlRLYNhla1"
      },
      "outputs": [],
      "source": [
        "class Solution(object):\n",
        "    def minPatches(self, nums, n):\n",
        "\n",
        "        patches = 0\n",
        "        miss = 1\n",
        "        i = 0\n",
        "\n",
        "        while miss <= n:\n",
        "            if i < len(nums) and nums[i] <= miss:\n",
        "                miss += nums[i]\n",
        "                i += 1\n",
        "            else:\n",
        "                miss += miss\n",
        "                patches += 1\n",
        "\n",
        "        return patches\n",
        "\n",
        "solution = Solution()\n",
        "nums = [1, 3]\n",
        "n = 6\n",
        "print(solution.minPatches(nums, n))"
      ]
    }
  ]
}