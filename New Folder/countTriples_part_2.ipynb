{
  "nbformat": 4,
  "nbformat_minor": 0,
  "metadata": {
    "colab": {
      "provenance": []
    },
    "kernelspec": {
      "name": "python3",
      "display_name": "Python 3"
    },
    "language_info": {
      "name": "python"
    }
  },
  "cells": [
    {
      "cell_type": "code",
      "execution_count": 2,
      "metadata": {
        "colab": {
          "base_uri": "https://localhost:8080/"
        },
        "id": "Opi7LIMZ05AV",
        "outputId": "2a265d30-911b-4ea8-b141-2643ceac8966"
      },
      "outputs": [
        {
          "output_type": "stream",
          "name": "stdout",
          "text": [
            "4\n"
          ]
        }
      ],
      "source": [
        "class Solution(object):\n",
        "    def countTriples(self, n):\n",
        "\n",
        "      count = 0\n",
        "      for i in range(2,n+1):\n",
        "        for j in range(2,n+1):\n",
        "          for k in range(2,n+1):\n",
        "            if (i**2) + (j**2) == (k**2):\n",
        "              count += 1\n",
        "\n",
        "      return count\n",
        "\n",
        "solution = Solution()\n",
        "n = 10\n",
        "print(solution.countTriples(n))"
      ]
    },
    {
      "cell_type": "code",
      "source": [
        "class Solution(object):\n",
        "    def countTriples(self, n):\n",
        "        count = 0\n",
        "        for i in range(1, n + 1):\n",
        "            for j in range(i, n + 1):\n",
        "\n",
        "                k_squared = i**2 + j**2\n",
        "\n",
        "                if k_squared <= n**2:\n",
        "\n",
        "                    if int(k_squared**0.5)**2 == k_squared:\n",
        "                        count += 2\n",
        "        return count\n",
        "\n",
        "solution = Solution()\n",
        "n = 10\n",
        "print(solution.countTriples(n))\n"
      ],
      "metadata": {
        "colab": {
          "base_uri": "https://localhost:8080/"
        },
        "id": "8uwC55a91YTN",
        "outputId": "6cf3a2ca-0315-41c3-ce34-868ecac4f963"
      },
      "execution_count": 3,
      "outputs": [
        {
          "output_type": "stream",
          "name": "stdout",
          "text": [
            "4\n"
          ]
        }
      ]
    }
  ]
}