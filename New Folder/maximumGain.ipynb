{
  "nbformat": 4,
  "nbformat_minor": 0,
  "metadata": {
    "colab": {
      "provenance": []
    },
    "kernelspec": {
      "name": "python3",
      "display_name": "Python 3"
    },
    "language_info": {
      "name": "python"
    }
  },
  "cells": [
    {
      "cell_type": "code",
      "execution_count": 1,
      "metadata": {
        "colab": {
          "base_uri": "https://localhost:8080/"
        },
        "id": "Oy_UAcuqghQs",
        "outputId": "b8289472-f2fc-45b6-a583-a7e1751ce0fa"
      },
      "outputs": [
        {
          "output_type": "stream",
          "name": "stdout",
          "text": [
            "dcba\n"
          ]
        }
      ],
      "source": [
        "class Solution:\n",
        "    def maximumGain(self, s, x, y):\n",
        "        def remove_and_count(s, a, b, score):\n",
        "            stack = []\n",
        "            count = 0\n",
        "            for char in s:\n",
        "                if stack and stack[-1] == a and char == b:\n",
        "                    stack.pop()\n",
        "                    count += score\n",
        "                else:\n",
        "                    stack.append(char)\n",
        "            return ''.join(stack), count\n",
        "\n",
        "        if x > y:\n",
        "            s, count_x = remove_and_count(s, 'a', 'b', x)\n",
        "            s, count_y = remove_and_count(s, 'b', 'a', y)\n",
        "        else:\n",
        "            s, count_y = remove_and_count(s, 'b', 'a', y)\n",
        "            s, count_x = remove_and_count(s, 'a', 'b', x)\n",
        "\n",
        "        return count_x + count_y\n",
        "\n",
        "\n",
        "solution = Solution()\n",
        "s = \"cdbcbbaaabab\"\n",
        "x = 4\n",
        "y = 5\n",
        "print(solution.maximumGain(s, x, y))"
      ]
    }
  ]
}