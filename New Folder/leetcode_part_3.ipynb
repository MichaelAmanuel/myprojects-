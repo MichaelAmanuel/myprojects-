{
  "nbformat": 4,
  "nbformat_minor": 0,
  "metadata": {
    "colab": {
      "provenance": []
    },
    "kernelspec": {
      "name": "python3",
      "display_name": "Python 3"
    },
    "language_info": {
      "name": "python"
    }
  },
  "cells": [
    {
      "cell_type": "code",
      "execution_count": null,
      "metadata": {
        "id": "kuepEYFersN9",
        "colab": {
          "base_uri": "https://localhost:8080/"
        },
        "outputId": "2a421be8-cc08-41c3-d095-1a8031750570"
      },
      "outputs": [
        {
          "output_type": "stream",
          "name": "stdout",
          "text": [
            "True\n"
          ]
        }
      ],
      "source": [
        "\n",
        "class Solution(object):\n",
        "    def canPlaceFlowers(self, flowerbed, n):\n",
        "      for i in range(len(flowerbed)):\n",
        "\n",
        "        if flowerbed[i] == 1 and flowerbed[i+4]:\n",
        "            if n = 1\n",
        "      if n == 0:\n",
        "        return True\n",
        "\n",
        "      else:\n",
        "        False\n",
        "\n",
        "solution = Solution()\n",
        "flowerbed = [1,0,0,0,1]\n",
        "n = 2\n",
        "\n",
        "result = solution.canPlaceFlowers(flowerbed, n)\n",
        "print(result)"
      ]
    },
    {
      "cell_type": "code",
      "source": [
        "class Solution(object):\n",
        "    def moveZeroes(self, nums):\n",
        "      num = nums.copy()\n",
        "      for i in nums:\n",
        "        if i == 0:\n",
        "          num.pop(i)\n",
        "\n",
        "      diff = len(nums) - len(num)\n",
        "      print(diff)\n",
        "      while diff > 0:\n",
        "        num.append(0)\n",
        "        diff -= 1\n",
        "\n",
        "      return num\n",
        "\n",
        "solution = Solution()\n",
        "nums = [0,1,0,3,12]\n",
        "\n",
        "result = solution.moveZeroes(nums)\n",
        "print(result)"
      ],
      "metadata": {
        "colab": {
          "base_uri": "https://localhost:8080/"
        },
        "id": "XlS6nFtV1ZbZ",
        "outputId": "e7430f16-ccc3-4e84-cc08-60eed467d887"
      },
      "execution_count": null,
      "outputs": [
        {
          "output_type": "stream",
          "name": "stdout",
          "text": [
            "2\n",
            "[0, 3, 12, 0, 0]\n"
          ]
        }
      ]
    },
    {
      "cell_type": "code",
      "source": [
        "class Solution(object):\n",
        "    def moveZeroes(self, nums):\n",
        "      num = []\n",
        "      for i in nums:\n",
        "        if i != 0:\n",
        "          num.append(i)\n",
        "      diff = len(nums) - len(num)\n",
        "\n",
        "      while diff > 0:\n",
        "        num.append(0)\n",
        "        diff -= 1\n",
        "\n",
        "      return num\n",
        "\n",
        "solution = Solution()\n",
        "nums = [0,1,0,3,12]\n",
        "\n",
        "result = solution.moveZeroes(nums)\n",
        "print(result)"
      ],
      "metadata": {
        "colab": {
          "base_uri": "https://localhost:8080/"
        },
        "id": "P8Yj334H211g",
        "outputId": "6f23343f-9677-4b15-fe9c-f7cb229fff96"
      },
      "execution_count": null,
      "outputs": [
        {
          "output_type": "stream",
          "name": "stdout",
          "text": [
            "[1, 3, 12, 0, 0]\n"
          ]
        }
      ]
    },
    {
      "cell_type": "code",
      "source": [
        "class Solution(object):\n",
        "    def moveZeroes(self, nums):\n",
        "        zero_count = nums.count(0)\n",
        "        nums[:] = [num for num in nums if num != 0]\n",
        "        nums.extend([0] * zero_count)\n",
        "\n",
        "solution = Solution()\n",
        "nums = [0, 1, 0, 3, 12]\n",
        "solution.moveZeroes(nums)\n",
        "print(nums)\n"
      ],
      "metadata": {
        "colab": {
          "base_uri": "https://localhost:8080/"
        },
        "id": "htp9wMOI5QV6",
        "outputId": "2dde33e5-37e9-4a84-fd0b-f283f475cb4d"
      },
      "execution_count": null,
      "outputs": [
        {
          "output_type": "stream",
          "name": "stdout",
          "text": [
            "[1, 3, 12, 0, 0]\n"
          ]
        }
      ]
    },
    {
      "cell_type": "code",
      "source": [
        "class Solution(object):\n",
        "    def thousandSeparator(self, n):\n",
        "        m = str(n)\n",
        "        count = 0\n",
        "        if len(m) > 3:\n",
        "            for i in range(len(m), -1, -1):\n",
        "                count += 1\n",
        "                if count % 3 == 0:\n",
        "                    out_put = m[:i-1] +'.'+m[i-1:]\n",
        "        else:\n",
        "            out_put = m\n",
        "\n",
        "        return out_put\n",
        "\n",
        "solution = Solution()\n",
        "n = 123456789\n",
        "result = solution.thousandSeparator(n)\n",
        "print(result)"
      ],
      "metadata": {
        "colab": {
          "base_uri": "https://localhost:8080/"
        },
        "id": "l4vHMQyqIsJx",
        "outputId": "a8ab1404-79d3-469e-f05e-a6462e6ba38a"
      },
      "execution_count": 1,
      "outputs": [
        {
          "output_type": "stream",
          "name": "stdout",
          "text": [
            ".123456789\n"
          ]
        }
      ]
    }
  ]
}