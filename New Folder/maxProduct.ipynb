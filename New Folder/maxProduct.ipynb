{
  "nbformat": 4,
  "nbformat_minor": 0,
  "metadata": {
    "colab": {
      "provenance": []
    },
    "kernelspec": {
      "name": "python3",
      "display_name": "Python 3"
    },
    "language_info": {
      "name": "python"
    }
  },
  "cells": [
    {
      "cell_type": "code",
      "execution_count": null,
      "metadata": {
        "id": "lN5Dn8tNmLYg"
      },
      "outputs": [],
      "source": [
        "class Solution(object):\n",
        "    def maxProduct(self, nums):\n",
        "      ma = sorted(nums, reverse=True)\n",
        "      result = (ma[0] - 1) * (ma[1]-1)\n",
        "      return result\n",
        "\n",
        "solution = Solution()\n",
        "nums = [3,4,5,2]\n",
        "print(solution.maxProduct(nums))"
      ]
    }
  ]
}