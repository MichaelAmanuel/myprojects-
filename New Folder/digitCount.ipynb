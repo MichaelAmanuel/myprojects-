{
  "nbformat": 4,
  "nbformat_minor": 0,
  "metadata": {
    "colab": {
      "provenance": []
    },
    "kernelspec": {
      "name": "python3",
      "display_name": "Python 3"
    },
    "language_info": {
      "name": "python"
    }
  },
  "cells": [
    {
      "cell_type": "code",
      "execution_count": 5,
      "metadata": {
        "id": "-mzfTBU5Ssev",
        "colab": {
          "base_uri": "https://localhost:8080/"
        },
        "outputId": "fa9b12ac-8e54-4d01-9af0-564823a394e7"
      },
      "outputs": [
        {
          "output_type": "stream",
          "name": "stdout",
          "text": [
            "False\n"
          ]
        }
      ],
      "source": [
        "\n",
        "class Solution(object):\n",
        "    def digitCount(self, num):\n",
        "      for i, j in zip(range(len(num)),num):\n",
        "        if num.count(str(i)) != int(j):\n",
        "\n",
        "          return False\n",
        "\n",
        "      return True\n",
        "\n",
        "solution = Solution()\n",
        "num = \"030\"\n",
        "print(solution.digitCount(num))"
      ]
    }
  ]
}