{
  "nbformat": 4,
  "nbformat_minor": 0,
  "metadata": {
    "colab": {
      "provenance": []
    },
    "kernelspec": {
      "name": "python3",
      "display_name": "Python 3"
    },
    "language_info": {
      "name": "python"
    }
  },
  "cells": [
    {
      "cell_type": "code",
      "execution_count": null,
      "metadata": {
        "id": "kQjWvHzXch44",
        "colab": {
          "base_uri": "https://localhost:8080/"
        },
        "outputId": "2f10b5e0-9760-41c8-b117-134cc9068974"
      },
      "outputs": [
        {
          "output_type": "stream",
          "name": "stdout",
          "text": [
            "4.666666666666667\n",
            "3.0\n"
          ]
        }
      ],
      "source": [
        "class Solution(object):\n",
        "    def averageWaitingTime(self, customers):\n",
        "        total_waiting_time = 0\n",
        "        current_time = 0\n",
        "\n",
        "        for arrival, preparation in customers:\n",
        "            waiting_time = max(current_time - arrival, 0) + preparation\n",
        "            total_waiting_time += waiting_time\n",
        "            current_time = arrival + preparation\n",
        "\n",
        "        return total_waiting_time / len(customers)\n",
        "\n",
        "# Example usage\n",
        "solution = Solution()\n",
        "customers1 = [[1,2],[2,5],[4,3]]\n",
        "print(solution.averageWaitingTime(customers1))\n",
        "\n",
        "customers2 = [[5,2],[5,4],[10,3],[20,1]]\n",
        "print(solution.averageWaitingTime(customers2))\n"
      ]
    },
    {
      "cell_type": "code",
      "source": [],
      "metadata": {
        "id": "FsWd_sONMEhw",
        "outputId": "c94d3430-ac5a-4336-d4ac-de2f5ea65a69",
        "colab": {
          "base_uri": "https://localhost:8080/"
        }
      },
      "execution_count": null,
      "outputs": [
        {
          "output_type": "stream",
          "name": "stdout",
          "text": [
            "6\n",
            "6\n"
          ]
        }
      ]
    }
  ]
}