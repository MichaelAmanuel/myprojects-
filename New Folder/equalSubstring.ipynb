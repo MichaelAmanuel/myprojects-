{
  "nbformat": 4,
  "nbformat_minor": 0,
  "metadata": {
    "colab": {
      "provenance": []
    },
    "kernelspec": {
      "name": "python3",
      "display_name": "Python 3"
    },
    "language_info": {
      "name": "python"
    }
  },
  "cells": [
    {
      "cell_type": "code",
      "execution_count": null,
      "metadata": {
        "id": "p0hNm5asuUdD"
      },
      "outputs": [],
      "source": [
        "class Solution(object):\n",
        "    def equalSubstring(self, s, t, maxCost):\n",
        "        n = len(s)\n",
        "        costs = [abs(ord(s[i]) - ord(t[i])) for i in range(n)]\n",
        "\n",
        "        left = 0\n",
        "        current_cost = 0\n",
        "        max_length = 0\n",
        "\n",
        "        for right in range(n):\n",
        "            current_cost += costs[right]\n",
        "            while current_cost > maxCost:\n",
        "                current_cost -= costs[left]\n",
        "                left += 1\n",
        "            max_length = max(max_length, right - left + 1)\n",
        "\n",
        "        return max_length\n",
        "\n",
        "solution = Solution()\n",
        "s = \"abcd\"\n",
        "t = \"bcdf\"\n",
        "maxCost = 3\n",
        "result = solution.equalSubstring(s, t, maxCost)\n",
        "print(result)"
      ]
    }
  ]
}