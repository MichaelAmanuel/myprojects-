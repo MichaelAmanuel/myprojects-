{
  "nbformat": 4,
  "nbformat_minor": 0,
  "metadata": {
    "colab": {
      "provenance": []
    },
    "kernelspec": {
      "name": "python3",
      "display_name": "Python 3"
    },
    "language_info": {
      "name": "python"
    }
  },
  "cells": [
    {
      "cell_type": "code",
      "execution_count": null,
      "metadata": {
        "id": "kQjWvHzXch44",
        "colab": {
          "base_uri": "https://localhost:8080/"
        },
        "outputId": "b3d22a1b-b78b-4e2c-8b8c-04590b83ce94"
      },
      "outputs": [
        {
          "output_type": "stream",
          "name": "stdout",
          "text": [
            "7\n"
          ]
        }
      ],
      "source": [
        "class Solution(object):\n",
        "    def countUnguarded(self, m, n, guards, walls):\n",
        "        guarded = set()\n",
        "        walls_set = set((x, y) for x, y in walls)\n",
        "        guards_set = set((x, y) for x, y in guards)\n",
        "\n",
        "        for gx, gy in guards:\n",
        "            for dx, dy in [(0, 1), (0, -1), (1, 0), (-1, 0)]:\n",
        "                x, y = gx + dx, gy + dy\n",
        "                while 0 <= x < m and 0 <= y < n and (x, y) not in walls_set and (x, y) not in guards_set:\n",
        "                    guarded.add((x, y))\n",
        "                    x, y = x + dx, y + dy\n",
        "\n",
        "        unguarded_count = 0\n",
        "        for x in range(m):\n",
        "            for y in range(n):\n",
        "                if (x, y) not in guarded and (x, y) not in walls_set and (x, y) not in guards_set:\n",
        "                    unguarded_count += 1\n",
        "\n",
        "        return unguarded_count\n"
      ]
    }
  ]
}