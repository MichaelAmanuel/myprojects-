{
  "nbformat": 4,
  "nbformat_minor": 0,
  "metadata": {
    "colab": {
      "provenance": []
    },
    "kernelspec": {
      "name": "python3",
      "display_name": "Python 3"
    },
    "language_info": {
      "name": "python"
    }
  },
  "cells": [
    {
      "cell_type": "code",
      "execution_count": 3,
      "metadata": {
        "colab": {
          "base_uri": "https://localhost:8080/"
        },
        "id": "pDdaxbTXdzYC",
        "outputId": "283b355f-13be-4308-d07e-6ec9bf8b10f6"
      },
      "outputs": [
        {
          "output_type": "stream",
          "name": "stdout",
          "text": [
            "0\n"
          ]
        }
      ],
      "source": [
        "class Solution(object):\n",
        "    def numIdenticalPairs(self, nums):\n",
        "\n",
        "      count = 0\n",
        "\n",
        "      for i in range(len(nums)):\n",
        "        for j in range(i + 1, len(nums)):\n",
        "          if nums[i] == nums[j]:\n",
        "            count += 1\n",
        "\n",
        "      return count\n",
        "\n",
        "solution = Solution()\n",
        "nums = [1,2,3]\n",
        "print(solution.numIdenticalPairs(nums))"
      ]
    },
    {
      "cell_type": "code",
      "source": [],
      "metadata": {
        "id": "Fii3WexzeH0m"
      },
      "execution_count": null,
      "outputs": []
    }
  ]
}