{
  "nbformat": 4,
  "nbformat_minor": 0,
  "metadata": {
    "colab": {
      "provenance": []
    },
    "kernelspec": {
      "name": "python3",
      "display_name": "Python 3"
    },
    "language_info": {
      "name": "python"
    }
  },
  "cells": [
    {
      "cell_type": "code",
      "execution_count": null,
      "metadata": {
        "id": "kQjWvHzXch44",
        "colab": {
          "base_uri": "https://localhost:8080/"
        },
        "outputId": "50e14a69-7a1a-437e-be44-e1ade4c7db4d"
      },
      "outputs": [
        {
          "output_type": "stream",
          "name": "stdout",
          "text": [
            "zzcacc\n",
            "bbab\n"
          ]
        }
      ],
      "source": [
        "class Solution(object):\n",
        "    def pathSum(self, root, targetSum):\n",
        "        def dfs(node, current_sum):\n",
        "            if not node:\n",
        "                return 0\n",
        "            count = 1 if node.val == current_sum else 0\n",
        "            count += dfs(node.left, current_sum - node.val)\n",
        "            count += dfs(node.right, current_sum - node.val)\n",
        "            return count\n",
        "\n",
        "        def helper(node):\n",
        "            if not node:\n",
        "                return 0\n",
        "            result = dfs(node, targetSum)\n",
        "            result += helper(node.left)\n",
        "            result += helper(node.right)\n",
        "            return result\n",
        "\n",
        "        return helper(root)\n"
      ]
    }
  ]
}