{
  "nbformat": 4,
  "nbformat_minor": 0,
  "metadata": {
    "colab": {
      "provenance": []
    },
    "kernelspec": {
      "name": "python3",
      "display_name": "Python 3"
    },
    "language_info": {
      "name": "python"
    }
  },
  "cells": [
    {
      "cell_type": "code",
      "execution_count": 6,
      "metadata": {
        "colab": {
          "base_uri": "https://localhost:8080/"
        },
        "id": "jAFwzFA3xDaK",
        "outputId": "3f7df1d7-a84c-4f0a-877d-2ff1f8568efc"
      },
      "outputs": [
        {
          "output_type": "stream",
          "name": "stdout",
          "text": [
            "True\n"
          ]
        }
      ],
      "source": [
        "class Solution(object):\n",
        "    def threeConsecutiveOdds(self, arr):\n",
        "\n",
        "      coount = 0\n",
        "\n",
        "      for i in range(len(arr)-2):\n",
        "        if arr[i] % 2 !=0 and arr[i+1] % 2 !=0 and arr[i+2] % 2 !=0:\n",
        "          return True\n",
        "\n",
        "      return False\n",
        "\n",
        "solution = Solution()\n",
        "arr = [1,2,34,3,4,5,7,23,12]\n",
        "print(solution.threeConsecutiveOdds(arr))"
      ]
    }
  ]
}