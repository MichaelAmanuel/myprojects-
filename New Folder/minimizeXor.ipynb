{
  "nbformat": 4,
  "nbformat_minor": 0,
  "metadata": {
    "colab": {
      "provenance": []
    },
    "kernelspec": {
      "name": "python3",
      "display_name": "Python 3"
    },
    "language_info": {
      "name": "python"
    }
  },
  "cells": [
    {
      "cell_type": "code",
      "execution_count": null,
      "metadata": {
        "id": "kQjWvHzXch44",
        "colab": {
          "base_uri": "https://localhost:8080/"
        },
        "outputId": "792b0e92-1d98-4286-aafa-efc6fbfae2a7"
      },
      "outputs": [
        {
          "output_type": "stream",
          "name": "stdout",
          "text": [
            "9\n"
          ]
        }
      ],
      "source": [
        "class Solution:\n",
        "    def minimizeXor(self, num1: int, num2: int) -> int:\n",
        "        bits_count = bin(num2).count('1')\n",
        "        x = 0\n",
        "        for i in range(31, -1, -1):\n",
        "            if bits_count == 0:\n",
        "                break\n",
        "            if num1 & (1 << i):\n",
        "                x |= (1 << i)\n",
        "                bits_count -= 1\n",
        "        for i in range(32):\n",
        "            if bits_count == 0:\n",
        "                break\n",
        "            if not (x & (1 << i)):\n",
        "                x |= (1 << i)\n",
        "                bits_count -= 1\n",
        "        return x\n"
      ]
    }
  ]
}