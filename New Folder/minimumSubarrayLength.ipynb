{
  "nbformat": 4,
  "nbformat_minor": 0,
  "metadata": {
    "colab": {
      "provenance": []
    },
    "kernelspec": {
      "name": "python3",
      "display_name": "Python 3"
    },
    "language_info": {
      "name": "python"
    }
  },
  "cells": [
    {
      "cell_type": "code",
      "execution_count": null,
      "metadata": {
        "id": "kQjWvHzXch44",
        "colab": {
          "base_uri": "https://localhost:8080/"
        },
        "outputId": "b3d22a1b-b78b-4e2c-8b8c-04590b83ce94"
      },
      "outputs": [
        {
          "output_type": "stream",
          "name": "stdout",
          "text": [
            "7\n"
          ]
        }
      ],
      "source": [
        "\n",
        "class Solution(object):\n",
        "    def minimumSubarrayLength(self, nums, k):\n",
        "        n = len(nums)\n",
        "        min_length = float('inf')\n",
        "\n",
        "        for i in range(n):\n",
        "            current_or = 0\n",
        "            for j in range(i, n):\n",
        "                current_or |= nums[j]\n",
        "                if current_or >= k:\n",
        "                    min_length = min(min_length, j - i + 1)\n",
        "                    break\n",
        "\n",
        "        return min_length if min_length != float('inf') else -1\n",
        "\n"
      ]
    }
  ]
}