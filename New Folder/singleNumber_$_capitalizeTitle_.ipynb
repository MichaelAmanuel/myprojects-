{
  "nbformat": 4,
  "nbformat_minor": 0,
  "metadata": {
    "colab": {
      "provenance": []
    },
    "kernelspec": {
      "name": "python3",
      "display_name": "Python 3"
    },
    "language_info": {
      "name": "python"
    }
  },
  "cells": [
    {
      "cell_type": "code",
      "execution_count": null,
      "metadata": {
        "colab": {
          "base_uri": "https://localhost:8080/"
        },
        "id": "FEbQZLz-Sf8_",
        "outputId": "89ddcf2a-015f-41e0-a0ff-c8ae9d34d8cb"
      },
      "outputs": [
        {
          "output_type": "stream",
          "name": "stdout",
          "text": [
            "None\n"
          ]
        }
      ],
      "source": [
        "class Solution(object):\n",
        "    def singleNumber(self, nums):\n",
        "\n",
        "        for i in range(len(nums)-1):\n",
        "          count = 0\n",
        "          for j in range(i+1, len(nums)):\n",
        "            if i == j:\n",
        "              count += 1\n",
        "          if count == 1:\n",
        "            return i\n",
        "\n",
        "solution_instance = Solution()\n",
        "nums = [2,2,1]\n",
        "print(solution_instance.singleNumber(nums))"
      ]
    },
    {
      "cell_type": "code",
      "source": [
        "class Solution(object):\n",
        "    def singleNumber(self, nums):\n",
        "\n",
        "        for i in range(len(nums)):\n",
        "          count = 0\n",
        "          for j in range(i+1, len(nums)):\n",
        "            if i == j:\n",
        "              count += 1\n",
        "          if count == 0:\n",
        "            return i\n",
        "\n",
        "solution_instance = Solution()\n",
        "nums = [2,2,1]\n",
        "print(solution_instance.singleNumber(nums))"
      ],
      "metadata": {
        "colab": {
          "base_uri": "https://localhost:8080/"
        },
        "id": "K9CJycwXSznA",
        "outputId": "c6746056-2a85-438c-a170-3dce68dd5f5f"
      },
      "execution_count": 1,
      "outputs": [
        {
          "output_type": "stream",
          "name": "stdout",
          "text": [
            "0\n"
          ]
        }
      ]
    },
    {
      "cell_type": "code",
      "source": [
        "title = \"capiTalIze tHe titLe\"\n",
        "class Solution(object):\n",
        "    def capitalizeTitle(self, title):\n",
        "      titles = title.split(' ')\n",
        "      out_put = ' '\n",
        "      for i in titles:\n",
        "        if len(i) > 2:\n",
        "          capital = i.title()\n",
        "          out_put += ' ' + capital\n",
        "        else:\n",
        "          capital = i.lower()\n",
        "          out_put += ' ' + capital\n",
        "      return out_put\n",
        "\n",
        "solution_instance = Solution()\n",
        "title = \"First leTTeR of EACH Word\"\n",
        "print(solution_instance.capitalizeTitle(title))"
      ],
      "metadata": {
        "colab": {
          "base_uri": "https://localhost:8080/"
        },
        "id": "DK4qWjZtq2iu",
        "outputId": "421e1462-dd15-454d-867f-d4029a10012a"
      },
      "execution_count": 18,
      "outputs": [
        {
          "output_type": "stream",
          "name": "stdout",
          "text": [
            "  First Letter of Each Word\n"
          ]
        }
      ]
    },
    {
      "cell_type": "code",
      "source": [
        "sentence = \"this is a sample sentence\"\n",
        "capitalized_sentence = sentence.title()\n",
        "\n",
        "print(capitalized_sentence)\n"
      ],
      "metadata": {
        "colab": {
          "base_uri": "https://localhost:8080/"
        },
        "id": "YtN9b7TorA3t",
        "outputId": "8bd67486-2da3-403a-a87f-6d8791ab8c84"
      },
      "execution_count": 4,
      "outputs": [
        {
          "output_type": "stream",
          "name": "stdout",
          "text": [
            "This Is A Sample Sentence\n"
          ]
        }
      ]
    }
  ]
}