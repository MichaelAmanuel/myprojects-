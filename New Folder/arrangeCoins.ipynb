{
  "nbformat": 4,
  "nbformat_minor": 0,
  "metadata": {
    "colab": {
      "provenance": []
    },
    "kernelspec": {
      "name": "python3",
      "display_name": "Python 3"
    },
    "language_info": {
      "name": "python"
    }
  },
  "cells": [
    {
      "cell_type": "code",
      "execution_count": 92,
      "metadata": {
        "colab": {
          "base_uri": "https://localhost:8080/"
        },
        "id": "ouVWfqFTSaYj",
        "outputId": "f3c979f1-6625-41a9-e464-997780ce24c2"
      },
      "outputs": [
        {
          "output_type": "stream",
          "name": "stdout",
          "text": [
            "18\n"
          ]
        }
      ],
      "source": [
        "class Solution(object):\n",
        "    def arrangeCoins(self, n):\n",
        "      count = 0\n",
        "      for i in range(1, n+1):\n",
        "        for j in range(1, i + 1):\n",
        "          n -= 1\n",
        "          if n == 0 and j == i+0:\n",
        "              count = count + 1\n",
        "              return count\n",
        "\n",
        "          elif n == 0 :\n",
        "            count == count - 1\n",
        "            return count\n",
        "        count += 1\n",
        "\n",
        "solution = Solution()\n",
        "n = 180\n",
        "print(solution.arrangeCoins(n))"
      ]
    },
    {
      "cell_type": "code",
      "source": [
        "import math\n",
        "class Solution(object):\n",
        "    def arrangeCoins(self, n):\n",
        "\n",
        "      num = (-1 + math.sqrt(1 + 8 * n)) / 2\n",
        "\n",
        "      return math.floor(num)\n",
        "\n",
        "solution = Solution()\n",
        "n = 11\n",
        "print(solution.arrangeCoins(n))"
      ],
      "metadata": {
        "colab": {
          "base_uri": "https://localhost:8080/"
        },
        "id": "DlFHHaD799At",
        "outputId": "b94b8ae7-f546-41cb-82b8-2f95053a9ec9"
      },
      "execution_count": 99,
      "outputs": [
        {
          "output_type": "stream",
          "name": "stdout",
          "text": [
            "4\n"
          ]
        }
      ]
    }
  ]
}