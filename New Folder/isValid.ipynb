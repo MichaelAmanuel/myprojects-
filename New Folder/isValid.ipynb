{
  "nbformat": 4,
  "nbformat_minor": 0,
  "metadata": {
    "colab": {
      "provenance": []
    },
    "kernelspec": {
      "name": "python3",
      "display_name": "Python 3"
    },
    "language_info": {
      "name": "python"
    }
  },
  "cells": [
    {
      "cell_type": "code",
      "execution_count": 3,
      "metadata": {
        "colab": {
          "base_uri": "https://localhost:8080/"
        },
        "id": "CmHTMTqeS8lf",
        "outputId": "2423b4ff-ce56-4adf-d94c-5f88f272e47e"
      },
      "outputs": [
        {
          "output_type": "stream",
          "name": "stdout",
          "text": [
            "True\n"
          ]
        }
      ],
      "source": [
        "class Solution(object):\n",
        "    def isValid(self, s):\n",
        "\n",
        "        stack = []\n",
        "        bracket_map = {')': '(', '}': '{', ']': '['}\n",
        "\n",
        "        for char in s:\n",
        "            if char in bracket_map:\n",
        "                top_element = stack.pop() if stack else '#'\n",
        "                if bracket_map[char] != top_element:\n",
        "                    return False\n",
        "            else:\n",
        "                stack.append(char)\n",
        "\n",
        "        return not stack\n",
        "\n",
        "solution = Solution()\n",
        "s = \"()\"\n",
        "print(solution.isValid(s))"
      ]
    }
  ]
}