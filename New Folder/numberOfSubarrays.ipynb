{
  "nbformat": 4,
  "nbformat_minor": 0,
  "metadata": {
    "colab": {
      "provenance": []
    },
    "kernelspec": {
      "name": "python3",
      "display_name": "Python 3"
    },
    "language_info": {
      "name": "python"
    }
  },
  "cells": [
    {
      "cell_type": "code",
      "execution_count": 1,
      "metadata": {
        "colab": {
          "base_uri": "https://localhost:8080/"
        },
        "id": "AchvtzCzDZoi",
        "outputId": "ea23cb40-f098-46fa-d000-1cccf81ba4b9"
      },
      "outputs": [
        {
          "output_type": "stream",
          "name": "stdout",
          "text": [
            "2\n"
          ]
        }
      ],
      "source": [
        "class Solution(object):\n",
        "    def numberOfSubarrays(self, nums, k):\n",
        "        from collections import defaultdict\n",
        "\n",
        "        prefix_counts = defaultdict(int)\n",
        "        prefix_counts[0] = 1\n",
        "\n",
        "        current_prefix_sum = 0\n",
        "        result = 0\n",
        "\n",
        "        for num in nums:\n",
        "            if num % 2 == 1:\n",
        "                current_prefix_sum += 1\n",
        "\n",
        "            if (current_prefix_sum - k) in prefix_counts:\n",
        "                result += prefix_counts[current_prefix_sum - k]\n",
        "\n",
        "            prefix_counts[current_prefix_sum] += 1\n",
        "\n",
        "        return result\n",
        "\n",
        "\n",
        "solution = Solution()\n",
        "nums = [1, 1, 2, 1, 1]\n",
        "k = 3\n",
        "print(solution.numberOfSubarrays(nums, k))"
      ]
    }
  ]
}