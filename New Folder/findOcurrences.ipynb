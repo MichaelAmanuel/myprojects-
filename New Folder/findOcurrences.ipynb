{
  "nbformat": 4,
  "nbformat_minor": 0,
  "metadata": {
    "colab": {
      "provenance": []
    },
    "kernelspec": {
      "name": "python3",
      "display_name": "Python 3"
    },
    "language_info": {
      "name": "python"
    }
  },
  "cells": [
    {
      "cell_type": "code",
      "execution_count": null,
      "metadata": {
        "colab": {
          "base_uri": "https://localhost:8080/"
        },
        "id": "pnQHBt7D7PVt",
        "outputId": "a6aa9063-d9c7-4dff-c37f-1f43b960e371"
      },
      "outputs": [
        {
          "output_type": "stream",
          "name": "stdout",
          "text": [
            "['girl', 'student']\n"
          ]
        }
      ],
      "source": [
        "class Solution(object):\n",
        "    def findOcurrences(self, text, first, second):\n",
        "      result = []\n",
        "      text_2 = text.split(' ')\n",
        "      res = []\n",
        "      for i in range(len(text_2)):\n",
        "        if text_2[i] == first or text_2[i] == second:\n",
        "          res.append(text_2[i])\n",
        "          if len(res) == 2:\n",
        "            if res[0] == first and res[1] == second:\n",
        "              result.append(text_2[i+1] )\n",
        "              res = []\n",
        "\n",
        "      return result\n",
        "\n",
        "solution = Solution()\n",
        "text = \"alice is a good girl she is a good student\"\n",
        "first = \"a\"\n",
        "second = \"good\"\n",
        "print(solution.findOcurrences(text, first, second))"
      ]
    },
    {
      "cell_type": "code",
      "source": [
        "class Solution(object):\n",
        "    def findOcurrences(self, text, first, second):\n",
        "        result = []\n",
        "        words = text.split()\n",
        "\n",
        "        for i in range(len(words) - 2):\n",
        "            if words[i] == first and words[i + 1] == second:\n",
        "                result.append(words[i + 2])\n",
        "\n",
        "        return result\n",
        "\n",
        "solution = Solution()\n",
        "text = \"alice is a good girl she is a good student\"\n",
        "first = \"a\"\n",
        "second = \"good\"\n",
        "print(solution.findOcurrences(text, first, second))"
      ],
      "metadata": {
        "colab": {
          "base_uri": "https://localhost:8080/"
        },
        "id": "qtvwfv94Sa7K",
        "outputId": "dda55b2d-5313-46a2-e674-781d67b50c3b"
      },
      "execution_count": 4,
      "outputs": [
        {
          "output_type": "stream",
          "name": "stdout",
          "text": [
            "['girl', 'student']\n"
          ]
        }
      ]
    },
    {
      "cell_type": "code",
      "source": [
        "class Solution(object):\n",
        "    def findOcurrences(self, text, first, second):\n",
        "      result = []\n",
        "      text_2 = text.split(' ')\n",
        "      res = []\n",
        "      for i in range(len(text_2)):\n",
        "        if text_2[i] == first or text_2[i] == second:\n",
        "          res.append(text_2[i])\n",
        "          if len(res) == 2:\n",
        "            if res[0] == first and res[1] == second:\n",
        "              result.append(text_2[i+1] )\n",
        "              res = []\n",
        "\n",
        "      return result\n",
        "\n",
        "solution = Solution()\n",
        "text = \"we will we will rock you\"\n",
        "first = \"we\"\n",
        "second = \"will\"\n",
        "print(solution.findOcurrences(text, first, second))"
      ],
      "metadata": {
        "colab": {
          "base_uri": "https://localhost:8080/"
        },
        "id": "YtJTCcFKBY7v",
        "outputId": "89bd81bc-232d-4c1e-a972-6614d552f754"
      },
      "execution_count": null,
      "outputs": [
        {
          "output_type": "stream",
          "name": "stdout",
          "text": [
            "['we', 'rock']\n"
          ]
        }
      ]
    },
    {
      "cell_type": "code",
      "source": [
        "class Solution(object):\n",
        "    def findOcurrences(self, text, first, second):\n",
        "      result = []\n",
        "      text_2 = text.split(' ')\n",
        "      res = []\n",
        "      for i in range(len(text_2)):\n",
        "        if text_2[i] == first or text_2[i] == second:\n",
        "          res.append(text_2[i])\n",
        "          if len(res) == 2:\n",
        "            if res[0] == first and res[1] == second:\n",
        "              result.append(text_2[i+1] )\n",
        "              res = []\n",
        "            else:\n",
        "              res.remove(res[0])\n",
        "\n",
        "      return result\n",
        "\n",
        "solution = Solution()\n",
        "text = \"alice is aa good girl she is a good student\"\n",
        "first = \"a\"\n",
        "second = \"good\"\n",
        "print(solution.findOcurrences(text, first, second))"
      ],
      "metadata": {
        "colab": {
          "base_uri": "https://localhost:8080/"
        },
        "id": "KjnzMhZVGfXG",
        "outputId": "049667fb-6e09-480f-ea34-904ae18f4f81"
      },
      "execution_count": null,
      "outputs": [
        {
          "output_type": "stream",
          "name": "stdout",
          "text": [
            "['student']\n"
          ]
        }
      ]
    },
    {
      "cell_type": "code",
      "source": [
        "class Solution(object):\n",
        "    def findOcurrences(self, text, first, second):\n",
        "      result = []\n",
        "      text_2 = text.split(' ')\n",
        "      res = []\n",
        "      for i in range(len(text_2)):\n",
        "        if text_2[i] == first or text_2[i] == second:\n",
        "          res.append(text_2[i])\n",
        "          if len(res) == 2:\n",
        "            if res[0] == first and res[1] == second:\n",
        "              result.append(text_2[i+1] )\n",
        "              res = []\n",
        "            else:\n",
        "              res.remove(res[0])\n",
        "\n",
        "      return result\n",
        "\n",
        "solution = Solution()\n",
        "text = \"we will we will rock you\"\n",
        "first = \"we\"\n",
        "second = \"will\"\n",
        "print(solution.findOcurrences(text, first, second))"
      ],
      "metadata": {
        "colab": {
          "base_uri": "https://localhost:8080/"
        },
        "id": "J0CQKv8F7S-h",
        "outputId": "01a3f634-f22f-4792-e43d-d1033bad4b28"
      },
      "execution_count": 1,
      "outputs": [
        {
          "output_type": "stream",
          "name": "stdout",
          "text": [
            "['we', 'rock']\n"
          ]
        }
      ]
    },
    {
      "cell_type": "code",
      "source": [
        "class Solution(object):\n",
        "    def findOcurrences(self, text, first, second):\n",
        "      result = []\n",
        "      text_2 = text.split(' ')\n",
        "      res = []\n",
        "      for i in range(len(text_2)):\n",
        "        if text_2[i] == first or text_2[i] == second:\n",
        "          res.append(text_2[i])\n",
        "          if len(res) == 2:\n",
        "            if res[0] == first and res[1] == second:\n",
        "              result.append(text_2[i+1] )\n",
        "              res = []\n",
        "            else:\n",
        "              res.remove(res[0])\n",
        "\n",
        "      return result\n",
        "\n",
        "solution = Solution()\n",
        "text = \"obo jvezipre obo jnvavldde jvezipre jvezipre jnvavldde jvezipre jvezipre jvezipre y jnvavldde jnvavldde obo jnvavldde jnvavldde obo jnvavldde jnvavldde jvezipre\"\n",
        "first = \"jnvavldde\"\n",
        "second = \"y\"\n",
        "print(solution.findOcurrences(text, first, second))"
      ],
      "metadata": {
        "colab": {
          "base_uri": "https://localhost:8080/"
        },
        "id": "F4rb32KiRMpQ",
        "outputId": "3ddf92a5-3cce-499b-876f-e946450f7bad"
      },
      "execution_count": 3,
      "outputs": [
        {
          "output_type": "stream",
          "name": "stdout",
          "text": [
            "['jnvavldde']\n"
          ]
        }
      ]
    }
  ]
}