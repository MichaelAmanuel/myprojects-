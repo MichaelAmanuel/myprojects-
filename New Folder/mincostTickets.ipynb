{
  "nbformat": 4,
  "nbformat_minor": 0,
  "metadata": {
    "colab": {
      "provenance": []
    },
    "kernelspec": {
      "name": "python3",
      "display_name": "Python 3"
    },
    "language_info": {
      "name": "python"
    }
  },
  "cells": [
    {
      "cell_type": "code",
      "execution_count": null,
      "metadata": {
        "id": "kQjWvHzXch44",
        "colab": {
          "base_uri": "https://localhost:8080/"
        },
        "outputId": "50e14a69-7a1a-437e-be44-e1ade4c7db4d"
      },
      "outputs": [
        {
          "output_type": "stream",
          "name": "stdout",
          "text": [
            "zzcacc\n",
            "bbab\n"
          ]
        }
      ],
      "source": [
        "class Solution(object):\n",
        "    def mincostTickets(self, days, costs):\n",
        "        dp = [0] * (days[-1] + 1)\n",
        "        travel_days = set(days)\n",
        "\n",
        "        for day in range(1, days[-1] + 1):\n",
        "            if day not in travel_days:\n",
        "                dp[day] = dp[day - 1]\n",
        "            else:\n",
        "                dp[day] = min(\n",
        "                    dp[max(0, day - 1)] + costs[0],  # 1-day pass\n",
        "                    dp[max(0, day - 7)] + costs[1],  # 7-day pass\n",
        "                    dp[max(0, day - 30)] + costs[2]  # 30-day pass\n",
        "                )\n",
        "\n",
        "        return dp[days[-1]]\n"
      ]
    }
  ]
}