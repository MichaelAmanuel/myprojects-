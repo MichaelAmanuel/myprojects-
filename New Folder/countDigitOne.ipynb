{
  "nbformat": 4,
  "nbformat_minor": 0,
  "metadata": {
    "colab": {
      "provenance": []
    },
    "kernelspec": {
      "name": "python3",
      "display_name": "Python 3"
    },
    "language_info": {
      "name": "python"
    }
  },
  "cells": [
    {
      "cell_type": "code",
      "execution_count": null,
      "metadata": {
        "id": "RYs-7FHfUD3c"
      },
      "outputs": [],
      "source": [
        "class Solution(object):\n",
        "    def countDigitOne(self, n):\n",
        "        if n <= 0:\n",
        "            return 0\n",
        "\n",
        "        count = 0\n",
        "        factor = 1\n",
        "\n",
        "        while factor <= n:\n",
        "            lower_numbers = n - (n // factor) * factor\n",
        "            current_digit = (n // factor) % 10\n",
        "            higher_numbers = n // (factor * 10)\n",
        "\n",
        "            if current_digit == 0:\n",
        "                count += higher_numbers * factor\n",
        "            elif current_digit == 1:\n",
        "                count += higher_numbers * factor + lower_numbers + 1\n",
        "            else:\n",
        "                count += (higher_numbers + 1) * factor\n",
        "\n",
        "            factor *= 10\n",
        "\n",
        "        return count\n",
        "\n",
        "solution = Solution()\n",
        "print(solution.countDigitOne(13))\n"
      ]
    }
  ]
}