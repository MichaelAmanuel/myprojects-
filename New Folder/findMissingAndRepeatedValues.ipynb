{
  "nbformat": 4,
  "nbformat_minor": 0,
  "metadata": {
    "colab": {
      "provenance": []
    },
    "kernelspec": {
      "name": "python3",
      "display_name": "Python 3"
    },
    "language_info": {
      "name": "python"
    }
  },
  "cells": [
    {
      "cell_type": "code",
      "execution_count": null,
      "metadata": {
        "id": "kQjWvHzXch44"
      },
      "outputs": [],
      "source": [
        "class Solution:\n",
        "    def findMissingAndRepeatedValues(self, grid):\n",
        "        n = len(grid)\n",
        "        num_counts = Counter(num for row in grid for num in row)\n",
        "\n",
        "        a = b = -1\n",
        "        for i in range(1, n * n + 1):\n",
        "            if num_counts[i] == 2:\n",
        "                a = i\n",
        "            elif num_counts[i] == 0:\n",
        "                b = i\n",
        "\n",
        "        return [a, b]"
      ]
    },
    {
      "cell_type": "code",
      "source": [],
      "metadata": {
        "id": "HhjYAmsPmpz5"
      },
      "execution_count": null,
      "outputs": []
    }
  ]
}