{
  "nbformat": 4,
  "nbformat_minor": 0,
  "metadata": {
    "colab": {
      "provenance": []
    },
    "kernelspec": {
      "name": "python3",
      "display_name": "Python 3"
    },
    "language_info": {
      "name": "python"
    }
  },
  "cells": [
    {
      "cell_type": "code",
      "source": [
        "class Solution(object):\n",
        "  def removeKdigits(self, num, k):\n",
        "    stack = []\n",
        "\n",
        "    for digit in num:\n",
        "        while stack and k > 0 and stack[-1] > digit:\n",
        "            stack.pop()\n",
        "            k -= 1\n",
        "        stack.append(digit)\n",
        "\n",
        "    while k > 0:\n",
        "        stack.pop()\n",
        "        k -= 1\n",
        "\n",
        "    result = ''.join(stack).lstrip('0')\n",
        "\n",
        "    return result if result else '0'\n",
        "\n",
        "solution = Solution()\n",
        "print(solution.removeKdigits(\"1432219\", 3))\n"
      ],
      "metadata": {
        "colab": {
          "base_uri": "https://localhost:8080/"
        },
        "id": "lR83yAQbvePv",
        "outputId": "b9528c0d-b43d-4811-c90a-613286650ce9"
      },
      "execution_count": 3,
      "outputs": [
        {
          "output_type": "stream",
          "name": "stdout",
          "text": [
            "1219\n"
          ]
        }
      ]
    }
  ]
}