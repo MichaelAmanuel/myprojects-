{
  "nbformat": 4,
  "nbformat_minor": 0,
  "metadata": {
    "colab": {
      "provenance": []
    },
    "kernelspec": {
      "name": "python3",
      "display_name": "Python 3"
    },
    "language_info": {
      "name": "python"
    }
  },
  "cells": [
    {
      "cell_type": "code",
      "execution_count": 2,
      "metadata": {
        "colab": {
          "base_uri": "https://localhost:8080/"
        },
        "id": "z-4tH7Lo8JD9",
        "outputId": "bd19dfa3-97d2-40fe-e399-398cdf541add"
      },
      "outputs": [
        {
          "output_type": "stream",
          "name": "stdout",
          "text": [
            "III\n"
          ]
        }
      ],
      "source": [
        "class Solution(object):\n",
        "  def intToRoman(self, num):\n",
        "      values = [1000, 900, 500, 400, 100, 90, 50, 40, 10, 9, 5, 4, 1]\n",
        "      symbols = ['M', 'CM', 'D', 'CD', 'C', 'XC', 'L', 'XL', 'X', 'IX', 'V', 'IV', 'I']\n",
        "      result = ''\n",
        "\n",
        "      for i in range(len(values)):\n",
        "          while num >= values[i]:\n",
        "              num -= values[i]\n",
        "              result += symbols[i]\n",
        "\n",
        "      return result\n",
        "\n",
        "solution = Solution()\n",
        "num1 = 3\n",
        "print(solution.intToRoman(num1))"
      ]
    }
  ]
}