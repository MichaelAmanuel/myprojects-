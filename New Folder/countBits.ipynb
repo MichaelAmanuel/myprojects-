{
  "nbformat": 4,
  "nbformat_minor": 0,
  "metadata": {
    "colab": {
      "provenance": []
    },
    "kernelspec": {
      "name": "python3",
      "display_name": "Python 3"
    },
    "language_info": {
      "name": "python"
    }
  },
  "cells": [
    {
      "cell_type": "code",
      "source": [
        "class Solution(object):\n",
        "    def countBits(self, n):\n",
        "\n",
        "      return [int(bin(i)[2:].count('1')) for i in range(n+1)]\n",
        "\n",
        "solution = Solution()\n",
        "n = 5\n",
        "print(solution.countBits(n))"
      ],
      "metadata": {
        "colab": {
          "base_uri": "https://localhost:8080/"
        },
        "id": "dDPrlwK5eKIv",
        "outputId": "7af2b6ac-d375-4f67-c99a-3edfe27e9d1d"
      },
      "execution_count": 8,
      "outputs": [
        {
          "output_type": "stream",
          "name": "stdout",
          "text": [
            "[0, 1, 1, 2, 1, 2]\n"
          ]
        }
      ]
    },
    {
      "cell_type": "code",
      "source": [
        "class Solution(object):\n",
        "    def countBits(self, n):\n",
        "      out_put = []\n",
        "      for i in range(n+1):\n",
        "        # answer = (bin(i)[2:])\n",
        "        out_put.append(int((bin(i)[2:]).count('1')))\n",
        "\n",
        "      return out_put\n",
        "\n",
        "solution = Solution()\n",
        "n = 5\n",
        "print(solution.countBits(n))"
      ],
      "metadata": {
        "id": "qY0837-heq_F"
      },
      "execution_count": null,
      "outputs": []
    }
  ]
}