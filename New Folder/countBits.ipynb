{
  "nbformat": 4,
  "nbformat_minor": 0,
  "metadata": {
    "colab": {
      "provenance": []
    },
    "kernelspec": {
      "name": "python3",
      "display_name": "Python 3"
    },
    "language_info": {
      "name": "python"
    }
  },
  "cells": [
    {
      "cell_type": "code",
      "execution_count": 15,
      "metadata": {
        "colab": {
          "base_uri": "https://localhost:8080/"
        },
        "id": "gMjVgmKpZTG4",
        "outputId": "e908a3d7-994e-4663-d4df-63d6723b1163"
      },
      "outputs": [
        {
          "output_type": "stream",
          "name": "stdout",
          "text": [
            "[0, 1, 1, 2, 1, 2]\n"
          ]
        }
      ],
      "source": [
        "class Solution(object):\n",
        "    def countBits(self, n):\n",
        "\n",
        "      o = []\n",
        "      for i in range(n+1):\n",
        "        bi = bin(i)[2:]\n",
        "        o.append(bi.count('1'))\n",
        "\n",
        "      return o\n",
        "\n",
        "solution = Solution()\n",
        "n = 5\n",
        "print(solution.countBits(n))"
      ]
    },
    {
      "cell_type": "code",
      "source": [
        "# Convert an integer to binary\n",
        "my_integer = 10\n",
        "bi = bin(my_integer)[2:]\n",
        "\n",
        "print(type(bi))\n"
      ],
      "metadata": {
        "colab": {
          "base_uri": "https://localhost:8080/"
        },
        "id": "iiMXOJk2Z6r_",
        "outputId": "4a0d02a5-7ca6-45a2-8015-c3ba13d97430"
      },
      "execution_count": 11,
      "outputs": [
        {
          "output_type": "stream",
          "name": "stdout",
          "text": [
            "<class 'str'>\n"
          ]
        }
      ]
    },
    {
      "cell_type": "code",
      "source": [],
      "metadata": {
        "id": "gC5iyGh9bxOZ"
      },
      "execution_count": null,
      "outputs": []
    }
  ]
}