{
  "nbformat": 4,
  "nbformat_minor": 0,
  "metadata": {
    "colab": {
      "provenance": []
    },
    "kernelspec": {
      "name": "python3",
      "display_name": "Python 3"
    },
    "language_info": {
      "name": "python"
    }
  },
  "cells": [
    {
      "cell_type": "code",
      "execution_count": null,
      "metadata": {
        "id": "kQjWvHzXch44"
      },
      "outputs": [],
      "source": [
        "class Solution(object):\n",
        "    def maximumLength(self, s):\n",
        "        \"\"\"\n",
        "        :type s: str\n",
        "        :rtype: int\n",
        "        \"\"\"\n",
        "        def is_palindrome_range(left, right):\n",
        "            while left < right:\n",
        "                if s[left] != s[right]:\n",
        "                    return False\n",
        "                left += 1\n",
        "                right -= 1\n",
        "            return True\n",
        "\n",
        "        left, right = 0, len(s) - 1\n",
        "        while left < right:\n",
        "            if s[left] != s[right]:\n",
        "                # Remove one character and check both options\n",
        "                if is_palindrome_range(left + 1, right):\n",
        "                    return right - left\n",
        "                elif is_palindrome_range(left, right - 1):\n",
        "                    return right - left\n",
        "                else:\n",
        "                    return -1\n",
        "            left += 1\n",
        "            right -= 1\n",
        "\n",
        "        return len(s)\n"
      ]
    }
  ]
}