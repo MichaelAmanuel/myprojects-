{
  "nbformat": 4,
  "nbformat_minor": 0,
  "metadata": {
    "colab": {
      "provenance": []
    },
    "kernelspec": {
      "name": "python3",
      "display_name": "Python 3"
    },
    "language_info": {
      "name": "python"
    }
  },
  "cells": [
    {
      "cell_type": "code",
      "execution_count": 8,
      "metadata": {
        "colab": {
          "base_uri": "https://localhost:8080/"
        },
        "id": "uqi8o2bQRzhx",
        "outputId": "b43ee3bd-8bc3-4dbf-b4ac-cf33a519fdd4"
      },
      "outputs": [
        {
          "output_type": "stream",
          "name": "stdout",
          "text": [
            "-1\n"
          ]
        }
      ],
      "source": [
        "class Solution(object):\n",
        "    def findLucky(self, arr):\n",
        "      lis = []\n",
        "      for i in range(len(arr)):\n",
        "        count = 0\n",
        "        for j in range(len(arr)):\n",
        "          if arr[i] == arr[j]:\n",
        "            count += 1\n",
        "        if count == arr[i]:\n",
        "          lis.append(count)\n",
        "\n",
        "      return -1 if len(lis)==0 else max(lis)\n",
        "\n",
        "solution = Solution()\n",
        "arr = [2,2,2,3,3]\n",
        "print(solution.findLucky(arr))"
      ]
    },
    {
      "cell_type": "code",
      "source": [
        "class Solution(object):\n",
        "    def findLucky(self, arr):\n",
        "\n",
        "      lis = []\n",
        "      for i in arr:\n",
        "        if arr.count(i) == i:\n",
        "          lis.append(i)\n",
        "\n",
        "      return max(lis) if len(lis)!=0 else -1\n",
        "\n",
        "solution = Solution()\n",
        "arr = [2,2,2,3,3]\n",
        "print(solution.findLucky(arr))"
      ],
      "metadata": {
        "colab": {
          "base_uri": "https://localhost:8080/"
        },
        "id": "O0obr0beTh6C",
        "outputId": "565d4b37-9894-464b-bdce-b30957159d5c"
      },
      "execution_count": 10,
      "outputs": [
        {
          "output_type": "stream",
          "name": "stdout",
          "text": [
            "-1\n"
          ]
        }
      ]
    }
  ]
}