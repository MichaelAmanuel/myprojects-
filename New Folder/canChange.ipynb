{
  "nbformat": 4,
  "nbformat_minor": 0,
  "metadata": {
    "colab": {
      "provenance": []
    },
    "kernelspec": {
      "name": "python3",
      "display_name": "Python 3"
    },
    "language_info": {
      "name": "python"
    }
  },
  "cells": [
    {
      "cell_type": "code",
      "execution_count": 1,
      "metadata": {
        "id": "kQjWvHzXch44"
      },
      "outputs": [],
      "source": [
        "class Solution:\n",
        "    def canChange(self, start, target):\n",
        "        s_positions = [(c, i) for i, c in enumerate(start) if c != '_']\n",
        "        t_positions = [(c, i) for i, c in enumerate(target) if c != '_']\n",
        "\n",
        "        if len(s_positions) != len(t_positions):\n",
        "            return False\n",
        "\n",
        "        for (sc, si), (tc, ti) in zip(s_positions, t_positions):\n",
        "            if sc != tc:\n",
        "                return False\n",
        "            if sc == 'L' and si < ti:\n",
        "                return False\n",
        "            if sc == 'R' and si > ti:\n",
        "                return False\n",
        "\n",
        "        return True\n"
      ]
    }
  ]
}