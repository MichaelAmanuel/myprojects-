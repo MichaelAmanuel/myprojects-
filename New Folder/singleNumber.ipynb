{
  "nbformat": 4,
  "nbformat_minor": 0,
  "metadata": {
    "colab": {
      "provenance": []
    },
    "kernelspec": {
      "name": "python3",
      "display_name": "Python 3"
    },
    "language_info": {
      "name": "python"
    }
  },
  "cells": [
    {
      "cell_type": "code",
      "execution_count": 35,
      "metadata": {
        "colab": {
          "base_uri": "https://localhost:8080/"
        },
        "id": "FN40WPFIMIAB",
        "outputId": "864cf957-7d7f-441a-9b6c-499ae3ee620c"
      },
      "outputs": [
        {
          "output_type": "stream",
          "name": "stdout",
          "text": [
            "4\n"
          ]
        }
      ],
      "source": [
        "class Solution(object):\n",
        "    def singleNumber(self, nums):\n",
        "        for i in nums:\n",
        "            count = 0\n",
        "            for j in range(len(nums)):\n",
        "                if i == nums[j]:\n",
        "                    count += 1\n",
        "                    if count > 1:\n",
        "                        break\n",
        "            if count == 1:\n",
        "                return i\n",
        "\n",
        "solution_instance = Solution()\n",
        "nums = [4, 1, 2, 1, 2]\n",
        "print(solution_instance.singleNumber(nums))"
      ]
    },
    {
      "cell_type": "code",
      "source": [
        "class Solution(object):\n",
        "    def singleNumber(self, nums):\n",
        "        result = 0\n",
        "        for num in nums:\n",
        "            result ^= num\n",
        "        return result\n",
        "\n",
        "solution_instance = Solution()\n",
        "nums = [4, 1, 2, 1, 2]\n",
        "print(solution_instance.singleNumber(nums))"
      ],
      "metadata": {
        "colab": {
          "base_uri": "https://localhost:8080/"
        },
        "id": "cXs-9DaR3ClV",
        "outputId": "543d6a64-a145-4af1-d7b0-0a7f15638ac7"
      },
      "execution_count": 36,
      "outputs": [
        {
          "output_type": "stream",
          "name": "stdout",
          "text": [
            "4\n"
          ]
        }
      ]
    },
    {
      "cell_type": "code",
      "source": [],
      "metadata": {
        "colab": {
          "base_uri": "https://localhost:8080/"
        },
        "id": "tkuASSEV3acQ",
        "outputId": "211d9e23-a961-4691-a7c5-fcd739eb1255"
      },
      "execution_count": 21,
      "outputs": [
        {
          "output_type": "execute_result",
          "data": {
            "text/plain": [
              "['l', 'e', 'e', '*', 'c', 'o', '*', 'e']"
            ]
          },
          "metadata": {},
          "execution_count": 21
        }
      ]
    }
  ]
}