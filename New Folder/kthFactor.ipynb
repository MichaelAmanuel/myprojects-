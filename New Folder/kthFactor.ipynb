{
  "nbformat": 4,
  "nbformat_minor": 0,
  "metadata": {
    "colab": {
      "provenance": []
    },
    "kernelspec": {
      "name": "python3",
      "display_name": "Python 3"
    },
    "language_info": {
      "name": "python"
    }
  },
  "cells": [
    {
      "cell_type": "code",
      "execution_count": 12,
      "metadata": {
        "colab": {
          "base_uri": "https://localhost:8080/"
        },
        "id": "isF2dHFlkYXf",
        "outputId": "ffde24fc-bd36-49cf-f75e-64f16259c4e2"
      },
      "outputs": [
        {
          "output_type": "stream",
          "name": "stdout",
          "text": [
            "46\n"
          ]
        }
      ],
      "source": [
        "\n",
        "class Solution(object):\n",
        "    def kthFactor(self, n, k):\n",
        "\n",
        "      count = []\n",
        "      cou = 0\n",
        "\n",
        "      for i in range(1, n+1):\n",
        "        if n % i == 0:\n",
        "          count.append(i)\n",
        "          cou += 1\n",
        "          if k == cou:\n",
        "            return count[k-1]\n",
        "          # elif k < i:\n",
        "          #   return -1\n",
        "      return -1\n",
        "\n",
        "solution = Solution()\n",
        "n = 46\n",
        "k = 4\n",
        "print(solution.kthFactor(n, k))"
      ]
    },
    {
      "cell_type": "code",
      "source": [],
      "metadata": {
        "id": "oH7eOuwNm8pK"
      },
      "execution_count": null,
      "outputs": []
    }
  ]
}