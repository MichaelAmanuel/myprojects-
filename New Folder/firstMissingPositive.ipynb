{
  "nbformat": 4,
  "nbformat_minor": 0,
  "metadata": {
    "colab": {
      "provenance": []
    },
    "kernelspec": {
      "name": "python3",
      "display_name": "Python 3"
    },
    "language_info": {
      "name": "python"
    }
  },
  "cells": [
    {
      "cell_type": "code",
      "execution_count": 16,
      "metadata": {
        "colab": {
          "base_uri": "https://localhost:8080/"
        },
        "id": "IYxMgfXk0NTS",
        "outputId": "ea119309-2eb7-40d0-d65f-a84deb41f503"
      },
      "outputs": [
        {
          "output_type": "stream",
          "name": "stdout",
          "text": [
            "1\n"
          ]
        }
      ],
      "source": [
        "class Solution(object):\n",
        "    def firstMissingPositive(self, nums):\n",
        "\n",
        "      num = set(nums)\n",
        "      x = 1\n",
        "      while len(num) > 0:\n",
        "        if x not in num:\n",
        "          return x\n",
        "\n",
        "        x += 1\n",
        "\n",
        "solution = Solution()\n",
        "nums = [2147483647]\n",
        "print(solution.firstMissingPositive(nums))"
      ]
    },
    {
      "cell_type": "code",
      "source": [
        "class Solution(object):\n",
        "    def firstMissingPositive(self, nums):\n",
        "\n",
        "      num = set(nums)\n",
        "      for i in range(1, max(nums)+ 2):\n",
        "        if i not in num:\n",
        "          return i\n",
        "\n",
        "solution = Solution()\n",
        "nums = [2147483647]\n",
        "print(solution.firstMissingPositive(nums))"
      ],
      "metadata": {
        "colab": {
          "base_uri": "https://localhost:8080/"
        },
        "id": "fZDyVLm52xks",
        "outputId": "fc0b0a1a-25d1-4dd9-cc5c-95b0bd1bf944"
      },
      "execution_count": 15,
      "outputs": [
        {
          "output_type": "stream",
          "name": "stdout",
          "text": [
            "1\n"
          ]
        }
      ]
    },
    {
      "cell_type": "code",
      "source": [
        "class Solution(object):\n",
        "    def firstMissingPositive(self, nums):\n",
        "\n",
        "      x = 1\n",
        "      while len(nums) > 0:\n",
        "        if x not in nums:\n",
        "          return x\n",
        "          break\n",
        "        else:\n",
        "          x += 1\n",
        "solution = Solution()\n",
        "nums = [1,2,0]\n",
        "print(solution.firstMissingPositive(nums))"
      ],
      "metadata": {
        "colab": {
          "base_uri": "https://localhost:8080/"
        },
        "id": "f4c7ZHdm0OR4",
        "outputId": "d3111884-c926-482e-e9a0-995c7fcf9b88"
      },
      "execution_count": 5,
      "outputs": [
        {
          "output_type": "stream",
          "name": "stdout",
          "text": [
            "3\n"
          ]
        }
      ]
    },
    {
      "cell_type": "code",
      "source": [
        "class Solution(object):\n",
        "    def firstMissingPositive(self, nums):\n",
        "\n",
        "      x = 1\n",
        "      while len(nums) > 0:\n",
        "        if x not in nums:\n",
        "          return x\n",
        "          break\n",
        "        else:\n",
        "          x += 1\n",
        "solution = Solution()\n",
        "nums = [7,8,9,11,12]\n",
        "print(solution.firstMissingPositive(nums))"
      ],
      "metadata": {
        "colab": {
          "base_uri": "https://localhost:8080/"
        },
        "id": "p1Cm8d-N1ClN",
        "outputId": "0d835558-5fef-47b5-b3c7-bb85381464c5"
      },
      "execution_count": 4,
      "outputs": [
        {
          "output_type": "stream",
          "name": "stdout",
          "text": [
            "1\n"
          ]
        }
      ]
    }
  ]
}