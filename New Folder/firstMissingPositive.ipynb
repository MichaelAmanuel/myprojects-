{
  "nbformat": 4,
  "nbformat_minor": 0,
  "metadata": {
    "colab": {
      "provenance": []
    },
    "kernelspec": {
      "name": "python3",
      "display_name": "Python 3"
    },
    "language_info": {
      "name": "python"
    }
  },
  "cells": [
    {
      "cell_type": "code",
      "source": [
        "class Solution(object):\n",
        "    def firstMissingPositive(self, nums):\n",
        "\n",
        "      if len(nums) == 1 and nums[0]!=1:\n",
        "        return 1\n",
        "\n",
        "      elif max(nums) < len(nums):\n",
        "        for i in range(1, len(nums)+1):\n",
        "          if i not in sorted(nums):\n",
        "            return i\n",
        "\n",
        "      else:\n",
        "        for i in range(1, max(nums)+2):\n",
        "          if i not in sorted(nums):\n",
        "            return i\n",
        "\n",
        "solution = Solution()\n",
        "nums = [1,2,0]\n",
        "print(solution.firstMissingPositive(nums))\n"
      ],
      "metadata": {
        "colab": {
          "base_uri": "https://localhost:8080/"
        },
        "id": "8lZHz_cpptIN",
        "outputId": "f446aa42-e3ed-4e4b-ea5e-b01761e66bb9"
      },
      "execution_count": 30,
      "outputs": [
        {
          "output_type": "stream",
          "name": "stdout",
          "text": [
            "3\n"
          ]
        }
      ]
    },
    {
      "cell_type": "code",
      "source": [
        "class Solution(object):\n",
        "    def firstMissingPositive(self, nums):\n",
        "        nums_set = set(nums)\n",
        "\n",
        "        for i in range(1, max(nums) + 2):\n",
        "            if i not in nums_set:\n",
        "                return i\n",
        "\n",
        "solution = Solution()\n",
        "nums = [2147483647]\n",
        "print(solution.firstMissingPositive(nums))\n"
      ],
      "metadata": {
        "colab": {
          "base_uri": "https://localhost:8080/"
        },
        "id": "vhG3fCB_rqQH",
        "outputId": "e29b4e3d-28e6-4ee4-bfda-6d20a5f5dc3c"
      },
      "execution_count": 32,
      "outputs": [
        {
          "output_type": "stream",
          "name": "stdout",
          "text": [
            "1\n"
          ]
        }
      ]
    }
  ]
}