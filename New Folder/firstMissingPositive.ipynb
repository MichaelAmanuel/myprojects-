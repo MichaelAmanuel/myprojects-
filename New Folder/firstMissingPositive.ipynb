{
  "nbformat": 4,
  "nbformat_minor": 0,
  "metadata": {
    "colab": {
      "provenance": []
    },
    "kernelspec": {
      "name": "python3",
      "display_name": "Python 3"
    },
    "language_info": {
      "name": "python"
    }
  },
  "cells": [
    {
      "cell_type": "code",
      "execution_count": 6,
      "metadata": {
        "colab": {
          "base_uri": "https://localhost:8080/"
        },
        "id": "a1rX7YP_DiQK",
        "outputId": "38c61757-62d5-450f-be2c-8cb1d3e1a456"
      },
      "outputs": [
        {
          "output_type": "stream",
          "name": "stdout",
          "text": [
            "1\n"
          ]
        }
      ],
      "source": [
        "class Solution(object):\n",
        "    def firstMissingPositive(self, nums):\n",
        "\n",
        "      num = sorted(nums)\n",
        "\n",
        "      for i in range(1, len(num)+1):\n",
        "        if i not in num:\n",
        "          return i\n",
        "\n",
        "solution = Solution()\n",
        "nums = [7,8,9,11,12]\n",
        "print(solution.firstMissingPositive(nums))"
      ]
    },
    {
      "cell_type": "code",
      "source": [
        "class Solution(object):\n",
        "    def firstMissingPositive(self, nums):\n",
        "\n",
        "      num = sorted(nums)\n",
        "\n",
        "      for i in range(1, len(num)+2):\n",
        "        if i not in num:\n",
        "          return i\n",
        "\n",
        "solution = Solution()\n",
        "nums = [1]\n",
        "print(solution.firstMissingPositive(nums))"
      ],
      "metadata": {
        "colab": {
          "base_uri": "https://localhost:8080/"
        },
        "id": "blON1q3SDqhn",
        "outputId": "bf3da689-df3c-4512-ee10-c76717235dd7"
      },
      "execution_count": 8,
      "outputs": [
        {
          "output_type": "stream",
          "name": "stdout",
          "text": [
            "2\n"
          ]
        }
      ]
    },
    {
      "cell_type": "code",
      "source": [
        "class Solution(object):\n",
        "    def firstMissingPositive(self, nums):\n",
        "\n",
        "        num = sorted(nums)\n",
        "        for i in range(1, len(nums) + 1):\n",
        "            if i not in num:\n",
        "                return i\n",
        "        return len(nums) + 1\n",
        "\n",
        "solution = Solution()\n",
        "nums = [1]\n",
        "print(solution.firstMissingPositive(nums))\n"
      ],
      "metadata": {
        "colab": {
          "base_uri": "https://localhost:8080/"
        },
        "id": "6nRcuOdmEZxQ",
        "outputId": "388e0e2c-4a9e-420e-fab9-ef41f02d09b7"
      },
      "execution_count": 11,
      "outputs": [
        {
          "output_type": "stream",
          "name": "stdout",
          "text": [
            "2\n"
          ]
        }
      ]
    },
    {
      "cell_type": "code",
      "source": [
        "class Solution(object):\n",
        "    def firstMissingPositive(self, nums):\n",
        "\n",
        "        n = len(nums)\n",
        "\n",
        "        for i in range(n):\n",
        "            if 0 < nums[i] <= n:\n",
        "                index = nums[i] - 1\n",
        "                nums[index] = -abs(nums[index])\n",
        "\n",
        "        for i in range(n):\n",
        "            if nums[i] >= 0:\n",
        "                return i + 1\n",
        "\n",
        "        return n + 1\n",
        "\n",
        "solution = Solution()\n",
        "nums = [3,4,-1,1]\n",
        "print(solution.firstMissingPositive(nums))"
      ],
      "metadata": {
        "colab": {
          "base_uri": "https://localhost:8080/"
        },
        "id": "KKD5e-YXFdl_",
        "outputId": "5d3cf3b8-2518-43fc-daee-67a37ec7987d"
      },
      "execution_count": 13,
      "outputs": [
        {
          "output_type": "stream",
          "name": "stdout",
          "text": [
            "1\n"
          ]
        }
      ]
    },
    {
      "cell_type": "code",
      "source": [],
      "metadata": {
        "id": "wvh9rH0HGDzg"
      },
      "execution_count": null,
      "outputs": []
    }
  ]
}