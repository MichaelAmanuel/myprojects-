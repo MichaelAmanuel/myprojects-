{
  "nbformat": 4,
  "nbformat_minor": 0,
  "metadata": {
    "colab": {
      "provenance": []
    },
    "kernelspec": {
      "name": "python3",
      "display_name": "Python 3"
    },
    "language_info": {
      "name": "python"
    }
  },
  "cells": [
    {
      "cell_type": "code",
      "execution_count": 2,
      "metadata": {
        "colab": {
          "base_uri": "https://localhost:8080/"
        },
        "id": "OcPNw5EhfLbb",
        "outputId": "5383e41c-207a-4957-cc1d-1a56ebec66e1"
      },
      "outputs": [
        {
          "output_type": "stream",
          "name": "stdout",
          "text": [
            "24\n"
          ]
        }
      ],
      "source": [
        "class Solution(object):\n",
        "    def getMaximumGold(self, grid):\n",
        "        def dfs(r, c):\n",
        "            if r < 0 or r >= m or c < 0 or c >= n or grid[r][c] == 0 or visited[r][c]:\n",
        "                return 0\n",
        "\n",
        "            visited[r][c] = True\n",
        "            gold_collected = grid[r][c]\n",
        "\n",
        "            gold_collected += max(\n",
        "                dfs(r+1, c),\n",
        "                dfs(r-1, c),\n",
        "                dfs(r, c+1),\n",
        "                dfs(r, c-1)\n",
        "            )\n",
        "\n",
        "            visited[r][c] = False\n",
        "\n",
        "            return gold_collected\n",
        "\n",
        "        m, n = len(grid), len(grid[0])\n",
        "        max_gold = 0\n",
        "\n",
        "        for i in range(m):\n",
        "            for j in range(n):\n",
        "                if grid[i][j] != 0:\n",
        "                    visited = [[False] * n for _ in range(m)]\n",
        "                    max_gold = max(max_gold, dfs(i, j))\n",
        "\n",
        "        return max_gold\n",
        "\n",
        "solution = Solution()\n",
        "grid = [[0,6,0],[5,8,7],[0,9,0]]\n",
        "solution = Solution()\n",
        "print(solution.getMaximumGold(grid))"
      ]
    }
  ]
}