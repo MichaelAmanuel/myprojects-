{
  "nbformat": 4,
  "nbformat_minor": 0,
  "metadata": {
    "colab": {
      "provenance": []
    },
    "kernelspec": {
      "name": "python3",
      "display_name": "Python 3"
    },
    "language_info": {
      "name": "python"
    }
  },
  "cells": [
    {
      "cell_type": "code",
      "execution_count": 1,
      "metadata": {
        "colab": {
          "base_uri": "https://localhost:8080/"
        },
        "id": "k-QIhnaXxKK7",
        "outputId": "0c5011e9-38a9-4898-b1e6-7e9444184b0f"
      },
      "outputs": [
        {
          "output_type": "stream",
          "name": "stdout",
          "text": [
            "False\n"
          ]
        }
      ],
      "source": [
        "\n",
        "class Solution(object):\n",
        "    def repeatedSubstringPattern(self, s):\n",
        "      s_2 = ''\n",
        "      for i in s:\n",
        "        if i not in s_2:\n",
        "          s_2 += i\n",
        "\n",
        "      s_2_len = 3\n",
        "\n",
        "      s_out = [s[i:i+len(s_2)] for i in range(0, len(s), len(s_2))]\n",
        "\n",
        "      for i in s_out:\n",
        "        if i != s_2:\n",
        "          return False\n",
        "      return True\n",
        "\n",
        "solution = Solution()\n",
        "s = \"aba\"\n",
        "print(solution.repeatedSubstringPattern(s))"
      ]
    }
  ]
}