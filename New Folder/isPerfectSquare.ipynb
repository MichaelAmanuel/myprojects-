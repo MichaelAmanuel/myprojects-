{
  "nbformat": 4,
  "nbformat_minor": 0,
  "metadata": {
    "colab": {
      "provenance": []
    },
    "kernelspec": {
      "name": "python3",
      "display_name": "Python 3"
    },
    "language_info": {
      "name": "python"
    }
  },
  "cells": [
    {
      "cell_type": "code",
      "execution_count": 11,
      "metadata": {
        "colab": {
          "base_uri": "https://localhost:8080/"
        },
        "id": "0y8WVT1bEn1r",
        "outputId": "308dcc4e-b50d-4737-8959-5e4503156d4f"
      },
      "outputs": [
        {
          "output_type": "stream",
          "name": "stdout",
          "text": [
            "False\n"
          ]
        }
      ],
      "source": [
        "class Solution(object):\n",
        "    def isPerfectSquare(self, num):\n",
        "      if num == 1:\n",
        "        return True\n",
        "      for i in range(1,int(num/2)+1):\n",
        "        if i * i == num:\n",
        "          return True\n",
        "        elif i * i > num:\n",
        "          return False\n",
        "\n",
        "solution = Solution()\n",
        "num = 2000105819\n",
        "print(solution.isPerfectSquare(num))"
      ]
    },
    {
      "cell_type": "code",
      "source": [
        "class Solution(object):\n",
        "    def isPerfectSquare(self, num):\n",
        "\n",
        "      root = int(num ** 0.5)\n",
        "      if root * root == num:\n",
        "        return True\n",
        "      else:\n",
        "        return False\n",
        "\n",
        "solution = Solution()\n",
        "num = 25\n",
        "print(solution.isPerfectSquare(num))"
      ],
      "metadata": {
        "colab": {
          "base_uri": "https://localhost:8080/"
        },
        "id": "3v8s9C2NNnSu",
        "outputId": "d956ef45-887b-45e6-8884-f203437f78b5"
      },
      "execution_count": 23,
      "outputs": [
        {
          "output_type": "stream",
          "name": "stdout",
          "text": [
            "True\n"
          ]
        }
      ]
    },
    {
      "cell_type": "code",
      "source": [
        "number = 25\n",
        "square_root = number ** 0.5\n",
        "\n",
        "print(f\"The square root of {number} is approximately {square_root}.\")\n"
      ],
      "metadata": {
        "colab": {
          "base_uri": "https://localhost:8080/"
        },
        "id": "IwoYEJHdPG1h",
        "outputId": "9f3b4471-3950-4c6d-ebcf-6196659297a8"
      },
      "execution_count": 18,
      "outputs": [
        {
          "output_type": "stream",
          "name": "stdout",
          "text": [
            "The square root of 25 is approximately 5.0.\n"
          ]
        }
      ]
    }
  ]
}