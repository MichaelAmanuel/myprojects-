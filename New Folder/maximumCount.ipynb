{
  "nbformat": 4,
  "nbformat_minor": 0,
  "metadata": {
    "colab": {
      "provenance": []
    },
    "kernelspec": {
      "name": "python3",
      "display_name": "Python 3"
    },
    "language_info": {
      "name": "python"
    }
  },
  "cells": [
    {
      "cell_type": "code",
      "execution_count": 5,
      "metadata": {
        "colab": {
          "base_uri": "https://localhost:8080/"
        },
        "id": "jIrjoom8GpcI",
        "outputId": "e857bdfd-6f1e-425a-a5b0-4edad8945069"
      },
      "outputs": [
        {
          "output_type": "stream",
          "name": "stdout",
          "text": [
            "4\n"
          ]
        }
      ],
      "source": [
        "class Solution(object):\n",
        "    def maximumCount(self, nums):\n",
        "      cou_ne = 0\n",
        "      cou_po = 0\n",
        "\n",
        "      for i in nums:\n",
        "        if i > 0:\n",
        "          cou_po += 1\n",
        "        elif i < 0:\n",
        "          cou_ne += 1\n",
        "\n",
        "      return max(cou_po, cou_ne)\n",
        "\n",
        "solution = Solution()\n",
        "nums = [5,20,66,1314]\n",
        "print(solution.maximumCount(nums))"
      ]
    },
    {
      "cell_type": "code",
      "source": [
        "class Solution(object):\n",
        "    def maximumCount(self, nums):\n",
        "\n",
        "      cou_ne = sum(1 for number in nums if number < 0)\n",
        "      cou_po = sum(1 for number in nums if number > 0)\n",
        "\n",
        "\n",
        "      return max(cou_po, cou_ne)\n",
        "\n",
        "solution = Solution()\n",
        "nums = [5,20,66,1314]\n",
        "print(solution.maximumCount(nums))"
      ],
      "metadata": {
        "colab": {
          "base_uri": "https://localhost:8080/"
        },
        "id": "HrrhpUr0KOK4",
        "outputId": "8d06ccac-25a2-4cee-9b1d-c0f8c13d40ea"
      },
      "execution_count": 6,
      "outputs": [
        {
          "output_type": "stream",
          "name": "stdout",
          "text": [
            "4\n"
          ]
        }
      ]
    }
  ]
}