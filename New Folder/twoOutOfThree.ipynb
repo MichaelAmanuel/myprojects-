{
  "nbformat": 4,
  "nbformat_minor": 0,
  "metadata": {
    "colab": {
      "provenance": []
    },
    "kernelspec": {
      "name": "python3",
      "display_name": "Python 3"
    },
    "language_info": {
      "name": "python"
    }
  },
  "cells": [
    {
      "cell_type": "code",
      "execution_count": null,
      "metadata": {
        "colab": {
          "base_uri": "https://localhost:8080/"
        },
        "id": "i36jeyEakTKK",
        "outputId": "a44c66e5-1a5f-460c-e230-c505ffcaae62"
      },
      "outputs": [
        {
          "output_type": "stream",
          "name": "stdout",
          "text": [
            "[]\n"
          ]
        }
      ],
      "source": [
        "class Solution(object):\n",
        "    def twoOutOfThree(self, nums1, nums2, nums3):\n",
        "\n",
        "      result = []\n",
        "\n",
        "      for i in nums3:\n",
        "        if (i in nums2 or i in nums1) and i not in result:\n",
        "          result.append(i)\n",
        "\n",
        "      for j in nums2:\n",
        "        if j in nums1 and j not in result:\n",
        "          result.append(j)\n",
        "\n",
        "      return result\n",
        "\n",
        "solution = Solution()\n",
        "nums1 = [1,2,2]\n",
        "nums2 = [4,3,3]\n",
        "nums3 = [5]\n",
        "print(solution.twoOutOfThree(nums1, nums2, nums3))"
      ]
    },
    {
      "cell_type": "code",
      "source": [],
      "metadata": {
        "id": "9Ojlmc5mlbj7"
      },
      "execution_count": null,
      "outputs": []
    }
  ]
}