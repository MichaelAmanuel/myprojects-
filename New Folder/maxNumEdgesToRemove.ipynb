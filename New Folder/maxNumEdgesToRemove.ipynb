{
  "nbformat": 4,
  "nbformat_minor": 0,
  "metadata": {
    "colab": {
      "provenance": []
    },
    "kernelspec": {
      "name": "python3",
      "display_name": "Python 3"
    },
    "language_info": {
      "name": "python"
    }
  },
  "cells": [
    {
      "cell_type": "code",
      "execution_count": 2,
      "metadata": {
        "colab": {
          "base_uri": "https://localhost:8080/"
        },
        "id": "Oy_UAcuqghQs",
        "outputId": "de5fb6ed-412e-4840-a804-aca6ed99d25a"
      },
      "outputs": [
        {
          "output_type": "stream",
          "name": "stdout",
          "text": [
            "2\n"
          ]
        }
      ],
      "source": [
        "class UnionFind:\n",
        "    def __init__(self, size):\n",
        "        self.parent = list(range(size))\n",
        "        self.rank = [1] * size\n",
        "\n",
        "    def find(self, u):\n",
        "        if u != self.parent[u]:\n",
        "            self.parent[u] = self.find(self.parent[u])\n",
        "        return self.parent[u]\n",
        "\n",
        "    def union(self, u, v):\n",
        "        root_u = self.find(u)\n",
        "        root_v = self.find(v)\n",
        "\n",
        "        if root_u == root_v:\n",
        "            return False\n",
        "        if self.rank[root_u] > self.rank[root_v]:\n",
        "            self.parent[root_v] = root_u\n",
        "        elif self.rank[root_u] < self.rank[root_v]:\n",
        "            self.parent[root_u] = root_v\n",
        "        else:\n",
        "            self.parent[root_v] = root_u\n",
        "            self.rank[root_u] += 1\n",
        "        return True\n",
        "\n",
        "class Solution:\n",
        "    def maxNumEdgesToRemove(self, n, edges):\n",
        "        ufA = UnionFind(n + 1)\n",
        "        ufB = UnionFind(n + 1)\n",
        "\n",
        "        edges.sort(reverse=True, key=lambda x: x[0])\n",
        "\n",
        "        total_edges = 0\n",
        "        for t, u, v in edges:\n",
        "            if t == 3:\n",
        "                if ufA.union(u, v) | ufB.union(u, v):\n",
        "                    total_edges += 1\n",
        "            elif t == 1:\n",
        "                if ufA.union(u, v):\n",
        "                    total_edges += 1\n",
        "            elif t == 2:\n",
        "                if ufB.union(u, v):\n",
        "                    total_edges += 1\n",
        "\n",
        "        rootA = ufA.find(1)\n",
        "        for i in range(2, n + 1):\n",
        "            if ufA.find(i) != rootA:\n",
        "                return -1\n",
        "\n",
        "        rootB = ufB.find(1)\n",
        "        for i in range(2, n + 1):\n",
        "            if ufB.find(i) != rootB:\n",
        "                return -1\n",
        "\n",
        "        return len(edges) - total_edges\n",
        "\n",
        "# Example usage:\n",
        "solution = Solution()\n",
        "n = 4\n",
        "edges = [[3,1,2],[3,2,3],[1,1,3],[1,2,4],[1,1,2],[2,3,4]]\n",
        "print(solution.maxNumEdgesToRemove(n, edges))\n"
      ]
    }
  ]
}