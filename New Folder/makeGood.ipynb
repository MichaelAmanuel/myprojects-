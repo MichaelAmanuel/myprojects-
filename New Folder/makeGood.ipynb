{
  "nbformat": 4,
  "nbformat_minor": 0,
  "metadata": {
    "colab": {
      "provenance": []
    },
    "kernelspec": {
      "name": "python3",
      "display_name": "Python 3"
    },
    "language_info": {
      "name": "python"
    }
  },
  "cells": [
    {
      "cell_type": "code",
      "execution_count": 2,
      "metadata": {
        "colab": {
          "base_uri": "https://localhost:8080/"
        },
        "id": "s6Dm_aqChQyc",
        "outputId": "ca04f88a-96fe-492b-baee-8a7076f1eda6"
      },
      "outputs": [
        {
          "output_type": "stream",
          "name": "stdout",
          "text": [
            "leetcode\n"
          ]
        }
      ],
      "source": [
        "class Solution(object):\n",
        "  def makeGood(self, s):\n",
        "      stack = []\n",
        "      for char in s:\n",
        "          if stack and abs(ord(stack[-1]) - ord(char)) == 32:\n",
        "              stack.pop()\n",
        "          else:\n",
        "              stack.append(char)\n",
        "      return ''.join(stack)\n",
        "\n",
        "solution = Solution()\n",
        "s = \"leEeetcode\"\n",
        "print(solution.makeGood(s))\n"
      ]
    },
    {
      "cell_type": "code",
      "source": [],
      "metadata": {
        "id": "I95gsSLhGBLE"
      },
      "execution_count": null,
      "outputs": []
    }
  ]
}