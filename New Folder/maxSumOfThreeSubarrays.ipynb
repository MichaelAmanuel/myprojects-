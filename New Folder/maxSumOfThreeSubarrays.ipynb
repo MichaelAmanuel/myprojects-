{
  "nbformat": 4,
  "nbformat_minor": 0,
  "metadata": {
    "colab": {
      "provenance": []
    },
    "kernelspec": {
      "name": "python3",
      "display_name": "Python 3"
    },
    "language_info": {
      "name": "python"
    }
  },
  "cells": [
    {
      "cell_type": "code",
      "execution_count": null,
      "metadata": {
        "id": "kQjWvHzXch44",
        "colab": {
          "base_uri": "https://localhost:8080/"
        },
        "outputId": "50e14a69-7a1a-437e-be44-e1ade4c7db4d"
      },
      "outputs": [
        {
          "output_type": "stream",
          "name": "stdout",
          "text": [
            "zzcacc\n",
            "bbab\n"
          ]
        }
      ],
      "source": [
        "class Solution(object):\n",
        "    def maxSumOfThreeSubarrays(self, nums, k):\n",
        "        \"\"\"\n",
        "        :type nums: List[int]\n",
        "        :type k: int\n",
        "        :rtype: List[int]\n",
        "        \"\"\"\n",
        "        n = len(nums)\n",
        "        window_sum = [0] * (n - k + 1)\n",
        "\n",
        "        # Compute the sum of every subarray of length k\n",
        "        current_sum = sum(nums[:k])\n",
        "        window_sum[0] = current_sum\n",
        "        for i in range(1, n - k + 1):\n",
        "            current_sum += nums[i + k - 1] - nums[i - 1]\n",
        "            window_sum[i] = current_sum\n",
        "\n",
        "        # Compute left and right arrays\n",
        "        left = [0] * len(window_sum)\n",
        "        max_index = 0\n",
        "        for i in range(len(window_sum)):\n",
        "            if window_sum[i] > window_sum[max_index]:\n",
        "                max_index = i\n",
        "            left[i] = max_index\n",
        "\n",
        "        right = [0] * len(window_sum)\n",
        "        max_index = len(window_sum) - 1\n",
        "        for i in range(len(window_sum) - 1, -1, -1):\n",
        "            if window_sum[i] >= window_sum[max_index]:\n",
        "                max_index = i\n",
        "            right[i] = max_index\n",
        "\n",
        "        # Find the best combination of three subarrays\n",
        "        max_sum = 0\n",
        "        result = []\n",
        "        for mid in range(k, len(window_sum) - k):\n",
        "            l = left[mid - k]\n",
        "            r = right[mid + k]\n",
        "            total = window_sum[l] + window_sum[mid] + window_sum[r]\n",
        "            if total > max_sum:\n",
        "                max_sum = total\n",
        "                result = [l, mid, r]\n",
        "\n",
        "        return result\n"
      ]
    }
  ]
}