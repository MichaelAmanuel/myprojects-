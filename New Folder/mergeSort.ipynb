{
  "nbformat": 4,
  "nbformat_minor": 0,
  "metadata": {
    "colab": {
      "provenance": []
    },
    "kernelspec": {
      "name": "python3",
      "display_name": "Python 3"
    },
    "language_info": {
      "name": "python"
    }
  },
  "cells": [
    {
      "cell_type": "code",
      "execution_count": 1,
      "metadata": {
        "id": "kQjWvHzXch44",
        "colab": {
          "base_uri": "https://localhost:8080/"
        },
        "outputId": "6fa511cc-d4bd-49ba-989d-36bfbfe46956"
      },
      "outputs": [
        {
          "output_type": "stream",
          "name": "stdout",
          "text": [
            "5.0\n",
            "3.25\n"
          ]
        }
      ],
      "source": [
        "class Solution(object):\n",
        "    def mergeSort(self, nums):\n",
        "        if len(nums) > 1:\n",
        "            mid = len(nums) // 2\n",
        "            left_half = nums[:mid]\n",
        "            right_half = nums[mid:]\n",
        "\n",
        "            self.mergeSort(left_half)\n",
        "            self.mergeSort(right_half)\n",
        "\n",
        "            i = j = k = 0\n",
        "\n",
        "            while i < len(left_half) and j < len(right_half):\n",
        "                if left_half[i] < right_half[j]:\n",
        "                    nums[k] = left_half[i]\n",
        "                    i += 1\n",
        "                else:\n",
        "                    nums[k] = right_half[j]\n",
        "                    j += 1\n",
        "                k += 1\n",
        "\n",
        "            while i < len(left_half):\n",
        "                nums[k] = left_half[i]\n",
        "                i += 1\n",
        "                k += 1\n",
        "\n",
        "            while j < len(right_half):\n",
        "                nums[k] = right_half[j]\n",
        "                j += 1\n",
        "                k += 1\n",
        "\n",
        "    def sortArray(self, nums):\n",
        "\n",
        "        self.mergeSort(nums)\n",
        "        return nums\n",
        "\n",
        "solution = Solution()\n",
        "nums = [5, 2, 3, 1]\n",
        "print(solution.sortArray(nums))"
      ]
    }
  ]
}