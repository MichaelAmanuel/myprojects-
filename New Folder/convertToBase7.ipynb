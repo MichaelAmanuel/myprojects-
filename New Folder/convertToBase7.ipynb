{
  "nbformat": 4,
  "nbformat_minor": 0,
  "metadata": {
    "colab": {
      "provenance": []
    },
    "kernelspec": {
      "name": "python3",
      "display_name": "Python 3"
    },
    "language_info": {
      "name": "python"
    }
  },
  "cells": [
    {
      "cell_type": "code",
      "execution_count": 40,
      "metadata": {
        "colab": {
          "base_uri": "https://localhost:8080/"
        },
        "id": "O3QF9ve19C7V",
        "outputId": "513cd7cc-156b-4877-9ce3-f155355430ca"
      },
      "outputs": [
        {
          "output_type": "stream",
          "name": "stdout",
          "text": [
            "0\n"
          ]
        }
      ],
      "source": [
        "class Solution(object):\n",
        "    def convertToBase7(self, num):\n",
        "\n",
        "      dig = ''\n",
        "      if num == 0:\n",
        "          return str(0)\n",
        "      nums = abs(num)\n",
        "      while nums > 0:\n",
        "        dig = dig  + str(nums % 7)\n",
        "        nums = nums // 7\n",
        "\n",
        "      return dig[::-1] if num >= 0 else '-'+dig[::-1]\n",
        "\n",
        "solution = Solution()\n",
        "num = 0\n",
        "print(solution.convertToBase7(num))"
      ]
    }
  ]
}