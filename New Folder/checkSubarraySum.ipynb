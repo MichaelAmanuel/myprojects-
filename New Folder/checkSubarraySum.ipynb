{
  "nbformat": 4,
  "nbformat_minor": 0,
  "metadata": {
    "colab": {
      "provenance": []
    },
    "kernelspec": {
      "name": "python3",
      "display_name": "Python 3"
    },
    "language_info": {
      "name": "python"
    }
  },
  "cells": [
    {
      "cell_type": "code",
      "execution_count": null,
      "metadata": {
        "id": "uJvs1uvOyrNY"
      },
      "outputs": [],
      "source": [
        "class Solution(object):\n",
        "    def checkSubarraySum(self, nums, k):\n",
        "\n",
        "        remainder_map = {0: -1}\n",
        "        current_sum = 0\n",
        "\n",
        "        for i, num in enumerate(nums):\n",
        "            current_sum += num\n",
        "            if k != 0:\n",
        "                current_sum %= k\n",
        "\n",
        "            if current_sum in remainder_map:\n",
        "                if i - remainder_map[current_sum] > 1:\n",
        "                    return True\n",
        "            else:\n",
        "                remainder_map[current_sum] = i\n",
        "\n",
        "        return False\n",
        "\n",
        "solution = Solution()\n",
        "nums = [23, 2, 4, 6, 7]\n",
        "k = 6\n",
        "print(solution.checkSubarraySum(nums, k))\n"
      ]
    }
  ]
}