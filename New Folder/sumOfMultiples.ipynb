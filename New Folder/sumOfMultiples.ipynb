{
  "nbformat": 4,
  "nbformat_minor": 0,
  "metadata": {
    "colab": {
      "provenance": []
    },
    "kernelspec": {
      "name": "python3",
      "display_name": "Python 3"
    },
    "language_info": {
      "name": "python"
    }
  },
  "cells": [
    {
      "cell_type": "code",
      "source": [
        "class Solution(object):\n",
        "    def sumOfMultiples(self, n):\n",
        "      su = 0\n",
        "      for i in range(1, n+1):\n",
        "        if i % 3 == 0 or i % 5 == 0 or i % 7 == 0:\n",
        "          su += i\n",
        "\n",
        "      return su\n",
        "\n",
        "solution = Solution()\n",
        "n = 10\n",
        "print(solution.sumOfMultiples(n))"
      ],
      "metadata": {
        "colab": {
          "base_uri": "https://localhost:8080/"
        },
        "id": "3-7gmPdAdYR1",
        "outputId": "5f7dd2e4-8876-415d-aa06-cd9abcd20fe1"
      },
      "execution_count": 4,
      "outputs": [
        {
          "output_type": "stream",
          "name": "stdout",
          "text": [
            "40\n"
          ]
        }
      ]
    }
  ]
}