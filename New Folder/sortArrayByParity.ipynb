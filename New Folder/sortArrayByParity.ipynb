{
  "nbformat": 4,
  "nbformat_minor": 0,
  "metadata": {
    "colab": {
      "provenance": []
    },
    "kernelspec": {
      "name": "python3",
      "display_name": "Python 3"
    },
    "language_info": {
      "name": "python"
    }
  },
  "cells": [
    {
      "cell_type": "code",
      "execution_count": null,
      "metadata": {
        "id": "P02-oY0JEDMw"
      },
      "outputs": [],
      "source": [
        "class Solution(object):\n",
        "    def sortArrayByParity(self, nums):\n",
        "      even = []\n",
        "      odd = []\n",
        "      for i in nums:\n",
        "        if i % 2 == 0:\n",
        "          even.append(i)\n",
        "        else:\n",
        "          odd.append(i)\n",
        "\n",
        "      even.extend(odd)\n",
        "      return even\n",
        "\n",
        "solution = Solution()\n",
        "nums = [3, 1, 2, 4]\n",
        "print(solution.sortArrayByParity(nums))"
      ]
    }
  ]
}