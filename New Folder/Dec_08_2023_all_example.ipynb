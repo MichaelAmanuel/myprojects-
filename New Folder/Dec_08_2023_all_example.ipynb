{
  "nbformat": 4,
  "nbformat_minor": 0,
  "metadata": {
    "colab": {
      "provenance": []
    },
    "kernelspec": {
      "name": "python3",
      "display_name": "Python 3"
    },
    "language_info": {
      "name": "python"
    }
  },
  "cells": [
    {
      "cell_type": "code",
      "source": [
        "arr = [1,2,2,1,1,3]\n",
        "\n",
        "ar = sorted(arr)\n",
        "num = []\n",
        "for i in range(len(ar)):\n",
        "  count = 0\n",
        "  for j in range(len(ar)):\n",
        "    if i ==j:\n",
        "      count += 1\n",
        "  num.append(j)\n"
      ],
      "metadata": {
        "colab": {
          "base_uri": "https://localhost:8080/"
        },
        "id": "Ir7iPKD4Vahc",
        "outputId": "61d703fd-1ef0-4280-b0fd-e9ebd040c6cc"
      },
      "execution_count": 3,
      "outputs": [
        {
          "output_type": "stream",
          "name": "stdout",
          "text": [
            "[1, 1, 1, 2, 2, 3]\n"
          ]
        }
      ]
    },
    {
      "cell_type": "code",
      "execution_count": 1,
      "metadata": {
        "colab": {
          "base_uri": "https://localhost:8080/"
        },
        "id": "hWXz7_U4Pgwi",
        "outputId": "b0a058c2-2647-4f48-a0dc-f8b7aa1de21d"
      },
      "outputs": [
        {
          "output_type": "stream",
          "name": "stdout",
          "text": [
            "13325\n"
          ]
        }
      ],
      "source": [
        "class Solution(object):\n",
        "    def removeDigit(self, number, digit):\n",
        "      stre = number.rfind(digit)\n",
        "      if stre != -1:\n",
        "        out_put = number[:stre] + number[stre + 1:]\n",
        "\n",
        "      out_put2 = number.replace(digit, '', 1)\n",
        "\n",
        "      if int(out_put) > int(out_put2):\n",
        "          return out_put\n",
        "      else:\n",
        "          return out_put2\n",
        "        # return out_put\n",
        "\n",
        "solution = Solution()\n",
        "number = \"133235\"\n",
        "digit = \"3\"\n",
        "print(solution.removeDigit(number, digit))"
      ]
    },
    {
      "cell_type": "code",
      "source": [
        "# Define dictionaries\n",
        "dict1 = {'a': 1, 'b': 2, 'c': 3}\n",
        "dict2 = {'a': 1, 'b': 2}\n",
        "\n",
        "\n",
        "is_subset = all(item in dict1.items() for item in dict2.items())\n",
        "\n",
        "\n",
        "if is_subset:\n",
        "    print(\"dict2 is a subset of dict1\")\n",
        "else:\n",
        "    print(\"dict2 is not a subset of dict1\")\n"
      ],
      "metadata": {
        "colab": {
          "base_uri": "https://localhost:8080/"
        },
        "id": "QpCUWzlG8azc",
        "outputId": "fe00b1da-d511-4e69-efde-9bcf26b99875"
      },
      "execution_count": 1,
      "outputs": [
        {
          "output_type": "stream",
          "name": "stdout",
          "text": [
            "dict2 is a subset of dict1\n"
          ]
        }
      ]
    },
    {
      "cell_type": "code",
      "source": [
        "my_string = \"mikekeim\"\n",
        "element_counts = {}\n",
        "\n",
        "for char in my_string:\n",
        "    if char in element_counts:\n",
        "        element_counts[char] += 1\n",
        "    else:\n",
        "        element_counts[char] = 1\n",
        "\n",
        "print(element_counts)"
      ],
      "metadata": {
        "colab": {
          "base_uri": "https://localhost:8080/"
        },
        "id": "BH6bv6LL8qnA",
        "outputId": "4d0dd39f-7e17-48d7-9a72-703960fd49a7"
      },
      "execution_count": 4,
      "outputs": [
        {
          "output_type": "stream",
          "name": "stdout",
          "text": [
            "{'m': 2, 'i': 2, 'k': 2, 'e': 2}\n"
          ]
        }
      ]
    }
  ]
}