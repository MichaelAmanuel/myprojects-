{
  "nbformat": 4,
  "nbformat_minor": 0,
  "metadata": {
    "colab": {
      "provenance": []
    },
    "kernelspec": {
      "name": "python3",
      "display_name": "Python 3"
    },
    "language_info": {
      "name": "python"
    }
  },
  "cells": [
    {
      "cell_type": "code",
      "source": [
        "class Solution(object):\n",
        "    def restoreString(self, s, indices):\n",
        "\n",
        "      out_put = ''\n",
        "      for i in range(len(s)):\n",
        "        out_put += s[indices.index(i)]\n",
        "\n",
        "      return out_put\n",
        "\n",
        "solution = Solution()\n",
        "s = \"abc\"\n",
        "indices = [0,1,2]\n",
        "print(solution.restoreString(s, indices))"
      ],
      "metadata": {
        "colab": {
          "base_uri": "https://localhost:8080/"
        },
        "id": "00vdd4bogFli",
        "outputId": "246fd51c-b3a8-4c02-fc16-89b97dc68726"
      },
      "execution_count": 4,
      "outputs": [
        {
          "output_type": "stream",
          "name": "stdout",
          "text": [
            "abc\n"
          ]
        }
      ]
    },
    {
      "cell_type": "code",
      "source": [],
      "metadata": {
        "id": "VuLHEub1grPu"
      },
      "execution_count": null,
      "outputs": []
    },
    {
      "cell_type": "code",
      "source": [],
      "metadata": {
        "id": "fygXHGuPglur"
      },
      "execution_count": null,
      "outputs": []
    }
  ]
}