{
  "nbformat": 4,
  "nbformat_minor": 0,
  "metadata": {
    "colab": {
      "provenance": []
    },
    "kernelspec": {
      "name": "python3",
      "display_name": "Python 3"
    },
    "language_info": {
      "name": "python"
    }
  },
  "cells": [
    {
      "cell_type": "code",
      "execution_count": null,
      "metadata": {
        "id": "kQjWvHzXch44",
        "colab": {
          "base_uri": "https://localhost:8080/"
        },
        "outputId": "d2501bef-d495-4ef1-bd7d-671e37c016d1"
      },
      "outputs": [
        {
          "output_type": "stream",
          "name": "stdout",
          "text": [
            "5\n",
            "12\n",
            "24\n"
          ]
        }
      ],
      "source": [
        "class Solution(object):\n",
        "    def minDays(self, grid):\n",
        "        m, n = len(grid), len(grid[0])\n",
        "\n",
        "        def countIslands(grid):\n",
        "            visited = [[False] * n for _ in range(m)]\n",
        "            island_count = 0\n",
        "\n",
        "            def dfs(x, y):\n",
        "                if x < 0 or x >= m or y < 0 or y >= n or visited[x][y] or grid[x][y] == 0:\n",
        "                    return\n",
        "                visited[x][y] = True\n",
        "                dfs(x + 1, y)\n",
        "                dfs(x - 1, y)\n",
        "                dfs(x, y + 1)\n",
        "                dfs(x, y - 1)\n",
        "\n",
        "            for i in range(m):\n",
        "                for j in range(n):\n",
        "                    if grid[i][j] == 1 and not visited[i][j]:\n",
        "                        dfs(i, j)\n",
        "                        island_count += 1\n",
        "            return island_count\n",
        "\n",
        "        def isDisconnected(grid):\n",
        "            for i in range(m):\n",
        "                for j in range(n):\n",
        "                    if grid[i][j] == 1:\n",
        "                        grid[i][j] = 0\n",
        "                        if countIslands(grid) != 1:\n",
        "                            grid[i][j] = 1\n",
        "                            return True\n",
        "                        grid[i][j] = 1\n",
        "            return False\n",
        "\n",
        "        if countIslands(grid) != 1:\n",
        "            return 0\n",
        "        if isDisconnected(grid):\n",
        "            return 1\n",
        "        return 2\n"
      ]
    }
  ]
}