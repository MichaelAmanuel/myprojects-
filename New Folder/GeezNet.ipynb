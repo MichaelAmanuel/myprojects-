{
  "nbformat": 4,
  "nbformat_minor": 0,
  "metadata": {
    "colab": {
      "provenance": []
    },
    "kernelspec": {
      "name": "python3",
      "display_name": "Python 3"
    },
    "language_info": {
      "name": "python"
    },
    "accelerator": "TPU",
    "gpuClass": "standard"
  },
  "cells": [
    {
      "cell_type": "markdown",
      "source": [
        "# **CNNaTaner**"
      ],
      "metadata": {
        "id": "XNHHszCeyL6F"
      }
    },
    {
      "cell_type": "code",
      "source": [
        "import tensorflow as tf\n",
        "from keras import preprocessing\n",
        "from keras.preprocessing.image import ImageDataGenerator\n",
        "\n",
        "\n",
        "from tensorflow.keras.models import Sequential\n",
        "from tensorflow.keras.layers import Conv2D\n",
        "from tensorflow.keras.layers import MaxPooling2D\n",
        "from tensorflow.keras.layers import Flatten\n",
        "from tensorflow.keras.layers import Dropout\n",
        "from tensorflow.keras.layers import Dense\n",
        "from tensorflow.keras.callbacks import EarlyStopping, ModelCheckpoint"
      ],
      "metadata": {
        "id": "BoQf9HmSAXDs"
      },
      "execution_count": null,
      "outputs": []
    },
    {
      "cell_type": "code",
      "source": [
        "DATA_DIR = \"/content/drive/MyDrive/GeezAlpha\"\n",
        "TRAINING_DIR = '/content/drive/MyDrive/GeezAlpha/Train'\n",
        "VALIDATION_DIR = '/content/drive/MyDrive/GeezAlpha/Validation'\n",
        "TEST_DIR = '/content/drive/MyDrive/GeezAlpha/Test'\n",
        "\n",
        "BATCH_SIZE=100\n",
        "EPOCS=50\n",
        "PATIENCE=100\n",
        "SHOW_MISTAKEN_PREDICTIONS=True\n",
        "\n",
        "\n",
        "IMG_WIDTH=50\n",
        "IMG_HEIGHT=50\n",
        "'''\n",
        "training_datagen = ImageDataGenerator( shear_range=0.0,\n",
        "        zoom_range=0.05,\n",
        "        rotation_range=40,\n",
        "        horizontal_flip=True,\n",
        "        rescale = 1./255)\n",
        "'''\n",
        "training_datagen =  ImageDataGenerator(rescale = 1./255)\n",
        "validation_datagen =  ImageDataGenerator(rescale = 1./255)\n",
        "\n",
        "\n",
        "train_generator = training_datagen.flow_from_directory(\n",
        "\tTRAINING_DIR,\n",
        "\ttarget_size=(IMG_WIDTH,IMG_HEIGHT),\n",
        "    batch_size=BATCH_SIZE,\n",
        "\tclass_mode='categorical')\n",
        "\n",
        "\n",
        "validation_generator = validation_datagen.flow_from_directory(\n",
        "\tVALIDATION_DIR,\n",
        "\ttarget_size=(IMG_WIDTH,IMG_HEIGHT),\n",
        "    batch_size=BATCH_SIZE,\n",
        "\tclass_mode='categorical',\n",
        "    shuffle=False)\n",
        "\n",
        "number_of_classes=len(list(train_generator.class_indices.keys()))\n",
        "modelaTaner = Sequential([\n",
        "    # Note the input shape is the desired size of the image 50x50 with 3 byte color\n",
        "    # This is the first convolution\n",
        "    Conv2D(32, (3,3), activation='relu', input_shape=(IMG_WIDTH,IMG_HEIGHT, 3)),\n",
        "    MaxPooling2D(2, 2),\n",
        "    # The second convolution\n",
        "    Conv2D(64, (3,3), activation='relu'),\n",
        "    MaxPooling2D(2,2),\n",
        "    # The third convolution\n",
        "    Conv2D(128, (3,3), activation='relu'),\n",
        "    MaxPooling2D(2,2),\n",
        "    # The fourth convolution\n",
        "    Conv2D(128, (3,3), activation='relu'),\n",
        "    MaxPooling2D(2,2),\n",
        "    # Flatten the results to feed into a CNN\n",
        "    Flatten(),\n",
        "    Dropout(0.5),\n",
        "    # 512 neuron hidden layer\n",
        "    Dense(512, activation='relu'),\n",
        "    Dense(number_of_classes, activation='softmax')\n",
        "])\n",
        "\n",
        "## optimizerı adam yap\n",
        "## 1 level daha Conv2D + Maxpooling ekle\n",
        "\n",
        "modelaTaner.summary()"
      ],
      "metadata": {
        "colab": {
          "base_uri": "https://localhost:8080/"
        },
        "id": "3O9feljjAYgL",
        "outputId": "70f2753d-1c4e-43e5-e8c3-56142293a46a"
      },
      "execution_count": null,
      "outputs": [
        {
          "output_type": "stream",
          "name": "stdout",
          "text": [
            "Found 2150 images belonging to 6 classes.\n",
            "Found 461 images belonging to 6 classes.\n",
            "Model: \"sequential_11\"\n",
            "_________________________________________________________________\n",
            " Layer (type)                Output Shape              Param #   \n",
            "=================================================================\n",
            " conv2d_20 (Conv2D)          (None, 48, 48, 32)        896       \n",
            "                                                                 \n",
            " max_pooling2d_20 (MaxPoolin  (None, 24, 24, 32)       0         \n",
            " g2D)                                                            \n",
            "                                                                 \n",
            " conv2d_21 (Conv2D)          (None, 22, 22, 64)        18496     \n",
            "                                                                 \n",
            " max_pooling2d_21 (MaxPoolin  (None, 11, 11, 64)       0         \n",
            " g2D)                                                            \n",
            "                                                                 \n",
            " conv2d_22 (Conv2D)          (None, 9, 9, 128)         73856     \n",
            "                                                                 \n",
            " max_pooling2d_22 (MaxPoolin  (None, 4, 4, 128)        0         \n",
            " g2D)                                                            \n",
            "                                                                 \n",
            " conv2d_23 (Conv2D)          (None, 2, 2, 128)         147584    \n",
            "                                                                 \n",
            " max_pooling2d_23 (MaxPoolin  (None, 1, 1, 128)        0         \n",
            " g2D)                                                            \n",
            "                                                                 \n",
            " flatten_11 (Flatten)        (None, 128)               0         \n",
            "                                                                 \n",
            " dropout_5 (Dropout)         (None, 128)               0         \n",
            "                                                                 \n",
            " dense_22 (Dense)            (None, 512)               66048     \n",
            "                                                                 \n",
            " dense_23 (Dense)            (None, 6)                 3078      \n",
            "                                                                 \n",
            "=================================================================\n",
            "Total params: 309,958\n",
            "Trainable params: 309,958\n",
            "Non-trainable params: 0\n",
            "_________________________________________________________________\n"
          ]
        }
      ]
    },
    {
      "cell_type": "code",
      "source": [
        "#model.compile(loss = 'categorical_crossentropy', optimizer=tf.optimizers.RMSprop(lr=1e-4), metrics=['accuracy'])\n",
        "modelaTaner.compile(loss = 'categorical_crossentropy', optimizer='adam', metrics=['accuracy'])\n",
        "\n",
        "callbacks = [EarlyStopping(monitor='val_loss', mode='min',patience=PATIENCE),\n",
        "             ModelCheckpoint(filepath='best_model.h5', monitor='val_loss',mode='min', save_best_only=True,verbose=1)]\n",
        "\n",
        "\n",
        "history = modelaTaner.fit_generator(train_generator,\n",
        "                              epochs=EPOCS,\n",
        "                              callbacks=callbacks,\n",
        "                              validation_data = validation_generator,\n",
        "                              steps_per_epoch=train_generator.samples // BATCH_SIZE,\n",
        "                              validation_steps=validation_generator.samples // BATCH_SIZE,\n",
        "                              verbose = 1)\n",
        "\n",
        "#model.save(\"findik-cropped-V2-profil11liExt5.h5\")"
      ],
      "metadata": {
        "colab": {
          "base_uri": "https://localhost:8080/"
        },
        "id": "7gzcqJg5-OVe",
        "outputId": "9b3e7922-9673-4fe2-e20b-60935495197d"
      },
      "execution_count": null,
      "outputs": [
        {
          "output_type": "stream",
          "name": "stderr",
          "text": [
            "<ipython-input-32-f6ce2c0ff4b1>:8: UserWarning: `Model.fit_generator` is deprecated and will be removed in a future version. Please use `Model.fit`, which supports generators.\n",
            "  history = modelaTaner.fit_generator(train_generator,\n"
          ]
        },
        {
          "output_type": "stream",
          "name": "stdout",
          "text": [
            "Epoch 1/50\n",
            "21/21 [==============================] - ETA: 0s - loss: 1.7530 - accuracy: 0.2776\n",
            "Epoch 1: val_loss improved from inf to 1.50786, saving model to best_model.h5\n",
            "21/21 [==============================] - 185s 9s/step - loss: 1.7530 - accuracy: 0.2776 - val_loss: 1.5079 - val_accuracy: 0.6575\n",
            "Epoch 2/50\n",
            "21/21 [==============================] - ETA: 0s - loss: 1.1401 - accuracy: 0.6034\n",
            "Epoch 2: val_loss improved from 1.50786 to 0.48622, saving model to best_model.h5\n",
            "21/21 [==============================] - 16s 755ms/step - loss: 1.1401 - accuracy: 0.6034 - val_loss: 0.4862 - val_accuracy: 0.8500\n",
            "Epoch 3/50\n",
            "21/21 [==============================] - ETA: 0s - loss: 0.5792 - accuracy: 0.7946\n",
            "Epoch 3: val_loss improved from 0.48622 to 0.27710, saving model to best_model.h5\n",
            "21/21 [==============================] - 15s 732ms/step - loss: 0.5792 - accuracy: 0.7946 - val_loss: 0.2771 - val_accuracy: 0.8925\n",
            "Epoch 4/50\n",
            "21/21 [==============================] - ETA: 0s - loss: 0.4072 - accuracy: 0.8571\n",
            "Epoch 4: val_loss improved from 0.27710 to 0.12293, saving model to best_model.h5\n",
            "21/21 [==============================] - 16s 747ms/step - loss: 0.4072 - accuracy: 0.8571 - val_loss: 0.1229 - val_accuracy: 0.9750\n",
            "Epoch 5/50\n",
            "21/21 [==============================] - ETA: 0s - loss: 0.3263 - accuracy: 0.8844\n",
            "Epoch 5: val_loss did not improve from 0.12293\n",
            "21/21 [==============================] - 16s 740ms/step - loss: 0.3263 - accuracy: 0.8844 - val_loss: 0.1301 - val_accuracy: 0.9550\n",
            "Epoch 6/50\n",
            "21/21 [==============================] - ETA: 0s - loss: 0.2859 - accuracy: 0.9015\n",
            "Epoch 6: val_loss did not improve from 0.12293\n",
            "21/21 [==============================] - 15s 666ms/step - loss: 0.2859 - accuracy: 0.9015 - val_loss: 0.1330 - val_accuracy: 0.9525\n",
            "Epoch 7/50\n",
            "21/21 [==============================] - ETA: 0s - loss: 0.1985 - accuracy: 0.9376\n",
            "Epoch 7: val_loss improved from 0.12293 to 0.05319, saving model to best_model.h5\n",
            "21/21 [==============================] - 16s 726ms/step - loss: 0.1985 - accuracy: 0.9376 - val_loss: 0.0532 - val_accuracy: 0.9900\n",
            "Epoch 8/50\n",
            "21/21 [==============================] - ETA: 0s - loss: 0.1838 - accuracy: 0.9488\n",
            "Epoch 8: val_loss did not improve from 0.05319\n",
            "21/21 [==============================] - 15s 686ms/step - loss: 0.1838 - accuracy: 0.9488 - val_loss: 0.0563 - val_accuracy: 0.9925\n",
            "Epoch 9/50\n",
            "21/21 [==============================] - ETA: 0s - loss: 0.1497 - accuracy: 0.9580\n",
            "Epoch 9: val_loss improved from 0.05319 to 0.02197, saving model to best_model.h5\n",
            "21/21 [==============================] - 15s 677ms/step - loss: 0.1497 - accuracy: 0.9580 - val_loss: 0.0220 - val_accuracy: 0.9950\n",
            "Epoch 10/50\n",
            "21/21 [==============================] - ETA: 0s - loss: 0.1181 - accuracy: 0.9668\n",
            "Epoch 10: val_loss improved from 0.02197 to 0.01761, saving model to best_model.h5\n",
            "21/21 [==============================] - 14s 679ms/step - loss: 0.1181 - accuracy: 0.9668 - val_loss: 0.0176 - val_accuracy: 0.9975\n",
            "Epoch 11/50\n",
            "21/21 [==============================] - ETA: 0s - loss: 0.0928 - accuracy: 0.9698\n",
            "Epoch 11: val_loss improved from 0.01761 to 0.01256, saving model to best_model.h5\n",
            "21/21 [==============================] - 16s 754ms/step - loss: 0.0928 - accuracy: 0.9698 - val_loss: 0.0126 - val_accuracy: 0.9950\n",
            "Epoch 12/50\n",
            "21/21 [==============================] - ETA: 0s - loss: 0.0810 - accuracy: 0.9776\n",
            "Epoch 12: val_loss did not improve from 0.01256\n",
            "21/21 [==============================] - 16s 759ms/step - loss: 0.0810 - accuracy: 0.9776 - val_loss: 0.0146 - val_accuracy: 0.9975\n",
            "Epoch 13/50\n",
            "21/21 [==============================] - ETA: 0s - loss: 0.0787 - accuracy: 0.9756\n",
            "Epoch 13: val_loss improved from 0.01256 to 0.01228, saving model to best_model.h5\n",
            "21/21 [==============================] - 14s 687ms/step - loss: 0.0787 - accuracy: 0.9756 - val_loss: 0.0123 - val_accuracy: 0.9975\n",
            "Epoch 14/50\n",
            "21/21 [==============================] - ETA: 0s - loss: 0.0737 - accuracy: 0.9810\n",
            "Epoch 14: val_loss did not improve from 0.01228\n",
            "21/21 [==============================] - 14s 638ms/step - loss: 0.0737 - accuracy: 0.9810 - val_loss: 0.0206 - val_accuracy: 0.9925\n",
            "Epoch 15/50\n",
            "21/21 [==============================] - ETA: 0s - loss: 0.0686 - accuracy: 0.9834\n",
            "Epoch 15: val_loss improved from 0.01228 to 0.01140, saving model to best_model.h5\n",
            "21/21 [==============================] - 16s 739ms/step - loss: 0.0686 - accuracy: 0.9834 - val_loss: 0.0114 - val_accuracy: 0.9950\n",
            "Epoch 16/50\n",
            "21/21 [==============================] - ETA: 0s - loss: 0.0901 - accuracy: 0.9693\n",
            "Epoch 16: val_loss did not improve from 0.01140\n",
            "21/21 [==============================] - 15s 730ms/step - loss: 0.0901 - accuracy: 0.9693 - val_loss: 0.0135 - val_accuracy: 0.9975\n",
            "Epoch 17/50\n",
            "21/21 [==============================] - ETA: 0s - loss: 0.0799 - accuracy: 0.9771\n",
            "Epoch 17: val_loss did not improve from 0.01140\n",
            "21/21 [==============================] - 16s 752ms/step - loss: 0.0799 - accuracy: 0.9771 - val_loss: 0.0123 - val_accuracy: 0.9975\n",
            "Epoch 18/50\n",
            "21/21 [==============================] - ETA: 0s - loss: 0.0549 - accuracy: 0.9824\n",
            "Epoch 18: val_loss improved from 0.01140 to 0.00752, saving model to best_model.h5\n",
            "21/21 [==============================] - 16s 758ms/step - loss: 0.0549 - accuracy: 0.9824 - val_loss: 0.0075 - val_accuracy: 0.9950\n",
            "Epoch 19/50\n",
            "21/21 [==============================] - ETA: 0s - loss: 0.0488 - accuracy: 0.9834\n",
            "Epoch 19: val_loss did not improve from 0.00752\n",
            "21/21 [==============================] - 16s 751ms/step - loss: 0.0488 - accuracy: 0.9834 - val_loss: 0.0084 - val_accuracy: 0.9975\n",
            "Epoch 20/50\n",
            "21/21 [==============================] - ETA: 0s - loss: 0.0407 - accuracy: 0.9917\n",
            "Epoch 20: val_loss did not improve from 0.00752\n",
            "21/21 [==============================] - 17s 805ms/step - loss: 0.0407 - accuracy: 0.9917 - val_loss: 0.0123 - val_accuracy: 0.9925\n",
            "Epoch 21/50\n",
            "21/21 [==============================] - ETA: 0s - loss: 0.0435 - accuracy: 0.9863\n",
            "Epoch 21: val_loss did not improve from 0.00752\n",
            "21/21 [==============================] - 15s 703ms/step - loss: 0.0435 - accuracy: 0.9863 - val_loss: 0.0097 - val_accuracy: 0.9975\n",
            "Epoch 22/50\n",
            "21/21 [==============================] - ETA: 0s - loss: 0.0485 - accuracy: 0.9873\n",
            "Epoch 22: val_loss improved from 0.00752 to 0.00481, saving model to best_model.h5\n",
            "21/21 [==============================] - 16s 723ms/step - loss: 0.0485 - accuracy: 0.9873 - val_loss: 0.0048 - val_accuracy: 1.0000\n",
            "Epoch 23/50\n",
            "21/21 [==============================] - ETA: 0s - loss: 0.0599 - accuracy: 0.9824\n",
            "Epoch 23: val_loss did not improve from 0.00481\n",
            "21/21 [==============================] - 16s 765ms/step - loss: 0.0599 - accuracy: 0.9824 - val_loss: 0.0075 - val_accuracy: 0.9975\n",
            "Epoch 24/50\n",
            "21/21 [==============================] - ETA: 0s - loss: 0.0511 - accuracy: 0.9815\n",
            "Epoch 24: val_loss did not improve from 0.00481\n",
            "21/21 [==============================] - 16s 767ms/step - loss: 0.0511 - accuracy: 0.9815 - val_loss: 0.0050 - val_accuracy: 1.0000\n",
            "Epoch 25/50\n",
            "21/21 [==============================] - ETA: 0s - loss: 0.0417 - accuracy: 0.9898\n",
            "Epoch 25: val_loss did not improve from 0.00481\n",
            "21/21 [==============================] - 14s 666ms/step - loss: 0.0417 - accuracy: 0.9898 - val_loss: 0.0228 - val_accuracy: 0.9900\n",
            "Epoch 26/50\n",
            "21/21 [==============================] - ETA: 0s - loss: 0.0318 - accuracy: 0.9898\n",
            "Epoch 26: val_loss did not improve from 0.00481\n",
            "21/21 [==============================] - 16s 738ms/step - loss: 0.0318 - accuracy: 0.9898 - val_loss: 0.0108 - val_accuracy: 0.9925\n",
            "Epoch 27/50\n",
            "21/21 [==============================] - ETA: 0s - loss: 0.0363 - accuracy: 0.9893\n",
            "Epoch 27: val_loss did not improve from 0.00481\n",
            "21/21 [==============================] - 16s 752ms/step - loss: 0.0363 - accuracy: 0.9893 - val_loss: 0.0078 - val_accuracy: 1.0000\n",
            "Epoch 28/50\n",
            "21/21 [==============================] - ETA: 0s - loss: 0.0406 - accuracy: 0.9878\n",
            "Epoch 28: val_loss improved from 0.00481 to 0.00337, saving model to best_model.h5\n",
            "21/21 [==============================] - 16s 748ms/step - loss: 0.0406 - accuracy: 0.9878 - val_loss: 0.0034 - val_accuracy: 1.0000\n",
            "Epoch 29/50\n",
            "21/21 [==============================] - ETA: 0s - loss: 0.0399 - accuracy: 0.9868\n",
            "Epoch 29: val_loss did not improve from 0.00337\n",
            "21/21 [==============================] - 16s 753ms/step - loss: 0.0399 - accuracy: 0.9868 - val_loss: 0.0071 - val_accuracy: 0.9975\n",
            "Epoch 30/50\n",
            "21/21 [==============================] - ETA: 0s - loss: 0.0289 - accuracy: 0.9927\n",
            "Epoch 30: val_loss did not improve from 0.00337\n",
            "21/21 [==============================] - 16s 747ms/step - loss: 0.0289 - accuracy: 0.9927 - val_loss: 0.0044 - val_accuracy: 1.0000\n",
            "Epoch 31/50\n",
            "21/21 [==============================] - ETA: 0s - loss: 0.0324 - accuracy: 0.9898\n",
            "Epoch 31: val_loss did not improve from 0.00337\n",
            "21/21 [==============================] - 15s 691ms/step - loss: 0.0324 - accuracy: 0.9898 - val_loss: 0.0079 - val_accuracy: 0.9975\n",
            "Epoch 32/50\n",
            "21/21 [==============================] - ETA: 0s - loss: 0.0373 - accuracy: 0.9883\n",
            "Epoch 32: val_loss did not improve from 0.00337\n",
            "21/21 [==============================] - 14s 647ms/step - loss: 0.0373 - accuracy: 0.9883 - val_loss: 0.0035 - val_accuracy: 0.9975\n",
            "Epoch 33/50\n",
            "21/21 [==============================] - ETA: 0s - loss: 0.0268 - accuracy: 0.9912\n",
            "Epoch 33: val_loss improved from 0.00337 to 0.00274, saving model to best_model.h5\n",
            "21/21 [==============================] - 15s 704ms/step - loss: 0.0268 - accuracy: 0.9912 - val_loss: 0.0027 - val_accuracy: 1.0000\n",
            "Epoch 34/50\n",
            "21/21 [==============================] - ETA: 0s - loss: 0.0271 - accuracy: 0.9907\n",
            "Epoch 34: val_loss did not improve from 0.00274\n",
            "21/21 [==============================] - 16s 758ms/step - loss: 0.0271 - accuracy: 0.9907 - val_loss: 0.0029 - val_accuracy: 1.0000\n",
            "Epoch 35/50\n",
            "21/21 [==============================] - ETA: 0s - loss: 0.0275 - accuracy: 0.9941\n",
            "Epoch 35: val_loss did not improve from 0.00274\n",
            "21/21 [==============================] - 14s 639ms/step - loss: 0.0275 - accuracy: 0.9941 - val_loss: 0.0218 - val_accuracy: 0.9950\n",
            "Epoch 36/50\n",
            "21/21 [==============================] - ETA: 0s - loss: 0.0394 - accuracy: 0.9878\n",
            "Epoch 36: val_loss did not improve from 0.00274\n",
            "21/21 [==============================] - 16s 719ms/step - loss: 0.0394 - accuracy: 0.9878 - val_loss: 0.0074 - val_accuracy: 0.9950\n",
            "Epoch 37/50\n",
            "21/21 [==============================] - ETA: 0s - loss: 0.0359 - accuracy: 0.9917\n",
            "Epoch 37: val_loss did not improve from 0.00274\n",
            "21/21 [==============================] - 16s 768ms/step - loss: 0.0359 - accuracy: 0.9917 - val_loss: 0.0034 - val_accuracy: 1.0000\n",
            "Epoch 38/50\n",
            "21/21 [==============================] - ETA: 0s - loss: 0.0327 - accuracy: 0.9902\n",
            "Epoch 38: val_loss did not improve from 0.00274\n",
            "21/21 [==============================] - 15s 692ms/step - loss: 0.0327 - accuracy: 0.9902 - val_loss: 0.0111 - val_accuracy: 0.9950\n",
            "Epoch 39/50\n",
            "21/21 [==============================] - ETA: 0s - loss: 0.0203 - accuracy: 0.9961\n",
            "Epoch 39: val_loss did not improve from 0.00274\n",
            "21/21 [==============================] - 16s 749ms/step - loss: 0.0203 - accuracy: 0.9961 - val_loss: 0.0114 - val_accuracy: 0.9950\n",
            "Epoch 40/50\n",
            "21/21 [==============================] - ETA: 0s - loss: 0.0155 - accuracy: 0.9951\n",
            "Epoch 40: val_loss did not improve from 0.00274\n",
            "21/21 [==============================] - 15s 727ms/step - loss: 0.0155 - accuracy: 0.9951 - val_loss: 0.0134 - val_accuracy: 0.9950\n",
            "Epoch 41/50\n",
            "21/21 [==============================] - ETA: 0s - loss: 0.0208 - accuracy: 0.9937\n",
            "Epoch 41: val_loss improved from 0.00274 to 0.00226, saving model to best_model.h5\n",
            "21/21 [==============================] - 16s 744ms/step - loss: 0.0208 - accuracy: 0.9937 - val_loss: 0.0023 - val_accuracy: 1.0000\n",
            "Epoch 42/50\n",
            "21/21 [==============================] - ETA: 0s - loss: 0.0162 - accuracy: 0.9946\n",
            "Epoch 42: val_loss did not improve from 0.00226\n",
            "21/21 [==============================] - 16s 750ms/step - loss: 0.0162 - accuracy: 0.9946 - val_loss: 0.0086 - val_accuracy: 0.9950\n",
            "Epoch 43/50\n",
            "21/21 [==============================] - ETA: 0s - loss: 0.0138 - accuracy: 0.9966\n",
            "Epoch 43: val_loss did not improve from 0.00226\n",
            "21/21 [==============================] - 16s 785ms/step - loss: 0.0138 - accuracy: 0.9966 - val_loss: 0.0026 - val_accuracy: 0.9975\n",
            "Epoch 44/50\n",
            "21/21 [==============================] - ETA: 0s - loss: 0.0178 - accuracy: 0.9946\n",
            "Epoch 44: val_loss improved from 0.00226 to 0.00144, saving model to best_model.h5\n",
            "21/21 [==============================] - 16s 745ms/step - loss: 0.0178 - accuracy: 0.9946 - val_loss: 0.0014 - val_accuracy: 1.0000\n",
            "Epoch 45/50\n",
            "21/21 [==============================] - ETA: 0s - loss: 0.0334 - accuracy: 0.9878\n",
            "Epoch 45: val_loss did not improve from 0.00144\n",
            "21/21 [==============================] - 16s 753ms/step - loss: 0.0334 - accuracy: 0.9878 - val_loss: 0.0154 - val_accuracy: 0.9925\n",
            "Epoch 46/50\n",
            "21/21 [==============================] - ETA: 0s - loss: 0.0329 - accuracy: 0.9912\n",
            "Epoch 46: val_loss did not improve from 0.00144\n",
            "21/21 [==============================] - 16s 739ms/step - loss: 0.0329 - accuracy: 0.9912 - val_loss: 0.0021 - val_accuracy: 1.0000\n",
            "Epoch 47/50\n",
            "21/21 [==============================] - ETA: 0s - loss: 0.0240 - accuracy: 0.9927\n",
            "Epoch 47: val_loss did not improve from 0.00144\n",
            "21/21 [==============================] - 15s 700ms/step - loss: 0.0240 - accuracy: 0.9927 - val_loss: 0.0049 - val_accuracy: 0.9975\n",
            "Epoch 48/50\n",
            "21/21 [==============================] - ETA: 0s - loss: 0.0205 - accuracy: 0.9927\n",
            "Epoch 48: val_loss did not improve from 0.00144\n",
            "21/21 [==============================] - 15s 677ms/step - loss: 0.0205 - accuracy: 0.9927 - val_loss: 0.0016 - val_accuracy: 1.0000\n",
            "Epoch 49/50\n",
            "21/21 [==============================] - ETA: 0s - loss: 0.0222 - accuracy: 0.9927\n",
            "Epoch 49: val_loss did not improve from 0.00144\n",
            "21/21 [==============================] - 15s 691ms/step - loss: 0.0222 - accuracy: 0.9927 - val_loss: 0.0021 - val_accuracy: 1.0000\n",
            "Epoch 50/50\n",
            "21/21 [==============================] - ETA: 0s - loss: 0.0178 - accuracy: 0.9961\n",
            "Epoch 50: val_loss improved from 0.00144 to 0.00029, saving model to best_model.h5\n",
            "21/21 [==============================] - 14s 665ms/step - loss: 0.0178 - accuracy: 0.9961 - val_loss: 2.8513e-04 - val_accuracy: 1.0000\n"
          ]
        }
      ]
    },
    {
      "cell_type": "code",
      "source": [
        "import matplotlib.pyplot as plt\n",
        "acc = history.history['accuracy']\n",
        "val_acc = history.history['val_accuracy']\n",
        "loss = history.history['loss']\n",
        "val_loss = history.history['val_loss']\n",
        "\n",
        "epochs = range(len(acc))\n",
        "\n",
        "plt.plot(epochs, acc, 'r', label='Training accuracy')\n",
        "plt.plot(epochs, val_acc, 'b', label='Validation accuracy')\n",
        "plt.title('Training and validation accuracy')\n",
        "plt.legend(loc=0)\n",
        "plt.figure()\n",
        "\n",
        "\n",
        "plt.plot(epochs, loss, 'r', label='Training Loss')\n",
        "plt.plot(epochs, val_loss, 'b', label='Validation Loss')\n",
        "plt.title('Training and validation loss')\n",
        "plt.legend()\n",
        "\n",
        "plt.show()"
      ],
      "metadata": {
        "colab": {
          "base_uri": "https://localhost:8080/",
          "height": 545
        },
        "id": "CShh-u8TyRw1",
        "outputId": "76e95189-cc21-408e-f2ab-62eee8b24e6a"
      },
      "execution_count": null,
      "outputs": [
        {
          "output_type": "display_data",
          "data": {
            "text/plain": [
              "<Figure size 432x288 with 1 Axes>"
            ],
            "image/png": "[encoded data removed]"
          },
          "metadata": {
            "needs_background": "light"
          }
        },
        {
          "output_type": "display_data",
          "data": {
            "text/plain": [
              "<Figure size 432x288 with 1 Axes>"
            ],
            "image/png": "[encoded data removed]"
          },
          "metadata": {
            "needs_background": "light"
          }
        }
      ]
    },
    {
      "cell_type": "code",
      "source": [
        "def plot_confusion_matrix(cm,\n",
        "                          target_names,\n",
        "                          title='Confusion matrix',\n",
        "                          cmap=None,\n",
        "                          normalize=True):\n",
        "    \"\"\"\n",
        "    given a sklearn confusion matrix (cm), make a nice plot\n",
        "\n",
        "    Arguments\n",
        "    ---------\n",
        "    cm:           confusion matrix from sklearn.metrics.confusion_matrix\n",
        "\n",
        "    target_names: given classification classes such as [0, 1, 2]\n",
        "                  the class names, for example: ['high', 'medium', 'low']\n",
        "\n",
        "    title:        the text to display at the top of the matrix\n",
        "\n",
        "    cmap:         the gradient of the values displayed from matplotlib.pyplot.cm\n",
        "                  see http://matplotlib.org/examples/color/colormaps_reference.html\n",
        "                  plt.get_cmap('jet') or plt.cm.Blues\n",
        "\n",
        "    normalize:    If False, plot the raw numbers\n",
        "                  If True, plot the proportions\n",
        "\n",
        "    Usage\n",
        "    -----\n",
        "    plot_confusion_matrix(cm           = cm,                  # confusion matrix created by\n",
        "                                                              # sklearn.metrics.confusion_matrix\n",
        "                          normalize    = True,                # show proportions\n",
        "                          target_names = y_labels_vals,       # list of names of the classes\n",
        "                          title        = best_estimator_name) # title of graph\n",
        "\n",
        "    Citiation\n",
        "    ---------\n",
        "    http://scikit-learn.org/stable/auto_examples/model_selection/plot_confusion_matrix.html\n",
        "\n",
        "    \"\"\"\n",
        "    import matplotlib.pyplot as plt\n",
        "    import numpy as np\n",
        "    import itertools\n",
        "\n",
        "    accuracy = np.trace(cm) / float(np.sum(cm))\n",
        "    misclass = 1 - accuracy\n",
        "\n",
        "    if cmap is None:\n",
        "        # Greys, Purples, Blues, Greens, Oranges, Reds, YlOrBr, YlOrRd, OrRd, PuRd, RdPu, BuPu, GnBu, PuBu, YlGnBu, PuBuGn, BuGn, YlGn\n",
        "        cmap = plt.get_cmap('YlGn')\n",
        "\n",
        "    plt.figure(figsize=(8, 6))\n",
        "    plt.imshow(cm, interpolation='nearest', cmap=cmap)\n",
        "    plt.title(title)\n",
        "    plt.colorbar()\n",
        "\n",
        "    if target_names is not None:\n",
        "        tick_marks = np.arange(len(target_names))\n",
        "        plt.xticks(tick_marks, target_names, rotation=90)\n",
        "        plt.yticks(tick_marks, target_names)\n",
        "\n",
        "    if normalize:\n",
        "        cm = cm.astype('float') / cm.sum(axis=1)[:, np.newaxis]\n",
        "\n",
        "\n",
        "    thresh = cm.max() / 1.5 if normalize else cm.max() / 2\n",
        "    for i, j in itertools.product(range(cm.shape[0]), range(cm.shape[1])):\n",
        "        if normalize:\n",
        "            plt.text(j, i, \"{:0.4f}\".format(cm[i, j]),\n",
        "                     horizontalalignment=\"center\",\n",
        "                     color=\"white\" if cm[i, j] > thresh else \"black\")\n",
        "        else:\n",
        "            plt.text(j, i, \"{:,}\".format(cm[i, j]),\n",
        "                     horizontalalignment=\"center\",\n",
        "                     color=\"white\" if cm[i, j] > thresh else \"black\")\n",
        "\n",
        "\n",
        "    plt.tight_layout()\n",
        "    plt.ylabel('True label')\n",
        "    plt.xlabel('Predicted label\\naccuracy={:0.4f}; misclass={:0.4f}'.format(accuracy, misclass))\n",
        "    plt.show()"
      ],
      "metadata": {
        "id": "L2ACVIJEycZw"
      },
      "execution_count": null,
      "outputs": []
    },
    {
      "cell_type": "code",
      "source": [
        "import numpy as np\n",
        "from sklearn.metrics import classification_report, confusion_matrix\n",
        "def results_for(model_file,\n",
        "                data_generator,\n",
        "                caption ):\n",
        "    model = tf.keras.models.load_model(model_file)\n",
        "    test_loss, test_acc = model.evaluate_generator(data_generator)\n",
        "    print(caption,' acc:', test_acc)\n",
        "    print(caption,' loss:', test_loss)\n",
        "    # Confusion matrix\n",
        "    num_of_samples=data_generator.samples\n",
        "    batch_size=20\n",
        "    Y_pred = model.predict_generator(data_generator, num_of_samples // batch_size)\n",
        "    y_pred = np.argmax(Y_pred, axis=1)\n",
        "    #print(y_pred)\n",
        "    #print('Confusion Matrix')\n",
        "    cm=confusion_matrix(data_generator.classes, y_pred)\n",
        "    #print(cm)\n",
        "\n",
        "    target_names=data_generator.class_indices.keys()\n",
        "    plot_confusion_matrix(cm,normalize = False,target_names=target_names,title= \"Confusion Matrix\")\n",
        "    print('Classification Report')\n",
        "    print('---------------------')\n",
        "    print(classification_report(data_generator.classes, y_pred, target_names=target_names, digits = 4))\n",
        "\n",
        "    # list the mistaken predictions\n",
        "    if SHOW_MISTAKEN_PREDICTIONS:\n",
        "        print('\\nMistaken predictions')\n",
        "        print('--------------------')\n",
        "        filenames=data_generator.filenames\n",
        "        errors=np.where(y_pred!=data_generator.classes)[0]\n",
        "        error_count=len(errors)\n",
        "        for error in errors:\n",
        "            predicted=list(data_generator.class_indices.keys())[list(data_generator.class_indices.values()).index(y_pred[error])]\n",
        "            print(\"Picture:\",filenames[error],\" Misprediction ==>\", predicted)"
      ],
      "metadata": {
        "id": "xQ7cU6I9yccv"
      },
      "execution_count": null,
      "outputs": []
    },
    {
      "cell_type": "code",
      "source": [
        "test_datagen = ImageDataGenerator(rescale=1./255)\n",
        "test_generator = test_datagen.flow_from_directory(TEST_DIR,target_size=(50, 50),shuffle=False, batch_size=128,class_mode='categorical')\n",
        "\n",
        "results_for('best_model.h5',test_generator,\"Test\")"
      ],
      "metadata": {
        "colab": {
          "base_uri": "https://localhost:8080/",
          "height": 1000
        },
        "id": "a3yzgz2Mycjb",
        "outputId": "e30938e0-244b-4f8f-cf7f-f817a36e824d"
      },
      "execution_count": null,
      "outputs": [
        {
          "output_type": "stream",
          "name": "stdout",
          "text": [
            "Found 459 images belonging to 6 classes.\n"
          ]
        },
        {
          "output_type": "stream",
          "name": "stderr",
          "text": [
            "<ipython-input-35-58d715248bcc>:7: UserWarning: `Model.evaluate_generator` is deprecated and will be removed in a future version. Please use `Model.evaluate`, which supports generators.\n",
            "  test_loss, test_acc = model.evaluate_generator(data_generator)\n"
          ]
        },
        {
          "output_type": "stream",
          "name": "stdout",
          "text": [
            "Test  acc: 0.9869281053543091\n",
            "Test  loss: 0.0673774778842926\n"
          ]
        },
        {
          "output_type": "stream",
          "name": "stderr",
          "text": [
            "<ipython-input-35-58d715248bcc>:13: UserWarning: `Model.predict_generator` is deprecated and will be removed in a future version. Please use `Model.predict`, which supports generators.\n",
            "  Y_pred = model.predict_generator(data_generator, num_of_samples // batch_size)\n",
            "WARNING:tensorflow:Your input ran out of data; interrupting training. Make sure that your dataset or generator can generate at least `steps_per_epoch * epochs` batches (in this case, 22 batches). You may need to use the repeat() function when building your dataset.\n",
            "<ipython-input-34-c0e4107e4cd0>:75: UserWarning: Glyph 4616 (\\N{ETHIOPIC SYLLABLE LA}) missing from current font.\n",
            "  plt.tight_layout()\n",
            "<ipython-input-34-c0e4107e4cd0>:75: UserWarning: Glyph 4632 (\\N{ETHIOPIC SYLLABLE MA}) missing from current font.\n",
            "  plt.tight_layout()\n",
            "<ipython-input-34-c0e4107e4cd0>:75: UserWarning: Glyph 4704 (\\N{ETHIOPIC SYLLABLE BA}) missing from current font.\n",
            "  plt.tight_layout()\n",
            "<ipython-input-34-c0e4107e4cd0>:75: UserWarning: Glyph 4720 (\\N{ETHIOPIC SYLLABLE TA}) missing from current font.\n",
            "  plt.tight_layout()\n",
            "<ipython-input-34-c0e4107e4cd0>:75: UserWarning: Glyph 4752 (\\N{ETHIOPIC SYLLABLE NA}) missing from current font.\n",
            "  plt.tight_layout()\n",
            "<ipython-input-34-c0e4107e4cd0>:75: UserWarning: Glyph 4808 (\\N{ETHIOPIC SYLLABLE WA}) missing from current font.\n",
            "  plt.tight_layout()\n",
            "/usr/local/lib/python3.9/dist-packages/IPython/core/pylabtools.py:128: UserWarning: Glyph 4616 (\\N{ETHIOPIC SYLLABLE LA}) missing from current font.\n",
            "  fig.canvas.print_figure(bytes_io, **kw)\n",
            "/usr/local/lib/python3.9/dist-packages/IPython/core/pylabtools.py:128: UserWarning: Glyph 4632 (\\N{ETHIOPIC SYLLABLE MA}) missing from current font.\n",
            "  fig.canvas.print_figure(bytes_io, **kw)\n",
            "/usr/local/lib/python3.9/dist-packages/IPython/core/pylabtools.py:128: UserWarning: Glyph 4704 (\\N{ETHIOPIC SYLLABLE BA}) missing from current font.\n",
            "  fig.canvas.print_figure(bytes_io, **kw)\n",
            "/usr/local/lib/python3.9/dist-packages/IPython/core/pylabtools.py:128: UserWarning: Glyph 4720 (\\N{ETHIOPIC SYLLABLE TA}) missing from current font.\n",
            "  fig.canvas.print_figure(bytes_io, **kw)\n",
            "/usr/local/lib/python3.9/dist-packages/IPython/core/pylabtools.py:128: UserWarning: Glyph 4752 (\\N{ETHIOPIC SYLLABLE NA}) missing from current font.\n",
            "  fig.canvas.print_figure(bytes_io, **kw)\n",
            "/usr/local/lib/python3.9/dist-packages/IPython/core/pylabtools.py:128: UserWarning: Glyph 4808 (\\N{ETHIOPIC SYLLABLE WA}) missing from current font.\n",
            "  fig.canvas.print_figure(bytes_io, **kw)\n"
          ]
        },
        {
          "output_type": "display_data",
          "data": {
            "text/plain": [
              "<Figure size 576x432 with 2 Axes>"
            ],
            "image/png": "[encoded data removed]"
          },
          "metadata": {
            "needs_background": "light"
          }
        },
        {
          "output_type": "stream",
          "name": "stdout",
          "text": [
            "Classification Report\n",
            "---------------------\n",
            "              precision    recall  f1-score   support\n",
            "\n",
            "           ለ     1.0000    1.0000    1.0000        69\n",
            "           መ     0.9886    0.9886    0.9886        88\n",
            "           በ     0.9773    1.0000    0.9885        86\n",
            "           ተ     0.9733    0.9865    0.9799        74\n",
            "           ነ     0.9880    0.9880    0.9880        83\n",
            "           ወ     1.0000    0.9492    0.9739        59\n",
            "\n",
            "    accuracy                         0.9869       459\n",
            "   macro avg     0.9879    0.9854    0.9865       459\n",
            "weighted avg     0.9871    0.9869    0.9869       459\n",
            "\n",
            "\n",
            "Mistaken predictions\n",
            "--------------------\n",
            "Picture: መ/መ (48).jpg  Misprediction ==> ተ\n",
            "Picture: ተ/ተ (69).jpg  Misprediction ==> ነ\n",
            "Picture: ነ/ነ (42).jpg  Misprediction ==> ተ\n",
            "Picture: ወ/ወ (10).jpg  Misprediction ==> በ\n",
            "Picture: ወ/ወ (19).jpg  Misprediction ==> በ\n",
            "Picture: ወ/ወ (6).jpg  Misprediction ==> መ\n"
          ]
        }
      ]
    },
    {
      "cell_type": "code",
      "source": [
        "results_for('best_model.h5',validation_generator,\"Validation\")"
      ],
      "metadata": {
        "colab": {
          "base_uri": "https://localhost:8080/",
          "height": 1000
        },
        "id": "CG-YziBZydvU",
        "outputId": "87d75f60-a528-46aa-ee95-60be5771a439"
      },
      "execution_count": null,
      "outputs": [
        {
          "output_type": "stream",
          "name": "stderr",
          "text": [
            "<ipython-input-35-58d715248bcc>:7: UserWarning: `Model.evaluate_generator` is deprecated and will be removed in a future version. Please use `Model.evaluate`, which supports generators.\n",
            "  test_loss, test_acc = model.evaluate_generator(data_generator)\n"
          ]
        },
        {
          "output_type": "stream",
          "name": "stdout",
          "text": [
            "Validation  acc: 0.9934924244880676\n",
            "Validation  loss: 0.06644852459430695\n"
          ]
        },
        {
          "output_type": "stream",
          "name": "stderr",
          "text": [
            "<ipython-input-35-58d715248bcc>:13: UserWarning: `Model.predict_generator` is deprecated and will be removed in a future version. Please use `Model.predict`, which supports generators.\n",
            "  Y_pred = model.predict_generator(data_generator, num_of_samples // batch_size)\n",
            "WARNING:tensorflow:Your input ran out of data; interrupting training. Make sure that your dataset or generator can generate at least `steps_per_epoch * epochs` batches (in this case, 23 batches). You may need to use the repeat() function when building your dataset.\n",
            "<ipython-input-34-c0e4107e4cd0>:75: UserWarning: Glyph 4616 (\\N{ETHIOPIC SYLLABLE LA}) missing from current font.\n",
            "  plt.tight_layout()\n",
            "<ipython-input-34-c0e4107e4cd0>:75: UserWarning: Glyph 4632 (\\N{ETHIOPIC SYLLABLE MA}) missing from current font.\n",
            "  plt.tight_layout()\n",
            "<ipython-input-34-c0e4107e4cd0>:75: UserWarning: Glyph 4704 (\\N{ETHIOPIC SYLLABLE BA}) missing from current font.\n",
            "  plt.tight_layout()\n",
            "<ipython-input-34-c0e4107e4cd0>:75: UserWarning: Glyph 4720 (\\N{ETHIOPIC SYLLABLE TA}) missing from current font.\n",
            "  plt.tight_layout()\n",
            "<ipython-input-34-c0e4107e4cd0>:75: UserWarning: Glyph 4752 (\\N{ETHIOPIC SYLLABLE NA}) missing from current font.\n",
            "  plt.tight_layout()\n",
            "<ipython-input-34-c0e4107e4cd0>:75: UserWarning: Glyph 4808 (\\N{ETHIOPIC SYLLABLE WA}) missing from current font.\n",
            "  plt.tight_layout()\n",
            "/usr/local/lib/python3.9/dist-packages/IPython/core/pylabtools.py:128: UserWarning: Glyph 4616 (\\N{ETHIOPIC SYLLABLE LA}) missing from current font.\n",
            "  fig.canvas.print_figure(bytes_io, **kw)\n",
            "/usr/local/lib/python3.9/dist-packages/IPython/core/pylabtools.py:128: UserWarning: Glyph 4632 (\\N{ETHIOPIC SYLLABLE MA}) missing from current font.\n",
            "  fig.canvas.print_figure(bytes_io, **kw)\n",
            "/usr/local/lib/python3.9/dist-packages/IPython/core/pylabtools.py:128: UserWarning: Glyph 4704 (\\N{ETHIOPIC SYLLABLE BA}) missing from current font.\n",
            "  fig.canvas.print_figure(bytes_io, **kw)\n",
            "/usr/local/lib/python3.9/dist-packages/IPython/core/pylabtools.py:128: UserWarning: Glyph 4720 (\\N{ETHIOPIC SYLLABLE TA}) missing from current font.\n",
            "  fig.canvas.print_figure(bytes_io, **kw)\n",
            "/usr/local/lib/python3.9/dist-packages/IPython/core/pylabtools.py:128: UserWarning: Glyph 4752 (\\N{ETHIOPIC SYLLABLE NA}) missing from current font.\n",
            "  fig.canvas.print_figure(bytes_io, **kw)\n",
            "/usr/local/lib/python3.9/dist-packages/IPython/core/pylabtools.py:128: UserWarning: Glyph 4808 (\\N{ETHIOPIC SYLLABLE WA}) missing from current font.\n",
            "  fig.canvas.print_figure(bytes_io, **kw)\n"
          ]
        },
        {
          "output_type": "display_data",
          "data": {
            "text/plain": [
              "<Figure size 576x432 with 2 Axes>"
            ],
            "image/png": "[encoded data removed]"
          },
          "metadata": {
            "needs_background": "light"
          }
        },
        {
          "output_type": "stream",
          "name": "stdout",
          "text": [
            "Classification Report\n",
            "---------------------\n",
            "              precision    recall  f1-score   support\n",
            "\n",
            "           ለ     0.9859    1.0000    0.9929        70\n",
            "           መ     0.9780    1.0000    0.9889        89\n",
            "           በ     1.0000    1.0000    1.0000        86\n",
            "           ተ     1.0000    1.0000    1.0000        73\n",
            "           ነ     1.0000    1.0000    1.0000        84\n",
            "           ወ     1.0000    0.9492    0.9739        59\n",
            "\n",
            "    accuracy                         0.9935       461\n",
            "   macro avg     0.9940    0.9915    0.9926       461\n",
            "weighted avg     0.9936    0.9935    0.9934       461\n",
            "\n",
            "\n",
            "Mistaken predictions\n",
            "--------------------\n",
            "Picture: ወ/ወ (24).jpg  Misprediction ==> ለ\n",
            "Picture: ወ/ወ (49).jpg  Misprediction ==> መ\n",
            "Picture: ወ/ወ (53).jpg  Misprediction ==> መ\n"
          ]
        }
      ]
    }
  ]
}