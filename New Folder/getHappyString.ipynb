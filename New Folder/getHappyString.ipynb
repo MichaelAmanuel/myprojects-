{
  "nbformat": 4,
  "nbformat_minor": 0,
  "metadata": {
    "colab": {
      "provenance": []
    },
    "kernelspec": {
      "name": "python3",
      "display_name": "Python 3"
    },
    "language_info": {
      "name": "python"
    }
  },
  "cells": [
    {
      "cell_type": "code",
      "execution_count": 2,
      "metadata": {
        "id": "kQjWvHzXch44",
        "colab": {
          "base_uri": "https://localhost:8080/"
        },
        "outputId": "e36954f0-9e6f-40f8-d83a-df6610a26c1c"
      },
      "outputs": [
        {
          "output_type": "stream",
          "name": "stdout",
          "text": [
            "4\n"
          ]
        }
      ],
      "source": [
        "class Solution(object):\n",
        "    def getHappyString(self, n, k):\n",
        "\n",
        "        happy_strings = []\n",
        "\n",
        "        def backtrack(curr):\n",
        "            if len(curr) == n:\n",
        "                happy_strings.append(curr)\n",
        "                return\n",
        "            for ch in 'abc':\n",
        "                if not curr or curr[-1] != ch:\n",
        "                    backtrack(curr + ch)\n",
        "\n",
        "        backtrack(\"\")\n",
        "\n",
        "        return happy_strings[k - 1] if k <= len(happy_strings) else \"\"\n",
        "\n",
        "solution = Solution()\n",
        "print(solution.getHappyString(1, 3))\n",
        "print(solution.getHappyString(1, 4))\n",
        "print(solution.getHappyString(3, 9))\n"
      ]
    },
    {
      "cell_type": "code",
      "source": [],
      "metadata": {
        "id": "roULjd7SXK2j"
      },
      "execution_count": null,
      "outputs": []
    }
  ]
}