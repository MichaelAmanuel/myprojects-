{
  "nbformat": 4,
  "nbformat_minor": 0,
  "metadata": {
    "colab": {
      "provenance": []
    },
    "kernelspec": {
      "name": "python3",
      "display_name": "Python 3"
    },
    "language_info": {
      "name": "python"
    }
  },
  "cells": [
    {
      "cell_type": "code",
      "execution_count": 16,
      "metadata": {
        "colab": {
          "base_uri": "https://localhost:8080/"
        },
        "id": "ZSu-3lbG3nC8",
        "outputId": "6b45821b-a263-48ee-970f-01b1a5a1d8b1"
      },
      "outputs": [
        {
          "output_type": "stream",
          "name": "stdout",
          "text": [
            "Hello how are you\n"
          ]
        }
      ],
      "source": [
        "class Solution(object):\n",
        "    def truncateSentence(self, s, k):\n",
        "\n",
        "      ss = s.split(\" \")\n",
        "      result = ss[0]\n",
        "      for i in range(1, k):\n",
        "        result = result + \" \" + ss[i]\n",
        "\n",
        "      return result\n",
        "\n",
        "solution = Solution()\n",
        "s = \"Hello how are you Contestant\"\n",
        "k = 4\n",
        "print(solution.truncateSentence(s, k))"
      ]
    }
  ]
}