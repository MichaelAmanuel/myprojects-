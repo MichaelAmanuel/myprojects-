{
  "nbformat": 4,
  "nbformat_minor": 0,
  "metadata": {
    "colab": {
      "provenance": []
    },
    "kernelspec": {
      "name": "python3",
      "display_name": "Python 3"
    },
    "language_info": {
      "name": "python"
    }
  },
  "cells": [
    {
      "cell_type": "code",
      "execution_count": null,
      "metadata": {
        "id": "kQjWvHzXch44"
      },
      "outputs": [],
      "source": [
        "class Solution(object):\n",
        "    def minimumRecolors(self, blocks, k):\n",
        "        min_operations = float('inf')\n",
        "        current_white_count = sum(1 for i in range(k) if blocks[i] == 'W')\n",
        "\n",
        "        min_operations = min(min_operations, current_white_count)\n",
        "\n",
        "        for i in range(k, len(blocks)):\n",
        "            if blocks[i - k] == 'W':\n",
        "                current_white_count -= 1\n",
        "            if blocks[i] == 'W':\n",
        "                current_white_count += 1\n",
        "\n",
        "            min_operations = min(min_operations, current_white_count)\n",
        "\n",
        "        return min_operations\n"
      ]
    },
    {
      "cell_type": "code",
      "source": [],
      "metadata": {
        "id": "HhjYAmsPmpz5"
      },
      "execution_count": null,
      "outputs": []
    }
  ]
}