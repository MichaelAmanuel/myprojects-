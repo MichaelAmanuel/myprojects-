{
  "nbformat": 4,
  "nbformat_minor": 0,
  "metadata": {
    "colab": {
      "provenance": []
    },
    "kernelspec": {
      "name": "python3",
      "display_name": "Python 3"
    },
    "language_info": {
      "name": "python"
    }
  },
  "cells": [
    {
      "cell_type": "code",
      "execution_count": null,
      "metadata": {
        "id": "btKex4bHZ2eW"
      },
      "outputs": [],
      "source": [
        "class Solution(object):\n",
        "    def findNonMinOrMax(self, nums):\n",
        "      num = sorted(nums)\n",
        "\n",
        "      for i in num:\n",
        "        if i is not num[0] and i!=num[len(num)-1]:\n",
        "          return i\n",
        "      else:\n",
        "        return -1\n",
        "\n",
        "solution = Solution()\n",
        "nums = [1,3, 2]\n",
        "print(solution.findNonMinOrMax(nums))"
      ]
    }
  ]
}