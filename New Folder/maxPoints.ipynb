{
  "nbformat": 4,
  "nbformat_minor": 0,
  "metadata": {
    "colab": {
      "provenance": []
    },
    "kernelspec": {
      "name": "python3",
      "display_name": "Python 3"
    },
    "language_info": {
      "name": "python"
    }
  },
  "cells": [
    {
      "cell_type": "code",
      "execution_count": null,
      "metadata": {
        "id": "kQjWvHzXch44",
        "colab": {
          "base_uri": "https://localhost:8080/"
        },
        "outputId": "d2501bef-d495-4ef1-bd7d-671e37c016d1"
      },
      "outputs": [
        {
          "output_type": "stream",
          "name": "stdout",
          "text": [
            "5\n",
            "12\n",
            "24\n"
          ]
        }
      ],
      "source": [
        "class Solution(object):\n",
        "    def maxPoints(self, points):\n",
        "        m, n = len(points), len(points[0])\n",
        "        prev_row = points[0]\n",
        "\n",
        "        for r in range(1, m):\n",
        "            left = [0] * n\n",
        "            right = [0] * n\n",
        "\n",
        "            left[0] = prev_row[0]\n",
        "            for c in range(1, n):\n",
        "                left[c] = max(left[c - 1] - 1, prev_row[c])\n",
        "\n",
        "            right[-1] = prev_row[-1]\n",
        "            for c in range(n - 2, -1, -1):\n",
        "                right[c] = max(right[c + 1] - 1, prev_row[c])\n",
        "\n",
        "            current_row = [0] * n\n",
        "            for c in range(n):\n",
        "                current_row[c] = points[r][c] + max(left[c], right[c])\n",
        "\n",
        "            prev_row = current_row\n",
        "\n",
        "        return max(prev_row)"
      ]
    }
  ]
}