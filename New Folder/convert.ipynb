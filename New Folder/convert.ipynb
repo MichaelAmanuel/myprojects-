{
  "nbformat": 4,
  "nbformat_minor": 0,
  "metadata": {
    "colab": {
      "provenance": []
    },
    "kernelspec": {
      "name": "python3",
      "display_name": "Python 3"
    },
    "language_info": {
      "name": "python"
    }
  },
  "cells": [
    {
      "cell_type": "code",
      "execution_count": null,
      "metadata": {
        "colab": {
          "base_uri": "https://localhost:8080/"
        },
        "id": "Oy_UAcuqghQs",
        "outputId": "f751a92a-a145-4077-d1d6-a0ea036aede5"
      },
      "outputs": [
        {
          "output_type": "stream",
          "name": "stdout",
          "text": [
            "0\n"
          ]
        }
      ],
      "source": [
        "class Solution:\n",
        "    def convert(self, s, numRows) :\n",
        "        if numRows == 1 or numRows >= len(s):\n",
        "            return s\n",
        "\n",
        "        rows = [''] * numRows\n",
        "        current_row = 0\n",
        "        going_down = False\n",
        "\n",
        "        for char in s:\n",
        "            rows[current_row] += char\n",
        "            if current_row == 0 or current_row == numRows - 1:\n",
        "                going_down = not going_down\n",
        "            current_row += 1 if going_down else -1\n",
        "\n",
        "        return ''.join(rows)\n",
        "\n",
        "# Example usage:\n",
        "solution = Solution()\n",
        "print(solution.convert(\"PAYPALISHIRING\", 3))"
      ]
    }
  ]
}