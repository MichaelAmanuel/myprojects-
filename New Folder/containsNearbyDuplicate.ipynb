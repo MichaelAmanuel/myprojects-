{
  "nbformat": 4,
  "nbformat_minor": 0,
  "metadata": {
    "colab": {
      "provenance": []
    },
    "kernelspec": {
      "name": "python3",
      "display_name": "Python 3"
    },
    "language_info": {
      "name": "python"
    }
  },
  "cells": [
    {
      "cell_type": "code",
      "execution_count": 5,
      "metadata": {
        "colab": {
          "base_uri": "https://localhost:8080/"
        },
        "id": "HhuJXT9n_PWA",
        "outputId": "df176268-1d57-49a6-c0e1-c54084b1b2f1"
      },
      "outputs": [
        {
          "output_type": "stream",
          "name": "stdout",
          "text": [
            "False\n"
          ]
        }
      ],
      "source": [
        "class Solution(object):\n",
        "    def containsNearbyDuplicate(self, nums, k):\n",
        "\n",
        "      for i in range(len(nums)):\n",
        "        for j in range(i +1, len(nums)):\n",
        "          if nums[i] == nums[j] and abs(i - j) <= k:\n",
        "            return True\n",
        "\n",
        "      return False\n",
        "\n",
        "solution = Solution()\n",
        "nums = [1,2,3,1,2,3]\n",
        "k = 2\n",
        "print(solution.containsNearbyDuplicate(nums, k))\n"
      ]
    },
    {
      "cell_type": "code",
      "source": [
        "class Solution(object):\n",
        "    def containsNearbyDuplicate(self, nums, k):\n",
        "        num_indices = {}\n",
        "\n",
        "        for i, num in enumerate(nums):\n",
        "            if num in num_indices and i - num_indices[num] <= k:\n",
        "                return True\n",
        "            num_indices[num] = i\n",
        "\n",
        "        return False\n",
        "\n",
        "solution = Solution()\n",
        "nums = [1, 2, 3, 1, 2, 3]\n",
        "k = 2\n",
        "print(solution.containsNearbyDuplicate(nums, k))\n"
      ],
      "metadata": {
        "colab": {
          "base_uri": "https://localhost:8080/"
        },
        "id": "sKn8a51Y__1e",
        "outputId": "7e28b848-a4cd-45ef-a6fd-367f88037977"
      },
      "execution_count": 6,
      "outputs": [
        {
          "output_type": "stream",
          "name": "stdout",
          "text": [
            "False\n"
          ]
        }
      ]
    }
  ]
}