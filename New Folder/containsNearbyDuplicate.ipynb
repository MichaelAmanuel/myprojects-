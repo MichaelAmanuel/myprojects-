{
  "nbformat": 4,
  "nbformat_minor": 0,
  "metadata": {
    "colab": {
      "provenance": []
    },
    "kernelspec": {
      "name": "python3",
      "display_name": "Python 3"
    },
    "language_info": {
      "name": "python"
    }
  },
  "cells": [
    {
      "cell_type": "code",
      "execution_count": 6,
      "metadata": {
        "colab": {
          "base_uri": "https://localhost:8080/"
        },
        "id": "IkMfn2NlNm91",
        "outputId": "5de5474f-7d1c-4bbc-9aa2-aca6912aa93b"
      },
      "outputs": [
        {
          "output_type": "stream",
          "name": "stdout",
          "text": [
            "True\n"
          ]
        }
      ],
      "source": [
        "class Solution(object):\n",
        "    def containsDuplicate(self, nums):\n",
        "      for i in range(len(nums)):\n",
        "        for j in range(i+1, len(nums)):\n",
        "          if nums[i] == nums[j]:\n",
        "            return True\n",
        "      return False\n",
        "\n",
        "solution = Solution()\n",
        "nums = [3, 3]\n",
        "print(solution.containsDuplicate(nums))"
      ]
    },
    {
      "cell_type": "code",
      "source": [
        "class Solution(object):\n",
        "    def containsDuplicate(self, nums):\n",
        "      num = set(nums)\n",
        "\n",
        "      if len(num) != len(nums):\n",
        "        return True\n",
        "      else:\n",
        "       return False\n",
        "\n",
        "solution = Solution()\n",
        "nums = [3, 3]\n",
        "print(solution.containsDuplicate(nums))"
      ],
      "metadata": {
        "colab": {
          "base_uri": "https://localhost:8080/"
        },
        "id": "BOgR0tuOPBqb",
        "outputId": "81d3c092-4df6-4190-f505-14f73e75df44"
      },
      "execution_count": 8,
      "outputs": [
        {
          "output_type": "stream",
          "name": "stdout",
          "text": [
            "True\n"
          ]
        }
      ]
    },
    {
      "cell_type": "code",
      "source": [
        "class Solution(object):\n",
        "    def containsDuplicate(self, nums):\n",
        "      # num = set(nums)\n",
        "\n",
        "      if len(set(nums)) == len(nums):\n",
        "        return False\n",
        "      else:\n",
        "       return True\n",
        "\n",
        "solution = Solution()\n",
        "nums = [3, 3]\n",
        "print(solution.containsDuplicate(nums))"
      ],
      "metadata": {
        "colab": {
          "base_uri": "https://localhost:8080/"
        },
        "id": "UcAi2pJDPXsO",
        "outputId": "9569a495-ee96-44de-8419-fbc5a87eef23"
      },
      "execution_count": 10,
      "outputs": [
        {
          "output_type": "stream",
          "name": "stdout",
          "text": [
            "True\n"
          ]
        }
      ]
    },
    {
      "cell_type": "code",
      "source": [
        "nums = [1,2,3,1]\n",
        "k = 3\n",
        "\n",
        "for i in range(len(nums)):\n",
        "  for j in range(len(nums)-1, -1, -1):\n",
        "    if nums[i] == nums[j] and abs(i-j)<=k:\n",
        "      print(True)\n",
        "      break\n",
        "  break\n",
        "print(False)"
      ],
      "metadata": {
        "colab": {
          "base_uri": "https://localhost:8080/"
        },
        "id": "SuoDqldyQMQc",
        "outputId": "1441df0b-a568-44ac-c2fc-9cfb3218c2db"
      },
      "execution_count": 12,
      "outputs": [
        {
          "output_type": "stream",
          "name": "stdout",
          "text": [
            "True\n",
            "False\n"
          ]
        }
      ]
    },
    {
      "cell_type": "code",
      "source": [
        "class Solution(object):\n",
        "    def containsNearbyDuplicate(self, nums, k):\n",
        "      for i in range(len(nums)):\n",
        "        for j in range(i+1, len(nums)):\n",
        "          if nums[i] == nums[j] and abs(i-j)<=k:\n",
        "            return True\n",
        "\n",
        "      return False\n",
        "\n",
        "solution = Solution()\n",
        "nums = [1,2,3,1,2,3]\n",
        "k = 2\n",
        "print(solution.containsNearbyDuplicate(nums, k))"
      ],
      "metadata": {
        "colab": {
          "base_uri": "https://localhost:8080/"
        },
        "id": "glihbrdUQxH8",
        "outputId": "5f1238e9-58a8-44a1-e529-82b6b833d37f"
      },
      "execution_count": 16,
      "outputs": [
        {
          "output_type": "stream",
          "name": "stdout",
          "text": [
            "False\n"
          ]
        }
      ]
    }
  ]
}