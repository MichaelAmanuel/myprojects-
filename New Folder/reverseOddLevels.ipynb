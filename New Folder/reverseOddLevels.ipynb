{
  "nbformat": 4,
  "nbformat_minor": 0,
  "metadata": {
    "colab": {
      "provenance": []
    },
    "kernelspec": {
      "name": "python3",
      "display_name": "Python 3"
    },
    "language_info": {
      "name": "python"
    }
  },
  "cells": [
    {
      "cell_type": "code",
      "execution_count": 1,
      "metadata": {
        "id": "kQjWvHzXch44",
        "colab": {
          "base_uri": "https://localhost:8080/"
        },
        "outputId": "50e14a69-7a1a-437e-be44-e1ade4c7db4d"
      },
      "outputs": [
        {
          "output_type": "stream",
          "name": "stdout",
          "text": [
            "zzcacc\n",
            "bbab\n"
          ]
        }
      ],
      "source": [
        "class Solution:\n",
        "    def reverseOddLevels(self, root):\n",
        "        if not root:\n",
        "            return None\n",
        "\n",
        "        queue = [root]\n",
        "        level = 0\n",
        "\n",
        "        while queue:\n",
        "            level_size = len(queue)\n",
        "            current_level = [node for node in queue]\n",
        "\n",
        "            if level % 2 == 1:\n",
        "                values = [node.val for node in current_level]\n",
        "                reversed_values = values[::-1]\n",
        "                for i, node in enumerate(current_level):\n",
        "                    node.val = reversed_values[i]\n",
        "\n",
        "            for _ in range(level_size):\n",
        "                node = queue.pop(0)\n",
        "                if node.left:\n",
        "                    queue.append(node.left)\n",
        "                if node.right:\n",
        "                    queue.append(node.right)\n",
        "\n",
        "            level += 1\n",
        "\n",
        "        return root\n",
        "\n"
      ]
    }
  ]
}