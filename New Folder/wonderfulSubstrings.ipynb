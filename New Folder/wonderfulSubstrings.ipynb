{
  "nbformat": 4,
  "nbformat_minor": 0,
  "metadata": {
    "colab": {
      "provenance": []
    },
    "kernelspec": {
      "name": "python3",
      "display_name": "Python 3"
    },
    "language_info": {
      "name": "python"
    }
  },
  "cells": [
    {
      "cell_type": "code",
      "execution_count": 1,
      "metadata": {
        "colab": {
          "base_uri": "https://localhost:8080/"
        },
        "id": "FgS8TRhevjAZ",
        "outputId": "a7b163c2-a608-4c0d-ffa0-e9f5106eafb5"
      },
      "outputs": [
        {
          "output_type": "stream",
          "name": "stdout",
          "text": [
            "77\n"
          ]
        }
      ],
      "source": [
        "class Solution:\n",
        "    def wonderfulSubstrings(self, word):\n",
        "        count = {char: 0 for char in \"abcdefghij\"}\n",
        "        odd_count = 0\n",
        "        even_count = 1\n",
        "        result = 0\n",
        "        n = len(word)\n",
        "        prefix = 0\n",
        "\n",
        "        for i in range(n):\n",
        "            count[word[i]] += 1\n",
        "            if count[word[i]] % 2 == 0:\n",
        "                odd_count -= 1\n",
        "                even_count += 1\n",
        "            else:\n",
        "                odd_count += 1\n",
        "\n",
        "            prefix ^= 1 << (ord(word[i]) - ord('a'))\n",
        "            result += bin(prefix).count('1') - (odd_count > 1)\n",
        "\n",
        "            for j in range(10):\n",
        "                result += bin(prefix ^ (1 << j)).count('1') - (odd_count > 1)\n",
        "\n",
        "        return result\n",
        "\n",
        "\n",
        "solution = Solution()\n",
        "word = \"ccjjc\"\n",
        "print(solution.wonderfulSubstrings(word))\n"
      ]
    }
  ]
}