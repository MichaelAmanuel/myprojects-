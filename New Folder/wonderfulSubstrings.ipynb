{
  "nbformat": 4,
  "nbformat_minor": 0,
  "metadata": {
    "colab": {
      "provenance": []
    },
    "kernelspec": {
      "name": "python3",
      "display_name": "Python 3"
    },
    "language_info": {
      "name": "python"
    }
  },
  "cells": [
    {
      "cell_type": "code",
      "execution_count": 5,
      "metadata": {
        "colab": {
          "base_uri": "https://localhost:8080/"
        },
        "id": "aVznhu9fnnGt",
        "outputId": "511a06c2-3e87-4622-bc24-1414b8209692"
      },
      "outputs": [
        {
          "output_type": "stream",
          "name": "stdout",
          "text": [
            "13\n"
          ]
        }
      ],
      "source": [
        "class Solution(object):\n",
        "    def wonderfulSubstrings(self, word):\n",
        "      count = 0\n",
        "      n = len(word)\n",
        "      for i in range(n):\n",
        "          freq = [0] * 10\n",
        "          odd_count = 0\n",
        "          for j in range(i, n):\n",
        "              index = ord(word[j]) - ord('a')\n",
        "              freq[index] += 1\n",
        "              if freq[index] % 2 == 1:\n",
        "                  odd_count += 1\n",
        "              else:\n",
        "                  odd_count -= 1\n",
        "              if odd_count <= 1:\n",
        "                  count += 1\n",
        "      return count\n",
        "\n",
        "solution = Solution()\n",
        "word = \"ccjjc\"\n",
        "print(solution.wonderfulSubstrings(word))"
      ]
    },
    {
      "cell_type": "code",
      "source": [
        "class Solution(object):\n",
        "    def wonderfulSubstrings(self, word):\n",
        "        count = 0\n",
        "        n = len(word)\n",
        "        for i in range(n):\n",
        "            freq = [0] * 10\n",
        "            odd_count = 0\n",
        "            for j in range(i, n):\n",
        "                index = ord(word[j]) - ord('a')\n",
        "                freq[index] += 1\n",
        "                odd_count += 1 if freq[index] % 2 == 1 else -1\n",
        "                if odd_count <= 1:\n",
        "                    count += 1\n",
        "        return count\n",
        "\n",
        "solution = Solution()\n",
        "word = \"ccjjc\"\n",
        "print(solution.wonderfulSubstrings(word))\n"
      ],
      "metadata": {
        "colab": {
          "base_uri": "https://localhost:8080/"
        },
        "id": "oiKQ0sf4oDZ3",
        "outputId": "73241ce6-5a79-46ba-b84c-16d2b81e2e4f"
      },
      "execution_count": 6,
      "outputs": [
        {
          "output_type": "stream",
          "name": "stdout",
          "text": [
            "13\n"
          ]
        }
      ]
    }
  ]
}