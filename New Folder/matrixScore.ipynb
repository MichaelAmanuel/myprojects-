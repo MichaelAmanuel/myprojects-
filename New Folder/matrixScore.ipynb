{
  "nbformat": 4,
  "nbformat_minor": 0,
  "metadata": {
    "colab": {
      "provenance": []
    },
    "kernelspec": {
      "name": "python3",
      "display_name": "Python 3"
    },
    "language_info": {
      "name": "python"
    }
  },
  "cells": [
    {
      "cell_type": "code",
      "execution_count": 1,
      "metadata": {
        "colab": {
          "base_uri": "https://localhost:8080/"
        },
        "id": "lVMW1yU-gDa4",
        "outputId": "ccebd333-45f5-4def-be04-9776f8977572"
      },
      "outputs": [
        {
          "output_type": "stream",
          "name": "stdout",
          "text": [
            "39\n"
          ]
        }
      ],
      "source": [
        "class Solution(object):\n",
        "    def matrixScore(self, grid):\n",
        "        m, n = len(grid), len(grid[0])\n",
        "\n",
        "        for i in range(m):\n",
        "            if grid[i][0] == 0:\n",
        "                for j in range(n):\n",
        "                    grid[i][j] ^= 1\n",
        "\n",
        "        for j in range(1, n):\n",
        "            ones_count = sum(grid[i][j] for i in range(m))\n",
        "            if ones_count < m - ones_count:\n",
        "                for i in range(m):\n",
        "                    grid[i][j] ^= 1\n",
        "\n",
        "        total_score = 0\n",
        "        for i in range(m):\n",
        "            row_value = 0\n",
        "            for j in range(n):\n",
        "                row_value = (row_value << 1) | grid[i][j]\n",
        "            total_score += row_value\n",
        "\n",
        "        return total_score\n",
        "\n",
        "solution = Solution()\n",
        "grid = [[0,0,1,1],[1,0,1,0],[1,1,0,0]]\n",
        "sol = Solution()\n",
        "print(sol.matrixScore(grid))"
      ]
    }
  ]
}