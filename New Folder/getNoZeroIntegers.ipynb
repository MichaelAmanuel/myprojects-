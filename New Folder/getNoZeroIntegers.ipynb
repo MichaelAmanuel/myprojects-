{
  "nbformat": 4,
  "nbformat_minor": 0,
  "metadata": {
    "colab": {
      "provenance": []
    },
    "kernelspec": {
      "name": "python3",
      "display_name": "Python 3"
    },
    "language_info": {
      "name": "python"
    }
  },
  "cells": [
    {
      "cell_type": "code",
      "source": [
        "class Solution(object):\n",
        "    def getNoZeroIntegers(self, n):\n",
        "\n",
        "      o = []\n",
        "\n",
        "      for i in range(1,n):\n",
        "        if '0' not in str(i):\n",
        "          for j in range(1,n):\n",
        "            if (i + j) == n and '0' not in str(j):\n",
        "              o.append(i)\n",
        "              o.append(j)\n",
        "\n",
        "              return o\n",
        "\n",
        "solution = Solution()\n",
        "n = 11\n",
        "print(solution.getNoZeroIntegers(n))"
      ],
      "metadata": {
        "colab": {
          "base_uri": "https://localhost:8080/"
        },
        "id": "H31dG1HXKg3v",
        "outputId": "94175da6-5318-49f7-f195-42420f7071c4"
      },
      "execution_count": 12,
      "outputs": [
        {
          "output_type": "stream",
          "name": "stdout",
          "text": [
            "[2, 9]\n"
          ]
        }
      ]
    },
    {
      "cell_type": "code",
      "source": [
        "class Solution(object):\n",
        "    def getNoZeroIntegers(self, n):\n",
        "\n",
        "      o = []\n",
        "\n",
        "      for i in range(1,n):\n",
        "      # if '0' not in str(i):\n",
        "        for j in range(1,n):\n",
        "          if (i + j) == n and '0' not in str(j) and '0' not in str(i):\n",
        "            o.append(i)\n",
        "            o.append(j)\n",
        "\n",
        "            return o\n",
        "\n",
        "solution = Solution()\n",
        "n = 11\n",
        "print(solution.getNoZeroIntegers(n))"
      ],
      "metadata": {
        "colab": {
          "base_uri": "https://localhost:8080/"
        },
        "id": "pbmrW0vQK9hG",
        "outputId": "2bf45b5c-f209-4e69-8d95-7d57a869a493"
      },
      "execution_count": 14,
      "outputs": [
        {
          "output_type": "stream",
          "name": "stdout",
          "text": [
            "[2, 9]\n"
          ]
        }
      ]
    }
  ]
}