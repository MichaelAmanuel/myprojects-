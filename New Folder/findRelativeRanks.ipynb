{
  "nbformat": 4,
  "nbformat_minor": 0,
  "metadata": {
    "colab": {
      "provenance": []
    },
    "kernelspec": {
      "name": "python3",
      "display_name": "Python 3"
    },
    "language_info": {
      "name": "python"
    }
  },
  "cells": [
    {
      "cell_type": "code",
      "execution_count": 15,
      "metadata": {
        "colab": {
          "base_uri": "https://localhost:8080/"
        },
        "id": "wAhQnox2H_P-",
        "outputId": "16dda4ba-0fe6-4590-f2fa-af09ca3eb8c5"
      },
      "outputs": [
        {
          "output_type": "stream",
          "name": "stdout",
          "text": [
            "['Gold Medal', '5', 'Bronze Medal', 'Silver Medal', '4']\n"
          ]
        }
      ],
      "source": [
        "class Solution(object):\n",
        "    def findRelativeRanks(self, score):\n",
        "\n",
        "      sorted_score = sorted(score, reverse=True)\n",
        "\n",
        "      price = [\"Gold Medal\",\"Silver Medal\",\"Bronze Medal\"]\n",
        "      for k in range(4,len(score)+1):\n",
        "        price.append(str(k))\n",
        "\n",
        "      for i in range(len(sorted_score)):\n",
        "        re = score.index(sorted_score[i])\n",
        "        score[re] = price[i]\n",
        "\n",
        "      return score\n",
        "\n",
        "solution = Solution()\n",
        "score = [10,3,8,9,4]\n",
        "print(solution.findRelativeRanks(score))"
      ]
    },
    {
      "cell_type": "code",
      "source": [],
      "metadata": {
        "id": "DfNp9qMtKWzM"
      },
      "execution_count": null,
      "outputs": []
    }
  ]
}