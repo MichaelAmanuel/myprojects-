{
  "nbformat": 4,
  "nbformat_minor": 0,
  "metadata": {
    "colab": {
      "provenance": []
    },
    "kernelspec": {
      "name": "python3",
      "display_name": "Python 3"
    },
    "language_info": {
      "name": "python"
    }
  },
  "cells": [
    {
      "cell_type": "code",
      "execution_count": 1,
      "metadata": {
        "colab": {
          "base_uri": "https://localhost:8080/"
        },
        "id": "Oy_UAcuqghQs",
        "outputId": "f751a92a-a145-4077-d1d6-a0ea036aede5"
      },
      "outputs": [
        {
          "output_type": "stream",
          "name": "stdout",
          "text": [
            "0\n"
          ]
        }
      ],
      "source": [
        "class Solution:\n",
        "    def minDifference(self, nums):\n",
        "        if len(nums) <= 4:\n",
        "            return 0\n",
        "\n",
        "        nums.sort()\n",
        "        n = len(nums)\n",
        "\n",
        "        return min(nums[n-1] - nums[3], nums[n-2] - nums[2], nums[n-3] - nums[1], nums[n-4] - nums[0])\n",
        "\n",
        "solution = Solution()\n",
        "nums = [5, 3, 2, 4]\n",
        "print(solution.minDifference(nums))\n"
      ]
    }
  ]
}