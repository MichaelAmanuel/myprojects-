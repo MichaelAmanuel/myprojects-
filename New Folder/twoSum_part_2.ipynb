{
  "nbformat": 4,
  "nbformat_minor": 0,
  "metadata": {
    "colab": {
      "provenance": []
    },
    "kernelspec": {
      "name": "python3",
      "display_name": "Python 3"
    },
    "language_info": {
      "name": "python"
    }
  },
  "cells": [
    {
      "cell_type": "code",
      "execution_count": null,
      "metadata": {
        "colab": {
          "base_uri": "https://localhost:8080/"
        },
        "id": "BVgYSeoqoX5A",
        "outputId": "095b1fba-a188-4e44-e232-b88458fd068a"
      },
      "outputs": [
        {
          "output_type": "stream",
          "name": "stdout",
          "text": [
            "[1, 3]\n"
          ]
        }
      ],
      "source": [
        "class Solution(object):\n",
        "    def twoSum(self, numbers, target):\n",
        "\n",
        "      o_p = []\n",
        "\n",
        "      for i in range(len(numbers)):\n",
        "        for j in range(i+1, len(numbers)):\n",
        "          if numbers[i] + numbers[j] == target:\n",
        "            o_p.append(i+1)\n",
        "            o_p.append(j+1)\n",
        "\n",
        "      return o_p\n",
        "\n",
        "solution = Solution()\n",
        "numbers = [2,3,4]\n",
        "target = 6\n",
        "print(solution.twoSum(numbers, target))"
      ]
    },
    {
      "cell_type": "code",
      "source": [
        "class Solution(object):\n",
        "    def twoSum(self, numbers, target):\n",
        "\n",
        "      o_p = []\n",
        "      for i in range(len(numbers)):\n",
        "        if numbers[i]== 0:\n",
        "          for j in range(i+1, len(numbers)):\n",
        "            if numbers[j] == target:\n",
        "              o_p.append(i+1)\n",
        "              o_p.append(j+1)\n",
        "        else:\n",
        "          for j in range(i+1, len(numbers)):\n",
        "            if numbers[i] + numbers[j] == target:\n",
        "              o_p.append(i+1)\n",
        "              o_p.append(j+1)\n",
        "\n",
        "      return o_p\n",
        "\n",
        "solution = Solution()\n",
        "numbers = [2,3,4]\n",
        "target = 6\n",
        "print(solution.twoSum(numbers, target))"
      ],
      "metadata": {
        "colab": {
          "base_uri": "https://localhost:8080/"
        },
        "id": "iPkMCPblpiwf",
        "outputId": "3265d66f-bdaa-4938-8cc3-52b2c5e4efaa"
      },
      "execution_count": null,
      "outputs": [
        {
          "output_type": "stream",
          "name": "stdout",
          "text": [
            "[1, 3]\n"
          ]
        }
      ]
    },
    {
      "cell_type": "code",
      "source": [
        "class Solution(object):\n",
        "    def twoSum(self, numbers, target):\n",
        "\n",
        "      o_p = []\n",
        "      for i in range(len(numbers)):\n",
        "        if numbers[i]== 0 :\n",
        "          if  (target in numbers):\n",
        "            o_p.append(numbers.index(i)+1)\n",
        "            o_p.append(numbers.index(target)+1)\n",
        "\n",
        "          return o_p\n",
        "\n",
        "        else:\n",
        "          for j in range(i+1, len(numbers)):\n",
        "            if numbers[i] + numbers[j] == target:\n",
        "              o_p.append(i+1)\n",
        "              o_p.append(j+1)\n",
        "              return o_p\n",
        "\n",
        "\n",
        "solution = Solution()\n",
        "numbers = [2,3,4]\n",
        "target = 6\n",
        "print(solution.twoSum(numbers, target))"
      ],
      "metadata": {
        "colab": {
          "base_uri": "https://localhost:8080/"
        },
        "id": "1bGlqc1vrcgv",
        "outputId": "0c9407b0-e943-4b17-802b-8d8b34bcf12f"
      },
      "execution_count": null,
      "outputs": [
        {
          "output_type": "stream",
          "name": "stdout",
          "text": [
            "[1, 3]\n"
          ]
        }
      ]
    },
    {
      "cell_type": "code",
      "source": [
        "class Solution(object):\n",
        "  def twoSum(self, numbers, target):\n",
        "    seen = {}\n",
        "    for i, num in enumerate(numbers):\n",
        "      complement = target - num\n",
        "      if complement in seen:\n",
        "        return [seen[complement], i + 1]\n",
        "      seen[num] = i + 1\n",
        "    return []\n",
        "\n",
        "\n",
        "solution = Solution()\n",
        "numbers = [2, 7, 11, 15]\n",
        "target = 9\n",
        "print(solution.twoSum(numbers, target))\n"
      ],
      "metadata": {
        "colab": {
          "base_uri": "https://localhost:8080/"
        },
        "id": "MxvuPoBOrm9X",
        "outputId": "5455cf4d-1901-4f5c-8884-2877515ca10a"
      },
      "execution_count": null,
      "outputs": [
        {
          "output_type": "stream",
          "name": "stdout",
          "text": [
            "[1, 2]\n"
          ]
        }
      ]
    }
  ]
}