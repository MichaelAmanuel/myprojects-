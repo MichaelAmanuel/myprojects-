{
  "nbformat": 4,
  "nbformat_minor": 0,
  "metadata": {
    "colab": {
      "provenance": []
    },
    "kernelspec": {
      "name": "python3",
      "display_name": "Python 3"
    },
    "language_info": {
      "name": "python"
    }
  },
  "cells": [
    {
      "cell_type": "code",
      "execution_count": 27,
      "metadata": {
        "colab": {
          "base_uri": "https://localhost:8080/"
        },
        "id": "Jv6Dd4DWflQU",
        "outputId": "57703bad-751f-4c17-a02f-67ec02a90a4b"
      },
      "outputs": [
        {
          "output_type": "stream",
          "name": "stdout",
          "text": [
            "-1\n"
          ]
        }
      ],
      "source": [
        "class Solution(object):\n",
        "    def isPrefixOfWord(self, sentence, searchWord):\n",
        "\n",
        "      for i in sentence.split(\" \"):\n",
        "        if i.startswith(searchWord):\n",
        "          return sentence.split(\" \").index(i) + 1\n",
        "\n",
        "      return -1\n",
        "\n",
        "solution = Solution()\n",
        "sentence = \"hellohello hellohellohello\"\n",
        "searchWord = \"ell\"\n",
        "print(solution.isPrefixOfWord(sentence, searchWord))"
      ]
    },
    {
      "cell_type": "code",
      "source": [
        "class Solution(object):\n",
        "    def isPrefixOfWord(self, sentence, searchWord):\n",
        "\n",
        "        for idx, word in enumerate(sentence.split(), start=1):\n",
        "            if word.startswith(searchWord):\n",
        "                return idx\n",
        "        return -1\n",
        "\n",
        "solution = Solution()\n",
        "sentence = \"hellohello hellohellohello\"\n",
        "searchWord = \"ell\"\n",
        "print(solution.isPrefixOfWord(sentence, searchWord))\n",
        "\n"
      ],
      "metadata": {
        "colab": {
          "base_uri": "https://localhost:8080/"
        },
        "id": "hQIRoWwIqxyU",
        "outputId": "1e39b30f-c3fa-40a9-aca6-3ac23a88aa38"
      },
      "execution_count": 24,
      "outputs": [
        {
          "output_type": "stream",
          "name": "stdout",
          "text": [
            "-1\n"
          ]
        }
      ]
    },
    {
      "cell_type": "code",
      "source": [
        "class Solution(object):\n",
        "    def isPrefixOfWord(self, sentence, searchWord):\n",
        "\n",
        "      count = 0\n",
        "      for i in sentence.split(\" \"):\n",
        "        count += 1\n",
        "        if i.startswith(searchWord):\n",
        "          return count\n",
        "      return -1\n",
        "\n",
        "solution = Solution()\n",
        "sentence = \"hellohello hellohellohello\"\n",
        "searchWord = \"ell\"\n",
        "print(solution.isPrefixOfWord(sentence, searchWord))"
      ],
      "metadata": {
        "colab": {
          "base_uri": "https://localhost:8080/"
        },
        "id": "om7_rzlgr-qU",
        "outputId": "25725245-685b-4339-80f3-0a89a8daff3d"
      },
      "execution_count": 28,
      "outputs": [
        {
          "output_type": "stream",
          "name": "stdout",
          "text": [
            "-1\n"
          ]
        }
      ]
    }
  ]
}