{
  "nbformat": 4,
  "nbformat_minor": 0,
  "metadata": {
    "colab": {
      "provenance": []
    },
    "kernelspec": {
      "name": "python3",
      "display_name": "Python 3"
    },
    "language_info": {
      "name": "python"
    }
  },
  "cells": [
    {
      "cell_type": "code",
      "execution_count": 1,
      "metadata": {
        "id": "kQjWvHzXch44"
      },
      "outputs": [],
      "source": [
        "class Solution(object):\n",
        "    def isPrefixOfWord(self, sentence, searchWord):\n",
        "\n",
        "        words = sentence.split()\n",
        "        for i, word in enumerate(words):\n",
        "            if word.startswith(searchWord):\n",
        "                return i + 1\n",
        "        return -1\n"
      ]
    }
  ]
}