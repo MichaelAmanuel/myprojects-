{
  "nbformat": 4,
  "nbformat_minor": 0,
  "metadata": {
    "colab": {
      "provenance": []
    },
    "kernelspec": {
      "name": "python3",
      "display_name": "Python 3"
    },
    "language_info": {
      "name": "python"
    }
  },
  "cells": [
    {
      "cell_type": "code",
      "execution_count": 9,
      "metadata": {
        "colab": {
          "base_uri": "https://localhost:8080/"
        },
        "id": "XAR5vm7IwglR",
        "outputId": "db3ec34c-865c-4b6b-fe82-ba009671e432"
      },
      "outputs": [
        {
          "output_type": "stream",
          "name": "stdout",
          "text": [
            "[1, 4, 2, 3, 3, 2, 4, 1]\n"
          ]
        }
      ],
      "source": [
        "class Solution(object):\n",
        "    def shuffle(self, nums, n):\n",
        "\n",
        "      o_p = []\n",
        "\n",
        "      for i, j in zip(nums[:n], nums[n:]):\n",
        "        o_p.append(i)\n",
        "        o_p.append(j)\n",
        "\n",
        "      return o_p\n",
        "\n",
        "solution = Solution()\n",
        "nums = [1,2,3,4,4,3,2,1]\n",
        "n = 4\n",
        "print(solution.shuffle(nums, n))"
      ]
    },
    {
      "cell_type": "code",
      "source": [],
      "metadata": {
        "id": "_4NsQep8xlZ0"
      },
      "execution_count": null,
      "outputs": []
    }
  ]
}