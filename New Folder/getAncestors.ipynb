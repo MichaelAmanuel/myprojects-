{
  "nbformat": 4,
  "nbformat_minor": 0,
  "metadata": {
    "colab": {
      "provenance": []
    },
    "kernelspec": {
      "name": "python3",
      "display_name": "Python 3"
    },
    "language_info": {
      "name": "python"
    }
  },
  "cells": [
    {
      "cell_type": "code",
      "execution_count": 2,
      "metadata": {
        "colab": {
          "base_uri": "https://localhost:8080/"
        },
        "id": "Oy_UAcuqghQs",
        "outputId": "345e8f43-6b72-4c06-96b7-3de7a17bf53e"
      },
      "outputs": [
        {
          "output_type": "stream",
          "name": "stdout",
          "text": [
            "[[], [], [], [0, 1], [0, 2], [0, 1, 3], [0, 1, 2, 3, 4], [0, 1, 2, 3]]\n"
          ]
        }
      ],
      "source": [
        "from collections import defaultdict, deque\n",
        "\n",
        "class Solution(object):\n",
        "    def getAncestors(self, n, edges):\n",
        "        adj = defaultdict(list)\n",
        "        for u, v in edges:\n",
        "            adj[v].append(u)\n",
        "\n",
        "        ancestors = [set() for _ in range(n)]\n",
        "\n",
        "        def dfs(node):\n",
        "            for neighbor in adj[node]:\n",
        "                if neighbor not in ancestors[node]:\n",
        "                    ancestors[node].add(neighbor)\n",
        "                    ancestors[node].update(ancestors[neighbor])\n",
        "                    dfs(neighbor)\n",
        "\n",
        "        for i in range(n):\n",
        "            dfs(i)\n",
        "\n",
        "        result = [sorted(list(ancestor_set)) for ancestor_set in ancestors]\n",
        "        return result\n",
        "\n",
        "solution = Solution()\n",
        "n = 8\n",
        "edges = [[0,3],[0,4],[1,3],[2,4],[2,7],[3,5],[3,6],[3,7],[4,6]]\n",
        "print(solution.getAncestors(n, edges))"
      ]
    },
    {
      "cell_type": "code",
      "source": [
        "from collections import defaultdict, deque\n",
        "\n",
        "class Solution(object):\n",
        "    def getAncestors(self, n, edges):\n",
        "\n",
        "        adj = defaultdict(list)\n",
        "        for u, v in edges:\n",
        "            adj[u].append(v)\n",
        "\n",
        "        ancestors = [set() for _ in range(n)]\n",
        "\n",
        "        def bfs(start):\n",
        "            queue = deque([start])\n",
        "            visited = set()\n",
        "            while queue:\n",
        "                node = queue.popleft()\n",
        "                for neighbor in adj[node]:\n",
        "                    if neighbor not in visited:\n",
        "                        visited.add(neighbor)\n",
        "                        ancestors[neighbor].add(start)\n",
        "                        ancestors[neighbor].update(ancestors[node])\n",
        "                        queue.append(neighbor)\n",
        "\n",
        "        for i in range(n):\n",
        "            bfs(i)\n",
        "\n",
        "        result = [sorted(list(ancestor_set)) for ancestor_set in ancestors]\n",
        "        return result\n",
        "\n",
        "solution = Solution()\n",
        "n = 8\n",
        "edges = [[0,3],[0,4],[1,3],[2,4],[2,7],[3,5],[3,6],[3,7],[4,6]]\n",
        "print(solution.getAncestors(n, edges))"
      ],
      "metadata": {
        "colab": {
          "base_uri": "https://localhost:8080/"
        },
        "id": "jUsUUAPFv45a",
        "outputId": "f625c9ac-aebc-4aa9-a5c0-7a78bd1cb121"
      },
      "execution_count": 4,
      "outputs": [
        {
          "output_type": "stream",
          "name": "stdout",
          "text": [
            "[[], [], [], [0, 1], [0, 2], [0, 1, 3], [0, 1, 2, 3, 4], [0, 1, 2, 3]]\n"
          ]
        }
      ]
    }
  ]
}