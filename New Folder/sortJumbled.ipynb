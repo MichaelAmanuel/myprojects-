{
  "nbformat": 4,
  "nbformat_minor": 0,
  "metadata": {
    "colab": {
      "provenance": []
    },
    "kernelspec": {
      "name": "python3",
      "display_name": "Python 3"
    },
    "language_info": {
      "name": "python"
    }
  },
  "cells": [
    {
      "cell_type": "code",
      "execution_count": null,
      "metadata": {
        "id": "kQjWvHzXch44"
      },
      "outputs": [],
      "source": [
        "class Solution(object):\n",
        "    def sortJumbled(self, mapping, nums):\n",
        "\n",
        "        def map_number(num):\n",
        "            mapped = ''\n",
        "            for digit in str(num):\n",
        "                mapped += str(mapping[int(digit)])\n",
        "            return int(mapped)\n",
        "\n",
        "        nums.sort(key=map_number)\n",
        "\n",
        "        return nums\n",
        "\n",
        "solution = Solution()\n",
        "mapping = [8,9,4,0,2,1,3,5,7,6]\n",
        "nums = [991, 338, 38]\n",
        "print(solution.sortJumbled(mapping, nums))"
      ]
    }
  ]
}