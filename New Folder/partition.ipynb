{
  "nbformat": 4,
  "nbformat_minor": 0,
  "metadata": {
    "colab": {
      "provenance": []
    },
    "kernelspec": {
      "name": "python3",
      "display_name": "Python 3"
    },
    "language_info": {
      "name": "python"
    }
  },
  "cells": [
    {
      "cell_type": "code",
      "execution_count": 1,
      "metadata": {
        "colab": {
          "base_uri": "https://localhost:8080/"
        },
        "id": "WVGRaMLs5Php",
        "outputId": "9571358f-9347-4719-92a9-63254a264ca7"
      },
      "outputs": [
        {
          "output_type": "stream",
          "name": "stdout",
          "text": [
            "[['a', 'a', 'b'], ['aa', 'b']]\n"
          ]
        }
      ],
      "source": [
        "class Solution(object):\n",
        "    def partition(self, s):\n",
        "        def is_palindrome(sub):\n",
        "            return sub == sub[::-1]\n",
        "\n",
        "        def backtrack(start, path):\n",
        "            if start == len(s):\n",
        "                result.append(path[:])\n",
        "                return\n",
        "            for end in range(start + 1, len(s) + 1):\n",
        "                if is_palindrome(s[start:end]):\n",
        "                    path.append(s[start:end])\n",
        "                    backtrack(start + end - start, path)\n",
        "                    path.pop()\n",
        "\n",
        "        result = []\n",
        "        backtrack(0, [])\n",
        "        return result\n",
        "\n",
        "solution = Solution()\n",
        "s = \"aab\"\n",
        "result = solution.partition(s)\n",
        "print(result)"
      ]
    }
  ]
}