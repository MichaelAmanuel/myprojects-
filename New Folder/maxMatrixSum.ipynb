{
  "nbformat": 4,
  "nbformat_minor": 0,
  "metadata": {
    "colab": {
      "provenance": []
    },
    "kernelspec": {
      "name": "python3",
      "display_name": "Python 3"
    },
    "language_info": {
      "name": "python"
    }
  },
  "cells": [
    {
      "cell_type": "code",
      "execution_count": null,
      "metadata": {
        "id": "kQjWvHzXch44",
        "colab": {
          "base_uri": "https://localhost:8080/"
        },
        "outputId": "b3d22a1b-b78b-4e2c-8b8c-04590b83ce94"
      },
      "outputs": [
        {
          "output_type": "stream",
          "name": "stdout",
          "text": [
            "7\n"
          ]
        }
      ],
      "source": [
        "class Solution(object):\n",
        "    def maxMatrixSum(self, matrix):\n",
        "        n = len(matrix)\n",
        "        total_sum = 0\n",
        "        min_abs_val = float('inf')\n",
        "        negative_count = 0\n",
        "\n",
        "        for i in range(n):\n",
        "            for j in range(n):\n",
        "                val = matrix[i][j]\n",
        "                total_sum += abs(val)\n",
        "                min_abs_val = min(min_abs_val, abs(val))\n",
        "                if val < 0:\n",
        "                    negative_count += 1\n",
        "\n",
        "        if negative_count % 2 == 0:\n",
        "            return total_sum\n",
        "        else:\n",
        "            return total_sum - 2 * min_abs_val"
      ]
    }
  ]
}