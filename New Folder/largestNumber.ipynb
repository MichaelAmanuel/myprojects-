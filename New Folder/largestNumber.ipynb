{
  "nbformat": 4,
  "nbformat_minor": 0,
  "metadata": {
    "colab": {
      "provenance": []
    },
    "kernelspec": {
      "name": "python3",
      "display_name": "Python 3"
    },
    "language_info": {
      "name": "python"
    }
  },
  "cells": [
    {
      "cell_type": "code",
      "execution_count": 9,
      "metadata": {
        "id": "kQjWvHzXch44"
      },
      "outputs": [],
      "source": [
        "from functools import cmp_to_key\n",
        "\n",
        "class Solution:\n",
        "    def largestNumber(self, nums):\n",
        "        # Convert all numbers to strings\n",
        "        nums = list(map(str, nums))\n",
        "\n",
        "        # Custom comparator to decide the order\n",
        "        def compare(x, y):\n",
        "            if x + y > y + x:\n",
        "                return -1\n",
        "            elif x + y < y + x:\n",
        "                return 1\n",
        "            else:\n",
        "                return 0\n",
        "\n",
        "        # Sort using the custom comparator\n",
        "        nums.sort(key=cmp_to_key(compare))\n",
        "\n",
        "        # Join the sorted list into a single string\n",
        "        largest_num = ''.join(nums)\n",
        "\n",
        "        # Edge case: if the largest number starts with '0', return '0'\n",
        "        return '0' if largest_num[0] == '0' else largest_num"
      ]
    }
  ]
}