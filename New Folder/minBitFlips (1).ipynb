{
  "nbformat": 4,
  "nbformat_minor": 0,
  "metadata": {
    "colab": {
      "provenance": []
    },
    "kernelspec": {
      "name": "python3",
      "display_name": "Python 3"
    },
    "language_info": {
      "name": "python"
    }
  },
  "cells": [
    {
      "cell_type": "code",
      "execution_count": null,
      "metadata": {
        "id": "kQjWvHzXch44"
      },
      "outputs": [],
      "source": [
        "class Solution:\n",
        "    def minBitFlips(self, start, goal):\n",
        "\n",
        "        xor_result = start ^ goal\n",
        "\n",
        "        return bin(xor_result).count('1')\n"
      ]
    }
  ]
}