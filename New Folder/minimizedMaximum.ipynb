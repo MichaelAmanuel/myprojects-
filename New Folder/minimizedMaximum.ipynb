{
  "nbformat": 4,
  "nbformat_minor": 0,
  "metadata": {
    "colab": {
      "provenance": []
    },
    "kernelspec": {
      "name": "python3",
      "display_name": "Python 3"
    },
    "language_info": {
      "name": "python"
    }
  },
  "cells": [
    {
      "cell_type": "code",
      "execution_count": null,
      "metadata": {
        "id": "kQjWvHzXch44",
        "colab": {
          "base_uri": "https://localhost:8080/"
        },
        "outputId": "b3d22a1b-b78b-4e2c-8b8c-04590b83ce94"
      },
      "outputs": [
        {
          "output_type": "stream",
          "name": "stdout",
          "text": [
            "7\n"
          ]
        }
      ],
      "source": [
        "class Solution(object):\n",
        "    def minimizedMaximum(self, n, quantities):\n",
        "        def canDistribute(maxProducts):\n",
        "            stores = 0\n",
        "            for quantity in quantities:\n",
        "                stores += -(-quantity // maxProducts)  # Ceiling division\n",
        "            return stores <= n\n",
        "\n",
        "        left, right = 1, max(quantities)\n",
        "        while left < right:\n",
        "            mid = (left + right) // 2\n",
        "            if canDistribute(mid):\n",
        "                right = mida\n",
        "            else:\n",
        "                left = mid + 1\n",
        "        return left\n",
        "\n",
        "solution = Solution()\n",
        "print(solution.minimizedMaximum(6, [11, 6]))  # Output: 3\n",
        "print(solution.minimizedMaximum(7, [15, 10, 10]))  # Output: 5\n",
        "print(solution.minimizedMaximum(1, [100000]))  # Output: 100000\n"
      ]
    }
  ]
}