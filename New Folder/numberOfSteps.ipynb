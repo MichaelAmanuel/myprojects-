{
  "nbformat": 4,
  "nbformat_minor": 0,
  "metadata": {
    "colab": {
      "provenance": []
    },
    "kernelspec": {
      "name": "python3",
      "display_name": "Python 3"
    },
    "language_info": {
      "name": "python"
    }
  },
  "cells": [
    {
      "cell_type": "code",
      "execution_count": 8,
      "metadata": {
        "colab": {
          "base_uri": "https://localhost:8080/"
        },
        "id": "trw1s_TQOoPu",
        "outputId": "033dd7c0-95c8-4275-d6ec-555b11fb0463"
      },
      "outputs": [
        {
          "output_type": "stream",
          "name": "stdout",
          "text": [
            "12\n"
          ]
        }
      ],
      "source": [
        "\n",
        "class Solution(object):\n",
        "    def numberOfSteps(self, n):\n",
        "\n",
        "      count = 0\n",
        "      while n > 0:\n",
        "        if n % 2 == 0:\n",
        "          n = n // 2\n",
        "        else:\n",
        "          n = n- 1\n",
        "\n",
        "        count += 1\n",
        "\n",
        "      return count\n",
        "\n",
        "solution = Solution()\n",
        "n = 123\n",
        "print(solution.numberOfSteps(n))"
      ]
    }
  ]
}