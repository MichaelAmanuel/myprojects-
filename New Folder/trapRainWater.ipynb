{
  "nbformat": 4,
  "nbformat_minor": 0,
  "metadata": {
    "colab": {
      "provenance": []
    },
    "kernelspec": {
      "name": "python3",
      "display_name": "Python 3"
    },
    "language_info": {
      "name": "python"
    }
  },
  "cells": [
    {
      "cell_type": "code",
      "execution_count": null,
      "metadata": {
        "id": "kQjWvHzXch44",
        "colab": {
          "base_uri": "https://localhost:8080/"
        },
        "outputId": "792b0e92-1d98-4286-aafa-efc6fbfae2a7"
      },
      "outputs": [
        {
          "output_type": "stream",
          "name": "stdout",
          "text": [
            "9\n"
          ]
        }
      ],
      "source": [
        "import heapq\n",
        "\n",
        "class Solution(object):\n",
        "    def trapRainWater(self, heightMap):\n",
        "        \"\"\"\n",
        "        :type heightMap: List[List[int]]\n",
        "        :rtype: int\n",
        "        \"\"\"\n",
        "        if not heightMap or not heightMap[0]:\n",
        "            return 0\n",
        "\n",
        "        m, n = len(heightMap), len(heightMap[0])\n",
        "        visited = [[False] * n for _ in range(m)]\n",
        "        heap = []\n",
        "        water = 0\n",
        "\n",
        "        # Add all boundary cells to the heap\n",
        "        for i in range(m):\n",
        "            for j in range(n):\n",
        "                if i == 0 or i == m - 1 or j == 0 or j == n - 1:\n",
        "                    heapq.heappush(heap, (heightMap[i][j], i, j))\n",
        "                    visited[i][j] = True\n",
        "\n",
        "        directions = [(0, 1), (0, -1), (1, 0), (-1, 0)]\n",
        "\n",
        "        while heap:\n",
        "            height, x, y = heapq.heappop(heap)\n",
        "            for dx, dy in directions:\n",
        "                nx, ny = x + dx, y + dy\n",
        "                if 0 <= nx < m and 0 <= ny < n and not visited[nx][ny]:\n",
        "                    # Calculate trapped water\n",
        "                    water += max(0, height - heightMap[nx][ny])\n",
        "                    # Update height and mark as visited\n",
        "                    heapq.heappush(heap, (max(height, heightMap[nx][ny]), nx, ny))\n",
        "                    visited[nx][ny] = True\n",
        "\n",
        "        return water\n",
        "\n",
        "# Example usage:\n",
        "solution = Solution()\n",
        "print(solution.trapRainWater([\n",
        "    [1, 4, 3, 1, 3, 2],\n",
        "    [3, 2, 1, 3, 2, 4],\n",
        "    [2, 3, 3, 2, 3, 1]\n",
        "]))  # Output: 4\n"
      ]
    }
  ]
}