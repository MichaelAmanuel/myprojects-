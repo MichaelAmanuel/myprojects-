{
  "nbformat": 4,
  "nbformat_minor": 0,
  "metadata": {
    "colab": {
      "provenance": []
    },
    "kernelspec": {
      "name": "python3",
      "display_name": "Python 3"
    },
    "language_info": {
      "name": "python"
    }
  },
  "cells": [
    {
      "cell_type": "code",
      "execution_count": 1,
      "metadata": {
        "colab": {
          "base_uri": "https://localhost:8080/"
        },
        "id": "Qmx34DcX4RSr",
        "outputId": "895ceabc-8186-4e75-9608-236329340f23"
      },
      "outputs": [
        {
          "output_type": "stream",
          "name": "stdout",
          "text": [
            "True\n"
          ]
        }
      ],
      "source": [
        "class Solution(object):\n",
        "    def isIsomorphic(self, s, t):\n",
        "        if len(s) != len(t):\n",
        "            return False\n",
        "\n",
        "        char_map = {}\n",
        "        mapped_chars = set()\n",
        "\n",
        "        for char_s, char_t in zip(s, t):\n",
        "            if char_s in char_map:\n",
        "                if char_map[char_s] != char_t:\n",
        "                    return False\n",
        "            else:\n",
        "                if char_t in mapped_chars:\n",
        "                    return False\n",
        "                char_map[char_s] = char_t\n",
        "                mapped_chars.add(char_t)\n",
        "\n",
        "        return True\n",
        "\n",
        "solution = Solution()\n",
        "s1 = \"egg\"\n",
        "t1 = \"add\"\n",
        "print(solution.isIsomorphic(s1, t1))"
      ]
    }
  ]
}