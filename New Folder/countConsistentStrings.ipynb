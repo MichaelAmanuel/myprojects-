{
  "nbformat": 4,
  "nbformat_minor": 0,
  "metadata": {
    "colab": {
      "provenance": []
    },
    "kernelspec": {
      "name": "python3",
      "display_name": "Python 3"
    },
    "language_info": {
      "name": "python"
    }
  },
  "cells": [
    {
      "cell_type": "code",
      "execution_count": 4,
      "metadata": {
        "colab": {
          "base_uri": "https://localhost:8080/"
        },
        "id": "vobYp1SkcBUk",
        "outputId": "0f964230-f17b-46be-ed52-3dad814ea3e2"
      },
      "outputs": [
        {
          "output_type": "stream",
          "name": "stdout",
          "text": [
            "7\n"
          ]
        }
      ],
      "source": [
        "\n",
        "class Solution(object):\n",
        "    def countConsistentStrings(self, allowed, words):\n",
        "\n",
        "      count_1 = 0\n",
        "\n",
        "      for i in words:\n",
        "        count = 0\n",
        "        for j in allowed:\n",
        "          if j in i:\n",
        "            count += i.count(j)\n",
        "        if count == len(i):\n",
        "          count_1 += 1\n",
        "\n",
        "      return count_1\n",
        "\n",
        "solution = Solution()\n",
        "allowed = \"abc\"\n",
        "words = [\"a\",\"b\",\"c\",\"ab\",\"ac\",\"bc\",\"abc\"]\n",
        "print(solution.countConsistentStrings(allowed, words))"
      ]
    },
    {
      "cell_type": "code",
      "source": [],
      "metadata": {
        "id": "WV0ltEjlcxJV"
      },
      "execution_count": null,
      "outputs": []
    }
  ]
}