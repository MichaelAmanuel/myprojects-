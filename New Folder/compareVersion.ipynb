{
  "nbformat": 4,
  "nbformat_minor": 0,
  "metadata": {
    "colab": {
      "provenance": []
    },
    "kernelspec": {
      "name": "python3",
      "display_name": "Python 3"
    },
    "language_info": {
      "name": "python"
    }
  },
  "cells": [
    {
      "cell_type": "code",
      "execution_count": null,
      "metadata": {
        "id": "6s8BaKg_s9U4"
      },
      "outputs": [],
      "source": [
        "class Solution(object):\n",
        "    def compareVersion(self, version1, version2):\n",
        "\n",
        "        revisions1 = version1.split('.')\n",
        "        revisions2 = version2.split('.')\n",
        "\n",
        "        for i in range(max(len(revisions1), len(revisions2))):\n",
        "\n",
        "            rev1 = int(revisions1[i]) if i < len(revisions1) else 0\n",
        "            rev2 = int(revisions2[i]) if i < len(revisions2) else 0\n",
        "\n",
        "\n",
        "            if rev1 < rev2:\n",
        "                return -1\n",
        "            elif rev1 > rev2:\n",
        "                return 1\n",
        "\n",
        "        return 0\n",
        "\n",
        "solution = Solution()\n",
        "version1 = \"1.0\"\n",
        "version2 = \"1.1\"\n",
        "print(solution.compareVersion(version1, version2))\n"
      ]
    }
  ]
}