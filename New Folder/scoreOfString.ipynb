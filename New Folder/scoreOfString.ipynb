{
  "nbformat": 4,
  "nbformat_minor": 0,
  "metadata": {
    "colab": {
      "provenance": []
    },
    "kernelspec": {
      "name": "python3",
      "display_name": "Python 3"
    },
    "language_info": {
      "name": "python"
    }
  },
  "cells": [
    {
      "cell_type": "code",
      "execution_count": null,
      "metadata": {
        "id": "yq8-F1jG_Jas"
      },
      "outputs": [],
      "source": [
        "class Solution(object):\n",
        "    def scoreOfString(self, s):\n",
        "        score = 0\n",
        "        for i in range(1, len(s)):\n",
        "            score += abs(ord(s[i]) - ord(s[i - 1]))\n",
        "        return score\n",
        "\n",
        "\n",
        "solution = Solution()\n",
        "s = \"hello\"\n",
        "result = solution.scoreOfString(s)\n",
        "print(result)"
      ]
    }
  ]
}