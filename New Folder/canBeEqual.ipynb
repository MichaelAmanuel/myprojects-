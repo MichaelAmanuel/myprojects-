{
  "nbformat": 4,
  "nbformat_minor": 0,
  "metadata": {
    "colab": {
      "provenance": []
    },
    "kernelspec": {
      "name": "python3",
      "display_name": "Python 3"
    },
    "language_info": {
      "name": "python"
    }
  },
  "cells": [
    {
      "cell_type": "code",
      "execution_count": 1,
      "metadata": {
        "id": "kQjWvHzXch44",
        "colab": {
          "base_uri": "https://localhost:8080/"
        },
        "outputId": "dfc656f5-5ef0-4033-c113-1e6acb810cff"
      },
      "outputs": [
        {
          "output_type": "stream",
          "name": "stdout",
          "text": [
            "True\n"
          ]
        }
      ],
      "source": [
        "class Solution:\n",
        "    def canBeEqual(self, target, arr):\n",
        "        return sorted(target) == sorted(arr)\n",
        "\n",
        "solution = Solution()\n",
        "target = [1,2,3,4]\n",
        "arr = [2,4,1,3]\n",
        "print(solution.canBeEqual(target, arr))"
      ]
    },
    {
      "cell_type": "code",
      "source": [],
      "metadata": {
        "id": "FsWd_sONMEhw",
        "outputId": "c94d3430-ac5a-4336-d4ac-de2f5ea65a69",
        "colab": {
          "base_uri": "https://localhost:8080/"
        }
      },
      "execution_count": null,
      "outputs": [
        {
          "output_type": "stream",
          "name": "stdout",
          "text": [
            "6\n",
            "6\n"
          ]
        }
      ]
    }
  ]
}