{
  "nbformat": 4,
  "nbformat_minor": 0,
  "metadata": {
    "colab": {
      "provenance": []
    },
    "kernelspec": {
      "name": "python3",
      "display_name": "Python 3"
    },
    "language_info": {
      "name": "python"
    }
  },
  "cells": [
    {
      "cell_type": "code",
      "execution_count": null,
      "metadata": {
        "id": "kQjWvHzXch44",
        "colab": {
          "base_uri": "https://localhost:8080/"
        },
        "outputId": "50e14a69-7a1a-437e-be44-e1ade4c7db4d"
      },
      "outputs": [
        {
          "output_type": "stream",
          "name": "stdout",
          "text": [
            "zzcacc\n",
            "bbab\n"
          ]
        }
      ],
      "source": [
        "from collections import deque\n",
        "\n",
        "class Solution(object):\n",
        "    def nearestExit(self, maze, entrance):\n",
        "        rows, cols = len(maze), len(maze[0])\n",
        "        directions = [(0, 1), (0, -1), (1, 0), (-1, 0)]\n",
        "        queue = deque([(entrance[0], entrance[1], 0)])  # (row, col, steps)\n",
        "        visited = set()\n",
        "        visited.add((entrance[0], entrance[1]))\n",
        "\n",
        "        while queue:\n",
        "            row, col, steps = queue.popleft()\n",
        "\n",
        "            # Check if it's an exit (and not the entrance)\n",
        "            if (row == 0 or row == rows - 1 or col == 0 or col == cols - 1) and [row, col] != entrance:\n",
        "                return steps\n",
        "\n",
        "            # Explore neighbors\n",
        "            for dr, dc in directions:\n",
        "                new_row, new_col = row + dr, col + dc\n",
        "\n",
        "                # Check bounds and if it's not a wall or already visited\n",
        "                if 0 <= new_row < rows and 0 <= new_col < cols and maze[new_row][new_col] == '.' and (new_row, new_col) not in visited:\n",
        "                    queue.append((new_row, new_col, steps + 1))\n",
        "                    visited.add((new_row, new_col))\n",
        "\n",
        "        return -1  # No exit found\n"
      ]
    }
  ]
}