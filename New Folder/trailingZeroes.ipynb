{
  "nbformat": 4,
  "nbformat_minor": 0,
  "metadata": {
    "colab": {
      "provenance": []
    },
    "kernelspec": {
      "name": "python3",
      "display_name": "Python 3"
    },
    "language_info": {
      "name": "python"
    }
  },
  "cells": [
    {
      "cell_type": "code",
      "execution_count": 1,
      "metadata": {
        "colab": {
          "base_uri": "https://localhost:8080/"
        },
        "id": "iGY2tOuuRJzk",
        "outputId": "9a6e3b80-8b72-48b9-d82f-a599b65f9b18"
      },
      "outputs": [
        {
          "output_type": "stream",
          "name": "stdout",
          "text": [
            "1\n"
          ]
        }
      ],
      "source": [
        "import math\n",
        "class Solution(object):\n",
        "    def trailingZeroes(self, n):\n",
        "        out_p = math.factorial(n)\n",
        "        if out_p < 10:\n",
        "            return 0\n",
        "        else:\n",
        "            count = 0\n",
        "            while out_p >= 10:\n",
        "                if out_p % 10 == 0:\n",
        "                    count += 1\n",
        "                else:\n",
        "                    break\n",
        "                out_p //= 10\n",
        "\n",
        "        return count\n",
        "\n",
        "solution = Solution()\n",
        "n = 7\n",
        "print(solution.trailingZeroes(n))"
      ]
    },
    {
      "cell_type": "code",
      "source": [
        "import math\n",
        "class Solution(object):\n",
        "    def trailingZeroes(self, n):\n",
        "      out_p = math.factorial(n)\n",
        "      out_s = str(out_p)\n",
        "      count = 0\n",
        "      for i in out_s[::-1]:\n",
        "        if i == '0':\n",
        "          count += 1\n",
        "        else:\n",
        "          break\n",
        "\n",
        "      return count\n",
        "\n",
        "solution = Solution()\n",
        "n = 7\n",
        "print(solution.trailingZeroes(n))"
      ],
      "metadata": {
        "colab": {
          "base_uri": "https://localhost:8080/"
        },
        "id": "AIjnBYvVRL_i",
        "outputId": "523ecefc-6e7d-43b2-9492-1fa21e9c2c02"
      },
      "execution_count": 5,
      "outputs": [
        {
          "output_type": "stream",
          "name": "stdout",
          "text": [
            "1\n"
          ]
        }
      ]
    }
  ]
}