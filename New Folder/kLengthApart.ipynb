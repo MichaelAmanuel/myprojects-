{
  "nbformat": 4,
  "nbformat_minor": 0,
  "metadata": {
    "colab": {
      "provenance": []
    },
    "kernelspec": {
      "name": "python3",
      "display_name": "Python 3"
    },
    "language_info": {
      "name": "python"
    }
  },
  "cells": [
    {
      "cell_type": "code",
      "execution_count": 5,
      "metadata": {
        "colab": {
          "base_uri": "https://localhost:8080/"
        },
        "id": "4GtXrHkvWL05",
        "outputId": "804e19fe-ffea-4c53-e69f-83c13de98970"
      },
      "outputs": [
        {
          "output_type": "stream",
          "name": "stdout",
          "text": [
            "True\n"
          ]
        }
      ],
      "source": [
        "class Solution(object):\n",
        "    def kLengthApart(self, nums, k):\n",
        "\n",
        "      result = []\n",
        "\n",
        "      for i in range(len(nums)):\n",
        "        if nums[i] == 1:\n",
        "          result.append(i)\n",
        "\n",
        "      for i in range(len(result)-1):\n",
        "        if result[i + 1] - result[i] < 2:\n",
        "          return False\n",
        "      return True\n",
        "\n",
        "solution = Solution()\n",
        "nums = [1,0,0,1,0,1]\n",
        "k = 2\n",
        "print(solution.kLengthApart(nums, k))"
      ]
    },
    {
      "cell_type": "code",
      "source": [],
      "metadata": {
        "id": "4AKrDGrGWp7n"
      },
      "execution_count": null,
      "outputs": []
    }
  ]
}