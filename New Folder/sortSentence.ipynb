{
  "nbformat": 4,
  "nbformat_minor": 0,
  "metadata": {
    "colab": {
      "provenance": []
    },
    "kernelspec": {
      "name": "python3",
      "display_name": "Python 3"
    },
    "language_info": {
      "name": "python"
    }
  },
  "cells": [
    {
      "cell_type": "code",
      "execution_count": 16,
      "metadata": {
        "colab": {
          "base_uri": "https://localhost:8080/"
        },
        "id": "9xMxJSl6lUC5",
        "outputId": "ada74402-f96b-486a-9028-d216241c0046"
      },
      "outputs": [
        {
          "output_type": "stream",
          "name": "stdout",
          "text": [
            "This is a sentence\n"
          ]
        }
      ],
      "source": [
        "class Solution(object):\n",
        "    def sortSentence(self, s):\n",
        "\n",
        "      ss = s.split(' ')\n",
        "\n",
        "      my_list = [0 for _ in range(len(ss))]\n",
        "\n",
        "      for i in ss:\n",
        "        my_list[int(i[-1])-1] = i[:-1]\n",
        "\n",
        "      return \" \".join(my_list)\n",
        "\n",
        "solution = Solution()\n",
        "s = \"is2 sentence4 This1 a3\"\n",
        "print(solution.sortSentence(s))"
      ]
    }
  ]
}