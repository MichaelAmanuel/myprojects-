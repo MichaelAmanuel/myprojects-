{
  "nbformat": 4,
  "nbformat_minor": 0,
  "metadata": {
    "colab": {
      "provenance": []
    },
    "kernelspec": {
      "name": "python3",
      "display_name": "Python 3"
    },
    "language_info": {
      "name": "python"
    }
  },
  "cells": [
    {
      "cell_type": "code",
      "execution_count": 3,
      "metadata": {
        "id": "kQjWvHzXch44"
      },
      "outputs": [],
      "source": [
        "import heapq\n",
        "\n",
        "class Solution(object):\n",
        "    def maxAverageRatio(self, classes, extraStudents):\n",
        "        heap = []\n",
        "        for passed, total in classes:\n",
        "            gain = (passed + 1) / (total + 1) - passed / total\n",
        "            heapq.heappush(heap, (-gain, passed, total))\n",
        "\n",
        "        for _ in range(extraStudents):\n",
        "            gain, passed, total = heapq.heappop(heap)\n",
        "            passed += 1\n",
        "            total += 1\n",
        "            new_gain = (passed + 1) / (total + 1) - passed / total\n",
        "            heapq.heappush(heap, (-new_gain, passed, total))\n",
        "\n",
        "        return sum(passed / total for _, passed, total in heap) / len(classes)\n",
        "\n",
        "classes = [[1, 2], [3, 5], [2, 2]]\n",
        "extraStudents = 2"
      ]
    },
    {
      "cell_type": "code",
      "source": [
        "import heapq\n",
        "\n",
        "class Solution(object):\n",
        "    def maxAverageRatio(self, classes, extraStudents):\n",
        "        heap = []\n",
        "        for passi, totali in classes:\n",
        "            gain = (passi + 1) / (totali + 1) - passi / totali\n",
        "            heapq.heappush(heap, (-gain, passi, totali))\n",
        "\n",
        "        for _ in range(extraStudents):\n",
        "            gain, passi, totali = heapq.heappop(heap)\n",
        "            passi += 1\n",
        "            totali += 1\n",
        "            new_gain = (passi + 1) / (totali + 1) - passi / totali\n",
        "            heapq.heappush(heap, (-new_gain, passi, totali))\n",
        "\n",
        "        return sum(passi / totali for _, passi, totali in heap) / len(classes)\n"
      ],
      "metadata": {
        "id": "PekbEC4RKOHK"
      },
      "execution_count": null,
      "outputs": []
    },
    {
      "cell_type": "code",
      "source": [
        "from heapq import heappush, heappop\n",
        "\n",
        "class Solution:\n",
        "    def maxAverageRatio(self, classes, extraStudents):\n",
        "        heap = []\n",
        "        for passi, totali in classes:\n",
        "            potential_improvement = (passi + 1) / (totali + 1) - passi / totali\n",
        "            heappush(heap, (-potential_improvement, passi, totali))\n",
        "\n",
        "        while extraStudents > 0:\n",
        "            _, passi, totali = heappop(heap)\n",
        "            passi += 1\n",
        "            totali += 1\n",
        "            potential_improvement = (passi + 1) / (totali + 1) - passi / totali\n",
        "            heappush(heap, (-potential_improvement, passi, totali))\n",
        "            extraStudents -= 1\n",
        "\n",
        "        total_pass = sum(passi for _, passi, _ in heap)\n",
        "        total_students = sum(totali for _, _, totali in heap)\n",
        "        return total_pass / total_students\n",
        "\n",
        "# Example Usage\n",
        "solution = Solution()\n",
        "param_1 = [[1,2],[3,5],[2,2]]\n",
        "param_2 = 2\n",
        "result = solution.maxAverageRatio(param_1, param_2)\n",
        "print(result)  # Output: 0.78333"
      ],
      "metadata": {
        "colab": {
          "base_uri": "https://localhost:8080/"
        },
        "id": "UR7HbUIQK7SK",
        "outputId": "08e9d05c-1be0-498c-f179-aa18d08b4387"
      },
      "execution_count": 5,
      "outputs": [
        {
          "output_type": "stream",
          "name": "stdout",
          "text": [
            "0.7272727272727273\n"
          ]
        }
      ]
    },
    {
      "cell_type": "code",
      "source": [
        "from heapq import heappush, heappop\n",
        "\n",
        "class Solution:\n",
        "    def maxAverageRatio(self, classes, extraStudents):\n",
        "        heap = []\n",
        "        for passi, totali in classes:\n",
        "            # Push the potential improvement into the heap\n",
        "            potential_improvement = (passi + 1) / (totali + 1) - passi / totali\n",
        "            heappush(heap, (-potential_improvement, passi, totali))\n",
        "\n",
        "        while extraStudents > 0:\n",
        "            _, passi, totali = heappop(heap)\n",
        "            passi += 1\n",
        "            totali += 1\n",
        "            # Recalculate potential improvement after assigning a student\n",
        "            potential_improvement = (passi + 1) / (totali + 1) - passi / totali\n",
        "            heappush(heap, (-potential_improvement, passi, totali))\n",
        "            extraStudents -= 1\n",
        "\n",
        "        # Correctly calculate the average pass ratio\n",
        "        total_ratio = sum(passi / totali for _, passi, totali in heap)\n",
        "        return total_ratio / len(classes)\n",
        "\n",
        "# Example Usage\n",
        "solution = Solution()\n",
        "param_1 = [[1, 2], [3, 5], [2, 2]]\n",
        "param_2 = 2\n",
        "result = solution.maxAverageRatio(param_1, param_2)\n",
        "print(result)\n"
      ],
      "metadata": {
        "colab": {
          "base_uri": "https://localhost:8080/"
        },
        "id": "VKTM8DPtLwGU",
        "outputId": "195f8c14-56e0-4148-daa8-6bb8b52d785d"
      },
      "execution_count": 6,
      "outputs": [
        {
          "output_type": "stream",
          "name": "stdout",
          "text": [
            "0.7833333333333333\n"
          ]
        }
      ]
    }
  ]
}