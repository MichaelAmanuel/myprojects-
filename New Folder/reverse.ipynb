{
  "nbformat": 4,
  "nbformat_minor": 0,
  "metadata": {
    "colab": {
      "provenance": []
    },
    "kernelspec": {
      "name": "python3",
      "display_name": "Python 3"
    },
    "language_info": {
      "name": "python"
    }
  },
  "cells": [
    {
      "cell_type": "code",
      "execution_count": 1,
      "metadata": {
        "id": "6tQmWot-uD6O",
        "outputId": "97271e0d-1c6f-49fe-c580-34e1ded35d2d",
        "colab": {
          "base_uri": "https://localhost:8080/"
        }
      },
      "outputs": [
        {
          "output_type": "stream",
          "name": "stdout",
          "text": [
            "0\n"
          ]
        }
      ],
      "source": [
        "class Solution(object):\n",
        "    def reverse(self, x):\n",
        "      out_p = 0\n",
        "\n",
        "      if x < 0:\n",
        "        p = -1 * x\n",
        "        while p > 0:\n",
        "          dig = (p % 10)\n",
        "          out_p =  out_p*10 + dig\n",
        "          p //= 10\n",
        "\n",
        "        if -(2**31) >= x >= 2**31 - 1:\n",
        "          return 0\n",
        "        return -1 * out_p\n",
        "\n",
        "      else:\n",
        "        while x > 0:\n",
        "          dig = (x % 10)\n",
        "          out_p =  out_p*10 + dig\n",
        "          x //= 10\n",
        "        if -(2**31) <= out_p >= 2**31 - 1:\n",
        "          return 0\n",
        "        else:\n",
        "          return out_p\n",
        "\n",
        "solution = Solution()\n",
        "x = 1534236469\n",
        "print(solution.reverse(x))"
      ]
    }
  ]
}