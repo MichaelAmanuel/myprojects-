{
  "nbformat": 4,
  "nbformat_minor": 0,
  "metadata": {
    "colab": {
      "provenance": []
    },
    "kernelspec": {
      "name": "python3",
      "display_name": "Python 3"
    },
    "language_info": {
      "name": "python"
    }
  },
  "cells": [
    {
      "cell_type": "code",
      "execution_count": 1,
      "metadata": {
        "id": "kQjWvHzXch44"
      },
      "outputs": [],
      "source": [
        "class Solution:\n",
        "    def xorQueries(self, arr: list[int], queries: list[list[int]]) -> list[int]:\n",
        "        # Step 1: Compute the prefix XOR array\n",
        "        n = len(arr)\n",
        "        prefix = [0] * n\n",
        "        prefix[0] = arr[0]\n",
        "\n",
        "        for i in range(1, n):\n",
        "            prefix[i] = prefix[i - 1] ^ arr[i]\n",
        "\n",
        "        # Step 2: Process each query using the prefix array\n",
        "        result = []\n",
        "        for left, right in queries:\n",
        "            if left == 0:\n",
        "                result.append(prefix[right])\n",
        "            else:\n",
        "                result.append(prefix[right] ^ prefix[left - 1])\n",
        "\n",
        "        return result\n"
      ]
    }
  ]
}