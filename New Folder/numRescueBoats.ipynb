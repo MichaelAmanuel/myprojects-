{
  "nbformat": 4,
  "nbformat_minor": 0,
  "metadata": {
    "colab": {
      "provenance": []
    },
    "kernelspec": {
      "name": "python3",
      "display_name": "Python 3"
    },
    "language_info": {
      "name": "python"
    }
  },
  "cells": [
    {
      "cell_type": "code",
      "execution_count": null,
      "metadata": {
        "id": "5IirLfApBoyN"
      },
      "outputs": [],
      "source": [
        "class Solution(object):\n",
        "\n",
        "    def numRescueBoats(self, people, limit):\n",
        "        people.sort()\n",
        "        left, right = 0, len(people) - 1\n",
        "        boats = 0\n",
        "\n",
        "        while left <= right:\n",
        "\n",
        "            if people[left] + people[right] <= limit:\n",
        "                left += 1\n",
        "            right -= 1\n",
        "            boats += 1\n",
        "\n",
        "        return boats\n",
        "\n",
        "solution = Solution()\n",
        "people = [1, 3, 2, 2, 3]\n",
        "limit = 3\n",
        "print(solution.numRescueBoats(people, limit))"
      ]
    }
  ]
}