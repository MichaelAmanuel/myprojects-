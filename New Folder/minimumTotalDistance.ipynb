{
  "nbformat": 4,
  "nbformat_minor": 0,
  "metadata": {
    "colab": {
      "provenance": []
    },
    "kernelspec": {
      "name": "python3",
      "display_name": "Python 3"
    },
    "language_info": {
      "name": "python"
    }
  },
  "cells": [
    {
      "cell_type": "code",
      "execution_count": null,
      "metadata": {
        "id": "kQjWvHzXch44",
        "colab": {
          "base_uri": "https://localhost:8080/"
        },
        "outputId": "8648224c-b848-4020-ff90-eb74afb8af8d"
      },
      "outputs": [
        {
          "output_type": "stream",
          "name": "stdout",
          "text": [
            "|\n"
          ]
        }
      ],
      "source": [
        "import sys\n",
        "\n",
        "class Solution:\n",
        "    def minimumTotalDistance(self, robot, factory):\n",
        "        robot.sort()\n",
        "        factory.sort()\n",
        "\n",
        "        n, m = len(robot), len(factory)\n",
        "        dp = [[sys.maxsize] * (m + 1) for _ in range(n + 1)]\n",
        "        dp[0][0] = 0  # No robots, no factories, zero cost\n",
        "\n",
        "        for j in range(1, m + 1):  # Iterate over factories\n",
        "            dp[0][j] = 0  # No robots, any factory, zero cost\n",
        "            for i in range(1, n + 1):  # Iterate over robots\n",
        "                dp[i][j] = dp[i][j - 1]  # Initialize with ignoring this factory\n",
        "                pos, limit = factory[j - 1]  # Position and limit of the current factory\n",
        "                dist_sum = 0\n",
        "                for k in range(1, min(i, limit) + 1):\n",
        "                    dist_sum += abs(robot[i - k] - pos)\n",
        "                    dp[i][j] = min(dp[i][j], dp[i - k][j - 1] + dist_sum)\n",
        "\n",
        "        return dp[n][m]\n"
      ]
    },
    {
      "cell_type": "code",
      "source": [],
      "metadata": {
        "id": "Qp4ZCtSKtjmY"
      },
      "execution_count": null,
      "outputs": []
    }
  ]
}