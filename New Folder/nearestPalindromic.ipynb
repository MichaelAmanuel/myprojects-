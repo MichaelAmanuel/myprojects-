{
  "nbformat": 4,
  "nbformat_minor": 0,
  "metadata": {
    "colab": {
      "provenance": []
    },
    "kernelspec": {
      "name": "python3",
      "display_name": "Python 3"
    },
    "language_info": {
      "name": "python"
    }
  },
  "cells": [
    {
      "cell_type": "code",
      "execution_count": 4,
      "metadata": {
        "id": "kQjWvHzXch44"
      },
      "outputs": [],
      "source": [
        "class Solution:\n",
        "    def nearestPalindromic(self, n):\n",
        "        length = len(n)\n",
        "        num = int(n)\n",
        "\n",
        "        candidates = set()\n",
        "        candidates.add(str(10**(length - 1) - 1))\n",
        "        candidates.add(str(10**length + 1))\n",
        "\n",
        "        prefix = int(n[:(length + 1) // 2])\n",
        "\n",
        "        for i in [-1, 0, 1]:\n",
        "            new_prefix = str(prefix + i)\n",
        "            if length % 2 == 0:\n",
        "                pal = new_prefix + new_prefix[::-1]\n",
        "            else:\n",
        "                pal = new_prefix + new_prefix[:-1][::-1]\n",
        "            candidates.add(pal)\n",
        "\n",
        "        candidates.discard(n)\n",
        "\n",
        "        closest = None\n",
        "        min_diff = float('inf')\n",
        "        for cand in candidates:\n",
        "            if cand == '':\n",
        "                continue\n",
        "            cand_num = int(cand)\n",
        "            if cand_num == num:\n",
        "                continue\n",
        "            diff = abs(cand_num - num)\n",
        "            if diff < min_diff:\n",
        "                min_diff = diff\n",
        "                closest = cand\n",
        "            elif diff == min_diff:\n",
        "                closest_num = int(closest)\n",
        "                if cand_num < closest_num:\n",
        "                    closest = cand\n",
        "\n",
        "        return closest\n"
      ]
    }
  ]
}