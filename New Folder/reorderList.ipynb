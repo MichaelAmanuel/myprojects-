{
  "nbformat": 4,
  "nbformat_minor": 0,
  "metadata": {
    "colab": {
      "provenance": []
    },
    "kernelspec": {
      "name": "python3",
      "display_name": "Python 3"
    },
    "language_info": {
      "name": "python"
    }
  },
  "cells": [
    {
      "cell_type": "code",
      "execution_count": null,
      "metadata": {
        "id": "FZx49_LqxmzA"
      },
      "outputs": [],
      "source": [
        "class ListNode(object):\n",
        "    def __init__(self, val=0, next=None):\n",
        "        self.val = val\n",
        "        self.next = next\n",
        "\n",
        "class Solution(object):\n",
        "    def reorderList(self, head):\n",
        "        if not head:\n",
        "            return\n",
        "\n",
        "        slow, fast = head, head\n",
        "        while fast and fast.next:\n",
        "            slow = slow.next\n",
        "            fast = fast.next.next\n",
        "\n",
        "        prev, curr = None, slow\n",
        "        while curr:\n",
        "            next_temp = curr.next\n",
        "            curr.next = prev\n",
        "            prev = curr\n",
        "            curr = next_temp\n",
        "\n",
        "        first, second = head, prev\n",
        "        while second.next:\n",
        "            first_next = first.next\n",
        "            second_next = second.next\n",
        "\n",
        "            first.next = second\n",
        "            second.next = first_next\n",
        "\n",
        "            first = first_next\n",
        "            second = second_next\n",
        "\n",
        "def create_linked_list(vals):\n",
        "    if not vals:\n",
        "        return None\n",
        "    head = ListNode(vals[0])\n",
        "    current = head\n",
        "    for val in vals[1:]:\n",
        "        current.next = ListNode(val)\n",
        "        current = current.next\n",
        "    return head\n",
        "\n",
        "def print_linked_list(head):\n",
        "    vals = []\n",
        "    current = head\n",
        "    while current:\n",
        "        vals.append(current.val)\n",
        "        current = current.next\n",
        "    print(vals)\n",
        "\n",
        "head = create_linked_list([1, 2, 3, 4, 5])\n",
        "solution = Solution()\n",
        "solution.reorderList(head)\n",
        "print_linked_list(head)  # Output: [1, 5, 2, 4, 3]\n"
      ]
    }
  ]
}