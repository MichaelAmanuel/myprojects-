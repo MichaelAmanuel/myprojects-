{
  "nbformat": 4,
  "nbformat_minor": 0,
  "metadata": {
    "colab": {
      "provenance": []
    },
    "kernelspec": {
      "name": "python3",
      "display_name": "Python 3"
    },
    "language_info": {
      "name": "python"
    }
  },
  "cells": [
    {
      "cell_type": "code",
      "execution_count": 12,
      "metadata": {
        "colab": {
          "base_uri": "https://localhost:8080/"
        },
        "id": "hLDNjgLNjL8X",
        "outputId": "af2cc25f-71da-4660-ebad-bb17ec59be0d"
      },
      "outputs": [
        {
          "output_type": "stream",
          "name": "stdout",
          "text": [
            "[1, 4, 2, 3]\n"
          ]
        }
      ],
      "source": [
        "# class ListNode:\n",
        "#     def __init__(self, val=0, next=None):\n",
        "#         self.val = val\n",
        "#         self.next = next\n",
        "\n",
        "class Solution:\n",
        "    def reorderList(self, head):\n",
        "        if not head or not head.next:\n",
        "            return head\n",
        "\n",
        "        slow = fast = head\n",
        "        while fast and fast.next:\n",
        "            slow = slow.next\n",
        "            fast = fast.next.next\n",
        "\n",
        "        prev = None\n",
        "        while slow:\n",
        "            temp = slow.next\n",
        "            slow.next = prev\n",
        "            prev = slow\n",
        "            slow = temp\n",
        "\n",
        "        first_half, second_half = head, prev\n",
        "        while second_half.next:\n",
        "            temp = first_half.next\n",
        "            first_half.next = second_half\n",
        "            first_half = temp\n",
        "\n",
        "            temp = second_half.next\n",
        "            second_half.next = first_half\n",
        "            second_half = temp\n",
        "\n",
        "        result = []\n",
        "        current = head\n",
        "        while current:\n",
        "            result.append(current.val)\n",
        "            current = current.next\n",
        "\n",
        "        return result\n",
        "\n",
        "head = ListNode(1)\n",
        "head.next = ListNode(2)\n",
        "head.next.next = ListNode(3)\n",
        "head.next.next.next = ListNode(4)\n",
        "\n",
        "sol = Solution()\n",
        "reordered_list = sol.reorderList(head)\n",
        "print(reordered_list)\n"
      ]
    },
    {
      "cell_type": "code",
      "source": [
        "class ListNode:\n",
        "    def __init__(self, val=0, next=None):\n",
        "        self.val = val\n",
        "        self.next = next\n",
        "\n",
        "class Solution:\n",
        "    def reorderList(self, head):\n",
        "        if not head or not head.next:\n",
        "            return head\n",
        "\n",
        "        slow = fast = head\n",
        "        while fast and fast.next:\n",
        "            slow = slow.next\n",
        "            fast = fast.next.next\n",
        "\n",
        "        prev = None\n",
        "        while slow:\n",
        "            temp = slow.next\n",
        "            slow.next = prev\n",
        "            prev = slow\n",
        "            slow = temp\n",
        "\n",
        "        first_half, second_half = head, prev\n",
        "        while second_half.next:\n",
        "            temp = first_half.next\n",
        "            first_half.next = second_half\n",
        "            first_half = temp\n",
        "\n",
        "            temp = second_half.next\n",
        "            second_half.next = first_half\n",
        "            second_half = temp\n",
        "\n",
        "        result = []\n",
        "        current = head\n",
        "        while current:\n",
        "            result.append(current.val)\n",
        "            current = current.next\n",
        "\n",
        "        return result\n",
        "\n",
        "head = ListNode(1)\n",
        "head.next = ListNode(2)\n",
        "head.next.next = ListNode(3)\n",
        "head.next.next.next = ListNode(4)\n",
        "\n",
        "sol = Solution()\n",
        "reordered_list = sol.reorderList(head)\n",
        "\n",
        "print(reordered_list)\n"
      ],
      "metadata": {
        "colab": {
          "base_uri": "https://localhost:8080/"
        },
        "id": "KsUR1kcumsS9",
        "outputId": "0a7650b4-7894-4727-b6f6-278612b392f9"
      },
      "execution_count": 11,
      "outputs": [
        {
          "output_type": "stream",
          "name": "stdout",
          "text": [
            "[1, 4, 2, 3]\n"
          ]
        }
      ]
    }
  ]
}