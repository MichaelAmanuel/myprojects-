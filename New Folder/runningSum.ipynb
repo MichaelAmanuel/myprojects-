{
  "nbformat": 4,
  "nbformat_minor": 0,
  "metadata": {
    "colab": {
      "provenance": []
    },
    "kernelspec": {
      "name": "python3",
      "display_name": "Python 3"
    },
    "language_info": {
      "name": "python"
    }
  },
  "cells": [
    {
      "cell_type": "code",
      "execution_count": 9,
      "metadata": {
        "colab": {
          "base_uri": "https://localhost:8080/"
        },
        "id": "yDpPiUy69XIS",
        "outputId": "1e0094f7-8985-4b46-b320-39b05cb7a27c"
      },
      "outputs": [
        {
          "output_type": "stream",
          "name": "stdout",
          "text": [
            "[3, 4, 6, 16, 17]\n"
          ]
        }
      ],
      "source": [
        "class Solution(object):\n",
        "    def runningSum(self, nums):\n",
        "\n",
        "      o_p = []\n",
        "      for i in range(len(nums)):\n",
        "        o_p.append(sum(nums[:i+1]))\n",
        "\n",
        "      return o_p\n",
        "\n",
        "solution = Solution()\n",
        "nums = [3,1,2,10,1]\n",
        "print(solution.runningSum(nums))"
      ]
    },
    {
      "cell_type": "code",
      "source": [
        "class Solution(object):\n",
        "    def runningSum(self, nums):\n",
        "\n",
        "      o_p = []\n",
        "      su = 0\n",
        "      for i in range(len(nums)):\n",
        "        su = su + nums[i]\n",
        "        o_p.append(su)\n",
        "\n",
        "      return o_p\n",
        "\n",
        "solution = Solution()\n",
        "nums = [3,1,2,10,1]\n",
        "print(solution.runningSum(nums))"
      ],
      "metadata": {
        "colab": {
          "base_uri": "https://localhost:8080/"
        },
        "id": "XLaFojh1-fug",
        "outputId": "0a3f6fb7-cf74-4d16-abc4-005655717bee"
      },
      "execution_count": 12,
      "outputs": [
        {
          "output_type": "stream",
          "name": "stdout",
          "text": [
            "[3, 4, 6, 16, 17]\n"
          ]
        }
      ]
    },
    {
      "cell_type": "code",
      "source": [
        "def runningSum(nums):\n",
        "\n",
        "    return [sum(nums[:i+1]) for i in range(len(nums))]\n",
        "\n",
        "nums = [3,1,2,10,1]\n",
        "result = runningSum(nums)\n",
        "print(result)\n"
      ],
      "metadata": {
        "colab": {
          "base_uri": "https://localhost:8080/"
        },
        "id": "3yivsZW_AH8b",
        "outputId": "9809ddaf-e5a0-45f3-a811-1356dd8b2e6b"
      },
      "execution_count": 14,
      "outputs": [
        {
          "output_type": "stream",
          "name": "stdout",
          "text": [
            "[3, 4, 6, 16, 17]\n"
          ]
        }
      ]
    }
  ]
}