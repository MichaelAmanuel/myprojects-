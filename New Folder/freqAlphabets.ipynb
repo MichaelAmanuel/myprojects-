{
  "nbformat": 4,
  "nbformat_minor": 0,
  "metadata": {
    "colab": {
      "provenance": []
    },
    "kernelspec": {
      "name": "python3",
      "display_name": "Python 3"
    },
    "language_info": {
      "name": "python"
    }
  },
  "cells": [
    {
      "cell_type": "code",
      "source": [
        "class Solution(object):\n",
        "    def freqAlphabets(self, s):\n",
        "        dic = {\n",
        "            '1': 'a', '2': 'b', '3': 'c', '4': 'd', '5': 'e', '6': 'f', '7': 'g',\n",
        "            '8': 'h', '9': 'i', '10#': 'j', '11#': 'k', '12#': 'l', '13#': 'm',\n",
        "            '14#': 'n', '15#': 'o', '16#': 'p', '17#': 'q', '18#': 'r', '19#': 's',\n",
        "            '20#': 't', '21#': 'u', '22#': 'v', '23#': 'w', '24#': 'x', '25#': 'y',\n",
        "            '26#': 'z'\n",
        "        }\n",
        "\n",
        "        result = ''\n",
        "        i = 0\n",
        "        while i < len(s):\n",
        "            if i + 2 < len(s) and s[i + 2] == '#':\n",
        "                key = s[i:i + 3]\n",
        "                i += 3\n",
        "            else:\n",
        "                key = s[i]\n",
        "                i += 1\n",
        "            result += dic[key]\n",
        "\n",
        "        return result\n",
        "\n",
        "# Example usage\n",
        "solution = Solution()\n",
        "s = \"10#11#12\"\n",
        "print(solution.freqAlphabets(s))\n"
      ],
      "metadata": {
        "id": "R9VvM4iyG2Bq"
      },
      "execution_count": null,
      "outputs": []
    },
    {
      "cell_type": "code",
      "execution_count": 32,
      "metadata": {
        "id": "G5-lg2nexC0Z",
        "colab": {
          "base_uri": "https://localhost:8080/"
        },
        "outputId": "236192ce-a062-4105-ffc1-a1b701189d04"
      },
      "outputs": [
        {
          "output_type": "stream",
          "name": "stdout",
          "text": [
            "jkab\n"
          ]
        }
      ],
      "source": [
        "class Solution(object):\n",
        "    def freqAlphabets(self, s):\n",
        "      dic =   {\n",
        "              '1': 'a', '2': 'b', '3': 'c', '4': 'd', '5': 'e', '6': 'f', '7': 'g',\n",
        "              '8': 'h', '9': 'i', '10#': 'j', '11#': 'k', '12#': 'l', '13#': 'm',\n",
        "              '14#': 'n', '15#': 'o', '16#': 'p', '17#': 'q', '18#': 'r', '19#': 's',\n",
        "              '20#': 't', '21#': 'u', '22#': 'v', '23#': 'w', '24#': 'x', '25#': 'y',\n",
        "              '26#': 'z'\n",
        "              }\n",
        "      result = []\n",
        "      ss = s.split('#')\n",
        "      # print(ss)\n",
        "      sss = ''\n",
        "      if ss[len(ss)-1] == '':\n",
        "        for k in range(len(ss)-1, -1, -1):\n",
        "          if k == len(ss) - 2:\n",
        "            if len(ss[k]) == 2:\n",
        "              key = ss[k] + '#'\n",
        "              sss += dic[key]\n",
        "\n",
        "      else:\n",
        "        for i in range(len(ss)):\n",
        "\n",
        "          if i == len(ss)-2 and len(ss[i]) == 2 and len(ss[i+1]) == 0:\n",
        "            key = i\n",
        "            sss += dic[key]\n",
        "          elif len(ss[i]) == 2 and i != len(ss) -1:\n",
        "            key = ss[i] + '#'\n",
        "            sss += dic[key]\n",
        "          else:\n",
        "            for j in ss[i]:\n",
        "              key = j\n",
        "              sss += dic[key]\n",
        "\n",
        "      return sss\n",
        "\n",
        "solution = Solution()\n",
        "s = \"10#11#12\"\n",
        "print(solution.freqAlphabets(s))"
      ]
    },
    {
      "cell_type": "code",
      "source": [
        "s = \"1326#\"\n",
        "\n",
        "chunks = [s[i:i+3] for i in range(0, len(s), 3)]\n",
        "\n",
        "print(chunks)"
      ],
      "metadata": {
        "colab": {
          "base_uri": "https://localhost:8080/"
        },
        "id": "0NZwXAacZf8V",
        "outputId": "c24e9ec3-04fd-4eea-fc7c-7718c7c2d780"
      },
      "execution_count": 23,
      "outputs": [
        {
          "output_type": "stream",
          "name": "stdout",
          "text": [
            "['132', '6#']\n"
          ]
        }
      ]
    },
    {
      "cell_type": "code",
      "source": [
        "s = \"10#11#12\"\n",
        "\n",
        "s_2 = s[::-1]\n",
        "\n",
        "result = [substring + '#' for substring in s.split('#') if substring]\n",
        "\n",
        "print(result)"
      ],
      "metadata": {
        "colab": {
          "base_uri": "https://localhost:8080/"
        },
        "id": "ep4ZtpvNd83M",
        "outputId": "03e1c8c1-b7c5-49bd-d0bd-06a09132d6d9"
      },
      "execution_count": 39,
      "outputs": [
        {
          "output_type": "stream",
          "name": "stdout",
          "text": [
            "['10#', '11#', '12#']\n"
          ]
        }
      ]
    },
    {
      "cell_type": "code",
      "source": [
        "s = \"ab1cd1ef\"\n",
        "\n",
        "substrings = [substring + '1' for substring in s.split('1') if substring]\n",
        "\n",
        "print(substrings)"
      ],
      "metadata": {
        "colab": {
          "base_uri": "https://localhost:8080/"
        },
        "id": "22_GNHdEeFum",
        "outputId": "4bce9cd3-c8d2-40ee-ee9d-42d96bb4d994"
      },
      "execution_count": 38,
      "outputs": [
        {
          "output_type": "stream",
          "name": "stdout",
          "text": [
            "['ab1', 'cd1', 'ef1']\n"
          ]
        }
      ]
    },
    {
      "cell_type": "markdown",
      "source": [],
      "metadata": {
        "id": "xPPiGl3Pff1j"
      }
    }
  ]
}