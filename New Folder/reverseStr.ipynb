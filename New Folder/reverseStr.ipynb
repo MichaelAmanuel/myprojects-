{
  "nbformat": 4,
  "nbformat_minor": 0,
  "metadata": {
    "colab": {
      "provenance": []
    },
    "kernelspec": {
      "name": "python3",
      "display_name": "Python 3"
    },
    "language_info": {
      "name": "python"
    }
  },
  "cells": [
    {
      "cell_type": "code",
      "execution_count": null,
      "metadata": {
        "id": "IEu7U5QzIF0F",
        "colab": {
          "base_uri": "https://localhost:8080/"
        },
        "outputId": "06643d67-ed4c-4d55-8c3f-9c629d0751b5"
      },
      "outputs": [
        {
          "output_type": "stream",
          "name": "stdout",
          "text": [
            "[[-1, 0, 1], [0, 1, -1], [0, 1, -1], []]\n"
          ]
        }
      ],
      "source": [
        "class Solution(object):\n",
        "    def threeSum(self, nums):\n",
        "      ret = []\n",
        "      for i in range(len(nums)):\n",
        "        sum_t = []\n",
        "        for k in range(i+1, len(nums)):\n",
        "          for l in range(k+1, len(nums)):\n",
        "            if i != k != l and (nums[i]+nums[k]+nums[l])==0:\n",
        "              sum_t.append(nums[i])\n",
        "              sum_t.append(nums[k])\n",
        "              sum_t.append(nums[l])\n",
        "              ret.append(sum_t)\n",
        "              break\n",
        "            if sum_t not in ret:\n",
        "              ret.append(sum_t)\n",
        "\n",
        "          break\n",
        "        # break\n",
        "\n",
        "      return ret\n",
        "\n",
        "solution = Solution()\n",
        "nums = [-1,0,1,2,-1,-4]\n",
        "print(solution.threeSum(nums))"
      ]
    },
    {
      "cell_type": "code",
      "source": [
        "class Solution(object):\n",
        "    def reverseStr(self, s, k):\n",
        "      ss = ''\n",
        "      for i in range(k):\n",
        "        ss = s[i] + ss\n",
        "\n",
        "      return ss + s[k:4]\n",
        "\n",
        "solution = Solution()\n",
        "s = \"abcdefg\"\n",
        "k = 2\n",
        "print(solution.reverseStr(s, k))"
      ],
      "metadata": {
        "colab": {
          "base_uri": "https://localhost:8080/"
        },
        "id": "nSNk83I3JBhh",
        "outputId": "abd55688-e2f3-4802-9d3e-5d765ed310cb"
      },
      "execution_count": 8,
      "outputs": [
        {
          "output_type": "stream",
          "name": "stdout",
          "text": [
            "bacd\n"
          ]
        }
      ]
    },
    {
      "cell_type": "code",
      "source": [
        "class Solution(object):\n",
        "    def reverseStr(self, s, k):\n",
        "        ss = ''\n",
        "        if len(s) < k:\n",
        "            return s[::-1]\n",
        "\n",
        "        elif len(s) < 2 * k:\n",
        "            for i in range(k):\n",
        "                ss = s[i] + ss\n",
        "\n",
        "            return ss + s[k:]\n",
        "        elif len(s) >= 2 * k:\n",
        "            for i in range(k):\n",
        "                ss = s[i] + ss\n",
        "            ss = ss + s[k:2*k][::-1]\n",
        "            sss = ''\n",
        "            for j in range(2*k, min(3*k, len(s))):\n",
        "                sss = s[j] + sss\n",
        "            return ss + sss + s[min(3*k, len(s)):]\n",
        "\n",
        "solution = Solution()\n",
        "s = \"hyzqyljrnigxvdtneasepfahmtyhlohwxmkqcdfehybknvdmfrfvtbsovjbdhevlfxpdaovjgunjqlimjkfnqcqnajmebeddqsgl\"\n",
        "k = 39\n",
        "print(solution.reverseStr(s, k))\n"
      ],
      "metadata": {
        "colab": {
          "base_uri": "https://localhost:8080/"
        },
        "id": "qcfyDOIDKypt",
        "outputId": "0495e53a-2e9e-4ce6-a07d-a3ff3197d54d"
      },
      "execution_count": 18,
      "outputs": [
        {
          "output_type": "stream",
          "name": "stdout",
          "text": [
            "fdcqkmxwholhytmhafpesaentdvxginrjlyqzyhlqjnugjvoadpxflvehdbjvosbtvfrfmdvnkbyhelgsqddebemjanqcqnfkjmi\n"
          ]
        }
      ]
    },
    {
      "cell_type": "code",
      "source": [
        "class Solution(object):\n",
        "    def reverseStr(self, s, k):\n",
        "        result = ''\n",
        "        for i in range(0, len(s), 2*k):\n",
        "            result += s[i:i+k][::-1] + s[i+k:i+2*k]\n",
        "        return result\n",
        "\n",
        "solution = Solution()\n",
        "s = \"abcdefg\"\n",
        "k = 2\n",
        "print(solution.reverseStr(s, k))"
      ],
      "metadata": {
        "colab": {
          "base_uri": "https://localhost:8080/"
        },
        "id": "LTphXo7KR5qH",
        "outputId": "2933dea1-e302-49bd-d4d1-77879d30cef4"
      },
      "execution_count": 26,
      "outputs": [
        {
          "output_type": "stream",
          "name": "stdout",
          "text": [
            "bacdfeg\n"
          ]
        }
      ]
    },
    {
      "cell_type": "code",
      "source": [
        "class Solution(object):\n",
        "    def reverseStr(self, s, k):\n",
        "        ss = ''\n",
        "        if len(s) < k:\n",
        "            return s[::-1]\n",
        "\n",
        "        elif len(s) < (2*k + k):\n",
        "            for i in range(k):\n",
        "                ss = s[i] + ss\n",
        "\n",
        "            return ss + s[k:]\n",
        "        elif len(s) >= (2*k + k):\n",
        "            for i in range(k):\n",
        "                ss = s[i] + ss\n",
        "            ss += s[k:2*k][::-1]\n",
        "            sss = ''\n",
        "            for j in range(2*k, 2*k + k):\n",
        "                sss = s[j] + sss\n",
        "            return ss + sss + s[2*k + k:]\n",
        "\n",
        "solution = Solution()\n",
        "s = \"abcdefg\"\n",
        "k = 2\n",
        "print(solution.reverseStr(s, k))"
      ],
      "metadata": {
        "colab": {
          "base_uri": "https://localhost:8080/"
        },
        "id": "pxDpN53tSzal",
        "outputId": "365493c9-0c94-4d5c-a225-fef19ce8c1ef"
      },
      "execution_count": 25,
      "outputs": [
        {
          "output_type": "stream",
          "name": "stdout",
          "text": [
            "badcfeg\n"
          ]
        }
      ]
    }
  ]
}