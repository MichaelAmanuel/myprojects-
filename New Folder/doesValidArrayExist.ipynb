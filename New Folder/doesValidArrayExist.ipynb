{
  "nbformat": 4,
  "nbformat_minor": 0,
  "metadata": {
    "colab": {
      "provenance": []
    },
    "kernelspec": {
      "name": "python3",
      "display_name": "Python 3"
    },
    "language_info": {
      "name": "python"
    }
  },
  "cells": [
    {
      "cell_type": "code",
      "execution_count": null,
      "metadata": {
        "id": "kQjWvHzXch44",
        "colab": {
          "base_uri": "https://localhost:8080/"
        },
        "outputId": "792b0e92-1d98-4286-aafa-efc6fbfae2a7"
      },
      "outputs": [
        {
          "output_type": "stream",
          "name": "stdout",
          "text": [
            "9\n"
          ]
        }
      ],
      "source": [
        "class Solution:\n",
        "    def doesValidArrayExist(self, derived):\n",
        "        n = len(derived)\n",
        "        xor_sum = 0\n",
        "\n",
        "        for num in derived:\n",
        "            xor_sum ^= num\n",
        "\n",
        "        return xor_sum == 0"
      ]
    }
  ]
}