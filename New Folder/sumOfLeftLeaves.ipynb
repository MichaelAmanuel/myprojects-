{
  "nbformat": 4,
  "nbformat_minor": 0,
  "metadata": {
    "colab": {
      "provenance": []
    },
    "kernelspec": {
      "name": "python3",
      "display_name": "Python 3"
    },
    "language_info": {
      "name": "python"
    }
  },
  "cells": [
    {
      "cell_type": "code",
      "execution_count": 2,
      "metadata": {
        "colab": {
          "base_uri": "https://localhost:8080/"
        },
        "id": "cWOmg2scHiMl",
        "outputId": "d33d1915-ea1c-40db-812e-d73ccd2fadd1"
      },
      "outputs": [
        {
          "output_type": "stream",
          "name": "stdout",
          "text": [
            "24\n"
          ]
        }
      ],
      "source": [
        "class TreeNode:\n",
        "    def __init__(self, val=0, left=None, right=None):\n",
        "        self.val = val\n",
        "        self.left = left\n",
        "        self.right = right\n",
        "\n",
        "class Solution:\n",
        "    def sumOfLeftLeaves(self, root):\n",
        "        if not root:\n",
        "            return 0\n",
        "\n",
        "        def is_leaf(node):\n",
        "            return node and not node.left and not node.right\n",
        "\n",
        "        def dfs(node):\n",
        "            if not node:\n",
        "                return 0\n",
        "\n",
        "            left_sum = 0\n",
        "            if node.left:\n",
        "                if is_leaf(node.left):\n",
        "                    left_sum += node.left.val\n",
        "                else:\n",
        "                    left_sum += dfs(node.left)\n",
        "            left_sum += dfs(node.right)\n",
        "            return left_sum\n",
        "\n",
        "        return dfs(root)\n",
        "\n",
        "\n",
        "root = TreeNode(3)\n",
        "root.left = TreeNode(9)\n",
        "root.right = TreeNode(20)\n",
        "root.right.left = TreeNode(15)\n",
        "root.right.right = TreeNode(7)\n",
        "\n",
        "solution = Solution()\n",
        "print(solution.sumOfLeftLeaves(root))\n"
      ]
    }
  ]
}