{
  "nbformat": 4,
  "nbformat_minor": 0,
  "metadata": {
    "colab": {
      "provenance": []
    },
    "kernelspec": {
      "name": "python3",
      "display_name": "Python 3"
    },
    "language_info": {
      "name": "python"
    }
  },
  "cells": [
    {
      "cell_type": "code",
      "execution_count": 2,
      "metadata": {
        "colab": {
          "base_uri": "https://localhost:8080/"
        },
        "id": "Oy_UAcuqghQs",
        "outputId": "de5fb6ed-412e-4840-a804-aca6ed99d25a"
      },
      "outputs": [
        {
          "output_type": "stream",
          "name": "stdout",
          "text": [
            "2\n"
          ]
        }
      ],
      "source": [
        "class Solution:\n",
        "    def intersect(self, nums1, nums2):\n",
        "        nums1.sort()\n",
        "        nums2.sort()\n",
        "\n",
        "        p1, p2 = 0, 0\n",
        "        result = []\n",
        "\n",
        "        while p1 < len(nums1) and p2 < len(nums2):\n",
        "            if nums1[p1] == nums2[p2]:\n",
        "                result.append(nums1[p1])\n",
        "                p1 += 1\n",
        "                p2 += 1\n",
        "            elif nums1[p1] < nums2[p2]:\n",
        "                p1 += 1\n",
        "            else:\n",
        "                p2 += 1\n",
        "\n",
        "        return result\n",
        "\n",
        "solution = Solution()\n",
        "nums1 = [1, 2, 2, 1]\n",
        "nums2 = [2, 2]\n",
        "print(solution.intersect(nums1, nums2))\n"
      ]
    }
  ]
}