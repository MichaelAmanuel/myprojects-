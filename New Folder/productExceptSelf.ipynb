{
  "nbformat": 4,
  "nbformat_minor": 0,
  "metadata": {
    "colab": {
      "provenance": []
    },
    "kernelspec": {
      "name": "python3",
      "display_name": "Python 3"
    },
    "language_info": {
      "name": "python"
    }
  },
  "cells": [
    {
      "cell_type": "code",
      "execution_count": 5,
      "metadata": {
        "colab": {
          "base_uri": "https://localhost:8080/"
        },
        "id": "GUUYFfWcLGPJ",
        "outputId": "b2c58ff7-1803-426f-de05-b852f75186de"
      },
      "outputs": [
        {
          "output_type": "stream",
          "name": "stdout",
          "text": [
            "[24, 12, 8, 6]\n"
          ]
        }
      ],
      "source": [
        "class Solution(object):\n",
        "    def productExceptSelf(self, nums):\n",
        "\n",
        "      result = []\n",
        "\n",
        "      for i in range(len(nums)):\n",
        "        re_prod = 1\n",
        "        for j in range(len(nums)):\n",
        "          if j != i:\n",
        "            re_prod *= nums[j]\n",
        "        result.append(re_prod)\n",
        "\n",
        "      return result\n",
        "\n",
        "solution = Solution()\n",
        "nums = [1,2,3,4]\n",
        "print(solution.productExceptSelf(nums))"
      ]
    },
    {
      "cell_type": "code",
      "source": [
        "class Solution(object):\n",
        "    def productExceptSelf(self, nums):\n",
        "\n",
        "      result = []\n",
        "\n",
        "      for i in range(len(nums)):\n",
        "        re_prod = 1\n",
        "        for j in range(len(nums)):\n",
        "          if j != i:\n",
        "            re_prod *= nums[j]\n",
        "        result.append(re_prod)\n",
        "\n",
        "      return result\n",
        "\n",
        "solution = Solution()\n",
        "nums = [-1,1,0,-3,3]\n",
        "print(solution.productExceptSelf(nums))"
      ],
      "metadata": {
        "colab": {
          "base_uri": "https://localhost:8080/"
        },
        "id": "HK96ZiRPoAgC",
        "outputId": "4965b476-bd7a-4f33-fdd2-70e03314ac09"
      },
      "execution_count": 6,
      "outputs": [
        {
          "output_type": "stream",
          "name": "stdout",
          "text": [
            "[0, 0, 9, 0, 0]\n"
          ]
        }
      ]
    },
    {
      "cell_type": "code",
      "source": [
        "class Solution(object):\n",
        "    def productExceptSelf(self, nums):\n",
        "        n = len(nums)\n",
        "        left_product = [1] * n\n",
        "        right_product = [1] * n\n",
        "        result = [1] * n\n",
        "\n",
        "        for i in range(1, n):\n",
        "            left_product[i] = left_product[i - 1] * nums[i - 1]\n",
        "\n",
        "        for i in range(n - 2, -1, -1):\n",
        "            right_product[i] = right_product[i + 1] * nums[i + 1]\n",
        "\n",
        "        for i in range(n):\n",
        "            result[i] = left_product[i] * right_product[i]\n",
        "\n",
        "        return result\n",
        "\n",
        "solution = Solution()\n",
        "nums = [1, 2, 3, 4]\n",
        "print(solution.productExceptSelf(nums))\n"
      ],
      "metadata": {
        "colab": {
          "base_uri": "https://localhost:8080/"
        },
        "id": "d3il9qStosPS",
        "outputId": "34439019-4eb9-42d7-e77a-1b96cc56d0e1"
      },
      "execution_count": 7,
      "outputs": [
        {
          "output_type": "stream",
          "name": "stdout",
          "text": [
            "[24, 12, 8, 6]\n"
          ]
        }
      ]
    }
  ]
}