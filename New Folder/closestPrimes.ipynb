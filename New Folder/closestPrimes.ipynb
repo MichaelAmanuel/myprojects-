{
  "nbformat": 4,
  "nbformat_minor": 0,
  "metadata": {
    "colab": {
      "provenance": []
    },
    "kernelspec": {
      "name": "python3",
      "display_name": "Python 3"
    },
    "language_info": {
      "name": "python"
    }
  },
  "cells": [
    {
      "cell_type": "code",
      "execution_count": null,
      "metadata": {
        "id": "kQjWvHzXch44"
      },
      "outputs": [],
      "source": [
        "class Solution:\n",
        "    def c(self, left, right):\n",
        "        def sieve(limit):\n",
        "            is_prime = [True] * (limit + 1)\n",
        "            is_prime[0] = is_prime[1] = False\n",
        "            for i in range(2, int(limit ** 0.5) + 1):\n",
        "                if is_prime[i]:\n",
        "                    for j in range(i * i, limit + 1, i):\n",
        "                        is_prime[j] = False\n",
        "            return [i for i in range(limit + 1) if is_prime[i]]\n",
        "\n",
        "        primes = sieve(right)\n",
        "        primes = [p for p in primes if p >= left]\n",
        "\n",
        "        if len(primes) < 2:\n",
        "            return [-1, -1]\n",
        "\n",
        "        min_gap = float('inf')\n",
        "        res = [-1, -1]\n",
        "\n",
        "        for i in range(len(primes) - 1):\n",
        "            if primes[i + 1] - primes[i] < min_gap:\n",
        "                min_gap = primes[i + 1] - primes[i]\n",
        "                res = [primes[i], primes[i + 1]]\n",
        "\n",
        "        return res\n"
      ]
    },
    {
      "cell_type": "code",
      "source": [],
      "metadata": {
        "id": "HhjYAmsPmpz5"
      },
      "execution_count": null,
      "outputs": []
    }
  ]
}