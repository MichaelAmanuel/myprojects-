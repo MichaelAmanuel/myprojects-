{
  "nbformat": 4,
  "nbformat_minor": 0,
  "metadata": {
    "colab": {
      "provenance": []
    },
    "kernelspec": {
      "name": "python3",
      "display_name": "Python 3"
    },
    "language_info": {
      "name": "python"
    }
  },
  "cells": [
    {
      "cell_type": "code",
      "execution_count": 7,
      "metadata": {
        "colab": {
          "base_uri": "https://localhost:8080/"
        },
        "id": "UX4n_fd6MzIK",
        "outputId": "f758ad43-23de-492f-8971-b64ba6f32df0"
      },
      "outputs": [
        {
          "output_type": "stream",
          "name": "stdout",
          "text": [
            "[2, 1, 0, 3]\n"
          ]
        }
      ],
      "source": [
        "class Solution(object):\n",
        "    def smallerNumbersThanCurrent(self, nums):\n",
        "      o_p = []\n",
        "\n",
        "      for i in range(len(nums)):\n",
        "        count = 0\n",
        "        for j in range(len(nums)):\n",
        "          if i != j and nums[j] < nums[i]:\n",
        "            count += 1\n",
        "\n",
        "        o_p.append(count)\n",
        "\n",
        "      return o_p\n",
        "\n",
        "Solution = Solution()\n",
        "nums = [6,5,4,8]\n",
        "print(Solution.smallerNumbersThanCurrent(nums))"
      ]
    }
  ]
}