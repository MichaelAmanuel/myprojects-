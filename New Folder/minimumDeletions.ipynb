{
  "nbformat": 4,
  "nbformat_minor": 0,
  "metadata": {
    "colab": {
      "provenance": []
    },
    "kernelspec": {
      "name": "python3",
      "display_name": "Python 3"
    },
    "language_info": {
      "name": "python"
    }
  },
  "cells": [
    {
      "cell_type": "code",
      "execution_count": null,
      "metadata": {
        "colab": {
          "base_uri": "https://localhost:8080/"
        },
        "id": "YrNTzqVW7EWK",
        "outputId": "b9687661-de68-4bc8-b010-d6904f75c9af"
      },
      "outputs": [
        {
          "output_type": "stream",
          "name": "stdout",
          "text": [
            "3\n"
          ]
        }
      ],
      "source": [
        "class Solution:\n",
        "    def minimumDeletions(self, s):\n",
        "        b_count = 0\n",
        "        deletions = 0\n",
        "\n",
        "        for char in s:\n",
        "            if char == 'b':\n",
        "                b_count += 1\n",
        "            elif char == 'a' and b_count > 0:\n",
        "                deletions += 1\n",
        "                b_count -= 1\n",
        "\n",
        "        return deletions\n",
        "\n",
        "solution = Solution()\n",
        "s = \"aababbab\"\n",
        "print(solution.minimumDeletions(s))"
      ]
    }
  ]
}