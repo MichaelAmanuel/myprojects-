{
  "nbformat": 4,
  "nbformat_minor": 0,
  "metadata": {
    "colab": {
      "provenance": []
    },
    "kernelspec": {
      "name": "python3",
      "display_name": "Python 3"
    },
    "language_info": {
      "name": "python"
    }
  },
  "cells": [
    {
      "cell_type": "code",
      "source": [
        "class Solution(object):\n",
        "    def twoSum(self, numbers, target):\n",
        "      o_p = []\n",
        "      for i in range(len(numbers)):\n",
        "        for j in range(i+1, len(numbers)):\n",
        "          if (numbers[i] + numbers[j]) == target:\n",
        "            o_p.append(i+1)\n",
        "            o_p.append(j+1)\n",
        "\n",
        "      return o_p\n",
        "\n",
        "solution = Solution()\n",
        "numbers = [0,0,3,4]\n",
        "target = 0\n",
        "print(solution.twoSum(numbers, target))"
      ],
      "metadata": {
        "colab": {
          "base_uri": "https://localhost:8080/"
        },
        "id": "jcH408-uu9vr",
        "outputId": "bfde83dd-8eb3-4556-905e-01c39a01de69"
      },
      "execution_count": 7,
      "outputs": [
        {
          "output_type": "stream",
          "name": "stdout",
          "text": [
            "[1, 2]\n"
          ]
        }
      ]
    },
    {
      "cell_type": "code",
      "source": [
        "class Solution(object):\n",
        "    def twoSum(self, numbers, target):\n",
        "      o_p = []\n",
        "      for i in range(len(numbers)):\n",
        "        for j in range(i+1, len(numbers)):\n",
        "          if (numbers[i] + numbers[j]) == target:\n",
        "            o_p.append(numbers.index(numbers[i])+1)\n",
        "            o_p.append(numbers.index(numbers[j])+1)\n",
        "\n",
        "      return o_p\n",
        "\n",
        "solution = Solution()\n",
        "numbers = [0,0,3,4]\n",
        "target = 0\n",
        "print(solution.twoSum(numbers, target))"
      ],
      "metadata": {
        "id": "hrRTkZwuv046"
      },
      "execution_count": null,
      "outputs": []
    }
  ]
}