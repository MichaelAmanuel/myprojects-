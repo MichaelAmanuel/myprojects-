{
  "nbformat": 4,
  "nbformat_minor": 0,
  "metadata": {
    "colab": {
      "provenance": []
    },
    "kernelspec": {
      "name": "python3",
      "display_name": "Python 3"
    },
    "language_info": {
      "name": "python"
    }
  },
  "cells": [
    {
      "cell_type": "code",
      "execution_count": 4,
      "metadata": {
        "colab": {
          "base_uri": "https://localhost:8080/"
        },
        "id": "_xUzCLocF7Zf",
        "outputId": "96a23720-c7d7-4183-d36f-d64f10ee74fc"
      },
      "outputs": [
        {
          "output_type": "stream",
          "name": "stdout",
          "text": [
            "[[1, 3], [4, 6]]\n"
          ]
        }
      ],
      "source": [
        "class Solution(object):\n",
        "    def findDifference(self, nums1, nums2):\n",
        "\n",
        "      f = []\n",
        "      s = []\n",
        "\n",
        "      for i in nums1:\n",
        "        if i not in nums2 and (i not in f):\n",
        "          f.append(i)\n",
        "\n",
        "      for j in nums2:\n",
        "        if j not in nums1 and (j not in s):\n",
        "          s.append(j)\n",
        "\n",
        "      return [f ,s]\n",
        "\n",
        "solution = Solution()\n",
        "nums1 = [1,2,3]\n",
        "nums2 = [2,4,6]\n",
        "print(solution.findDifference(nums1, nums2))"
      ]
    },
    {
      "cell_type": "code",
      "source": [
        "class Solution(object):\n",
        "    def findDifference(self, nums1, nums2):\n",
        "\n",
        "      f = [i for i in nums1 if i not in nums2]\n",
        "      s = [j for j in nums2 if j not in nums1]\n",
        "\n",
        "      return [f ,s]\n",
        "\n",
        "solution = Solution()\n",
        "nums1 = [1,2,3]\n",
        "nums2 = [2,4,6]\n",
        "print(solution.findDifference(nums1, nums2))"
      ],
      "metadata": {
        "colab": {
          "base_uri": "https://localhost:8080/"
        },
        "id": "v2C2fk7MGqqd",
        "outputId": "d204eddf-834f-446d-8775-99550ba8a4a7"
      },
      "execution_count": 3,
      "outputs": [
        {
          "output_type": "stream",
          "name": "stdout",
          "text": [
            "[[1, 3], [4, 6]]\n"
          ]
        }
      ]
    },
    {
      "cell_type": "code",
      "source": [],
      "metadata": {
        "id": "aPR0vj9mHNkx"
      },
      "execution_count": null,
      "outputs": []
    }
  ]
}