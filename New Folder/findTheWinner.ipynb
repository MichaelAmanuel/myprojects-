{
  "nbformat": 4,
  "nbformat_minor": 0,
  "metadata": {
    "colab": {
      "provenance": []
    },
    "kernelspec": {
      "name": "python3",
      "display_name": "Python 3"
    },
    "language_info": {
      "name": "python"
    }
  },
  "cells": [
    {
      "cell_type": "code",
      "execution_count": 1,
      "metadata": {
        "colab": {
          "base_uri": "https://localhost:8080/"
        },
        "id": "Oy_UAcuqghQs",
        "outputId": "8a8ef4da-9e30-42e3-975c-603c4c294678"
      },
      "outputs": [
        {
          "output_type": "stream",
          "name": "stdout",
          "text": [
            "3\n"
          ]
        }
      ],
      "source": [
        "class Solution:\n",
        "    def findTheWinner(self, n, k):\n",
        "        winner = 0\n",
        "        for i in range(1, n + 1):\n",
        "            winner = (winner + k) % i\n",
        "        return winner + 1\n",
        "\n",
        "solution = Solution()\n",
        "print(solution.findTheWinner(5, 2))\n"
      ]
    }
  ]
}