{
  "nbformat": 4,
  "nbformat_minor": 0,
  "metadata": {
    "colab": {
      "provenance": []
    },
    "kernelspec": {
      "name": "python3",
      "display_name": "Python 3"
    },
    "language_info": {
      "name": "python"
    }
  },
  "cells": [
    {
      "cell_type": "code",
      "execution_count": 11,
      "metadata": {
        "colab": {
          "base_uri": "https://localhost:8080/"
        },
        "id": "8nbY9IRCTaGQ",
        "outputId": "5973a38c-43a7-48fe-a0b1-9d1b5e69d1cb"
      },
      "outputs": [
        {
          "output_type": "stream",
          "name": "stdout",
          "text": [
            "8\n"
          ]
        }
      ],
      "source": [
        "s = \"3+2*2\"\n",
        "\n",
        "sign = ['*', '/', '+', '-']\n",
        "\n",
        "total = 1  # Initialize total with the first operand\n",
        "\n",
        "for i in sign:\n",
        "    if i in s:\n",
        "        mu = s.index(i)\n",
        "        if i == '*':\n",
        "            total *= int(s[mu + 1])\n",
        "        elif i == '/':\n",
        "            total /= int(s[mu + 1])\n",
        "        elif i == '+':\n",
        "            total += int(s[mu + 1])\n",
        "        elif i == '-':\n",
        "            total -= int(s[mu + 1])\n",
        "\n",
        "print(total)\n"
      ]
    }
  ]
}