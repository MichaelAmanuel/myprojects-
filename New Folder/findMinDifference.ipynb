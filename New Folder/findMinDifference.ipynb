{
  "nbformat": 4,
  "nbformat_minor": 0,
  "metadata": {
    "colab": {
      "provenance": []
    },
    "kernelspec": {
      "name": "python3",
      "display_name": "Python 3"
    },
    "language_info": {
      "name": "python"
    }
  },
  "cells": [
    {
      "cell_type": "code",
      "execution_count": 9,
      "metadata": {
        "id": "kQjWvHzXch44"
      },
      "outputs": [],
      "source": [
        "class Solution:\n",
        "    def findMinDifference(self, timePoints):\n",
        "        def timeToMinutes(time):\n",
        "            hours, minutes = map(int, time.split(\":\"))\n",
        "            return hours * 60 + minutes\n",
        "\n",
        "        minutes = [timeToMinutes(time) for time in timePoints]\n",
        "        minutes.sort()\n",
        "\n",
        "        min_diff = float('inf')\n",
        "\n",
        "        for i in range(1, len(minutes)):\n",
        "            min_diff = min(min_diff, minutes[i] - minutes[i - 1])\n",
        "\n",
        "        min_diff = min(min_diff, 1440 + minutes[0] - minutes[-1])\n",
        "\n",
        "        return min_diff\n",
        "\n"
      ]
    }
  ]
}