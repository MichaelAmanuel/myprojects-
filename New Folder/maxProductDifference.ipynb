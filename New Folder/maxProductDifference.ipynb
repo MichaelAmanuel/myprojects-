{
  "nbformat": 4,
  "nbformat_minor": 0,
  "metadata": {
    "colab": {
      "provenance": []
    },
    "kernelspec": {
      "name": "python3",
      "display_name": "Python 3"
    },
    "language_info": {
      "name": "python"
    }
  },
  "cells": [
    {
      "cell_type": "code",
      "execution_count": null,
      "metadata": {
        "id": "5z_-JgONWOP2"
      },
      "outputs": [],
      "source": [
        "class Solution(object):\n",
        "    def maxProductDifference(self, nums):\n",
        "\n",
        "      num = sorted(nums)\n",
        "      result = ( num[len(num)-1] * num[len(num)-2]) - (num[0]*num[1])\n",
        "\n",
        "      return result\n",
        "\n",
        "solution = Solution()\n",
        "nums = [5,6,2,7,4]\n",
        "print(solution.maxProductDifference(nums))"
      ]
    }
  ]
}