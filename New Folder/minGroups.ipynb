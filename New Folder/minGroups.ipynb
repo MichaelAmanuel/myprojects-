{
  "nbformat": 4,
  "nbformat_minor": 0,
  "metadata": {
    "colab": {
      "provenance": []
    },
    "kernelspec": {
      "name": "python3",
      "display_name": "Python 3"
    },
    "language_info": {
      "name": "python"
    }
  },
  "cells": [
    {
      "cell_type": "code",
      "execution_count": null,
      "metadata": {
        "id": "kQjWvHzXch44"
      },
      "outputs": [],
      "source": [
        "class Solution(object):\n",
        "    def minGroups(self, intervals):\n",
        "        events = []\n",
        "        for left, right in intervals:\n",
        "            events.append((left, 1))\n",
        "            events.append((right + 1, -1))\n",
        "        events.sort()\n",
        "        max_groups = 0\n",
        "        active_intervals = 0\n",
        "        for _, event in events:\n",
        "            active_intervals += event\n",
        "            max_groups = max(max_groups, active_intervals)\n",
        "        return max_groups\n"
      ]
    }
  ]
}