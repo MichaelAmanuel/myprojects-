{
  "nbformat": 4,
  "nbformat_minor": 0,
  "metadata": {
    "colab": {
      "provenance": []
    },
    "kernelspec": {
      "name": "python3",
      "display_name": "Python 3"
    },
    "language_info": {
      "name": "python"
    }
  },
  "cells": [
    {
      "cell_type": "code",
      "execution_count": 6,
      "metadata": {
        "colab": {
          "base_uri": "https://localhost:8080/"
        },
        "id": "HurHEt9fomDU",
        "outputId": "3f6363bb-9f8e-4600-9a09-4f7b4c2e19b5"
      },
      "outputs": [
        {
          "output_type": "stream",
          "name": "stdout",
          "text": [
            "2\n"
          ]
        }
      ],
      "source": [
        "class Solution(object):\n",
        "    def getCommon(self, nums1, nums2):\n",
        "\n",
        "      for i in sorted(nums1):\n",
        "        if i in sorted(nums2):\n",
        "          return i\n",
        "\n",
        "      return -1\n",
        "\n",
        "solution = Solution()\n",
        "nums1 = [1,2,3,6]\n",
        "nums2 = [2,3,4,5]\n",
        "print(solution.getCommon(nums1, nums2))"
      ]
    },
    {
      "cell_type": "code",
      "source": [
        "class Solution(object):\n",
        "    def getCommon(self, nums1, nums2):\n",
        "\n",
        "      nu_1 = sorted(nums1)\n",
        "      nu_2 = sorted(nums2)\n",
        "\n",
        "      if min(nu_2) in nu_1:\n",
        "        for i in range(nu_2.index(min(nu_2)), len(nu_1)):\n",
        "          if nu_1[i] in nu_2:\n",
        "            return nu_1[i]\n",
        "      else:\n",
        "        for i in nu_1:\n",
        "          if i in nu_2:\n",
        "            return i\n",
        "      return -1\n",
        "\n",
        "solution = Solution()\n",
        "nums1 = [1,2]\n",
        "nums2 = [2,4]\n",
        "print(solution.getCommon(nums1, nums2))\n",
        ""
      ],
      "metadata": {
        "colab": {
          "base_uri": "https://localhost:8080/"
        },
        "id": "PtWWr2mishIf",
        "outputId": "88ee186d-9510-406c-ca69-8039b0e3615e"
      },
      "execution_count": 13,
      "outputs": [
        {
          "output_type": "stream",
          "name": "stdout",
          "text": [
            "2\n"
          ]
        }
      ]
    }
  ]
}