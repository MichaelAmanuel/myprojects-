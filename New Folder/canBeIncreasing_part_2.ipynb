{
  "nbformat": 4,
  "nbformat_minor": 0,
  "metadata": {
    "colab": {
      "provenance": []
    },
    "kernelspec": {
      "name": "python3",
      "display_name": "Python 3"
    },
    "language_info": {
      "name": "python"
    }
  },
  "cells": [
    {
      "cell_type": "code",
      "execution_count": 16,
      "metadata": {
        "colab": {
          "base_uri": "https://localhost:8080/"
        },
        "id": "oIlzSB1ncrXc",
        "outputId": "ed04f731-bf55-4674-d3dc-676eb19ace8c"
      },
      "outputs": [
        {
          "output_type": "stream",
          "name": "stdout",
          "text": [
            "True\n"
          ]
        }
      ],
      "source": [
        "class Solution(object):\n",
        "    def canBeIncreasing(self, nums):\n",
        "\n",
        "      for i in range(len(nums) - 2):\n",
        "        if nums[i] >= nums[i + 1]:\n",
        "          if nums[i-1] < nums[i + 1]:\n",
        "            nums.pop(i)\n",
        "          else:\n",
        "            nums.pop(i+1)\n",
        "          for i in range(len(nums) -1):\n",
        "            if nums[i] > nums[i + 1]:\n",
        "              return False\n",
        "\n",
        "      return True\n",
        "\n",
        "solution = Solution()\n",
        "nums = [100,21,100]\n",
        "print(solution.canBeIncreasing(nums))"
      ]
    },
    {
      "cell_type": "code",
      "source": [
        "class Solution(object):\n",
        "    def canBeIncreasing(self, nums):\n",
        "        removed = False\n",
        "        for i in range(len(nums) - 2):\n",
        "            if nums[i] >= nums[i + 1]:\n",
        "                if removed:\n",
        "                    return False\n",
        "                if i == 0 or nums[i - 1] < nums[i + 1]:\n",
        "                    nums.pop(i)\n",
        "                else:\n",
        "                    nums.pop(i + 1)\n",
        "                removed = True\n",
        "\n",
        "\n",
        "        for i in range(len(nums) - 1):\n",
        "            if nums[i] >= nums[i + 1]:\n",
        "                return False\n",
        "\n",
        "        return True\n",
        "\n",
        "solution = Solution()\n",
        "nums = [100,21,100]\n",
        "print(solution.canBeIncreasing(nums))\n"
      ],
      "metadata": {
        "colab": {
          "base_uri": "https://localhost:8080/"
        },
        "id": "aX_wYVTMfE7Q",
        "outputId": "d9802f3b-42f1-4be2-e762-3ff2272f38d6"
      },
      "execution_count": 18,
      "outputs": [
        {
          "output_type": "stream",
          "name": "stdout",
          "text": [
            "True\n"
          ]
        }
      ]
    }
  ]
}