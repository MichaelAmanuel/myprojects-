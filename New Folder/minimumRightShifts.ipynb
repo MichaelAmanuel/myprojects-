{
  "nbformat": 4,
  "nbformat_minor": 0,
  "metadata": {
    "colab": {
      "provenance": []
    },
    "kernelspec": {
      "name": "python3",
      "display_name": "Python 3"
    },
    "language_info": {
      "name": "python"
    }
  },
  "cells": [
    {
      "cell_type": "code",
      "execution_count": 20,
      "metadata": {
        "colab": {
          "base_uri": "https://localhost:8080/"
        },
        "id": "_2XMdeEdRh3j",
        "outputId": "d65abb11-fa55-42e8-9916-53a6c949c8cc"
      },
      "outputs": [
        {
          "output_type": "stream",
          "name": "stdout",
          "text": [
            "0\n"
          ]
        }
      ],
      "source": [
        "class Solution(object):\n",
        "    def minimumRightShifts(self, nums):\n",
        "\n",
        "      mi = nums.index(min(nums))\n",
        "      if  nums == sorted(nums):\n",
        "        return 0\n",
        "\n",
        "      else:\n",
        "        count = 0\n",
        "        for i in range(mi, len(nums)-1):\n",
        "          if nums[i] > nums[i+1]:\n",
        "            return -1\n",
        "\n",
        "        for i in range(mi-1):\n",
        "          if nums[i] > nums[i+1]:\n",
        "            return -1\n",
        "\n",
        "        if nums[0] < nums[len(nums)-1]:\n",
        "\n",
        "          return -1\n",
        "\n",
        "      return len(nums) - mi\n",
        "\n",
        "\n",
        "solution = Solution()\n",
        "nums = [1,3,5]\n",
        "print(solution.minimumRightShifts(nums))"
      ]
    },
    {
      "cell_type": "code",
      "source": [],
      "metadata": {
        "id": "7ODBbVbj8joJ"
      },
      "execution_count": null,
      "outputs": []
    }
  ]
}