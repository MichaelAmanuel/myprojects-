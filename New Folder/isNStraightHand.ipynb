{
  "nbformat": 4,
  "nbformat_minor": 0,
  "metadata": {
    "colab": {
      "provenance": []
    },
    "kernelspec": {
      "name": "python3",
      "display_name": "Python 3"
    },
    "language_info": {
      "name": "python"
    }
  },
  "cells": [
    {
      "cell_type": "code",
      "execution_count": 2,
      "metadata": {
        "colab": {
          "base_uri": "https://localhost:8080/"
        },
        "id": "RAFo7LOW2FTy",
        "outputId": "38593693-4445-464d-94d7-1295242a5957"
      },
      "outputs": [
        {
          "output_type": "stream",
          "name": "stdout",
          "text": [
            "True\n"
          ]
        }
      ],
      "source": [
        "from collections import Counter\n",
        "import heapq\n",
        "\n",
        "class Solution(object):\n",
        "    def isNStraightHand(self, hand, groupSize):\n",
        "        if len(hand) % groupSize != 0:\n",
        "            return False\n",
        "\n",
        "        count = Counter(hand)\n",
        "        min_heap = list(count.keys())\n",
        "        heapq.heapify(min_heap)\n",
        "\n",
        "        while min_heap:\n",
        "            first = min_heap[0]\n",
        "            for i in range(first, first + groupSize):\n",
        "                if count[i] == 0:\n",
        "                    return False\n",
        "                count[i] -= 1\n",
        "                if count[i] == 0:\n",
        "                    if i != min_heap[0]:\n",
        "                        return False\n",
        "                    heapq.heappop(min_heap)\n",
        "\n",
        "        return True\n",
        "\n",
        "solution = Solution()\n",
        "hand = [1,2,3,6,2,3,4,7,8]\n",
        "groupSize = 3\n",
        "print(solution.isNStraightHand(hand, groupSize))"
      ]
    }
  ]
}