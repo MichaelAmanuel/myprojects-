{
  "nbformat": 4,
  "nbformat_minor": 0,
  "metadata": {
    "colab": {
      "provenance": []
    },
    "kernelspec": {
      "name": "python3",
      "display_name": "Python 3"
    },
    "language_info": {
      "name": "python"
    }
  },
  "cells": [
    {
      "cell_type": "code",
      "execution_count": 5,
      "metadata": {
        "colab": {
          "base_uri": "https://localhost:8080/"
        },
        "id": "SXCKcVo7dClN",
        "outputId": "e069b0e7-5e3a-4694-9f3f-3179c535734a"
      },
      "outputs": [
        {
          "output_type": "stream",
          "name": "stdout",
          "text": [
            "2\n"
          ]
        }
      ],
      "source": [
        "from collections import deque\n",
        "import heapq\n",
        "\n",
        "class Solution(object):\n",
        "    def maximumSafenessFactor(self, grid):\n",
        "        n = len(grid)\n",
        "\n",
        "        def is_valid(r, c):\n",
        "            return 0 <= r < n and 0 <= c < n\n",
        "\n",
        "        distances = [[float('inf')] * n for _ in range(n)]\n",
        "        queue = deque()\n",
        "\n",
        "        for r in range(n):\n",
        "            for c in range(n):\n",
        "                if grid[r][c] == 1:\n",
        "                    distances[r][c] = 0\n",
        "                    queue.append((r, c))\n",
        "\n",
        "        while queue:\n",
        "            r, c = queue.popleft()\n",
        "            for dr, dc in [(0, 1), (0, -1), (1, 0), (-1, 0)]:\n",
        "                nr, nc = r + dr, c + dc\n",
        "                if is_valid(nr, nc) and distances[nr][nc] > distances[r][c] + 1:\n",
        "                    distances[nr][nc] = distances[r][c] + 1\n",
        "                    queue.append((nr, nc))\n",
        "\n",
        "        max_heap = [(-distances[0][0], 0, 0)]\n",
        "        visited = set((0, 0))\n",
        "\n",
        "        while max_heap:\n",
        "            safeness, r, c = heapq.heappop(max_heap)\n",
        "            safeness = -safeness\n",
        "            if (r, c) == (n-1, n-1):\n",
        "                return safeness\n",
        "\n",
        "            for dr, dc in [(0, 1), (0, -1), (1, 0), (-1, 0)]:\n",
        "                nr, nc = r + dr, c + dc\n",
        "                if is_valid(nr, nc) and (nr, nc) not in visited:\n",
        "                    visited.add((nr, nc))\n",
        "                    heapq.heappush(max_heap, (-min(safeness, distances[nr][nc]), nr, nc))\n",
        "\n",
        "        return 0\n",
        "\n",
        "solution = Solution()\n",
        "grid = [[0,0,0,1],[0,0,0,0],[0,0,0,0],[1,0,0,0]]\n",
        "solution = Solution()\n",
        "print(solution.maximumSafenessFactor(grid))\n"
      ]
    },
    {
      "cell_type": "code",
      "source": [
        "from collections import deque\n",
        "\n",
        "class Solution(object):\n",
        "    def maximumSafenessFactor(self, grid):\n",
        "        n = len(grid)\n",
        "\n",
        "        def is_valid(r, c):\n",
        "            return 0 <= r < n and 0 <= c < n\n",
        "\n",
        "        def manhattan_distance(r1, c1, r2, c2):\n",
        "            return abs(r1 - r2) + abs(c1 - c2)\n",
        "\n",
        "        queue = deque([(0, 0, 0)])\n",
        "\n",
        "        visited = set([(0, 0)])\n",
        "\n",
        "        max_safeness_factor = 0\n",
        "\n",
        "        while queue:\n",
        "            r, c, min_dist_to_thief = queue.popleft()\n",
        "\n",
        "            max_safeness_factor = max(max_safeness_factor, min_dist_to_thief)\n",
        "\n",
        "            for dr, dc in [(0, 1), (0, -1), (1, 0), (-1, 0)]:\n",
        "                nr, nc = r + dr, c + dc\n",
        "\n",
        "                if is_valid(nr, nc) and (nr, nc) not in visited:\n",
        "                    visited.add((nr, nc))\n",
        "                    if grid[nr][nc] == 1:\n",
        "                        new_min_dist = min_dist_to_thief + 1\n",
        "                    else:\n",
        "                        new_min_dist = min_dist_to_thief\n",
        "                    queue.append((nr, nc, new_min_dist))\n",
        "\n",
        "        return max_safeness_factor\n",
        "\n",
        "solution = Solution()\n",
        "grid = [[1,0,0],[0,0,0],[0,0,1]]\n",
        "solution = Solution()\n",
        "print(solution.maximumSafenessFactor(grid))\n"
      ],
      "metadata": {
        "colab": {
          "base_uri": "https://localhost:8080/"
        },
        "id": "yB165VPtdkYa",
        "outputId": "8f9ae1ef-5908-41fb-fb97-2cc22bdd7057"
      },
      "execution_count": 1,
      "outputs": [
        {
          "output_type": "stream",
          "name": "stdout",
          "text": [
            "1\n"
          ]
        }
      ]
    }
  ]
}