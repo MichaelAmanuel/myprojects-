{
  "nbformat": 4,
  "nbformat_minor": 0,
  "metadata": {
    "colab": {
      "provenance": []
    },
    "kernelspec": {
      "name": "python3",
      "display_name": "Python 3"
    },
    "language_info": {
      "name": "python"
    }
  },
  "cells": [
    {
      "cell_type": "code",
      "execution_count": null,
      "metadata": {
        "id": "kQjWvHzXch44",
        "colab": {
          "base_uri": "https://localhost:8080/"
        },
        "outputId": "50e14a69-7a1a-437e-be44-e1ade4c7db4d"
      },
      "outputs": [
        {
          "output_type": "stream",
          "name": "stdout",
          "text": [
            "zzcacc\n",
            "bbab\n"
          ]
        }
      ],
      "source": [
        "class Solution(object):\n",
        "    def maxProfit(self, prices):\n",
        "        if not prices:\n",
        "            return 0\n",
        "\n",
        "        n = len(prices)\n",
        "        if n == 0:\n",
        "            return 0\n",
        "\n",
        "        # Initialize arrays to store the maximum profits up to day i\n",
        "        first_buy = float('-inf')  # Maximum profit after buying the first stock\n",
        "        first_sell = 0            # Maximum profit after selling the first stock\n",
        "        second_buy = float('-inf') # Maximum profit after buying the second stock\n",
        "        second_sell = 0           # Maximum profit after selling the second stock\n",
        "\n",
        "        for price in prices:\n",
        "            # Update the state for first transaction\n",
        "            first_buy = max(first_buy, -price)\n",
        "            first_sell = max(first_sell, first_buy + price)\n",
        "\n",
        "            # Update the state for second transaction\n",
        "            second_buy = max(second_buy, first_sell - price)\n",
        "            second_sell = max(second_sell, second_buy + price)\n",
        "\n",
        "        return second_sell\n"
      ]
    }
  ]
}