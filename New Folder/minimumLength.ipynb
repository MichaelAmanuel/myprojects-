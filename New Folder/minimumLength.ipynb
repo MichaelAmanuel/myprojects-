{
  "nbformat": 4,
  "nbformat_minor": 0,
  "metadata": {
    "colab": {
      "provenance": []
    },
    "kernelspec": {
      "name": "python3",
      "display_name": "Python 3"
    },
    "language_info": {
      "name": "python"
    }
  },
  "cells": [
    {
      "cell_type": "code",
      "execution_count": 4,
      "metadata": {
        "id": "kQjWvHzXch44",
        "colab": {
          "base_uri": "https://localhost:8080/"
        },
        "outputId": "792b0e92-1d98-4286-aafa-efc6fbfae2a7"
      },
      "outputs": [
        {
          "output_type": "stream",
          "name": "stdout",
          "text": [
            "9\n"
          ]
        }
      ],
      "source": [
        "class Solution(object):\n",
        "    def minimumLength(self, s):\n",
        "        left, right = 0, len(s) - 1\n",
        "        while left < right:\n",
        "            if s[left] == s[right]:\n",
        "                char = s[left]\n",
        "                # Move left pointer to the right\n",
        "                while left < right and s[left] == char:\n",
        "                    left += 1\n",
        "                # Move right pointer to the left\n",
        "                while left < right and s[right] == char:\n",
        "                    right -= 1\n",
        "            else:\n",
        "                break\n",
        "        return right - left + 1\n",
        "\n",
        "# Test case\n",
        "solution = Solution()\n",
        "print(solution.minimumLength(\"abaacbcbb\"))  # Output: 5\n"
      ]
    }
  ]
}