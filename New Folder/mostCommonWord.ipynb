{
  "nbformat": 4,
  "nbformat_minor": 0,
  "metadata": {
    "colab": {
      "provenance": []
    },
    "kernelspec": {
      "name": "python3",
      "display_name": "Python 3"
    },
    "language_info": {
      "name": "python"
    }
  },
  "cells": [
    {
      "cell_type": "code",
      "execution_count": null,
      "metadata": {
        "colab": {
          "base_uri": "https://localhost:8080/"
        },
        "id": "76nFEmJizVU9",
        "outputId": "d5434cad-37e5-4d0f-bee1-d1435f657b54"
      },
      "outputs": [
        {
          "output_type": "stream",
          "name": "stdout",
          "text": [
            "ball\n"
          ]
        }
      ],
      "source": [
        "class Solution(object):\n",
        "    def mostCommonWord(self, paragraph, banned):\n",
        "\n",
        "      word_word = \"\".join([char for char in paragraph if char.isalnum() or char == \" \"])\n",
        "      word = word_word.lower().split(' ')\n",
        "\n",
        "      filtered_list = [word for word in word if word != \" \".join(banned)]\n",
        "\n",
        "      fin_word = list(set(filtered_list))\n",
        "\n",
        "      count = 0\n",
        "      result = ''\n",
        "      for i in fin_word:\n",
        "        x = filtered_list.count(i)\n",
        "        if x > count:\n",
        "          count = x\n",
        "          result = i\n",
        "\n",
        "      return result\n",
        "\n",
        "solution = Solution()\n",
        "paragraph = \"Bob hit a ball, the hit BALL flew far after it was hit.\"\n",
        "banned = [\"hit\"]\n",
        "print(solution.mostCommonWord(paragraph, banned))"
      ]
    },
    {
      "cell_type": "code",
      "source": [
        "class Solution(object):\n",
        "    def mostCommonWord(self, paragraph, banned):\n",
        "\n",
        "      word_word = \"\".join([char for char in paragraph if char.isalnum() or char == \" \"])\n",
        "      word = word_word.lower().split(' ')\n",
        "\n",
        "      filtered_list = [word for word in word if word != \" \".join(banned)]\n",
        "\n",
        "      fin_word = list(set(filtered_list))\n",
        "\n",
        "      count = 0\n",
        "      result = ''\n",
        "      for i in fin_word:\n",
        "        x = filtered_list.count(i)\n",
        "        if x > count:\n",
        "          count = x\n",
        "          result = i\n",
        "\n",
        "      return result\n",
        "\n",
        "solution = Solution()\n",
        "paragraph = \"a.\"\n",
        "banned = []\n",
        "print(solution.mostCommonWord(paragraph, banned))"
      ],
      "metadata": {
        "colab": {
          "base_uri": "https://localhost:8080/"
        },
        "id": "ShepuDsuCMs5",
        "outputId": "466f4eeb-e9eb-4d48-b162-da4a2f6570d6"
      },
      "execution_count": null,
      "outputs": [
        {
          "output_type": "stream",
          "name": "stdout",
          "text": [
            "a\n"
          ]
        }
      ]
    },
    {
      "cell_type": "code",
      "source": [
        "class Solution(object):\n",
        "    def mostCommonWord(self, paragraph, banned):\n",
        "\n",
        "      word_word = \"\".join([char for char in paragraph if char.isalnum() or char == \" \"])\n",
        "      word = word_word.lower().split(' ')\n",
        "\n",
        "      if len(banned) > 1:\n",
        "\n",
        "        filtered_list = [word for word in word if word not in banned]\n",
        "\n",
        "        fin_word = list(set(filtered_list))\n",
        "\n",
        "        count = 0\n",
        "        result = ''\n",
        "        for i in fin_word:\n",
        "          x = filtered_list.count(i)\n",
        "          if x > count:\n",
        "            count = x\n",
        "            result = i\n",
        "\n",
        "        return result\n",
        "\n",
        "      else:\n",
        "\n",
        "        filtered_list = [word for word in word if word != \" \".join(banned)]\n",
        "\n",
        "        fin_word = list(set(filtered_list))\n",
        "\n",
        "        count = 0\n",
        "        result = ''\n",
        "        for i in fin_word:\n",
        "          x = filtered_list.count(i)\n",
        "          if x > count:\n",
        "            count = x\n",
        "            result = i\n",
        "\n",
        "      return result\n",
        "\n",
        "solution = Solution()\n",
        "paragraph = \"Bob. hIt, baLl\"\n",
        "banned = [\"bob\", \"hit\"]\n",
        "print(solution.mostCommonWord(paragraph, banned))"
      ],
      "metadata": {
        "colab": {
          "base_uri": "https://localhost:8080/"
        },
        "id": "8BJE76ERGhSB",
        "outputId": "92066359-5bc1-4b4e-9671-34130dfb0612"
      },
      "execution_count": null,
      "outputs": [
        {
          "output_type": "stream",
          "name": "stdout",
          "text": [
            "ball\n"
          ]
        }
      ]
    }
  ]
}