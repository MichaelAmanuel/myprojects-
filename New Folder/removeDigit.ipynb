{
  "nbformat": 4,
  "nbformat_minor": 0,
  "metadata": {
    "colab": {
      "provenance": []
    },
    "kernelspec": {
      "name": "python3",
      "display_name": "Python 3"
    },
    "language_info": {
      "name": "python"
    }
  },
  "cells": [
    {
      "cell_type": "code",
      "execution_count": 2,
      "metadata": {
        "colab": {
          "base_uri": "https://localhost:8080/"
        },
        "id": "KW7nIq2v_Nf2",
        "outputId": "d694c66b-0fba-4b8d-f176-e030402e9b32"
      },
      "outputs": [
        {
          "output_type": "stream",
          "name": "stdout",
          "text": [
            "13325\n"
          ]
        }
      ],
      "source": [
        "class Solution(object):\n",
        "    def removeDigit(self, number, digit):\n",
        "      stre = number.rfind(digit)\n",
        "      if stre != -1:\n",
        "        out_put = number[:stre] + number[stre + 1:]\n",
        "\n",
        "        return out_put\n",
        "\n",
        "solution = Solution()\n",
        "number = \"133235\"\n",
        "digit = \"3\"\n",
        "print(solution.removeDigit(number, digit))"
      ]
    },
    {
      "cell_type": "code",
      "source": [
        "original_string = 'mikiem'\n",
        "last_i_index = original_string.rfind('i')\n",
        "\n",
        "if last_i_index != -1:  # Check if 'i' is present in the string\n",
        "    new_string = original_string[:last_i_index] + original_string[last_i_index + 1:]\n",
        "    print(new_string)\n",
        "else:\n",
        "    print(original_string)  # If 'i' is not present, print the original string\n"
      ],
      "metadata": {
        "colab": {
          "base_uri": "https://localhost:8080/"
        },
        "id": "rjX--gdVM_Pk",
        "outputId": "2476a9f2-9458-41e5-e286-1ddd9b99dbf5"
      },
      "execution_count": 1,
      "outputs": [
        {
          "output_type": "stream",
          "name": "stdout",
          "text": [
            "mikem\n"
          ]
        }
      ]
    }
  ]
}