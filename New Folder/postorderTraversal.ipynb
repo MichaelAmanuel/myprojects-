{
  "nbformat": 4,
  "nbformat_minor": 0,
  "metadata": {
    "colab": {
      "provenance": []
    },
    "kernelspec": {
      "name": "python3",
      "display_name": "Python 3"
    },
    "language_info": {
      "name": "python"
    }
  },
  "cells": [
    {
      "cell_type": "code",
      "execution_count": 10,
      "metadata": {
        "id": "kQjWvHzXch44"
      },
      "outputs": [],
      "source": [
        "\n",
        "class TreeNode:\n",
        "    def __init__(self, val=0, left=None, right=None):\n",
        "        self.val = val\n",
        "        self.left = left\n",
        "        self.right = right\n",
        "\n",
        "class Solution:\n",
        "    def postorderTraversal(self, root):\n",
        "\n",
        "        def traverse(node):\n",
        "            if not node:\n",
        "                return []\n",
        "            return traverse(node.left) + traverse(node.right) + [node.val]\n",
        "\n",
        "        return traverse(root)\n",
        "\n",
        "root = TreeNode(1)\n",
        "root.right = TreeNode(2)\n",
        "root.right.left = TreeNode(3)\n",
        "\n",
        "solution = Solution()\n",
        "print(solution.postorderTraversal(root))"
      ]
    }
  ]
}