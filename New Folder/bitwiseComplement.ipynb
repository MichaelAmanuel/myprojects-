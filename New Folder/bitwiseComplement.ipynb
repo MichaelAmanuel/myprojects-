{
  "nbformat": 4,
  "nbformat_minor": 0,
  "metadata": {
    "colab": {
      "provenance": []
    },
    "kernelspec": {
      "name": "python3",
      "display_name": "Python 3"
    },
    "language_info": {
      "name": "python"
    }
  },
  "cells": [
    {
      "cell_type": "code",
      "execution_count": 7,
      "metadata": {
        "id": "KVPzdEXcaIj2",
        "colab": {
          "base_uri": "https://localhost:8080/"
        },
        "outputId": "bd3add5a-03b9-420e-a8f9-6b25242eafed"
      },
      "outputs": [
        {
          "output_type": "stream",
          "name": "stdout",
          "text": [
            "2\n"
          ]
        }
      ],
      "source": [
        "class Solution(object):\n",
        "    def bitwiseComplement(self, n):\n",
        "\n",
        "      bin_n = bin(n)[2:]\n",
        "      int_b = ''\n",
        "\n",
        "      for i in bin_n:\n",
        "        if i == '0':\n",
        "          int_b += '1'\n",
        "        else:\n",
        "          int_b += '0'\n",
        "\n",
        "      return int(int_b, 2)\n",
        "\n",
        "solution = Solution()\n",
        "n = 5\n",
        "print(solution.bitwiseComplement(n))"
      ]
    }
  ]
}