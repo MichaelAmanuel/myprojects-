{
  "nbformat": 4,
  "nbformat_minor": 0,
  "metadata": {
    "colab": {
      "provenance": []
    },
    "kernelspec": {
      "name": "python3",
      "display_name": "Python 3"
    },
    "language_info": {
      "name": "python"
    }
  },
  "cells": [
    {
      "cell_type": "code",
      "execution_count": null,
      "metadata": {
        "id": "kQjWvHzXch44"
      },
      "outputs": [],
      "source": [
        "class Solution(object):\n",
        "    def maxWidthRamp(self, nums):\n",
        "        stack = []\n",
        "        max_width = 0\n",
        "\n",
        "        for i in range(len(nums)):\n",
        "            if not stack or nums[stack[-1]] > nums[i]:\n",
        "                stack.append(i)\n",
        "\n",
        "        for j in range(len(nums) - 1, -1, -1):\n",
        "            while stack and nums[stack[-1]] <= nums[j]:\n",
        "                max_width = max(max_width, j - stack.pop())\n",
        "\n",
        "        return max_width\n"
      ]
    }
  ]
}