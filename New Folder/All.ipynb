{
  "nbformat": 4,
  "nbformat_minor": 0,
  "metadata": {
    "colab": {
      "provenance": []
    },
    "kernelspec": {
      "name": "python3",
      "display_name": "Python 3"
    },
    "language_info": {
      "name": "python"
    }
  },
  "cells": [
    {
      "cell_type": "code",
      "execution_count": 7,
      "metadata": {
        "colab": {
          "base_uri": "https://localhost:8080/"
        },
        "id": "x3nC26nc4Hjg",
        "outputId": "4c25a859-1ba6-43c0-e0b7-c61ce6770a5c"
      },
      "outputs": [
        {
          "output_type": "stream",
          "name": "stdout",
          "text": [
            "[2, 2, '_', '_']\n"
          ]
        }
      ],
      "source": [
        "class Solution(object):\n",
        "    def removeElement(self, nums, val):\n",
        "        new_nums = []\n",
        "        count = 0\n",
        "        for i in nums:\n",
        "            if i != val:\n",
        "                new_nums.append(i)\n",
        "            else:\n",
        "                count += 1\n",
        "        for j in range(count):\n",
        "            new_nums.append('_')\n",
        "\n",
        "        return  new_nums\n",
        "solution = Solution()\n",
        "nums = [3, 2, 2, 3]\n",
        "val = 3\n",
        "result = solution.removeElement(nums, val)\n",
        "# first_result, second_result = result\n",
        "print(result)\n",
        "# print(second_result)"
      ]
    },
    {
      "cell_type": "code",
      "source": [
        "class Solution(object):\n",
        "    def removeElement(self, nums, val):\n",
        "        new_nums = []\n",
        "        count = 0\n",
        "        for i in nums:\n",
        "            if i != val:\n",
        "                new_nums.append(i)\n",
        "            else:\n",
        "                count += 1\n",
        "        for j in range(count):\n",
        "            new_nums.append('_')\n",
        "\n",
        "        return new_nums\n",
        "\n",
        "solution = Solution()\n",
        "nums = [3, 2, 2, 3]\n",
        "val = 3\n",
        "result = solution.removeElement(nums, val)\n",
        "print(result)\n"
      ],
      "metadata": {
        "colab": {
          "base_uri": "https://localhost:8080/"
        },
        "id": "b3KFXU1K4mcg",
        "outputId": "76f4bf1f-6fd9-46a1-9698-f9a84cabcb37"
      },
      "execution_count": 8,
      "outputs": [
        {
          "output_type": "stream",
          "name": "stdout",
          "text": [
            "[2, 2, '_', '_']\n"
          ]
        }
      ]
    },
    {
      "cell_type": "code",
      "source": [
        "s = \"abcd\"\n",
        "t = \"abcde\"\n",
        "\n",
        "for i in t:\n",
        "  if i not in s:\n",
        "    print(i)\n",
        "    break"
      ],
      "metadata": {
        "colab": {
          "base_uri": "https://localhost:8080/"
        },
        "id": "0OsQbgSF6Dpv",
        "outputId": "c82d0ec1-af62-4cc7-ec95-be56153649d7"
      },
      "execution_count": 2,
      "outputs": [
        {
          "output_type": "stream",
          "name": "stdout",
          "text": [
            "e\n"
          ]
        }
      ]
    },
    {
      "cell_type": "code",
      "source": [
        "class Solution(object):\n",
        "    def findDisappearedNumbers(self, nums):\n",
        "        num = list(set(nums))\n",
        "        nu = sorted(num)\n",
        "\n",
        "        out_put = []\n",
        "        for i in range(1, len(nu) + 1):\n",
        "            if i not in num:\n",
        "                out_put.append(i)\n",
        "\n",
        "        return out_put\n",
        "\n"
      ],
      "metadata": {
        "id": "M3SzcDfj6Kfw"
      },
      "execution_count": 29,
      "outputs": []
    },
    {
      "cell_type": "code",
      "source": [
        "m = 'michaelamanuel'\n",
        "m_without_e = m.replace('e', '')\n",
        "\n",
        "print(m_without_e)"
      ],
      "metadata": {
        "colab": {
          "base_uri": "https://localhost:8080/"
        },
        "id": "nxHxfL6moz7k",
        "outputId": "572e38cd-359d-44f4-fe1c-04c7d03c4867"
      },
      "execution_count": 5,
      "outputs": [
        {
          "output_type": "stream",
          "name": "stdout",
          "text": [
            "michalamanul\n"
          ]
        }
      ]
    },
    {
      "cell_type": "code",
      "source": [
        "\n",
        "class Solution(object):\n",
        "    def countSegments(self, s):\n",
        "      m = s.split(' ')\n",
        "      return len(m)\n",
        "\n",
        "solution = Solution()\n",
        "s = \"Hello\"\n",
        "print(solution.countSegments(s))"
      ],
      "metadata": {
        "colab": {
          "base_uri": "https://localhost:8080/"
        },
        "id": "O155gbfFo0Z0",
        "outputId": "df0b0d09-6341-4eac-b0a5-46fc29716479"
      },
      "execution_count": 33,
      "outputs": [
        {
          "output_type": "stream",
          "name": "stdout",
          "text": [
            "1\n"
          ]
        }
      ]
    },
    {
      "cell_type": "code",
      "source": [
        "s = \"                \"\n",
        "\n",
        "print(len(s))"
      ],
      "metadata": {
        "id": "8E7D4_5QwDvN",
        "outputId": "ee4ca1bc-1724-473a-fa98-2b118807d602",
        "colab": {
          "base_uri": "https://localhost:8080/"
        }
      },
      "execution_count": 34,
      "outputs": [
        {
          "output_type": "stream",
          "name": "stdout",
          "text": [
            "16\n"
          ]
        }
      ]
    },
    {
      "cell_type": "code",
      "source": [
        "class Solution(object):\n",
        "    def findDisappearedNumbers(self, nums):\n",
        "        num = list(set(nums))\n",
        "        nu = sorted(num)\n",
        "\n",
        "        out_put = []\n",
        "        for i in range(1, len(nums) + 1):\n",
        "            if i not in nu:\n",
        "                out_put.append(i)\n",
        "\n",
        "            else:\n",
        "              nu.remove(i)\n",
        "              print(nu)\n",
        "\n",
        "        return out_put\n",
        "\n",
        "solution = Solution()\n",
        "nums = [4,4,3,2,7,8,3,2,7,8,2,3,1,1]\n",
        "print(solution.findDisappearedNumbers(nums))"
      ],
      "metadata": {
        "id": "RuM_WbA-wuc6",
        "outputId": "28eae201-074c-45ab-fdb1-f3c107abb67e",
        "colab": {
          "base_uri": "https://localhost:8080/"
        }
      },
      "execution_count": 9,
      "outputs": [
        {
          "output_type": "stream",
          "name": "stdout",
          "text": [
            "[2, 3, 4, 7, 8]\n",
            "[3, 4, 7, 8]\n",
            "[4, 7, 8]\n",
            "[7, 8]\n",
            "[8]\n",
            "[]\n",
            "[5, 6, 9, 10, 11, 12, 13, 14]\n"
          ]
        }
      ]
    },
    {
      "cell_type": "code",
      "source": [
        "nums = [4, 4, 3, 2, 7, 8, 3, 2, 7, 8, 2, 3, 1, 1]\n",
        "\n",
        "# Remove elements 1 and 4 from the list\n",
        "filtered_nums = [num for num in nums if num not in {1, 4}]\n",
        "\n",
        "print(filtered_nums)\n"
      ],
      "metadata": {
        "id": "hDls8xOMvxdD",
        "outputId": "7443bc49-7838-4f4b-c2dd-beee78d807a6",
        "colab": {
          "base_uri": "https://localhost:8080/"
        }
      },
      "execution_count": 10,
      "outputs": [
        {
          "output_type": "stream",
          "name": "stdout",
          "text": [
            "[3, 2, 7, 8, 3, 2, 7, 8, 2, 3]\n"
          ]
        }
      ]
    },
    {
      "cell_type": "code",
      "source": [
        "class Solution(object):\n",
        "    def findDisappearedNumbers(self, nums):\n",
        "\n",
        "        num = list(set(nums))\n",
        "        nu = sorted(num)\n",
        "\n",
        "\n",
        "        return [i for i in range(1, len(nums) + 1) if i not in nu]\n",
        "\n",
        "\n",
        "solution = Solution()\n",
        "nums = [4,3,2,7,8,2,3,1]\n",
        "print(solution.findDisappearedNumbers(nums))"
      ],
      "metadata": {
        "id": "gTmkTK3cxzLK",
        "outputId": "31d5105e-9f0e-4646-d998-55f39b919452",
        "colab": {
          "base_uri": "https://localhost:8080/"
        }
      },
      "execution_count": 11,
      "outputs": [
        {
          "output_type": "stream",
          "name": "stdout",
          "text": [
            "[5, 6]\n"
          ]
        }
      ]
    },
    {
      "cell_type": "code",
      "source": [
        "class Solution(object):\n",
        "    def checkPerfectNumber(self, num):\n",
        "        return num > 1 and sum(i for i in range(1, int(num**0.5) + 1) if num % i == 0) == num\n",
        "\n",
        "# Example usage\n",
        "solution_instance = Solution()\n",
        "num = 28\n",
        "result = solution_instance.checkPerfectNumber(num)\n",
        "print(result)"
      ],
      "metadata": {
        "id": "e3iO9LXRyoj8",
        "outputId": "c935565c-ce42-45ac-d1a7-918f5da33375",
        "colab": {
          "base_uri": "https://localhost:8080/"
        }
      },
      "execution_count": 4,
      "outputs": [
        {
          "output_type": "stream",
          "name": "stdout",
          "text": [
            "False\n"
          ]
        }
      ]
    },
    {
      "cell_type": "code",
      "source": [
        "class Solution(object):\n",
        "    def checkPerfectNumber(self, num):\n",
        "        return num > 1 and sum(i for i in range(1, int(num**0.5) + 1) if num % i == 0) == num\n",
        "\n",
        "# Example usage\n",
        "solution_instance = Solution()\n",
        "num = 28\n",
        "result = solution_instance.checkPerfectNumber(num)\n",
        "print(result)"
      ],
      "metadata": {
        "id": "iZ8vFR1IgVoN",
        "outputId": "fd617048-36a1-449f-ce83-34dae251bd1c",
        "colab": {
          "base_uri": "https://localhost:8080/"
        }
      },
      "execution_count": 5,
      "outputs": [
        {
          "output_type": "stream",
          "name": "stdout",
          "text": [
            "False\n"
          ]
        }
      ]
    },
    {
      "cell_type": "code",
      "source": [
        "import math\n",
        "class Solution(object):\n",
        "    def checkPerfectNumber(self, num):\n",
        "        if num <= 1:\n",
        "            return False\n",
        "\n",
        "        n = num\n",
        "        divisor_sum = 0\n",
        "\n",
        "        for i in range(1, int(math.ceil(n/2))+1):\n",
        "            if n % i == 0:\n",
        "                divisor_sum += i\n",
        "\n",
        "        return divisor_sum == num\n",
        "\n",
        "# Example usage\n",
        "solution_instance = Solution()\n",
        "num = 28\n",
        "result = solution_instance.checkPerfectNumber(num)\n",
        "print(result)"
      ],
      "metadata": {
        "id": "Qv3AlSoTg5iq",
        "outputId": "4f5d7b11-fc1c-45d0-a47f-d21b52f791b5",
        "colab": {
          "base_uri": "https://localhost:8080/"
        }
      },
      "execution_count": 7,
      "outputs": [
        {
          "output_type": "stream",
          "name": "stdout",
          "text": [
            "True\n"
          ]
        }
      ]
    },
    {
      "cell_type": "code",
      "source": [],
      "metadata": {
        "id": "HXaYebJZg9jP"
      },
      "execution_count": null,
      "outputs": []
    }
  ]
}