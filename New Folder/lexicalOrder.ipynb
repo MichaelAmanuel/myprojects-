{
  "nbformat": 4,
  "nbformat_minor": 0,
  "metadata": {
    "colab": {
      "provenance": []
    },
    "kernelspec": {
      "name": "python3",
      "display_name": "Python 3"
    },
    "language_info": {
      "name": "python"
    }
  },
  "cells": [
    {
      "cell_type": "code",
      "execution_count": 1,
      "metadata": {
        "id": "kQjWvHzXch44"
      },
      "outputs": [],
      "source": [
        "class Solution:\n",
        "    def lexicalOrder(self, n):\n",
        "        result = []\n",
        "        current = 1\n",
        "\n",
        "        for _ in range(n):\n",
        "            result.append(current)\n",
        "            if current * 10 <= n:\n",
        "                current *= 10\n",
        "            else:\n",
        "                while current % 10 == 9 or current + 1 > n:\n",
        "                    current //= 10\n",
        "                current += 1\n",
        "\n",
        "        return result\n",
        "\n"
      ]
    }
  ]
}