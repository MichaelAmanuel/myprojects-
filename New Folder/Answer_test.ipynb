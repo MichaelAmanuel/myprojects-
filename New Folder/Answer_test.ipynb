{
  "nbformat": 4,
  "nbformat_minor": 0,
  "metadata": {
    "colab": {
      "provenance": []
    },
    "kernelspec": {
      "name": "python3",
      "display_name": "Python 3"
    },
    "language_info": {
      "name": "python"
    }
  },
  "cells": [
    {
      "cell_type": "code",
      "execution_count": 2,
      "metadata": {
        "colab": {
          "base_uri": "https://localhost:8080/"
        },
        "id": "j5RWPVQxx7pC",
        "outputId": "87a75e6b-ce10-4758-93c5-d9302eebf2f9"
      },
      "outputs": [
        {
          "output_type": "stream",
          "name": "stdout",
          "text": [
            "[16, 2401, 4096, 1, 1296]\n"
          ]
        }
      ],
      "source": [
        "def prg_question_1(num, pow):\n",
        "\n",
        "    return [num ** power for num in num]\n",
        "\n",
        "\n",
        "nums = [2, 7, 8, 1, 6]\n",
        "power = 4\n",
        "answer = prg_question_1(nums, power)\n",
        "print(answer)"
      ]
    },
    {
      "cell_type": "code",
      "source": [
        "def prg_question_2(words):\n",
        "    for i in range(len(words) * 2 - 1):\n",
        "        print(words[:i] if i < len(words) else words[:len(words) * 2 - i - 1])\n",
        "\n",
        "\n",
        "word = \"programming\"\n",
        "prg_question_2(word)"
      ],
      "metadata": {
        "colab": {
          "base_uri": "https://localhost:8080/"
        },
        "id": "L5nGhTAUyCQp",
        "outputId": "14047ca0-5fb2-48e2-a7a4-4cc221a23619"
      },
      "execution_count": 3,
      "outputs": [
        {
          "output_type": "stream",
          "name": "stdout",
          "text": [
            "\n",
            "p\n",
            "pr\n",
            "pro\n",
            "prog\n",
            "progr\n",
            "progra\n",
            "program\n",
            "programm\n",
            "programmi\n",
            "programmin\n",
            "programmin\n",
            "programmi\n",
            "programm\n",
            "program\n",
            "progra\n",
            "progr\n",
            "prog\n",
            "pro\n",
            "pr\n",
            "p\n"
          ]
        }
      ]
    },
    {
      "cell_type": "code",
      "source": [
        "def prg_question_3(list1, list2):\n",
        "\n",
        "    return [item for item in list1 if item in list2]\n",
        "\n",
        "\n",
        "list1 = ['a', \"code\", 1, 46, 50, [1, 2, 3]]\n",
        "list2 = ['b', \"code\", 46, [1, 2]]\n",
        "result = prg_question_3(list1, list2)\n",
        "print(result)"
      ],
      "metadata": {
        "colab": {
          "base_uri": "https://localhost:8080/"
        },
        "id": "6v1xmDxzyQfU",
        "outputId": "b7e88093-9a8e-4720-d155-2523467c4d37"
      },
      "execution_count": 4,
      "outputs": [
        {
          "output_type": "stream",
          "name": "stdout",
          "text": [
            "['code', 46]\n"
          ]
        }
      ]
    },
    {
      "cell_type": "code",
      "source": [
        "def prg_question_4(nums):\n",
        "\n",
        "    return [sum(nums) / len(nums)] + nums[:]\n",
        "\n",
        "\n",
        "original_list = [10, 20, 15, 75, 34]\n",
        "result = prg_question_4(original_list)\n",
        "print(result)"
      ],
      "metadata": {
        "colab": {
          "base_uri": "https://localhost:8080/"
        },
        "id": "oR-Z8H94yTs1",
        "outputId": "fb93c6ff-3fab-4a65-8d04-ad06ed188785"
      },
      "execution_count": 5,
      "outputs": [
        {
          "output_type": "stream",
          "name": "stdout",
          "text": [
            "[30.8, 10, 20, 15, 75, 34]\n"
          ]
        }
      ]
    }
  ]
}