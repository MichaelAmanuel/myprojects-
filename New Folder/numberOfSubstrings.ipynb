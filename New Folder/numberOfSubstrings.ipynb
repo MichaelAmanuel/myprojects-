{
  "nbformat": 4,
  "nbformat_minor": 0,
  "metadata": {
    "colab": {
      "provenance": []
    },
    "kernelspec": {
      "name": "python3",
      "display_name": "Python 3"
    },
    "language_info": {
      "name": "python"
    }
  },
  "cells": [
    {
      "cell_type": "code",
      "execution_count": null,
      "metadata": {
        "id": "kQjWvHzXch44"
      },
      "outputs": [],
      "source": [
        "\n",
        "\n",
        "class Solution:\n",
        "    def numberOfSubstrings(self, s):\n",
        "        from collections import Counter\n",
        "\n",
        "        left = 0\n",
        "        result = 0\n",
        "        count = Counter()\n",
        "\n",
        "        for right in range(len(s)):\n",
        "            count[s[right]] += 1\n",
        "\n",
        "            # Shrink the window from the left side until it's valid\n",
        "            while len(count) == 3:  # When we have 'a', 'b', and 'c'\n",
        "                result += len(s) - right  # All substrings from `left` to `right` are valid\n",
        "                count[s[left]] -= 1\n",
        "                if count[s[left]] == 0:\n",
        "                    del count[s[left]]\n",
        "                left += 1\n",
        "\n",
        "        return result"
      ]
    },
    {
      "cell_type": "code",
      "source": [],
      "metadata": {
        "id": "HhjYAmsPmpz5"
      },
      "execution_count": null,
      "outputs": []
    }
  ]
}