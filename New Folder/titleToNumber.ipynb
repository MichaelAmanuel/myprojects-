{
  "nbformat": 4,
  "nbformat_minor": 0,
  "metadata": {
    "colab": {
      "provenance": []
    },
    "kernelspec": {
      "name": "python3",
      "display_name": "Python 3"
    },
    "language_info": {
      "name": "python"
    }
  },
  "cells": [
    {
      "cell_type": "code",
      "execution_count": 18,
      "metadata": {
        "colab": {
          "base_uri": "https://localhost:8080/"
        },
        "id": "7fwQFidynX-Z",
        "outputId": "d49082b1-a39a-408a-b558-c3f9a093f162"
      },
      "outputs": [
        {
          "output_type": "stream",
          "name": "stdout",
          "text": [
            "5624\n"
          ]
        }
      ],
      "source": []
    },
    {
      "cell_type": "code",
      "source": [
        "\n",
        "class Solution(object):\n",
        "    def titleToNumber(self, columnTitle):\n",
        "\n",
        "      alphabet = 'ABCDEFGHIJKLMNOPQRSTUVWXYZ'\n",
        "      length = len(columnTitle)\n",
        "      o_p = 0\n",
        "\n",
        "      for i in columnTitle:\n",
        "          o_p += (alphabet.index(i) + 1) * (26 ** (length-1))\n",
        "          length -= 1\n",
        "\n",
        "      return o_p\n",
        "\n",
        "solution = Solution()\n",
        "columnTitle = \"ZY\"\n",
        "print(solution.titleToNumber(columnTitle))"
      ],
      "metadata": {
        "colab": {
          "base_uri": "https://localhost:8080/"
        },
        "id": "-fbn7Iv4utKn",
        "outputId": "4d0eb843-c0bb-4231-e9e0-49150455f5eb"
      },
      "execution_count": 13,
      "outputs": [
        {
          "output_type": "stream",
          "name": "stdout",
          "text": [
            "701\n"
          ]
        }
      ]
    }
  ]
}