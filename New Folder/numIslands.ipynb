{
  "nbformat": 4,
  "nbformat_minor": 0,
  "metadata": {
    "colab": {
      "provenance": []
    },
    "kernelspec": {
      "name": "python3",
      "display_name": "Python 3"
    },
    "language_info": {
      "name": "python"
    }
  },
  "cells": [
    {
      "cell_type": "code",
      "execution_count": null,
      "metadata": {
        "id": "q0FA5vf7xRJl"
      },
      "outputs": [],
      "source": [
        "class Solution:\n",
        "    def numIslands(self, grid):\n",
        "        if not grid:\n",
        "            return 0\n",
        "\n",
        "        def dfs(row, col):\n",
        "            if row < 0 or row >= len(grid) or col < 0 or col >= len(grid[0]) or grid[row][col] == '0':\n",
        "                return\n",
        "            grid[row][col] = '0'\n",
        "\n",
        "            dfs(row + 1, col)\n",
        "            dfs(row - 1, col)\n",
        "            dfs(row, col + 1)\n",
        "            dfs(row, col - 1)\n",
        "\n",
        "        num_islands = 0\n",
        "        rows, cols = len(grid), len(grid[0])\n",
        "\n",
        "        for i in range(rows):\n",
        "            for j in range(cols):\n",
        "                if grid[i][j] == '1':\n",
        "                    num_islands += 1\n",
        "                    dfs(i, j)\n",
        "\n",
        "        return num_islands\n",
        "\n",
        "\n",
        "\n",
        "solution = Solution()\n",
        "grid = [\n",
        "    [\"1\",\"1\",\"1\",\"1\",\"0\"],\n",
        "    [\"1\",\"1\",\"0\",\"1\",\"0\"],\n",
        "    [\"1\",\"1\",\"0\",\"0\",\"0\"],\n",
        "    [\"0\",\"0\",\"0\",\"0\",\"0\"]\n",
        "]\n",
        "print(solution.numIslands(grid))"
      ]
    }
  ]
}