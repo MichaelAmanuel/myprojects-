{
  "nbformat": 4,
  "nbformat_minor": 0,
  "metadata": {
    "colab": {
      "provenance": []
    },
    "kernelspec": {
      "name": "python3",
      "display_name": "Python 3"
    },
    "language_info": {
      "name": "python"
    }
  },
  "cells": [
    {
      "cell_type": "code",
      "execution_count": null,
      "metadata": {
        "colab": {
          "base_uri": "https://localhost:8080/"
        },
        "id": "ylOdLNgfOLg9",
        "outputId": "8039ef2e-c625-4dce-bfec-428672a5c859"
      },
      "outputs": [
        {
          "output_type": "stream",
          "name": "stdout",
          "text": [
            "4\n"
          ]
        }
      ],
      "source": [
        "class Solution:\n",
        "    def beautifulSubsets(self, nums, k):\n",
        "        self.count = 0\n",
        "\n",
        "        def backtrack(start, subset):\n",
        "            if len(subset) > 0:\n",
        "                self.count += 1\n",
        "\n",
        "            for i in range(start, len(nums)):\n",
        "                valid = True\n",
        "                for num in subset:\n",
        "                    if abs(nums[i] - num) == k:\n",
        "                        valid = False\n",
        "                        break\n",
        "                if valid:\n",
        "                    subset.append(nums[i])\n",
        "                    backtrack(i + 1, subset)\n",
        "                    subset.pop()\n",
        "\n",
        "        nums.sort()\n",
        "        backtrack(0, [])\n",
        "        return self.count\n",
        "\n",
        "solution = Solution()\n",
        "nums = [2, 4, 6]\n",
        "k = 2\n",
        "print(solution.beautifulSubsets(nums, k))"
      ]
    }
  ]
}