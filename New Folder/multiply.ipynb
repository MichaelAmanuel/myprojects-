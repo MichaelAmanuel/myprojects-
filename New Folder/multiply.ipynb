{
  "nbformat": 4,
  "nbformat_minor": 0,
  "metadata": {
    "colab": {
      "provenance": []
    },
    "kernelspec": {
      "name": "python3",
      "display_name": "Python 3"
    },
    "language_info": {
      "name": "python"
    }
  },
  "cells": [
    {
      "cell_type": "code",
      "execution_count": 2,
      "metadata": {
        "colab": {
          "base_uri": "https://localhost:8080/"
        },
        "id": "NotfhkHZSGG1",
        "outputId": "f2c7c2ec-c8ac-4953-a0e9-59b8692830e0"
      },
      "outputs": [
        {
          "output_type": "stream",
          "name": "stdout",
          "text": [
            "6\n"
          ]
        }
      ],
      "source": [
        "class Solution(object):\n",
        "    def multiply(self, num1, num2):\n",
        "\n",
        "      return str(int(num1)*int(num2))\n",
        "\n",
        "solution = Solution()\n",
        "num1 = \"2\"\n",
        "num2 = \"3\"\n",
        "print(solution.multiply(num1, num2))"
      ]
    },
    {
      "cell_type": "code",
      "source": [],
      "metadata": {
        "id": "HbBEC80wSWJo"
      },
      "execution_count": null,
      "outputs": []
    }
  ]
}