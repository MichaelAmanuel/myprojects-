{
  "nbformat": 4,
  "nbformat_minor": 0,
  "metadata": {
    "colab": {
      "provenance": []
    },
    "kernelspec": {
      "name": "python3",
      "display_name": "Python 3"
    },
    "language_info": {
      "name": "python"
    }
  },
  "cells": [
    {
      "cell_type": "code",
      "execution_count": null,
      "metadata": {
        "id": "kQjWvHzXch44",
        "colab": {
          "base_uri": "https://localhost:8080/"
        },
        "outputId": "50e14a69-7a1a-437e-be44-e1ade4c7db4d"
      },
      "outputs": [
        {
          "output_type": "stream",
          "name": "stdout",
          "text": [
            "zzcacc\n",
            "bbab\n"
          ]
        }
      ],
      "source": [
        "class Solution(object):\n",
        "    def shiftingLetters(self, s, shifts):\n",
        "        n = len(s)\n",
        "        shift_accum = [0] * (n + 1)\n",
        "        for start, end, direction in shifts:\n",
        "            shift_value = 1 if direction == 1 else -1\n",
        "            shift_accum[start] += shift_value\n",
        "            shift_accum[end + 1] -= shift_value\n",
        "        for i in range(1, n):\n",
        "            shift_accum[i] += shift_accum[i - 1]\n",
        "        result = []\n",
        "        for i, char in enumerate(s):\n",
        "            shift = (ord(char) - ord('a') + shift_accum[i]) % 26\n",
        "            result.append(chr(shift + ord('a')))\n",
        "        return ''.join(result)\n"
      ]
    }
  ]
}