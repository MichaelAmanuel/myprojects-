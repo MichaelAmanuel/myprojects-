{
  "nbformat": 4,
  "nbformat_minor": 0,
  "metadata": {
    "colab": {
      "provenance": []
    },
    "kernelspec": {
      "name": "python3",
      "display_name": "Python 3"
    },
    "language_info": {
      "name": "python"
    }
  },
  "cells": [
    {
      "cell_type": "code",
      "execution_count": 4,
      "metadata": {
        "colab": {
          "base_uri": "https://localhost:8080/"
        },
        "id": "STQ0tlwa-aNS",
        "outputId": "5e3e45cc-7445-435b-f6d0-dd6377412c72"
      },
      "outputs": [
        {
          "output_type": "stream",
          "name": "stdout",
          "text": [
            "4\n"
          ]
        }
      ],
      "source": [
        "class Solution(object):\n",
        "    def majorityElement(self, nums):\n",
        "\n",
        "      for i in nums:\n",
        "        if nums.count(i) > len(nums)/2:\n",
        "          return i\n",
        "\n",
        "solution = Solution()\n",
        "nums = [4,5,4]\n",
        "print(solution.majorityElement(nums))"
      ]
    },
    {
      "cell_type": "code",
      "source": [],
      "metadata": {
        "id": "kyOlsUyM_nt3"
      },
      "execution_count": null,
      "outputs": []
    }
  ]
}