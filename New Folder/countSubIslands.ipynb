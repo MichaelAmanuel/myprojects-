{
  "nbformat": 4,
  "nbformat_minor": 0,
  "metadata": {
    "colab": {
      "provenance": []
    },
    "kernelspec": {
      "name": "python3",
      "display_name": "Python 3"
    },
    "language_info": {
      "name": "python"
    }
  },
  "cells": [
    {
      "cell_type": "code",
      "execution_count": 10,
      "metadata": {
        "id": "kQjWvHzXch44"
      },
      "outputs": [],
      "source": [
        "class Solution(object):\n",
        "    def countSubIslands(self, grid1, grid2):\n",
        "        def dfs(r, c):\n",
        "            if r < 0 or r >= len(grid2) or c < 0 or c >= len(grid2[0]) or grid2[r][c] == 0:\n",
        "                return True\n",
        "            if grid1[r][c] == 0:\n",
        "                return False\n",
        "            grid2[r][c] = 0\n",
        "            up = dfs(r-1, c)\n",
        "            down = dfs(r+1, c)\n",
        "            left = dfs(r, c-1)\n",
        "            right = dfs(r, c+1)\n",
        "            return up and down and left and right\n",
        "\n",
        "        sub_islands = 0\n",
        "        for r in range(len(grid2)):\n",
        "            for c in range(len(grid2[0])):\n",
        "                if grid2[r][c] == 1:\n",
        "                    if dfs(r, c):\n",
        "                        sub_islands += 1\n",
        "        return sub_islands"
      ]
    }
  ]
}