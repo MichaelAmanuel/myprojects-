{
  "nbformat": 4,
  "nbformat_minor": 0,
  "metadata": {
    "colab": {
      "provenance": []
    },
    "kernelspec": {
      "name": "python3",
      "display_name": "Python 3"
    },
    "language_info": {
      "name": "python"
    }
  },
  "cells": [
    {
      "cell_type": "code",
      "execution_count": 2,
      "metadata": {
        "colab": {
          "base_uri": "https://localhost:8080/"
        },
        "id": "4W7hAvMfJUR7",
        "outputId": "35f2be95-e0b1-46b4-c79d-ab3e62708d68"
      },
      "outputs": [
        {
          "output_type": "stream",
          "name": "stdout",
          "text": [
            "False\n"
          ]
        }
      ],
      "source": [
        "class Solution:\n",
        "    def isMatch(self, s, p):\n",
        "\n",
        "        dp = [[False] * (len(p) + 1) for _ in range(len(s) + 1)]\n",
        "\n",
        "        dp[0][0] = True\n",
        "\n",
        "        for j in range(1, len(p) + 1):\n",
        "            if p[j - 1] == '*':\n",
        "                dp[0][j] = dp[0][j - 2]\n",
        "\n",
        "        for i in range(1, len(s) + 1):\n",
        "            for j in range(1, len(p) + 1):\n",
        "                if p[j - 1] == '.' or p[j - 1] == s[i - 1]:\n",
        "                    dp[i][j] = dp[i - 1][j - 1]\n",
        "                elif p[j - 1] == '*':\n",
        "                    dp[i][j] = dp[i][j - 2] or (dp[i - 1][j] and (s[i - 1] == p[j - 2] or p[j - 2] == '.'))\n",
        "\n",
        "        return dp[len(s)][len(p)]\n",
        "\n",
        "\n",
        "\n",
        "solution = Solution()\n",
        "print(solution.isMatch(\"aa\", \"a\"))"
      ]
    }
  ]
}