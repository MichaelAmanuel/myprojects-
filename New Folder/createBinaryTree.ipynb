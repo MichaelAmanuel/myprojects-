{
  "nbformat": 4,
  "nbformat_minor": 0,
  "metadata": {
    "colab": {
      "provenance": []
    },
    "kernelspec": {
      "name": "python3",
      "display_name": "Python 3"
    },
    "language_info": {
      "name": "python"
    }
  },
  "cells": [
    {
      "cell_type": "code",
      "execution_count": null,
      "metadata": {
        "id": "DOakYtw0Te52"
      },
      "outputs": [],
      "source": [
        "class TreeNode(object):\n",
        "    def __init__(self, val=0, left=None, right=None):\n",
        "        self.val = val\n",
        "        self.left = left\n",
        "        self.right = right\n",
        "\n",
        "class Solution(object):\n",
        "    def createBinaryTree(self, descriptions):\n",
        "        nodes = {}\n",
        "        children = set()\n",
        "\n",
        "        for parent, child, isLeft in descriptions:\n",
        "            if parent not in nodes:\n",
        "                nodes[parent] = TreeNode(parent)\n",
        "            if child not in nodes:\n",
        "                nodes[child] = TreeNode(child)\n",
        "\n",
        "            if isLeft:\n",
        "                nodes[parent].left = nodes[child]\n",
        "            else:\n",
        "                nodes[parent].right = nodes[child]\n",
        "\n",
        "            children.add(child)\n",
        "\n",
        "        root = None\n",
        "        for parent, child, isLeft in descriptions:\n",
        "            if parent not in children:\n",
        "                root = nodes[parent]\n",
        "                break\n",
        "\n",
        "        return root\n"
      ]
    }
  ]
}