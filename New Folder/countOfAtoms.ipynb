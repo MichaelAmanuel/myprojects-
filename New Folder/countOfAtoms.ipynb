{
  "nbformat": 4,
  "nbformat_minor": 0,
  "metadata": {
    "colab": {
      "provenance": []
    },
    "kernelspec": {
      "name": "python3",
      "display_name": "Python 3"
    },
    "language_info": {
      "name": "python"
    }
  },
  "cells": [
    {
      "cell_type": "code",
      "execution_count": null,
      "metadata": {
        "id": "wJ3Y_sbyUKj2"
      },
      "outputs": [],
      "source": [
        "class Solution:\n",
        "    def countOfAtoms(self, formula):\n",
        "        import collections\n",
        "        stack = [collections.defaultdict(int)]\n",
        "        i, n = 0, len(formula)\n",
        "\n",
        "        while i < n:\n",
        "            if formula[i] == '(':\n",
        "                stack.append(collections.defaultdict(int))\n",
        "                i += 1\n",
        "            elif formula[i] == ')':\n",
        "                i += 1\n",
        "                start = i\n",
        "                while i < n and formula[i].isdigit():\n",
        "                    i += 1\n",
        "                multiplicity = int(formula[start:i] or 1)\n",
        "                top = stack.pop()\n",
        "                for name, count in top.items():\n",
        "                    stack[-1][name] += count * multiplicity\n",
        "            else:\n",
        "                start = i\n",
        "                i += 1\n",
        "                while i < n and formula[i].islower():\n",
        "                    i += 1\n",
        "                name = formula[start:i]\n",
        "                start = i\n",
        "                while i < n and formula[i].isdigit():\n",
        "                    i += 1\n",
        "                count = int(formula[start:i] or 1)\n",
        "                stack[-1][name] += count\n",
        "\n",
        "        result = []\n",
        "        for name in sorted(stack[-1]):\n",
        "            result.append(name)\n",
        "            if stack[-1][name] > 1:\n",
        "                result.append(str(stack[-1][name]))\n",
        "\n",
        "        return ''.join(result)\n",
        "\n",
        "\n",
        "sol = Solution()\n",
        "print(sol.countOfAtoms(\"H2O\"))"
      ]
    }
  ]
}