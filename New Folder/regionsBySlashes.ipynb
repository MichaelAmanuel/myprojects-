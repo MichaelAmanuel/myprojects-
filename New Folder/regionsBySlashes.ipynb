{
  "nbformat": 4,
  "nbformat_minor": 0,
  "metadata": {
    "colab": {
      "provenance": []
    },
    "kernelspec": {
      "name": "python3",
      "display_name": "Python 3"
    },
    "language_info": {
      "name": "python"
    }
  },
  "cells": [
    {
      "cell_type": "code",
      "execution_count": null,
      "metadata": {
        "id": "kQjWvHzXch44",
        "colab": {
          "base_uri": "https://localhost:8080/"
        },
        "outputId": "d2501bef-d495-4ef1-bd7d-671e37c016d1"
      },
      "outputs": [
        {
          "output_type": "stream",
          "name": "stdout",
          "text": [
            "5\n",
            "12\n",
            "24\n"
          ]
        }
      ],
      "source": [
        "class UnionFind:\n",
        "    def __init__(self, size):\n",
        "        self.parent = list(range(size))\n",
        "        self.rank = [1] * size\n",
        "\n",
        "    def find(self, x):\n",
        "        if self.parent[x] != x:\n",
        "            self.parent[x] = self.find(self.parent[x])\n",
        "        return self.parent[x]\n",
        "\n",
        "    def union(self, x, y):\n",
        "        rootX = self.find(x)\n",
        "        rootY = self.find(y)\n",
        "        if rootX != rootY:\n",
        "            if self.rank[rootX] > self.rank[rootY]:\n",
        "                self.parent[rootY] = rootX\n",
        "            elif self.rank[rootX] < self.rank[rootY]:\n",
        "                self.parent[rootX] = rootY\n",
        "            else:\n",
        "                self.parent[rootY] = rootX\n",
        "                self.rank[rootX] += 1\n",
        "\n",
        "    def count(self):\n",
        "        return len({self.find(x) for x in range(len(self.parent))})\n",
        "\n",
        "class Solution(object):\n",
        "    def regionsBySlashes(self, grid):\n",
        "        n = len(grid)\n",
        "        uf = UnionFind(n * n * 4)\n",
        "\n",
        "        for r in range(n):\n",
        "            for c in range(n):\n",
        "                index = 4 * (r * n + c)\n",
        "                ch = grid[r][c]\n",
        "\n",
        "                # Connect internal triangles of a cell\n",
        "                if ch == ' ':\n",
        "                    uf.union(index + 0, index + 1)\n",
        "                    uf.union(index + 1, index + 2)\n",
        "                    uf.union(index + 2, index + 3)\n",
        "                elif ch == '/':\n",
        "                    uf.union(index + 0, index + 3)\n",
        "                    uf.union(index + 1, index + 2)\n",
        "                elif ch == '\\\\':\n",
        "                    uf.union(index + 0, index + 1)\n",
        "                    uf.union(index + 2, index + 3)\n",
        "\n",
        "                if c + 1 < n:\n",
        "                    uf.union(index + 1, 4 * (r * n + (c + 1)) + 3)\n",
        "\n",
        "                if r + 1 < n:\n",
        "                    uf.union(index + 2, 4 * ((r + 1) * n + c) + 0)\n",
        "\n",
        "        return uf.count()\n",
        "\n",
        "\n",
        "solution = Solution()\n",
        "grid1 = [\" /\",\"/ \"]\n",
        "grid2 = [\" /\",\"  \"]\n",
        "grid3 = [\"/\\\\\",\"\\\\/\"]\n",
        "\n",
        "print(solution.regionsBySlashes(grid1))  # Output: 2\n",
        "print(solution.regionsBySlashes(grid2))  # Output: 1\n",
        "print(solution.regionsBySlashes(grid3))  # Output: 5\n"
      ]
    },
    {
      "cell_type": "code",
      "source": [],
      "metadata": {
        "id": "FsWd_sONMEhw",
        "outputId": "c94d3430-ac5a-4336-d4ac-de2f5ea65a69",
        "colab": {
          "base_uri": "https://localhost:8080/"
        }
      },
      "execution_count": null,
      "outputs": [
        {
          "output_type": "stream",
          "name": "stdout",
          "text": [
            "6\n",
            "6\n"
          ]
        }
      ]
    }
  ]
}