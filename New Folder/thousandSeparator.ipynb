{
  "nbformat": 4,
  "nbformat_minor": 0,
  "metadata": {
    "colab": {
      "provenance": []
    },
    "kernelspec": {
      "name": "python3",
      "display_name": "Python 3"
    },
    "language_info": {
      "name": "python"
    }
  },
  "cells": [
    {
      "cell_type": "code",
      "execution_count": null,
      "metadata": {
        "id": "xyq7FhtqkvH6"
      },
      "outputs": [],
      "source": [
        "class Solution(object):\n",
        "    def thousandSeparator(self, n):\n",
        "\n",
        "        st_n = str(n)\n",
        "        out_put = ''\n",
        "        count = 0\n",
        "        for i in reversed(st_n):\n",
        "          if count == 3:\n",
        "            out_put = \".\" + out_put\n",
        "            out_put = i + out_put\n",
        "            count = 1\n",
        "          elif count < 3:\n",
        "            out_put = i + out_put\n",
        "            count += 1\n",
        "\n",
        "        return out_put\n",
        "\n",
        "solution = Solution()\n",
        "n = 123456789\n",
        "result = solution.thousandSeparator(n)\n",
        "print(result)"
      ]
    }
  ]
}