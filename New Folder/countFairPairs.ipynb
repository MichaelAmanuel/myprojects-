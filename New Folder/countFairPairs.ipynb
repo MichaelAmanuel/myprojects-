{
  "nbformat": 4,
  "nbformat_minor": 0,
  "metadata": {
    "colab": {
      "provenance": []
    },
    "kernelspec": {
      "name": "python3",
      "display_name": "Python 3"
    },
    "language_info": {
      "name": "python"
    }
  },
  "cells": [
    {
      "cell_type": "code",
      "execution_count": null,
      "metadata": {
        "id": "kQjWvHzXch44",
        "colab": {
          "base_uri": "https://localhost:8080/"
        },
        "outputId": "b3d22a1b-b78b-4e2c-8b8c-04590b83ce94"
      },
      "outputs": [
        {
          "output_type": "stream",
          "name": "stdout",
          "text": [
            "7\n"
          ]
        }
      ],
      "source": [
        "from bisect import bisect_left, bisect_right\n",
        "\n",
        "class Solution(object):\n",
        "    def countFairPairs(self, nums, lower, upper):\n",
        "        nums.sort()\n",
        "        n = len(nums)\n",
        "        count = 0\n",
        "\n",
        "        for i in range(n):\n",
        "            low = bisect_left(nums, lower - nums[i], i + 1, n)\n",
        "            high = bisect_right(nums, upper - nums[i], i + 1, n)\n",
        "            count += high - low\n",
        "\n",
        "        return count\n",
        "\n",
        "solution = Solution()\n",
        "print(solution.countFairPairs([0, 1, 7, 4, 4, 5], 3, 6))  # Output: 6\n",
        "print(solution.countFairPairs([1, 7, 9, 2, 5], 11, 11))   # Output: 1\n"
      ]
    }
  ]
}