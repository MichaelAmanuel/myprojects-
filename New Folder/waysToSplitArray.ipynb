{
  "nbformat": 4,
  "nbformat_minor": 0,
  "metadata": {
    "colab": {
      "provenance": []
    },
    "kernelspec": {
      "name": "python3",
      "display_name": "Python 3"
    },
    "language_info": {
      "name": "python"
    }
  },
  "cells": [
    {
      "cell_type": "code",
      "execution_count": null,
      "metadata": {
        "id": "kQjWvHzXch44",
        "colab": {
          "base_uri": "https://localhost:8080/"
        },
        "outputId": "50e14a69-7a1a-437e-be44-e1ade4c7db4d"
      },
      "outputs": [
        {
          "output_type": "stream",
          "name": "stdout",
          "text": [
            "zzcacc\n",
            "bbab\n"
          ]
        }
      ],
      "source": [
        "class Solution(object):\n",
        "    def waysToSplitArray(self, nums):\n",
        "\n",
        "        total_sum = sum(nums)\n",
        "\n",
        "        prefix_sum = 0\n",
        "        valid_splits = 0\n",
        "\n",
        "        for i in range(len(nums) - 1):\n",
        "            prefix_sum += nums[i]\n",
        "            right_sum = total_sum - prefix_sum\n",
        "\n",
        "            if prefix_sum >= right_sum:\n",
        "                valid_splits += 1\n",
        "\n",
        "        return valid_splits\n"
      ]
    }
  ]
}