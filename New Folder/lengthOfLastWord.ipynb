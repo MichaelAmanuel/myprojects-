{
  "nbformat": 4,
  "nbformat_minor": 0,
  "metadata": {
    "colab": {
      "provenance": []
    },
    "kernelspec": {
      "name": "python3",
      "display_name": "Python 3"
    },
    "language_info": {
      "name": "python"
    }
  },
  "cells": [
    {
      "cell_type": "code",
      "source": [
        "class Solution(object):\n",
        "    def lengthOfLastWord(self, s):\n",
        "\n",
        "      return len(s.split()[-1])\n",
        "\n",
        "solution = Solution()\n",
        "s = \"luffy is still joyboy\"\n",
        "print(solution.lengthOfLastWord(s))"
      ],
      "metadata": {
        "colab": {
          "base_uri": "https://localhost:8080/"
        },
        "id": "s1pbLsZLB69q",
        "outputId": "10b680c0-e92d-4b8d-d6b9-dce2d61556fc"
      },
      "execution_count": 14,
      "outputs": [
        {
          "output_type": "stream",
          "name": "stdout",
          "text": [
            "6\n"
          ]
        }
      ]
    },
    {
      "cell_type": "code",
      "execution_count": 15,
      "metadata": {
        "colab": {
          "base_uri": "https://localhost:8080/"
        },
        "id": "7p7JIOUuAqXX",
        "outputId": "1c810c45-1f54-4927-ce05-165e7ea1137b"
      },
      "outputs": [
        {
          "output_type": "stream",
          "name": "stdout",
          "text": [
            "6\n"
          ]
        }
      ],
      "source": [
        "class Solution(object):\n",
        "    def lengthOfLastWord(self, s):\n",
        "\n",
        "      ss = s.split()\n",
        "      return len(ss[-1])\n",
        "\n",
        "solution = Solution()\n",
        "s = \"luffy is still joyboy\"\n",
        "print(solution.lengthOfLastWord(s))\n"
      ]
    }
  ]
}