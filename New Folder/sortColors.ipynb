{
  "nbformat": 4,
  "nbformat_minor": 0,
  "metadata": {
    "colab": {
      "provenance": []
    },
    "kernelspec": {
      "name": "python3",
      "display_name": "Python 3"
    },
    "language_info": {
      "name": "python"
    }
  },
  "cells": [
    {
      "cell_type": "code",
      "execution_count": null,
      "metadata": {
        "id": "uJvs1uvOyrNY"
      },
      "outputs": [],
      "source": [
        "class Solution(object):\n",
        "    def sortColors(self, nums):\n",
        "\n",
        "        low, mid, high = 0, 0, len(nums) - 1\n",
        "\n",
        "        while mid <= high:\n",
        "            if nums[mid] == 0:\n",
        "                nums[low], nums[mid] = nums[mid], nums[low]\n",
        "                low += 1\n",
        "                mid += 1\n",
        "            elif nums[mid] == 1:\n",
        "                mid += 1\n",
        "            else:\n",
        "                nums[high], nums[mid] = nums[mid], nums[high]\n",
        "                high -= 1\n",
        "\n",
        "solution = Solution()\n",
        "nums = [2, 0, 2, 1, 1, 0]\n",
        "solution.sortColors(nums)\n",
        "print(nums)\n"
      ]
    }
  ]
}