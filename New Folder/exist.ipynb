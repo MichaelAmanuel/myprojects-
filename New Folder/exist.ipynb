{
  "nbformat": 4,
  "nbformat_minor": 0,
  "metadata": {
    "colab": {
      "provenance": []
    },
    "kernelspec": {
      "name": "python3",
      "display_name": "Python 3"
    },
    "language_info": {
      "name": "python"
    }
  },
  "cells": [
    {
      "cell_type": "code",
      "execution_count": 2,
      "metadata": {
        "colab": {
          "base_uri": "https://localhost:8080/"
        },
        "id": "i49FVraq-dWy",
        "outputId": "047340d8-70a1-49fd-cf7a-30b7c39e0d00"
      },
      "outputs": [
        {
          "output_type": "stream",
          "name": "stdout",
          "text": [
            "True\n"
          ]
        }
      ],
      "source": [
        "class Solution(object):\n",
        "  def exist(self, board, word):\n",
        "    def dfs(row, col, index):\n",
        "\n",
        "        if index == len(word):\n",
        "            return True\n",
        "\n",
        "\n",
        "        if row < 0 or row >= m or col < 0 or col >= n or board[row][col] != word[index]:\n",
        "            return False\n",
        "\n",
        "        temp = board[row][col]\n",
        "        board[row][col] = '#'\n",
        "\n",
        "\n",
        "        found = dfs(row + 1, col, index + 1) or dfs(row - 1, col, index + 1) \\\n",
        "                or dfs(row, col + 1, index + 1) or dfs(row, col - 1, index + 1)\n",
        "\n",
        "        board[row][col] = temp\n",
        "\n",
        "        return found\n",
        "\n",
        "    m, n = len(board), len(board[0])\n",
        "\n",
        "    for i in range(m):\n",
        "        for j in range(n):\n",
        "            if dfs(i, j, 0):\n",
        "                return True\n",
        "\n",
        "    return False\n",
        "\n",
        "solution = Solution()\n",
        "board = [\n",
        "    ['A','B','C','E'],\n",
        "    ['S','F','C','S'],\n",
        "    ['A','D','E','E']\n",
        "]\n",
        "word1 = \"ABCCED\"\n",
        "\n",
        "print(solution.exist(board, word1))"
      ]
    }
  ]
}