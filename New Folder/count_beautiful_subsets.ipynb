{
  "nbformat": 4,
  "nbformat_minor": 0,
  "metadata": {
    "colab": {
      "provenance": []
    },
    "kernelspec": {
      "name": "python3",
      "display_name": "Python 3"
    },
    "language_info": {
      "name": "python"
    }
  },
  "cells": [
    {
      "cell_type": "code",
      "execution_count": 1,
      "metadata": {
        "colab": {
          "base_uri": "https://localhost:8080/"
        },
        "id": "aPifJSLE0AKo",
        "outputId": "8c553762-8cbc-4927-f420-2e040cea324e"
      },
      "outputs": [
        {
          "output_type": "stream",
          "name": "stdout",
          "text": [
            "4\n"
          ]
        }
      ],
      "source": [
        "def count_beautiful_subsets(nums, k):\n",
        "    def is_beautiful(subset):\n",
        "        for i in range(len(subset)):\n",
        "            for j in range(i + 1, len(subset)):\n",
        "                if abs(subset[i] - subset[j]) == k:\n",
        "                    return False\n",
        "        return True\n",
        "\n",
        "    def backtrack(start, current_subset):\n",
        "        if current_subset:\n",
        "            if is_beautiful(current_subset):\n",
        "                result[0] += 1\n",
        "        for i in range(start, len(nums)):\n",
        "            current_subset.append(nums[i])\n",
        "            backtrack(i + 1, current_subset)\n",
        "            current_subset.pop()\n",
        "\n",
        "    result = [0]\n",
        "    backtrack(0, [])\n",
        "    return result[0]\n",
        "\n",
        "# Example usage:\n",
        "nums = [2, 4, 6]\n",
        "k = 2\n",
        "print(count_beautiful_subsets(nums, k))"
      ]
    }
  ]
}