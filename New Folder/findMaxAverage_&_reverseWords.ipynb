{
  "nbformat": 4,
  "nbformat_minor": 0,
  "metadata": {
    "colab": {
      "provenance": []
    },
    "kernelspec": {
      "name": "python3",
      "display_name": "Python 3"
    },
    "language_info": {
      "name": "python"
    }
  },
  "cells": [
    {
      "cell_type": "code",
      "execution_count": 5,
      "metadata": {
        "id": "EcNmUHmVRTgP",
        "colab": {
          "base_uri": "https://localhost:8080/"
        },
        "outputId": "827b0442-29e8-4045-fb59-75630ef42c46"
      },
      "outputs": [
        {
          "output_type": "stream",
          "name": "stdout",
          "text": [
            "[24, 15, 13, 15, 21]\n"
          ]
        }
      ],
      "source": [
        "class Solution(object):\n",
        "    def getSumAbsoluteDifferences(self, nums):\n",
        "        num = []\n",
        "        for i in nums:\n",
        "            max_n = 0\n",
        "            for j in nums:\n",
        "                max_n += abs(i - j)\n",
        "\n",
        "            num.append(max_n)\n",
        "        return num\n",
        "\n",
        "solution = Solution()\n",
        "num = [1,4,6,8,10]\n",
        "result = solution.getSumAbsoluteDifferences(num)\n",
        "print(result)"
      ]
    },
    {
      "cell_type": "code",
      "source": [
        "class Solution(object):\n",
        "    def findMaxAverage(self, nums, k):\n",
        "      if len(nums) == 1:\n",
        "        result = nums[0] / k\n",
        "      else:\n",
        "        max_av = 0\n",
        "        for i in range(k):\n",
        "          sum_add = 0\n",
        "          n = k\n",
        "          for j, p in zip(range(i + 1, len(nums)), range(n)):\n",
        "            sum_add += nums[j]\n",
        "            n -= 1\n",
        "          if sum_add > max_av and n == 0:\n",
        "            max_av = sum_add\n",
        "\n",
        "        result = max_av / k\n",
        "      return result\n",
        "\n",
        "solution = Solution()\n",
        "num = [1,12,-5,-6,50,3]\n",
        "k = 4\n",
        "result = solution.findMaxAverage(num, k)\n",
        "print(result)"
      ],
      "metadata": {
        "colab": {
          "base_uri": "https://localhost:8080/"
        },
        "id": "z1DXToZyP7rW",
        "outputId": "edfe042c-90d0-4020-ef71-70db274044dd"
      },
      "execution_count": 4,
      "outputs": [
        {
          "output_type": "stream",
          "name": "stdout",
          "text": [
            "12.75\n"
          ]
        }
      ]
    },
    {
      "cell_type": "code",
      "source": [
        "class Solution(object):\n",
        "    def reverseWords(self, s):\n",
        "      s_pp = s.split()[::-1]\n",
        "      result = \" \".join(s_pp)\n",
        "\n",
        "      return result\n",
        "\n",
        "solution = Solution()\n",
        "s = \"the sky is blue\"\n",
        "result = solution.reverseWords(s)\n",
        "print(result)"
      ],
      "metadata": {
        "colab": {
          "base_uri": "https://localhost:8080/"
        },
        "id": "TD-XmnEYQRrH",
        "outputId": "b94fad3e-5375-4efb-dc46-23e7bde6979d"
      },
      "execution_count": 1,
      "outputs": [
        {
          "output_type": "stream",
          "name": "stdout",
          "text": [
            "blue is sky the\n"
          ]
        }
      ]
    }
  ]
}