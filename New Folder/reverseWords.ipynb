{
  "nbformat": 4,
  "nbformat_minor": 0,
  "metadata": {
    "colab": {
      "provenance": []
    },
    "kernelspec": {
      "name": "python3",
      "display_name": "Python 3"
    },
    "language_info": {
      "name": "python"
    }
  },
  "cells": [
    {
      "cell_type": "code",
      "execution_count": 5,
      "metadata": {
        "colab": {
          "base_uri": "https://localhost:8080/"
        },
        "id": "QextRX-LdVzi",
        "outputId": "0e0d925a-df12-4a34-bbf7-cf3a42407578"
      },
      "outputs": [
        {
          "output_type": "stream",
          "name": "stdout",
          "text": [
            "s'teL ekat edoCteeL tsetnoc\n"
          ]
        }
      ],
      "source": [
        "\n",
        "class Solution(object):\n",
        "    def reverseWords(self, s):\n",
        "      ss = s.split(' ')\n",
        "      o_p = []\n",
        "      for i in range(len(ss)):\n",
        "        o_p.append(ss[i][::-1])\n",
        "        # print(o_p)\n",
        "      return ' '.join(o_p)\n",
        "\n",
        "solution = Solution()\n",
        "s = \"Let's take LeetCode contest\"\n",
        "print(solution.reverseWords(s))"
      ]
    }
  ]
}