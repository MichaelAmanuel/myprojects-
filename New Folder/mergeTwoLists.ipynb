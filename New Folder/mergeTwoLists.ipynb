{
  "nbformat": 4,
  "nbformat_minor": 0,
  "metadata": {
    "colab": {
      "provenance": []
    },
    "kernelspec": {
      "name": "python3",
      "display_name": "Python 3"
    },
    "language_info": {
      "name": "python"
    }
  },
  "cells": [
    {
      "cell_type": "code",
      "execution_count": null,
      "metadata": {
        "id": "CmHTMTqeS8lf"
      },
      "outputs": [],
      "source": [
        "class ListNode(object):\n",
        "    def __init__(self, val=0, next=None):\n",
        "        self.val = val\n",
        "        self.next = next\n",
        "\n",
        "class Solution(object):\n",
        "    def mergeTwoLists(self, list1, list2):\n",
        "        dummy = ListNode()\n",
        "        tail = dummy\n",
        "\n",
        "        while list1 and list2:\n",
        "            if list1.val < list2.val:\n",
        "                tail.next = list1\n",
        "                list1 = list1.next\n",
        "            else:\n",
        "                tail.next = list2\n",
        "                list2 = list2.next\n",
        "            tail = tail.next\n",
        "\n",
        "        if list1:\n",
        "            tail.next = list1\n",
        "        if list2:\n",
        "            tail.next = list2\n",
        "\n",
        "        return dummy.next\n",
        "\n",
        "def create_linked_list(arr):\n",
        "    if not arr:\n",
        "        return None\n",
        "    head = ListNode(arr[0])\n",
        "    current = head\n",
        "    for val in arr[1:]:\n",
        "        current.next = ListNode(val)\n",
        "        current = current.next\n",
        "    return head\n",
        "\n",
        "def linked_list_to_list(head):\n",
        "    result = []\n",
        "    current = head\n",
        "    while current:\n",
        "        result.append(current.val)\n",
        "        current = current.next\n",
        "    return result\n",
        "\n",
        "list1 = create_linked_list([1, 2, 4])\n",
        "list2 = create_linked_list([1, 3, 4])\n",
        "\n",
        "solution = Solution()\n",
        "merged_head = solution.mergeTwoLists(list1, list2)\n",
        "print(linked_list_to_list(merged_head))"
      ]
    }
  ]
}