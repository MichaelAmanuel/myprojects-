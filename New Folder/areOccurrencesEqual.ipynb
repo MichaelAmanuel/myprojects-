{
  "nbformat": 4,
  "nbformat_minor": 0,
  "metadata": {
    "colab": {
      "provenance": []
    },
    "kernelspec": {
      "name": "python3",
      "display_name": "Python 3"
    },
    "language_info": {
      "name": "python"
    }
  },
  "cells": [
    {
      "cell_type": "code",
      "execution_count": 2,
      "metadata": {
        "colab": {
          "base_uri": "https://localhost:8080/"
        },
        "id": "SlXUA_VmWWLy",
        "outputId": "49bc4230-9f8c-4f8b-c1e6-350dd746c0ae"
      },
      "outputs": [
        {
          "output_type": "stream",
          "name": "stdout",
          "text": [
            "True\n"
          ]
        }
      ],
      "source": [
        "class Solution(object):\n",
        "    def areOccurrencesEqual(self, s):\n",
        "\n",
        "      count = s.count('a')\n",
        "\n",
        "      for i in s:\n",
        "        if s.count(i) != count:\n",
        "          return False\n",
        "\n",
        "      return True\n",
        "\n",
        "solution = Solution()\n",
        "s = \"abacbc\"\n",
        "print(solution.areOccurrencesEqual(s))"
      ]
    },
    {
      "cell_type": "code",
      "source": [
        "class Solution(object):\n",
        "    def areOccurrencesEqual(self, s):\n",
        "\n",
        "      count = s.count(s[0])\n",
        "\n",
        "      for i in s:\n",
        "        if s.count(i) != count:\n",
        "          return False\n",
        "\n",
        "      return True\n",
        "\n",
        "solution = Solution()\n",
        "s = \"vvvvvvvvvvvvvvvvvvv\"\n",
        "print(solution.areOccurrencesEqual(s))"
      ],
      "metadata": {
        "colab": {
          "base_uri": "https://localhost:8080/"
        },
        "id": "_AUDnVhZHQUC",
        "outputId": "bf2771ae-6489-4f79-a316-302183f1b3fc"
      },
      "execution_count": 5,
      "outputs": [
        {
          "output_type": "stream",
          "name": "stdout",
          "text": [
            "True\n"
          ]
        }
      ]
    }
  ]
}