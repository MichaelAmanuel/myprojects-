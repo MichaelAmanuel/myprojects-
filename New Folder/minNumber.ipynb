{
  "nbformat": 4,
  "nbformat_minor": 0,
  "metadata": {
    "colab": {
      "provenance": []
    },
    "kernelspec": {
      "name": "python3",
      "display_name": "Python 3"
    },
    "language_info": {
      "name": "python"
    }
  },
  "cells": [
    {
      "cell_type": "code",
      "execution_count": 4,
      "metadata": {
        "colab": {
          "base_uri": "https://localhost:8080/"
        },
        "id": "9EoJG6WwDM_F",
        "outputId": "a65fe5ec-eb82-4ab8-d689-681d52fa5f2a"
      },
      "outputs": [
        {
          "output_type": "stream",
          "name": "stdout",
          "text": [
            "3\n"
          ]
        }
      ],
      "source": [
        "class Solution(object):\n",
        "    def minNumber(self, nums1, nums2):\n",
        "\n",
        "      com = set(nums1) & set(nums2)\n",
        "      if len(com) >=1:\n",
        "        return min(com)\n",
        "\n",
        "      min_1 = str(min(nums1))\n",
        "      min_2 = str(min(nums2))\n",
        "\n",
        "      if min_1 > min_2:\n",
        "        return int(min_2 + min_1)\n",
        "      else:\n",
        "        return int(min_1 + min_2)\n",
        "\n",
        "\n",
        "solution = Solution()\n",
        "nums1 = [3,5,2,6]\n",
        "nums2 = [3, 1, 7]\n",
        "\n",
        "print(solution.minNumber(nums1, nums2))"
      ]
    },
    {
      "cell_type": "code",
      "source": [
        "class Solution(object):\n",
        "    def minNumber(self, nums1, nums2):\n",
        "\n",
        "      com = set(nums1) & set(nums2)\n",
        "      if len(com) >=1:\n",
        "        return min(com)\n",
        "\n",
        "      min_1 = min(nums1)\n",
        "      min_2 = min(nums2)\n",
        "\n",
        "      if min_1 > min_2:\n",
        "        return min_2 * 10 + min_1\n",
        "      else:\n",
        "        return min_1 * 10 + min_2\n",
        "\n",
        "\n",
        "solution = Solution()\n",
        "nums1 = [3,5,2,6]\n",
        "nums2 = [3, 1, 7]\n",
        "\n",
        "print(solution.minNumber(nums1, nums2))"
      ],
      "metadata": {
        "colab": {
          "base_uri": "https://localhost:8080/"
        },
        "id": "u_id59m3GGAS",
        "outputId": "ae9d2577-09d4-457f-ca8d-9229e91ca456"
      },
      "execution_count": 5,
      "outputs": [
        {
          "output_type": "stream",
          "name": "stdout",
          "text": [
            "3\n"
          ]
        }
      ]
    }
  ]
}