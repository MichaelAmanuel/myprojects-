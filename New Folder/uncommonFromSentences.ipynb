{
  "nbformat": 4,
  "nbformat_minor": 0,
  "metadata": {
    "colab": {
      "provenance": []
    },
    "kernelspec": {
      "name": "python3",
      "display_name": "Python 3"
    },
    "language_info": {
      "name": "python"
    }
  },
  "cells": [
    {
      "cell_type": "code",
      "execution_count": 5,
      "metadata": {
        "colab": {
          "base_uri": "https://localhost:8080/"
        },
        "id": "svzUpV-g3bti",
        "outputId": "adab29e1-f13d-4620-db62-e822118397f7"
      },
      "outputs": [
        {
          "output_type": "stream",
          "name": "stdout",
          "text": [
            "['banana']\n"
          ]
        }
      ],
      "source": [
        "class Solution(object):\n",
        "    def uncommonFromSentences(self, s1, s2):\n",
        "\n",
        "      sen_1 = s1.split(' ')\n",
        "      sen_2 = s2.split(' ')\n",
        "\n",
        "      result = []\n",
        "      for i in sen_1:\n",
        "        if sen_1.count(i) == 1 and i not in sen_2:\n",
        "          result.append(i)\n",
        "\n",
        "      for j in sen_2:\n",
        "        if sen_2.count(j) == 1 and j not in sen_1:\n",
        "          result.append(j)\n",
        "\n",
        "      return result\n",
        "\n",
        "solution = Solution()\n",
        "s1 = \"apple apple\"\n",
        "s2 = \"banana\"\n",
        "print(solution.uncommonFromSentences(s1, s2))"
      ]
    }
  ]
}