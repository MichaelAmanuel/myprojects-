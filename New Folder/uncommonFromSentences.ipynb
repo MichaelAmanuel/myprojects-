{
  "nbformat": 4,
  "nbformat_minor": 0,
  "metadata": {
    "colab": {
      "provenance": []
    },
    "kernelspec": {
      "name": "python3",
      "display_name": "Python 3"
    },
    "language_info": {
      "name": "python"
    }
  },
  "cells": [
    {
      "cell_type": "code",
      "execution_count": 9,
      "metadata": {
        "id": "kQjWvHzXch44"
      },
      "outputs": [],
      "source": [
        "from collections import Counter\n",
        "\n",
        "class Solution:\n",
        "    def uncommonFromSentences(self, s1, s2):\n",
        "        word_count = Counter(s1.split()) + Counter(s2.split())\n",
        "        return [word for word in word_count if word_count[word] == 1]\n"
      ]
    }
  ]
}