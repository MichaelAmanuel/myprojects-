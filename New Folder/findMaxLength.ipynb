{
  "nbformat": 4,
  "nbformat_minor": 0,
  "metadata": {
    "colab": {
      "provenance": []
    },
    "kernelspec": {
      "name": "python3",
      "display_name": "Python 3"
    },
    "language_info": {
      "name": "python"
    }
  },
  "cells": [
    {
      "cell_type": "code",
      "execution_count": 3,
      "metadata": {
        "colab": {
          "base_uri": "https://localhost:8080/"
        },
        "id": "gyA_BDSFkHe3",
        "outputId": "f5f34544-3ffd-4765-a523-f0f9747f5927"
      },
      "outputs": [
        {
          "output_type": "stream",
          "name": "stdout",
          "text": [
            "2\n"
          ]
        }
      ],
      "source": [
        "class Solution(object):\n",
        "  def findMaxLength(self, nums):\n",
        "      sum_indices = {0: -1}\n",
        "      max_length = 0\n",
        "      count = 0\n",
        "\n",
        "      for i, num in enumerate(nums):\n",
        "          count += 1 if num == 1 else -1\n",
        "\n",
        "          if count in sum_indices:\n",
        "              max_length = max(max_length, i - sum_indices[count])\n",
        "          else:\n",
        "              sum_indices[count] = i\n",
        "\n",
        "      return max_length\n",
        "\n",
        "\n",
        "solution = Solution()\n",
        "nums = [0,1]\n",
        "print(solution.findMaxLength(nums))\n"
      ]
    }
  ]
}