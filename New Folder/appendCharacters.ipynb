{
  "nbformat": 4,
  "nbformat_minor": 0,
  "metadata": {
    "colab": {
      "provenance": []
    },
    "kernelspec": {
      "name": "python3",
      "display_name": "Python 3"
    },
    "language_info": {
      "name": "python"
    }
  },
  "cells": [
    {
      "cell_type": "code",
      "execution_count": 1,
      "metadata": {
        "colab": {
          "base_uri": "https://localhost:8080/"
        },
        "id": "K15JL8eAWIC8",
        "outputId": "5d75fbce-4727-47f6-f13e-5cf6a271759e"
      },
      "outputs": [
        {
          "output_type": "stream",
          "name": "stdout",
          "text": [
            "4\n"
          ]
        }
      ],
      "source": [
        "class Solution(object):\n",
        "    def appendCharacters(self, s, t):\n",
        "        m, n = len(s), len(t)\n",
        "        j = 0\n",
        "\n",
        "        for i in range(m):\n",
        "            if j < n and s[i] == t[j]:\n",
        "                j += 1\n",
        "\n",
        "        return n - j\n",
        "\n",
        "solution = Solution()\n",
        "s = \"coaching\"\n",
        "t = \"coding\"\n",
        "result = solution.appendCharacters(s, t)\n",
        "print(result)\n"
      ]
    }
  ]
}