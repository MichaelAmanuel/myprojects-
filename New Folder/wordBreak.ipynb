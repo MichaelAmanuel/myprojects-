{
  "nbformat": 4,
  "nbformat_minor": 0,
  "metadata": {
    "colab": {
      "provenance": []
    },
    "kernelspec": {
      "name": "python3",
      "display_name": "Python 3"
    },
    "language_info": {
      "name": "python"
    }
  },
  "cells": [
    {
      "cell_type": "code",
      "execution_count": null,
      "metadata": {
        "id": "fE9g3RbCdx2K"
      },
      "outputs": [],
      "source": [
        "class Solution(object):\n",
        "    def wordBreak(self, s, wordDict):\n",
        "        def backtrack(start):\n",
        "            if start in memo:\n",
        "                return memo[start]\n",
        "            if start == len(s):\n",
        "                return [[]]\n",
        "\n",
        "            sentences = []\n",
        "            for end in range(start + 1, len(s) + 1):\n",
        "                word = s[start:end]\n",
        "                if word in wordDict:\n",
        "                    for subsentence in backtrack(end):\n",
        "                        sentences.append([word] + subsentence)\n",
        "\n",
        "            memo[start] = sentences\n",
        "            return sentences\n",
        "\n",
        "        wordDict = set(wordDict)\n",
        "        memo = {}\n",
        "        result = backtrack(0)\n",
        "        return [\" \".join(words) for words in result]\n",
        "\n",
        "solution = Solution()\n",
        "s = \"catsanddog\"\n",
        "wordDict = [\"cat\", \"cats\", \"and\", \"sand\", \"dog\"]\n",
        "result = solution.wordBreak(s, wordDict)\n",
        "print(result)"
      ]
    }
  ]
}