{
  "nbformat": 4,
  "nbformat_minor": 0,
  "metadata": {
    "colab": {
      "provenance": []
    },
    "kernelspec": {
      "name": "python3",
      "display_name": "Python 3"
    },
    "language_info": {
      "name": "python"
    }
  },
  "cells": [
    {
      "cell_type": "code",
      "execution_count": null,
      "metadata": {
        "id": "kQjWvHzXch44",
        "colab": {
          "base_uri": "https://localhost:8080/"
        },
        "outputId": "8648224c-b848-4020-ff90-eb74afb8af8d"
      },
      "outputs": [
        {
          "output_type": "stream",
          "name": "stdout",
          "text": [
            "|\n"
          ]
        }
      ],
      "source": [
        "class Solution(object):\n",
        "    def maxMoves(self, grid):\n",
        "        \"\"\"\n",
        "        :type grid: List[List[int]]\n",
        "        :rtype: int\n",
        "        \"\"\"\n",
        "        m, n = len(grid), len(grid[0])\n",
        "        memo = {}\n",
        "\n",
        "        def dfs(row, col):\n",
        "            if (row, col) in memo:\n",
        "                return memo[(row, col)]\n",
        "\n",
        "            max_moves = 0\n",
        "            for dr in [-1, 0, 1]:  # Check the three possible moves\n",
        "                new_row, new_col = row + dr, col + 1\n",
        "                if 0 <= new_row < m and new_col < n and grid[new_row][new_col] > grid[row][col]:\n",
        "                    max_moves = max(max_moves, 1 + dfs(new_row, new_col))\n",
        "\n",
        "            memo[(row, col)] = max_moves\n",
        "            return max_moves\n",
        "\n",
        "        result = 0\n",
        "        for i in range(m):\n",
        "            result = max(result, dfs(i, 0))\n",
        "\n",
        "        return result\n"
      ]
    }
  ]
}