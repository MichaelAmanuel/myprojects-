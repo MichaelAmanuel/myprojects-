{
  "nbformat": 4,
  "nbformat_minor": 0,
  "metadata": {
    "colab": {
      "provenance": []
    },
    "kernelspec": {
      "name": "python3",
      "display_name": "Python 3"
    },
    "language_info": {
      "name": "python"
    }
  },
  "cells": [
    {
      "cell_type": "code",
      "execution_count": null,
      "metadata": {
        "id": "DWWlz0xK1_Ub"
      },
      "outputs": [],
      "source": [
        "import math\n",
        "\n",
        "class Solution:\n",
        "    def judgeSquareSum(self, c):\n",
        "\n",
        "        left = 0\n",
        "        right = int(math.sqrt(c))\n",
        "\n",
        "        while left <= right:\n",
        "            current_sum = left * left + right * right\n",
        "            if current_sum == c:\n",
        "                return True\n",
        "            elif current_sum < c:\n",
        "                left += 1\n",
        "            else:\n",
        "                right -= 1\n",
        "\n",
        "        return False\n",
        "\n",
        "solution = Solution()\n",
        "c = 5\n",
        "print(solution.judgeSquareSum(c))"
      ]
    }
  ]
}