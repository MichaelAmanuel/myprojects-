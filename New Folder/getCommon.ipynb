{
  "nbformat": 4,
  "nbformat_minor": 0,
  "metadata": {
    "colab": {
      "provenance": []
    },
    "kernelspec": {
      "name": "python3",
      "display_name": "Python 3"
    },
    "language_info": {
      "name": "python"
    }
  },
  "cells": [
    {
      "cell_type": "code",
      "execution_count": 4,
      "metadata": {
        "colab": {
          "base_uri": "https://localhost:8080/"
        },
        "id": "hEv_URcykONw",
        "outputId": "7597336d-0fbd-49f7-9458-fb710bbe0761"
      },
      "outputs": [
        {
          "output_type": "stream",
          "name": "stdout",
          "text": [
            "2\n"
          ]
        }
      ],
      "source": [
        "class Solution(object):\n",
        "    def getCommon(self, nums1, nums2):\n",
        "\n",
        "      num1 = sorted(nums1)\n",
        "      num2 = sorted(nums2)\n",
        "\n",
        "      for i in num1:\n",
        "        if i in num2:\n",
        "          return i\n",
        "\n",
        "solution = Solution()\n",
        "nums1 = [1,2,3,6]\n",
        "nums2 = [2,3,4,5]\n",
        "print(solution.getCommon(nums1, nums2))"
      ]
    },
    {
      "cell_type": "code",
      "source": [
        "class Solution(object):\n",
        "    def getCommon(self, nums1, nums2):\n",
        "\n",
        "        result = sorted(set(nums1) & set(nums2))\n",
        "\n",
        "        if len(result) > 0:\n",
        "          return result[0]\n",
        "\n",
        "        else:\n",
        "          return -1\n",
        "\n",
        "solution = Solution()\n",
        "nums1 = [2, 4]\n",
        "nums2 = [1, 2]\n",
        "print(solution.getCommon(nums1, nums2))\n"
      ],
      "metadata": {
        "colab": {
          "base_uri": "https://localhost:8080/"
        },
        "id": "-Yr7AvT5l4xo",
        "outputId": "f5837aa1-1387-4ded-8f34-977a369cba3d"
      },
      "execution_count": 14,
      "outputs": [
        {
          "output_type": "stream",
          "name": "stdout",
          "text": [
            "2\n"
          ]
        }
      ]
    },
    {
      "cell_type": "code",
      "source": [],
      "metadata": {
        "id": "wEVpyuk4oxIf"
      },
      "execution_count": null,
      "outputs": []
    }
  ]
}