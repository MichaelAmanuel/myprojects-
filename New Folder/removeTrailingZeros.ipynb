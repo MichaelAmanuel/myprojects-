{
  "nbformat": 4,
  "nbformat_minor": 0,
  "metadata": {
    "colab": {
      "provenance": []
    },
    "kernelspec": {
      "name": "python3",
      "display_name": "Python 3"
    },
    "language_info": {
      "name": "python"
    }
  },
  "cells": [
    {
      "cell_type": "code",
      "execution_count": 21,
      "metadata": {
        "colab": {
          "base_uri": "https://localhost:8080/"
        },
        "id": "WBlZjGa4dWd8",
        "outputId": "597034e2-3f4c-4d1d-ba8d-a58f3f408ff4"
      },
      "outputs": [
        {
          "output_type": "stream",
          "name": "stdout",
          "text": [
            "123\n"
          ]
        }
      ],
      "source": [
        "class Solution(object):\n",
        "    def removeTrailingZeros(self, num):\n",
        "\n",
        "      count = 0\n",
        "      for i in reversed(num):\n",
        "        if i == \"0\":\n",
        "          count += 1\n",
        "        else:\n",
        "          break\n",
        "      return num if count == 0 else num[:-count]\n",
        "      return num[:-count]\n",
        "\n",
        "solution = Solution()\n",
        "num = \"123\"\n",
        "print(solution.removeTrailingZeros(num))"
      ]
    },
    {
      "cell_type": "code",
      "source": [],
      "metadata": {
        "id": "6WGRWb9PdZzw"
      },
      "execution_count": null,
      "outputs": []
    }
  ]
}