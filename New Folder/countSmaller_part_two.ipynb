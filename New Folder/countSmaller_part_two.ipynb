{
  "nbformat": 4,
  "nbformat_minor": 0,
  "metadata": {
    "colab": {
      "provenance": []
    },
    "kernelspec": {
      "name": "python3",
      "display_name": "Python 3"
    },
    "language_info": {
      "name": "python"
    }
  },
  "cells": [
    {
      "cell_type": "code",
      "execution_count": 15,
      "metadata": {
        "colab": {
          "base_uri": "https://localhost:8080/"
        },
        "id": "vxZTDsRWFgVr",
        "outputId": "860b634f-90bb-40b1-b597-1f62ae95bdf3"
      },
      "outputs": [
        {
          "output_type": "stream",
          "name": "stdout",
          "text": [
            "[2, 1, 1, 0]\n"
          ]
        }
      ],
      "source": [
        "class Solution(object):\n",
        "    def countSmaller(self, nums):\n",
        "\n",
        "      result = []\n",
        "      for i in range(len(nums)):\n",
        "        count = 0\n",
        "        for j in range(i+1, len(nums)):\n",
        "          if nums[j] < nums[i]:\n",
        "            count += 1\n",
        "        result.append(count)\n",
        "\n",
        "      return result\n",
        "\n",
        "solution = Solution()\n",
        "nums = [5,2,6,1]\n",
        "print(solution.countSmaller(nums))"
      ]
    },
    {
      "cell_type": "code",
      "source": [
        "class Solution(object):\n",
        "    def countSmaller(self, nums):\n",
        "\n",
        "        result = [0] * len(nums)\n",
        "        for i in range(len(nums) - 1, -1, -1):\n",
        "            count = 0\n",
        "            for j in range(i + 1, len(nums)):\n",
        "                if nums[j] < nums[i]:\n",
        "                    count += 1\n",
        "            result[i] = count\n",
        "\n",
        "        return result\n",
        "\n",
        "solution = Solution()\n",
        "nums = [5, 2, 6, 1]\n",
        "print(solution.countSmaller(nums))"
      ],
      "metadata": {
        "colab": {
          "base_uri": "https://localhost:8080/"
        },
        "id": "lzZwts7oJ0RE",
        "outputId": "831dc765-ba8b-4108-bf17-bc5e61aea6bc"
      },
      "execution_count": 17,
      "outputs": [
        {
          "output_type": "stream",
          "name": "stdout",
          "text": [
            "[2, 1, 1, 0]\n"
          ]
        }
      ]
    },
    {
      "cell_type": "code",
      "source": [
        "from bisect import bisect_left\n",
        "\n",
        "class Solution:\n",
        "    def countSmaller(self, nums):\n",
        "        result = [0] * len(nums)\n",
        "        sorted_nums = []\n",
        "\n",
        "        for i in range(len(nums) - 1, -1, -1):\n",
        "            insertion_index = bisect_left(sorted_nums, nums[i])\n",
        "            result[i] = insertion_index\n",
        "            sorted_nums.insert(insertion_index, nums[i])\n",
        "\n",
        "        return result\n",
        "\n",
        "\n",
        "nums = [5, 2, 6, 1]\n",
        "solution = Solution()\n",
        "print(solution.countSmaller(nums))\n"
      ],
      "metadata": {
        "colab": {
          "base_uri": "https://localhost:8080/"
        },
        "id": "wREUBxOIMi2J",
        "outputId": "462af118-47db-4e9a-a21d-4807f0072cbe"
      },
      "execution_count": 18,
      "outputs": [
        {
          "output_type": "stream",
          "name": "stdout",
          "text": [
            "[2, 1, 1, 0]\n"
          ]
        }
      ]
    },
    {
      "cell_type": "code",
      "source": [],
      "metadata": {
        "id": "A9pFI0AcMjV8"
      },
      "execution_count": null,
      "outputs": []
    }
  ]
}