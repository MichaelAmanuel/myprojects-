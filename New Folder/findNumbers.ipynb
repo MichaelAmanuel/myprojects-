{
  "nbformat": 4,
  "nbformat_minor": 0,
  "metadata": {
    "colab": {
      "provenance": []
    },
    "kernelspec": {
      "name": "python3",
      "display_name": "Python 3"
    },
    "language_info": {
      "name": "python"
    }
  },
  "cells": [
    {
      "cell_type": "code",
      "execution_count": 2,
      "metadata": {
        "colab": {
          "base_uri": "https://localhost:8080/"
        },
        "id": "kEREJTa6E5VY",
        "outputId": "720e6cce-b1eb-46a0-828a-4ed9372e8976"
      },
      "outputs": [
        {
          "output_type": "stream",
          "name": "stdout",
          "text": [
            "2\n"
          ]
        }
      ],
      "source": [
        "class Solution(object):\n",
        "    def findNumbers(self, nums):\n",
        "\n",
        "      count = 0\n",
        "\n",
        "      for i in nums:\n",
        "        if len(str(i)) % 2 == 0:\n",
        "          count += 1\n",
        "\n",
        "      return count\n",
        "\n",
        "solution = Solution()\n",
        "nums = [12,345,2,6,7896]\n",
        "print(solution.findNumbers(nums))"
      ]
    },
    {
      "cell_type": "code",
      "source": [],
      "metadata": {
        "id": "cBO8u_agFMWq"
      },
      "execution_count": null,
      "outputs": []
    }
  ]
}