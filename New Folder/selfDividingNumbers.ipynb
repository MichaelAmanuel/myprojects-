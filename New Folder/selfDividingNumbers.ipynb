{
  "nbformat": 4,
  "nbformat_minor": 0,
  "metadata": {
    "colab": {
      "provenance": []
    },
    "kernelspec": {
      "name": "python3",
      "display_name": "Python 3"
    },
    "language_info": {
      "name": "python"
    }
  },
  "cells": [
    {
      "cell_type": "code",
      "source": [
        "class Solution(object):\n",
        "    def selfDividingNumbers(self, left, right):\n",
        "\n",
        "      result = []\n",
        "\n",
        "      for i in range(left, right +1):\n",
        "        x = str(i)\n",
        "\n",
        "        if (len(x) > 1) and ('0' not in x):\n",
        "          count = 0\n",
        "          for j in x:\n",
        "            if (i % int(j) == 0):\n",
        "              count += 1\n",
        "          if count == len(x):\n",
        "            result.append(i)\n",
        "        else:\n",
        "          if '0' not in x:\n",
        "            result.append(i)\n",
        "\n",
        "      return result\n",
        "\n",
        "solution = Solution()\n",
        "left = 1\n",
        "right = 22\n",
        "print(solution.selfDividingNumbers(left, right))"
      ],
      "metadata": {
        "id": "M9oE5Rr4Ei5q",
        "colab": {
          "base_uri": "https://localhost:8080/"
        },
        "outputId": "13bc70f8-5baf-475b-d892-1b863dd2d035"
      },
      "execution_count": null,
      "outputs": [
        {
          "output_type": "stream",
          "name": "stdout",
          "text": [
            "[1, 2, 3, 4, 5, 6, 7, 8, 9, 11, 12, 15, 22]\n"
          ]
        }
      ]
    },
    {
      "cell_type": "code",
      "source": [
        "class Solution(object):\n",
        "    def selfDividingNumbers(self, left, right):\n",
        "\n",
        "      result = []\n",
        "\n",
        "      for i in range(left, right +1):\n",
        "        x = str(i)\n",
        "\n",
        "        if (len(x) > 1) and ('0' not in x):\n",
        "          count = 0\n",
        "          for j in x:\n",
        "            if (i % int(j) == 0):\n",
        "              count += 1\n",
        "          if count == len(x):\n",
        "            result.append(i)\n",
        "        else:\n",
        "          if '0' not in x:\n",
        "            result.append(i)\n",
        "\n",
        "      return result\n",
        "\n",
        "solution = Solution()\n",
        "left = 47\n",
        "right = 85\n",
        "print(solution.selfDividingNumbers(left, right))"
      ],
      "metadata": {
        "colab": {
          "base_uri": "https://localhost:8080/"
        },
        "id": "bO068hWN4cgW",
        "outputId": "3cac105e-1618-44c9-d8f9-a9a09b739af6"
      },
      "execution_count": null,
      "outputs": [
        {
          "output_type": "stream",
          "name": "stdout",
          "text": [
            "[48, 55, 66, 77]\n"
          ]
        }
      ]
    }
  ]
}