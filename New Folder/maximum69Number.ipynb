{
  "nbformat": 4,
  "nbformat_minor": 0,
  "metadata": {
    "colab": {
      "provenance": []
    },
    "kernelspec": {
      "name": "python3",
      "display_name": "Python 3"
    },
    "language_info": {
      "name": "python"
    }
  },
  "cells": [
    {
      "cell_type": "code",
      "execution_count": null,
      "metadata": {
        "id": "Ru6got50I0SF"
      },
      "outputs": [],
      "source": [
        "class Solution(object):\n",
        "    def maximum69Number (self, num):\n",
        "        str_num = str(num)\n",
        "        u = ''\n",
        "        x = []\n",
        "        for i in str_num:\n",
        "            x.append(i)\n",
        "        for j, n in zip(x, range(len(x))):\n",
        "            if j == '6':\n",
        "                x[n] = '9'\n",
        "                break\n",
        "        for k in x:\n",
        "            u += k\n",
        "        return int(u)\n",
        "\n",
        "solution = Solution()\n",
        "num = 9669\n",
        "result = solution.maximum69Number(num)\n",
        "print(result)"
      ]
    }
  ]
}