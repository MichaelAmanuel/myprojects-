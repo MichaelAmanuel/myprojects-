{
  "nbformat": 4,
  "nbformat_minor": 0,
  "metadata": {
    "colab": {
      "provenance": []
    },
    "kernelspec": {
      "name": "python3",
      "display_name": "Python 3"
    },
    "language_info": {
      "name": "python"
    }
  },
  "cells": [
    {
      "cell_type": "code",
      "execution_count": null,
      "metadata": {
        "id": "kQjWvHzXch44",
        "colab": {
          "base_uri": "https://localhost:8080/"
        },
        "outputId": "b3d22a1b-b78b-4e2c-8b8c-04590b83ce94"
      },
      "outputs": [
        {
          "output_type": "stream",
          "name": "stdout",
          "text": [
            "7\n"
          ]
        }
      ],
      "source": [
        "from collections import deque\n",
        "\n",
        "class Solution(object):\n",
        "    def slidingPuzzle(self, board):\n",
        "        target = \"123450\"\n",
        "        start = \"\".join(str(num) for row in board for num in row)\n",
        "        moves = {\n",
        "            0: [1, 3],\n",
        "            1: [0, 2, 4],\n",
        "            2: [1, 5],\n",
        "            3: [0, 4],\n",
        "            4: [1, 3, 5],\n",
        "            5: [2, 4]\n",
        "        }\n",
        "\n",
        "        visited = set()\n",
        "        queue = deque([(start, start.index('0'), 0)])  # (state, zero_index, steps)\n",
        "\n",
        "        while queue:\n",
        "            state, zero_idx, steps = queue.popleft()\n",
        "\n",
        "            if state == target:\n",
        "                return steps\n",
        "\n",
        "            if state in visited:\n",
        "                continue\n",
        "            visited.add(state)\n",
        "\n",
        "            for move in moves[zero_idx]:\n",
        "                new_state = list(state)\n",
        "                new_state[zero_idx], new_state[move] = new_state[move], new_state[zero_idx]\n",
        "                queue.append((\"\".join(new_state), move, steps + 1))\n",
        "\n",
        "        return -1\n"
      ]
    }
  ]
}