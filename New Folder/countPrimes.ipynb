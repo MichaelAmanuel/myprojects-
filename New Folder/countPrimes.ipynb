{
  "nbformat": 4,
  "nbformat_minor": 0,
  "metadata": {
    "colab": {
      "provenance": []
    },
    "kernelspec": {
      "name": "python3",
      "display_name": "Python 3"
    },
    "language_info": {
      "name": "python"
    }
  },
  "cells": [
    {
      "cell_type": "code",
      "execution_count": null,
      "metadata": {
        "id": "AUqTGj7UjlK8"
      },
      "outputs": [],
      "source": [
        "class Solution(object):\n",
        "    def countPrimes(self, n):\n",
        "      def prime(num):\n",
        "        cou = 0\n",
        "        for i in range(1,num):\n",
        "          if  num%i ==0:\n",
        "            cou += 1\n",
        "        return True if cou == 1 else False\n",
        "\n",
        "      if n == 0 and n==1:\n",
        "        return 0\n",
        "      count = 0\n",
        "      for i in range(2, n):\n",
        "        if  prime(i):\n",
        "          count += 1\n",
        "\n",
        "      return count\n",
        "\n",
        "solution = Solution()\n",
        "n = 49\n",
        "print(solution.countPrimes(n))"
      ]
    },
    {
      "cell_type": "code",
      "source": [
        "class Solution(object):\n",
        "    def countPrimes(self, n):\n",
        "      def is_prime(number):\n",
        "          for i in range(2, int(number**0.5) + 1):\n",
        "              if number % i == 0:\n",
        "                  return False\n",
        "          return True\n",
        "\n",
        "      if n == 0 and n==1:\n",
        "        return 0\n",
        "      count = 0\n",
        "      for i in range(2, n):\n",
        "        if is_prime(i):\n",
        "            count += 1\n",
        "      return count\n",
        "\n",
        "solution = Solution()\n",
        "n = 999983\n",
        "print(solution.countPrimes(n))"
      ],
      "metadata": {
        "id": "re0fC4D3jnoB"
      },
      "execution_count": null,
      "outputs": []
    }
  ]
}