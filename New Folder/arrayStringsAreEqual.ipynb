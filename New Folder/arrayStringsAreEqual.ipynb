{
  "nbformat": 4,
  "nbformat_minor": 0,
  "metadata": {
    "colab": {
      "provenance": []
    },
    "kernelspec": {
      "name": "python3",
      "display_name": "Python 3"
    },
    "language_info": {
      "name": "python"
    }
  },
  "cells": [
    {
      "cell_type": "code",
      "execution_count": null,
      "metadata": {
        "id": "ZmrGAVVjN6Lx"
      },
      "outputs": [],
      "source": [
        "class Solution(object):\n",
        "    def arrayStringsAreEqual(self, word1, word2):\n",
        "        word_1 = ''\n",
        "        for i in word1:\n",
        "            word_1 += ''.join(i)\n",
        "        word_2 = ''\n",
        "        for j in word2:\n",
        "            word_2 += ''.join(j)\n",
        "        if len(word_1) != len(word_2):\n",
        "            return False\n",
        "        for k, m in zip(word_1, word_2):\n",
        "            if k != m:\n",
        "                return False\n",
        "\n",
        "        return True\n",
        "\n",
        "solution = Solution()\n",
        "word1 = [\"abc\",\"d\",\"defg\"]\n",
        "word2 = [\"abcddef\"]\n",
        "print(solution.arrayStringsAreEqual(word1, word2))"
      ]
    }
  ]
}